{
  "cells": [
    {
      "attachments": {},
      "cell_type": "markdown",
      "metadata": {
        "id": "M7KYj8EtoPxZ"
      },
      "source": [
        "# Constants:"
      ]
    },
    {
      "cell_type": "code",
      "execution_count": 1,
      "metadata": {
        "id": "ZsusFSopoVfn"
      },
      "outputs": [],
      "source": [
        "SEQ_LEN = 180 #240   # how many past candles to use to predict\n",
        "CANDLES_SHIFT = 2 #5 # how many candles to shift between sequences\n",
        "NAME = \"4_m30_ov40th015p_shift2_seq180\"\n",
        "VALIDATION_PCT = 0.2"
      ]
    },
    {
      "attachments": {},
      "cell_type": "markdown",
      "metadata": {
        "id": "oSqPTNz-m5fo"
      },
      "source": [
        "# Functions:"
      ]
    },
    {
      "attachments": {},
      "cell_type": "markdown",
      "metadata": {
        "id": "1V8NN17CqWGA"
      },
      "source": [
        "sequence split"
      ]
    },
    {
      "cell_type": "code",
      "execution_count": 2,
      "metadata": {},
      "outputs": [],
      "source": [
        "import numpy as np\n",
        "\n",
        "def splitDf_new(df):\n",
        "    \n",
        "    res = []\n",
        "    print(\"\")\n",
        "    print(\"splitDf\")\n",
        "    while len(df) >= SEQ_LEN:\n",
        "        first = df.head(SEQ_LEN).copy()\n",
        "        first.index = np.arange(0, len(first))\n",
        "        res.append(first)\n",
        "        df = df.tail(len(df) - CANDLES_SHIFT)\n",
        "        df.index = np.arange(0, len(df))\n",
        "\n",
        "    print(\"-done\")\n",
        "    print(\"\")\n",
        "    return res"
      ]
    },
    {
      "attachments": {},
      "cell_type": "markdown",
      "metadata": {
        "id": "v84s4MzlrJex"
      },
      "source": [
        "balance"
      ]
    },
    {
      "cell_type": "code",
      "execution_count": 3,
      "metadata": {
        "id": "Hddt3uD8rLYE"
      },
      "outputs": [],
      "source": [
        "def balance(dfs):\n",
        "    \n",
        "    buys = []\n",
        "    sells = []\n",
        "    holds = []\n",
        "    for df in dfs:\n",
        "        if df.at[len(df)-1, 'target'] == 0:\n",
        "            sells.append(df)\n",
        "        elif df.at[len(df)-1, 'target'] == 1:\n",
        "            buys.append(df)\n",
        "        else:\n",
        "          holds.append(df)\n",
        "\n",
        "    print(\"before balancing:\")\n",
        "    print(\"buys:\", len(buys), \", sells:\", len(sells), \", holds:\", len(holds))\n",
        "\n",
        "    smallest = min(len(buys), len(sells), len(holds))\n",
        "    buys = buys[:smallest]\n",
        "    sells = sells[:smallest]\n",
        "    holds = holds[:smallest]\n",
        "\n",
        "    dfsBalanced = buys+sells+holds\n",
        "    return dfsBalanced"
      ]
    },
    {
      "attachments": {},
      "cell_type": "markdown",
      "metadata": {
        "id": "puLrLHQCr2IF"
      },
      "source": [
        "preprocessing"
      ]
    },
    {
      "cell_type": "code",
      "execution_count": 4,
      "metadata": {},
      "outputs": [],
      "source": [
        "from sklearn.preprocessing import StandardScaler\n",
        "\n",
        "\n",
        "# Function to preprocess data\n",
        "def preprocess3_train(df):\n",
        "    # before sequencing\n",
        "    #\n",
        "    # log and pctchange transform price columns ('low', 'high', 'open', 'close')\n",
        "    # scale every colum (center mean and unit variance)\n",
        "\n",
        "    scaler_dict = {}\n",
        "    for col in df.columns:\n",
        "        if col != 'target':\n",
        "            if col != 'quantity_baseUnits' and col != 'hl_percent':\n",
        "                df[col] = np.log(df[col])\n",
        "                df[col] = df[col].pct_change()\n",
        "                df.dropna(inplace=True)\n",
        "            scaler = StandardScaler()\n",
        "            df[col] = scaler.fit_transform(df[col].values.reshape(-1, 1))\n",
        "            scaler_dict[col] = scaler\n",
        "    df.index = np.arange(0, len(df))\n",
        "    return df, scaler_dict\n",
        "\n",
        "# Function to apply saved preprocessing to new data\n",
        "def apply_preprocess3_val(df, scaler_dict):\n",
        "    # before sequencing\n",
        "    #\n",
        "    # pct.change transform price columns ('low', 'high', 'open', 'close')\n",
        "    # scale every colum (center mean and unit variance)\n",
        "    \n",
        "    for col in df.columns:\n",
        "        if col != 'target':\n",
        "            if col != 'quantity_baseUnits' and col != 'hl_percent':\n",
        "                df[col] = np.log(df[col])\n",
        "                df[col] = df[col].pct_change()\n",
        "                df.dropna(inplace=True)\n",
        "            scaler = scaler_dict[col]\n",
        "            df[col] = scaler.transform(df[col].values.reshape(-1, 1))\n",
        "    df.index = np.arange(0, len(df))\n",
        "    return df"
      ]
    },
    {
      "attachments": {},
      "cell_type": "markdown",
      "metadata": {
        "id": "Mtk_1EDotEdd"
      },
      "source": [
        "sequences"
      ]
    },
    {
      "cell_type": "code",
      "execution_count": 5,
      "metadata": {
        "id": "U4r2br77tGf-"
      },
      "outputs": [],
      "source": [
        "def buildSequences(dfs):\n",
        "    \n",
        "    sequences = []\n",
        "    for df in dfs:\n",
        "        if(len(df) == SEQ_LEN):\n",
        "            label = df.at[SEQ_LEN-1, 'target']\n",
        "            df = df.iloc[:, :-1]\n",
        "            dfArray = df.values.tolist()\n",
        "            sequences.append([np.array(dfArray), label])\n",
        "    \n",
        "    return sequences"
      ]
    },
    {
      "attachments": {},
      "cell_type": "markdown",
      "metadata": {
        "id": "Dd640LH1tix2"
      },
      "source": [
        "X y split"
      ]
    },
    {
      "cell_type": "code",
      "execution_count": 6,
      "metadata": {
        "id": "4-HIbtKAtj-0"
      },
      "outputs": [],
      "source": [
        "def xySplit(seqWithTarget):\n",
        "\n",
        "    X = []\n",
        "    y = []\n",
        "    for seq, target in seqWithTarget:\n",
        "        X.append(seq)\n",
        "        y.append(target)\n",
        "\n",
        "    return np.array(X),np.array(y)"
      ]
    },
    {
      "attachments": {},
      "cell_type": "markdown",
      "metadata": {
        "id": "bBfc_4lKnYpv"
      },
      "source": [
        "# DF manipulation, build training sets:"
      ]
    },
    {
      "cell_type": "code",
      "execution_count": 7,
      "metadata": {},
      "outputs": [
        {
          "data": {
            "text/html": [
              "<div>\n",
              "<style scoped>\n",
              "    .dataframe tbody tr th:only-of-type {\n",
              "        vertical-align: middle;\n",
              "    }\n",
              "\n",
              "    .dataframe tbody tr th {\n",
              "        vertical-align: top;\n",
              "    }\n",
              "\n",
              "    .dataframe thead th {\n",
              "        text-align: right;\n",
              "    }\n",
              "</style>\n",
              "<table border=\"1\" class=\"dataframe\">\n",
              "  <thead>\n",
              "    <tr style=\"text-align: right;\">\n",
              "      <th></th>\n",
              "      <th>close</th>\n",
              "      <th>weightedAverage</th>\n",
              "      <th>hl_percent</th>\n",
              "      <th>quantity_baseUnits</th>\n",
              "      <th>target</th>\n",
              "    </tr>\n",
              "  </thead>\n",
              "  <tbody>\n",
              "    <tr>\n",
              "      <th>0</th>\n",
              "      <td>678.86</td>\n",
              "      <td>680.43</td>\n",
              "      <td>0.006774</td>\n",
              "      <td>10.651774</td>\n",
              "      <td>0</td>\n",
              "    </tr>\n",
              "    <tr>\n",
              "      <th>1</th>\n",
              "      <td>678.54</td>\n",
              "      <td>678.68</td>\n",
              "      <td>0.005044</td>\n",
              "      <td>6.966340</td>\n",
              "      <td>0</td>\n",
              "    </tr>\n",
              "    <tr>\n",
              "      <th>2</th>\n",
              "      <td>681.60</td>\n",
              "      <td>679.31</td>\n",
              "      <td>0.004811</td>\n",
              "      <td>9.486937</td>\n",
              "      <td>0</td>\n",
              "    </tr>\n",
              "    <tr>\n",
              "      <th>3</th>\n",
              "      <td>675.00</td>\n",
              "      <td>677.94</td>\n",
              "      <td>0.011018</td>\n",
              "      <td>14.400582</td>\n",
              "      <td>2</td>\n",
              "    </tr>\n",
              "    <tr>\n",
              "      <th>4</th>\n",
              "      <td>670.73</td>\n",
              "      <td>671.68</td>\n",
              "      <td>0.006326</td>\n",
              "      <td>35.396886</td>\n",
              "      <td>2</td>\n",
              "    </tr>\n",
              "    <tr>\n",
              "      <th>...</th>\n",
              "      <td>...</td>\n",
              "      <td>...</td>\n",
              "      <td>...</td>\n",
              "      <td>...</td>\n",
              "      <td>...</td>\n",
              "    </tr>\n",
              "    <tr>\n",
              "      <th>122671</th>\n",
              "      <td>30348.04</td>\n",
              "      <td>30379.52</td>\n",
              "      <td>0.003004</td>\n",
              "      <td>2.116099</td>\n",
              "      <td>0</td>\n",
              "    </tr>\n",
              "    <tr>\n",
              "      <th>122672</th>\n",
              "      <td>30388.37</td>\n",
              "      <td>30364.50</td>\n",
              "      <td>0.002573</td>\n",
              "      <td>1.236853</td>\n",
              "      <td>0</td>\n",
              "    </tr>\n",
              "    <tr>\n",
              "      <th>122673</th>\n",
              "      <td>30406.47</td>\n",
              "      <td>30403.91</td>\n",
              "      <td>0.001523</td>\n",
              "      <td>0.688637</td>\n",
              "      <td>0</td>\n",
              "    </tr>\n",
              "    <tr>\n",
              "      <th>122674</th>\n",
              "      <td>30426.45</td>\n",
              "      <td>30411.08</td>\n",
              "      <td>0.000850</td>\n",
              "      <td>0.838506</td>\n",
              "      <td>0</td>\n",
              "    </tr>\n",
              "    <tr>\n",
              "      <th>122675</th>\n",
              "      <td>30424.86</td>\n",
              "      <td>30426.49</td>\n",
              "      <td>0.001111</td>\n",
              "      <td>0.967142</td>\n",
              "      <td>0</td>\n",
              "    </tr>\n",
              "  </tbody>\n",
              "</table>\n",
              "<p>122676 rows × 5 columns</p>\n",
              "</div>"
            ],
            "text/plain": [
              "           close  weightedAverage  hl_percent  quantity_baseUnits  target\n",
              "0         678.86           680.43    0.006774           10.651774       0\n",
              "1         678.54           678.68    0.005044            6.966340       0\n",
              "2         681.60           679.31    0.004811            9.486937       0\n",
              "3         675.00           677.94    0.011018           14.400582       2\n",
              "4         670.73           671.68    0.006326           35.396886       2\n",
              "...          ...              ...         ...                 ...     ...\n",
              "122671  30348.04         30379.52    0.003004            2.116099       0\n",
              "122672  30388.37         30364.50    0.002573            1.236853       0\n",
              "122673  30406.47         30403.91    0.001523            0.688637       0\n",
              "122674  30426.45         30411.08    0.000850            0.838506       0\n",
              "122675  30424.86         30426.49    0.001111            0.967142       0\n",
              "\n",
              "[122676 rows x 5 columns]"
            ]
          },
          "execution_count": 7,
          "metadata": {},
          "output_type": "execute_result"
        }
      ],
      "source": [
        "import pandas as pd\n",
        "df = pd.read_csv(\"../historicalData/labeled/HistoricalDataLabeled_BTC_USDT_01072016_01072023_MINUTE_30_ov40_th015p.csv\")\n",
        "df = df[['close', 'weightedAverage', 'hl_percent', 'quantity_baseUnits', 'target']]\n",
        "df"
      ]
    },
    {
      "cell_type": "code",
      "execution_count": 8,
      "metadata": {},
      "outputs": [],
      "source": [
        "# Split data into train and validation sets\n",
        "train_size = int((1-VALIDATION_PCT) * len(df))\n",
        "train_df = df.iloc[:train_size].copy()\n",
        "val_df = df.iloc[train_size:].copy()"
      ]
    },
    {
      "cell_type": "code",
      "execution_count": 9,
      "metadata": {},
      "outputs": [],
      "source": [
        "# Preprocess the training data and save the scaling parameters\n",
        "train_df, scaler_dict = preprocess3_train(train_df)\n",
        "# Apply saved preprocessing to validation data\n",
        "val_df = apply_preprocess3_val(val_df, scaler_dict)"
      ]
    },
    {
      "attachments": {},
      "cell_type": "markdown",
      "metadata": {
        "id": "9h5xSZxbqNsz"
      },
      "source": [
        "split into dfs with SEQ_LEN rows"
      ]
    },
    {
      "cell_type": "code",
      "execution_count": 10,
      "metadata": {
        "colab": {
          "base_uri": "https://localhost:8080/"
        },
        "id": "31jTXjddn04r",
        "outputId": "125ce716-fa5f-4839-fabe-15765768da3e"
      },
      "outputs": [
        {
          "name": "stdout",
          "output_type": "stream",
          "text": [
            "\n",
            "splitDf\n",
            "-done\n",
            "\n",
            "\n",
            "splitDf\n",
            "-done\n",
            "\n"
          ]
        }
      ],
      "source": [
        "train_dfs = splitDf_new(train_df)\n",
        "val_dfs = splitDf_new(val_df)"
      ]
    },
    {
      "attachments": {},
      "cell_type": "markdown",
      "metadata": {
        "id": "Lo4KSJOxrAN0"
      },
      "source": [
        "balance buys/sells/holds"
      ]
    },
    {
      "cell_type": "code",
      "execution_count": 11,
      "metadata": {},
      "outputs": [
        {
          "name": "stdout",
          "output_type": "stream",
          "text": [
            "before balancing:\n",
            "buys: 16420 , sells: 15050 , holds: 17510\n",
            "before balancing:\n",
            "buys: 3633 , sells: 3748 , holds: 4797\n"
          ]
        }
      ],
      "source": [
        "# balance buys, sells, and holds\n",
        "import random\n",
        "\n",
        "random.shuffle(train_dfs)\n",
        "random.shuffle(val_dfs)\n",
        "train_dfs = balance(train_dfs)\n",
        "val_dfs = balance(val_dfs)\n",
        "random.shuffle(train_dfs)\n",
        "random.shuffle(val_dfs)"
      ]
    },
    {
      "attachments": {},
      "cell_type": "markdown",
      "metadata": {
        "id": "JleCIrlUs98K"
      },
      "source": [
        "build sequences"
      ]
    },
    {
      "cell_type": "code",
      "execution_count": 12,
      "metadata": {
        "colab": {
          "background_save": true
        },
        "id": "GToeQJ4Us_ll"
      },
      "outputs": [],
      "source": [
        "sequencesTraining = buildSequences(train_dfs)\n",
        "sequencesValidation = buildSequences(val_dfs)\n",
        "random.shuffle(sequencesTraining)\n",
        "random.shuffle(sequencesValidation)"
      ]
    },
    {
      "attachments": {},
      "cell_type": "markdown",
      "metadata": {
        "id": "G-ygYD9gtbMx"
      },
      "source": [
        "split sequence from label"
      ]
    },
    {
      "cell_type": "code",
      "execution_count": 13,
      "metadata": {
        "colab": {
          "background_save": true
        },
        "id": "3Cnkgt0utXt1"
      },
      "outputs": [],
      "source": [
        "train_x, train_y = xySplit(sequencesTraining)\n",
        "validation_x, validation_y = xySplit(sequencesValidation)"
      ]
    },
    {
      "cell_type": "code",
      "execution_count": 14,
      "metadata": {},
      "outputs": [
        {
          "name": "stdout",
          "output_type": "stream",
          "text": [
            "<class 'numpy.ndarray'>\n",
            "(45150, 180, 4)\n",
            "<class 'numpy.ndarray'>\n",
            "(10899, 180, 4)\n"
          ]
        }
      ],
      "source": [
        "print(type(train_x))\n",
        "print(train_x.shape)\n",
        "print(type(validation_x))\n",
        "print(validation_x.shape)"
      ]
    },
    {
      "cell_type": "code",
      "execution_count": 15,
      "metadata": {},
      "outputs": [],
      "source": [
        "import pickle\n",
        "\n",
        "with open(f'../trainData/{NAME}_train_x.pkl', 'wb') as file:\n",
        "    pickle.dump(train_x, file)\n",
        "with open(f'../trainData/{NAME}_train_y.pkl', 'wb') as file:\n",
        "    pickle.dump(train_y, file)\n",
        "with open(f'../trainData/{NAME}_validation_x.pkl', 'wb') as file:\n",
        "    pickle.dump(validation_x, file)\n",
        "with open(f'../trainData/{NAME}_validation_y.pkl', 'wb') as file:\n",
        "    pickle.dump(validation_y, file)"
      ]
    },
    {
      "cell_type": "code",
      "execution_count": 2,
      "metadata": {},
      "outputs": [],
      "source": [
        "import pickle\n",
        "\n",
        "with open(f\"../trainData/{NAME}_train_x.pkl\", \"rb\") as file:\n",
        "    train_x = pickle.load(file)\n",
        "with open(f\"../trainData/{NAME}_train_y.pkl\", \"rb\") as file:\n",
        "    train_y = pickle.load(file)\n",
        "with open(f\"../trainData/{NAME}_validation_x.pkl\", \"rb\") as file:\n",
        "    validation_x = pickle.load(file)\n",
        "with open(f\"../trainData/{NAME}_validation_y.pkl\", \"rb\") as file:\n",
        "    validation_y = pickle.load(file)"
      ]
    },
    {
      "attachments": {},
      "cell_type": "markdown",
      "metadata": {
        "id": "LXt32q1Tt39k"
      },
      "source": [
        "# Model:"
      ]
    },
    {
      "cell_type": "code",
      "execution_count": 16,
      "metadata": {},
      "outputs": [
        {
          "name": "stdout",
          "output_type": "stream",
          "text": [
            "Num GPUs Available:  1\n"
          ]
        }
      ],
      "source": [
        "import tensorflow as tf\n",
        "print(\"Num GPUs Available: \", len(tf.config.experimental.list_physical_devices('GPU')))\n"
      ]
    },
    {
      "attachments": {},
      "cell_type": "markdown",
      "metadata": {
        "id": "QNzTVj7Ue8Vg"
      },
      "source": [
        "hyper parameters bounds"
      ]
    },
    {
      "cell_type": "code",
      "execution_count": 17,
      "metadata": {
        "colab": {
          "background_save": true
        },
        "id": "mXBNmip7e7or"
      },
      "outputs": [],
      "source": [
        "EPOCHS = 120\n",
        "\n",
        "batchSize = 96\n",
        "layers = 2\n",
        "nodes = 64#256\n",
        "denseNodes = 32#128\n",
        "\n",
        "dropOut = 0.4#0.8 #0.92 #0.88\n",
        "rec_dropout = 0\n",
        "l1l2_reg = 0 #1e-5#1e-3\n",
        "\n",
        "learningRate = 0.00001\n",
        "decay = 0\n",
        "\n",
        "hp_suffix = f\"bs({batchSize})_layers({layers})_noded({nodes})_dNodes({denseNodes})_do({int(dropOut*100)}%)_recdo({rec_dropout})_l1l2({l1l2_reg})_lr({learningRate})_decay({decay})\""
      ]
    },
    {
      "cell_type": "code",
      "execution_count": 18,
      "metadata": {
        "id": "XYo0LRjEg2m4"
      },
      "outputs": [
        {
          "name": "stderr",
          "output_type": "stream",
          "text": [
            "c:\\Users\\Johannes\\miniconda3\\envs\\Quant\\lib\\site-packages\\tqdm\\auto.py:21: TqdmWarning: IProgress not found. Please update jupyter and ipywidgets. See https://ipywidgets.readthedocs.io/en/stable/user_install.html\n",
            "  from .autonotebook import tqdm as notebook_tqdm\n"
          ]
        },
        {
          "name": "stdout",
          "output_type": "stream",
          "text": [
            "WARNING:tensorflow:`period` argument is deprecated. Please use `save_freq` to specify the frequency in number of batches seen.\n"
          ]
        },
        {
          "name": "stderr",
          "output_type": "stream",
          "text": [
            "c:\\Users\\Johannes\\miniconda3\\envs\\Quant\\lib\\site-packages\\keras\\optimizers\\optimizer_v2\\adam.py:114: UserWarning: The `lr` argument is deprecated, use `learning_rate` instead.\n",
            "  super().__init__(name, **kwargs)\n",
            "  0%|          | 0/120 [00:00<?, ?epoch/s]"
          ]
        },
        {
          "name": "stdout",
          "output_type": "stream",
          "text": [
            "Epoch 1/120\n",
            "471/471 [==============================] - ETA: 0s - loss: 1.1011 - accuracy: 0.3404"
          ]
        },
        {
          "name": "stderr",
          "output_type": "stream",
          "text": [
            "  1%|          | 1/120 [00:13<26:30, 13.36s/epoch, loss=1.1, accuracy=0.34, val_loss=1.1, val_accuracy=0.381]"
          ]
        },
        {
          "name": "stdout",
          "output_type": "stream",
          "text": [
            "471/471 [==============================] - 13s 20ms/step - loss: 1.1011 - accuracy: 0.3404 - val_loss: 1.0957 - val_accuracy: 0.3808\n",
            "Epoch 2/120\n",
            "468/471 [============================>.] - ETA: 0s - loss: 1.0950 - accuracy: 0.3660"
          ]
        },
        {
          "name": "stderr",
          "output_type": "stream",
          "text": [
            "  2%|▏         | 2/120 [00:22<20:49, 10.59s/epoch, loss=1.09, accuracy=0.366, val_loss=1.09, val_accuracy=0.405]"
          ]
        },
        {
          "name": "stdout",
          "output_type": "stream",
          "text": [
            "471/471 [==============================] - 9s 18ms/step - loss: 1.0949 - accuracy: 0.3662 - val_loss: 1.0917 - val_accuracy: 0.4055\n",
            "Epoch 3/120\n",
            "468/471 [============================>.] - ETA: 0s - loss: 1.0902 - accuracy: 0.3822"
          ]
        },
        {
          "name": "stderr",
          "output_type": "stream",
          "text": [
            "  2%|▎         | 3/120 [00:30<18:55,  9.71s/epoch, loss=1.09, accuracy=0.382, val_loss=1.09, val_accuracy=0.426]"
          ]
        },
        {
          "name": "stdout",
          "output_type": "stream",
          "text": [
            "471/471 [==============================] - 9s 18ms/step - loss: 1.0902 - accuracy: 0.3822 - val_loss: 1.0870 - val_accuracy: 0.4263\n",
            "Epoch 4/120\n",
            "471/471 [==============================] - ETA: 0s - loss: 1.0836 - accuracy: 0.3978"
          ]
        },
        {
          "name": "stderr",
          "output_type": "stream",
          "text": [
            "  3%|▎         | 4/120 [00:39<17:59,  9.31s/epoch, loss=1.08, accuracy=0.398, val_loss=1.08, val_accuracy=0.431]"
          ]
        },
        {
          "name": "stdout",
          "output_type": "stream",
          "text": [
            "471/471 [==============================] - 9s 19ms/step - loss: 1.0836 - accuracy: 0.3978 - val_loss: 1.0801 - val_accuracy: 0.4310\n",
            "Epoch 5/120\n",
            "468/471 [============================>.] - ETA: 0s - loss: 1.0743 - accuracy: 0.4114"
          ]
        },
        {
          "name": "stderr",
          "output_type": "stream",
          "text": [
            "  4%|▍         | 5/120 [00:47<17:17,  9.02s/epoch, loss=1.07, accuracy=0.412, val_loss=1.07, val_accuracy=0.441]"
          ]
        },
        {
          "name": "stdout",
          "output_type": "stream",
          "text": [
            "471/471 [==============================] - 8s 18ms/step - loss: 1.0743 - accuracy: 0.4116 - val_loss: 1.0692 - val_accuracy: 0.4410\n",
            "Epoch 6/120\n",
            "469/471 [============================>.] - ETA: 0s - loss: 1.0642 - accuracy: 0.4218"
          ]
        },
        {
          "name": "stderr",
          "output_type": "stream",
          "text": [
            "  5%|▌         | 6/120 [00:56<16:36,  8.75s/epoch, loss=1.06, accuracy=0.422, val_loss=1.06, val_accuracy=0.46] "
          ]
        },
        {
          "name": "stdout",
          "output_type": "stream",
          "text": [
            "471/471 [==============================] - 8s 17ms/step - loss: 1.0643 - accuracy: 0.4217 - val_loss: 1.0576 - val_accuracy: 0.4600\n",
            "Epoch 7/120\n",
            "469/471 [============================>.] - ETA: 0s - loss: 1.0573 - accuracy: 0.4278"
          ]
        },
        {
          "name": "stderr",
          "output_type": "stream",
          "text": [
            "  6%|▌         | 7/120 [01:04<16:10,  8.59s/epoch, loss=1.06, accuracy=0.428, val_loss=1.05, val_accuracy=0.464]"
          ]
        },
        {
          "name": "stdout",
          "output_type": "stream",
          "text": [
            "471/471 [==============================] - 8s 18ms/step - loss: 1.0574 - accuracy: 0.4278 - val_loss: 1.0508 - val_accuracy: 0.4639\n",
            "Epoch 8/120\n",
            "471/471 [==============================] - ETA: 0s - loss: 1.0537 - accuracy: 0.4346"
          ]
        },
        {
          "name": "stderr",
          "output_type": "stream",
          "text": [
            "  7%|▋         | 8/120 [01:12<15:53,  8.52s/epoch, loss=1.05, accuracy=0.435, val_loss=1.05, val_accuracy=0.459]"
          ]
        },
        {
          "name": "stdout",
          "output_type": "stream",
          "text": [
            "471/471 [==============================] - 8s 18ms/step - loss: 1.0537 - accuracy: 0.4346 - val_loss: 1.0472 - val_accuracy: 0.4591\n",
            "Epoch 9/120\n",
            "469/471 [============================>.] - ETA: 0s - loss: 1.0511 - accuracy: 0.4366"
          ]
        },
        {
          "name": "stderr",
          "output_type": "stream",
          "text": [
            "  8%|▊         | 9/120 [01:20<15:36,  8.44s/epoch, loss=1.05, accuracy=0.437, val_loss=1.04, val_accuracy=0.463]"
          ]
        },
        {
          "name": "stdout",
          "output_type": "stream",
          "text": [
            "471/471 [==============================] - 8s 18ms/step - loss: 1.0511 - accuracy: 0.4367 - val_loss: 1.0442 - val_accuracy: 0.4633\n",
            "Epoch 10/120\n",
            "468/471 [============================>.] - ETA: 0s - loss: 1.0507 - accuracy: 0.4381"
          ]
        },
        {
          "name": "stderr",
          "output_type": "stream",
          "text": [
            "  8%|▊         | 10/120 [01:29<15:22,  8.38s/epoch, loss=1.05, accuracy=0.438, val_loss=1.04, val_accuracy=0.464]"
          ]
        },
        {
          "name": "stdout",
          "output_type": "stream",
          "text": [
            "471/471 [==============================] - 8s 18ms/step - loss: 1.0505 - accuracy: 0.4383 - val_loss: 1.0419 - val_accuracy: 0.4644\n",
            "Epoch 11/120\n",
            "470/471 [============================>.] - ETA: 0s - loss: 1.0489 - accuracy: 0.4374"
          ]
        },
        {
          "name": "stderr",
          "output_type": "stream",
          "text": [
            "  9%|▉         | 11/120 [01:37<15:04,  8.30s/epoch, loss=1.05, accuracy=0.437, val_loss=1.04, val_accuracy=0.461]"
          ]
        },
        {
          "name": "stdout",
          "output_type": "stream",
          "text": [
            "471/471 [==============================] - 8s 17ms/step - loss: 1.0489 - accuracy: 0.4375 - val_loss: 1.0399 - val_accuracy: 0.4613\n",
            "Epoch 12/120\n",
            "470/471 [============================>.] - ETA: 0s - loss: 1.0464 - accuracy: 0.4416"
          ]
        },
        {
          "name": "stderr",
          "output_type": "stream",
          "text": [
            " 10%|█         | 12/120 [01:45<14:48,  8.22s/epoch, loss=1.05, accuracy=0.442, val_loss=1.04, val_accuracy=0.458]"
          ]
        },
        {
          "name": "stdout",
          "output_type": "stream",
          "text": [
            "471/471 [==============================] - 8s 17ms/step - loss: 1.0464 - accuracy: 0.4415 - val_loss: 1.0382 - val_accuracy: 0.4585\n",
            "Epoch 13/120\n",
            "469/471 [============================>.] - ETA: 0s - loss: 1.0457 - accuracy: 0.4437"
          ]
        },
        {
          "name": "stderr",
          "output_type": "stream",
          "text": [
            " 11%|█         | 13/120 [01:53<14:38,  8.21s/epoch, loss=1.05, accuracy=0.444, val_loss=1.04, val_accuracy=0.463]"
          ]
        },
        {
          "name": "stdout",
          "output_type": "stream",
          "text": [
            "471/471 [==============================] - 8s 17ms/step - loss: 1.0457 - accuracy: 0.4439 - val_loss: 1.0367 - val_accuracy: 0.4626\n",
            "Epoch 14/120\n",
            "470/471 [============================>.] - ETA: 0s - loss: 1.0450 - accuracy: 0.4455"
          ]
        },
        {
          "name": "stderr",
          "output_type": "stream",
          "text": [
            " 12%|█▏        | 14/120 [02:01<14:23,  8.15s/epoch, loss=1.05, accuracy=0.445, val_loss=1.04, val_accuracy=0.461]"
          ]
        },
        {
          "name": "stdout",
          "output_type": "stream",
          "text": [
            "471/471 [==============================] - 8s 17ms/step - loss: 1.0450 - accuracy: 0.4454 - val_loss: 1.0354 - val_accuracy: 0.4606\n",
            "Epoch 15/120\n",
            "471/471 [==============================] - ETA: 0s - loss: 1.0442 - accuracy: 0.4433"
          ]
        },
        {
          "name": "stderr",
          "output_type": "stream",
          "text": [
            " 12%|█▎        | 15/120 [02:09<14:01,  8.01s/epoch, loss=1.04, accuracy=0.443, val_loss=1.03, val_accuracy=0.459]"
          ]
        },
        {
          "name": "stdout",
          "output_type": "stream",
          "text": [
            "471/471 [==============================] - 8s 16ms/step - loss: 1.0442 - accuracy: 0.4433 - val_loss: 1.0342 - val_accuracy: 0.4589\n",
            "Epoch 16/120\n",
            "468/471 [============================>.] - ETA: 0s - loss: 1.0422 - accuracy: 0.4472"
          ]
        },
        {
          "name": "stderr",
          "output_type": "stream",
          "text": [
            " 13%|█▎        | 16/120 [02:16<13:41,  7.90s/epoch, loss=1.04, accuracy=0.447, val_loss=1.03, val_accuracy=0.458]"
          ]
        },
        {
          "name": "stdout",
          "output_type": "stream",
          "text": [
            "471/471 [==============================] - 8s 16ms/step - loss: 1.0422 - accuracy: 0.4474 - val_loss: 1.0334 - val_accuracy: 0.4583\n",
            "Epoch 17/120\n",
            "468/471 [============================>.] - ETA: 0s - loss: 1.0420 - accuracy: 0.4478"
          ]
        },
        {
          "name": "stderr",
          "output_type": "stream",
          "text": [
            " 14%|█▍        | 17/120 [02:24<13:27,  7.84s/epoch, loss=1.04, accuracy=0.448, val_loss=1.03, val_accuracy=0.461]"
          ]
        },
        {
          "name": "stdout",
          "output_type": "stream",
          "text": [
            "471/471 [==============================] - 8s 16ms/step - loss: 1.0420 - accuracy: 0.4479 - val_loss: 1.0319 - val_accuracy: 0.4607\n",
            "Epoch 18/120\n",
            "468/471 [============================>.] - ETA: 0s - loss: 1.0405 - accuracy: 0.4491"
          ]
        },
        {
          "name": "stderr",
          "output_type": "stream",
          "text": [
            " 15%|█▌        | 18/120 [02:32<13:16,  7.81s/epoch, loss=1.04, accuracy=0.449, val_loss=1.03, val_accuracy=0.459]"
          ]
        },
        {
          "name": "stdout",
          "output_type": "stream",
          "text": [
            "471/471 [==============================] - 8s 16ms/step - loss: 1.0404 - accuracy: 0.4494 - val_loss: 1.0312 - val_accuracy: 0.4591\n",
            "Epoch 19/120\n",
            "469/471 [============================>.] - ETA: 0s - loss: 1.0392 - accuracy: 0.4516"
          ]
        },
        {
          "name": "stderr",
          "output_type": "stream",
          "text": [
            " 16%|█▌        | 19/120 [02:40<13:06,  7.78s/epoch, loss=1.04, accuracy=0.452, val_loss=1.03, val_accuracy=0.461]"
          ]
        },
        {
          "name": "stdout",
          "output_type": "stream",
          "text": [
            "471/471 [==============================] - 8s 16ms/step - loss: 1.0391 - accuracy: 0.4517 - val_loss: 1.0303 - val_accuracy: 0.4610\n",
            "Epoch 20/120\n",
            "469/471 [============================>.] - ETA: 0s - loss: 1.0394 - accuracy: 0.4500"
          ]
        },
        {
          "name": "stderr",
          "output_type": "stream",
          "text": [
            " 17%|█▋        | 20/120 [02:47<13:00,  7.80s/epoch, loss=1.04, accuracy=0.45, val_loss=1.03, val_accuracy=0.463] "
          ]
        },
        {
          "name": "stdout",
          "output_type": "stream",
          "text": [
            "471/471 [==============================] - 8s 17ms/step - loss: 1.0395 - accuracy: 0.4497 - val_loss: 1.0291 - val_accuracy: 0.4628\n",
            "Epoch 21/120\n",
            "470/471 [============================>.] - ETA: 0s - loss: 1.0383 - accuracy: 0.4535"
          ]
        },
        {
          "name": "stderr",
          "output_type": "stream",
          "text": [
            " 18%|█▊        | 21/120 [02:55<12:54,  7.82s/epoch, loss=1.04, accuracy=0.454, val_loss=1.03, val_accuracy=0.461]"
          ]
        },
        {
          "name": "stdout",
          "output_type": "stream",
          "text": [
            "471/471 [==============================] - 8s 17ms/step - loss: 1.0383 - accuracy: 0.4535 - val_loss: 1.0282 - val_accuracy: 0.4614\n",
            "Epoch 22/120\n",
            "470/471 [============================>.] - ETA: 0s - loss: 1.0378 - accuracy: 0.4516"
          ]
        },
        {
          "name": "stderr",
          "output_type": "stream",
          "text": [
            " 18%|█▊        | 22/120 [03:03<12:56,  7.92s/epoch, loss=1.04, accuracy=0.452, val_loss=1.03, val_accuracy=0.462]"
          ]
        },
        {
          "name": "stdout",
          "output_type": "stream",
          "text": [
            "471/471 [==============================] - 8s 17ms/step - loss: 1.0378 - accuracy: 0.4516 - val_loss: 1.0276 - val_accuracy: 0.4617\n",
            "Epoch 23/120\n",
            "468/471 [============================>.] - ETA: 0s - loss: 1.0363 - accuracy: 0.4515"
          ]
        },
        {
          "name": "stderr",
          "output_type": "stream",
          "text": [
            " 19%|█▉        | 23/120 [03:11<12:41,  7.85s/epoch, loss=1.04, accuracy=0.452, val_loss=1.03, val_accuracy=0.462]"
          ]
        },
        {
          "name": "stdout",
          "output_type": "stream",
          "text": [
            "471/471 [==============================] - 8s 16ms/step - loss: 1.0362 - accuracy: 0.4518 - val_loss: 1.0268 - val_accuracy: 0.4616\n",
            "Epoch 24/120\n",
            "471/471 [==============================] - ETA: 0s - loss: 1.0347 - accuracy: 0.4553"
          ]
        },
        {
          "name": "stderr",
          "output_type": "stream",
          "text": [
            " 20%|██        | 24/120 [03:19<12:27,  7.78s/epoch, loss=1.03, accuracy=0.455, val_loss=1.03, val_accuracy=0.463]"
          ]
        },
        {
          "name": "stdout",
          "output_type": "stream",
          "text": [
            "471/471 [==============================] - 8s 16ms/step - loss: 1.0347 - accuracy: 0.4553 - val_loss: 1.0265 - val_accuracy: 0.4628\n",
            "Epoch 25/120\n",
            "468/471 [============================>.] - ETA: 0s - loss: 1.0342 - accuracy: 0.4527"
          ]
        },
        {
          "name": "stderr",
          "output_type": "stream",
          "text": [
            " 21%|██        | 25/120 [03:26<12:13,  7.72s/epoch, loss=1.03, accuracy=0.452, val_loss=1.03, val_accuracy=0.463]"
          ]
        },
        {
          "name": "stdout",
          "output_type": "stream",
          "text": [
            "471/471 [==============================] - 8s 16ms/step - loss: 1.0346 - accuracy: 0.4523 - val_loss: 1.0251 - val_accuracy: 0.4633\n",
            "Epoch 26/120\n",
            "468/471 [============================>.] - ETA: 0s - loss: 1.0346 - accuracy: 0.4577"
          ]
        },
        {
          "name": "stderr",
          "output_type": "stream",
          "text": [
            " 22%|██▏       | 26/120 [03:34<12:03,  7.69s/epoch, loss=1.03, accuracy=0.458, val_loss=1.02, val_accuracy=0.465]"
          ]
        },
        {
          "name": "stdout",
          "output_type": "stream",
          "text": [
            "471/471 [==============================] - 8s 16ms/step - loss: 1.0345 - accuracy: 0.4577 - val_loss: 1.0246 - val_accuracy: 0.4652\n",
            "Epoch 27/120\n",
            "469/471 [============================>.] - ETA: 0s - loss: 1.0333 - accuracy: 0.4568"
          ]
        },
        {
          "name": "stderr",
          "output_type": "stream",
          "text": [
            " 22%|██▎       | 27/120 [03:41<11:50,  7.64s/epoch, loss=1.03, accuracy=0.457, val_loss=1.02, val_accuracy=0.465]"
          ]
        },
        {
          "name": "stdout",
          "output_type": "stream",
          "text": [
            "471/471 [==============================] - 8s 16ms/step - loss: 1.0333 - accuracy: 0.4568 - val_loss: 1.0243 - val_accuracy: 0.4647\n",
            "Epoch 28/120\n",
            "468/471 [============================>.] - ETA: 0s - loss: 1.0338 - accuracy: 0.4566"
          ]
        },
        {
          "name": "stderr",
          "output_type": "stream",
          "text": [
            " 23%|██▎       | 28/120 [03:49<11:43,  7.64s/epoch, loss=1.03, accuracy=0.457, val_loss=1.02, val_accuracy=0.466]"
          ]
        },
        {
          "name": "stdout",
          "output_type": "stream",
          "text": [
            "471/471 [==============================] - 8s 16ms/step - loss: 1.0339 - accuracy: 0.4566 - val_loss: 1.0239 - val_accuracy: 0.4658\n",
            "Epoch 29/120\n",
            "468/471 [============================>.] - ETA: 0s - loss: 1.0326 - accuracy: 0.4569"
          ]
        },
        {
          "name": "stderr",
          "output_type": "stream",
          "text": [
            " 24%|██▍       | 29/120 [03:57<11:37,  7.67s/epoch, loss=1.03, accuracy=0.457, val_loss=1.02, val_accuracy=0.465]"
          ]
        },
        {
          "name": "stdout",
          "output_type": "stream",
          "text": [
            "471/471 [==============================] - 8s 16ms/step - loss: 1.0326 - accuracy: 0.4569 - val_loss: 1.0235 - val_accuracy: 0.4653\n",
            "Epoch 30/120\n",
            "468/471 [============================>.] - ETA: 0s - loss: 1.0323 - accuracy: 0.4549"
          ]
        },
        {
          "name": "stderr",
          "output_type": "stream",
          "text": [
            " 25%|██▌       | 30/120 [04:05<11:31,  7.68s/epoch, loss=1.03, accuracy=0.455, val_loss=1.02, val_accuracy=0.463]"
          ]
        },
        {
          "name": "stdout",
          "output_type": "stream",
          "text": [
            "471/471 [==============================] - 8s 16ms/step - loss: 1.0321 - accuracy: 0.4552 - val_loss: 1.0232 - val_accuracy: 0.4631\n",
            "Epoch 31/120\n",
            "468/471 [============================>.] - ETA: 0s - loss: 1.0301 - accuracy: 0.4595"
          ]
        },
        {
          "name": "stderr",
          "output_type": "stream",
          "text": [
            " 26%|██▌       | 31/120 [04:12<11:23,  7.68s/epoch, loss=1.03, accuracy=0.46, val_loss=1.02, val_accuracy=0.466] "
          ]
        },
        {
          "name": "stdout",
          "output_type": "stream",
          "text": [
            "471/471 [==============================] - 8s 16ms/step - loss: 1.0300 - accuracy: 0.4598 - val_loss: 1.0225 - val_accuracy: 0.4655\n",
            "Epoch 32/120\n",
            "471/471 [==============================] - ETA: 0s - loss: 1.0291 - accuracy: 0.4621"
          ]
        },
        {
          "name": "stderr",
          "output_type": "stream",
          "text": [
            " 27%|██▋       | 32/120 [04:20<11:17,  7.69s/epoch, loss=1.03, accuracy=0.462, val_loss=1.02, val_accuracy=0.464]"
          ]
        },
        {
          "name": "stdout",
          "output_type": "stream",
          "text": [
            "471/471 [==============================] - 8s 16ms/step - loss: 1.0291 - accuracy: 0.4621 - val_loss: 1.0223 - val_accuracy: 0.4643\n",
            "Epoch 33/120\n",
            "468/471 [============================>.] - ETA: 0s - loss: 1.0298 - accuracy: 0.4600"
          ]
        },
        {
          "name": "stderr",
          "output_type": "stream",
          "text": [
            " 28%|██▊       | 33/120 [04:28<11:09,  7.69s/epoch, loss=1.03, accuracy=0.46, val_loss=1.02, val_accuracy=0.464] "
          ]
        },
        {
          "name": "stdout",
          "output_type": "stream",
          "text": [
            "471/471 [==============================] - 8s 16ms/step - loss: 1.0297 - accuracy: 0.4600 - val_loss: 1.0218 - val_accuracy: 0.4643\n",
            "Epoch 34/120\n",
            "469/471 [============================>.] - ETA: 0s - loss: 1.0284 - accuracy: 0.4596"
          ]
        },
        {
          "name": "stderr",
          "output_type": "stream",
          "text": [
            " 28%|██▊       | 34/120 [04:35<10:58,  7.65s/epoch, loss=1.03, accuracy=0.46, val_loss=1.02, val_accuracy=0.465]"
          ]
        },
        {
          "name": "stdout",
          "output_type": "stream",
          "text": [
            "471/471 [==============================] - 8s 16ms/step - loss: 1.0283 - accuracy: 0.4597 - val_loss: 1.0215 - val_accuracy: 0.4652\n",
            "Epoch 35/120\n",
            "471/471 [==============================] - ETA: 0s - loss: 1.0290 - accuracy: 0.4620"
          ]
        },
        {
          "name": "stderr",
          "output_type": "stream",
          "text": [
            " 29%|██▉       | 35/120 [04:43<10:48,  7.63s/epoch, loss=1.03, accuracy=0.462, val_loss=1.02, val_accuracy=0.465]"
          ]
        },
        {
          "name": "stdout",
          "output_type": "stream",
          "text": [
            "471/471 [==============================] - 8s 16ms/step - loss: 1.0290 - accuracy: 0.4620 - val_loss: 1.0213 - val_accuracy: 0.4653\n",
            "Epoch 36/120\n",
            "469/471 [============================>.] - ETA: 0s - loss: 1.0280 - accuracy: 0.4595"
          ]
        },
        {
          "name": "stderr",
          "output_type": "stream",
          "text": [
            " 30%|███       | 36/120 [04:50<10:41,  7.63s/epoch, loss=1.03, accuracy=0.459, val_loss=1.02, val_accuracy=0.465]"
          ]
        },
        {
          "name": "stdout",
          "output_type": "stream",
          "text": [
            "471/471 [==============================] - 8s 16ms/step - loss: 1.0280 - accuracy: 0.4594 - val_loss: 1.0211 - val_accuracy: 0.4645\n",
            "Epoch 37/120\n",
            "469/471 [============================>.] - ETA: 0s - loss: 1.0294 - accuracy: 0.4617"
          ]
        },
        {
          "name": "stderr",
          "output_type": "stream",
          "text": [
            " 31%|███       | 37/120 [04:58<10:34,  7.64s/epoch, loss=1.03, accuracy=0.462, val_loss=1.02, val_accuracy=0.465]"
          ]
        },
        {
          "name": "stdout",
          "output_type": "stream",
          "text": [
            "471/471 [==============================] - 8s 16ms/step - loss: 1.0294 - accuracy: 0.4619 - val_loss: 1.0209 - val_accuracy: 0.4645\n",
            "Epoch 38/120\n",
            "471/471 [==============================] - ETA: 0s - loss: 1.0283 - accuracy: 0.4604"
          ]
        },
        {
          "name": "stderr",
          "output_type": "stream",
          "text": [
            " 32%|███▏      | 38/120 [05:06<10:27,  7.66s/epoch, loss=1.03, accuracy=0.46, val_loss=1.02, val_accuracy=0.467] "
          ]
        },
        {
          "name": "stdout",
          "output_type": "stream",
          "text": [
            "471/471 [==============================] - 8s 16ms/step - loss: 1.0283 - accuracy: 0.4604 - val_loss: 1.0208 - val_accuracy: 0.4668\n",
            "Epoch 39/120\n",
            "470/471 [============================>.] - ETA: 0s - loss: 1.0278 - accuracy: 0.4609"
          ]
        },
        {
          "name": "stderr",
          "output_type": "stream",
          "text": [
            " 32%|███▎      | 39/120 [05:13<10:20,  7.66s/epoch, loss=1.03, accuracy=0.461, val_loss=1.02, val_accuracy=0.462]"
          ]
        },
        {
          "name": "stdout",
          "output_type": "stream",
          "text": [
            "471/471 [==============================] - 8s 16ms/step - loss: 1.0278 - accuracy: 0.4609 - val_loss: 1.0207 - val_accuracy: 0.4624\n",
            "Epoch 40/120\n",
            "470/471 [============================>.] - ETA: 0s - loss: 1.0267 - accuracy: 0.4617"
          ]
        },
        {
          "name": "stderr",
          "output_type": "stream",
          "text": [
            " 33%|███▎      | 40/120 [05:21<10:12,  7.66s/epoch, loss=1.03, accuracy=0.462, val_loss=1.02, val_accuracy=0.463]"
          ]
        },
        {
          "name": "stdout",
          "output_type": "stream",
          "text": [
            "471/471 [==============================] - 8s 16ms/step - loss: 1.0267 - accuracy: 0.4616 - val_loss: 1.0203 - val_accuracy: 0.4634\n",
            "Epoch 41/120\n",
            "469/471 [============================>.] - ETA: 0s - loss: 1.0272 - accuracy: 0.4606"
          ]
        },
        {
          "name": "stderr",
          "output_type": "stream",
          "text": [
            " 34%|███▍      | 41/120 [05:29<10:04,  7.66s/epoch, loss=1.03, accuracy=0.461, val_loss=1.02, val_accuracy=0.463]"
          ]
        },
        {
          "name": "stdout",
          "output_type": "stream",
          "text": [
            "471/471 [==============================] - 8s 16ms/step - loss: 1.0272 - accuracy: 0.4606 - val_loss: 1.0201 - val_accuracy: 0.4633\n",
            "Epoch 42/120\n",
            "468/471 [============================>.] - ETA: 0s - loss: 1.0267 - accuracy: 0.4640"
          ]
        },
        {
          "name": "stderr",
          "output_type": "stream",
          "text": [
            " 35%|███▌      | 42/120 [05:36<09:58,  7.67s/epoch, loss=1.03, accuracy=0.464, val_loss=1.02, val_accuracy=0.464]"
          ]
        },
        {
          "name": "stdout",
          "output_type": "stream",
          "text": [
            "471/471 [==============================] - 8s 16ms/step - loss: 1.0268 - accuracy: 0.4640 - val_loss: 1.0201 - val_accuracy: 0.4640\n",
            "Epoch 43/120\n",
            "469/471 [============================>.] - ETA: 0s - loss: 1.0256 - accuracy: 0.4633"
          ]
        },
        {
          "name": "stderr",
          "output_type": "stream",
          "text": [
            " 36%|███▌      | 43/120 [05:44<09:50,  7.67s/epoch, loss=1.03, accuracy=0.463, val_loss=1.02, val_accuracy=0.463]"
          ]
        },
        {
          "name": "stdout",
          "output_type": "stream",
          "text": [
            "471/471 [==============================] - 8s 16ms/step - loss: 1.0256 - accuracy: 0.4633 - val_loss: 1.0202 - val_accuracy: 0.4631\n",
            "Epoch 44/120\n",
            "469/471 [============================>.] - ETA: 0s - loss: 1.0252 - accuracy: 0.4609"
          ]
        },
        {
          "name": "stderr",
          "output_type": "stream",
          "text": [
            " 37%|███▋      | 44/120 [05:52<09:42,  7.66s/epoch, loss=1.03, accuracy=0.461, val_loss=1.02, val_accuracy=0.463]"
          ]
        },
        {
          "name": "stdout",
          "output_type": "stream",
          "text": [
            "471/471 [==============================] - 8s 16ms/step - loss: 1.0253 - accuracy: 0.4608 - val_loss: 1.0198 - val_accuracy: 0.4628\n",
            "Epoch 45/120\n",
            "469/471 [============================>.] - ETA: 0s - loss: 1.0249 - accuracy: 0.4634"
          ]
        },
        {
          "name": "stderr",
          "output_type": "stream",
          "text": [
            " 38%|███▊      | 45/120 [05:59<09:34,  7.66s/epoch, loss=1.02, accuracy=0.463, val_loss=1.02, val_accuracy=0.461]"
          ]
        },
        {
          "name": "stdout",
          "output_type": "stream",
          "text": [
            "471/471 [==============================] - 8s 16ms/step - loss: 1.0248 - accuracy: 0.4635 - val_loss: 1.0195 - val_accuracy: 0.4613\n",
            "Epoch 46/120\n",
            "471/471 [==============================] - ETA: 0s - loss: 1.0246 - accuracy: 0.4639"
          ]
        },
        {
          "name": "stderr",
          "output_type": "stream",
          "text": [
            " 38%|███▊      | 46/120 [06:07<09:26,  7.66s/epoch, loss=1.02, accuracy=0.464, val_loss=1.02, val_accuracy=0.464]"
          ]
        },
        {
          "name": "stdout",
          "output_type": "stream",
          "text": [
            "471/471 [==============================] - 8s 16ms/step - loss: 1.0246 - accuracy: 0.4639 - val_loss: 1.0195 - val_accuracy: 0.4640\n",
            "Epoch 47/120\n",
            "471/471 [==============================] - ETA: 0s - loss: 1.0239 - accuracy: 0.4641"
          ]
        },
        {
          "name": "stderr",
          "output_type": "stream",
          "text": [
            " 39%|███▉      | 47/120 [06:15<09:18,  7.65s/epoch, loss=1.02, accuracy=0.464, val_loss=1.02, val_accuracy=0.463]"
          ]
        },
        {
          "name": "stdout",
          "output_type": "stream",
          "text": [
            "471/471 [==============================] - 8s 16ms/step - loss: 1.0239 - accuracy: 0.4641 - val_loss: 1.0191 - val_accuracy: 0.4626\n",
            "Epoch 48/120\n",
            "471/471 [==============================] - ETA: 0s - loss: 1.0229 - accuracy: 0.4635"
          ]
        },
        {
          "name": "stderr",
          "output_type": "stream",
          "text": [
            " 40%|████      | 48/120 [06:22<09:12,  7.68s/epoch, loss=1.02, accuracy=0.464, val_loss=1.02, val_accuracy=0.462]"
          ]
        },
        {
          "name": "stdout",
          "output_type": "stream",
          "text": [
            "471/471 [==============================] - 8s 16ms/step - loss: 1.0229 - accuracy: 0.4635 - val_loss: 1.0191 - val_accuracy: 0.4622\n",
            "Epoch 49/120\n",
            "470/471 [============================>.] - ETA: 0s - loss: 1.0232 - accuracy: 0.4615"
          ]
        },
        {
          "name": "stderr",
          "output_type": "stream",
          "text": [
            " 41%|████      | 49/120 [06:30<09:05,  7.68s/epoch, loss=1.02, accuracy=0.462, val_loss=1.02, val_accuracy=0.465]"
          ]
        },
        {
          "name": "stdout",
          "output_type": "stream",
          "text": [
            "471/471 [==============================] - 8s 16ms/step - loss: 1.0231 - accuracy: 0.4616 - val_loss: 1.0186 - val_accuracy: 0.4654\n",
            "Epoch 50/120\n",
            "469/471 [============================>.] - ETA: 0s - loss: 1.0242 - accuracy: 0.4644"
          ]
        },
        {
          "name": "stderr",
          "output_type": "stream",
          "text": [
            " 42%|████▏     | 50/120 [06:38<09:06,  7.80s/epoch, loss=1.02, accuracy=0.464, val_loss=1.02, val_accuracy=0.465]"
          ]
        },
        {
          "name": "stdout",
          "output_type": "stream",
          "text": [
            "471/471 [==============================] - 8s 17ms/step - loss: 1.0242 - accuracy: 0.4644 - val_loss: 1.0189 - val_accuracy: 0.4647\n",
            "Epoch 51/120\n",
            "471/471 [==============================] - ETA: 0s - loss: 1.0231 - accuracy: 0.4637"
          ]
        },
        {
          "name": "stderr",
          "output_type": "stream",
          "text": [
            " 42%|████▎     | 51/120 [06:46<09:07,  7.93s/epoch, loss=1.02, accuracy=0.464, val_loss=1.02, val_accuracy=0.465]"
          ]
        },
        {
          "name": "stdout",
          "output_type": "stream",
          "text": [
            "471/471 [==============================] - 8s 17ms/step - loss: 1.0231 - accuracy: 0.4637 - val_loss: 1.0186 - val_accuracy: 0.4648\n",
            "Epoch 52/120\n",
            "468/471 [============================>.] - ETA: 0s - loss: 1.0234 - accuracy: 0.4647"
          ]
        },
        {
          "name": "stderr",
          "output_type": "stream",
          "text": [
            " 43%|████▎     | 52/120 [06:54<08:59,  7.93s/epoch, loss=1.02, accuracy=0.465, val_loss=1.02, val_accuracy=0.465]"
          ]
        },
        {
          "name": "stdout",
          "output_type": "stream",
          "text": [
            "471/471 [==============================] - 8s 17ms/step - loss: 1.0237 - accuracy: 0.4646 - val_loss: 1.0187 - val_accuracy: 0.4648\n",
            "Epoch 53/120\n",
            "471/471 [==============================] - ETA: 0s - loss: 1.0227 - accuracy: 0.4629"
          ]
        },
        {
          "name": "stderr",
          "output_type": "stream",
          "text": [
            " 44%|████▍     | 53/120 [07:02<08:46,  7.86s/epoch, loss=1.02, accuracy=0.463, val_loss=1.02, val_accuracy=0.465]"
          ]
        },
        {
          "name": "stdout",
          "output_type": "stream",
          "text": [
            "471/471 [==============================] - 8s 16ms/step - loss: 1.0227 - accuracy: 0.4629 - val_loss: 1.0185 - val_accuracy: 0.4646\n",
            "Epoch 54/120\n",
            "471/471 [==============================] - ETA: 0s - loss: 1.0224 - accuracy: 0.4646"
          ]
        },
        {
          "name": "stderr",
          "output_type": "stream",
          "text": [
            " 45%|████▌     | 54/120 [07:10<08:33,  7.78s/epoch, loss=1.02, accuracy=0.465, val_loss=1.02, val_accuracy=0.466]"
          ]
        },
        {
          "name": "stdout",
          "output_type": "stream",
          "text": [
            "471/471 [==============================] - 8s 16ms/step - loss: 1.0224 - accuracy: 0.4646 - val_loss: 1.0182 - val_accuracy: 0.4656\n",
            "Epoch 55/120\n",
            "469/471 [============================>.] - ETA: 0s - loss: 1.0216 - accuracy: 0.4658"
          ]
        },
        {
          "name": "stderr",
          "output_type": "stream",
          "text": [
            " 46%|████▌     | 55/120 [07:17<08:23,  7.75s/epoch, loss=1.02, accuracy=0.466, val_loss=1.02, val_accuracy=0.461]"
          ]
        },
        {
          "name": "stdout",
          "output_type": "stream",
          "text": [
            "471/471 [==============================] - 8s 16ms/step - loss: 1.0216 - accuracy: 0.4657 - val_loss: 1.0187 - val_accuracy: 0.4612\n",
            "Epoch 56/120\n",
            "469/471 [============================>.] - ETA: 0s - loss: 1.0217 - accuracy: 0.4656"
          ]
        },
        {
          "name": "stderr",
          "output_type": "stream",
          "text": [
            " 47%|████▋     | 56/120 [07:25<08:12,  7.70s/epoch, loss=1.02, accuracy=0.466, val_loss=1.02, val_accuracy=0.465]"
          ]
        },
        {
          "name": "stdout",
          "output_type": "stream",
          "text": [
            "471/471 [==============================] - 8s 16ms/step - loss: 1.0216 - accuracy: 0.4656 - val_loss: 1.0183 - val_accuracy: 0.4645\n",
            "Epoch 57/120\n",
            "470/471 [============================>.] - ETA: 0s - loss: 1.0222 - accuracy: 0.4661"
          ]
        },
        {
          "name": "stderr",
          "output_type": "stream",
          "text": [
            " 48%|████▊     | 57/120 [07:33<08:06,  7.73s/epoch, loss=1.02, accuracy=0.466, val_loss=1.02, val_accuracy=0.464]"
          ]
        },
        {
          "name": "stdout",
          "output_type": "stream",
          "text": [
            "471/471 [==============================] - 8s 17ms/step - loss: 1.0222 - accuracy: 0.4661 - val_loss: 1.0184 - val_accuracy: 0.4635\n",
            "Epoch 58/120\n",
            "468/471 [============================>.] - ETA: 0s - loss: 1.0214 - accuracy: 0.4631"
          ]
        },
        {
          "name": "stderr",
          "output_type": "stream",
          "text": [
            " 48%|████▊     | 58/120 [07:40<07:57,  7.71s/epoch, loss=1.02, accuracy=0.463, val_loss=1.02, val_accuracy=0.466]"
          ]
        },
        {
          "name": "stdout",
          "output_type": "stream",
          "text": [
            "471/471 [==============================] - 8s 16ms/step - loss: 1.0214 - accuracy: 0.4634 - val_loss: 1.0176 - val_accuracy: 0.4661\n",
            "Epoch 59/120\n",
            "469/471 [============================>.] - ETA: 0s - loss: 1.0214 - accuracy: 0.4667"
          ]
        },
        {
          "name": "stderr",
          "output_type": "stream",
          "text": [
            " 49%|████▉     | 59/120 [07:48<07:49,  7.70s/epoch, loss=1.02, accuracy=0.467, val_loss=1.02, val_accuracy=0.461]"
          ]
        },
        {
          "name": "stdout",
          "output_type": "stream",
          "text": [
            "471/471 [==============================] - 8s 16ms/step - loss: 1.0214 - accuracy: 0.4667 - val_loss: 1.0184 - val_accuracy: 0.4611\n",
            "Epoch 60/120\n",
            "469/471 [============================>.] - ETA: 0s - loss: 1.0198 - accuracy: 0.4687"
          ]
        },
        {
          "name": "stderr",
          "output_type": "stream",
          "text": [
            " 50%|█████     | 60/120 [07:56<07:41,  7.69s/epoch, loss=1.02, accuracy=0.469, val_loss=1.02, val_accuracy=0.465]"
          ]
        },
        {
          "name": "stdout",
          "output_type": "stream",
          "text": [
            "471/471 [==============================] - 8s 16ms/step - loss: 1.0199 - accuracy: 0.4686 - val_loss: 1.0179 - val_accuracy: 0.4655\n",
            "Epoch 61/120\n",
            "471/471 [==============================] - ETA: 0s - loss: 1.0208 - accuracy: 0.4658"
          ]
        },
        {
          "name": "stderr",
          "output_type": "stream",
          "text": [
            " 51%|█████     | 61/120 [08:03<07:33,  7.68s/epoch, loss=1.02, accuracy=0.466, val_loss=1.02, val_accuracy=0.464]"
          ]
        },
        {
          "name": "stdout",
          "output_type": "stream",
          "text": [
            "471/471 [==============================] - 8s 16ms/step - loss: 1.0208 - accuracy: 0.4658 - val_loss: 1.0179 - val_accuracy: 0.4638\n",
            "Epoch 62/120\n",
            "468/471 [============================>.] - ETA: 0s - loss: 1.0214 - accuracy: 0.4645"
          ]
        },
        {
          "name": "stderr",
          "output_type": "stream",
          "text": [
            " 52%|█████▏    | 62/120 [08:11<07:24,  7.66s/epoch, loss=1.02, accuracy=0.464, val_loss=1.02, val_accuracy=0.463]"
          ]
        },
        {
          "name": "stdout",
          "output_type": "stream",
          "text": [
            "471/471 [==============================] - 8s 16ms/step - loss: 1.0213 - accuracy: 0.4645 - val_loss: 1.0178 - val_accuracy: 0.4632\n",
            "Epoch 63/120\n",
            "468/471 [============================>.] - ETA: 0s - loss: 1.0191 - accuracy: 0.4662"
          ]
        },
        {
          "name": "stderr",
          "output_type": "stream",
          "text": [
            " 52%|█████▎    | 63/120 [08:19<07:15,  7.65s/epoch, loss=1.02, accuracy=0.466, val_loss=1.02, val_accuracy=0.464]"
          ]
        },
        {
          "name": "stdout",
          "output_type": "stream",
          "text": [
            "471/471 [==============================] - 8s 16ms/step - loss: 1.0190 - accuracy: 0.4665 - val_loss: 1.0179 - val_accuracy: 0.4643\n",
            "Epoch 64/120\n",
            "469/471 [============================>.] - ETA: 0s - loss: 1.0187 - accuracy: 0.4698"
          ]
        },
        {
          "name": "stderr",
          "output_type": "stream",
          "text": [
            " 53%|█████▎    | 64/120 [08:26<07:08,  7.65s/epoch, loss=1.02, accuracy=0.47, val_loss=1.02, val_accuracy=0.464] "
          ]
        },
        {
          "name": "stdout",
          "output_type": "stream",
          "text": [
            "471/471 [==============================] - 8s 16ms/step - loss: 1.0188 - accuracy: 0.4699 - val_loss: 1.0176 - val_accuracy: 0.4637\n",
            "Epoch 65/120\n",
            "468/471 [============================>.] - ETA: 0s - loss: 1.0204 - accuracy: 0.4654"
          ]
        },
        {
          "name": "stderr",
          "output_type": "stream",
          "text": [
            " 54%|█████▍    | 65/120 [08:34<07:01,  7.66s/epoch, loss=1.02, accuracy=0.466, val_loss=1.02, val_accuracy=0.462]"
          ]
        },
        {
          "name": "stdout",
          "output_type": "stream",
          "text": [
            "471/471 [==============================] - 8s 16ms/step - loss: 1.0204 - accuracy: 0.4656 - val_loss: 1.0178 - val_accuracy: 0.4622\n",
            "Epoch 66/120\n",
            "468/471 [============================>.] - ETA: 0s - loss: 1.0195 - accuracy: 0.4648"
          ]
        },
        {
          "name": "stderr",
          "output_type": "stream",
          "text": [
            " 55%|█████▌    | 66/120 [08:42<06:53,  7.65s/epoch, loss=1.02, accuracy=0.465, val_loss=1.02, val_accuracy=0.46] "
          ]
        },
        {
          "name": "stdout",
          "output_type": "stream",
          "text": [
            "471/471 [==============================] - 8s 16ms/step - loss: 1.0194 - accuracy: 0.4649 - val_loss: 1.0177 - val_accuracy: 0.4600\n",
            "Epoch 67/120\n",
            "470/471 [============================>.] - ETA: 0s - loss: 1.0188 - accuracy: 0.4682"
          ]
        },
        {
          "name": "stderr",
          "output_type": "stream",
          "text": [
            " 56%|█████▌    | 67/120 [08:49<06:47,  7.69s/epoch, loss=1.02, accuracy=0.468, val_loss=1.02, val_accuracy=0.461]"
          ]
        },
        {
          "name": "stdout",
          "output_type": "stream",
          "text": [
            "471/471 [==============================] - 8s 17ms/step - loss: 1.0188 - accuracy: 0.4682 - val_loss: 1.0177 - val_accuracy: 0.4605\n",
            "Epoch 68/120\n",
            "470/471 [============================>.] - ETA: 0s - loss: 1.0181 - accuracy: 0.4682"
          ]
        },
        {
          "name": "stderr",
          "output_type": "stream",
          "text": [
            " 57%|█████▋    | 68/120 [08:57<06:41,  7.71s/epoch, loss=1.02, accuracy=0.468, val_loss=1.02, val_accuracy=0.462]"
          ]
        },
        {
          "name": "stdout",
          "output_type": "stream",
          "text": [
            "471/471 [==============================] - 8s 16ms/step - loss: 1.0180 - accuracy: 0.4681 - val_loss: 1.0174 - val_accuracy: 0.4623\n",
            "Epoch 69/120\n",
            "469/471 [============================>.] - ETA: 0s - loss: 1.0193 - accuracy: 0.4668"
          ]
        },
        {
          "name": "stderr",
          "output_type": "stream",
          "text": [
            " 57%|█████▊    | 69/120 [09:05<06:34,  7.74s/epoch, loss=1.02, accuracy=0.467, val_loss=1.02, val_accuracy=0.463]"
          ]
        },
        {
          "name": "stdout",
          "output_type": "stream",
          "text": [
            "471/471 [==============================] - 8s 17ms/step - loss: 1.0191 - accuracy: 0.4670 - val_loss: 1.0168 - val_accuracy: 0.4633\n",
            "Epoch 70/120\n",
            "471/471 [==============================] - ETA: 0s - loss: 1.0186 - accuracy: 0.4689"
          ]
        },
        {
          "name": "stderr",
          "output_type": "stream",
          "text": [
            " 58%|█████▊    | 70/120 [09:13<06:26,  7.74s/epoch, loss=1.02, accuracy=0.469, val_loss=1.02, val_accuracy=0.46] "
          ]
        },
        {
          "name": "stdout",
          "output_type": "stream",
          "text": [
            "471/471 [==============================] - 8s 16ms/step - loss: 1.0186 - accuracy: 0.4689 - val_loss: 1.0172 - val_accuracy: 0.4600\n",
            "Epoch 71/120\n",
            "468/471 [============================>.] - ETA: 0s - loss: 1.0185 - accuracy: 0.4678"
          ]
        },
        {
          "name": "stderr",
          "output_type": "stream",
          "text": [
            " 59%|█████▉    | 71/120 [09:20<06:18,  7.72s/epoch, loss=1.02, accuracy=0.468, val_loss=1.02, val_accuracy=0.464]"
          ]
        },
        {
          "name": "stdout",
          "output_type": "stream",
          "text": [
            "471/471 [==============================] - 8s 16ms/step - loss: 1.0185 - accuracy: 0.4678 - val_loss: 1.0166 - val_accuracy: 0.4643\n",
            "Epoch 72/120\n",
            "468/471 [============================>.] - ETA: 0s - loss: 1.0179 - accuracy: 0.4672"
          ]
        },
        {
          "name": "stderr",
          "output_type": "stream",
          "text": [
            " 60%|██████    | 72/120 [09:28<06:09,  7.69s/epoch, loss=1.02, accuracy=0.467, val_loss=1.02, val_accuracy=0.463]"
          ]
        },
        {
          "name": "stdout",
          "output_type": "stream",
          "text": [
            "471/471 [==============================] - 8s 16ms/step - loss: 1.0178 - accuracy: 0.4672 - val_loss: 1.0168 - val_accuracy: 0.4628\n",
            "Epoch 73/120\n",
            "469/471 [============================>.] - ETA: 0s - loss: 1.0177 - accuracy: 0.4679"
          ]
        },
        {
          "name": "stderr",
          "output_type": "stream",
          "text": [
            " 61%|██████    | 73/120 [09:36<06:00,  7.67s/epoch, loss=1.02, accuracy=0.468, val_loss=1.02, val_accuracy=0.461]"
          ]
        },
        {
          "name": "stdout",
          "output_type": "stream",
          "text": [
            "471/471 [==============================] - 8s 16ms/step - loss: 1.0176 - accuracy: 0.4679 - val_loss: 1.0170 - val_accuracy: 0.4612\n",
            "Epoch 74/120\n",
            "468/471 [============================>.] - ETA: 0s - loss: 1.0170 - accuracy: 0.4665"
          ]
        },
        {
          "name": "stderr",
          "output_type": "stream",
          "text": [
            " 62%|██████▏   | 74/120 [09:43<05:52,  7.66s/epoch, loss=1.02, accuracy=0.467, val_loss=1.02, val_accuracy=0.461]"
          ]
        },
        {
          "name": "stdout",
          "output_type": "stream",
          "text": [
            "471/471 [==============================] - 8s 16ms/step - loss: 1.0171 - accuracy: 0.4666 - val_loss: 1.0168 - val_accuracy: 0.4609\n",
            "Epoch 75/120\n",
            "471/471 [==============================] - ETA: 0s - loss: 1.0174 - accuracy: 0.4660"
          ]
        },
        {
          "name": "stderr",
          "output_type": "stream",
          "text": [
            " 62%|██████▎   | 75/120 [09:51<05:45,  7.67s/epoch, loss=1.02, accuracy=0.466, val_loss=1.02, val_accuracy=0.459]"
          ]
        },
        {
          "name": "stdout",
          "output_type": "stream",
          "text": [
            "471/471 [==============================] - 8s 16ms/step - loss: 1.0174 - accuracy: 0.4660 - val_loss: 1.0169 - val_accuracy: 0.4591\n",
            "Epoch 76/120\n",
            "468/471 [============================>.] - ETA: 0s - loss: 1.0171 - accuracy: 0.4683"
          ]
        },
        {
          "name": "stderr",
          "output_type": "stream",
          "text": [
            " 63%|██████▎   | 76/120 [09:59<05:38,  7.70s/epoch, loss=1.02, accuracy=0.468, val_loss=1.02, val_accuracy=0.459]"
          ]
        },
        {
          "name": "stdout",
          "output_type": "stream",
          "text": [
            "471/471 [==============================] - 8s 16ms/step - loss: 1.0173 - accuracy: 0.4681 - val_loss: 1.0171 - val_accuracy: 0.4588\n",
            "Epoch 77/120\n",
            "469/471 [============================>.] - ETA: 0s - loss: 1.0182 - accuracy: 0.4673"
          ]
        },
        {
          "name": "stderr",
          "output_type": "stream",
          "text": [
            " 64%|██████▍   | 77/120 [10:06<05:30,  7.69s/epoch, loss=1.02, accuracy=0.467, val_loss=1.02, val_accuracy=0.463]"
          ]
        },
        {
          "name": "stdout",
          "output_type": "stream",
          "text": [
            "471/471 [==============================] - 8s 16ms/step - loss: 1.0182 - accuracy: 0.4671 - val_loss: 1.0163 - val_accuracy: 0.4630\n",
            "Epoch 78/120\n",
            "471/471 [==============================] - ETA: 0s - loss: 1.0164 - accuracy: 0.4685"
          ]
        },
        {
          "name": "stderr",
          "output_type": "stream",
          "text": [
            " 65%|██████▌   | 78/120 [10:14<05:21,  7.66s/epoch, loss=1.02, accuracy=0.469, val_loss=1.02, val_accuracy=0.463]"
          ]
        },
        {
          "name": "stdout",
          "output_type": "stream",
          "text": [
            "471/471 [==============================] - 8s 16ms/step - loss: 1.0164 - accuracy: 0.4685 - val_loss: 1.0166 - val_accuracy: 0.4627\n",
            "Epoch 79/120\n",
            "468/471 [============================>.] - ETA: 0s - loss: 1.0164 - accuracy: 0.4685"
          ]
        },
        {
          "name": "stderr",
          "output_type": "stream",
          "text": [
            " 66%|██████▌   | 79/120 [10:22<05:14,  7.68s/epoch, loss=1.02, accuracy=0.469, val_loss=1.02, val_accuracy=0.461]"
          ]
        },
        {
          "name": "stdout",
          "output_type": "stream",
          "text": [
            "471/471 [==============================] - 8s 16ms/step - loss: 1.0164 - accuracy: 0.4686 - val_loss: 1.0165 - val_accuracy: 0.4612\n",
            "Epoch 80/120\n",
            "471/471 [==============================] - ETA: 0s - loss: 1.0157 - accuracy: 0.4717"
          ]
        },
        {
          "name": "stderr",
          "output_type": "stream",
          "text": [
            " 67%|██████▋   | 80/120 [10:29<05:07,  7.68s/epoch, loss=1.02, accuracy=0.472, val_loss=1.02, val_accuracy=0.461]"
          ]
        },
        {
          "name": "stdout",
          "output_type": "stream",
          "text": [
            "471/471 [==============================] - 8s 16ms/step - loss: 1.0157 - accuracy: 0.4717 - val_loss: 1.0162 - val_accuracy: 0.4610\n",
            "Epoch 81/120\n",
            "468/471 [============================>.] - ETA: 0s - loss: 1.0166 - accuracy: 0.4692"
          ]
        },
        {
          "name": "stderr",
          "output_type": "stream",
          "text": [
            " 68%|██████▊   | 81/120 [10:37<04:59,  7.68s/epoch, loss=1.02, accuracy=0.469, val_loss=1.02, val_accuracy=0.459]"
          ]
        },
        {
          "name": "stdout",
          "output_type": "stream",
          "text": [
            "471/471 [==============================] - 8s 16ms/step - loss: 1.0165 - accuracy: 0.4691 - val_loss: 1.0166 - val_accuracy: 0.4593\n",
            "Epoch 82/120\n",
            "468/471 [============================>.] - ETA: 0s - loss: 1.0166 - accuracy: 0.4696"
          ]
        },
        {
          "name": "stderr",
          "output_type": "stream",
          "text": [
            " 68%|██████▊   | 82/120 [10:45<04:51,  7.68s/epoch, loss=1.02, accuracy=0.469, val_loss=1.02, val_accuracy=0.461]"
          ]
        },
        {
          "name": "stdout",
          "output_type": "stream",
          "text": [
            "471/471 [==============================] - 8s 16ms/step - loss: 1.0165 - accuracy: 0.4694 - val_loss: 1.0162 - val_accuracy: 0.4609\n",
            "Epoch 83/120\n",
            "471/471 [==============================] - ETA: 0s - loss: 1.0151 - accuracy: 0.4714"
          ]
        },
        {
          "name": "stderr",
          "output_type": "stream",
          "text": [
            " 69%|██████▉   | 83/120 [10:52<04:43,  7.67s/epoch, loss=1.02, accuracy=0.471, val_loss=1.02, val_accuracy=0.462]"
          ]
        },
        {
          "name": "stdout",
          "output_type": "stream",
          "text": [
            "471/471 [==============================] - 8s 16ms/step - loss: 1.0151 - accuracy: 0.4714 - val_loss: 1.0161 - val_accuracy: 0.4624\n",
            "Epoch 84/120\n",
            "468/471 [============================>.] - ETA: 0s - loss: 1.0154 - accuracy: 0.4711"
          ]
        },
        {
          "name": "stderr",
          "output_type": "stream",
          "text": [
            " 70%|███████   | 84/120 [11:00<04:36,  7.68s/epoch, loss=1.02, accuracy=0.471, val_loss=1.02, val_accuracy=0.46] "
          ]
        },
        {
          "name": "stdout",
          "output_type": "stream",
          "text": [
            "471/471 [==============================] - 8s 16ms/step - loss: 1.0154 - accuracy: 0.4711 - val_loss: 1.0165 - val_accuracy: 0.4600\n",
            "Epoch 85/120\n",
            "468/471 [============================>.] - ETA: 0s - loss: 1.0153 - accuracy: 0.4705"
          ]
        },
        {
          "name": "stderr",
          "output_type": "stream",
          "text": [
            " 71%|███████   | 85/120 [11:08<04:28,  7.69s/epoch, loss=1.02, accuracy=0.47, val_loss=1.02, val_accuracy=0.458]"
          ]
        },
        {
          "name": "stdout",
          "output_type": "stream",
          "text": [
            "471/471 [==============================] - 8s 16ms/step - loss: 1.0152 - accuracy: 0.4704 - val_loss: 1.0165 - val_accuracy: 0.4585\n",
            "Epoch 86/120\n",
            "471/471 [==============================] - ETA: 0s - loss: 1.0164 - accuracy: 0.4677"
          ]
        },
        {
          "name": "stderr",
          "output_type": "stream",
          "text": [
            " 72%|███████▏  | 86/120 [11:15<04:21,  7.69s/epoch, loss=1.02, accuracy=0.468, val_loss=1.02, val_accuracy=0.461]"
          ]
        },
        {
          "name": "stdout",
          "output_type": "stream",
          "text": [
            "471/471 [==============================] - 8s 16ms/step - loss: 1.0164 - accuracy: 0.4677 - val_loss: 1.0159 - val_accuracy: 0.4612\n",
            "Epoch 87/120\n",
            "469/471 [============================>.] - ETA: 0s - loss: 1.0155 - accuracy: 0.4731"
          ]
        },
        {
          "name": "stderr",
          "output_type": "stream",
          "text": [
            " 72%|███████▎  | 87/120 [11:23<04:14,  7.70s/epoch, loss=1.02, accuracy=0.473, val_loss=1.02, val_accuracy=0.466]"
          ]
        },
        {
          "name": "stdout",
          "output_type": "stream",
          "text": [
            "471/471 [==============================] - 8s 16ms/step - loss: 1.0156 - accuracy: 0.4731 - val_loss: 1.0157 - val_accuracy: 0.4658\n",
            "Epoch 88/120\n",
            "470/471 [============================>.] - ETA: 0s - loss: 1.0151 - accuracy: 0.4716"
          ]
        },
        {
          "name": "stderr",
          "output_type": "stream",
          "text": [
            " 73%|███████▎  | 88/120 [11:31<04:06,  7.71s/epoch, loss=1.02, accuracy=0.472, val_loss=1.02, val_accuracy=0.462]"
          ]
        },
        {
          "name": "stdout",
          "output_type": "stream",
          "text": [
            "471/471 [==============================] - 8s 16ms/step - loss: 1.0152 - accuracy: 0.4715 - val_loss: 1.0157 - val_accuracy: 0.4623\n",
            "Epoch 89/120\n",
            "471/471 [==============================] - ETA: 0s - loss: 1.0156 - accuracy: 0.4704"
          ]
        },
        {
          "name": "stderr",
          "output_type": "stream",
          "text": [
            " 74%|███████▍  | 89/120 [11:39<03:59,  7.72s/epoch, loss=1.02, accuracy=0.47, val_loss=1.02, val_accuracy=0.465] "
          ]
        },
        {
          "name": "stdout",
          "output_type": "stream",
          "text": [
            "471/471 [==============================] - 8s 16ms/step - loss: 1.0156 - accuracy: 0.4704 - val_loss: 1.0154 - val_accuracy: 0.4645\n",
            "Epoch 90/120\n",
            "471/471 [==============================] - ETA: 0s - loss: 1.0138 - accuracy: 0.4715"
          ]
        },
        {
          "name": "stderr",
          "output_type": "stream",
          "text": [
            " 75%|███████▌  | 90/120 [11:46<03:50,  7.69s/epoch, loss=1.01, accuracy=0.471, val_loss=1.02, val_accuracy=0.456]"
          ]
        },
        {
          "name": "stdout",
          "output_type": "stream",
          "text": [
            "471/471 [==============================] - 8s 16ms/step - loss: 1.0138 - accuracy: 0.4715 - val_loss: 1.0167 - val_accuracy: 0.4560\n",
            "Epoch 91/120\n",
            "471/471 [==============================] - ETA: 0s - loss: 1.0155 - accuracy: 0.4703"
          ]
        },
        {
          "name": "stderr",
          "output_type": "stream",
          "text": [
            " 76%|███████▌  | 91/120 [11:54<03:42,  7.67s/epoch, loss=1.02, accuracy=0.47, val_loss=1.02, val_accuracy=0.46]  "
          ]
        },
        {
          "name": "stdout",
          "output_type": "stream",
          "text": [
            "471/471 [==============================] - 8s 16ms/step - loss: 1.0155 - accuracy: 0.4703 - val_loss: 1.0160 - val_accuracy: 0.4604\n",
            "Epoch 92/120\n",
            "470/471 [============================>.] - ETA: 0s - loss: 1.0149 - accuracy: 0.4695"
          ]
        },
        {
          "name": "stderr",
          "output_type": "stream",
          "text": [
            " 77%|███████▋  | 92/120 [12:02<03:37,  7.75s/epoch, loss=1.01, accuracy=0.47, val_loss=1.02, val_accuracy=0.46]"
          ]
        },
        {
          "name": "stdout",
          "output_type": "stream",
          "text": [
            "471/471 [==============================] - 8s 17ms/step - loss: 1.0149 - accuracy: 0.4695 - val_loss: 1.0160 - val_accuracy: 0.4599\n",
            "Epoch 93/120\n",
            "469/471 [============================>.] - ETA: 0s - loss: 1.0143 - accuracy: 0.4720"
          ]
        },
        {
          "name": "stderr",
          "output_type": "stream",
          "text": [
            " 78%|███████▊  | 93/120 [12:10<03:30,  7.80s/epoch, loss=1.01, accuracy=0.472, val_loss=1.02, val_accuracy=0.461]"
          ]
        },
        {
          "name": "stdout",
          "output_type": "stream",
          "text": [
            "471/471 [==============================] - 8s 17ms/step - loss: 1.0144 - accuracy: 0.4719 - val_loss: 1.0159 - val_accuracy: 0.4612\n",
            "Epoch 94/120\n",
            "470/471 [============================>.] - ETA: 0s - loss: 1.0126 - accuracy: 0.4710"
          ]
        },
        {
          "name": "stderr",
          "output_type": "stream",
          "text": [
            " 78%|███████▊  | 94/120 [12:18<03:22,  7.78s/epoch, loss=1.01, accuracy=0.471, val_loss=1.02, val_accuracy=0.462]"
          ]
        },
        {
          "name": "stdout",
          "output_type": "stream",
          "text": [
            "471/471 [==============================] - 8s 16ms/step - loss: 1.0126 - accuracy: 0.4709 - val_loss: 1.0155 - val_accuracy: 0.4624\n",
            "Epoch 95/120\n",
            "471/471 [==============================] - ETA: 0s - loss: 1.0132 - accuracy: 0.4721"
          ]
        },
        {
          "name": "stderr",
          "output_type": "stream",
          "text": [
            " 79%|███████▉  | 95/120 [12:25<03:14,  7.77s/epoch, loss=1.01, accuracy=0.472, val_loss=1.02, val_accuracy=0.46] "
          ]
        },
        {
          "name": "stdout",
          "output_type": "stream",
          "text": [
            "471/471 [==============================] - 8s 16ms/step - loss: 1.0132 - accuracy: 0.4721 - val_loss: 1.0157 - val_accuracy: 0.4599\n",
            "Epoch 96/120\n",
            "470/471 [============================>.] - ETA: 0s - loss: 1.0138 - accuracy: 0.4714"
          ]
        },
        {
          "name": "stderr",
          "output_type": "stream",
          "text": [
            " 80%|████████  | 96/120 [12:33<03:06,  7.75s/epoch, loss=1.01, accuracy=0.471, val_loss=1.02, val_accuracy=0.462]"
          ]
        },
        {
          "name": "stdout",
          "output_type": "stream",
          "text": [
            "471/471 [==============================] - 8s 16ms/step - loss: 1.0139 - accuracy: 0.4714 - val_loss: 1.0153 - val_accuracy: 0.4615\n",
            "Epoch 97/120\n",
            "471/471 [==============================] - ETA: 0s - loss: 1.0132 - accuracy: 0.4719"
          ]
        },
        {
          "name": "stderr",
          "output_type": "stream",
          "text": [
            " 81%|████████  | 97/120 [12:41<02:57,  7.73s/epoch, loss=1.01, accuracy=0.472, val_loss=1.02, val_accuracy=0.461]"
          ]
        },
        {
          "name": "stdout",
          "output_type": "stream",
          "text": [
            "471/471 [==============================] - 8s 16ms/step - loss: 1.0132 - accuracy: 0.4719 - val_loss: 1.0153 - val_accuracy: 0.4610\n",
            "Epoch 98/120\n",
            "468/471 [============================>.] - ETA: 0s - loss: 1.0137 - accuracy: 0.4722"
          ]
        },
        {
          "name": "stderr",
          "output_type": "stream",
          "text": [
            " 82%|████████▏ | 98/120 [12:48<02:49,  7.72s/epoch, loss=1.01, accuracy=0.472, val_loss=1.02, val_accuracy=0.461]"
          ]
        },
        {
          "name": "stdout",
          "output_type": "stream",
          "text": [
            "471/471 [==============================] - 8s 16ms/step - loss: 1.0138 - accuracy: 0.4721 - val_loss: 1.0152 - val_accuracy: 0.4613\n",
            "Epoch 99/120\n",
            "471/471 [==============================] - ETA: 0s - loss: 1.0140 - accuracy: 0.4730"
          ]
        },
        {
          "name": "stderr",
          "output_type": "stream",
          "text": [
            " 82%|████████▎ | 99/120 [12:56<02:42,  7.72s/epoch, loss=1.01, accuracy=0.473, val_loss=1.01, val_accuracy=0.463]"
          ]
        },
        {
          "name": "stdout",
          "output_type": "stream",
          "text": [
            "471/471 [==============================] - 8s 16ms/step - loss: 1.0140 - accuracy: 0.4730 - val_loss: 1.0148 - val_accuracy: 0.4631\n",
            "Epoch 100/120\n",
            "469/471 [============================>.] - ETA: 0s - loss: 1.0139 - accuracy: 0.4731"
          ]
        },
        {
          "name": "stderr",
          "output_type": "stream",
          "text": [
            " 83%|████████▎ | 100/120 [13:04<02:33,  7.69s/epoch, loss=1.01, accuracy=0.473, val_loss=1.02, val_accuracy=0.46]"
          ]
        },
        {
          "name": "stdout",
          "output_type": "stream",
          "text": [
            "471/471 [==============================] - 8s 16ms/step - loss: 1.0139 - accuracy: 0.4729 - val_loss: 1.0153 - val_accuracy: 0.4597\n",
            "Epoch 101/120\n",
            "468/471 [============================>.] - ETA: 0s - loss: 1.0129 - accuracy: 0.4720"
          ]
        },
        {
          "name": "stderr",
          "output_type": "stream",
          "text": [
            " 84%|████████▍ | 101/120 [13:11<02:25,  7.67s/epoch, loss=1.01, accuracy=0.472, val_loss=1.02, val_accuracy=0.46]"
          ]
        },
        {
          "name": "stdout",
          "output_type": "stream",
          "text": [
            "471/471 [==============================] - 8s 16ms/step - loss: 1.0129 - accuracy: 0.4720 - val_loss: 1.0154 - val_accuracy: 0.4601\n",
            "Epoch 102/120\n",
            "468/471 [============================>.] - ETA: 0s - loss: 1.0120 - accuracy: 0.4725"
          ]
        },
        {
          "name": "stderr",
          "output_type": "stream",
          "text": [
            " 85%|████████▌ | 102/120 [13:19<02:18,  7.68s/epoch, loss=1.01, accuracy=0.473, val_loss=1.01, val_accuracy=0.465]"
          ]
        },
        {
          "name": "stdout",
          "output_type": "stream",
          "text": [
            "471/471 [==============================] - 8s 16ms/step - loss: 1.0121 - accuracy: 0.4726 - val_loss: 1.0148 - val_accuracy: 0.4647\n",
            "Epoch 103/120\n",
            "468/471 [============================>.] - ETA: 0s - loss: 1.0116 - accuracy: 0.4717"
          ]
        },
        {
          "name": "stderr",
          "output_type": "stream",
          "text": [
            " 86%|████████▌ | 103/120 [13:27<02:10,  7.68s/epoch, loss=1.01, accuracy=0.472, val_loss=1.02, val_accuracy=0.458]"
          ]
        },
        {
          "name": "stdout",
          "output_type": "stream",
          "text": [
            "471/471 [==============================] - 8s 16ms/step - loss: 1.0115 - accuracy: 0.4718 - val_loss: 1.0153 - val_accuracy: 0.4580\n",
            "Epoch 104/120\n",
            "468/471 [============================>.] - ETA: 0s - loss: 1.0118 - accuracy: 0.4729"
          ]
        },
        {
          "name": "stderr",
          "output_type": "stream",
          "text": [
            " 87%|████████▋ | 104/120 [13:34<02:02,  7.68s/epoch, loss=1.01, accuracy=0.473, val_loss=1.01, val_accuracy=0.464]"
          ]
        },
        {
          "name": "stdout",
          "output_type": "stream",
          "text": [
            "471/471 [==============================] - 8s 16ms/step - loss: 1.0116 - accuracy: 0.4734 - val_loss: 1.0145 - val_accuracy: 0.4642\n",
            "Epoch 105/120\n",
            "470/471 [============================>.] - ETA: 0s - loss: 1.0134 - accuracy: 0.4720"
          ]
        },
        {
          "name": "stderr",
          "output_type": "stream",
          "text": [
            " 88%|████████▊ | 105/120 [13:42<01:55,  7.70s/epoch, loss=1.01, accuracy=0.472, val_loss=1.02, val_accuracy=0.459]"
          ]
        },
        {
          "name": "stdout",
          "output_type": "stream",
          "text": [
            "471/471 [==============================] - 8s 16ms/step - loss: 1.0133 - accuracy: 0.4720 - val_loss: 1.0151 - val_accuracy: 0.4589\n",
            "Epoch 106/120\n",
            "468/471 [============================>.] - ETA: 0s - loss: 1.0111 - accuracy: 0.4741"
          ]
        },
        {
          "name": "stderr",
          "output_type": "stream",
          "text": [
            " 88%|████████▊ | 106/120 [13:50<01:47,  7.69s/epoch, loss=1.01, accuracy=0.474, val_loss=1.01, val_accuracy=0.459]"
          ]
        },
        {
          "name": "stdout",
          "output_type": "stream",
          "text": [
            "471/471 [==============================] - 8s 16ms/step - loss: 1.0113 - accuracy: 0.4740 - val_loss: 1.0148 - val_accuracy: 0.4588\n",
            "Epoch 107/120\n",
            "469/471 [============================>.] - ETA: 0s - loss: 1.0116 - accuracy: 0.4743"
          ]
        },
        {
          "name": "stderr",
          "output_type": "stream",
          "text": [
            " 89%|████████▉ | 107/120 [13:58<01:41,  7.79s/epoch, loss=1.01, accuracy=0.474, val_loss=1.01, val_accuracy=0.46] "
          ]
        },
        {
          "name": "stdout",
          "output_type": "stream",
          "text": [
            "471/471 [==============================] - 8s 17ms/step - loss: 1.0117 - accuracy: 0.4741 - val_loss: 1.0148 - val_accuracy: 0.4600\n",
            "Epoch 108/120\n",
            "468/471 [============================>.] - ETA: 0s - loss: 1.0108 - accuracy: 0.4750"
          ]
        },
        {
          "name": "stderr",
          "output_type": "stream",
          "text": [
            " 90%|█████████ | 108/120 [14:06<01:34,  7.87s/epoch, loss=1.01, accuracy=0.475, val_loss=1.01, val_accuracy=0.461]"
          ]
        },
        {
          "name": "stdout",
          "output_type": "stream",
          "text": [
            "471/471 [==============================] - 8s 17ms/step - loss: 1.0106 - accuracy: 0.4751 - val_loss: 1.0149 - val_accuracy: 0.4612\n",
            "Epoch 109/120\n",
            "469/471 [============================>.] - ETA: 0s - loss: 1.0123 - accuracy: 0.4722"
          ]
        },
        {
          "name": "stderr",
          "output_type": "stream",
          "text": [
            " 91%|█████████ | 109/120 [14:14<01:26,  7.87s/epoch, loss=1.01, accuracy=0.472, val_loss=1.01, val_accuracy=0.462]"
          ]
        },
        {
          "name": "stdout",
          "output_type": "stream",
          "text": [
            "471/471 [==============================] - 8s 17ms/step - loss: 1.0124 - accuracy: 0.4719 - val_loss: 1.0145 - val_accuracy: 0.4615\n",
            "Epoch 110/120\n",
            "469/471 [============================>.] - ETA: 0s - loss: 1.0107 - accuracy: 0.4721"
          ]
        },
        {
          "name": "stderr",
          "output_type": "stream",
          "text": [
            " 92%|█████████▏| 110/120 [14:22<01:18,  7.89s/epoch, loss=1.01, accuracy=0.472, val_loss=1.01, val_accuracy=0.464]"
          ]
        },
        {
          "name": "stdout",
          "output_type": "stream",
          "text": [
            "471/471 [==============================] - 8s 17ms/step - loss: 1.0109 - accuracy: 0.4720 - val_loss: 1.0145 - val_accuracy: 0.4641\n",
            "Epoch 111/120\n",
            "471/471 [==============================] - ETA: 0s - loss: 1.0101 - accuracy: 0.4764"
          ]
        },
        {
          "name": "stderr",
          "output_type": "stream",
          "text": [
            " 92%|█████████▎| 111/120 [14:30<01:11,  7.93s/epoch, loss=1.01, accuracy=0.476, val_loss=1.01, val_accuracy=0.461]"
          ]
        },
        {
          "name": "stdout",
          "output_type": "stream",
          "text": [
            "471/471 [==============================] - 8s 17ms/step - loss: 1.0101 - accuracy: 0.4764 - val_loss: 1.0146 - val_accuracy: 0.4607\n",
            "Epoch 112/120\n",
            "471/471 [==============================] - ETA: 0s - loss: 1.0109 - accuracy: 0.4726"
          ]
        },
        {
          "name": "stderr",
          "output_type": "stream",
          "text": [
            " 93%|█████████▎| 112/120 [14:38<01:03,  7.96s/epoch, loss=1.01, accuracy=0.473, val_loss=1.01, val_accuracy=0.462]"
          ]
        },
        {
          "name": "stdout",
          "output_type": "stream",
          "text": [
            "471/471 [==============================] - 8s 17ms/step - loss: 1.0109 - accuracy: 0.4726 - val_loss: 1.0145 - val_accuracy: 0.4620\n",
            "Epoch 113/120\n",
            "470/471 [============================>.] - ETA: 0s - loss: 1.0109 - accuracy: 0.4749"
          ]
        },
        {
          "name": "stderr",
          "output_type": "stream",
          "text": [
            " 94%|█████████▍| 113/120 [14:46<00:56,  8.03s/epoch, loss=1.01, accuracy=0.475, val_loss=1.01, val_accuracy=0.462]"
          ]
        },
        {
          "name": "stdout",
          "output_type": "stream",
          "text": [
            "471/471 [==============================] - 8s 17ms/step - loss: 1.0109 - accuracy: 0.4750 - val_loss: 1.0146 - val_accuracy: 0.4616\n",
            "Epoch 114/120\n",
            "470/471 [============================>.] - ETA: 0s - loss: 1.0117 - accuracy: 0.4743"
          ]
        },
        {
          "name": "stderr",
          "output_type": "stream",
          "text": [
            " 95%|█████████▌| 114/120 [14:54<00:48,  8.06s/epoch, loss=1.01, accuracy=0.474, val_loss=1.01, val_accuracy=0.459]"
          ]
        },
        {
          "name": "stdout",
          "output_type": "stream",
          "text": [
            "471/471 [==============================] - 8s 17ms/step - loss: 1.0118 - accuracy: 0.4744 - val_loss: 1.0147 - val_accuracy: 0.4588\n",
            "Epoch 115/120\n",
            "469/471 [============================>.] - ETA: 0s - loss: 1.0104 - accuracy: 0.4740"
          ]
        },
        {
          "name": "stderr",
          "output_type": "stream",
          "text": [
            " 96%|█████████▌| 115/120 [15:02<00:40,  8.14s/epoch, loss=1.01, accuracy=0.474, val_loss=1.01, val_accuracy=0.46] "
          ]
        },
        {
          "name": "stdout",
          "output_type": "stream",
          "text": [
            "471/471 [==============================] - 8s 18ms/step - loss: 1.0105 - accuracy: 0.4740 - val_loss: 1.0145 - val_accuracy: 0.4603\n",
            "Epoch 116/120\n",
            "469/471 [============================>.] - ETA: 0s - loss: 1.0103 - accuracy: 0.4751"
          ]
        },
        {
          "name": "stderr",
          "output_type": "stream",
          "text": [
            " 97%|█████████▋| 116/120 [15:10<00:32,  8.11s/epoch, loss=1.01, accuracy=0.475, val_loss=1.01, val_accuracy=0.462]"
          ]
        },
        {
          "name": "stdout",
          "output_type": "stream",
          "text": [
            "471/471 [==============================] - 8s 17ms/step - loss: 1.0102 - accuracy: 0.4753 - val_loss: 1.0143 - val_accuracy: 0.4618\n",
            "Epoch 117/120\n",
            "470/471 [============================>.] - ETA: 0s - loss: 1.0091 - accuracy: 0.4756"
          ]
        },
        {
          "name": "stderr",
          "output_type": "stream",
          "text": [
            " 98%|█████████▊| 117/120 [15:18<00:24,  8.09s/epoch, loss=1.01, accuracy=0.476, val_loss=1.01, val_accuracy=0.458]"
          ]
        },
        {
          "name": "stdout",
          "output_type": "stream",
          "text": [
            "471/471 [==============================] - 8s 17ms/step - loss: 1.0091 - accuracy: 0.4755 - val_loss: 1.0148 - val_accuracy: 0.4577\n",
            "Epoch 118/120\n",
            "471/471 [==============================] - ETA: 0s - loss: 1.0100 - accuracy: 0.4737"
          ]
        },
        {
          "name": "stderr",
          "output_type": "stream",
          "text": [
            " 98%|█████████▊| 118/120 [15:27<00:16,  8.08s/epoch, loss=1.01, accuracy=0.474, val_loss=1.01, val_accuracy=0.461]"
          ]
        },
        {
          "name": "stdout",
          "output_type": "stream",
          "text": [
            "471/471 [==============================] - 8s 17ms/step - loss: 1.0100 - accuracy: 0.4737 - val_loss: 1.0145 - val_accuracy: 0.4605\n",
            "Epoch 119/120\n",
            "470/471 [============================>.] - ETA: 0s - loss: 1.0090 - accuracy: 0.4745"
          ]
        },
        {
          "name": "stderr",
          "output_type": "stream",
          "text": [
            " 99%|█████████▉| 119/120 [15:34<00:08,  8.04s/epoch, loss=1.01, accuracy=0.474, val_loss=1.02, val_accuracy=0.457]"
          ]
        },
        {
          "name": "stdout",
          "output_type": "stream",
          "text": [
            "471/471 [==============================] - 8s 17ms/step - loss: 1.0090 - accuracy: 0.4744 - val_loss: 1.0152 - val_accuracy: 0.4574\n",
            "Epoch 120/120\n",
            "470/471 [============================>.] - ETA: 0s - loss: 1.0109 - accuracy: 0.4743"
          ]
        },
        {
          "name": "stderr",
          "output_type": "stream",
          "text": [
            "100%|██████████| 120/120 [15:42<00:00,  7.97s/epoch, loss=1.01, accuracy=0.474, val_loss=1.01, val_accuracy=0.461]"
          ]
        },
        {
          "name": "stdout",
          "output_type": "stream",
          "text": [
            "471/471 [==============================] - 8s 17ms/step - loss: 1.0110 - accuracy: 0.4743 - val_loss: 1.0146 - val_accuracy: 0.4614\n"
          ]
        },
        {
          "name": "stderr",
          "output_type": "stream",
          "text": [
            "100%|██████████| 120/120 [15:42<00:00,  7.86s/epoch, loss=1.01, accuracy=0.474, val_loss=1.01, val_accuracy=0.461]\n"
          ]
        }
      ],
      "source": [
        "import tensorflow as tf\n",
        "from tensorflow.keras.models import Sequential\n",
        "from tensorflow.keras.layers import Dense, Dropout, LSTM, BatchNormalization\n",
        "from tensorflow.keras.callbacks import ModelCheckpoint, TensorBoard\n",
        "import os\n",
        "from tqdm.keras import TqdmCallback\n",
        "import datetime\n",
        "from tensorflow.keras.layers import Bidirectional\n",
        "from tensorflow.keras import regularizers\n",
        "import json\n",
        "# model\n",
        "model = Sequential()\n",
        "\n",
        "for _ in range(layers-1):\n",
        "  model.add(LSTM(nodes, \n",
        "               activation=\"tanh\", \n",
        "               recurrent_activation = 'sigmoid', \n",
        "               recurrent_dropout = rec_dropout, \n",
        "               unroll = False, \n",
        "               use_bias = True, \n",
        "               input_shape=(train_x.shape[1:]), \n",
        "               return_sequences=True,\n",
        "               kernel_regularizer=regularizers.l1_l2(l1=l1l2_reg/10, l2=l1l2_reg),\n",
        "               #bias_regularizer=regularizers.l2(l1l2_reg),\n",
        "               activity_regularizer=regularizers.l2(l1l2_reg)\n",
        "               ))\n",
        "  model.add(Dropout(dropOut))\n",
        "  #model.add(BatchNormalization())\n",
        "\n",
        "model.add(LSTM(nodes, \n",
        "             activation=\"tanh\", \n",
        "             recurrent_activation = 'sigmoid', \n",
        "             recurrent_dropout = rec_dropout, \n",
        "             unroll = False, \n",
        "             use_bias = True, \n",
        "             input_shape=(train_x.shape[1:]),\n",
        "             kernel_regularizer=regularizers.l1_l2(l1=l1l2_reg/10, l2=l1l2_reg),\n",
        "             #bias_regularizer=regularizers.l2(l1l2_reg),\n",
        "             activity_regularizer=regularizers.l2(l1l2_reg)\n",
        "             ))\n",
        "model.add(Dropout(dropOut))\n",
        "#model.add(BatchNormalization())\n",
        "\n",
        "model.add(Dense(denseNodes, \n",
        "                activation=\"relu\",\n",
        "                kernel_regularizer=regularizers.l1_l2(l1=l1l2_reg/10, l2=l1l2_reg),\n",
        "                #bias_regularizer=regularizers.l2(l1l2_reg), \n",
        "                activity_regularizer=regularizers.l2(l1l2_reg)))\n",
        "model.add(Dropout(dropOut))\n",
        "\n",
        "model.add(Dense(3, activation=\"softmax\"))\n",
        "\n",
        "\n",
        "\n",
        "# opt  \n",
        "opt = tf.keras.optimizers.Adam(lr=learningRate) # decay?\n",
        "\n",
        "\n",
        "model.compile(loss=\"sparse_categorical_crossentropy\",\n",
        "              optimizer = opt,\n",
        "              metrics=[\"accuracy\"])\n",
        "\n",
        "\n",
        "filename = \"\" + NAME + \"-{epoch:02d}\"\n",
        "filepath = f\"models/{filename}.h5\"\n",
        "checkpoint = ModelCheckpoint(filepath, monitor='val_loss', verbose=0, save_best_only=False, save_weights_only=False, mode='auto', period=1) # saves every epoch\n",
        "\n",
        "# Prepare TensorBoard callback\n",
        "log_dir = \"../logs/fit/\" + f\"{NAME}\" + datetime.datetime.now().strftime(\"%Y%m%d-%H%M%S\")\n",
        "tensorboard_callback = TensorBoard(log_dir=log_dir, histogram_freq=1)\n",
        "\n",
        "\n",
        "# store hyper-parameters\n",
        "# Path to the JSON file\n",
        "file_path = \"models/hps/hps.json\"\n",
        "# Load the JSON file into a dictionary\n",
        "with open(file_path, \"r\") as json_file:\n",
        "    data = json.load(json_file)\n",
        "# Add a new key-value pair to the dictionary\n",
        "data[f\"{NAME}\" + datetime.datetime.now().strftime(\"%Y%m%d-%H%M%S\")] = hp_suffix\n",
        "# Write the updated dictionary back to the file\n",
        "with open(file_path, \"w\") as json_file:\n",
        "    json.dump(data, json_file, indent=4)\n",
        "\n",
        "\n",
        "\n",
        "\n",
        "# train\n",
        "history = model.fit(\n",
        "  train_x, train_y,\n",
        "  batch_size = batchSize,\n",
        "  epochs = EPOCHS,\n",
        "  validation_data=(validation_x, validation_y),\n",
        "  callbacks=[checkpoint, TqdmCallback(verbose=0), tensorboard_callback])\n",
        "  #callbacks=[checkpoint])"
      ]
    }
  ],
  "metadata": {
    "accelerator": "GPU",
    "colab": {
      "collapsed_sections": [],
      "machine_shape": "hm",
      "name": "modelTrainPreClassified.ipynb",
      "provenance": []
    },
    "kernelspec": {
      "display_name": "Python 3",
      "name": "python3"
    },
    "language_info": {
      "codemirror_mode": {
        "name": "ipython",
        "version": 3
      },
      "file_extension": ".py",
      "mimetype": "text/x-python",
      "name": "python",
      "nbconvert_exporter": "python",
      "pygments_lexer": "ipython3",
      "version": "3.10.12"
    }
  },
  "nbformat": 4,
  "nbformat_minor": 0
}
