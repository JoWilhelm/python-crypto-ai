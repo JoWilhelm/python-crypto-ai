{
  "cells": [
    {
      "attachments": {},
      "cell_type": "markdown",
      "metadata": {
        "id": "M7KYj8EtoPxZ"
      },
      "source": [
        "# Constants:"
      ]
    },
    {
      "cell_type": "code",
      "execution_count": 1,
      "metadata": {
        "id": "ZsusFSopoVfn"
      },
      "outputs": [],
      "source": [
        "SEQ_LEN = 240   # how many past candles to use to predict\n",
        "CANDLES_SHIFT = 5 # how many candles to shift between sequences\n",
        "NAME = \"shift5_seq240_ov40th004\"\n",
        "VALIDATION_PCT = 0.2"
      ]
    },
    {
      "cell_type": "code",
      "execution_count": 2,
      "metadata": {},
      "outputs": [],
      "source": [
        "import pickle\n",
        "\n",
        "with open(f\"data/pkl/{NAME}/{NAME}_train_x.pkl\", \"rb\") as file:\n",
        "    train_x = pickle.load(file)\n",
        "with open(f\"data/pkl/{NAME}/{NAME}_train_y.pkl\", \"rb\") as file:\n",
        "    train_y = pickle.load(file)\n",
        "with open(f\"data/pkl/{NAME}/{NAME}_validation_x.pkl\", \"rb\") as file:\n",
        "    validation_x = pickle.load(file)\n",
        "with open(f\"data/pkl/{NAME}/{NAME}_validation_y.pkl\", \"rb\") as file:\n",
        "    validation_y = pickle.load(file)"
      ]
    },
    {
      "attachments": {},
      "cell_type": "markdown",
      "metadata": {
        "id": "LXt32q1Tt39k"
      },
      "source": [
        "# Model:"
      ]
    },
    {
      "cell_type": "code",
      "execution_count": 3,
      "metadata": {},
      "outputs": [
        {
          "name": "stdout",
          "output_type": "stream",
          "text": [
            "Num GPUs Available:  1\n"
          ]
        }
      ],
      "source": [
        "import tensorflow as tf\n",
        "print(\"Num GPUs Available: \", len(tf.config.experimental.list_physical_devices('GPU')))\n"
      ]
    },
    {
      "attachments": {},
      "cell_type": "markdown",
      "metadata": {
        "id": "QNzTVj7Ue8Vg"
      },
      "source": [
        "hyper parameters bounds"
      ]
    },
    {
      "cell_type": "code",
      "execution_count": 4,
      "metadata": {
        "colab": {
          "background_save": true
        },
        "id": "mXBNmip7e7or"
      },
      "outputs": [
        {
          "name": "stderr",
          "output_type": "stream",
          "text": [
            "c:\\Users\\Johannes\\miniconda3\\envs\\Quant\\lib\\site-packages\\tqdm\\auto.py:21: TqdmWarning: IProgress not found. Please update jupyter and ipywidgets. See https://ipywidgets.readthedocs.io/en/stable/user_install.html\n",
            "  from .autonotebook import tqdm as notebook_tqdm\n"
          ]
        }
      ],
      "source": [
        "import tensorflow as tf\n",
        "from tensorflow.keras.models import Sequential\n",
        "from tensorflow.keras.layers import Dense, Dropout, LSTM, BatchNormalization\n",
        "from tensorflow.keras.callbacks import ModelCheckpoint, TensorBoard\n",
        "import os\n",
        "from tqdm.keras import TqdmCallback\n",
        "import datetime\n",
        "from tensorflow.keras.layers import Bidirectional\n",
        "from tensorflow.keras import regularizers\n",
        "import json"
      ]
    },
    {
      "cell_type": "code",
      "execution_count": 6,
      "metadata": {
        "id": "XYo0LRjEg2m4"
      },
      "outputs": [
        {
          "name": "stdout",
          "output_type": "stream",
          "text": [
            "WARNING:tensorflow:`period` argument is deprecated. Please use `save_freq` to specify the frequency in number of batches seen.\n"
          ]
        },
        {
          "name": "stderr",
          "output_type": "stream",
          "text": [
            "c:\\Users\\Johannes\\miniconda3\\envs\\Quant\\lib\\site-packages\\keras\\optimizers\\optimizer_v2\\adam.py:114: UserWarning: The `lr` argument is deprecated, use `learning_rate` instead.\n",
            "  super().__init__(name, **kwargs)\n",
            "  0%|          | 0/200 [00:00<?, ?epoch/s]"
          ]
        },
        {
          "name": "stdout",
          "output_type": "stream",
          "text": [
            "Epoch 1/200\n",
            "412/412 [==============================] - ETA: 0s - loss: 4.0008 - accuracy: 0.3451"
          ]
        },
        {
          "name": "stderr",
          "output_type": "stream",
          "text": [
            "  0%|          | 1/200 [01:29<4:56:51, 89.50s/epoch, loss=4, accuracy=0.345, val_loss=3.69, val_accuracy=0.499]"
          ]
        },
        {
          "name": "stdout",
          "output_type": "stream",
          "text": [
            "412/412 [==============================] - 90s 204ms/step - loss: 4.0008 - accuracy: 0.3451 - val_loss: 3.6859 - val_accuracy: 0.4988\n",
            "Epoch 2/200\n",
            "412/412 [==============================] - ETA: 0s - loss: 3.8321 - accuracy: 0.3529"
          ]
        },
        {
          "name": "stderr",
          "output_type": "stream",
          "text": [
            "  1%|          | 2/200 [02:51<4:41:26, 85.28s/epoch, loss=3.83, accuracy=0.353, val_loss=3.58, val_accuracy=0.504]"
          ]
        },
        {
          "name": "stdout",
          "output_type": "stream",
          "text": [
            "412/412 [==============================] - 82s 200ms/step - loss: 3.8321 - accuracy: 0.3529 - val_loss: 3.5795 - val_accuracy: 0.5042\n",
            "Epoch 3/200\n",
            "412/412 [==============================] - ETA: 0s - loss: 3.6918 - accuracy: 0.3663"
          ]
        },
        {
          "name": "stderr",
          "output_type": "stream",
          "text": [
            "  2%|▏         | 3/200 [04:14<4:35:47, 84.00s/epoch, loss=3.69, accuracy=0.366, val_loss=3.48, val_accuracy=0.497]"
          ]
        },
        {
          "name": "stdout",
          "output_type": "stream",
          "text": [
            "412/412 [==============================] - 82s 200ms/step - loss: 3.6918 - accuracy: 0.3663 - val_loss: 3.4780 - val_accuracy: 0.4967\n",
            "Epoch 4/200\n",
            "412/412 [==============================] - ETA: 0s - loss: 3.5637 - accuracy: 0.3746"
          ]
        },
        {
          "name": "stderr",
          "output_type": "stream",
          "text": [
            "  2%|▏         | 4/200 [05:37<4:32:58, 83.56s/epoch, loss=3.56, accuracy=0.375, val_loss=3.38, val_accuracy=0.494]"
          ]
        },
        {
          "name": "stdout",
          "output_type": "stream",
          "text": [
            "412/412 [==============================] - 83s 201ms/step - loss: 3.5637 - accuracy: 0.3746 - val_loss: 3.3776 - val_accuracy: 0.4943\n",
            "Epoch 5/200\n",
            "412/412 [==============================] - ETA: 0s - loss: 3.4427 - accuracy: 0.3841"
          ]
        },
        {
          "name": "stderr",
          "output_type": "stream",
          "text": [
            "  2%|▎         | 5/200 [06:59<4:29:46, 83.01s/epoch, loss=3.44, accuracy=0.384, val_loss=3.28, val_accuracy=0.492]"
          ]
        },
        {
          "name": "stdout",
          "output_type": "stream",
          "text": [
            "412/412 [==============================] - 82s 199ms/step - loss: 3.4427 - accuracy: 0.3841 - val_loss: 3.2774 - val_accuracy: 0.4917\n",
            "Epoch 6/200\n",
            "412/412 [==============================] - ETA: 0s - loss: 3.3308 - accuracy: 0.3895"
          ]
        },
        {
          "name": "stderr",
          "output_type": "stream",
          "text": [
            "  3%|▎         | 6/200 [08:21<4:27:44, 82.80s/epoch, loss=3.33, accuracy=0.389, val_loss=3.18, val_accuracy=0.493]"
          ]
        },
        {
          "name": "stdout",
          "output_type": "stream",
          "text": [
            "412/412 [==============================] - 82s 200ms/step - loss: 3.3308 - accuracy: 0.3895 - val_loss: 3.1769 - val_accuracy: 0.4927\n",
            "Epoch 7/200\n",
            "412/412 [==============================] - ETA: 0s - loss: 3.2141 - accuracy: 0.4067"
          ]
        },
        {
          "name": "stderr",
          "output_type": "stream",
          "text": [
            "  4%|▎         | 7/200 [09:44<4:26:20, 82.80s/epoch, loss=3.21, accuracy=0.407, val_loss=3.08, val_accuracy=0.496]"
          ]
        },
        {
          "name": "stdout",
          "output_type": "stream",
          "text": [
            "412/412 [==============================] - 83s 201ms/step - loss: 3.2141 - accuracy: 0.4067 - val_loss: 3.0752 - val_accuracy: 0.4961\n",
            "Epoch 8/200\n",
            "412/412 [==============================] - ETA: 0s - loss: 3.1039 - accuracy: 0.4133"
          ]
        },
        {
          "name": "stderr",
          "output_type": "stream",
          "text": [
            "  4%|▍         | 8/200 [11:06<4:24:10, 82.55s/epoch, loss=3.1, accuracy=0.413, val_loss=2.97, val_accuracy=0.505] "
          ]
        },
        {
          "name": "stdout",
          "output_type": "stream",
          "text": [
            "412/412 [==============================] - 82s 199ms/step - loss: 3.1039 - accuracy: 0.4133 - val_loss: 2.9713 - val_accuracy: 0.5050\n",
            "Epoch 9/200\n",
            "412/412 [==============================] - ETA: 0s - loss: 2.9967 - accuracy: 0.4281"
          ]
        },
        {
          "name": "stderr",
          "output_type": "stream",
          "text": [
            "  4%|▍         | 9/200 [12:28<4:22:37, 82.50s/epoch, loss=3, accuracy=0.428, val_loss=2.87, val_accuracy=0.521]  "
          ]
        },
        {
          "name": "stdout",
          "output_type": "stream",
          "text": [
            "412/412 [==============================] - 82s 200ms/step - loss: 2.9967 - accuracy: 0.4281 - val_loss: 2.8667 - val_accuracy: 0.5212\n",
            "Epoch 10/200\n",
            "412/412 [==============================] - ETA: 0s - loss: 2.8886 - accuracy: 0.4419"
          ]
        },
        {
          "name": "stderr",
          "output_type": "stream",
          "text": [
            "  5%|▌         | 10/200 [13:51<4:21:03, 82.44s/epoch, loss=2.89, accuracy=0.442, val_loss=2.76, val_accuracy=0.536]"
          ]
        },
        {
          "name": "stdout",
          "output_type": "stream",
          "text": [
            "412/412 [==============================] - 82s 200ms/step - loss: 2.8886 - accuracy: 0.4419 - val_loss: 2.7603 - val_accuracy: 0.5356\n",
            "Epoch 11/200\n",
            "412/412 [==============================] - ETA: 0s - loss: 2.7820 - accuracy: 0.4532"
          ]
        },
        {
          "name": "stderr",
          "output_type": "stream",
          "text": [
            "  6%|▌         | 11/200 [15:13<4:19:45, 82.46s/epoch, loss=2.78, accuracy=0.453, val_loss=2.66, val_accuracy=0.545]"
          ]
        },
        {
          "name": "stdout",
          "output_type": "stream",
          "text": [
            "412/412 [==============================] - 83s 200ms/step - loss: 2.7820 - accuracy: 0.4532 - val_loss: 2.6587 - val_accuracy: 0.5445\n",
            "Epoch 12/200\n",
            "412/412 [==============================] - ETA: 0s - loss: 2.6869 - accuracy: 0.4604"
          ]
        },
        {
          "name": "stderr",
          "output_type": "stream",
          "text": [
            "  6%|▌         | 12/200 [16:35<4:18:05, 82.37s/epoch, loss=2.69, accuracy=0.46, val_loss=2.57, val_accuracy=0.545] "
          ]
        },
        {
          "name": "stdout",
          "output_type": "stream",
          "text": [
            "412/412 [==============================] - 82s 199ms/step - loss: 2.6869 - accuracy: 0.4604 - val_loss: 2.5658 - val_accuracy: 0.5446\n",
            "Epoch 13/200\n",
            "412/412 [==============================] - ETA: 0s - loss: 2.5887 - accuracy: 0.4714"
          ]
        },
        {
          "name": "stderr",
          "output_type": "stream",
          "text": [
            "  6%|▋         | 13/200 [17:57<4:16:28, 82.29s/epoch, loss=2.59, accuracy=0.471, val_loss=2.47, val_accuracy=0.546]"
          ]
        },
        {
          "name": "stdout",
          "output_type": "stream",
          "text": [
            "412/412 [==============================] - 82s 199ms/step - loss: 2.5887 - accuracy: 0.4714 - val_loss: 2.4745 - val_accuracy: 0.5463\n",
            "Epoch 14/200\n",
            "412/412 [==============================] - ETA: 0s - loss: 2.4993 - accuracy: 0.4789"
          ]
        },
        {
          "name": "stderr",
          "output_type": "stream",
          "text": [
            "  7%|▋         | 14/200 [19:20<4:15:15, 82.34s/epoch, loss=2.5, accuracy=0.479, val_loss=2.39, val_accuracy=0.553] "
          ]
        },
        {
          "name": "stdout",
          "output_type": "stream",
          "text": [
            "412/412 [==============================] - 82s 200ms/step - loss: 2.4993 - accuracy: 0.4789 - val_loss: 2.3869 - val_accuracy: 0.5533\n",
            "Epoch 15/200\n",
            "412/412 [==============================] - ETA: 0s - loss: 2.4096 - accuracy: 0.4850"
          ]
        },
        {
          "name": "stderr",
          "output_type": "stream",
          "text": [
            "  8%|▊         | 15/200 [20:42<4:13:43, 82.29s/epoch, loss=2.41, accuracy=0.485, val_loss=2.3, val_accuracy=0.554]"
          ]
        },
        {
          "name": "stdout",
          "output_type": "stream",
          "text": [
            "412/412 [==============================] - 82s 199ms/step - loss: 2.4096 - accuracy: 0.4850 - val_loss: 2.3050 - val_accuracy: 0.5544\n",
            "Epoch 16/200\n",
            "412/412 [==============================] - ETA: 0s - loss: 2.3334 - accuracy: 0.4908"
          ]
        },
        {
          "name": "stderr",
          "output_type": "stream",
          "text": [
            "  8%|▊         | 16/200 [22:04<4:12:27, 82.33s/epoch, loss=2.33, accuracy=0.491, val_loss=2.23, val_accuracy=0.558]"
          ]
        },
        {
          "name": "stdout",
          "output_type": "stream",
          "text": [
            "412/412 [==============================] - 82s 200ms/step - loss: 2.3334 - accuracy: 0.4908 - val_loss: 2.2281 - val_accuracy: 0.5584\n",
            "Epoch 17/200\n",
            "412/412 [==============================] - ETA: 0s - loss: 2.2533 - accuracy: 0.4999"
          ]
        },
        {
          "name": "stderr",
          "output_type": "stream",
          "text": [
            "  8%|▊         | 17/200 [23:27<4:11:16, 82.38s/epoch, loss=2.25, accuracy=0.5, val_loss=2.15, val_accuracy=0.562]  "
          ]
        },
        {
          "name": "stdout",
          "output_type": "stream",
          "text": [
            "412/412 [==============================] - 83s 200ms/step - loss: 2.2533 - accuracy: 0.4999 - val_loss: 2.1547 - val_accuracy: 0.5617\n",
            "Epoch 18/200\n",
            "412/412 [==============================] - ETA: 0s - loss: 2.1851 - accuracy: 0.4998"
          ]
        },
        {
          "name": "stderr",
          "output_type": "stream",
          "text": [
            "  9%|▉         | 18/200 [24:49<4:09:39, 82.31s/epoch, loss=2.19, accuracy=0.5, val_loss=2.09, val_accuracy=0.566]"
          ]
        },
        {
          "name": "stdout",
          "output_type": "stream",
          "text": [
            "412/412 [==============================] - 82s 199ms/step - loss: 2.1851 - accuracy: 0.4998 - val_loss: 2.0873 - val_accuracy: 0.5658\n",
            "Epoch 19/200\n",
            "412/412 [==============================] - ETA: 0s - loss: 2.1165 - accuracy: 0.5075"
          ]
        },
        {
          "name": "stderr",
          "output_type": "stream",
          "text": [
            " 10%|▉         | 19/200 [26:12<4:08:47, 82.47s/epoch, loss=2.12, accuracy=0.507, val_loss=2.02, val_accuracy=0.571]"
          ]
        },
        {
          "name": "stdout",
          "output_type": "stream",
          "text": [
            "412/412 [==============================] - 83s 201ms/step - loss: 2.1165 - accuracy: 0.5075 - val_loss: 2.0244 - val_accuracy: 0.5705\n",
            "Epoch 20/200\n",
            "412/412 [==============================] - ETA: 0s - loss: 2.0576 - accuracy: 0.5113"
          ]
        },
        {
          "name": "stderr",
          "output_type": "stream",
          "text": [
            " 10%|█         | 20/200 [27:34<4:07:24, 82.47s/epoch, loss=2.06, accuracy=0.511, val_loss=1.97, val_accuracy=0.566]"
          ]
        },
        {
          "name": "stdout",
          "output_type": "stream",
          "text": [
            "412/412 [==============================] - 82s 200ms/step - loss: 2.0576 - accuracy: 0.5113 - val_loss: 1.9700 - val_accuracy: 0.5655\n",
            "Epoch 21/200\n",
            "412/412 [==============================] - ETA: 0s - loss: 2.0034 - accuracy: 0.5144"
          ]
        },
        {
          "name": "stderr",
          "output_type": "stream",
          "text": [
            " 10%|█         | 21/200 [28:57<4:06:19, 82.56s/epoch, loss=2, accuracy=0.514, val_loss=1.92, val_accuracy=0.572]   "
          ]
        },
        {
          "name": "stdout",
          "output_type": "stream",
          "text": [
            "412/412 [==============================] - 83s 201ms/step - loss: 2.0034 - accuracy: 0.5144 - val_loss: 1.9182 - val_accuracy: 0.5720\n",
            "Epoch 22/200\n",
            "412/412 [==============================] - ETA: 0s - loss: 1.9539 - accuracy: 0.5213"
          ]
        },
        {
          "name": "stderr",
          "output_type": "stream",
          "text": [
            " 11%|█         | 22/200 [30:19<4:04:36, 82.45s/epoch, loss=1.95, accuracy=0.521, val_loss=1.87, val_accuracy=0.572]"
          ]
        },
        {
          "name": "stdout",
          "output_type": "stream",
          "text": [
            "412/412 [==============================] - 82s 199ms/step - loss: 1.9539 - accuracy: 0.5213 - val_loss: 1.8739 - val_accuracy: 0.5725\n",
            "Epoch 23/200\n",
            "412/412 [==============================] - ETA: 0s - loss: 1.9121 - accuracy: 0.5194"
          ]
        },
        {
          "name": "stderr",
          "output_type": "stream",
          "text": [
            " 12%|█▏        | 23/200 [31:41<4:02:38, 82.25s/epoch, loss=1.91, accuracy=0.519, val_loss=1.83, val_accuracy=0.572]"
          ]
        },
        {
          "name": "stdout",
          "output_type": "stream",
          "text": [
            "412/412 [==============================] - 82s 199ms/step - loss: 1.9121 - accuracy: 0.5194 - val_loss: 1.8345 - val_accuracy: 0.5716\n",
            "Epoch 24/200\n",
            "412/412 [==============================] - ETA: 0s - loss: 1.8732 - accuracy: 0.5218"
          ]
        },
        {
          "name": "stderr",
          "output_type": "stream",
          "text": [
            " 12%|█▏        | 24/200 [33:03<4:00:54, 82.13s/epoch, loss=1.87, accuracy=0.522, val_loss=1.8, val_accuracy=0.577] "
          ]
        },
        {
          "name": "stdout",
          "output_type": "stream",
          "text": [
            "412/412 [==============================] - 82s 199ms/step - loss: 1.8732 - accuracy: 0.5218 - val_loss: 1.7961 - val_accuracy: 0.5770\n",
            "Epoch 25/200\n",
            "412/412 [==============================] - ETA: 0s - loss: 1.8400 - accuracy: 0.5292"
          ]
        },
        {
          "name": "stderr",
          "output_type": "stream",
          "text": [
            " 12%|█▎        | 25/200 [34:25<3:59:35, 82.14s/epoch, loss=1.84, accuracy=0.529, val_loss=1.77, val_accuracy=0.572]"
          ]
        },
        {
          "name": "stdout",
          "output_type": "stream",
          "text": [
            "412/412 [==============================] - 82s 199ms/step - loss: 1.8400 - accuracy: 0.5292 - val_loss: 1.7684 - val_accuracy: 0.5721\n",
            "Epoch 26/200\n",
            "412/412 [==============================] - ETA: 0s - loss: 1.8106 - accuracy: 0.5315"
          ]
        },
        {
          "name": "stderr",
          "output_type": "stream",
          "text": [
            " 13%|█▎        | 26/200 [35:48<3:58:29, 82.24s/epoch, loss=1.81, accuracy=0.531, val_loss=1.74, val_accuracy=0.58] "
          ]
        },
        {
          "name": "stdout",
          "output_type": "stream",
          "text": [
            "412/412 [==============================] - 82s 200ms/step - loss: 1.8106 - accuracy: 0.5315 - val_loss: 1.7402 - val_accuracy: 0.5797\n",
            "Epoch 27/200\n",
            "412/412 [==============================] - ETA: 0s - loss: 1.7874 - accuracy: 0.5328"
          ]
        },
        {
          "name": "stderr",
          "output_type": "stream",
          "text": [
            " 14%|█▎        | 27/200 [37:10<3:57:01, 82.20s/epoch, loss=1.79, accuracy=0.533, val_loss=1.71, val_accuracy=0.584]"
          ]
        },
        {
          "name": "stdout",
          "output_type": "stream",
          "text": [
            "412/412 [==============================] - 82s 199ms/step - loss: 1.7874 - accuracy: 0.5328 - val_loss: 1.7147 - val_accuracy: 0.5839\n",
            "Epoch 28/200\n",
            "412/412 [==============================] - ETA: 0s - loss: 1.7613 - accuracy: 0.5363"
          ]
        },
        {
          "name": "stderr",
          "output_type": "stream",
          "text": [
            " 14%|█▍        | 28/200 [38:32<3:55:34, 82.18s/epoch, loss=1.76, accuracy=0.536, val_loss=1.7, val_accuracy=0.589] "
          ]
        },
        {
          "name": "stdout",
          "output_type": "stream",
          "text": [
            "412/412 [==============================] - 82s 199ms/step - loss: 1.7613 - accuracy: 0.5363 - val_loss: 1.6965 - val_accuracy: 0.5888\n",
            "Epoch 29/200\n",
            "412/412 [==============================] - ETA: 0s - loss: 1.7393 - accuracy: 0.5448"
          ]
        },
        {
          "name": "stderr",
          "output_type": "stream",
          "text": [
            " 14%|█▍        | 29/200 [39:54<3:54:18, 82.21s/epoch, loss=1.74, accuracy=0.545, val_loss=1.68, val_accuracy=0.584]"
          ]
        },
        {
          "name": "stdout",
          "output_type": "stream",
          "text": [
            "412/412 [==============================] - 82s 200ms/step - loss: 1.7393 - accuracy: 0.5448 - val_loss: 1.6780 - val_accuracy: 0.5842\n",
            "Epoch 30/200\n",
            "412/412 [==============================] - ETA: 0s - loss: 1.7244 - accuracy: 0.5411"
          ]
        },
        {
          "name": "stderr",
          "output_type": "stream",
          "text": [
            " 15%|█▌        | 30/200 [41:17<3:53:41, 82.48s/epoch, loss=1.72, accuracy=0.541, val_loss=1.66, val_accuracy=0.593]"
          ]
        },
        {
          "name": "stdout",
          "output_type": "stream",
          "text": [
            "412/412 [==============================] - 83s 202ms/step - loss: 1.7244 - accuracy: 0.5411 - val_loss: 1.6617 - val_accuracy: 0.5930\n",
            "Epoch 31/200\n",
            "412/412 [==============================] - ETA: 0s - loss: 1.7092 - accuracy: 0.5441"
          ]
        },
        {
          "name": "stderr",
          "output_type": "stream",
          "text": [
            " 16%|█▌        | 31/200 [42:41<3:53:03, 82.74s/epoch, loss=1.71, accuracy=0.544, val_loss=1.65, val_accuracy=0.585]"
          ]
        },
        {
          "name": "stdout",
          "output_type": "stream",
          "text": [
            "412/412 [==============================] - 83s 202ms/step - loss: 1.7092 - accuracy: 0.5441 - val_loss: 1.6464 - val_accuracy: 0.5852\n",
            "Epoch 32/200\n",
            "412/412 [==============================] - ETA: 0s - loss: 1.6937 - accuracy: 0.5480"
          ]
        },
        {
          "name": "stderr",
          "output_type": "stream",
          "text": [
            " 16%|█▌        | 32/200 [44:04<3:51:53, 82.82s/epoch, loss=1.69, accuracy=0.548, val_loss=1.63, val_accuracy=0.587]"
          ]
        },
        {
          "name": "stdout",
          "output_type": "stream",
          "text": [
            "412/412 [==============================] - 83s 202ms/step - loss: 1.6937 - accuracy: 0.5480 - val_loss: 1.6329 - val_accuracy: 0.5872\n",
            "Epoch 33/200\n",
            "412/412 [==============================] - ETA: 0s - loss: 1.6786 - accuracy: 0.5495"
          ]
        },
        {
          "name": "stderr",
          "output_type": "stream",
          "text": [
            " 16%|█▋        | 33/200 [45:26<3:50:31, 82.82s/epoch, loss=1.68, accuracy=0.55, val_loss=1.62, val_accuracy=0.588] "
          ]
        },
        {
          "name": "stdout",
          "output_type": "stream",
          "text": [
            "412/412 [==============================] - 83s 201ms/step - loss: 1.6786 - accuracy: 0.5495 - val_loss: 1.6205 - val_accuracy: 0.5883\n",
            "Epoch 34/200\n",
            "412/412 [==============================] - ETA: 0s - loss: 1.6686 - accuracy: 0.5533"
          ]
        },
        {
          "name": "stderr",
          "output_type": "stream",
          "text": [
            " 17%|█▋        | 34/200 [46:50<3:49:25, 82.92s/epoch, loss=1.67, accuracy=0.553, val_loss=1.61, val_accuracy=0.596]"
          ]
        },
        {
          "name": "stdout",
          "output_type": "stream",
          "text": [
            "412/412 [==============================] - 83s 202ms/step - loss: 1.6686 - accuracy: 0.5533 - val_loss: 1.6094 - val_accuracy: 0.5962\n",
            "Epoch 35/200\n",
            "412/412 [==============================] - ETA: 0s - loss: 1.6570 - accuracy: 0.5520"
          ]
        },
        {
          "name": "stderr",
          "output_type": "stream",
          "text": [
            " 18%|█▊        | 35/200 [48:13<3:48:00, 82.91s/epoch, loss=1.66, accuracy=0.552, val_loss=1.6, val_accuracy=0.599] "
          ]
        },
        {
          "name": "stdout",
          "output_type": "stream",
          "text": [
            "412/412 [==============================] - 83s 201ms/step - loss: 1.6570 - accuracy: 0.5520 - val_loss: 1.5987 - val_accuracy: 0.5985\n",
            "Epoch 36/200\n",
            "412/412 [==============================] - ETA: 0s - loss: 1.6461 - accuracy: 0.5553"
          ]
        },
        {
          "name": "stderr",
          "output_type": "stream",
          "text": [
            " 18%|█▊        | 36/200 [49:36<3:46:51, 82.99s/epoch, loss=1.65, accuracy=0.555, val_loss=1.59, val_accuracy=0.6] "
          ]
        },
        {
          "name": "stdout",
          "output_type": "stream",
          "text": [
            "412/412 [==============================] - 83s 202ms/step - loss: 1.6461 - accuracy: 0.5553 - val_loss: 1.5906 - val_accuracy: 0.5999\n",
            "Epoch 37/200\n",
            "412/412 [==============================] - ETA: 0s - loss: 1.6366 - accuracy: 0.5584"
          ]
        },
        {
          "name": "stderr",
          "output_type": "stream",
          "text": [
            " 18%|█▊        | 37/200 [50:59<3:45:29, 83.00s/epoch, loss=1.64, accuracy=0.558, val_loss=1.58, val_accuracy=0.588]"
          ]
        },
        {
          "name": "stdout",
          "output_type": "stream",
          "text": [
            "412/412 [==============================] - 83s 202ms/step - loss: 1.6366 - accuracy: 0.5584 - val_loss: 1.5805 - val_accuracy: 0.5883\n",
            "Epoch 38/200\n",
            "412/412 [==============================] - ETA: 0s - loss: 1.6234 - accuracy: 0.5595"
          ]
        },
        {
          "name": "stderr",
          "output_type": "stream",
          "text": [
            " 19%|█▉        | 38/200 [52:22<3:44:04, 82.99s/epoch, loss=1.62, accuracy=0.56, val_loss=1.57, val_accuracy=0.594] "
          ]
        },
        {
          "name": "stdout",
          "output_type": "stream",
          "text": [
            "412/412 [==============================] - 83s 201ms/step - loss: 1.6234 - accuracy: 0.5595 - val_loss: 1.5711 - val_accuracy: 0.5944\n",
            "Epoch 39/200\n",
            "412/412 [==============================] - ETA: 0s - loss: 1.6145 - accuracy: 0.5577"
          ]
        },
        {
          "name": "stderr",
          "output_type": "stream",
          "text": [
            " 20%|█▉        | 39/200 [53:45<3:42:53, 83.06s/epoch, loss=1.61, accuracy=0.558, val_loss=1.56, val_accuracy=0.602]"
          ]
        },
        {
          "name": "stdout",
          "output_type": "stream",
          "text": [
            "412/412 [==============================] - 83s 202ms/step - loss: 1.6145 - accuracy: 0.5577 - val_loss: 1.5627 - val_accuracy: 0.6022\n",
            "Epoch 40/200\n",
            "412/412 [==============================] - ETA: 0s - loss: 1.6053 - accuracy: 0.5603"
          ]
        },
        {
          "name": "stderr",
          "output_type": "stream",
          "text": [
            " 20%|██        | 40/200 [55:08<3:41:32, 83.08s/epoch, loss=1.61, accuracy=0.56, val_loss=1.56, val_accuracy=0.598] "
          ]
        },
        {
          "name": "stdout",
          "output_type": "stream",
          "text": [
            "412/412 [==============================] - 83s 202ms/step - loss: 1.6053 - accuracy: 0.5603 - val_loss: 1.5561 - val_accuracy: 0.5984\n",
            "Epoch 41/200\n",
            "412/412 [==============================] - ETA: 0s - loss: 1.5995 - accuracy: 0.5587"
          ]
        },
        {
          "name": "stderr",
          "output_type": "stream",
          "text": [
            " 20%|██        | 41/200 [56:31<3:39:48, 82.94s/epoch, loss=1.6, accuracy=0.559, val_loss=1.54, val_accuracy=0.598]"
          ]
        },
        {
          "name": "stdout",
          "output_type": "stream",
          "text": [
            "412/412 [==============================] - 83s 201ms/step - loss: 1.5995 - accuracy: 0.5587 - val_loss: 1.5440 - val_accuracy: 0.5984\n",
            "Epoch 42/200\n",
            "412/412 [==============================] - ETA: 0s - loss: 1.5849 - accuracy: 0.5625"
          ]
        },
        {
          "name": "stderr",
          "output_type": "stream",
          "text": [
            " 21%|██        | 42/200 [57:52<3:37:30, 82.60s/epoch, loss=1.58, accuracy=0.563, val_loss=1.53, val_accuracy=0.602]"
          ]
        },
        {
          "name": "stdout",
          "output_type": "stream",
          "text": [
            "412/412 [==============================] - 82s 199ms/step - loss: 1.5849 - accuracy: 0.5625 - val_loss: 1.5340 - val_accuracy: 0.6017\n",
            "Epoch 43/200\n",
            "412/412 [==============================] - ETA: 0s - loss: 1.5763 - accuracy: 0.5658"
          ]
        },
        {
          "name": "stderr",
          "output_type": "stream",
          "text": [
            " 22%|██▏       | 43/200 [59:14<3:35:30, 82.36s/epoch, loss=1.58, accuracy=0.566, val_loss=1.52, val_accuracy=0.601]"
          ]
        },
        {
          "name": "stdout",
          "output_type": "stream",
          "text": [
            "412/412 [==============================] - 82s 199ms/step - loss: 1.5763 - accuracy: 0.5658 - val_loss: 1.5247 - val_accuracy: 0.6008\n",
            "Epoch 44/200\n",
            "412/412 [==============================] - ETA: 0s - loss: 1.5642 - accuracy: 0.5676"
          ]
        },
        {
          "name": "stderr",
          "output_type": "stream",
          "text": [
            " 22%|██▏       | 44/200 [1:00:36<3:33:44, 82.21s/epoch, loss=1.56, accuracy=0.568, val_loss=1.52, val_accuracy=0.587]"
          ]
        },
        {
          "name": "stdout",
          "output_type": "stream",
          "text": [
            "412/412 [==============================] - 82s 199ms/step - loss: 1.5642 - accuracy: 0.5676 - val_loss: 1.5196 - val_accuracy: 0.5872\n",
            "Epoch 45/200\n",
            "412/412 [==============================] - ETA: 0s - loss: 1.5570 - accuracy: 0.5664"
          ]
        },
        {
          "name": "stderr",
          "output_type": "stream",
          "text": [
            " 22%|██▎       | 45/200 [1:01:58<3:32:02, 82.08s/epoch, loss=1.56, accuracy=0.566, val_loss=1.51, val_accuracy=0.599]"
          ]
        },
        {
          "name": "stdout",
          "output_type": "stream",
          "text": [
            "412/412 [==============================] - 82s 199ms/step - loss: 1.5570 - accuracy: 0.5664 - val_loss: 1.5091 - val_accuracy: 0.5990\n",
            "Epoch 46/200\n",
            "412/412 [==============================] - ETA: 0s - loss: 1.5508 - accuracy: 0.5683"
          ]
        },
        {
          "name": "stderr",
          "output_type": "stream",
          "text": [
            " 23%|██▎       | 46/200 [1:03:20<3:30:44, 82.11s/epoch, loss=1.55, accuracy=0.568, val_loss=1.5, val_accuracy=0.596] "
          ]
        },
        {
          "name": "stdout",
          "output_type": "stream",
          "text": [
            "412/412 [==============================] - 82s 200ms/step - loss: 1.5508 - accuracy: 0.5683 - val_loss: 1.5036 - val_accuracy: 0.5958\n",
            "Epoch 47/200\n",
            "412/412 [==============================] - ETA: 0s - loss: 1.5400 - accuracy: 0.5689"
          ]
        },
        {
          "name": "stderr",
          "output_type": "stream",
          "text": [
            " 24%|██▎       | 47/200 [1:04:42<3:29:24, 82.12s/epoch, loss=1.54, accuracy=0.569, val_loss=1.49, val_accuracy=0.602]"
          ]
        },
        {
          "name": "stdout",
          "output_type": "stream",
          "text": [
            "412/412 [==============================] - 82s 200ms/step - loss: 1.5400 - accuracy: 0.5689 - val_loss: 1.4895 - val_accuracy: 0.6016\n",
            "Epoch 48/200\n",
            "412/412 [==============================] - ETA: 0s - loss: 1.5314 - accuracy: 0.5703"
          ]
        },
        {
          "name": "stderr",
          "output_type": "stream",
          "text": [
            " 24%|██▍       | 48/200 [1:06:04<3:28:04, 82.14s/epoch, loss=1.53, accuracy=0.57, val_loss=1.49, val_accuracy=0.591] "
          ]
        },
        {
          "name": "stdout",
          "output_type": "stream",
          "text": [
            "412/412 [==============================] - 82s 199ms/step - loss: 1.5314 - accuracy: 0.5703 - val_loss: 1.4871 - val_accuracy: 0.5913\n",
            "Epoch 49/200\n",
            "412/412 [==============================] - ETA: 0s - loss: 1.5248 - accuracy: 0.5692"
          ]
        },
        {
          "name": "stderr",
          "output_type": "stream",
          "text": [
            " 24%|██▍       | 49/200 [1:07:27<3:26:48, 82.18s/epoch, loss=1.52, accuracy=0.569, val_loss=1.48, val_accuracy=0.59]"
          ]
        },
        {
          "name": "stdout",
          "output_type": "stream",
          "text": [
            "412/412 [==============================] - 82s 200ms/step - loss: 1.5248 - accuracy: 0.5692 - val_loss: 1.4776 - val_accuracy: 0.5897\n",
            "Epoch 50/200\n",
            "412/412 [==============================] - ETA: 0s - loss: 1.5155 - accuracy: 0.5696"
          ]
        },
        {
          "name": "stderr",
          "output_type": "stream",
          "text": [
            " 25%|██▌       | 50/200 [1:08:49<3:25:13, 82.09s/epoch, loss=1.52, accuracy=0.57, val_loss=1.47, val_accuracy=0.598]"
          ]
        },
        {
          "name": "stdout",
          "output_type": "stream",
          "text": [
            "412/412 [==============================] - 82s 199ms/step - loss: 1.5155 - accuracy: 0.5696 - val_loss: 1.4696 - val_accuracy: 0.5979\n",
            "Epoch 51/200\n",
            "412/412 [==============================] - ETA: 0s - loss: 1.5060 - accuracy: 0.5758"
          ]
        },
        {
          "name": "stderr",
          "output_type": "stream",
          "text": [
            " 26%|██▌       | 51/200 [1:10:11<3:23:50, 82.08s/epoch, loss=1.51, accuracy=0.576, val_loss=1.46, val_accuracy=0.589]"
          ]
        },
        {
          "name": "stdout",
          "output_type": "stream",
          "text": [
            "412/412 [==============================] - 82s 199ms/step - loss: 1.5060 - accuracy: 0.5758 - val_loss: 1.4600 - val_accuracy: 0.5894\n",
            "Epoch 52/200\n",
            "412/412 [==============================] - ETA: 0s - loss: 1.4964 - accuracy: 0.5778"
          ]
        },
        {
          "name": "stderr",
          "output_type": "stream",
          "text": [
            " 26%|██▌       | 52/200 [1:11:33<3:22:29, 82.09s/epoch, loss=1.5, accuracy=0.578, val_loss=1.45, val_accuracy=0.597] "
          ]
        },
        {
          "name": "stdout",
          "output_type": "stream",
          "text": [
            "412/412 [==============================] - 82s 199ms/step - loss: 1.4964 - accuracy: 0.5778 - val_loss: 1.4540 - val_accuracy: 0.5967\n",
            "Epoch 53/200\n",
            "412/412 [==============================] - ETA: 0s - loss: 1.4878 - accuracy: 0.5727"
          ]
        },
        {
          "name": "stderr",
          "output_type": "stream",
          "text": [
            " 26%|██▋       | 53/200 [1:12:55<3:21:07, 82.09s/epoch, loss=1.49, accuracy=0.573, val_loss=1.44, val_accuracy=0.598]"
          ]
        },
        {
          "name": "stdout",
          "output_type": "stream",
          "text": [
            "412/412 [==============================] - 82s 199ms/step - loss: 1.4878 - accuracy: 0.5727 - val_loss: 1.4427 - val_accuracy: 0.5982\n",
            "Epoch 54/200\n",
            "412/412 [==============================] - ETA: 0s - loss: 1.4831 - accuracy: 0.5749"
          ]
        },
        {
          "name": "stderr",
          "output_type": "stream",
          "text": [
            " 27%|██▋       | 54/200 [1:14:17<3:19:54, 82.15s/epoch, loss=1.48, accuracy=0.575, val_loss=1.44, val_accuracy=0.59] "
          ]
        },
        {
          "name": "stdout",
          "output_type": "stream",
          "text": [
            "412/412 [==============================] - 82s 200ms/step - loss: 1.4831 - accuracy: 0.5749 - val_loss: 1.4370 - val_accuracy: 0.5903\n",
            "Epoch 55/200\n",
            "412/412 [==============================] - ETA: 0s - loss: 1.4781 - accuracy: 0.5756"
          ]
        },
        {
          "name": "stderr",
          "output_type": "stream",
          "text": [
            " 28%|██▊       | 55/200 [1:15:39<3:18:29, 82.13s/epoch, loss=1.48, accuracy=0.576, val_loss=1.43, val_accuracy=0.594]"
          ]
        },
        {
          "name": "stdout",
          "output_type": "stream",
          "text": [
            "412/412 [==============================] - 82s 199ms/step - loss: 1.4781 - accuracy: 0.5756 - val_loss: 1.4339 - val_accuracy: 0.5943\n",
            "Epoch 56/200\n",
            "412/412 [==============================] - ETA: 0s - loss: 1.4691 - accuracy: 0.5755"
          ]
        },
        {
          "name": "stderr",
          "output_type": "stream",
          "text": [
            " 28%|██▊       | 56/200 [1:17:01<3:17:11, 82.16s/epoch, loss=1.47, accuracy=0.576, val_loss=1.43, val_accuracy=0.594]"
          ]
        },
        {
          "name": "stdout",
          "output_type": "stream",
          "text": [
            "412/412 [==============================] - 82s 200ms/step - loss: 1.4691 - accuracy: 0.5755 - val_loss: 1.4305 - val_accuracy: 0.5937\n",
            "Epoch 57/200\n",
            "412/412 [==============================] - ETA: 0s - loss: 1.4579 - accuracy: 0.5792"
          ]
        },
        {
          "name": "stderr",
          "output_type": "stream",
          "text": [
            " 28%|██▊       | 57/200 [1:18:24<3:15:52, 82.18s/epoch, loss=1.46, accuracy=0.579, val_loss=1.42, val_accuracy=0.599]"
          ]
        },
        {
          "name": "stdout",
          "output_type": "stream",
          "text": [
            "412/412 [==============================] - 82s 200ms/step - loss: 1.4579 - accuracy: 0.5792 - val_loss: 1.4183 - val_accuracy: 0.5986\n",
            "Epoch 58/200\n",
            "412/412 [==============================] - ETA: 0s - loss: 1.4508 - accuracy: 0.5764"
          ]
        },
        {
          "name": "stderr",
          "output_type": "stream",
          "text": [
            " 29%|██▉       | 58/200 [1:19:47<3:15:15, 82.50s/epoch, loss=1.45, accuracy=0.576, val_loss=1.41, val_accuracy=0.591]"
          ]
        },
        {
          "name": "stdout",
          "output_type": "stream",
          "text": [
            "412/412 [==============================] - 83s 202ms/step - loss: 1.4508 - accuracy: 0.5764 - val_loss: 1.4149 - val_accuracy: 0.5912\n",
            "Epoch 59/200\n",
            "412/412 [==============================] - ETA: 0s - loss: 1.4461 - accuracy: 0.5773"
          ]
        },
        {
          "name": "stderr",
          "output_type": "stream",
          "text": [
            " 30%|██▉       | 59/200 [1:21:09<3:13:30, 82.34s/epoch, loss=1.45, accuracy=0.577, val_loss=1.41, val_accuracy=0.584]"
          ]
        },
        {
          "name": "stdout",
          "output_type": "stream",
          "text": [
            "412/412 [==============================] - 82s 199ms/step - loss: 1.4461 - accuracy: 0.5773 - val_loss: 1.4080 - val_accuracy: 0.5842\n",
            "Epoch 60/200\n",
            "412/412 [==============================] - ETA: 0s - loss: 1.4364 - accuracy: 0.5827"
          ]
        },
        {
          "name": "stderr",
          "output_type": "stream",
          "text": [
            " 30%|███       | 60/200 [1:22:31<3:11:55, 82.26s/epoch, loss=1.44, accuracy=0.583, val_loss=1.4, val_accuracy=0.588] "
          ]
        },
        {
          "name": "stdout",
          "output_type": "stream",
          "text": [
            "412/412 [==============================] - 82s 199ms/step - loss: 1.4364 - accuracy: 0.5827 - val_loss: 1.4000 - val_accuracy: 0.5879\n",
            "Epoch 61/200\n",
            "412/412 [==============================] - ETA: 0s - loss: 1.4294 - accuracy: 0.5815"
          ]
        },
        {
          "name": "stderr",
          "output_type": "stream",
          "text": [
            " 30%|███       | 61/200 [1:23:53<3:10:25, 82.20s/epoch, loss=1.43, accuracy=0.582, val_loss=1.39, val_accuracy=0.601]"
          ]
        },
        {
          "name": "stdout",
          "output_type": "stream",
          "text": [
            "412/412 [==============================] - 82s 199ms/step - loss: 1.4294 - accuracy: 0.5815 - val_loss: 1.3863 - val_accuracy: 0.6007\n",
            "Epoch 62/200\n",
            "412/412 [==============================] - ETA: 0s - loss: 1.4216 - accuracy: 0.5820"
          ]
        },
        {
          "name": "stderr",
          "output_type": "stream",
          "text": [
            " 31%|███       | 62/200 [1:25:15<3:08:56, 82.15s/epoch, loss=1.42, accuracy=0.582, val_loss=1.39, val_accuracy=0.592]"
          ]
        },
        {
          "name": "stdout",
          "output_type": "stream",
          "text": [
            "412/412 [==============================] - 82s 199ms/step - loss: 1.4216 - accuracy: 0.5820 - val_loss: 1.3892 - val_accuracy: 0.5923\n",
            "Epoch 63/200\n",
            "412/412 [==============================] - ETA: 0s - loss: 1.4132 - accuracy: 0.5845"
          ]
        },
        {
          "name": "stderr",
          "output_type": "stream",
          "text": [
            " 32%|███▏      | 63/200 [1:26:37<3:07:30, 82.12s/epoch, loss=1.41, accuracy=0.585, val_loss=1.38, val_accuracy=0.589]"
          ]
        },
        {
          "name": "stdout",
          "output_type": "stream",
          "text": [
            "412/412 [==============================] - 82s 199ms/step - loss: 1.4132 - accuracy: 0.5845 - val_loss: 1.3791 - val_accuracy: 0.5886\n",
            "Epoch 64/200\n",
            "412/412 [==============================] - ETA: 0s - loss: 1.4090 - accuracy: 0.5805"
          ]
        },
        {
          "name": "stderr",
          "output_type": "stream",
          "text": [
            " 32%|███▏      | 64/200 [1:27:59<3:06:05, 82.10s/epoch, loss=1.41, accuracy=0.58, val_loss=1.37, val_accuracy=0.586] "
          ]
        },
        {
          "name": "stdout",
          "output_type": "stream",
          "text": [
            "412/412 [==============================] - 82s 199ms/step - loss: 1.4090 - accuracy: 0.5805 - val_loss: 1.3749 - val_accuracy: 0.5859\n",
            "Epoch 65/200\n",
            "412/412 [==============================] - ETA: 0s - loss: 1.4027 - accuracy: 0.5817"
          ]
        },
        {
          "name": "stderr",
          "output_type": "stream",
          "text": [
            " 32%|███▎      | 65/200 [1:29:21<3:04:37, 82.06s/epoch, loss=1.4, accuracy=0.582, val_loss=1.37, val_accuracy=0.593]"
          ]
        },
        {
          "name": "stdout",
          "output_type": "stream",
          "text": [
            "412/412 [==============================] - 82s 199ms/step - loss: 1.4027 - accuracy: 0.5817 - val_loss: 1.3675 - val_accuracy: 0.5927\n",
            "Epoch 66/200\n",
            "412/412 [==============================] - ETA: 0s - loss: 1.3948 - accuracy: 0.5831"
          ]
        },
        {
          "name": "stderr",
          "output_type": "stream",
          "text": [
            " 33%|███▎      | 66/200 [1:30:43<3:03:16, 82.06s/epoch, loss=1.39, accuracy=0.583, val_loss=1.36, val_accuracy=0.602]"
          ]
        },
        {
          "name": "stdout",
          "output_type": "stream",
          "text": [
            "412/412 [==============================] - 82s 199ms/step - loss: 1.3948 - accuracy: 0.5831 - val_loss: 1.3575 - val_accuracy: 0.6019\n",
            "Epoch 67/200\n",
            "412/412 [==============================] - ETA: 0s - loss: 1.3900 - accuracy: 0.5832"
          ]
        },
        {
          "name": "stderr",
          "output_type": "stream",
          "text": [
            " 34%|███▎      | 67/200 [1:32:05<3:01:41, 81.97s/epoch, loss=1.39, accuracy=0.583, val_loss=1.36, val_accuracy=0.597]"
          ]
        },
        {
          "name": "stdout",
          "output_type": "stream",
          "text": [
            "412/412 [==============================] - 82s 198ms/step - loss: 1.3900 - accuracy: 0.5832 - val_loss: 1.3558 - val_accuracy: 0.5975\n",
            "Epoch 68/200\n",
            "412/412 [==============================] - ETA: 0s - loss: 1.3828 - accuracy: 0.5840"
          ]
        },
        {
          "name": "stderr",
          "output_type": "stream",
          "text": [
            " 34%|███▍      | 68/200 [1:33:27<3:00:10, 81.90s/epoch, loss=1.38, accuracy=0.584, val_loss=1.35, val_accuracy=0.6]  "
          ]
        },
        {
          "name": "stdout",
          "output_type": "stream",
          "text": [
            "412/412 [==============================] - 82s 198ms/step - loss: 1.3828 - accuracy: 0.5840 - val_loss: 1.3483 - val_accuracy: 0.6003\n",
            "Epoch 69/200\n",
            "412/412 [==============================] - ETA: 0s - loss: 1.3770 - accuracy: 0.5868"
          ]
        },
        {
          "name": "stderr",
          "output_type": "stream",
          "text": [
            " 34%|███▍      | 69/200 [1:34:48<2:58:42, 81.85s/epoch, loss=1.38, accuracy=0.587, val_loss=1.35, val_accuracy=0.576]"
          ]
        },
        {
          "name": "stdout",
          "output_type": "stream",
          "text": [
            "412/412 [==============================] - 82s 198ms/step - loss: 1.3770 - accuracy: 0.5868 - val_loss: 1.3471 - val_accuracy: 0.5763\n",
            "Epoch 70/200\n",
            "412/412 [==============================] - ETA: 0s - loss: 1.3679 - accuracy: 0.5902"
          ]
        },
        {
          "name": "stderr",
          "output_type": "stream",
          "text": [
            " 35%|███▌      | 70/200 [1:36:10<2:57:17, 81.83s/epoch, loss=1.37, accuracy=0.59, val_loss=1.34, val_accuracy=0.589] "
          ]
        },
        {
          "name": "stdout",
          "output_type": "stream",
          "text": [
            "412/412 [==============================] - 82s 198ms/step - loss: 1.3679 - accuracy: 0.5902 - val_loss: 1.3369 - val_accuracy: 0.5888\n",
            "Epoch 71/200\n",
            "412/412 [==============================] - ETA: 0s - loss: 1.3620 - accuracy: 0.5834"
          ]
        },
        {
          "name": "stderr",
          "output_type": "stream",
          "text": [
            " 36%|███▌      | 71/200 [1:37:32<2:55:52, 81.80s/epoch, loss=1.36, accuracy=0.583, val_loss=1.33, val_accuracy=0.596]"
          ]
        },
        {
          "name": "stdout",
          "output_type": "stream",
          "text": [
            "412/412 [==============================] - 82s 198ms/step - loss: 1.3620 - accuracy: 0.5834 - val_loss: 1.3320 - val_accuracy: 0.5958\n",
            "Epoch 72/200\n",
            "412/412 [==============================] - ETA: 0s - loss: 1.3575 - accuracy: 0.5868"
          ]
        },
        {
          "name": "stderr",
          "output_type": "stream",
          "text": [
            " 36%|███▌      | 72/200 [1:38:54<2:54:27, 81.78s/epoch, loss=1.36, accuracy=0.587, val_loss=1.32, val_accuracy=0.587]"
          ]
        },
        {
          "name": "stdout",
          "output_type": "stream",
          "text": [
            "412/412 [==============================] - 82s 198ms/step - loss: 1.3575 - accuracy: 0.5868 - val_loss: 1.3233 - val_accuracy: 0.5870\n",
            "Epoch 73/200\n",
            "412/412 [==============================] - ETA: 0s - loss: 1.3490 - accuracy: 0.5883"
          ]
        },
        {
          "name": "stderr",
          "output_type": "stream",
          "text": [
            " 36%|███▋      | 73/200 [1:40:15<2:53:04, 81.76s/epoch, loss=1.35, accuracy=0.588, val_loss=1.32, val_accuracy=0.593]"
          ]
        },
        {
          "name": "stdout",
          "output_type": "stream",
          "text": [
            "412/412 [==============================] - 82s 198ms/step - loss: 1.3490 - accuracy: 0.5883 - val_loss: 1.3215 - val_accuracy: 0.5927\n",
            "Epoch 74/200\n",
            "412/412 [==============================] - ETA: 0s - loss: 1.3460 - accuracy: 0.5869"
          ]
        },
        {
          "name": "stderr",
          "output_type": "stream",
          "text": [
            " 37%|███▋      | 74/200 [1:41:37<2:51:41, 81.76s/epoch, loss=1.35, accuracy=0.587, val_loss=1.31, val_accuracy=0.598]"
          ]
        },
        {
          "name": "stdout",
          "output_type": "stream",
          "text": [
            "412/412 [==============================] - 82s 198ms/step - loss: 1.3460 - accuracy: 0.5869 - val_loss: 1.3124 - val_accuracy: 0.5976\n",
            "Epoch 75/200\n",
            "412/412 [==============================] - ETA: 0s - loss: 1.3366 - accuracy: 0.5888"
          ]
        },
        {
          "name": "stderr",
          "output_type": "stream",
          "text": [
            " 38%|███▊      | 75/200 [1:42:59<2:50:18, 81.75s/epoch, loss=1.34, accuracy=0.589, val_loss=1.31, val_accuracy=0.59] "
          ]
        },
        {
          "name": "stdout",
          "output_type": "stream",
          "text": [
            "412/412 [==============================] - 82s 198ms/step - loss: 1.3366 - accuracy: 0.5888 - val_loss: 1.3114 - val_accuracy: 0.5904\n",
            "Epoch 76/200\n",
            "412/412 [==============================] - ETA: 0s - loss: 1.3292 - accuracy: 0.5901"
          ]
        },
        {
          "name": "stderr",
          "output_type": "stream",
          "text": [
            " 38%|███▊      | 76/200 [1:44:21<2:48:56, 81.75s/epoch, loss=1.33, accuracy=0.59, val_loss=1.3, val_accuracy=0.589] "
          ]
        },
        {
          "name": "stdout",
          "output_type": "stream",
          "text": [
            "412/412 [==============================] - 82s 199ms/step - loss: 1.3292 - accuracy: 0.5901 - val_loss: 1.3040 - val_accuracy: 0.5888\n",
            "Epoch 77/200\n",
            "412/412 [==============================] - ETA: 0s - loss: 1.3264 - accuracy: 0.5882"
          ]
        },
        {
          "name": "stderr",
          "output_type": "stream",
          "text": [
            " 38%|███▊      | 77/200 [1:45:42<2:47:35, 81.75s/epoch, loss=1.33, accuracy=0.588, val_loss=1.3, val_accuracy=0.601]"
          ]
        },
        {
          "name": "stdout",
          "output_type": "stream",
          "text": [
            "412/412 [==============================] - 82s 198ms/step - loss: 1.3264 - accuracy: 0.5882 - val_loss: 1.2984 - val_accuracy: 0.6015\n",
            "Epoch 78/200\n",
            "412/412 [==============================] - ETA: 0s - loss: 1.3216 - accuracy: 0.5881"
          ]
        },
        {
          "name": "stderr",
          "output_type": "stream",
          "text": [
            " 39%|███▉      | 78/200 [1:47:04<2:46:13, 81.75s/epoch, loss=1.32, accuracy=0.588, val_loss=1.29, val_accuracy=0.596]"
          ]
        },
        {
          "name": "stdout",
          "output_type": "stream",
          "text": [
            "412/412 [==============================] - 82s 198ms/step - loss: 1.3216 - accuracy: 0.5881 - val_loss: 1.2932 - val_accuracy: 0.5959\n",
            "Epoch 79/200\n",
            "412/412 [==============================] - ETA: 0s - loss: 1.3125 - accuracy: 0.5903"
          ]
        },
        {
          "name": "stderr",
          "output_type": "stream",
          "text": [
            " 40%|███▉      | 79/200 [1:48:26<2:44:53, 81.76s/epoch, loss=1.31, accuracy=0.59, val_loss=1.29, val_accuracy=0.594] "
          ]
        },
        {
          "name": "stdout",
          "output_type": "stream",
          "text": [
            "412/412 [==============================] - 82s 199ms/step - loss: 1.3125 - accuracy: 0.5903 - val_loss: 1.2895 - val_accuracy: 0.5936\n",
            "Epoch 80/200\n",
            "412/412 [==============================] - ETA: 0s - loss: 1.3093 - accuracy: 0.5934"
          ]
        },
        {
          "name": "stderr",
          "output_type": "stream",
          "text": [
            " 40%|████      | 80/200 [1:49:48<2:43:32, 81.77s/epoch, loss=1.31, accuracy=0.593, val_loss=1.28, val_accuracy=0.596]"
          ]
        },
        {
          "name": "stdout",
          "output_type": "stream",
          "text": [
            "412/412 [==============================] - 82s 198ms/step - loss: 1.3093 - accuracy: 0.5934 - val_loss: 1.2775 - val_accuracy: 0.5964\n",
            "Epoch 81/200\n",
            "412/412 [==============================] - ETA: 0s - loss: 1.3044 - accuracy: 0.5889"
          ]
        },
        {
          "name": "stderr",
          "output_type": "stream",
          "text": [
            " 40%|████      | 81/200 [1:51:09<2:42:09, 81.76s/epoch, loss=1.3, accuracy=0.589, val_loss=1.28, val_accuracy=0.594] "
          ]
        },
        {
          "name": "stdout",
          "output_type": "stream",
          "text": [
            "412/412 [==============================] - 82s 198ms/step - loss: 1.3044 - accuracy: 0.5889 - val_loss: 1.2759 - val_accuracy: 0.5941\n",
            "Epoch 82/200\n",
            "412/412 [==============================] - ETA: 0s - loss: 1.2996 - accuracy: 0.5929"
          ]
        },
        {
          "name": "stderr",
          "output_type": "stream",
          "text": [
            " 41%|████      | 82/200 [1:52:31<2:40:47, 81.76s/epoch, loss=1.3, accuracy=0.593, val_loss=1.28, val_accuracy=0.576]"
          ]
        },
        {
          "name": "stdout",
          "output_type": "stream",
          "text": [
            "412/412 [==============================] - 82s 199ms/step - loss: 1.2996 - accuracy: 0.5929 - val_loss: 1.2758 - val_accuracy: 0.5757\n",
            "Epoch 83/200\n",
            "412/412 [==============================] - ETA: 0s - loss: 1.2918 - accuracy: 0.5937"
          ]
        },
        {
          "name": "stderr",
          "output_type": "stream",
          "text": [
            " 42%|████▏     | 83/200 [1:53:53<2:39:27, 81.77s/epoch, loss=1.29, accuracy=0.594, val_loss=1.27, val_accuracy=0.587]"
          ]
        },
        {
          "name": "stdout",
          "output_type": "stream",
          "text": [
            "412/412 [==============================] - 82s 198ms/step - loss: 1.2918 - accuracy: 0.5937 - val_loss: 1.2686 - val_accuracy: 0.5868\n",
            "Epoch 84/200\n",
            "412/412 [==============================] - ETA: 0s - loss: 1.2875 - accuracy: 0.5923"
          ]
        },
        {
          "name": "stderr",
          "output_type": "stream",
          "text": [
            " 42%|████▏     | 84/200 [1:55:15<2:38:03, 81.75s/epoch, loss=1.29, accuracy=0.592, val_loss=1.27, val_accuracy=0.588]"
          ]
        },
        {
          "name": "stdout",
          "output_type": "stream",
          "text": [
            "412/412 [==============================] - 82s 198ms/step - loss: 1.2875 - accuracy: 0.5923 - val_loss: 1.2662 - val_accuracy: 0.5883\n",
            "Epoch 85/200\n",
            "412/412 [==============================] - ETA: 0s - loss: 1.2830 - accuracy: 0.5886"
          ]
        },
        {
          "name": "stderr",
          "output_type": "stream",
          "text": [
            " 42%|████▎     | 85/200 [1:56:36<2:36:42, 81.76s/epoch, loss=1.28, accuracy=0.589, val_loss=1.26, val_accuracy=0.596]"
          ]
        },
        {
          "name": "stdout",
          "output_type": "stream",
          "text": [
            "412/412 [==============================] - 82s 198ms/step - loss: 1.2830 - accuracy: 0.5886 - val_loss: 1.2555 - val_accuracy: 0.5963\n",
            "Epoch 86/200\n",
            "412/412 [==============================] - ETA: 0s - loss: 1.2757 - accuracy: 0.5911"
          ]
        },
        {
          "name": "stderr",
          "output_type": "stream",
          "text": [
            " 43%|████▎     | 86/200 [1:57:58<2:35:19, 81.75s/epoch, loss=1.28, accuracy=0.591, val_loss=1.26, val_accuracy=0.6]  "
          ]
        },
        {
          "name": "stdout",
          "output_type": "stream",
          "text": [
            "412/412 [==============================] - 82s 198ms/step - loss: 1.2757 - accuracy: 0.5911 - val_loss: 1.2571 - val_accuracy: 0.6003\n",
            "Epoch 87/200\n",
            "412/412 [==============================] - ETA: 0s - loss: 1.2732 - accuracy: 0.5901"
          ]
        },
        {
          "name": "stderr",
          "output_type": "stream",
          "text": [
            " 44%|████▎     | 87/200 [1:59:20<2:33:57, 81.75s/epoch, loss=1.27, accuracy=0.59, val_loss=1.24, val_accuracy=0.604]"
          ]
        },
        {
          "name": "stdout",
          "output_type": "stream",
          "text": [
            "412/412 [==============================] - 82s 198ms/step - loss: 1.2732 - accuracy: 0.5901 - val_loss: 1.2427 - val_accuracy: 0.6038\n",
            "Epoch 88/200\n",
            "412/412 [==============================] - ETA: 0s - loss: 1.2668 - accuracy: 0.5950"
          ]
        },
        {
          "name": "stderr",
          "output_type": "stream",
          "text": [
            " 44%|████▍     | 88/200 [2:00:42<2:32:35, 81.75s/epoch, loss=1.27, accuracy=0.595, val_loss=1.24, val_accuracy=0.594]"
          ]
        },
        {
          "name": "stdout",
          "output_type": "stream",
          "text": [
            "412/412 [==============================] - 82s 198ms/step - loss: 1.2668 - accuracy: 0.5950 - val_loss: 1.2420 - val_accuracy: 0.5939\n",
            "Epoch 89/200\n",
            "412/412 [==============================] - ETA: 0s - loss: 1.2628 - accuracy: 0.5965"
          ]
        },
        {
          "name": "stderr",
          "output_type": "stream",
          "text": [
            " 44%|████▍     | 89/200 [2:02:03<2:31:13, 81.75s/epoch, loss=1.26, accuracy=0.596, val_loss=1.24, val_accuracy=0.59] "
          ]
        },
        {
          "name": "stdout",
          "output_type": "stream",
          "text": [
            "412/412 [==============================] - 82s 198ms/step - loss: 1.2628 - accuracy: 0.5965 - val_loss: 1.2391 - val_accuracy: 0.5897\n",
            "Epoch 90/200\n",
            "412/412 [==============================] - ETA: 0s - loss: 1.2609 - accuracy: 0.5946"
          ]
        },
        {
          "name": "stderr",
          "output_type": "stream",
          "text": [
            " 45%|████▌     | 90/200 [2:03:25<2:29:52, 81.75s/epoch, loss=1.26, accuracy=0.595, val_loss=1.24, val_accuracy=0.589]"
          ]
        },
        {
          "name": "stdout",
          "output_type": "stream",
          "text": [
            "412/412 [==============================] - 82s 198ms/step - loss: 1.2609 - accuracy: 0.5946 - val_loss: 1.2368 - val_accuracy: 0.5892\n",
            "Epoch 91/200\n",
            "412/412 [==============================] - ETA: 0s - loss: 1.2553 - accuracy: 0.5926"
          ]
        },
        {
          "name": "stderr",
          "output_type": "stream",
          "text": [
            " 46%|████▌     | 91/200 [2:04:47<2:28:30, 81.75s/epoch, loss=1.26, accuracy=0.593, val_loss=1.24, val_accuracy=0.57] "
          ]
        },
        {
          "name": "stdout",
          "output_type": "stream",
          "text": [
            "412/412 [==============================] - 82s 198ms/step - loss: 1.2553 - accuracy: 0.5926 - val_loss: 1.2415 - val_accuracy: 0.5695\n",
            "Epoch 92/200\n",
            "412/412 [==============================] - ETA: 0s - loss: 1.2479 - accuracy: 0.5919"
          ]
        },
        {
          "name": "stderr",
          "output_type": "stream",
          "text": [
            " 46%|████▌     | 92/200 [2:06:09<2:27:08, 81.75s/epoch, loss=1.25, accuracy=0.592, val_loss=1.22, val_accuracy=0.597]"
          ]
        },
        {
          "name": "stdout",
          "output_type": "stream",
          "text": [
            "412/412 [==============================] - 82s 198ms/step - loss: 1.2479 - accuracy: 0.5919 - val_loss: 1.2228 - val_accuracy: 0.5973\n",
            "Epoch 93/200\n",
            "412/412 [==============================] - ETA: 0s - loss: 1.2429 - accuracy: 0.5942"
          ]
        },
        {
          "name": "stderr",
          "output_type": "stream",
          "text": [
            " 46%|████▋     | 93/200 [2:07:30<2:25:47, 81.76s/epoch, loss=1.24, accuracy=0.594, val_loss=1.22, val_accuracy=0.597]"
          ]
        },
        {
          "name": "stdout",
          "output_type": "stream",
          "text": [
            "412/412 [==============================] - 82s 198ms/step - loss: 1.2429 - accuracy: 0.5942 - val_loss: 1.2222 - val_accuracy: 0.5968\n",
            "Epoch 94/200\n",
            "412/412 [==============================] - ETA: 0s - loss: 1.2390 - accuracy: 0.5954"
          ]
        },
        {
          "name": "stderr",
          "output_type": "stream",
          "text": [
            " 47%|████▋     | 94/200 [2:08:52<2:24:25, 81.75s/epoch, loss=1.24, accuracy=0.595, val_loss=1.21, val_accuracy=0.603]"
          ]
        },
        {
          "name": "stdout",
          "output_type": "stream",
          "text": [
            "412/412 [==============================] - 82s 198ms/step - loss: 1.2390 - accuracy: 0.5954 - val_loss: 1.2118 - val_accuracy: 0.6026\n",
            "Epoch 95/200\n",
            "412/412 [==============================] - ETA: 0s - loss: 1.2358 - accuracy: 0.5933"
          ]
        },
        {
          "name": "stderr",
          "output_type": "stream",
          "text": [
            " 48%|████▊     | 95/200 [2:10:14<2:23:04, 81.76s/epoch, loss=1.24, accuracy=0.593, val_loss=1.21, val_accuracy=0.591]"
          ]
        },
        {
          "name": "stdout",
          "output_type": "stream",
          "text": [
            "412/412 [==============================] - 82s 198ms/step - loss: 1.2358 - accuracy: 0.5933 - val_loss: 1.2111 - val_accuracy: 0.5910\n",
            "Epoch 96/200\n",
            "412/412 [==============================] - ETA: 0s - loss: 1.2295 - accuracy: 0.5933"
          ]
        },
        {
          "name": "stderr",
          "output_type": "stream",
          "text": [
            " 48%|████▊     | 96/200 [2:11:36<2:21:43, 81.76s/epoch, loss=1.23, accuracy=0.593, val_loss=1.21, val_accuracy=0.583]"
          ]
        },
        {
          "name": "stdout",
          "output_type": "stream",
          "text": [
            "412/412 [==============================] - 82s 198ms/step - loss: 1.2295 - accuracy: 0.5933 - val_loss: 1.2099 - val_accuracy: 0.5828\n",
            "Epoch 97/200\n",
            "412/412 [==============================] - ETA: 0s - loss: 1.2256 - accuracy: 0.5966"
          ]
        },
        {
          "name": "stderr",
          "output_type": "stream",
          "text": [
            " 48%|████▊     | 97/200 [2:12:57<2:20:20, 81.75s/epoch, loss=1.23, accuracy=0.597, val_loss=1.21, val_accuracy=0.583]"
          ]
        },
        {
          "name": "stdout",
          "output_type": "stream",
          "text": [
            "412/412 [==============================] - 82s 198ms/step - loss: 1.2256 - accuracy: 0.5966 - val_loss: 1.2067 - val_accuracy: 0.5827\n",
            "Epoch 98/200\n",
            "412/412 [==============================] - ETA: 0s - loss: 1.2241 - accuracy: 0.5945"
          ]
        },
        {
          "name": "stderr",
          "output_type": "stream",
          "text": [
            " 49%|████▉     | 98/200 [2:14:19<2:18:59, 81.76s/epoch, loss=1.22, accuracy=0.594, val_loss=1.2, val_accuracy=0.598] "
          ]
        },
        {
          "name": "stdout",
          "output_type": "stream",
          "text": [
            "412/412 [==============================] - 82s 199ms/step - loss: 1.2241 - accuracy: 0.5945 - val_loss: 1.2001 - val_accuracy: 0.5981\n",
            "Epoch 99/200\n",
            "412/412 [==============================] - ETA: 0s - loss: 1.2189 - accuracy: 0.5940"
          ]
        },
        {
          "name": "stderr",
          "output_type": "stream",
          "text": [
            " 50%|████▉     | 99/200 [2:15:41<2:17:38, 81.76s/epoch, loss=1.22, accuracy=0.594, val_loss=1.2, val_accuracy=0.598]"
          ]
        },
        {
          "name": "stdout",
          "output_type": "stream",
          "text": [
            "412/412 [==============================] - 82s 199ms/step - loss: 1.2189 - accuracy: 0.5940 - val_loss: 1.1960 - val_accuracy: 0.5976\n",
            "Epoch 100/200\n",
            "412/412 [==============================] - ETA: 0s - loss: 1.2134 - accuracy: 0.5938"
          ]
        },
        {
          "name": "stderr",
          "output_type": "stream",
          "text": [
            " 50%|█████     | 100/200 [2:17:03<2:16:16, 81.77s/epoch, loss=1.21, accuracy=0.594, val_loss=1.19, val_accuracy=0.598]"
          ]
        },
        {
          "name": "stdout",
          "output_type": "stream",
          "text": [
            "412/412 [==============================] - 82s 198ms/step - loss: 1.2134 - accuracy: 0.5938 - val_loss: 1.1917 - val_accuracy: 0.5979\n",
            "Epoch 101/200\n",
            "412/412 [==============================] - ETA: 0s - loss: 1.2116 - accuracy: 0.5946"
          ]
        },
        {
          "name": "stderr",
          "output_type": "stream",
          "text": [
            " 50%|█████     | 101/200 [2:18:25<2:14:54, 81.76s/epoch, loss=1.21, accuracy=0.595, val_loss=1.18, val_accuracy=0.598]"
          ]
        },
        {
          "name": "stdout",
          "output_type": "stream",
          "text": [
            "412/412 [==============================] - 82s 198ms/step - loss: 1.2116 - accuracy: 0.5946 - val_loss: 1.1849 - val_accuracy: 0.5979\n",
            "Epoch 102/200\n",
            "412/412 [==============================] - ETA: 0s - loss: 1.2048 - accuracy: 0.5931"
          ]
        },
        {
          "name": "stderr",
          "output_type": "stream",
          "text": [
            " 51%|█████     | 102/200 [2:19:46<2:13:31, 81.75s/epoch, loss=1.2, accuracy=0.593, val_loss=1.19, val_accuracy=0.588] "
          ]
        },
        {
          "name": "stdout",
          "output_type": "stream",
          "text": [
            "412/412 [==============================] - 82s 198ms/step - loss: 1.2048 - accuracy: 0.5931 - val_loss: 1.1876 - val_accuracy: 0.5876\n",
            "Epoch 103/200\n",
            "412/412 [==============================] - ETA: 0s - loss: 1.2030 - accuracy: 0.5956"
          ]
        },
        {
          "name": "stderr",
          "output_type": "stream",
          "text": [
            " 52%|█████▏    | 103/200 [2:21:08<2:12:09, 81.75s/epoch, loss=1.2, accuracy=0.596, val_loss=1.19, val_accuracy=0.595]"
          ]
        },
        {
          "name": "stdout",
          "output_type": "stream",
          "text": [
            "412/412 [==============================] - 82s 198ms/step - loss: 1.2030 - accuracy: 0.5956 - val_loss: 1.1852 - val_accuracy: 0.5950\n",
            "Epoch 104/200\n",
            "412/412 [==============================] - ETA: 0s - loss: 1.1964 - accuracy: 0.5983"
          ]
        },
        {
          "name": "stderr",
          "output_type": "stream",
          "text": [
            " 52%|█████▏    | 104/200 [2:22:30<2:10:48, 81.76s/epoch, loss=1.2, accuracy=0.598, val_loss=1.18, val_accuracy=0.582]"
          ]
        },
        {
          "name": "stdout",
          "output_type": "stream",
          "text": [
            "412/412 [==============================] - 82s 198ms/step - loss: 1.1964 - accuracy: 0.5983 - val_loss: 1.1802 - val_accuracy: 0.5818\n",
            "Epoch 105/200\n",
            "412/412 [==============================] - ETA: 0s - loss: 1.1942 - accuracy: 0.5958"
          ]
        },
        {
          "name": "stderr",
          "output_type": "stream",
          "text": [
            " 52%|█████▎    | 105/200 [2:23:52<2:09:26, 81.75s/epoch, loss=1.19, accuracy=0.596, val_loss=1.17, val_accuracy=0.602]"
          ]
        },
        {
          "name": "stdout",
          "output_type": "stream",
          "text": [
            "412/412 [==============================] - 82s 198ms/step - loss: 1.1942 - accuracy: 0.5958 - val_loss: 1.1683 - val_accuracy: 0.6024\n",
            "Epoch 106/200\n",
            "412/412 [==============================] - ETA: 0s - loss: 1.1889 - accuracy: 0.5979"
          ]
        },
        {
          "name": "stderr",
          "output_type": "stream",
          "text": [
            " 53%|█████▎    | 106/200 [2:25:13<2:08:05, 81.76s/epoch, loss=1.19, accuracy=0.598, val_loss=1.17, val_accuracy=0.593]"
          ]
        },
        {
          "name": "stdout",
          "output_type": "stream",
          "text": [
            "412/412 [==============================] - 82s 198ms/step - loss: 1.1889 - accuracy: 0.5979 - val_loss: 1.1719 - val_accuracy: 0.5927\n",
            "Epoch 107/200\n",
            "412/412 [==============================] - ETA: 0s - loss: 1.1875 - accuracy: 0.5959"
          ]
        },
        {
          "name": "stderr",
          "output_type": "stream",
          "text": [
            " 54%|█████▎    | 107/200 [2:26:35<2:06:42, 81.75s/epoch, loss=1.19, accuracy=0.596, val_loss=1.16, val_accuracy=0.6]  "
          ]
        },
        {
          "name": "stdout",
          "output_type": "stream",
          "text": [
            "412/412 [==============================] - 82s 198ms/step - loss: 1.1875 - accuracy: 0.5959 - val_loss: 1.1638 - val_accuracy: 0.5997\n",
            "Epoch 108/200\n",
            "412/412 [==============================] - ETA: 0s - loss: 1.1801 - accuracy: 0.5978"
          ]
        },
        {
          "name": "stderr",
          "output_type": "stream",
          "text": [
            " 54%|█████▍    | 108/200 [2:27:57<2:05:20, 81.75s/epoch, loss=1.18, accuracy=0.598, val_loss=1.16, val_accuracy=0.604]"
          ]
        },
        {
          "name": "stdout",
          "output_type": "stream",
          "text": [
            "412/412 [==============================] - 82s 198ms/step - loss: 1.1801 - accuracy: 0.5978 - val_loss: 1.1615 - val_accuracy: 0.6038\n",
            "Epoch 109/200\n",
            "412/412 [==============================] - ETA: 0s - loss: 1.1810 - accuracy: 0.5965"
          ]
        },
        {
          "name": "stderr",
          "output_type": "stream",
          "text": [
            " 55%|█████▍    | 109/200 [2:29:19<2:04:00, 81.76s/epoch, loss=1.18, accuracy=0.597, val_loss=1.16, val_accuracy=0.592]"
          ]
        },
        {
          "name": "stdout",
          "output_type": "stream",
          "text": [
            "412/412 [==============================] - 82s 199ms/step - loss: 1.1810 - accuracy: 0.5965 - val_loss: 1.1583 - val_accuracy: 0.5921\n",
            "Epoch 110/200\n",
            "412/412 [==============================] - ETA: 0s - loss: 1.1785 - accuracy: 0.5980"
          ]
        },
        {
          "name": "stderr",
          "output_type": "stream",
          "text": [
            " 55%|█████▌    | 110/200 [2:30:40<2:02:38, 81.76s/epoch, loss=1.18, accuracy=0.598, val_loss=1.17, val_accuracy=0.577]"
          ]
        },
        {
          "name": "stdout",
          "output_type": "stream",
          "text": [
            "412/412 [==============================] - 82s 198ms/step - loss: 1.1785 - accuracy: 0.5980 - val_loss: 1.1677 - val_accuracy: 0.5771\n",
            "Epoch 111/200\n",
            "412/412 [==============================] - ETA: 0s - loss: 1.1717 - accuracy: 0.5976"
          ]
        },
        {
          "name": "stderr",
          "output_type": "stream",
          "text": [
            " 56%|█████▌    | 111/200 [2:32:02<2:01:16, 81.76s/epoch, loss=1.17, accuracy=0.598, val_loss=1.16, val_accuracy=0.594]"
          ]
        },
        {
          "name": "stdout",
          "output_type": "stream",
          "text": [
            "412/412 [==============================] - 82s 198ms/step - loss: 1.1717 - accuracy: 0.5976 - val_loss: 1.1572 - val_accuracy: 0.5944\n",
            "Epoch 112/200\n",
            "412/412 [==============================] - ETA: 0s - loss: 1.1691 - accuracy: 0.5965"
          ]
        },
        {
          "name": "stderr",
          "output_type": "stream",
          "text": [
            " 56%|█████▌    | 112/200 [2:33:24<1:59:54, 81.75s/epoch, loss=1.17, accuracy=0.597, val_loss=1.15, val_accuracy=0.607]"
          ]
        },
        {
          "name": "stdout",
          "output_type": "stream",
          "text": [
            "412/412 [==============================] - 82s 198ms/step - loss: 1.1691 - accuracy: 0.5965 - val_loss: 1.1465 - val_accuracy: 0.6069\n",
            "Epoch 113/200\n",
            "412/412 [==============================] - ETA: 0s - loss: 1.1646 - accuracy: 0.5974"
          ]
        },
        {
          "name": "stderr",
          "output_type": "stream",
          "text": [
            " 56%|█████▋    | 113/200 [2:34:46<1:58:32, 81.75s/epoch, loss=1.16, accuracy=0.597, val_loss=1.14, val_accuracy=0.594]"
          ]
        },
        {
          "name": "stdout",
          "output_type": "stream",
          "text": [
            "412/412 [==============================] - 82s 198ms/step - loss: 1.1646 - accuracy: 0.5974 - val_loss: 1.1445 - val_accuracy: 0.5940\n",
            "Epoch 114/200\n",
            "412/412 [==============================] - ETA: 0s - loss: 1.1651 - accuracy: 0.5985"
          ]
        },
        {
          "name": "stderr",
          "output_type": "stream",
          "text": [
            " 57%|█████▋    | 114/200 [2:36:07<1:57:11, 81.76s/epoch, loss=1.17, accuracy=0.599, val_loss=1.15, val_accuracy=0.59] "
          ]
        },
        {
          "name": "stdout",
          "output_type": "stream",
          "text": [
            "412/412 [==============================] - 82s 198ms/step - loss: 1.1651 - accuracy: 0.5985 - val_loss: 1.1455 - val_accuracy: 0.5904\n",
            "Epoch 115/200\n",
            "412/412 [==============================] - ETA: 0s - loss: 1.1586 - accuracy: 0.6001"
          ]
        },
        {
          "name": "stderr",
          "output_type": "stream",
          "text": [
            " 57%|█████▊    | 115/200 [2:37:29<1:55:48, 81.75s/epoch, loss=1.16, accuracy=0.6, val_loss=1.14, val_accuracy=0.586] "
          ]
        },
        {
          "name": "stdout",
          "output_type": "stream",
          "text": [
            "412/412 [==============================] - 82s 198ms/step - loss: 1.1586 - accuracy: 0.6001 - val_loss: 1.1438 - val_accuracy: 0.5859\n",
            "Epoch 116/200\n",
            "412/412 [==============================] - ETA: 0s - loss: 1.1563 - accuracy: 0.5966"
          ]
        },
        {
          "name": "stderr",
          "output_type": "stream",
          "text": [
            " 58%|█████▊    | 116/200 [2:38:51<1:54:26, 81.75s/epoch, loss=1.16, accuracy=0.597, val_loss=1.15, val_accuracy=0.583]"
          ]
        },
        {
          "name": "stdout",
          "output_type": "stream",
          "text": [
            "412/412 [==============================] - 82s 198ms/step - loss: 1.1563 - accuracy: 0.5966 - val_loss: 1.1458 - val_accuracy: 0.5827\n",
            "Epoch 117/200\n",
            "412/412 [==============================] - ETA: 0s - loss: 1.1510 - accuracy: 0.5987"
          ]
        },
        {
          "name": "stderr",
          "output_type": "stream",
          "text": [
            " 58%|█████▊    | 117/200 [2:40:13<1:53:05, 81.75s/epoch, loss=1.15, accuracy=0.599, val_loss=1.14, val_accuracy=0.588]"
          ]
        },
        {
          "name": "stdout",
          "output_type": "stream",
          "text": [
            "412/412 [==============================] - 82s 198ms/step - loss: 1.1510 - accuracy: 0.5987 - val_loss: 1.1378 - val_accuracy: 0.5878\n",
            "Epoch 118/200\n",
            "412/412 [==============================] - ETA: 0s - loss: 1.1509 - accuracy: 0.5998"
          ]
        },
        {
          "name": "stderr",
          "output_type": "stream",
          "text": [
            " 59%|█████▉    | 118/200 [2:41:34<1:51:43, 81.75s/epoch, loss=1.15, accuracy=0.6, val_loss=1.13, val_accuracy=0.59]   "
          ]
        },
        {
          "name": "stdout",
          "output_type": "stream",
          "text": [
            "412/412 [==============================] - 82s 198ms/step - loss: 1.1509 - accuracy: 0.5998 - val_loss: 1.1307 - val_accuracy: 0.5899\n",
            "Epoch 119/200\n",
            "412/412 [==============================] - ETA: 0s - loss: 1.1478 - accuracy: 0.5990"
          ]
        },
        {
          "name": "stderr",
          "output_type": "stream",
          "text": [
            " 60%|█████▉    | 119/200 [2:42:56<1:50:22, 81.75s/epoch, loss=1.15, accuracy=0.599, val_loss=1.12, val_accuracy=0.605]"
          ]
        },
        {
          "name": "stdout",
          "output_type": "stream",
          "text": [
            "412/412 [==============================] - 82s 198ms/step - loss: 1.1478 - accuracy: 0.5990 - val_loss: 1.1246 - val_accuracy: 0.6049\n",
            "Epoch 120/200\n",
            "412/412 [==============================] - ETA: 0s - loss: 1.1451 - accuracy: 0.5975"
          ]
        },
        {
          "name": "stderr",
          "output_type": "stream",
          "text": [
            " 60%|██████    | 120/200 [2:44:18<1:49:00, 81.76s/epoch, loss=1.15, accuracy=0.597, val_loss=1.12, val_accuracy=0.601]"
          ]
        },
        {
          "name": "stdout",
          "output_type": "stream",
          "text": [
            "412/412 [==============================] - 82s 198ms/step - loss: 1.1451 - accuracy: 0.5975 - val_loss: 1.1249 - val_accuracy: 0.6012\n",
            "Epoch 121/200\n",
            "412/412 [==============================] - ETA: 0s - loss: 1.1415 - accuracy: 0.5994"
          ]
        },
        {
          "name": "stderr",
          "output_type": "stream",
          "text": [
            " 60%|██████    | 121/200 [2:45:40<1:47:38, 81.75s/epoch, loss=1.14, accuracy=0.599, val_loss=1.12, val_accuracy=0.597]"
          ]
        },
        {
          "name": "stdout",
          "output_type": "stream",
          "text": [
            "412/412 [==============================] - 82s 199ms/step - loss: 1.1415 - accuracy: 0.5994 - val_loss: 1.1235 - val_accuracy: 0.5967\n",
            "Epoch 122/200\n",
            "412/412 [==============================] - ETA: 0s - loss: 1.1373 - accuracy: 0.5974"
          ]
        },
        {
          "name": "stderr",
          "output_type": "stream",
          "text": [
            " 61%|██████    | 122/200 [2:47:01<1:46:17, 81.77s/epoch, loss=1.14, accuracy=0.597, val_loss=1.13, val_accuracy=0.582]"
          ]
        },
        {
          "name": "stdout",
          "output_type": "stream",
          "text": [
            "412/412 [==============================] - 82s 199ms/step - loss: 1.1373 - accuracy: 0.5974 - val_loss: 1.1250 - val_accuracy: 0.5821\n",
            "Epoch 123/200\n",
            "412/412 [==============================] - ETA: 0s - loss: 1.1361 - accuracy: 0.5984"
          ]
        },
        {
          "name": "stderr",
          "output_type": "stream",
          "text": [
            " 62%|██████▏   | 123/200 [2:48:23<1:44:56, 81.77s/epoch, loss=1.14, accuracy=0.598, val_loss=1.12, val_accuracy=0.601]"
          ]
        },
        {
          "name": "stdout",
          "output_type": "stream",
          "text": [
            "412/412 [==============================] - 82s 198ms/step - loss: 1.1361 - accuracy: 0.5984 - val_loss: 1.1167 - val_accuracy: 0.6008\n",
            "Epoch 124/200\n",
            "412/412 [==============================] - ETA: 0s - loss: 1.1323 - accuracy: 0.5996"
          ]
        },
        {
          "name": "stderr",
          "output_type": "stream",
          "text": [
            " 62%|██████▏   | 124/200 [2:49:45<1:43:35, 81.79s/epoch, loss=1.13, accuracy=0.6, val_loss=1.12, val_accuracy=0.577]  "
          ]
        },
        {
          "name": "stdout",
          "output_type": "stream",
          "text": [
            "412/412 [==============================] - 82s 199ms/step - loss: 1.1323 - accuracy: 0.5996 - val_loss: 1.1228 - val_accuracy: 0.5771\n",
            "Epoch 125/200\n",
            "412/412 [==============================] - ETA: 0s - loss: 1.1300 - accuracy: 0.5969"
          ]
        },
        {
          "name": "stderr",
          "output_type": "stream",
          "text": [
            " 62%|██████▎   | 125/200 [2:51:07<1:42:12, 81.77s/epoch, loss=1.13, accuracy=0.597, val_loss=1.11, val_accuracy=0.607]"
          ]
        },
        {
          "name": "stdout",
          "output_type": "stream",
          "text": [
            "412/412 [==============================] - 82s 199ms/step - loss: 1.1300 - accuracy: 0.5969 - val_loss: 1.1147 - val_accuracy: 0.6070\n",
            "Epoch 126/200\n",
            "412/412 [==============================] - ETA: 0s - loss: 1.1263 - accuracy: 0.5994"
          ]
        },
        {
          "name": "stderr",
          "output_type": "stream",
          "text": [
            " 63%|██████▎   | 126/200 [2:52:29<1:40:51, 81.78s/epoch, loss=1.13, accuracy=0.599, val_loss=1.11, val_accuracy=0.589]"
          ]
        },
        {
          "name": "stdout",
          "output_type": "stream",
          "text": [
            "412/412 [==============================] - 82s 198ms/step - loss: 1.1263 - accuracy: 0.5994 - val_loss: 1.1139 - val_accuracy: 0.5895\n",
            "Epoch 127/200\n",
            "412/412 [==============================] - ETA: 0s - loss: 1.1266 - accuracy: 0.5980"
          ]
        },
        {
          "name": "stderr",
          "output_type": "stream",
          "text": [
            " 64%|██████▎   | 127/200 [2:53:50<1:39:29, 81.77s/epoch, loss=1.13, accuracy=0.598, val_loss=1.11, val_accuracy=0.581]"
          ]
        },
        {
          "name": "stdout",
          "output_type": "stream",
          "text": [
            "412/412 [==============================] - 82s 198ms/step - loss: 1.1266 - accuracy: 0.5980 - val_loss: 1.1116 - val_accuracy: 0.5812\n",
            "Epoch 128/200\n",
            "412/412 [==============================] - ETA: 0s - loss: 1.1223 - accuracy: 0.5999"
          ]
        },
        {
          "name": "stderr",
          "output_type": "stream",
          "text": [
            " 64%|██████▍   | 128/200 [2:55:12<1:38:06, 81.76s/epoch, loss=1.12, accuracy=0.6, val_loss=1.11, val_accuracy=0.585]  "
          ]
        },
        {
          "name": "stdout",
          "output_type": "stream",
          "text": [
            "412/412 [==============================] - 82s 198ms/step - loss: 1.1223 - accuracy: 0.5999 - val_loss: 1.1094 - val_accuracy: 0.5851\n",
            "Epoch 129/200\n",
            "412/412 [==============================] - ETA: 0s - loss: 1.1160 - accuracy: 0.6027"
          ]
        },
        {
          "name": "stderr",
          "output_type": "stream",
          "text": [
            " 64%|██████▍   | 129/200 [2:56:34<1:36:45, 81.76s/epoch, loss=1.12, accuracy=0.603, val_loss=1.1, val_accuracy=0.607]"
          ]
        },
        {
          "name": "stdout",
          "output_type": "stream",
          "text": [
            "412/412 [==============================] - 82s 198ms/step - loss: 1.1160 - accuracy: 0.6027 - val_loss: 1.0977 - val_accuracy: 0.6068\n",
            "Epoch 130/200\n",
            "412/412 [==============================] - ETA: 0s - loss: 1.1144 - accuracy: 0.6005"
          ]
        },
        {
          "name": "stderr",
          "output_type": "stream",
          "text": [
            " 65%|██████▌   | 130/200 [2:57:56<1:35:23, 81.76s/epoch, loss=1.11, accuracy=0.601, val_loss=1.1, val_accuracy=0.598]"
          ]
        },
        {
          "name": "stdout",
          "output_type": "stream",
          "text": [
            "412/412 [==============================] - 82s 199ms/step - loss: 1.1144 - accuracy: 0.6005 - val_loss: 1.0964 - val_accuracy: 0.5980\n",
            "Epoch 131/200\n",
            "412/412 [==============================] - ETA: 0s - loss: 1.1152 - accuracy: 0.6008"
          ]
        },
        {
          "name": "stderr",
          "output_type": "stream",
          "text": [
            " 66%|██████▌   | 131/200 [2:59:17<1:34:02, 81.78s/epoch, loss=1.12, accuracy=0.601, val_loss=1.09, val_accuracy=0.599]"
          ]
        },
        {
          "name": "stdout",
          "output_type": "stream",
          "text": [
            "412/412 [==============================] - 82s 199ms/step - loss: 1.1152 - accuracy: 0.6008 - val_loss: 1.0932 - val_accuracy: 0.5986\n",
            "Epoch 132/200\n",
            "412/412 [==============================] - ETA: 0s - loss: 1.1107 - accuracy: 0.6014"
          ]
        },
        {
          "name": "stderr",
          "output_type": "stream",
          "text": [
            " 66%|██████▌   | 132/200 [3:00:39<1:32:40, 81.77s/epoch, loss=1.11, accuracy=0.601, val_loss=1.09, val_accuracy=0.591]"
          ]
        },
        {
          "name": "stdout",
          "output_type": "stream",
          "text": [
            "412/412 [==============================] - 82s 199ms/step - loss: 1.1107 - accuracy: 0.6014 - val_loss: 1.0949 - val_accuracy: 0.5913\n",
            "Epoch 133/200\n",
            "412/412 [==============================] - ETA: 0s - loss: 1.1095 - accuracy: 0.6012"
          ]
        },
        {
          "name": "stderr",
          "output_type": "stream",
          "text": [
            " 66%|██████▋   | 133/200 [3:02:01<1:31:19, 81.78s/epoch, loss=1.11, accuracy=0.601, val_loss=1.09, val_accuracy=0.608]"
          ]
        },
        {
          "name": "stdout",
          "output_type": "stream",
          "text": [
            "412/412 [==============================] - 82s 198ms/step - loss: 1.1095 - accuracy: 0.6012 - val_loss: 1.0903 - val_accuracy: 0.6077\n",
            "Epoch 134/200\n",
            "412/412 [==============================] - ETA: 0s - loss: 1.1060 - accuracy: 0.5994"
          ]
        },
        {
          "name": "stderr",
          "output_type": "stream",
          "text": [
            " 67%|██████▋   | 134/200 [3:03:23<1:29:57, 81.77s/epoch, loss=1.11, accuracy=0.599, val_loss=1.09, val_accuracy=0.599]"
          ]
        },
        {
          "name": "stdout",
          "output_type": "stream",
          "text": [
            "412/412 [==============================] - 82s 198ms/step - loss: 1.1060 - accuracy: 0.5994 - val_loss: 1.0890 - val_accuracy: 0.5994\n",
            "Epoch 135/200\n",
            "412/412 [==============================] - ETA: 0s - loss: 1.1041 - accuracy: 0.5978"
          ]
        },
        {
          "name": "stderr",
          "output_type": "stream",
          "text": [
            " 68%|██████▊   | 135/200 [3:04:44<1:28:35, 81.77s/epoch, loss=1.1, accuracy=0.598, val_loss=1.09, val_accuracy=0.598] "
          ]
        },
        {
          "name": "stdout",
          "output_type": "stream",
          "text": [
            "412/412 [==============================] - 82s 198ms/step - loss: 1.1041 - accuracy: 0.5978 - val_loss: 1.0889 - val_accuracy: 0.5977\n",
            "Epoch 136/200\n",
            "412/412 [==============================] - ETA: 0s - loss: 1.1030 - accuracy: 0.6007"
          ]
        },
        {
          "name": "stderr",
          "output_type": "stream",
          "text": [
            " 68%|██████▊   | 136/200 [3:06:06<1:27:12, 81.76s/epoch, loss=1.1, accuracy=0.601, val_loss=1.09, val_accuracy=0.595]"
          ]
        },
        {
          "name": "stdout",
          "output_type": "stream",
          "text": [
            "412/412 [==============================] - 82s 198ms/step - loss: 1.1030 - accuracy: 0.6007 - val_loss: 1.0862 - val_accuracy: 0.5948\n",
            "Epoch 137/200\n",
            "412/412 [==============================] - ETA: 0s - loss: 1.0972 - accuracy: 0.6020"
          ]
        },
        {
          "name": "stderr",
          "output_type": "stream",
          "text": [
            " 68%|██████▊   | 137/200 [3:07:28<1:25:50, 81.76s/epoch, loss=1.1, accuracy=0.602, val_loss=1.1, val_accuracy=0.567] "
          ]
        },
        {
          "name": "stdout",
          "output_type": "stream",
          "text": [
            "412/412 [==============================] - 82s 199ms/step - loss: 1.0972 - accuracy: 0.6020 - val_loss: 1.1006 - val_accuracy: 0.5673\n",
            "Epoch 138/200\n",
            "412/412 [==============================] - ETA: 0s - loss: 1.0990 - accuracy: 0.6017"
          ]
        },
        {
          "name": "stderr",
          "output_type": "stream",
          "text": [
            " 69%|██████▉   | 138/200 [3:08:50<1:24:30, 81.78s/epoch, loss=1.1, accuracy=0.602, val_loss=1.09, val_accuracy=0.582]"
          ]
        },
        {
          "name": "stdout",
          "output_type": "stream",
          "text": [
            "412/412 [==============================] - 82s 198ms/step - loss: 1.0990 - accuracy: 0.6017 - val_loss: 1.0872 - val_accuracy: 0.5819\n",
            "Epoch 139/200\n",
            "412/412 [==============================] - ETA: 0s - loss: 1.0946 - accuracy: 0.6014"
          ]
        },
        {
          "name": "stderr",
          "output_type": "stream",
          "text": [
            " 70%|██████▉   | 139/200 [3:10:11<1:23:07, 81.77s/epoch, loss=1.09, accuracy=0.601, val_loss=1.08, val_accuracy=0.588]"
          ]
        },
        {
          "name": "stdout",
          "output_type": "stream",
          "text": [
            "412/412 [==============================] - 82s 198ms/step - loss: 1.0946 - accuracy: 0.6014 - val_loss: 1.0839 - val_accuracy: 0.5879\n",
            "Epoch 140/200\n",
            "412/412 [==============================] - ETA: 0s - loss: 1.0928 - accuracy: 0.6022"
          ]
        },
        {
          "name": "stderr",
          "output_type": "stream",
          "text": [
            " 70%|███████   | 140/200 [3:11:33<1:21:45, 81.76s/epoch, loss=1.09, accuracy=0.602, val_loss=1.08, val_accuracy=0.603]"
          ]
        },
        {
          "name": "stdout",
          "output_type": "stream",
          "text": [
            "412/412 [==============================] - 82s 198ms/step - loss: 1.0928 - accuracy: 0.6022 - val_loss: 1.0781 - val_accuracy: 0.6033\n",
            "Epoch 141/200\n",
            "412/412 [==============================] - ETA: 0s - loss: 1.0917 - accuracy: 0.6022"
          ]
        },
        {
          "name": "stderr",
          "output_type": "stream",
          "text": [
            " 70%|███████   | 141/200 [3:12:55<1:20:23, 81.76s/epoch, loss=1.09, accuracy=0.602, val_loss=1.07, val_accuracy=0.602]"
          ]
        },
        {
          "name": "stdout",
          "output_type": "stream",
          "text": [
            "412/412 [==============================] - 82s 198ms/step - loss: 1.0917 - accuracy: 0.6022 - val_loss: 1.0743 - val_accuracy: 0.6022\n",
            "Epoch 142/200\n",
            "412/412 [==============================] - ETA: 0s - loss: 1.0892 - accuracy: 0.6015"
          ]
        },
        {
          "name": "stderr",
          "output_type": "stream",
          "text": [
            " 71%|███████   | 142/200 [3:14:17<1:19:02, 81.76s/epoch, loss=1.09, accuracy=0.601, val_loss=1.08, val_accuracy=0.6]  "
          ]
        },
        {
          "name": "stdout",
          "output_type": "stream",
          "text": [
            "412/412 [==============================] - 82s 199ms/step - loss: 1.0892 - accuracy: 0.6015 - val_loss: 1.0784 - val_accuracy: 0.6002\n",
            "Epoch 143/200\n",
            "412/412 [==============================] - ETA: 0s - loss: 1.0890 - accuracy: 0.6009"
          ]
        },
        {
          "name": "stderr",
          "output_type": "stream",
          "text": [
            " 72%|███████▏  | 143/200 [3:15:39<1:17:40, 81.77s/epoch, loss=1.09, accuracy=0.601, val_loss=1.07, val_accuracy=0.593]"
          ]
        },
        {
          "name": "stdout",
          "output_type": "stream",
          "text": [
            "412/412 [==============================] - 82s 199ms/step - loss: 1.0890 - accuracy: 0.6009 - val_loss: 1.0745 - val_accuracy: 0.5931\n",
            "Epoch 144/200\n",
            "412/412 [==============================] - ETA: 0s - loss: 1.0853 - accuracy: 0.6002"
          ]
        },
        {
          "name": "stderr",
          "output_type": "stream",
          "text": [
            " 72%|███████▏  | 144/200 [3:17:00<1:16:18, 81.76s/epoch, loss=1.09, accuracy=0.6, val_loss=1.08, val_accuracy=0.579]  "
          ]
        },
        {
          "name": "stdout",
          "output_type": "stream",
          "text": [
            "412/412 [==============================] - 82s 198ms/step - loss: 1.0853 - accuracy: 0.6002 - val_loss: 1.0827 - val_accuracy: 0.5794\n",
            "Epoch 145/200\n",
            "412/412 [==============================] - ETA: 0s - loss: 1.0848 - accuracy: 0.6009"
          ]
        },
        {
          "name": "stderr",
          "output_type": "stream",
          "text": [
            " 72%|███████▎  | 145/200 [3:18:22<1:14:56, 81.76s/epoch, loss=1.08, accuracy=0.601, val_loss=1.07, val_accuracy=0.59]"
          ]
        },
        {
          "name": "stdout",
          "output_type": "stream",
          "text": [
            "412/412 [==============================] - 82s 198ms/step - loss: 1.0848 - accuracy: 0.6009 - val_loss: 1.0708 - val_accuracy: 0.5901\n",
            "Epoch 146/200\n",
            "412/412 [==============================] - ETA: 0s - loss: 1.0811 - accuracy: 0.6012"
          ]
        },
        {
          "name": "stderr",
          "output_type": "stream",
          "text": [
            " 73%|███████▎  | 146/200 [3:19:44<1:13:34, 81.76s/epoch, loss=1.08, accuracy=0.601, val_loss=1.07, val_accuracy=0.586]"
          ]
        },
        {
          "name": "stdout",
          "output_type": "stream",
          "text": [
            "412/412 [==============================] - 82s 198ms/step - loss: 1.0811 - accuracy: 0.6012 - val_loss: 1.0707 - val_accuracy: 0.5857\n",
            "Epoch 147/200\n",
            "412/412 [==============================] - ETA: 0s - loss: 1.0810 - accuracy: 0.5972"
          ]
        },
        {
          "name": "stderr",
          "output_type": "stream",
          "text": [
            " 74%|███████▎  | 147/200 [3:21:06<1:12:13, 81.76s/epoch, loss=1.08, accuracy=0.597, val_loss=1.07, val_accuracy=0.593]"
          ]
        },
        {
          "name": "stdout",
          "output_type": "stream",
          "text": [
            "412/412 [==============================] - 82s 199ms/step - loss: 1.0810 - accuracy: 0.5972 - val_loss: 1.0684 - val_accuracy: 0.5926\n",
            "Epoch 148/200\n",
            "412/412 [==============================] - ETA: 0s - loss: 1.0803 - accuracy: 0.6028"
          ]
        },
        {
          "name": "stderr",
          "output_type": "stream",
          "text": [
            " 74%|███████▍  | 148/200 [3:22:27<1:10:51, 81.76s/epoch, loss=1.08, accuracy=0.603, val_loss=1.07, val_accuracy=0.59] "
          ]
        },
        {
          "name": "stdout",
          "output_type": "stream",
          "text": [
            "412/412 [==============================] - 82s 198ms/step - loss: 1.0803 - accuracy: 0.6028 - val_loss: 1.0697 - val_accuracy: 0.5904\n",
            "Epoch 149/200\n",
            "412/412 [==============================] - ETA: 0s - loss: 1.0755 - accuracy: 0.6016"
          ]
        },
        {
          "name": "stderr",
          "output_type": "stream",
          "text": [
            " 74%|███████▍  | 149/200 [3:23:49<1:09:29, 81.76s/epoch, loss=1.08, accuracy=0.602, val_loss=1.07, val_accuracy=0.577]"
          ]
        },
        {
          "name": "stdout",
          "output_type": "stream",
          "text": [
            "412/412 [==============================] - 82s 198ms/step - loss: 1.0755 - accuracy: 0.6016 - val_loss: 1.0700 - val_accuracy: 0.5767\n",
            "Epoch 150/200\n",
            "412/412 [==============================] - ETA: 0s - loss: 1.0753 - accuracy: 0.6029"
          ]
        },
        {
          "name": "stderr",
          "output_type": "stream",
          "text": [
            " 75%|███████▌  | 150/200 [3:25:11<1:08:08, 81.76s/epoch, loss=1.08, accuracy=0.603, val_loss=1.06, val_accuracy=0.592]"
          ]
        },
        {
          "name": "stdout",
          "output_type": "stream",
          "text": [
            "412/412 [==============================] - 82s 199ms/step - loss: 1.0753 - accuracy: 0.6029 - val_loss: 1.0599 - val_accuracy: 0.5919\n",
            "Epoch 151/200\n",
            "412/412 [==============================] - ETA: 0s - loss: 1.0726 - accuracy: 0.6017"
          ]
        },
        {
          "name": "stderr",
          "output_type": "stream",
          "text": [
            " 76%|███████▌  | 151/200 [3:26:33<1:06:46, 81.77s/epoch, loss=1.07, accuracy=0.602, val_loss=1.05, val_accuracy=0.609]"
          ]
        },
        {
          "name": "stdout",
          "output_type": "stream",
          "text": [
            "412/412 [==============================] - 82s 198ms/step - loss: 1.0726 - accuracy: 0.6017 - val_loss: 1.0546 - val_accuracy: 0.6088\n",
            "Epoch 152/200\n",
            "412/412 [==============================] - ETA: 0s - loss: 1.0683 - accuracy: 0.6072"
          ]
        },
        {
          "name": "stderr",
          "output_type": "stream",
          "text": [
            " 76%|███████▌  | 152/200 [3:27:54<1:05:24, 81.76s/epoch, loss=1.07, accuracy=0.607, val_loss=1.05, val_accuracy=0.6]  "
          ]
        },
        {
          "name": "stdout",
          "output_type": "stream",
          "text": [
            "412/412 [==============================] - 82s 198ms/step - loss: 1.0683 - accuracy: 0.6072 - val_loss: 1.0535 - val_accuracy: 0.6001\n",
            "Epoch 153/200\n",
            "412/412 [==============================] - ETA: 0s - loss: 1.0700 - accuracy: 0.6010"
          ]
        },
        {
          "name": "stderr",
          "output_type": "stream",
          "text": [
            " 76%|███████▋  | 153/200 [3:29:16<1:04:02, 81.76s/epoch, loss=1.07, accuracy=0.601, val_loss=1.06, val_accuracy=0.593]"
          ]
        },
        {
          "name": "stdout",
          "output_type": "stream",
          "text": [
            "412/412 [==============================] - 82s 198ms/step - loss: 1.0700 - accuracy: 0.6010 - val_loss: 1.0556 - val_accuracy: 0.5931\n",
            "Epoch 154/200\n",
            "412/412 [==============================] - ETA: 0s - loss: 1.0662 - accuracy: 0.6026"
          ]
        },
        {
          "name": "stderr",
          "output_type": "stream",
          "text": [
            " 77%|███████▋  | 154/200 [3:30:38<1:02:40, 81.76s/epoch, loss=1.07, accuracy=0.603, val_loss=1.05, val_accuracy=0.597]"
          ]
        },
        {
          "name": "stdout",
          "output_type": "stream",
          "text": [
            "412/412 [==============================] - 82s 198ms/step - loss: 1.0662 - accuracy: 0.6026 - val_loss: 1.0495 - val_accuracy: 0.5966\n",
            "Epoch 155/200\n",
            "412/412 [==============================] - ETA: 0s - loss: 1.0639 - accuracy: 0.6018"
          ]
        },
        {
          "name": "stderr",
          "output_type": "stream",
          "text": [
            " 78%|███████▊  | 155/200 [3:32:00<1:01:19, 81.76s/epoch, loss=1.06, accuracy=0.602, val_loss=1.05, val_accuracy=0.595]"
          ]
        },
        {
          "name": "stdout",
          "output_type": "stream",
          "text": [
            "412/412 [==============================] - 82s 198ms/step - loss: 1.0639 - accuracy: 0.6018 - val_loss: 1.0515 - val_accuracy: 0.5945\n",
            "Epoch 156/200\n",
            "412/412 [==============================] - ETA: 0s - loss: 1.0633 - accuracy: 0.5981"
          ]
        },
        {
          "name": "stderr",
          "output_type": "stream",
          "text": [
            " 78%|███████▊  | 156/200 [3:33:21<59:57, 81.76s/epoch, loss=1.06, accuracy=0.598, val_loss=1.05, val_accuracy=0.605]  "
          ]
        },
        {
          "name": "stdout",
          "output_type": "stream",
          "text": [
            "412/412 [==============================] - 82s 199ms/step - loss: 1.0633 - accuracy: 0.5981 - val_loss: 1.0457 - val_accuracy: 0.6048\n",
            "Epoch 157/200\n",
            "412/412 [==============================] - ETA: 0s - loss: 1.0617 - accuracy: 0.6020"
          ]
        },
        {
          "name": "stderr",
          "output_type": "stream",
          "text": [
            " 78%|███████▊  | 157/200 [3:34:43<58:36, 81.77s/epoch, loss=1.06, accuracy=0.602, val_loss=1.05, val_accuracy=0.594]"
          ]
        },
        {
          "name": "stdout",
          "output_type": "stream",
          "text": [
            "412/412 [==============================] - 82s 198ms/step - loss: 1.0617 - accuracy: 0.6020 - val_loss: 1.0504 - val_accuracy: 0.5941\n",
            "Epoch 158/200\n",
            "412/412 [==============================] - ETA: 0s - loss: 1.0590 - accuracy: 0.6048"
          ]
        },
        {
          "name": "stderr",
          "output_type": "stream",
          "text": [
            " 79%|███████▉  | 158/200 [3:36:05<57:14, 81.77s/epoch, loss=1.06, accuracy=0.605, val_loss=1.05, val_accuracy=0.585]"
          ]
        },
        {
          "name": "stdout",
          "output_type": "stream",
          "text": [
            "412/412 [==============================] - 82s 199ms/step - loss: 1.0590 - accuracy: 0.6048 - val_loss: 1.0507 - val_accuracy: 0.5848\n",
            "Epoch 159/200\n",
            "412/412 [==============================] - ETA: 0s - loss: 1.0565 - accuracy: 0.6035"
          ]
        },
        {
          "name": "stderr",
          "output_type": "stream",
          "text": [
            " 80%|███████▉  | 159/200 [3:37:27<55:52, 81.78s/epoch, loss=1.06, accuracy=0.603, val_loss=1.05, val_accuracy=0.586]"
          ]
        },
        {
          "name": "stdout",
          "output_type": "stream",
          "text": [
            "412/412 [==============================] - 82s 199ms/step - loss: 1.0565 - accuracy: 0.6035 - val_loss: 1.0453 - val_accuracy: 0.5860\n",
            "Epoch 160/200\n",
            "412/412 [==============================] - ETA: 0s - loss: 1.0574 - accuracy: 0.6024"
          ]
        },
        {
          "name": "stderr",
          "output_type": "stream",
          "text": [
            " 80%|████████  | 160/200 [3:38:49<54:31, 81.78s/epoch, loss=1.06, accuracy=0.602, val_loss=1.05, val_accuracy=0.581]"
          ]
        },
        {
          "name": "stdout",
          "output_type": "stream",
          "text": [
            "412/412 [==============================] - 82s 199ms/step - loss: 1.0574 - accuracy: 0.6024 - val_loss: 1.0517 - val_accuracy: 0.5810\n",
            "Epoch 161/200\n",
            "412/412 [==============================] - ETA: 0s - loss: 1.0533 - accuracy: 0.6030"
          ]
        },
        {
          "name": "stderr",
          "output_type": "stream",
          "text": [
            " 80%|████████  | 161/200 [3:40:10<53:09, 81.79s/epoch, loss=1.05, accuracy=0.603, val_loss=1.04, val_accuracy=0.592]"
          ]
        },
        {
          "name": "stdout",
          "output_type": "stream",
          "text": [
            "412/412 [==============================] - 82s 199ms/step - loss: 1.0533 - accuracy: 0.6030 - val_loss: 1.0420 - val_accuracy: 0.5923\n",
            "Epoch 162/200\n",
            "412/412 [==============================] - ETA: 0s - loss: 1.0541 - accuracy: 0.6038"
          ]
        },
        {
          "name": "stderr",
          "output_type": "stream",
          "text": [
            " 81%|████████  | 162/200 [3:41:32<51:47, 81.78s/epoch, loss=1.05, accuracy=0.604, val_loss=1.04, val_accuracy=0.611]"
          ]
        },
        {
          "name": "stdout",
          "output_type": "stream",
          "text": [
            "412/412 [==============================] - 82s 199ms/step - loss: 1.0541 - accuracy: 0.6038 - val_loss: 1.0377 - val_accuracy: 0.6113\n",
            "Epoch 163/200\n",
            "412/412 [==============================] - ETA: 0s - loss: 1.0519 - accuracy: 0.6031"
          ]
        },
        {
          "name": "stderr",
          "output_type": "stream",
          "text": [
            " 82%|████████▏ | 163/200 [3:42:54<50:26, 81.79s/epoch, loss=1.05, accuracy=0.603, val_loss=1.04, val_accuracy=0.589]"
          ]
        },
        {
          "name": "stdout",
          "output_type": "stream",
          "text": [
            "412/412 [==============================] - 82s 199ms/step - loss: 1.0519 - accuracy: 0.6031 - val_loss: 1.0384 - val_accuracy: 0.5891\n",
            "Epoch 164/200\n",
            "412/412 [==============================] - ETA: 0s - loss: 1.0492 - accuracy: 0.6019"
          ]
        },
        {
          "name": "stderr",
          "output_type": "stream",
          "text": [
            " 82%|████████▏ | 164/200 [3:44:16<49:03, 81.78s/epoch, loss=1.05, accuracy=0.602, val_loss=1.04, val_accuracy=0.594]"
          ]
        },
        {
          "name": "stdout",
          "output_type": "stream",
          "text": [
            "412/412 [==============================] - 82s 199ms/step - loss: 1.0492 - accuracy: 0.6019 - val_loss: 1.0423 - val_accuracy: 0.5937\n",
            "Epoch 165/200\n",
            "412/412 [==============================] - ETA: 0s - loss: 1.0491 - accuracy: 0.6052"
          ]
        },
        {
          "name": "stderr",
          "output_type": "stream",
          "text": [
            " 82%|████████▎ | 165/200 [3:45:38<47:42, 81.78s/epoch, loss=1.05, accuracy=0.605, val_loss=1.04, val_accuracy=0.585]"
          ]
        },
        {
          "name": "stdout",
          "output_type": "stream",
          "text": [
            "412/412 [==============================] - 82s 199ms/step - loss: 1.0491 - accuracy: 0.6052 - val_loss: 1.0426 - val_accuracy: 0.5851\n",
            "Epoch 166/200\n",
            "412/412 [==============================] - ETA: 0s - loss: 1.0484 - accuracy: 0.6053"
          ]
        },
        {
          "name": "stderr",
          "output_type": "stream",
          "text": [
            " 83%|████████▎ | 166/200 [3:46:59<46:20, 81.78s/epoch, loss=1.05, accuracy=0.605, val_loss=1.04, val_accuracy=0.596]"
          ]
        },
        {
          "name": "stdout",
          "output_type": "stream",
          "text": [
            "412/412 [==============================] - 82s 199ms/step - loss: 1.0484 - accuracy: 0.6053 - val_loss: 1.0365 - val_accuracy: 0.5963\n",
            "Epoch 167/200\n",
            "412/412 [==============================] - ETA: 0s - loss: 1.0457 - accuracy: 0.6031"
          ]
        },
        {
          "name": "stderr",
          "output_type": "stream",
          "text": [
            " 84%|████████▎ | 167/200 [3:48:21<44:58, 81.79s/epoch, loss=1.05, accuracy=0.603, val_loss=1.03, val_accuracy=0.605]"
          ]
        },
        {
          "name": "stdout",
          "output_type": "stream",
          "text": [
            "412/412 [==============================] - 82s 199ms/step - loss: 1.0457 - accuracy: 0.6031 - val_loss: 1.0305 - val_accuracy: 0.6048\n",
            "Epoch 168/200\n",
            "412/412 [==============================] - ETA: 0s - loss: 1.0471 - accuracy: 0.6007"
          ]
        },
        {
          "name": "stderr",
          "output_type": "stream",
          "text": [
            " 84%|████████▍ | 168/200 [3:49:43<43:37, 81.80s/epoch, loss=1.05, accuracy=0.601, val_loss=1.04, val_accuracy=0.587]"
          ]
        },
        {
          "name": "stdout",
          "output_type": "stream",
          "text": [
            "412/412 [==============================] - 82s 199ms/step - loss: 1.0471 - accuracy: 0.6007 - val_loss: 1.0358 - val_accuracy: 0.5873\n",
            "Epoch 169/200\n",
            "412/412 [==============================] - ETA: 0s - loss: 1.0431 - accuracy: 0.6041"
          ]
        },
        {
          "name": "stderr",
          "output_type": "stream",
          "text": [
            " 84%|████████▍ | 169/200 [3:51:05<42:15, 81.79s/epoch, loss=1.04, accuracy=0.604, val_loss=1.04, val_accuracy=0.59] "
          ]
        },
        {
          "name": "stdout",
          "output_type": "stream",
          "text": [
            "412/412 [==============================] - 82s 199ms/step - loss: 1.0431 - accuracy: 0.6041 - val_loss: 1.0354 - val_accuracy: 0.5900\n",
            "Epoch 170/200\n",
            "412/412 [==============================] - ETA: 0s - loss: 1.0398 - accuracy: 0.6041"
          ]
        },
        {
          "name": "stderr",
          "output_type": "stream",
          "text": [
            " 85%|████████▌ | 170/200 [3:52:26<40:53, 81.79s/epoch, loss=1.04, accuracy=0.604, val_loss=1.03, val_accuracy=0.598]"
          ]
        },
        {
          "name": "stdout",
          "output_type": "stream",
          "text": [
            "412/412 [==============================] - 82s 199ms/step - loss: 1.0398 - accuracy: 0.6041 - val_loss: 1.0254 - val_accuracy: 0.5981\n",
            "Epoch 171/200\n",
            "412/412 [==============================] - ETA: 0s - loss: 1.0430 - accuracy: 0.6039"
          ]
        },
        {
          "name": "stderr",
          "output_type": "stream",
          "text": [
            " 86%|████████▌ | 171/200 [3:53:48<39:31, 81.79s/epoch, loss=1.04, accuracy=0.604, val_loss=1.05, val_accuracy=0.567]"
          ]
        },
        {
          "name": "stdout",
          "output_type": "stream",
          "text": [
            "412/412 [==============================] - 82s 199ms/step - loss: 1.0430 - accuracy: 0.6039 - val_loss: 1.0465 - val_accuracy: 0.5669\n",
            "Epoch 172/200\n",
            "412/412 [==============================] - ETA: 0s - loss: 1.0410 - accuracy: 0.6036"
          ]
        },
        {
          "name": "stderr",
          "output_type": "stream",
          "text": [
            " 86%|████████▌ | 172/200 [3:55:10<38:10, 81.79s/epoch, loss=1.04, accuracy=0.604, val_loss=1.02, val_accuracy=0.605]"
          ]
        },
        {
          "name": "stdout",
          "output_type": "stream",
          "text": [
            "412/412 [==============================] - 82s 199ms/step - loss: 1.0410 - accuracy: 0.6036 - val_loss: 1.0205 - val_accuracy: 0.6053\n",
            "Epoch 173/200\n",
            "412/412 [==============================] - ETA: 0s - loss: 1.0374 - accuracy: 0.6041"
          ]
        },
        {
          "name": "stderr",
          "output_type": "stream",
          "text": [
            " 86%|████████▋ | 173/200 [3:56:32<36:48, 81.80s/epoch, loss=1.04, accuracy=0.604, val_loss=1.02, val_accuracy=0.605]"
          ]
        },
        {
          "name": "stdout",
          "output_type": "stream",
          "text": [
            "412/412 [==============================] - 82s 199ms/step - loss: 1.0374 - accuracy: 0.6041 - val_loss: 1.0227 - val_accuracy: 0.6051\n",
            "Epoch 174/200\n",
            "412/412 [==============================] - ETA: 0s - loss: 1.0364 - accuracy: 0.6049"
          ]
        },
        {
          "name": "stderr",
          "output_type": "stream",
          "text": [
            " 87%|████████▋ | 174/200 [3:57:54<35:26, 81.79s/epoch, loss=1.04, accuracy=0.605, val_loss=1.02, val_accuracy=0.594]"
          ]
        },
        {
          "name": "stdout",
          "output_type": "stream",
          "text": [
            "412/412 [==============================] - 82s 199ms/step - loss: 1.0364 - accuracy: 0.6049 - val_loss: 1.0212 - val_accuracy: 0.5939\n",
            "Epoch 175/200\n",
            "412/412 [==============================] - ETA: 0s - loss: 1.0344 - accuracy: 0.6052"
          ]
        },
        {
          "name": "stderr",
          "output_type": "stream",
          "text": [
            " 88%|████████▊ | 175/200 [3:59:15<34:04, 81.80s/epoch, loss=1.03, accuracy=0.605, val_loss=1.02, val_accuracy=0.602]"
          ]
        },
        {
          "name": "stdout",
          "output_type": "stream",
          "text": [
            "412/412 [==============================] - 82s 199ms/step - loss: 1.0344 - accuracy: 0.6052 - val_loss: 1.0205 - val_accuracy: 0.6020\n",
            "Epoch 176/200\n",
            "412/412 [==============================] - ETA: 0s - loss: 1.0361 - accuracy: 0.6048"
          ]
        },
        {
          "name": "stderr",
          "output_type": "stream",
          "text": [
            " 88%|████████▊ | 176/200 [4:00:37<32:42, 81.79s/epoch, loss=1.04, accuracy=0.605, val_loss=1.02, val_accuracy=0.616]"
          ]
        },
        {
          "name": "stdout",
          "output_type": "stream",
          "text": [
            "412/412 [==============================] - 82s 198ms/step - loss: 1.0361 - accuracy: 0.6048 - val_loss: 1.0202 - val_accuracy: 0.6158\n",
            "Epoch 177/200\n",
            "412/412 [==============================] - ETA: 0s - loss: 1.0325 - accuracy: 0.6032"
          ]
        },
        {
          "name": "stderr",
          "output_type": "stream",
          "text": [
            " 88%|████████▊ | 177/200 [4:01:59<31:21, 81.79s/epoch, loss=1.03, accuracy=0.603, val_loss=1.02, val_accuracy=0.602]"
          ]
        },
        {
          "name": "stdout",
          "output_type": "stream",
          "text": [
            "412/412 [==============================] - 82s 199ms/step - loss: 1.0325 - accuracy: 0.6032 - val_loss: 1.0183 - val_accuracy: 0.6019\n",
            "Epoch 178/200\n",
            "412/412 [==============================] - ETA: 0s - loss: 1.0327 - accuracy: 0.6045"
          ]
        },
        {
          "name": "stderr",
          "output_type": "stream",
          "text": [
            " 89%|████████▉ | 178/200 [4:03:21<29:59, 81.78s/epoch, loss=1.03, accuracy=0.604, val_loss=1.02, val_accuracy=0.602]"
          ]
        },
        {
          "name": "stdout",
          "output_type": "stream",
          "text": [
            "412/412 [==============================] - 82s 199ms/step - loss: 1.0327 - accuracy: 0.6045 - val_loss: 1.0203 - val_accuracy: 0.6017\n",
            "Epoch 179/200\n",
            "412/412 [==============================] - ETA: 0s - loss: 1.0326 - accuracy: 0.6046"
          ]
        },
        {
          "name": "stderr",
          "output_type": "stream",
          "text": [
            " 90%|████████▉ | 179/200 [4:04:43<28:37, 81.79s/epoch, loss=1.03, accuracy=0.605, val_loss=1.02, val_accuracy=0.604]"
          ]
        },
        {
          "name": "stdout",
          "output_type": "stream",
          "text": [
            "412/412 [==============================] - 82s 199ms/step - loss: 1.0326 - accuracy: 0.6046 - val_loss: 1.0161 - val_accuracy: 0.6037\n",
            "Epoch 180/200\n",
            "412/412 [==============================] - ETA: 0s - loss: 1.0277 - accuracy: 0.6052"
          ]
        },
        {
          "name": "stderr",
          "output_type": "stream",
          "text": [
            " 90%|█████████ | 180/200 [4:06:04<27:15, 81.79s/epoch, loss=1.03, accuracy=0.605, val_loss=1.03, val_accuracy=0.581]"
          ]
        },
        {
          "name": "stdout",
          "output_type": "stream",
          "text": [
            "412/412 [==============================] - 82s 199ms/step - loss: 1.0277 - accuracy: 0.6052 - val_loss: 1.0255 - val_accuracy: 0.5806\n",
            "Epoch 181/200\n",
            "412/412 [==============================] - ETA: 0s - loss: 1.0280 - accuracy: 0.6061"
          ]
        },
        {
          "name": "stderr",
          "output_type": "stream",
          "text": [
            " 90%|█████████ | 181/200 [4:07:26<25:53, 81.78s/epoch, loss=1.03, accuracy=0.606, val_loss=1.01, val_accuracy=0.603]"
          ]
        },
        {
          "name": "stdout",
          "output_type": "stream",
          "text": [
            "412/412 [==============================] - 82s 199ms/step - loss: 1.0280 - accuracy: 0.6061 - val_loss: 1.0121 - val_accuracy: 0.6033\n",
            "Epoch 182/200\n",
            "412/412 [==============================] - ETA: 0s - loss: 1.0265 - accuracy: 0.6018"
          ]
        },
        {
          "name": "stderr",
          "output_type": "stream",
          "text": [
            " 91%|█████████ | 182/200 [4:08:48<24:32, 81.78s/epoch, loss=1.03, accuracy=0.602, val_loss=1.01, val_accuracy=0.602]"
          ]
        },
        {
          "name": "stdout",
          "output_type": "stream",
          "text": [
            "412/412 [==============================] - 82s 199ms/step - loss: 1.0265 - accuracy: 0.6018 - val_loss: 1.0098 - val_accuracy: 0.6016\n",
            "Epoch 183/200\n",
            "412/412 [==============================] - ETA: 0s - loss: 1.0237 - accuracy: 0.6040"
          ]
        },
        {
          "name": "stderr",
          "output_type": "stream",
          "text": [
            " 92%|█████████▏| 183/200 [4:10:10<23:10, 81.78s/epoch, loss=1.02, accuracy=0.604, val_loss=1.03, val_accuracy=0.563]"
          ]
        },
        {
          "name": "stdout",
          "output_type": "stream",
          "text": [
            "412/412 [==============================] - 82s 199ms/step - loss: 1.0237 - accuracy: 0.6040 - val_loss: 1.0349 - val_accuracy: 0.5626\n",
            "Epoch 184/200\n",
            "412/412 [==============================] - ETA: 0s - loss: 1.0251 - accuracy: 0.6056"
          ]
        },
        {
          "name": "stderr",
          "output_type": "stream",
          "text": [
            " 92%|█████████▏| 184/200 [4:11:31<21:48, 81.78s/epoch, loss=1.03, accuracy=0.606, val_loss=1.01, val_accuracy=0.596]"
          ]
        },
        {
          "name": "stdout",
          "output_type": "stream",
          "text": [
            "412/412 [==============================] - 82s 198ms/step - loss: 1.0251 - accuracy: 0.6056 - val_loss: 1.0143 - val_accuracy: 0.5962\n",
            "Epoch 185/200\n",
            "412/412 [==============================] - ETA: 0s - loss: 1.0238 - accuracy: 0.6017"
          ]
        },
        {
          "name": "stderr",
          "output_type": "stream",
          "text": [
            " 92%|█████████▎| 185/200 [4:12:53<20:26, 81.77s/epoch, loss=1.02, accuracy=0.602, val_loss=1.02, val_accuracy=0.587]"
          ]
        },
        {
          "name": "stdout",
          "output_type": "stream",
          "text": [
            "412/412 [==============================] - 82s 198ms/step - loss: 1.0238 - accuracy: 0.6017 - val_loss: 1.0181 - val_accuracy: 0.5867\n",
            "Epoch 186/200\n",
            "412/412 [==============================] - ETA: 0s - loss: 1.0216 - accuracy: 0.6035"
          ]
        },
        {
          "name": "stderr",
          "output_type": "stream",
          "text": [
            " 93%|█████████▎| 186/200 [4:14:15<19:04, 81.78s/epoch, loss=1.02, accuracy=0.603, val_loss=1.01, val_accuracy=0.596]"
          ]
        },
        {
          "name": "stdout",
          "output_type": "stream",
          "text": [
            "412/412 [==============================] - 82s 199ms/step - loss: 1.0216 - accuracy: 0.6035 - val_loss: 1.0129 - val_accuracy: 0.5964\n",
            "Epoch 187/200\n",
            "412/412 [==============================] - ETA: 0s - loss: 1.0208 - accuracy: 0.6031"
          ]
        },
        {
          "name": "stderr",
          "output_type": "stream",
          "text": [
            " 94%|█████████▎| 187/200 [4:15:37<17:43, 81.78s/epoch, loss=1.02, accuracy=0.603, val_loss=1.01, val_accuracy=0.601]"
          ]
        },
        {
          "name": "stdout",
          "output_type": "stream",
          "text": [
            "412/412 [==============================] - 82s 199ms/step - loss: 1.0208 - accuracy: 0.6031 - val_loss: 1.0057 - val_accuracy: 0.6013\n",
            "Epoch 188/200\n",
            "412/412 [==============================] - ETA: 0s - loss: 1.0198 - accuracy: 0.6056"
          ]
        },
        {
          "name": "stderr",
          "output_type": "stream",
          "text": [
            " 94%|█████████▍| 188/200 [4:16:59<16:21, 81.77s/epoch, loss=1.02, accuracy=0.606, val_loss=1.01, val_accuracy=0.599]"
          ]
        },
        {
          "name": "stdout",
          "output_type": "stream",
          "text": [
            "412/412 [==============================] - 82s 198ms/step - loss: 1.0198 - accuracy: 0.6056 - val_loss: 1.0063 - val_accuracy: 0.5990\n",
            "Epoch 189/200\n",
            "412/412 [==============================] - ETA: 0s - loss: 1.0182 - accuracy: 0.6060"
          ]
        },
        {
          "name": "stderr",
          "output_type": "stream",
          "text": [
            " 94%|█████████▍| 189/200 [4:18:20<14:59, 81.77s/epoch, loss=1.02, accuracy=0.606, val_loss=1, val_accuracy=0.602]   "
          ]
        },
        {
          "name": "stdout",
          "output_type": "stream",
          "text": [
            "412/412 [==============================] - 82s 198ms/step - loss: 1.0182 - accuracy: 0.6060 - val_loss: 1.0039 - val_accuracy: 0.6022\n",
            "Epoch 190/200\n",
            "412/412 [==============================] - ETA: 0s - loss: 1.0157 - accuracy: 0.6060"
          ]
        },
        {
          "name": "stderr",
          "output_type": "stream",
          "text": [
            " 95%|█████████▌| 190/200 [4:19:42<13:37, 81.77s/epoch, loss=1.02, accuracy=0.606, val_loss=1, val_accuracy=0.597]"
          ]
        },
        {
          "name": "stdout",
          "output_type": "stream",
          "text": [
            "412/412 [==============================] - 82s 199ms/step - loss: 1.0157 - accuracy: 0.6060 - val_loss: 1.0005 - val_accuracy: 0.5973\n",
            "Epoch 191/200\n",
            "412/412 [==============================] - ETA: 0s - loss: 1.0179 - accuracy: 0.6068"
          ]
        },
        {
          "name": "stderr",
          "output_type": "stream",
          "text": [
            " 96%|█████████▌| 191/200 [4:21:04<12:15, 81.76s/epoch, loss=1.02, accuracy=0.607, val_loss=1.01, val_accuracy=0.601]"
          ]
        },
        {
          "name": "stdout",
          "output_type": "stream",
          "text": [
            "412/412 [==============================] - 82s 198ms/step - loss: 1.0179 - accuracy: 0.6068 - val_loss: 1.0051 - val_accuracy: 0.6008\n",
            "Epoch 192/200\n",
            "412/412 [==============================] - ETA: 0s - loss: 1.0145 - accuracy: 0.6041"
          ]
        },
        {
          "name": "stderr",
          "output_type": "stream",
          "text": [
            " 96%|█████████▌| 192/200 [4:22:26<10:54, 81.76s/epoch, loss=1.01, accuracy=0.604, val_loss=1, val_accuracy=0.601]   "
          ]
        },
        {
          "name": "stdout",
          "output_type": "stream",
          "text": [
            "412/412 [==============================] - 82s 198ms/step - loss: 1.0145 - accuracy: 0.6041 - val_loss: 1.0005 - val_accuracy: 0.6015\n",
            "Epoch 193/200\n",
            "412/412 [==============================] - ETA: 0s - loss: 1.0141 - accuracy: 0.6057"
          ]
        },
        {
          "name": "stderr",
          "output_type": "stream",
          "text": [
            " 96%|█████████▋| 193/200 [4:23:47<09:32, 81.75s/epoch, loss=1.01, accuracy=0.606, val_loss=1, val_accuracy=0.609]"
          ]
        },
        {
          "name": "stdout",
          "output_type": "stream",
          "text": [
            "412/412 [==============================] - 82s 198ms/step - loss: 1.0141 - accuracy: 0.6057 - val_loss: 1.0000 - val_accuracy: 0.6095\n",
            "Epoch 194/200\n",
            "412/412 [==============================] - ETA: 0s - loss: 1.0153 - accuracy: 0.6030"
          ]
        },
        {
          "name": "stderr",
          "output_type": "stream",
          "text": [
            " 97%|█████████▋| 194/200 [4:25:09<08:10, 81.75s/epoch, loss=1.02, accuracy=0.603, val_loss=1, val_accuracy=0.615]"
          ]
        },
        {
          "name": "stdout",
          "output_type": "stream",
          "text": [
            "412/412 [==============================] - 82s 198ms/step - loss: 1.0153 - accuracy: 0.6030 - val_loss: 1.0026 - val_accuracy: 0.6149\n",
            "Epoch 195/200\n",
            "412/412 [==============================] - ETA: 0s - loss: 1.0125 - accuracy: 0.6066"
          ]
        },
        {
          "name": "stderr",
          "output_type": "stream",
          "text": [
            " 98%|█████████▊| 195/200 [4:26:31<06:48, 81.75s/epoch, loss=1.01, accuracy=0.607, val_loss=1.01, val_accuracy=0.585]"
          ]
        },
        {
          "name": "stdout",
          "output_type": "stream",
          "text": [
            "412/412 [==============================] - 82s 198ms/step - loss: 1.0125 - accuracy: 0.6066 - val_loss: 1.0079 - val_accuracy: 0.5854\n",
            "Epoch 196/200\n",
            "412/412 [==============================] - ETA: 0s - loss: 1.0119 - accuracy: 0.6052"
          ]
        },
        {
          "name": "stderr",
          "output_type": "stream",
          "text": [
            " 98%|█████████▊| 196/200 [4:27:53<05:27, 81.75s/epoch, loss=1.01, accuracy=0.605, val_loss=0.995, val_accuracy=0.601]"
          ]
        },
        {
          "name": "stdout",
          "output_type": "stream",
          "text": [
            "412/412 [==============================] - 82s 198ms/step - loss: 1.0119 - accuracy: 0.6052 - val_loss: 0.9952 - val_accuracy: 0.6013\n",
            "Epoch 197/200\n",
            "412/412 [==============================] - ETA: 0s - loss: 1.0123 - accuracy: 0.6046"
          ]
        },
        {
          "name": "stderr",
          "output_type": "stream",
          "text": [
            " 98%|█████████▊| 197/200 [4:29:14<04:05, 81.75s/epoch, loss=1.01, accuracy=0.605, val_loss=0.991, val_accuracy=0.604]"
          ]
        },
        {
          "name": "stdout",
          "output_type": "stream",
          "text": [
            "412/412 [==============================] - 82s 198ms/step - loss: 1.0123 - accuracy: 0.6046 - val_loss: 0.9912 - val_accuracy: 0.6043\n",
            "Epoch 198/200\n",
            "412/412 [==============================] - ETA: 0s - loss: 1.0107 - accuracy: 0.6035"
          ]
        },
        {
          "name": "stderr",
          "output_type": "stream",
          "text": [
            " 99%|█████████▉| 198/200 [4:30:36<02:43, 81.75s/epoch, loss=1.01, accuracy=0.604, val_loss=0.994, val_accuracy=0.601]"
          ]
        },
        {
          "name": "stdout",
          "output_type": "stream",
          "text": [
            "412/412 [==============================] - 82s 198ms/step - loss: 1.0107 - accuracy: 0.6035 - val_loss: 0.9941 - val_accuracy: 0.6011\n",
            "Epoch 199/200\n",
            "412/412 [==============================] - ETA: 0s - loss: 1.0083 - accuracy: 0.6065"
          ]
        },
        {
          "name": "stderr",
          "output_type": "stream",
          "text": [
            "100%|█████████▉| 199/200 [4:31:58<01:21, 81.75s/epoch, loss=1.01, accuracy=0.607, val_loss=0.997, val_accuracy=0.599]"
          ]
        },
        {
          "name": "stdout",
          "output_type": "stream",
          "text": [
            "412/412 [==============================] - 82s 198ms/step - loss: 1.0083 - accuracy: 0.6065 - val_loss: 0.9967 - val_accuracy: 0.5986\n",
            "Epoch 200/200\n",
            "412/412 [==============================] - ETA: 0s - loss: 1.0090 - accuracy: 0.6077"
          ]
        },
        {
          "name": "stderr",
          "output_type": "stream",
          "text": [
            "100%|██████████| 200/200 [4:33:20<00:00, 81.75s/epoch, loss=1.01, accuracy=0.608, val_loss=1.01, val_accuracy=0.575] "
          ]
        },
        {
          "name": "stdout",
          "output_type": "stream",
          "text": [
            "412/412 [==============================] - 82s 198ms/step - loss: 1.0090 - accuracy: 0.6077 - val_loss: 1.0107 - val_accuracy: 0.5751\n"
          ]
        },
        {
          "name": "stderr",
          "output_type": "stream",
          "text": [
            "100%|██████████| 200/200 [4:33:20<00:00, 82.00s/epoch, loss=1.01, accuracy=0.608, val_loss=1.01, val_accuracy=0.575]"
          ]
        },
        {
          "name": "stdout",
          "output_type": "stream",
          "text": [
            "WARNING:tensorflow:`period` argument is deprecated. Please use `save_freq` to specify the frequency in number of batches seen.\n"
          ]
        },
        {
          "name": "stderr",
          "output_type": "stream",
          "text": [
            "\n",
            "  0%|          | 0/200 [00:00<?, ?epoch/s]"
          ]
        },
        {
          "name": "stdout",
          "output_type": "stream",
          "text": [
            "Epoch 1/200\n",
            "412/412 [==============================] - ETA: 0s - loss: 1.2822 - accuracy: 0.3432"
          ]
        },
        {
          "name": "stderr",
          "output_type": "stream",
          "text": [
            "  0%|          | 1/200 [01:26<4:46:26, 86.36s/epoch, loss=1.28, accuracy=0.343, val_loss=1.14, val_accuracy=0.491]"
          ]
        },
        {
          "name": "stdout",
          "output_type": "stream",
          "text": [
            "412/412 [==============================] - 87s 200ms/step - loss: 1.2822 - accuracy: 0.3432 - val_loss: 1.1396 - val_accuracy: 0.4905\n",
            "Epoch 2/200\n",
            "412/412 [==============================] - ETA: 0s - loss: 1.2386 - accuracy: 0.3548"
          ]
        },
        {
          "name": "stderr",
          "output_type": "stream",
          "text": [
            "  1%|          | 2/200 [02:47<4:35:46, 83.57s/epoch, loss=1.24, accuracy=0.355, val_loss=1.13, val_accuracy=0.508]"
          ]
        },
        {
          "name": "stdout",
          "output_type": "stream",
          "text": [
            "412/412 [==============================] - 82s 198ms/step - loss: 1.2386 - accuracy: 0.3548 - val_loss: 1.1312 - val_accuracy: 0.5075\n",
            "Epoch 3/200\n",
            "412/412 [==============================] - ETA: 0s - loss: 1.2130 - accuracy: 0.3681"
          ]
        },
        {
          "name": "stderr",
          "output_type": "stream",
          "text": [
            "  2%|▏         | 3/200 [04:09<4:31:25, 82.67s/epoch, loss=1.21, accuracy=0.368, val_loss=1.13, val_accuracy=0.511]"
          ]
        },
        {
          "name": "stdout",
          "output_type": "stream",
          "text": [
            "412/412 [==============================] - 82s 198ms/step - loss: 1.2130 - accuracy: 0.3681 - val_loss: 1.1251 - val_accuracy: 0.5114\n",
            "Epoch 4/200\n",
            "412/412 [==============================] - ETA: 0s - loss: 1.2039 - accuracy: 0.3717"
          ]
        },
        {
          "name": "stderr",
          "output_type": "stream",
          "text": [
            "  2%|▏         | 4/200 [05:31<4:28:40, 82.25s/epoch, loss=1.2, accuracy=0.372, val_loss=1.12, val_accuracy=0.512] "
          ]
        },
        {
          "name": "stdout",
          "output_type": "stream",
          "text": [
            "412/412 [==============================] - 82s 198ms/step - loss: 1.2039 - accuracy: 0.3717 - val_loss: 1.1195 - val_accuracy: 0.5122\n",
            "Epoch 5/200\n",
            "412/412 [==============================] - ETA: 0s - loss: 1.1869 - accuracy: 0.3884"
          ]
        },
        {
          "name": "stderr",
          "output_type": "stream",
          "text": [
            "  2%|▎         | 5/200 [06:52<4:26:34, 82.02s/epoch, loss=1.19, accuracy=0.388, val_loss=1.11, val_accuracy=0.517]"
          ]
        },
        {
          "name": "stdout",
          "output_type": "stream",
          "text": [
            "412/412 [==============================] - 82s 198ms/step - loss: 1.1869 - accuracy: 0.3884 - val_loss: 1.1131 - val_accuracy: 0.5172\n",
            "Epoch 6/200\n",
            "412/412 [==============================] - ETA: 0s - loss: 1.1752 - accuracy: 0.3936"
          ]
        },
        {
          "name": "stderr",
          "output_type": "stream",
          "text": [
            "  3%|▎         | 6/200 [08:14<4:24:46, 81.89s/epoch, loss=1.18, accuracy=0.394, val_loss=1.11, val_accuracy=0.526]"
          ]
        },
        {
          "name": "stdout",
          "output_type": "stream",
          "text": [
            "412/412 [==============================] - 82s 198ms/step - loss: 1.1752 - accuracy: 0.3936 - val_loss: 1.1054 - val_accuracy: 0.5258\n",
            "Epoch 7/200\n",
            "412/412 [==============================] - ETA: 0s - loss: 1.1580 - accuracy: 0.4109"
          ]
        },
        {
          "name": "stderr",
          "output_type": "stream",
          "text": [
            "  4%|▎         | 7/200 [09:36<4:23:08, 81.80s/epoch, loss=1.16, accuracy=0.411, val_loss=1.09, val_accuracy=0.538]"
          ]
        },
        {
          "name": "stdout",
          "output_type": "stream",
          "text": [
            "412/412 [==============================] - 82s 198ms/step - loss: 1.1580 - accuracy: 0.4109 - val_loss: 1.0944 - val_accuracy: 0.5383\n",
            "Epoch 8/200\n",
            "412/412 [==============================] - ETA: 0s - loss: 1.1537 - accuracy: 0.4140"
          ]
        },
        {
          "name": "stderr",
          "output_type": "stream",
          "text": [
            "  4%|▍         | 8/200 [10:57<4:21:35, 81.74s/epoch, loss=1.15, accuracy=0.414, val_loss=1.08, val_accuracy=0.551]"
          ]
        },
        {
          "name": "stdout",
          "output_type": "stream",
          "text": [
            "412/412 [==============================] - 82s 198ms/step - loss: 1.1537 - accuracy: 0.4140 - val_loss: 1.0815 - val_accuracy: 0.5510\n",
            "Epoch 9/200\n",
            "412/412 [==============================] - ETA: 0s - loss: 1.1365 - accuracy: 0.4289"
          ]
        },
        {
          "name": "stderr",
          "output_type": "stream",
          "text": [
            "  4%|▍         | 9/200 [12:19<4:20:06, 81.71s/epoch, loss=1.14, accuracy=0.429, val_loss=1.07, val_accuracy=0.562]"
          ]
        },
        {
          "name": "stdout",
          "output_type": "stream",
          "text": [
            "412/412 [==============================] - 82s 198ms/step - loss: 1.1365 - accuracy: 0.4289 - val_loss: 1.0682 - val_accuracy: 0.5615\n",
            "Epoch 10/200\n",
            "412/412 [==============================] - ETA: 0s - loss: 1.1262 - accuracy: 0.4427"
          ]
        },
        {
          "name": "stderr",
          "output_type": "stream",
          "text": [
            "  5%|▌         | 10/200 [13:40<4:18:38, 81.68s/epoch, loss=1.13, accuracy=0.443, val_loss=1.05, val_accuracy=0.573]"
          ]
        },
        {
          "name": "stdout",
          "output_type": "stream",
          "text": [
            "412/412 [==============================] - 82s 198ms/step - loss: 1.1262 - accuracy: 0.4427 - val_loss: 1.0542 - val_accuracy: 0.5727\n",
            "Epoch 11/200\n",
            "412/412 [==============================] - ETA: 0s - loss: 1.1153 - accuracy: 0.4536"
          ]
        },
        {
          "name": "stderr",
          "output_type": "stream",
          "text": [
            "  6%|▌         | 11/200 [15:02<4:17:15, 81.67s/epoch, loss=1.12, accuracy=0.454, val_loss=1.05, val_accuracy=0.574]"
          ]
        },
        {
          "name": "stdout",
          "output_type": "stream",
          "text": [
            "412/412 [==============================] - 82s 198ms/step - loss: 1.1153 - accuracy: 0.4536 - val_loss: 1.0469 - val_accuracy: 0.5743\n",
            "Epoch 12/200\n",
            "412/412 [==============================] - ETA: 0s - loss: 1.1130 - accuracy: 0.4578"
          ]
        },
        {
          "name": "stderr",
          "output_type": "stream",
          "text": [
            "  6%|▌         | 12/200 [16:24<4:15:51, 81.66s/epoch, loss=1.11, accuracy=0.458, val_loss=1.04, val_accuracy=0.574]"
          ]
        },
        {
          "name": "stdout",
          "output_type": "stream",
          "text": [
            "412/412 [==============================] - 82s 198ms/step - loss: 1.1130 - accuracy: 0.4578 - val_loss: 1.0428 - val_accuracy: 0.5744\n",
            "Epoch 13/200\n",
            "412/412 [==============================] - ETA: 0s - loss: 1.1018 - accuracy: 0.4639"
          ]
        },
        {
          "name": "stderr",
          "output_type": "stream",
          "text": [
            "  6%|▋         | 13/200 [17:45<4:14:25, 81.64s/epoch, loss=1.1, accuracy=0.464, val_loss=1.04, val_accuracy=0.577] "
          ]
        },
        {
          "name": "stdout",
          "output_type": "stream",
          "text": [
            "412/412 [==============================] - 82s 198ms/step - loss: 1.1018 - accuracy: 0.4639 - val_loss: 1.0371 - val_accuracy: 0.5766\n",
            "Epoch 14/200\n",
            "412/412 [==============================] - ETA: 0s - loss: 1.1008 - accuracy: 0.4686"
          ]
        },
        {
          "name": "stderr",
          "output_type": "stream",
          "text": [
            "  7%|▋         | 14/200 [19:07<4:13:02, 81.63s/epoch, loss=1.1, accuracy=0.469, val_loss=1.03, val_accuracy=0.576]"
          ]
        },
        {
          "name": "stdout",
          "output_type": "stream",
          "text": [
            "412/412 [==============================] - 82s 198ms/step - loss: 1.1008 - accuracy: 0.4686 - val_loss: 1.0339 - val_accuracy: 0.5763\n",
            "Epoch 15/200\n",
            "412/412 [==============================] - ETA: 0s - loss: 1.0928 - accuracy: 0.4785"
          ]
        },
        {
          "name": "stderr",
          "output_type": "stream",
          "text": [
            "  8%|▊         | 15/200 [20:28<4:11:40, 81.62s/epoch, loss=1.09, accuracy=0.478, val_loss=1.03, val_accuracy=0.578]"
          ]
        },
        {
          "name": "stdout",
          "output_type": "stream",
          "text": [
            "412/412 [==============================] - 82s 198ms/step - loss: 1.0928 - accuracy: 0.4785 - val_loss: 1.0298 - val_accuracy: 0.5784\n",
            "Epoch 16/200\n",
            "412/412 [==============================] - ETA: 0s - loss: 1.0886 - accuracy: 0.4815"
          ]
        },
        {
          "name": "stderr",
          "output_type": "stream",
          "text": [
            "  8%|▊         | 16/200 [21:50<4:10:18, 81.62s/epoch, loss=1.09, accuracy=0.482, val_loss=1.03, val_accuracy=0.576]"
          ]
        },
        {
          "name": "stdout",
          "output_type": "stream",
          "text": [
            "412/412 [==============================] - 82s 198ms/step - loss: 1.0886 - accuracy: 0.4815 - val_loss: 1.0262 - val_accuracy: 0.5761\n",
            "Epoch 17/200\n",
            "412/412 [==============================] - ETA: 0s - loss: 1.0899 - accuracy: 0.4834"
          ]
        },
        {
          "name": "stderr",
          "output_type": "stream",
          "text": [
            "  8%|▊         | 17/200 [23:12<4:08:56, 81.62s/epoch, loss=1.09, accuracy=0.483, val_loss=1.02, val_accuracy=0.577]"
          ]
        },
        {
          "name": "stdout",
          "output_type": "stream",
          "text": [
            "412/412 [==============================] - 82s 198ms/step - loss: 1.0899 - accuracy: 0.4834 - val_loss: 1.0243 - val_accuracy: 0.5767\n",
            "Epoch 18/200\n",
            "412/412 [==============================] - ETA: 0s - loss: 1.0807 - accuracy: 0.4911"
          ]
        },
        {
          "name": "stderr",
          "output_type": "stream",
          "text": [
            "  9%|▉         | 18/200 [24:33<4:07:35, 81.63s/epoch, loss=1.08, accuracy=0.491, val_loss=1.02, val_accuracy=0.576]"
          ]
        },
        {
          "name": "stdout",
          "output_type": "stream",
          "text": [
            "412/412 [==============================] - 82s 198ms/step - loss: 1.0807 - accuracy: 0.4911 - val_loss: 1.0198 - val_accuracy: 0.5757\n",
            "Epoch 19/200\n",
            "412/412 [==============================] - ETA: 0s - loss: 1.0816 - accuracy: 0.4906"
          ]
        },
        {
          "name": "stderr",
          "output_type": "stream",
          "text": [
            " 10%|▉         | 19/200 [25:55<4:06:14, 81.63s/epoch, loss=1.08, accuracy=0.491, val_loss=1.02, val_accuracy=0.576]"
          ]
        },
        {
          "name": "stdout",
          "output_type": "stream",
          "text": [
            "412/412 [==============================] - 82s 198ms/step - loss: 1.0816 - accuracy: 0.4906 - val_loss: 1.0190 - val_accuracy: 0.5762\n",
            "Epoch 20/200\n",
            "412/412 [==============================] - ETA: 0s - loss: 1.0754 - accuracy: 0.4960"
          ]
        },
        {
          "name": "stderr",
          "output_type": "stream",
          "text": [
            " 10%|█         | 20/200 [27:17<4:04:52, 81.62s/epoch, loss=1.08, accuracy=0.496, val_loss=1.02, val_accuracy=0.578]"
          ]
        },
        {
          "name": "stdout",
          "output_type": "stream",
          "text": [
            "412/412 [==============================] - 82s 198ms/step - loss: 1.0754 - accuracy: 0.4960 - val_loss: 1.0156 - val_accuracy: 0.5776\n",
            "Epoch 21/200\n",
            "412/412 [==============================] - ETA: 0s - loss: 1.0697 - accuracy: 0.4987"
          ]
        },
        {
          "name": "stderr",
          "output_type": "stream",
          "text": [
            " 10%|█         | 21/200 [28:38<4:03:29, 81.62s/epoch, loss=1.07, accuracy=0.499, val_loss=1.01, val_accuracy=0.579]"
          ]
        },
        {
          "name": "stdout",
          "output_type": "stream",
          "text": [
            "412/412 [==============================] - 82s 198ms/step - loss: 1.0697 - accuracy: 0.4987 - val_loss: 1.0132 - val_accuracy: 0.5789\n",
            "Epoch 22/200\n",
            "412/412 [==============================] - ETA: 0s - loss: 1.0671 - accuracy: 0.5034"
          ]
        },
        {
          "name": "stderr",
          "output_type": "stream",
          "text": [
            " 11%|█         | 22/200 [30:00<4:02:06, 81.61s/epoch, loss=1.07, accuracy=0.503, val_loss=1.01, val_accuracy=0.579]"
          ]
        },
        {
          "name": "stdout",
          "output_type": "stream",
          "text": [
            "412/412 [==============================] - 82s 198ms/step - loss: 1.0671 - accuracy: 0.5034 - val_loss: 1.0101 - val_accuracy: 0.5789\n",
            "Epoch 23/200\n",
            "412/412 [==============================] - ETA: 0s - loss: 1.0672 - accuracy: 0.5067"
          ]
        },
        {
          "name": "stderr",
          "output_type": "stream",
          "text": [
            " 12%|█▏        | 23/200 [31:21<4:00:45, 81.61s/epoch, loss=1.07, accuracy=0.507, val_loss=1.01, val_accuracy=0.578]"
          ]
        },
        {
          "name": "stdout",
          "output_type": "stream",
          "text": [
            "412/412 [==============================] - 82s 198ms/step - loss: 1.0672 - accuracy: 0.5067 - val_loss: 1.0092 - val_accuracy: 0.5784\n",
            "Epoch 24/200\n",
            "412/412 [==============================] - ETA: 0s - loss: 1.0610 - accuracy: 0.5103"
          ]
        },
        {
          "name": "stderr",
          "output_type": "stream",
          "text": [
            " 12%|█▏        | 24/200 [32:43<3:59:23, 81.61s/epoch, loss=1.06, accuracy=0.51, val_loss=1.01, val_accuracy=0.579] "
          ]
        },
        {
          "name": "stdout",
          "output_type": "stream",
          "text": [
            "412/412 [==============================] - 82s 198ms/step - loss: 1.0610 - accuracy: 0.5103 - val_loss: 1.0083 - val_accuracy: 0.5790\n",
            "Epoch 25/200\n",
            "412/412 [==============================] - ETA: 0s - loss: 1.0605 - accuracy: 0.5087"
          ]
        },
        {
          "name": "stderr",
          "output_type": "stream",
          "text": [
            " 12%|█▎        | 25/200 [34:05<3:58:01, 81.61s/epoch, loss=1.06, accuracy=0.509, val_loss=1, val_accuracy=0.581]  "
          ]
        },
        {
          "name": "stdout",
          "output_type": "stream",
          "text": [
            "412/412 [==============================] - 82s 198ms/step - loss: 1.0605 - accuracy: 0.5087 - val_loss: 1.0045 - val_accuracy: 0.5815\n",
            "Epoch 26/200\n",
            "412/412 [==============================] - ETA: 0s - loss: 1.0565 - accuracy: 0.5185"
          ]
        },
        {
          "name": "stderr",
          "output_type": "stream",
          "text": [
            " 13%|█▎        | 26/200 [35:26<3:56:41, 81.62s/epoch, loss=1.06, accuracy=0.519, val_loss=1, val_accuracy=0.583]"
          ]
        },
        {
          "name": "stdout",
          "output_type": "stream",
          "text": [
            "412/412 [==============================] - 82s 198ms/step - loss: 1.0565 - accuracy: 0.5185 - val_loss: 1.0018 - val_accuracy: 0.5832\n",
            "Epoch 27/200\n",
            "412/412 [==============================] - ETA: 0s - loss: 1.0542 - accuracy: 0.5148"
          ]
        },
        {
          "name": "stderr",
          "output_type": "stream",
          "text": [
            " 14%|█▎        | 27/200 [36:48<3:55:18, 81.61s/epoch, loss=1.05, accuracy=0.515, val_loss=1, val_accuracy=0.583]"
          ]
        },
        {
          "name": "stdout",
          "output_type": "stream",
          "text": [
            "412/412 [==============================] - 82s 198ms/step - loss: 1.0542 - accuracy: 0.5148 - val_loss: 1.0013 - val_accuracy: 0.5832\n",
            "Epoch 28/200\n",
            "412/412 [==============================] - ETA: 0s - loss: 1.0529 - accuracy: 0.5202"
          ]
        },
        {
          "name": "stderr",
          "output_type": "stream",
          "text": [
            " 14%|█▍        | 28/200 [38:09<3:53:56, 81.61s/epoch, loss=1.05, accuracy=0.52, val_loss=0.999, val_accuracy=0.584]"
          ]
        },
        {
          "name": "stdout",
          "output_type": "stream",
          "text": [
            "412/412 [==============================] - 82s 198ms/step - loss: 1.0529 - accuracy: 0.5202 - val_loss: 0.9987 - val_accuracy: 0.5841\n",
            "Epoch 29/200\n",
            "412/412 [==============================] - ETA: 0s - loss: 1.0525 - accuracy: 0.5205"
          ]
        },
        {
          "name": "stderr",
          "output_type": "stream",
          "text": [
            " 14%|█▍        | 29/200 [39:31<3:52:34, 81.61s/epoch, loss=1.05, accuracy=0.521, val_loss=0.997, val_accuracy=0.587]"
          ]
        },
        {
          "name": "stdout",
          "output_type": "stream",
          "text": [
            "412/412 [==============================] - 82s 198ms/step - loss: 1.0525 - accuracy: 0.5205 - val_loss: 0.9970 - val_accuracy: 0.5870\n",
            "Epoch 30/200\n",
            "412/412 [==============================] - ETA: 0s - loss: 1.0507 - accuracy: 0.5203"
          ]
        },
        {
          "name": "stderr",
          "output_type": "stream",
          "text": [
            " 15%|█▌        | 30/200 [40:53<3:51:12, 81.60s/epoch, loss=1.05, accuracy=0.52, val_loss=0.996, val_accuracy=0.585] "
          ]
        },
        {
          "name": "stdout",
          "output_type": "stream",
          "text": [
            "412/412 [==============================] - 82s 198ms/step - loss: 1.0507 - accuracy: 0.5203 - val_loss: 0.9960 - val_accuracy: 0.5847\n",
            "Epoch 31/200\n",
            "412/412 [==============================] - ETA: 0s - loss: 1.0467 - accuracy: 0.5280"
          ]
        },
        {
          "name": "stderr",
          "output_type": "stream",
          "text": [
            " 16%|█▌        | 31/200 [42:14<3:49:52, 81.61s/epoch, loss=1.05, accuracy=0.528, val_loss=0.996, val_accuracy=0.586]"
          ]
        },
        {
          "name": "stdout",
          "output_type": "stream",
          "text": [
            "412/412 [==============================] - 82s 198ms/step - loss: 1.0467 - accuracy: 0.5280 - val_loss: 0.9956 - val_accuracy: 0.5857\n",
            "Epoch 32/200\n",
            "412/412 [==============================] - ETA: 0s - loss: 1.0462 - accuracy: 0.5279"
          ]
        },
        {
          "name": "stderr",
          "output_type": "stream",
          "text": [
            " 16%|█▌        | 32/200 [43:36<3:48:30, 81.61s/epoch, loss=1.05, accuracy=0.528, val_loss=0.994, val_accuracy=0.586]"
          ]
        },
        {
          "name": "stdout",
          "output_type": "stream",
          "text": [
            "412/412 [==============================] - 82s 198ms/step - loss: 1.0462 - accuracy: 0.5279 - val_loss: 0.9938 - val_accuracy: 0.5856\n",
            "Epoch 33/200\n",
            "412/412 [==============================] - ETA: 0s - loss: 1.0427 - accuracy: 0.5266"
          ]
        },
        {
          "name": "stderr",
          "output_type": "stream",
          "text": [
            " 16%|█▋        | 33/200 [44:58<3:47:08, 81.61s/epoch, loss=1.04, accuracy=0.527, val_loss=0.992, val_accuracy=0.588]"
          ]
        },
        {
          "name": "stdout",
          "output_type": "stream",
          "text": [
            "412/412 [==============================] - 82s 198ms/step - loss: 1.0427 - accuracy: 0.5266 - val_loss: 0.9916 - val_accuracy: 0.5878\n",
            "Epoch 34/200\n",
            "412/412 [==============================] - ETA: 0s - loss: 1.0413 - accuracy: 0.5334"
          ]
        },
        {
          "name": "stderr",
          "output_type": "stream",
          "text": [
            " 17%|█▋        | 34/200 [46:19<3:45:47, 81.61s/epoch, loss=1.04, accuracy=0.533, val_loss=0.988, val_accuracy=0.587]"
          ]
        },
        {
          "name": "stdout",
          "output_type": "stream",
          "text": [
            "412/412 [==============================] - 82s 198ms/step - loss: 1.0413 - accuracy: 0.5334 - val_loss: 0.9883 - val_accuracy: 0.5874\n",
            "Epoch 35/200\n",
            "412/412 [==============================] - ETA: 0s - loss: 1.0347 - accuracy: 0.5303"
          ]
        },
        {
          "name": "stderr",
          "output_type": "stream",
          "text": [
            " 18%|█▊        | 35/200 [47:41<3:44:25, 81.61s/epoch, loss=1.03, accuracy=0.53, val_loss=0.986, val_accuracy=0.59]  "
          ]
        },
        {
          "name": "stdout",
          "output_type": "stream",
          "text": [
            "412/412 [==============================] - 82s 198ms/step - loss: 1.0347 - accuracy: 0.5303 - val_loss: 0.9857 - val_accuracy: 0.5903\n",
            "Epoch 36/200\n",
            "412/412 [==============================] - ETA: 0s - loss: 1.0410 - accuracy: 0.5371"
          ]
        },
        {
          "name": "stderr",
          "output_type": "stream",
          "text": [
            " 18%|█▊        | 36/200 [49:02<3:43:04, 81.61s/epoch, loss=1.04, accuracy=0.537, val_loss=0.987, val_accuracy=0.59]"
          ]
        },
        {
          "name": "stdout",
          "output_type": "stream",
          "text": [
            "412/412 [==============================] - 82s 198ms/step - loss: 1.0410 - accuracy: 0.5371 - val_loss: 0.9872 - val_accuracy: 0.5903\n",
            "Epoch 37/200\n",
            "412/412 [==============================] - ETA: 0s - loss: 1.0376 - accuracy: 0.5324"
          ]
        },
        {
          "name": "stderr",
          "output_type": "stream",
          "text": [
            " 18%|█▊        | 37/200 [50:24<3:41:42, 81.61s/epoch, loss=1.04, accuracy=0.532, val_loss=0.984, val_accuracy=0.596]"
          ]
        },
        {
          "name": "stdout",
          "output_type": "stream",
          "text": [
            "412/412 [==============================] - 82s 198ms/step - loss: 1.0376 - accuracy: 0.5324 - val_loss: 0.9841 - val_accuracy: 0.5957\n",
            "Epoch 38/200\n",
            "412/412 [==============================] - ETA: 0s - loss: 1.0366 - accuracy: 0.5329"
          ]
        },
        {
          "name": "stderr",
          "output_type": "stream",
          "text": [
            " 19%|█▉        | 38/200 [51:46<3:40:20, 81.61s/epoch, loss=1.04, accuracy=0.533, val_loss=0.984, val_accuracy=0.596]"
          ]
        },
        {
          "name": "stdout",
          "output_type": "stream",
          "text": [
            "412/412 [==============================] - 82s 198ms/step - loss: 1.0366 - accuracy: 0.5329 - val_loss: 0.9841 - val_accuracy: 0.5959\n",
            "Epoch 39/200\n",
            "412/412 [==============================] - ETA: 0s - loss: 1.0335 - accuracy: 0.5407"
          ]
        },
        {
          "name": "stderr",
          "output_type": "stream",
          "text": [
            " 20%|█▉        | 39/200 [53:07<3:38:58, 81.61s/epoch, loss=1.03, accuracy=0.541, val_loss=0.984, val_accuracy=0.593]"
          ]
        },
        {
          "name": "stdout",
          "output_type": "stream",
          "text": [
            "412/412 [==============================] - 82s 198ms/step - loss: 1.0335 - accuracy: 0.5407 - val_loss: 0.9840 - val_accuracy: 0.5935\n",
            "Epoch 40/200\n",
            "412/412 [==============================] - ETA: 0s - loss: 1.0275 - accuracy: 0.5443"
          ]
        },
        {
          "name": "stderr",
          "output_type": "stream",
          "text": [
            " 20%|██        | 40/200 [54:29<3:37:38, 81.62s/epoch, loss=1.03, accuracy=0.544, val_loss=0.981, val_accuracy=0.597]"
          ]
        },
        {
          "name": "stdout",
          "output_type": "stream",
          "text": [
            "412/412 [==============================] - 82s 198ms/step - loss: 1.0275 - accuracy: 0.5443 - val_loss: 0.9806 - val_accuracy: 0.5968\n",
            "Epoch 41/200\n",
            "412/412 [==============================] - ETA: 0s - loss: 1.0292 - accuracy: 0.5426"
          ]
        },
        {
          "name": "stderr",
          "output_type": "stream",
          "text": [
            " 20%|██        | 41/200 [55:50<3:36:18, 81.62s/epoch, loss=1.03, accuracy=0.543, val_loss=0.982, val_accuracy=0.596]"
          ]
        },
        {
          "name": "stdout",
          "output_type": "stream",
          "text": [
            "412/412 [==============================] - 82s 198ms/step - loss: 1.0292 - accuracy: 0.5426 - val_loss: 0.9817 - val_accuracy: 0.5963\n",
            "Epoch 42/200\n",
            "412/412 [==============================] - ETA: 0s - loss: 1.0267 - accuracy: 0.5438"
          ]
        },
        {
          "name": "stderr",
          "output_type": "stream",
          "text": [
            " 21%|██        | 42/200 [57:12<3:34:55, 81.62s/epoch, loss=1.03, accuracy=0.544, val_loss=0.981, val_accuracy=0.596]"
          ]
        },
        {
          "name": "stdout",
          "output_type": "stream",
          "text": [
            "412/412 [==============================] - 82s 198ms/step - loss: 1.0267 - accuracy: 0.5438 - val_loss: 0.9811 - val_accuracy: 0.5961\n",
            "Epoch 43/200\n",
            "412/412 [==============================] - ETA: 0s - loss: 1.0254 - accuracy: 0.5447"
          ]
        },
        {
          "name": "stderr",
          "output_type": "stream",
          "text": [
            " 22%|██▏       | 43/200 [58:34<3:33:33, 81.61s/epoch, loss=1.03, accuracy=0.545, val_loss=0.977, val_accuracy=0.599]"
          ]
        },
        {
          "name": "stdout",
          "output_type": "stream",
          "text": [
            "412/412 [==============================] - 82s 198ms/step - loss: 1.0254 - accuracy: 0.5447 - val_loss: 0.9771 - val_accuracy: 0.5988\n",
            "Epoch 44/200\n",
            "412/412 [==============================] - ETA: 0s - loss: 1.0234 - accuracy: 0.5458"
          ]
        },
        {
          "name": "stderr",
          "output_type": "stream",
          "text": [
            " 22%|██▏       | 44/200 [59:55<3:32:11, 81.62s/epoch, loss=1.02, accuracy=0.546, val_loss=0.977, val_accuracy=0.602]"
          ]
        },
        {
          "name": "stdout",
          "output_type": "stream",
          "text": [
            "412/412 [==============================] - 82s 198ms/step - loss: 1.0234 - accuracy: 0.5458 - val_loss: 0.9769 - val_accuracy: 0.6021\n",
            "Epoch 45/200\n",
            "412/412 [==============================] - ETA: 0s - loss: 1.0219 - accuracy: 0.5468"
          ]
        },
        {
          "name": "stderr",
          "output_type": "stream",
          "text": [
            " 22%|██▎       | 45/200 [1:01:17<3:30:50, 81.62s/epoch, loss=1.02, accuracy=0.547, val_loss=0.974, val_accuracy=0.599]"
          ]
        },
        {
          "name": "stdout",
          "output_type": "stream",
          "text": [
            "412/412 [==============================] - 82s 198ms/step - loss: 1.0219 - accuracy: 0.5468 - val_loss: 0.9744 - val_accuracy: 0.5993\n",
            "Epoch 46/200\n",
            "412/412 [==============================] - ETA: 0s - loss: 1.0218 - accuracy: 0.5459"
          ]
        },
        {
          "name": "stderr",
          "output_type": "stream",
          "text": [
            " 23%|██▎       | 46/200 [1:02:39<3:29:29, 81.62s/epoch, loss=1.02, accuracy=0.546, val_loss=0.971, val_accuracy=0.604]"
          ]
        },
        {
          "name": "stdout",
          "output_type": "stream",
          "text": [
            "412/412 [==============================] - 82s 198ms/step - loss: 1.0218 - accuracy: 0.5459 - val_loss: 0.9707 - val_accuracy: 0.6035\n",
            "Epoch 47/200\n",
            "412/412 [==============================] - ETA: 0s - loss: 1.0238 - accuracy: 0.5469"
          ]
        },
        {
          "name": "stderr",
          "output_type": "stream",
          "text": [
            " 24%|██▎       | 47/200 [1:04:00<3:28:07, 81.62s/epoch, loss=1.02, accuracy=0.547, val_loss=0.974, val_accuracy=0.603]"
          ]
        },
        {
          "name": "stdout",
          "output_type": "stream",
          "text": [
            "412/412 [==============================] - 82s 198ms/step - loss: 1.0238 - accuracy: 0.5469 - val_loss: 0.9737 - val_accuracy: 0.6030\n",
            "Epoch 48/200\n",
            "412/412 [==============================] - ETA: 0s - loss: 1.0144 - accuracy: 0.5559"
          ]
        },
        {
          "name": "stderr",
          "output_type": "stream",
          "text": [
            " 24%|██▍       | 48/200 [1:05:22<3:26:44, 81.61s/epoch, loss=1.01, accuracy=0.556, val_loss=0.97, val_accuracy=0.604] "
          ]
        },
        {
          "name": "stdout",
          "output_type": "stream",
          "text": [
            "412/412 [==============================] - 82s 198ms/step - loss: 1.0144 - accuracy: 0.5559 - val_loss: 0.9698 - val_accuracy: 0.6037\n",
            "Epoch 49/200\n",
            "412/412 [==============================] - ETA: 0s - loss: 1.0166 - accuracy: 0.5520"
          ]
        },
        {
          "name": "stderr",
          "output_type": "stream",
          "text": [
            " 24%|██▍       | 49/200 [1:06:43<3:25:22, 81.61s/epoch, loss=1.02, accuracy=0.552, val_loss=0.968, val_accuracy=0.606]"
          ]
        },
        {
          "name": "stdout",
          "output_type": "stream",
          "text": [
            "412/412 [==============================] - 82s 198ms/step - loss: 1.0166 - accuracy: 0.5520 - val_loss: 0.9683 - val_accuracy: 0.6058\n",
            "Epoch 50/200\n",
            "412/412 [==============================] - ETA: 0s - loss: 1.0167 - accuracy: 0.5549"
          ]
        },
        {
          "name": "stderr",
          "output_type": "stream",
          "text": [
            " 25%|██▌       | 50/200 [1:08:05<3:23:59, 81.60s/epoch, loss=1.02, accuracy=0.555, val_loss=0.968, val_accuracy=0.607]"
          ]
        },
        {
          "name": "stdout",
          "output_type": "stream",
          "text": [
            "412/412 [==============================] - 82s 198ms/step - loss: 1.0167 - accuracy: 0.5549 - val_loss: 0.9684 - val_accuracy: 0.6074\n",
            "Epoch 51/200\n",
            "412/412 [==============================] - ETA: 0s - loss: 1.0177 - accuracy: 0.5518"
          ]
        },
        {
          "name": "stderr",
          "output_type": "stream",
          "text": [
            " 26%|██▌       | 51/200 [1:09:26<3:22:38, 81.60s/epoch, loss=1.02, accuracy=0.552, val_loss=0.97, val_accuracy=0.605] "
          ]
        },
        {
          "name": "stdout",
          "output_type": "stream",
          "text": [
            "412/412 [==============================] - 82s 198ms/step - loss: 1.0177 - accuracy: 0.5518 - val_loss: 0.9702 - val_accuracy: 0.6046\n",
            "Epoch 52/200\n",
            "412/412 [==============================] - ETA: 0s - loss: 1.0179 - accuracy: 0.5522"
          ]
        },
        {
          "name": "stderr",
          "output_type": "stream",
          "text": [
            " 26%|██▌       | 52/200 [1:10:48<3:21:15, 81.59s/epoch, loss=1.02, accuracy=0.552, val_loss=0.967, val_accuracy=0.606]"
          ]
        },
        {
          "name": "stdout",
          "output_type": "stream",
          "text": [
            "412/412 [==============================] - 82s 198ms/step - loss: 1.0179 - accuracy: 0.5522 - val_loss: 0.9667 - val_accuracy: 0.6064\n",
            "Epoch 53/200\n",
            "412/412 [==============================] - ETA: 0s - loss: 1.0110 - accuracy: 0.5571"
          ]
        },
        {
          "name": "stderr",
          "output_type": "stream",
          "text": [
            " 26%|██▋       | 53/200 [1:12:10<3:19:54, 81.59s/epoch, loss=1.01, accuracy=0.557, val_loss=0.966, val_accuracy=0.612]"
          ]
        },
        {
          "name": "stdout",
          "output_type": "stream",
          "text": [
            "412/412 [==============================] - 82s 198ms/step - loss: 1.0110 - accuracy: 0.5571 - val_loss: 0.9661 - val_accuracy: 0.6123\n",
            "Epoch 54/200\n",
            "412/412 [==============================] - ETA: 0s - loss: 1.0100 - accuracy: 0.5592"
          ]
        },
        {
          "name": "stderr",
          "output_type": "stream",
          "text": [
            " 27%|██▋       | 54/200 [1:13:31<3:18:31, 81.58s/epoch, loss=1.01, accuracy=0.559, val_loss=0.964, val_accuracy=0.611]"
          ]
        },
        {
          "name": "stdout",
          "output_type": "stream",
          "text": [
            "412/412 [==============================] - 82s 198ms/step - loss: 1.0100 - accuracy: 0.5592 - val_loss: 0.9644 - val_accuracy: 0.6106\n",
            "Epoch 55/200\n",
            "412/412 [==============================] - ETA: 0s - loss: 1.0102 - accuracy: 0.5575"
          ]
        },
        {
          "name": "stderr",
          "output_type": "stream",
          "text": [
            " 28%|██▊       | 55/200 [1:14:53<3:17:10, 81.59s/epoch, loss=1.01, accuracy=0.558, val_loss=0.965, val_accuracy=0.61] "
          ]
        },
        {
          "name": "stdout",
          "output_type": "stream",
          "text": [
            "412/412 [==============================] - 82s 198ms/step - loss: 1.0102 - accuracy: 0.5575 - val_loss: 0.9650 - val_accuracy: 0.6101\n",
            "Epoch 56/200\n",
            "412/412 [==============================] - ETA: 0s - loss: 1.0098 - accuracy: 0.5587"
          ]
        },
        {
          "name": "stderr",
          "output_type": "stream",
          "text": [
            " 28%|██▊       | 56/200 [1:16:15<3:15:53, 81.62s/epoch, loss=1.01, accuracy=0.559, val_loss=0.966, val_accuracy=0.606]"
          ]
        },
        {
          "name": "stdout",
          "output_type": "stream",
          "text": [
            "412/412 [==============================] - 82s 198ms/step - loss: 1.0098 - accuracy: 0.5587 - val_loss: 0.9663 - val_accuracy: 0.6064\n",
            "Epoch 57/200\n",
            "412/412 [==============================] - ETA: 0s - loss: 1.0110 - accuracy: 0.5596"
          ]
        },
        {
          "name": "stderr",
          "output_type": "stream",
          "text": [
            " 28%|██▊       | 57/200 [1:17:36<3:14:30, 81.61s/epoch, loss=1.01, accuracy=0.56, val_loss=0.963, val_accuracy=0.604] "
          ]
        },
        {
          "name": "stdout",
          "output_type": "stream",
          "text": [
            "412/412 [==============================] - 82s 198ms/step - loss: 1.0110 - accuracy: 0.5596 - val_loss: 0.9632 - val_accuracy: 0.6037\n",
            "Epoch 58/200\n",
            "412/412 [==============================] - ETA: 0s - loss: 1.0086 - accuracy: 0.5571"
          ]
        },
        {
          "name": "stderr",
          "output_type": "stream",
          "text": [
            " 29%|██▉       | 58/200 [1:18:58<3:13:08, 81.61s/epoch, loss=1.01, accuracy=0.557, val_loss=0.964, val_accuracy=0.612]"
          ]
        },
        {
          "name": "stdout",
          "output_type": "stream",
          "text": [
            "412/412 [==============================] - 82s 198ms/step - loss: 1.0086 - accuracy: 0.5571 - val_loss: 0.9635 - val_accuracy: 0.6120\n",
            "Epoch 59/200\n",
            "412/412 [==============================] - ETA: 0s - loss: 1.0081 - accuracy: 0.5623"
          ]
        },
        {
          "name": "stderr",
          "output_type": "stream",
          "text": [
            " 30%|██▉       | 59/200 [1:20:19<3:11:48, 81.62s/epoch, loss=1.01, accuracy=0.562, val_loss=0.962, val_accuracy=0.61] "
          ]
        },
        {
          "name": "stdout",
          "output_type": "stream",
          "text": [
            "412/412 [==============================] - 82s 198ms/step - loss: 1.0081 - accuracy: 0.5623 - val_loss: 0.9619 - val_accuracy: 0.6101\n",
            "Epoch 60/200\n",
            "412/412 [==============================] - ETA: 0s - loss: 1.0066 - accuracy: 0.5623"
          ]
        },
        {
          "name": "stderr",
          "output_type": "stream",
          "text": [
            " 30%|███       | 60/200 [1:21:41<3:10:25, 81.61s/epoch, loss=1.01, accuracy=0.562, val_loss=0.959, val_accuracy=0.614]"
          ]
        },
        {
          "name": "stdout",
          "output_type": "stream",
          "text": [
            "412/412 [==============================] - 82s 198ms/step - loss: 1.0066 - accuracy: 0.5623 - val_loss: 0.9594 - val_accuracy: 0.6136\n",
            "Epoch 61/200\n",
            "412/412 [==============================] - ETA: 0s - loss: 1.0012 - accuracy: 0.5643"
          ]
        },
        {
          "name": "stderr",
          "output_type": "stream",
          "text": [
            " 30%|███       | 61/200 [1:23:03<3:09:03, 81.61s/epoch, loss=1, accuracy=0.564, val_loss=0.958, val_accuracy=0.606]   "
          ]
        },
        {
          "name": "stdout",
          "output_type": "stream",
          "text": [
            "412/412 [==============================] - 82s 198ms/step - loss: 1.0012 - accuracy: 0.5643 - val_loss: 0.9580 - val_accuracy: 0.6057\n",
            "Epoch 62/200\n",
            "412/412 [==============================] - ETA: 0s - loss: 1.0043 - accuracy: 0.5654"
          ]
        },
        {
          "name": "stderr",
          "output_type": "stream",
          "text": [
            " 31%|███       | 62/200 [1:24:25<3:08:17, 81.86s/epoch, loss=1, accuracy=0.565, val_loss=0.961, val_accuracy=0.608]"
          ]
        },
        {
          "name": "stdout",
          "output_type": "stream",
          "text": [
            "412/412 [==============================] - 82s 200ms/step - loss: 1.0043 - accuracy: 0.5654 - val_loss: 0.9611 - val_accuracy: 0.6077\n",
            "Epoch 63/200\n",
            "412/412 [==============================] - ETA: 0s - loss: 1.0032 - accuracy: 0.5638"
          ]
        },
        {
          "name": "stderr",
          "output_type": "stream",
          "text": [
            " 32%|███▏      | 63/200 [1:25:47<3:07:04, 81.93s/epoch, loss=1, accuracy=0.564, val_loss=0.959, val_accuracy=0.612]"
          ]
        },
        {
          "name": "stdout",
          "output_type": "stream",
          "text": [
            "412/412 [==============================] - 82s 199ms/step - loss: 1.0032 - accuracy: 0.5638 - val_loss: 0.9593 - val_accuracy: 0.6118\n",
            "Epoch 64/200\n",
            "412/412 [==============================] - ETA: 0s - loss: 1.0017 - accuracy: 0.5660"
          ]
        },
        {
          "name": "stderr",
          "output_type": "stream",
          "text": [
            " 32%|███▏      | 64/200 [1:27:09<3:05:35, 81.88s/epoch, loss=1, accuracy=0.566, val_loss=0.959, val_accuracy=0.606]"
          ]
        },
        {
          "name": "stdout",
          "output_type": "stream",
          "text": [
            "412/412 [==============================] - 82s 198ms/step - loss: 1.0017 - accuracy: 0.5660 - val_loss: 0.9594 - val_accuracy: 0.6057\n",
            "Epoch 65/200\n",
            "412/412 [==============================] - ETA: 0s - loss: 1.0014 - accuracy: 0.5690"
          ]
        },
        {
          "name": "stderr",
          "output_type": "stream",
          "text": [
            " 32%|███▎      | 65/200 [1:28:31<3:04:07, 81.83s/epoch, loss=1, accuracy=0.569, val_loss=0.96, val_accuracy=0.609] "
          ]
        },
        {
          "name": "stdout",
          "output_type": "stream",
          "text": [
            "412/412 [==============================] - 82s 198ms/step - loss: 1.0014 - accuracy: 0.5690 - val_loss: 0.9597 - val_accuracy: 0.6089\n",
            "Epoch 66/200\n",
            "412/412 [==============================] - ETA: 0s - loss: 0.9987 - accuracy: 0.5707"
          ]
        },
        {
          "name": "stderr",
          "output_type": "stream",
          "text": [
            " 33%|███▎      | 66/200 [1:29:52<3:02:42, 81.81s/epoch, loss=0.999, accuracy=0.571, val_loss=0.957, val_accuracy=0.609]"
          ]
        },
        {
          "name": "stdout",
          "output_type": "stream",
          "text": [
            "412/412 [==============================] - 82s 198ms/step - loss: 0.9987 - accuracy: 0.5707 - val_loss: 0.9567 - val_accuracy: 0.6091\n",
            "Epoch 67/200\n",
            "412/412 [==============================] - ETA: 0s - loss: 1.0014 - accuracy: 0.5660"
          ]
        },
        {
          "name": "stderr",
          "output_type": "stream",
          "text": [
            " 34%|███▎      | 67/200 [1:31:14<3:01:18, 81.79s/epoch, loss=1, accuracy=0.566, val_loss=0.957, val_accuracy=0.61]     "
          ]
        },
        {
          "name": "stdout",
          "output_type": "stream",
          "text": [
            "412/412 [==============================] - 82s 198ms/step - loss: 1.0014 - accuracy: 0.5660 - val_loss: 0.9573 - val_accuracy: 0.6098\n",
            "Epoch 68/200\n",
            "412/412 [==============================] - ETA: 0s - loss: 0.9965 - accuracy: 0.5691"
          ]
        },
        {
          "name": "stderr",
          "output_type": "stream",
          "text": [
            " 34%|███▍      | 68/200 [1:32:36<2:59:54, 81.78s/epoch, loss=0.997, accuracy=0.569, val_loss=0.955, val_accuracy=0.613]"
          ]
        },
        {
          "name": "stdout",
          "output_type": "stream",
          "text": [
            "412/412 [==============================] - 82s 198ms/step - loss: 0.9965 - accuracy: 0.5691 - val_loss: 0.9553 - val_accuracy: 0.6131\n",
            "Epoch 69/200\n",
            "412/412 [==============================] - ETA: 0s - loss: 0.9972 - accuracy: 0.5696"
          ]
        },
        {
          "name": "stderr",
          "output_type": "stream",
          "text": [
            " 34%|███▍      | 69/200 [1:33:58<2:58:31, 81.77s/epoch, loss=0.997, accuracy=0.57, val_loss=0.956, val_accuracy=0.611] "
          ]
        },
        {
          "name": "stdout",
          "output_type": "stream",
          "text": [
            "412/412 [==============================] - 82s 198ms/step - loss: 0.9972 - accuracy: 0.5696 - val_loss: 0.9559 - val_accuracy: 0.6109\n",
            "Epoch 70/200\n",
            "412/412 [==============================] - ETA: 0s - loss: 1.0003 - accuracy: 0.5677"
          ]
        },
        {
          "name": "stderr",
          "output_type": "stream",
          "text": [
            " 35%|███▌      | 70/200 [1:35:19<2:57:10, 81.78s/epoch, loss=1, accuracy=0.568, val_loss=0.957, val_accuracy=0.616]   "
          ]
        },
        {
          "name": "stdout",
          "output_type": "stream",
          "text": [
            "412/412 [==============================] - 82s 199ms/step - loss: 1.0003 - accuracy: 0.5677 - val_loss: 0.9566 - val_accuracy: 0.6155\n",
            "Epoch 71/200\n",
            "412/412 [==============================] - ETA: 0s - loss: 0.9956 - accuracy: 0.5699"
          ]
        },
        {
          "name": "stderr",
          "output_type": "stream",
          "text": [
            " 36%|███▌      | 71/200 [1:36:41<2:55:48, 81.77s/epoch, loss=0.996, accuracy=0.57, val_loss=0.953, val_accuracy=0.614]"
          ]
        },
        {
          "name": "stdout",
          "output_type": "stream",
          "text": [
            "412/412 [==============================] - 82s 199ms/step - loss: 0.9956 - accuracy: 0.5699 - val_loss: 0.9531 - val_accuracy: 0.6144\n",
            "Epoch 72/200\n",
            "412/412 [==============================] - ETA: 0s - loss: 0.9966 - accuracy: 0.5714"
          ]
        },
        {
          "name": "stderr",
          "output_type": "stream",
          "text": [
            " 36%|███▌      | 72/200 [1:38:03<2:54:27, 81.78s/epoch, loss=0.997, accuracy=0.571, val_loss=0.956, val_accuracy=0.612]"
          ]
        },
        {
          "name": "stdout",
          "output_type": "stream",
          "text": [
            "412/412 [==============================] - 82s 198ms/step - loss: 0.9966 - accuracy: 0.5714 - val_loss: 0.9559 - val_accuracy: 0.6119\n",
            "Epoch 73/200\n",
            "412/412 [==============================] - ETA: 0s - loss: 0.9964 - accuracy: 0.5729"
          ]
        },
        {
          "name": "stderr",
          "output_type": "stream",
          "text": [
            " 36%|███▋      | 73/200 [1:39:25<2:53:04, 81.76s/epoch, loss=0.996, accuracy=0.573, val_loss=0.954, val_accuracy=0.615]"
          ]
        },
        {
          "name": "stdout",
          "output_type": "stream",
          "text": [
            "412/412 [==============================] - 82s 198ms/step - loss: 0.9964 - accuracy: 0.5729 - val_loss: 0.9543 - val_accuracy: 0.6147\n",
            "Epoch 74/200\n",
            "412/412 [==============================] - ETA: 0s - loss: 0.9951 - accuracy: 0.5730"
          ]
        },
        {
          "name": "stderr",
          "output_type": "stream",
          "text": [
            " 37%|███▋      | 74/200 [1:40:46<2:51:41, 81.76s/epoch, loss=0.995, accuracy=0.573, val_loss=0.954, val_accuracy=0.609]"
          ]
        },
        {
          "name": "stdout",
          "output_type": "stream",
          "text": [
            "412/412 [==============================] - 82s 198ms/step - loss: 0.9951 - accuracy: 0.5730 - val_loss: 0.9542 - val_accuracy: 0.6091\n",
            "Epoch 75/200\n",
            "412/412 [==============================] - ETA: 0s - loss: 0.9966 - accuracy: 0.5734"
          ]
        },
        {
          "name": "stderr",
          "output_type": "stream",
          "text": [
            " 38%|███▊      | 75/200 [1:42:08<2:50:19, 81.75s/epoch, loss=0.997, accuracy=0.573, val_loss=0.953, val_accuracy=0.61] "
          ]
        },
        {
          "name": "stdout",
          "output_type": "stream",
          "text": [
            "412/412 [==============================] - 82s 198ms/step - loss: 0.9966 - accuracy: 0.5734 - val_loss: 0.9533 - val_accuracy: 0.6096\n",
            "Epoch 76/200\n",
            "412/412 [==============================] - ETA: 0s - loss: 0.9930 - accuracy: 0.5742"
          ]
        },
        {
          "name": "stderr",
          "output_type": "stream",
          "text": [
            " 38%|███▊      | 76/200 [1:43:30<2:48:57, 81.75s/epoch, loss=0.993, accuracy=0.574, val_loss=0.957, val_accuracy=0.607]"
          ]
        },
        {
          "name": "stdout",
          "output_type": "stream",
          "text": [
            "412/412 [==============================] - 82s 198ms/step - loss: 0.9930 - accuracy: 0.5742 - val_loss: 0.9570 - val_accuracy: 0.6074\n",
            "Epoch 77/200\n",
            "412/412 [==============================] - ETA: 0s - loss: 0.9918 - accuracy: 0.5759"
          ]
        },
        {
          "name": "stderr",
          "output_type": "stream",
          "text": [
            " 38%|███▊      | 77/200 [1:44:52<2:47:36, 81.76s/epoch, loss=0.992, accuracy=0.576, val_loss=0.949, val_accuracy=0.606]"
          ]
        },
        {
          "name": "stdout",
          "output_type": "stream",
          "text": [
            "412/412 [==============================] - 82s 199ms/step - loss: 0.9918 - accuracy: 0.5759 - val_loss: 0.9488 - val_accuracy: 0.6065\n",
            "Epoch 78/200\n",
            "412/412 [==============================] - ETA: 0s - loss: 0.9912 - accuracy: 0.5742"
          ]
        },
        {
          "name": "stderr",
          "output_type": "stream",
          "text": [
            " 39%|███▉      | 78/200 [1:46:14<2:46:22, 81.82s/epoch, loss=0.991, accuracy=0.574, val_loss=0.951, val_accuracy=0.608]"
          ]
        },
        {
          "name": "stdout",
          "output_type": "stream",
          "text": [
            "412/412 [==============================] - 82s 199ms/step - loss: 0.9912 - accuracy: 0.5742 - val_loss: 0.9506 - val_accuracy: 0.6079\n",
            "Epoch 79/200\n",
            "412/412 [==============================] - ETA: 0s - loss: 0.9904 - accuracy: 0.5737"
          ]
        },
        {
          "name": "stderr",
          "output_type": "stream",
          "text": [
            " 40%|███▉      | 79/200 [1:47:35<2:44:57, 81.80s/epoch, loss=0.99, accuracy=0.574, val_loss=0.95, val_accuracy=0.615]  "
          ]
        },
        {
          "name": "stdout",
          "output_type": "stream",
          "text": [
            "412/412 [==============================] - 82s 198ms/step - loss: 0.9904 - accuracy: 0.5737 - val_loss: 0.9496 - val_accuracy: 0.6149\n",
            "Epoch 80/200\n",
            "412/412 [==============================] - ETA: 0s - loss: 0.9882 - accuracy: 0.5760"
          ]
        },
        {
          "name": "stderr",
          "output_type": "stream",
          "text": [
            " 40%|████      | 80/200 [1:48:57<2:43:34, 81.79s/epoch, loss=0.988, accuracy=0.576, val_loss=0.95, val_accuracy=0.613]"
          ]
        },
        {
          "name": "stdout",
          "output_type": "stream",
          "text": [
            "412/412 [==============================] - 82s 198ms/step - loss: 0.9882 - accuracy: 0.5760 - val_loss: 0.9505 - val_accuracy: 0.6128\n",
            "Epoch 81/200\n",
            "412/412 [==============================] - ETA: 0s - loss: 0.9917 - accuracy: 0.5759"
          ]
        },
        {
          "name": "stderr",
          "output_type": "stream",
          "text": [
            " 40%|████      | 81/200 [1:50:20<2:42:50, 82.10s/epoch, loss=0.992, accuracy=0.576, val_loss=0.95, val_accuracy=0.613]"
          ]
        },
        {
          "name": "stdout",
          "output_type": "stream",
          "text": [
            "412/412 [==============================] - 83s 201ms/step - loss: 0.9917 - accuracy: 0.5759 - val_loss: 0.9496 - val_accuracy: 0.6129\n",
            "Epoch 82/200\n",
            "412/412 [==============================] - ETA: 0s - loss: 0.9884 - accuracy: 0.5765"
          ]
        },
        {
          "name": "stderr",
          "output_type": "stream",
          "text": [
            " 41%|████      | 82/200 [1:51:42<2:41:10, 81.95s/epoch, loss=0.988, accuracy=0.577, val_loss=0.947, val_accuracy=0.616]"
          ]
        },
        {
          "name": "stdout",
          "output_type": "stream",
          "text": [
            "412/412 [==============================] - 82s 198ms/step - loss: 0.9884 - accuracy: 0.5765 - val_loss: 0.9465 - val_accuracy: 0.6155\n",
            "Epoch 83/200\n",
            "412/412 [==============================] - ETA: 0s - loss: 0.9862 - accuracy: 0.5826"
          ]
        },
        {
          "name": "stderr",
          "output_type": "stream",
          "text": [
            " 42%|████▏     | 83/200 [1:53:03<2:39:35, 81.84s/epoch, loss=0.986, accuracy=0.583, val_loss=0.949, val_accuracy=0.603]"
          ]
        },
        {
          "name": "stdout",
          "output_type": "stream",
          "text": [
            "412/412 [==============================] - 82s 198ms/step - loss: 0.9862 - accuracy: 0.5826 - val_loss: 0.9490 - val_accuracy: 0.6033\n",
            "Epoch 84/200\n",
            "412/412 [==============================] - ETA: 0s - loss: 0.9868 - accuracy: 0.5774"
          ]
        },
        {
          "name": "stderr",
          "output_type": "stream",
          "text": [
            " 42%|████▏     | 84/200 [1:54:25<2:38:05, 81.77s/epoch, loss=0.987, accuracy=0.577, val_loss=0.949, val_accuracy=0.606]"
          ]
        },
        {
          "name": "stdout",
          "output_type": "stream",
          "text": [
            "412/412 [==============================] - 82s 198ms/step - loss: 0.9868 - accuracy: 0.5774 - val_loss: 0.9488 - val_accuracy: 0.6062\n",
            "Epoch 85/200\n",
            "412/412 [==============================] - ETA: 0s - loss: 0.9886 - accuracy: 0.5790"
          ]
        },
        {
          "name": "stderr",
          "output_type": "stream",
          "text": [
            " 42%|████▎     | 85/200 [1:55:46<2:36:38, 81.73s/epoch, loss=0.989, accuracy=0.579, val_loss=0.949, val_accuracy=0.607]"
          ]
        },
        {
          "name": "stdout",
          "output_type": "stream",
          "text": [
            "412/412 [==============================] - 82s 198ms/step - loss: 0.9886 - accuracy: 0.5790 - val_loss: 0.9492 - val_accuracy: 0.6070\n",
            "Epoch 86/200\n",
            "412/412 [==============================] - ETA: 0s - loss: 0.9863 - accuracy: 0.5779"
          ]
        },
        {
          "name": "stderr",
          "output_type": "stream",
          "text": [
            " 43%|████▎     | 86/200 [1:57:08<2:35:12, 81.69s/epoch, loss=0.986, accuracy=0.578, val_loss=0.948, val_accuracy=0.613]"
          ]
        },
        {
          "name": "stdout",
          "output_type": "stream",
          "text": [
            "412/412 [==============================] - 82s 198ms/step - loss: 0.9863 - accuracy: 0.5779 - val_loss: 0.9484 - val_accuracy: 0.6133\n",
            "Epoch 87/200\n",
            "412/412 [==============================] - ETA: 0s - loss: 0.9876 - accuracy: 0.5787"
          ]
        },
        {
          "name": "stderr",
          "output_type": "stream",
          "text": [
            " 44%|████▎     | 87/200 [1:58:30<2:33:47, 81.66s/epoch, loss=0.988, accuracy=0.579, val_loss=0.947, val_accuracy=0.606]"
          ]
        },
        {
          "name": "stdout",
          "output_type": "stream",
          "text": [
            "412/412 [==============================] - 82s 198ms/step - loss: 0.9876 - accuracy: 0.5787 - val_loss: 0.9467 - val_accuracy: 0.6064\n",
            "Epoch 88/200\n",
            "412/412 [==============================] - ETA: 0s - loss: 0.9858 - accuracy: 0.5818"
          ]
        },
        {
          "name": "stderr",
          "output_type": "stream",
          "text": [
            " 44%|████▍     | 88/200 [1:59:51<2:32:23, 81.64s/epoch, loss=0.986, accuracy=0.582, val_loss=0.948, val_accuracy=0.607]"
          ]
        },
        {
          "name": "stdout",
          "output_type": "stream",
          "text": [
            "412/412 [==============================] - 82s 198ms/step - loss: 0.9858 - accuracy: 0.5818 - val_loss: 0.9478 - val_accuracy: 0.6068\n",
            "Epoch 89/200\n",
            "412/412 [==============================] - ETA: 0s - loss: 0.9834 - accuracy: 0.5802"
          ]
        },
        {
          "name": "stderr",
          "output_type": "stream",
          "text": [
            " 44%|████▍     | 89/200 [2:01:13<2:30:59, 81.62s/epoch, loss=0.983, accuracy=0.58, val_loss=0.946, val_accuracy=0.611] "
          ]
        },
        {
          "name": "stdout",
          "output_type": "stream",
          "text": [
            "412/412 [==============================] - 82s 198ms/step - loss: 0.9834 - accuracy: 0.5802 - val_loss: 0.9461 - val_accuracy: 0.6107\n",
            "Epoch 90/200\n",
            "412/412 [==============================] - ETA: 0s - loss: 0.9834 - accuracy: 0.5795"
          ]
        },
        {
          "name": "stderr",
          "output_type": "stream",
          "text": [
            " 45%|████▌     | 90/200 [2:02:34<2:29:37, 81.61s/epoch, loss=0.983, accuracy=0.58, val_loss=0.948, val_accuracy=0.596]"
          ]
        },
        {
          "name": "stdout",
          "output_type": "stream",
          "text": [
            "412/412 [==============================] - 82s 198ms/step - loss: 0.9834 - accuracy: 0.5795 - val_loss: 0.9478 - val_accuracy: 0.5964\n",
            "Epoch 91/200\n",
            "412/412 [==============================] - ETA: 0s - loss: 0.9802 - accuracy: 0.5819"
          ]
        },
        {
          "name": "stderr",
          "output_type": "stream",
          "text": [
            " 46%|████▌     | 91/200 [2:03:56<2:28:15, 81.61s/epoch, loss=0.98, accuracy=0.582, val_loss=0.947, val_accuracy=0.617]"
          ]
        },
        {
          "name": "stdout",
          "output_type": "stream",
          "text": [
            "412/412 [==============================] - 82s 198ms/step - loss: 0.9802 - accuracy: 0.5819 - val_loss: 0.9471 - val_accuracy: 0.6173\n",
            "Epoch 92/200\n",
            "412/412 [==============================] - ETA: 0s - loss: 0.9836 - accuracy: 0.5802"
          ]
        },
        {
          "name": "stderr",
          "output_type": "stream",
          "text": [
            " 46%|████▌     | 92/200 [2:05:18<2:26:53, 81.61s/epoch, loss=0.984, accuracy=0.58, val_loss=0.954, val_accuracy=0.612]"
          ]
        },
        {
          "name": "stdout",
          "output_type": "stream",
          "text": [
            "412/412 [==============================] - 82s 198ms/step - loss: 0.9836 - accuracy: 0.5802 - val_loss: 0.9544 - val_accuracy: 0.6118\n",
            "Epoch 93/200\n",
            "412/412 [==============================] - ETA: 0s - loss: 0.9807 - accuracy: 0.5813"
          ]
        },
        {
          "name": "stderr",
          "output_type": "stream",
          "text": [
            " 46%|████▋     | 93/200 [2:06:39<2:25:32, 81.61s/epoch, loss=0.981, accuracy=0.581, val_loss=0.946, val_accuracy=0.615]"
          ]
        },
        {
          "name": "stdout",
          "output_type": "stream",
          "text": [
            "412/412 [==============================] - 82s 198ms/step - loss: 0.9807 - accuracy: 0.5813 - val_loss: 0.9456 - val_accuracy: 0.6149\n",
            "Epoch 94/200\n",
            "412/412 [==============================] - ETA: 0s - loss: 0.9804 - accuracy: 0.5824"
          ]
        },
        {
          "name": "stderr",
          "output_type": "stream",
          "text": [
            " 47%|████▋     | 94/200 [2:08:01<2:24:09, 81.60s/epoch, loss=0.98, accuracy=0.582, val_loss=0.946, val_accuracy=0.612] "
          ]
        },
        {
          "name": "stdout",
          "output_type": "stream",
          "text": [
            "412/412 [==============================] - 82s 198ms/step - loss: 0.9804 - accuracy: 0.5824 - val_loss: 0.9463 - val_accuracy: 0.6115\n",
            "Epoch 95/200\n",
            "412/412 [==============================] - ETA: 0s - loss: 0.9831 - accuracy: 0.5829"
          ]
        },
        {
          "name": "stderr",
          "output_type": "stream",
          "text": [
            " 48%|████▊     | 95/200 [2:09:22<2:22:47, 81.60s/epoch, loss=0.983, accuracy=0.583, val_loss=0.947, val_accuracy=0.609]"
          ]
        },
        {
          "name": "stdout",
          "output_type": "stream",
          "text": [
            "412/412 [==============================] - 82s 198ms/step - loss: 0.9831 - accuracy: 0.5829 - val_loss: 0.9468 - val_accuracy: 0.6087\n",
            "Epoch 96/200\n",
            "412/412 [==============================] - ETA: 0s - loss: 0.9802 - accuracy: 0.5814"
          ]
        },
        {
          "name": "stderr",
          "output_type": "stream",
          "text": [
            " 48%|████▊     | 96/200 [2:10:44<2:21:25, 81.59s/epoch, loss=0.98, accuracy=0.581, val_loss=0.945, val_accuracy=0.612] "
          ]
        },
        {
          "name": "stdout",
          "output_type": "stream",
          "text": [
            "412/412 [==============================] - 82s 198ms/step - loss: 0.9802 - accuracy: 0.5814 - val_loss: 0.9454 - val_accuracy: 0.6115\n",
            "Epoch 97/200\n",
            "412/412 [==============================] - ETA: 0s - loss: 0.9798 - accuracy: 0.5828"
          ]
        },
        {
          "name": "stderr",
          "output_type": "stream",
          "text": [
            " 48%|████▊     | 97/200 [2:12:05<2:20:03, 81.59s/epoch, loss=0.98, accuracy=0.583, val_loss=0.948, val_accuracy=0.613]"
          ]
        },
        {
          "name": "stdout",
          "output_type": "stream",
          "text": [
            "412/412 [==============================] - 82s 198ms/step - loss: 0.9798 - accuracy: 0.5828 - val_loss: 0.9477 - val_accuracy: 0.6133\n",
            "Epoch 98/200\n",
            "412/412 [==============================] - ETA: 0s - loss: 0.9806 - accuracy: 0.5822"
          ]
        },
        {
          "name": "stderr",
          "output_type": "stream",
          "text": [
            " 49%|████▉     | 98/200 [2:13:27<2:18:41, 81.58s/epoch, loss=0.981, accuracy=0.582, val_loss=0.947, val_accuracy=0.6] "
          ]
        },
        {
          "name": "stdout",
          "output_type": "stream",
          "text": [
            "412/412 [==============================] - 82s 198ms/step - loss: 0.9806 - accuracy: 0.5822 - val_loss: 0.9465 - val_accuracy: 0.6003\n",
            "Epoch 99/200\n",
            "412/412 [==============================] - ETA: 0s - loss: 0.9784 - accuracy: 0.5842"
          ]
        },
        {
          "name": "stderr",
          "output_type": "stream",
          "text": [
            " 50%|████▉     | 99/200 [2:14:49<2:17:19, 81.58s/epoch, loss=0.978, accuracy=0.584, val_loss=0.947, val_accuracy=0.611]"
          ]
        },
        {
          "name": "stdout",
          "output_type": "stream",
          "text": [
            "412/412 [==============================] - 82s 198ms/step - loss: 0.9784 - accuracy: 0.5842 - val_loss: 0.9466 - val_accuracy: 0.6111\n",
            "Epoch 100/200\n",
            "412/412 [==============================] - ETA: 0s - loss: 0.9799 - accuracy: 0.5854"
          ]
        },
        {
          "name": "stderr",
          "output_type": "stream",
          "text": [
            " 50%|█████     | 100/200 [2:16:10<2:15:58, 81.59s/epoch, loss=0.98, accuracy=0.585, val_loss=0.945, val_accuracy=0.607]"
          ]
        },
        {
          "name": "stdout",
          "output_type": "stream",
          "text": [
            "412/412 [==============================] - 82s 198ms/step - loss: 0.9799 - accuracy: 0.5854 - val_loss: 0.9446 - val_accuracy: 0.6074\n",
            "Epoch 101/200\n",
            "412/412 [==============================] - ETA: 0s - loss: 0.9789 - accuracy: 0.5841"
          ]
        },
        {
          "name": "stderr",
          "output_type": "stream",
          "text": [
            " 50%|█████     | 101/200 [2:17:32<2:14:36, 81.58s/epoch, loss=0.979, accuracy=0.584, val_loss=0.948, val_accuracy=0.606]"
          ]
        },
        {
          "name": "stdout",
          "output_type": "stream",
          "text": [
            "412/412 [==============================] - 82s 198ms/step - loss: 0.9789 - accuracy: 0.5841 - val_loss: 0.9476 - val_accuracy: 0.6056\n",
            "Epoch 102/200\n",
            "412/412 [==============================] - ETA: 0s - loss: 0.9795 - accuracy: 0.5855"
          ]
        },
        {
          "name": "stderr",
          "output_type": "stream",
          "text": [
            " 51%|█████     | 102/200 [2:18:53<2:13:14, 81.58s/epoch, loss=0.98, accuracy=0.585, val_loss=0.948, val_accuracy=0.602] "
          ]
        },
        {
          "name": "stdout",
          "output_type": "stream",
          "text": [
            "412/412 [==============================] - 82s 198ms/step - loss: 0.9795 - accuracy: 0.5855 - val_loss: 0.9477 - val_accuracy: 0.6022\n",
            "Epoch 103/200\n",
            "412/412 [==============================] - ETA: 0s - loss: 0.9802 - accuracy: 0.5871"
          ]
        },
        {
          "name": "stderr",
          "output_type": "stream",
          "text": [
            " 52%|█████▏    | 103/200 [2:20:15<2:11:53, 81.58s/epoch, loss=0.98, accuracy=0.587, val_loss=0.948, val_accuracy=0.618]"
          ]
        },
        {
          "name": "stdout",
          "output_type": "stream",
          "text": [
            "412/412 [==============================] - 82s 198ms/step - loss: 0.9802 - accuracy: 0.5871 - val_loss: 0.9482 - val_accuracy: 0.6176\n",
            "Epoch 104/200\n",
            "412/412 [==============================] - ETA: 0s - loss: 0.9757 - accuracy: 0.5892"
          ]
        },
        {
          "name": "stderr",
          "output_type": "stream",
          "text": [
            " 52%|█████▏    | 104/200 [2:21:37<2:10:31, 81.58s/epoch, loss=0.976, accuracy=0.589, val_loss=0.947, val_accuracy=0.598]"
          ]
        },
        {
          "name": "stdout",
          "output_type": "stream",
          "text": [
            "412/412 [==============================] - 82s 198ms/step - loss: 0.9757 - accuracy: 0.5892 - val_loss: 0.9472 - val_accuracy: 0.5977\n",
            "Epoch 105/200\n",
            "412/412 [==============================] - ETA: 0s - loss: 0.9752 - accuracy: 0.5865"
          ]
        },
        {
          "name": "stderr",
          "output_type": "stream",
          "text": [
            " 52%|█████▎    | 105/200 [2:22:58<2:09:09, 81.58s/epoch, loss=0.975, accuracy=0.587, val_loss=0.947, val_accuracy=0.606]"
          ]
        },
        {
          "name": "stdout",
          "output_type": "stream",
          "text": [
            "412/412 [==============================] - 82s 198ms/step - loss: 0.9752 - accuracy: 0.5865 - val_loss: 0.9473 - val_accuracy: 0.6060\n",
            "Epoch 106/200\n",
            "412/412 [==============================] - ETA: 0s - loss: 0.9764 - accuracy: 0.5847"
          ]
        },
        {
          "name": "stderr",
          "output_type": "stream",
          "text": [
            " 53%|█████▎    | 106/200 [2:24:20<2:07:47, 81.57s/epoch, loss=0.976, accuracy=0.585, val_loss=0.944, val_accuracy=0.609]"
          ]
        },
        {
          "name": "stdout",
          "output_type": "stream",
          "text": [
            "412/412 [==============================] - 82s 198ms/step - loss: 0.9764 - accuracy: 0.5847 - val_loss: 0.9444 - val_accuracy: 0.6092\n",
            "Epoch 107/200\n",
            "412/412 [==============================] - ETA: 0s - loss: 0.9773 - accuracy: 0.5847"
          ]
        },
        {
          "name": "stderr",
          "output_type": "stream",
          "text": [
            " 54%|█████▎    | 107/200 [2:25:41<2:06:28, 81.60s/epoch, loss=0.977, accuracy=0.585, val_loss=0.95, val_accuracy=0.618] "
          ]
        },
        {
          "name": "stdout",
          "output_type": "stream",
          "text": [
            "412/412 [==============================] - 82s 198ms/step - loss: 0.9773 - accuracy: 0.5847 - val_loss: 0.9496 - val_accuracy: 0.6180\n",
            "Epoch 108/200\n",
            "412/412 [==============================] - ETA: 0s - loss: 0.9735 - accuracy: 0.5874"
          ]
        },
        {
          "name": "stderr",
          "output_type": "stream",
          "text": [
            " 54%|█████▍    | 108/200 [2:27:03<2:05:08, 81.61s/epoch, loss=0.974, accuracy=0.587, val_loss=0.948, val_accuracy=0.594]"
          ]
        },
        {
          "name": "stdout",
          "output_type": "stream",
          "text": [
            "412/412 [==============================] - 82s 198ms/step - loss: 0.9735 - accuracy: 0.5874 - val_loss: 0.9477 - val_accuracy: 0.5939\n",
            "Epoch 109/200\n",
            "412/412 [==============================] - ETA: 0s - loss: 0.9719 - accuracy: 0.5861"
          ]
        },
        {
          "name": "stderr",
          "output_type": "stream",
          "text": [
            " 55%|█████▍    | 109/200 [2:28:25<2:03:45, 81.60s/epoch, loss=0.972, accuracy=0.586, val_loss=0.944, val_accuracy=0.599]"
          ]
        },
        {
          "name": "stdout",
          "output_type": "stream",
          "text": [
            "412/412 [==============================] - 82s 198ms/step - loss: 0.9719 - accuracy: 0.5861 - val_loss: 0.9439 - val_accuracy: 0.5991\n",
            "Epoch 110/200\n",
            "412/412 [==============================] - ETA: 0s - loss: 0.9750 - accuracy: 0.5866"
          ]
        },
        {
          "name": "stderr",
          "output_type": "stream",
          "text": [
            " 55%|█████▌    | 110/200 [2:29:46<2:02:23, 81.59s/epoch, loss=0.975, accuracy=0.587, val_loss=0.944, val_accuracy=0.606]"
          ]
        },
        {
          "name": "stdout",
          "output_type": "stream",
          "text": [
            "412/412 [==============================] - 82s 198ms/step - loss: 0.9750 - accuracy: 0.5866 - val_loss: 0.9444 - val_accuracy: 0.6058\n",
            "Epoch 111/200\n",
            "412/412 [==============================] - ETA: 0s - loss: 0.9726 - accuracy: 0.5889"
          ]
        },
        {
          "name": "stderr",
          "output_type": "stream",
          "text": [
            " 56%|█████▌    | 111/200 [2:31:08<2:01:01, 81.59s/epoch, loss=0.973, accuracy=0.589, val_loss=0.946, val_accuracy=0.614]"
          ]
        },
        {
          "name": "stdout",
          "output_type": "stream",
          "text": [
            "412/412 [==============================] - 82s 198ms/step - loss: 0.9726 - accuracy: 0.5889 - val_loss: 0.9461 - val_accuracy: 0.6144\n",
            "Epoch 112/200\n",
            "412/412 [==============================] - ETA: 0s - loss: 0.9745 - accuracy: 0.5878"
          ]
        },
        {
          "name": "stderr",
          "output_type": "stream",
          "text": [
            " 56%|█████▌    | 112/200 [2:32:29<1:59:39, 81.59s/epoch, loss=0.974, accuracy=0.588, val_loss=0.943, val_accuracy=0.605]"
          ]
        },
        {
          "name": "stdout",
          "output_type": "stream",
          "text": [
            "412/412 [==============================] - 82s 198ms/step - loss: 0.9745 - accuracy: 0.5878 - val_loss: 0.9432 - val_accuracy: 0.6046\n",
            "Epoch 113/200\n",
            "412/412 [==============================] - ETA: 0s - loss: 0.9742 - accuracy: 0.5856"
          ]
        },
        {
          "name": "stderr",
          "output_type": "stream",
          "text": [
            " 56%|█████▋    | 113/200 [2:33:51<1:58:17, 81.58s/epoch, loss=0.974, accuracy=0.586, val_loss=0.948, val_accuracy=0.597]"
          ]
        },
        {
          "name": "stdout",
          "output_type": "stream",
          "text": [
            "412/412 [==============================] - 82s 198ms/step - loss: 0.9742 - accuracy: 0.5856 - val_loss: 0.9477 - val_accuracy: 0.5968\n",
            "Epoch 114/200\n",
            "412/412 [==============================] - ETA: 0s - loss: 0.9710 - accuracy: 0.5885"
          ]
        },
        {
          "name": "stderr",
          "output_type": "stream",
          "text": [
            " 57%|█████▋    | 114/200 [2:35:12<1:56:56, 81.58s/epoch, loss=0.971, accuracy=0.588, val_loss=0.946, val_accuracy=0.598]"
          ]
        },
        {
          "name": "stdout",
          "output_type": "stream",
          "text": [
            "412/412 [==============================] - 82s 198ms/step - loss: 0.9710 - accuracy: 0.5885 - val_loss: 0.9456 - val_accuracy: 0.5981\n",
            "Epoch 115/200\n",
            "412/412 [==============================] - ETA: 0s - loss: 0.9638 - accuracy: 0.5941"
          ]
        },
        {
          "name": "stderr",
          "output_type": "stream",
          "text": [
            " 57%|█████▊    | 115/200 [2:36:34<1:55:34, 81.58s/epoch, loss=0.964, accuracy=0.594, val_loss=0.942, val_accuracy=0.602]"
          ]
        },
        {
          "name": "stdout",
          "output_type": "stream",
          "text": [
            "412/412 [==============================] - 82s 198ms/step - loss: 0.9638 - accuracy: 0.5941 - val_loss: 0.9424 - val_accuracy: 0.6022\n",
            "Epoch 116/200\n",
            "412/412 [==============================] - ETA: 0s - loss: 0.9707 - accuracy: 0.5907"
          ]
        },
        {
          "name": "stderr",
          "output_type": "stream",
          "text": [
            " 58%|█████▊    | 116/200 [2:37:56<1:54:13, 81.59s/epoch, loss=0.971, accuracy=0.591, val_loss=0.942, val_accuracy=0.6]  "
          ]
        },
        {
          "name": "stdout",
          "output_type": "stream",
          "text": [
            "412/412 [==============================] - 82s 198ms/step - loss: 0.9707 - accuracy: 0.5907 - val_loss: 0.9424 - val_accuracy: 0.6002\n",
            "Epoch 117/200\n",
            "412/412 [==============================] - ETA: 0s - loss: 0.9666 - accuracy: 0.5921"
          ]
        },
        {
          "name": "stderr",
          "output_type": "stream",
          "text": [
            " 58%|█████▊    | 117/200 [2:39:17<1:52:52, 81.60s/epoch, loss=0.967, accuracy=0.592, val_loss=0.943, val_accuracy=0.608]"
          ]
        },
        {
          "name": "stdout",
          "output_type": "stream",
          "text": [
            "412/412 [==============================] - 82s 198ms/step - loss: 0.9666 - accuracy: 0.5921 - val_loss: 0.9430 - val_accuracy: 0.6082\n",
            "Epoch 118/200\n",
            "412/412 [==============================] - ETA: 0s - loss: 0.9694 - accuracy: 0.5889"
          ]
        },
        {
          "name": "stderr",
          "output_type": "stream",
          "text": [
            " 59%|█████▉    | 118/200 [2:40:39<1:51:30, 81.59s/epoch, loss=0.969, accuracy=0.589, val_loss=0.946, val_accuracy=0.6]  "
          ]
        },
        {
          "name": "stdout",
          "output_type": "stream",
          "text": [
            "412/412 [==============================] - 82s 198ms/step - loss: 0.9694 - accuracy: 0.5889 - val_loss: 0.9456 - val_accuracy: 0.5995\n",
            "Epoch 119/200\n",
            "412/412 [==============================] - ETA: 0s - loss: 0.9702 - accuracy: 0.5900"
          ]
        },
        {
          "name": "stderr",
          "output_type": "stream",
          "text": [
            " 60%|█████▉    | 119/200 [2:42:00<1:50:08, 81.59s/epoch, loss=0.97, accuracy=0.59, val_loss=0.944, val_accuracy=0.595]"
          ]
        },
        {
          "name": "stdout",
          "output_type": "stream",
          "text": [
            "412/412 [==============================] - 82s 198ms/step - loss: 0.9702 - accuracy: 0.5900 - val_loss: 0.9440 - val_accuracy: 0.5953\n",
            "Epoch 120/200\n",
            "412/412 [==============================] - ETA: 0s - loss: 0.9711 - accuracy: 0.5883"
          ]
        },
        {
          "name": "stderr",
          "output_type": "stream",
          "text": [
            " 60%|██████    | 120/200 [2:43:22<1:48:46, 81.58s/epoch, loss=0.971, accuracy=0.588, val_loss=0.942, val_accuracy=0.609]"
          ]
        },
        {
          "name": "stdout",
          "output_type": "stream",
          "text": [
            "412/412 [==============================] - 82s 198ms/step - loss: 0.9711 - accuracy: 0.5883 - val_loss: 0.9421 - val_accuracy: 0.6088\n",
            "Epoch 121/200\n",
            "412/412 [==============================] - ETA: 0s - loss: 0.9677 - accuracy: 0.5879"
          ]
        },
        {
          "name": "stderr",
          "output_type": "stream",
          "text": [
            " 60%|██████    | 121/200 [2:44:44<1:47:25, 81.59s/epoch, loss=0.968, accuracy=0.588, val_loss=0.942, val_accuracy=0.606]"
          ]
        },
        {
          "name": "stdout",
          "output_type": "stream",
          "text": [
            "412/412 [==============================] - 82s 198ms/step - loss: 0.9677 - accuracy: 0.5879 - val_loss: 0.9417 - val_accuracy: 0.6056\n",
            "Epoch 122/200\n",
            "412/412 [==============================] - ETA: 0s - loss: 0.9677 - accuracy: 0.5921"
          ]
        },
        {
          "name": "stderr",
          "output_type": "stream",
          "text": [
            " 61%|██████    | 122/200 [2:46:05<1:46:03, 81.59s/epoch, loss=0.968, accuracy=0.592, val_loss=0.941, val_accuracy=0.604]"
          ]
        },
        {
          "name": "stdout",
          "output_type": "stream",
          "text": [
            "412/412 [==============================] - 82s 198ms/step - loss: 0.9677 - accuracy: 0.5921 - val_loss: 0.9411 - val_accuracy: 0.6044\n",
            "Epoch 123/200\n",
            "412/412 [==============================] - ETA: 0s - loss: 0.9682 - accuracy: 0.5917"
          ]
        },
        {
          "name": "stderr",
          "output_type": "stream",
          "text": [
            " 62%|██████▏   | 123/200 [2:47:27<1:44:42, 81.59s/epoch, loss=0.968, accuracy=0.592, val_loss=0.942, val_accuracy=0.603]"
          ]
        },
        {
          "name": "stdout",
          "output_type": "stream",
          "text": [
            "412/412 [==============================] - 82s 198ms/step - loss: 0.9682 - accuracy: 0.5917 - val_loss: 0.9419 - val_accuracy: 0.6033\n",
            "Epoch 124/200\n",
            "412/412 [==============================] - ETA: 0s - loss: 0.9693 - accuracy: 0.5879"
          ]
        },
        {
          "name": "stderr",
          "output_type": "stream",
          "text": [
            " 62%|██████▏   | 124/200 [2:48:48<1:43:19, 81.58s/epoch, loss=0.969, accuracy=0.588, val_loss=0.937, val_accuracy=0.604]"
          ]
        },
        {
          "name": "stdout",
          "output_type": "stream",
          "text": [
            "412/412 [==============================] - 82s 198ms/step - loss: 0.9693 - accuracy: 0.5879 - val_loss: 0.9367 - val_accuracy: 0.6039\n",
            "Epoch 125/200\n",
            "412/412 [==============================] - ETA: 0s - loss: 0.9683 - accuracy: 0.5906"
          ]
        },
        {
          "name": "stderr",
          "output_type": "stream",
          "text": [
            " 62%|██████▎   | 125/200 [2:50:10<1:41:58, 81.58s/epoch, loss=0.968, accuracy=0.591, val_loss=0.941, val_accuracy=0.614]"
          ]
        },
        {
          "name": "stdout",
          "output_type": "stream",
          "text": [
            "412/412 [==============================] - 82s 198ms/step - loss: 0.9683 - accuracy: 0.5906 - val_loss: 0.9411 - val_accuracy: 0.6136\n",
            "Epoch 126/200\n",
            "412/412 [==============================] - ETA: 0s - loss: 0.9666 - accuracy: 0.5916"
          ]
        },
        {
          "name": "stderr",
          "output_type": "stream",
          "text": [
            " 63%|██████▎   | 126/200 [2:51:31<1:40:37, 81.58s/epoch, loss=0.967, accuracy=0.592, val_loss=0.943, val_accuracy=0.599]"
          ]
        },
        {
          "name": "stdout",
          "output_type": "stream",
          "text": [
            "412/412 [==============================] - 82s 198ms/step - loss: 0.9666 - accuracy: 0.5916 - val_loss: 0.9433 - val_accuracy: 0.5986\n",
            "Epoch 127/200\n",
            "412/412 [==============================] - ETA: 0s - loss: 0.9675 - accuracy: 0.5902"
          ]
        },
        {
          "name": "stderr",
          "output_type": "stream",
          "text": [
            " 64%|██████▎   | 127/200 [2:52:53<1:39:15, 81.59s/epoch, loss=0.968, accuracy=0.59, val_loss=0.943, val_accuracy=0.595] "
          ]
        },
        {
          "name": "stdout",
          "output_type": "stream",
          "text": [
            "412/412 [==============================] - 82s 198ms/step - loss: 0.9675 - accuracy: 0.5902 - val_loss: 0.9434 - val_accuracy: 0.5952\n",
            "Epoch 128/200\n",
            "412/412 [==============================] - ETA: 0s - loss: 0.9649 - accuracy: 0.5959"
          ]
        },
        {
          "name": "stderr",
          "output_type": "stream",
          "text": [
            " 64%|██████▍   | 128/200 [2:54:15<1:37:54, 81.59s/epoch, loss=0.965, accuracy=0.596, val_loss=0.941, val_accuracy=0.599]"
          ]
        },
        {
          "name": "stdout",
          "output_type": "stream",
          "text": [
            "412/412 [==============================] - 82s 198ms/step - loss: 0.9649 - accuracy: 0.5959 - val_loss: 0.9412 - val_accuracy: 0.5994\n",
            "Epoch 129/200\n",
            "412/412 [==============================] - ETA: 0s - loss: 0.9618 - accuracy: 0.5936"
          ]
        },
        {
          "name": "stderr",
          "output_type": "stream",
          "text": [
            " 64%|██████▍   | 129/200 [2:55:36<1:36:32, 81.59s/epoch, loss=0.962, accuracy=0.594, val_loss=0.946, val_accuracy=0.588]"
          ]
        },
        {
          "name": "stdout",
          "output_type": "stream",
          "text": [
            "412/412 [==============================] - 82s 198ms/step - loss: 0.9618 - accuracy: 0.5936 - val_loss: 0.9459 - val_accuracy: 0.5876\n",
            "Epoch 130/200\n",
            "412/412 [==============================] - ETA: 0s - loss: 0.9640 - accuracy: 0.5953"
          ]
        },
        {
          "name": "stderr",
          "output_type": "stream",
          "text": [
            " 65%|██████▌   | 130/200 [2:56:58<1:35:11, 81.59s/epoch, loss=0.964, accuracy=0.595, val_loss=0.939, val_accuracy=0.601]"
          ]
        },
        {
          "name": "stdout",
          "output_type": "stream",
          "text": [
            "412/412 [==============================] - 82s 198ms/step - loss: 0.9640 - accuracy: 0.5953 - val_loss: 0.9393 - val_accuracy: 0.6010\n",
            "Epoch 131/200\n",
            "412/412 [==============================] - ETA: 0s - loss: 0.9629 - accuracy: 0.5915"
          ]
        },
        {
          "name": "stderr",
          "output_type": "stream",
          "text": [
            " 66%|██████▌   | 131/200 [2:58:19<1:33:49, 81.59s/epoch, loss=0.963, accuracy=0.592, val_loss=0.942, val_accuracy=0.6]  "
          ]
        },
        {
          "name": "stdout",
          "output_type": "stream",
          "text": [
            "412/412 [==============================] - 82s 198ms/step - loss: 0.9629 - accuracy: 0.5915 - val_loss: 0.9419 - val_accuracy: 0.6002\n",
            "Epoch 132/200\n",
            "412/412 [==============================] - ETA: 0s - loss: 0.9579 - accuracy: 0.5961"
          ]
        },
        {
          "name": "stderr",
          "output_type": "stream",
          "text": [
            " 66%|██████▌   | 132/200 [2:59:41<1:32:27, 81.58s/epoch, loss=0.958, accuracy=0.596, val_loss=0.94, val_accuracy=0.602]"
          ]
        },
        {
          "name": "stdout",
          "output_type": "stream",
          "text": [
            "412/412 [==============================] - 82s 198ms/step - loss: 0.9579 - accuracy: 0.5961 - val_loss: 0.9404 - val_accuracy: 0.6019\n",
            "Epoch 133/200\n",
            "412/412 [==============================] - ETA: 0s - loss: 0.9644 - accuracy: 0.5935"
          ]
        },
        {
          "name": "stderr",
          "output_type": "stream",
          "text": [
            " 66%|██████▋   | 133/200 [3:01:03<1:31:06, 81.59s/epoch, loss=0.964, accuracy=0.594, val_loss=0.937, val_accuracy=0.601]"
          ]
        },
        {
          "name": "stdout",
          "output_type": "stream",
          "text": [
            "412/412 [==============================] - 82s 198ms/step - loss: 0.9644 - accuracy: 0.5935 - val_loss: 0.9373 - val_accuracy: 0.6011\n",
            "Epoch 134/200\n",
            "412/412 [==============================] - ETA: 0s - loss: 0.9631 - accuracy: 0.5950"
          ]
        },
        {
          "name": "stderr",
          "output_type": "stream",
          "text": [
            " 67%|██████▋   | 134/200 [3:02:24<1:29:44, 81.59s/epoch, loss=0.963, accuracy=0.595, val_loss=0.938, val_accuracy=0.602]"
          ]
        },
        {
          "name": "stdout",
          "output_type": "stream",
          "text": [
            "412/412 [==============================] - 82s 198ms/step - loss: 0.9631 - accuracy: 0.5950 - val_loss: 0.9381 - val_accuracy: 0.6021\n",
            "Epoch 135/200\n",
            "412/412 [==============================] - ETA: 0s - loss: 0.9615 - accuracy: 0.5959"
          ]
        },
        {
          "name": "stderr",
          "output_type": "stream",
          "text": [
            " 68%|██████▊   | 135/200 [3:03:46<1:28:23, 81.59s/epoch, loss=0.962, accuracy=0.596, val_loss=0.937, val_accuracy=0.607]"
          ]
        },
        {
          "name": "stdout",
          "output_type": "stream",
          "text": [
            "412/412 [==============================] - 82s 198ms/step - loss: 0.9615 - accuracy: 0.5959 - val_loss: 0.9368 - val_accuracy: 0.6070\n",
            "Epoch 136/200\n",
            "412/412 [==============================] - ETA: 0s - loss: 0.9595 - accuracy: 0.5953"
          ]
        },
        {
          "name": "stderr",
          "output_type": "stream",
          "text": [
            " 68%|██████▊   | 136/200 [3:05:07<1:27:01, 81.59s/epoch, loss=0.96, accuracy=0.595, val_loss=0.935, val_accuracy=0.61]  "
          ]
        },
        {
          "name": "stdout",
          "output_type": "stream",
          "text": [
            "412/412 [==============================] - 82s 198ms/step - loss: 0.9595 - accuracy: 0.5953 - val_loss: 0.9352 - val_accuracy: 0.6097\n",
            "Epoch 137/200\n",
            "412/412 [==============================] - ETA: 0s - loss: 0.9613 - accuracy: 0.5931"
          ]
        },
        {
          "name": "stderr",
          "output_type": "stream",
          "text": [
            " 68%|██████▊   | 137/200 [3:06:29<1:25:40, 81.59s/epoch, loss=0.961, accuracy=0.593, val_loss=0.939, val_accuracy=0.606]"
          ]
        },
        {
          "name": "stdout",
          "output_type": "stream",
          "text": [
            "412/412 [==============================] - 82s 198ms/step - loss: 0.9613 - accuracy: 0.5931 - val_loss: 0.9388 - val_accuracy: 0.6061\n",
            "Epoch 138/200\n",
            "412/412 [==============================] - ETA: 0s - loss: 0.9647 - accuracy: 0.5952"
          ]
        },
        {
          "name": "stderr",
          "output_type": "stream",
          "text": [
            " 69%|██████▉   | 138/200 [3:07:51<1:24:18, 81.58s/epoch, loss=0.965, accuracy=0.595, val_loss=0.948, val_accuracy=0.582]"
          ]
        },
        {
          "name": "stdout",
          "output_type": "stream",
          "text": [
            "412/412 [==============================] - 82s 198ms/step - loss: 0.9647 - accuracy: 0.5952 - val_loss: 0.9475 - val_accuracy: 0.5818\n",
            "Epoch 139/200\n",
            "412/412 [==============================] - ETA: 0s - loss: 0.9618 - accuracy: 0.5931"
          ]
        },
        {
          "name": "stderr",
          "output_type": "stream",
          "text": [
            " 70%|██████▉   | 139/200 [3:09:12<1:22:56, 81.59s/epoch, loss=0.962, accuracy=0.593, val_loss=0.94, val_accuracy=0.599] "
          ]
        },
        {
          "name": "stdout",
          "output_type": "stream",
          "text": [
            "412/412 [==============================] - 82s 198ms/step - loss: 0.9618 - accuracy: 0.5931 - val_loss: 0.9402 - val_accuracy: 0.5993\n",
            "Epoch 140/200\n",
            "412/412 [==============================] - ETA: 0s - loss: 0.9580 - accuracy: 0.5938"
          ]
        },
        {
          "name": "stderr",
          "output_type": "stream",
          "text": [
            " 70%|███████   | 140/200 [3:10:34<1:21:35, 81.59s/epoch, loss=0.958, accuracy=0.594, val_loss=0.937, val_accuracy=0.605]"
          ]
        },
        {
          "name": "stdout",
          "output_type": "stream",
          "text": [
            "412/412 [==============================] - 82s 198ms/step - loss: 0.9580 - accuracy: 0.5938 - val_loss: 0.9371 - val_accuracy: 0.6052\n",
            "Epoch 141/200\n",
            "412/412 [==============================] - ETA: 0s - loss: 0.9619 - accuracy: 0.5919"
          ]
        },
        {
          "name": "stderr",
          "output_type": "stream",
          "text": [
            " 70%|███████   | 141/200 [3:11:55<1:20:13, 81.59s/epoch, loss=0.962, accuracy=0.592, val_loss=0.937, val_accuracy=0.611]"
          ]
        },
        {
          "name": "stdout",
          "output_type": "stream",
          "text": [
            "412/412 [==============================] - 82s 198ms/step - loss: 0.9619 - accuracy: 0.5919 - val_loss: 0.9372 - val_accuracy: 0.6107\n",
            "Epoch 142/200\n",
            "412/412 [==============================] - ETA: 0s - loss: 0.9615 - accuracy: 0.5968"
          ]
        },
        {
          "name": "stderr",
          "output_type": "stream",
          "text": [
            " 71%|███████   | 142/200 [3:13:17<1:18:52, 81.59s/epoch, loss=0.962, accuracy=0.597, val_loss=0.941, val_accuracy=0.602]"
          ]
        },
        {
          "name": "stdout",
          "output_type": "stream",
          "text": [
            "412/412 [==============================] - 82s 198ms/step - loss: 0.9615 - accuracy: 0.5968 - val_loss: 0.9406 - val_accuracy: 0.6024\n",
            "Epoch 143/200\n",
            "412/412 [==============================] - ETA: 0s - loss: 0.9620 - accuracy: 0.5930"
          ]
        },
        {
          "name": "stderr",
          "output_type": "stream",
          "text": [
            " 72%|███████▏  | 143/200 [3:14:38<1:17:30, 81.59s/epoch, loss=0.962, accuracy=0.593, val_loss=0.937, val_accuracy=0.604]"
          ]
        },
        {
          "name": "stdout",
          "output_type": "stream",
          "text": [
            "412/412 [==============================] - 82s 198ms/step - loss: 0.9620 - accuracy: 0.5930 - val_loss: 0.9374 - val_accuracy: 0.6040\n",
            "Epoch 144/200\n",
            "412/412 [==============================] - ETA: 0s - loss: 0.9583 - accuracy: 0.5953"
          ]
        },
        {
          "name": "stderr",
          "output_type": "stream",
          "text": [
            " 72%|███████▏  | 144/200 [3:16:00<1:16:11, 81.64s/epoch, loss=0.958, accuracy=0.595, val_loss=0.933, val_accuracy=0.607]"
          ]
        },
        {
          "name": "stdout",
          "output_type": "stream",
          "text": [
            "412/412 [==============================] - 82s 198ms/step - loss: 0.9583 - accuracy: 0.5953 - val_loss: 0.9330 - val_accuracy: 0.6069\n",
            "Epoch 145/200\n",
            "412/412 [==============================] - ETA: 0s - loss: 0.9631 - accuracy: 0.5928"
          ]
        },
        {
          "name": "stderr",
          "output_type": "stream",
          "text": [
            " 72%|███████▎  | 145/200 [3:17:22<1:14:50, 81.65s/epoch, loss=0.963, accuracy=0.593, val_loss=0.938, val_accuracy=0.612]"
          ]
        },
        {
          "name": "stdout",
          "output_type": "stream",
          "text": [
            "412/412 [==============================] - 82s 198ms/step - loss: 0.9631 - accuracy: 0.5928 - val_loss: 0.9378 - val_accuracy: 0.6120\n",
            "Epoch 146/200\n",
            "412/412 [==============================] - ETA: 0s - loss: 0.9620 - accuracy: 0.5948"
          ]
        },
        {
          "name": "stderr",
          "output_type": "stream",
          "text": [
            " 73%|███████▎  | 146/200 [3:18:44<1:13:29, 81.66s/epoch, loss=0.962, accuracy=0.595, val_loss=0.939, val_accuracy=0.6]  "
          ]
        },
        {
          "name": "stdout",
          "output_type": "stream",
          "text": [
            "412/412 [==============================] - 82s 198ms/step - loss: 0.9620 - accuracy: 0.5948 - val_loss: 0.9385 - val_accuracy: 0.6003\n",
            "Epoch 147/200\n",
            "412/412 [==============================] - ETA: 0s - loss: 0.9589 - accuracy: 0.5943"
          ]
        },
        {
          "name": "stderr",
          "output_type": "stream",
          "text": [
            " 74%|███████▎  | 147/200 [3:20:05<1:12:07, 81.66s/epoch, loss=0.959, accuracy=0.594, val_loss=0.936, val_accuracy=0.6]"
          ]
        },
        {
          "name": "stdout",
          "output_type": "stream",
          "text": [
            "412/412 [==============================] - 82s 198ms/step - loss: 0.9589 - accuracy: 0.5943 - val_loss: 0.9358 - val_accuracy: 0.6004\n",
            "Epoch 148/200\n",
            "412/412 [==============================] - ETA: 0s - loss: 0.9610 - accuracy: 0.5948"
          ]
        },
        {
          "name": "stderr",
          "output_type": "stream",
          "text": [
            " 74%|███████▍  | 148/200 [3:21:27<1:10:46, 81.67s/epoch, loss=0.961, accuracy=0.595, val_loss=0.938, val_accuracy=0.598]"
          ]
        },
        {
          "name": "stdout",
          "output_type": "stream",
          "text": [
            "412/412 [==============================] - 82s 198ms/step - loss: 0.9610 - accuracy: 0.5948 - val_loss: 0.9382 - val_accuracy: 0.5981\n",
            "Epoch 149/200\n",
            "412/412 [==============================] - ETA: 0s - loss: 0.9555 - accuracy: 0.5977"
          ]
        },
        {
          "name": "stderr",
          "output_type": "stream",
          "text": [
            " 74%|███████▍  | 149/200 [3:22:49<1:09:25, 81.67s/epoch, loss=0.955, accuracy=0.598, val_loss=0.941, val_accuracy=0.588]"
          ]
        },
        {
          "name": "stdout",
          "output_type": "stream",
          "text": [
            "412/412 [==============================] - 82s 198ms/step - loss: 0.9555 - accuracy: 0.5977 - val_loss: 0.9411 - val_accuracy: 0.5876\n",
            "Epoch 150/200\n",
            "412/412 [==============================] - ETA: 0s - loss: 0.9584 - accuracy: 0.5960"
          ]
        },
        {
          "name": "stderr",
          "output_type": "stream",
          "text": [
            " 75%|███████▌  | 150/200 [3:24:10<1:08:02, 81.65s/epoch, loss=0.958, accuracy=0.596, val_loss=0.935, val_accuracy=0.603]"
          ]
        },
        {
          "name": "stdout",
          "output_type": "stream",
          "text": [
            "412/412 [==============================] - 82s 198ms/step - loss: 0.9584 - accuracy: 0.5960 - val_loss: 0.9354 - val_accuracy: 0.6033\n",
            "Epoch 151/200\n",
            "412/412 [==============================] - ETA: 0s - loss: 0.9567 - accuracy: 0.5962"
          ]
        },
        {
          "name": "stderr",
          "output_type": "stream",
          "text": [
            " 76%|███████▌  | 151/200 [3:25:32<1:06:40, 81.65s/epoch, loss=0.957, accuracy=0.596, val_loss=0.936, val_accuracy=0.61] "
          ]
        },
        {
          "name": "stdout",
          "output_type": "stream",
          "text": [
            "412/412 [==============================] - 82s 198ms/step - loss: 0.9567 - accuracy: 0.5962 - val_loss: 0.9365 - val_accuracy: 0.6096\n",
            "Epoch 152/200\n",
            "412/412 [==============================] - ETA: 0s - loss: 0.9594 - accuracy: 0.5940"
          ]
        },
        {
          "name": "stderr",
          "output_type": "stream",
          "text": [
            " 76%|███████▌  | 152/200 [3:26:54<1:05:19, 81.65s/epoch, loss=0.959, accuracy=0.594, val_loss=0.938, val_accuracy=0.603]"
          ]
        },
        {
          "name": "stdout",
          "output_type": "stream",
          "text": [
            "412/412 [==============================] - 82s 198ms/step - loss: 0.9594 - accuracy: 0.5940 - val_loss: 0.9378 - val_accuracy: 0.6026\n",
            "Epoch 153/200\n",
            "412/412 [==============================] - ETA: 0s - loss: 0.9555 - accuracy: 0.5961"
          ]
        },
        {
          "name": "stderr",
          "output_type": "stream",
          "text": [
            " 76%|███████▋  | 153/200 [3:28:15<1:03:58, 81.66s/epoch, loss=0.955, accuracy=0.596, val_loss=0.936, val_accuracy=0.607]"
          ]
        },
        {
          "name": "stdout",
          "output_type": "stream",
          "text": [
            "412/412 [==============================] - 82s 198ms/step - loss: 0.9555 - accuracy: 0.5961 - val_loss: 0.9363 - val_accuracy: 0.6066\n",
            "Epoch 154/200\n",
            "412/412 [==============================] - ETA: 0s - loss: 0.9593 - accuracy: 0.5988"
          ]
        },
        {
          "name": "stderr",
          "output_type": "stream",
          "text": [
            " 77%|███████▋  | 154/200 [3:29:37<1:02:37, 81.68s/epoch, loss=0.959, accuracy=0.599, val_loss=0.936, val_accuracy=0.608]"
          ]
        },
        {
          "name": "stdout",
          "output_type": "stream",
          "text": [
            "412/412 [==============================] - 82s 198ms/step - loss: 0.9593 - accuracy: 0.5988 - val_loss: 0.9360 - val_accuracy: 0.6080\n",
            "Epoch 155/200\n",
            "412/412 [==============================] - ETA: 0s - loss: 0.9563 - accuracy: 0.5973"
          ]
        },
        {
          "name": "stderr",
          "output_type": "stream",
          "text": [
            " 78%|███████▊  | 155/200 [3:30:59<1:01:15, 81.67s/epoch, loss=0.956, accuracy=0.597, val_loss=0.935, val_accuracy=0.603]"
          ]
        },
        {
          "name": "stdout",
          "output_type": "stream",
          "text": [
            "412/412 [==============================] - 82s 198ms/step - loss: 0.9563 - accuracy: 0.5973 - val_loss: 0.9347 - val_accuracy: 0.6034\n",
            "Epoch 156/200\n",
            "412/412 [==============================] - ETA: 0s - loss: 0.9514 - accuracy: 0.5999"
          ]
        },
        {
          "name": "stderr",
          "output_type": "stream",
          "text": [
            " 78%|███████▊  | 156/200 [3:32:20<59:54, 81.68s/epoch, loss=0.951, accuracy=0.6, val_loss=0.936, val_accuracy=0.611]    "
          ]
        },
        {
          "name": "stdout",
          "output_type": "stream",
          "text": [
            "412/412 [==============================] - 82s 198ms/step - loss: 0.9514 - accuracy: 0.5999 - val_loss: 0.9358 - val_accuracy: 0.6107\n",
            "Epoch 157/200\n",
            "412/412 [==============================] - ETA: 0s - loss: 0.9531 - accuracy: 0.5975"
          ]
        },
        {
          "name": "stderr",
          "output_type": "stream",
          "text": [
            " 78%|███████▊  | 157/200 [3:33:42<58:32, 81.68s/epoch, loss=0.953, accuracy=0.597, val_loss=0.932, val_accuracy=0.609]"
          ]
        },
        {
          "name": "stdout",
          "output_type": "stream",
          "text": [
            "412/412 [==============================] - 82s 198ms/step - loss: 0.9531 - accuracy: 0.5975 - val_loss: 0.9324 - val_accuracy: 0.6095\n",
            "Epoch 158/200\n",
            "412/412 [==============================] - ETA: 0s - loss: 0.9527 - accuracy: 0.6012"
          ]
        },
        {
          "name": "stderr",
          "output_type": "stream",
          "text": [
            " 79%|███████▉  | 158/200 [3:35:04<57:10, 81.67s/epoch, loss=0.953, accuracy=0.601, val_loss=0.942, val_accuracy=0.583]"
          ]
        },
        {
          "name": "stdout",
          "output_type": "stream",
          "text": [
            "412/412 [==============================] - 82s 198ms/step - loss: 0.9527 - accuracy: 0.6012 - val_loss: 0.9418 - val_accuracy: 0.5833\n",
            "Epoch 159/200\n",
            "412/412 [==============================] - ETA: 0s - loss: 0.9543 - accuracy: 0.5977"
          ]
        },
        {
          "name": "stderr",
          "output_type": "stream",
          "text": [
            " 80%|███████▉  | 159/200 [3:36:25<55:47, 81.65s/epoch, loss=0.954, accuracy=0.598, val_loss=0.939, val_accuracy=0.593]"
          ]
        },
        {
          "name": "stdout",
          "output_type": "stream",
          "text": [
            "412/412 [==============================] - 82s 198ms/step - loss: 0.9543 - accuracy: 0.5977 - val_loss: 0.9388 - val_accuracy: 0.5930\n",
            "Epoch 160/200\n",
            "412/412 [==============================] - ETA: 0s - loss: 0.9547 - accuracy: 0.5961"
          ]
        },
        {
          "name": "stderr",
          "output_type": "stream",
          "text": [
            " 80%|████████  | 160/200 [3:37:47<54:25, 81.65s/epoch, loss=0.955, accuracy=0.596, val_loss=0.938, val_accuracy=0.611]"
          ]
        },
        {
          "name": "stdout",
          "output_type": "stream",
          "text": [
            "412/412 [==============================] - 82s 198ms/step - loss: 0.9547 - accuracy: 0.5961 - val_loss: 0.9380 - val_accuracy: 0.6106\n",
            "Epoch 161/200\n",
            "412/412 [==============================] - ETA: 0s - loss: 0.9520 - accuracy: 0.5995"
          ]
        },
        {
          "name": "stderr",
          "output_type": "stream",
          "text": [
            " 80%|████████  | 161/200 [3:39:08<53:04, 81.64s/epoch, loss=0.952, accuracy=0.6, val_loss=0.931, val_accuracy=0.607]  "
          ]
        },
        {
          "name": "stdout",
          "output_type": "stream",
          "text": [
            "412/412 [==============================] - 82s 198ms/step - loss: 0.9520 - accuracy: 0.5995 - val_loss: 0.9315 - val_accuracy: 0.6071\n",
            "Epoch 162/200\n",
            "412/412 [==============================] - ETA: 0s - loss: 0.9550 - accuracy: 0.6000"
          ]
        },
        {
          "name": "stderr",
          "output_type": "stream",
          "text": [
            " 81%|████████  | 162/200 [3:40:30<51:42, 81.64s/epoch, loss=0.955, accuracy=0.6, val_loss=0.935, val_accuracy=0.602]"
          ]
        },
        {
          "name": "stdout",
          "output_type": "stream",
          "text": [
            "412/412 [==============================] - 82s 198ms/step - loss: 0.9550 - accuracy: 0.6000 - val_loss: 0.9346 - val_accuracy: 0.6021\n",
            "Epoch 163/200\n",
            "412/412 [==============================] - ETA: 0s - loss: 0.9506 - accuracy: 0.6002"
          ]
        },
        {
          "name": "stderr",
          "output_type": "stream",
          "text": [
            " 82%|████████▏ | 163/200 [3:41:52<50:20, 81.65s/epoch, loss=0.951, accuracy=0.6, val_loss=0.928, val_accuracy=0.602]"
          ]
        },
        {
          "name": "stdout",
          "output_type": "stream",
          "text": [
            "412/412 [==============================] - 82s 198ms/step - loss: 0.9506 - accuracy: 0.6002 - val_loss: 0.9278 - val_accuracy: 0.6025\n",
            "Epoch 164/200\n",
            "412/412 [==============================] - ETA: 0s - loss: 0.9524 - accuracy: 0.5986"
          ]
        },
        {
          "name": "stderr",
          "output_type": "stream",
          "text": [
            " 82%|████████▏ | 164/200 [3:43:13<48:59, 81.65s/epoch, loss=0.952, accuracy=0.599, val_loss=0.935, val_accuracy=0.61]"
          ]
        },
        {
          "name": "stdout",
          "output_type": "stream",
          "text": [
            "412/412 [==============================] - 82s 198ms/step - loss: 0.9524 - accuracy: 0.5986 - val_loss: 0.9348 - val_accuracy: 0.6098\n",
            "Epoch 165/200\n",
            "412/412 [==============================] - ETA: 0s - loss: 0.9539 - accuracy: 0.5980"
          ]
        },
        {
          "name": "stderr",
          "output_type": "stream",
          "text": [
            " 82%|████████▎ | 165/200 [3:44:35<47:38, 81.66s/epoch, loss=0.954, accuracy=0.598, val_loss=0.931, val_accuracy=0.61]"
          ]
        },
        {
          "name": "stdout",
          "output_type": "stream",
          "text": [
            "412/412 [==============================] - 82s 198ms/step - loss: 0.9539 - accuracy: 0.5980 - val_loss: 0.9312 - val_accuracy: 0.6104\n",
            "Epoch 166/200\n",
            "412/412 [==============================] - ETA: 0s - loss: 0.9524 - accuracy: 0.5993"
          ]
        },
        {
          "name": "stderr",
          "output_type": "stream",
          "text": [
            " 83%|████████▎ | 166/200 [3:45:57<46:16, 81.67s/epoch, loss=0.952, accuracy=0.599, val_loss=0.933, val_accuracy=0.602]"
          ]
        },
        {
          "name": "stdout",
          "output_type": "stream",
          "text": [
            "412/412 [==============================] - 82s 198ms/step - loss: 0.9524 - accuracy: 0.5993 - val_loss: 0.9335 - val_accuracy: 0.6024\n",
            "Epoch 167/200\n",
            "412/412 [==============================] - ETA: 0s - loss: 0.9527 - accuracy: 0.6008"
          ]
        },
        {
          "name": "stderr",
          "output_type": "stream",
          "text": [
            " 84%|████████▎ | 167/200 [3:47:18<44:54, 81.64s/epoch, loss=0.953, accuracy=0.601, val_loss=0.932, val_accuracy=0.614]"
          ]
        },
        {
          "name": "stdout",
          "output_type": "stream",
          "text": [
            "412/412 [==============================] - 82s 198ms/step - loss: 0.9527 - accuracy: 0.6008 - val_loss: 0.9316 - val_accuracy: 0.6137\n",
            "Epoch 168/200\n",
            "412/412 [==============================] - ETA: 0s - loss: 0.9503 - accuracy: 0.5992"
          ]
        },
        {
          "name": "stderr",
          "output_type": "stream",
          "text": [
            " 84%|████████▍ | 168/200 [3:48:40<43:31, 81.62s/epoch, loss=0.95, accuracy=0.599, val_loss=0.937, val_accuracy=0.609] "
          ]
        },
        {
          "name": "stdout",
          "output_type": "stream",
          "text": [
            "412/412 [==============================] - 82s 198ms/step - loss: 0.9503 - accuracy: 0.5992 - val_loss: 0.9368 - val_accuracy: 0.6092\n",
            "Epoch 169/200\n",
            "412/412 [==============================] - ETA: 0s - loss: 0.9501 - accuracy: 0.6010"
          ]
        },
        {
          "name": "stderr",
          "output_type": "stream",
          "text": [
            " 84%|████████▍ | 169/200 [3:50:02<42:09, 81.61s/epoch, loss=0.95, accuracy=0.601, val_loss=0.932, val_accuracy=0.599]"
          ]
        },
        {
          "name": "stdout",
          "output_type": "stream",
          "text": [
            "412/412 [==============================] - 82s 198ms/step - loss: 0.9501 - accuracy: 0.6010 - val_loss: 0.9316 - val_accuracy: 0.5990\n",
            "Epoch 170/200\n",
            "412/412 [==============================] - ETA: 0s - loss: 0.9539 - accuracy: 0.5968"
          ]
        },
        {
          "name": "stderr",
          "output_type": "stream",
          "text": [
            " 85%|████████▌ | 170/200 [3:51:23<40:48, 81.60s/epoch, loss=0.954, accuracy=0.597, val_loss=0.932, val_accuracy=0.605]"
          ]
        },
        {
          "name": "stdout",
          "output_type": "stream",
          "text": [
            "412/412 [==============================] - 82s 198ms/step - loss: 0.9539 - accuracy: 0.5968 - val_loss: 0.9316 - val_accuracy: 0.6047\n",
            "Epoch 171/200\n",
            "412/412 [==============================] - ETA: 0s - loss: 0.9500 - accuracy: 0.5991"
          ]
        },
        {
          "name": "stderr",
          "output_type": "stream",
          "text": [
            " 86%|████████▌ | 171/200 [3:52:45<39:26, 81.60s/epoch, loss=0.95, accuracy=0.599, val_loss=0.925, val_accuracy=0.605] "
          ]
        },
        {
          "name": "stdout",
          "output_type": "stream",
          "text": [
            "412/412 [==============================] - 82s 198ms/step - loss: 0.9500 - accuracy: 0.5991 - val_loss: 0.9255 - val_accuracy: 0.6047\n",
            "Epoch 172/200\n",
            "412/412 [==============================] - ETA: 0s - loss: 0.9503 - accuracy: 0.5990"
          ]
        },
        {
          "name": "stderr",
          "output_type": "stream",
          "text": [
            " 86%|████████▌ | 172/200 [3:54:06<38:04, 81.59s/epoch, loss=0.95, accuracy=0.599, val_loss=0.932, val_accuracy=0.602]"
          ]
        },
        {
          "name": "stdout",
          "output_type": "stream",
          "text": [
            "412/412 [==============================] - 82s 198ms/step - loss: 0.9503 - accuracy: 0.5990 - val_loss: 0.9321 - val_accuracy: 0.6016\n",
            "Epoch 173/200\n",
            "412/412 [==============================] - ETA: 0s - loss: 0.9504 - accuracy: 0.6000"
          ]
        },
        {
          "name": "stderr",
          "output_type": "stream",
          "text": [
            " 86%|████████▋ | 173/200 [3:55:28<36:43, 81.60s/epoch, loss=0.95, accuracy=0.6, val_loss=0.93, val_accuracy=0.609]   "
          ]
        },
        {
          "name": "stdout",
          "output_type": "stream",
          "text": [
            "412/412 [==============================] - 82s 198ms/step - loss: 0.9504 - accuracy: 0.6000 - val_loss: 0.9305 - val_accuracy: 0.6093\n",
            "Epoch 174/200\n",
            "412/412 [==============================] - ETA: 0s - loss: 0.9476 - accuracy: 0.6014"
          ]
        },
        {
          "name": "stderr",
          "output_type": "stream",
          "text": [
            " 87%|████████▋ | 174/200 [3:56:50<35:21, 81.61s/epoch, loss=0.948, accuracy=0.601, val_loss=0.929, val_accuracy=0.614]"
          ]
        },
        {
          "name": "stdout",
          "output_type": "stream",
          "text": [
            "412/412 [==============================] - 82s 198ms/step - loss: 0.9476 - accuracy: 0.6014 - val_loss: 0.9286 - val_accuracy: 0.6142\n",
            "Epoch 175/200\n",
            "412/412 [==============================] - ETA: 0s - loss: 0.9513 - accuracy: 0.6003"
          ]
        },
        {
          "name": "stderr",
          "output_type": "stream",
          "text": [
            " 88%|████████▊ | 175/200 [3:58:11<34:00, 81.60s/epoch, loss=0.951, accuracy=0.6, val_loss=0.931, val_accuracy=0.605]  "
          ]
        },
        {
          "name": "stdout",
          "output_type": "stream",
          "text": [
            "412/412 [==============================] - 82s 198ms/step - loss: 0.9513 - accuracy: 0.6003 - val_loss: 0.9315 - val_accuracy: 0.6055\n",
            "Epoch 176/200\n",
            "412/412 [==============================] - ETA: 0s - loss: 0.9512 - accuracy: 0.6007"
          ]
        },
        {
          "name": "stderr",
          "output_type": "stream",
          "text": [
            " 88%|████████▊ | 176/200 [3:59:33<32:38, 81.60s/epoch, loss=0.951, accuracy=0.601, val_loss=0.93, val_accuracy=0.605]"
          ]
        },
        {
          "name": "stdout",
          "output_type": "stream",
          "text": [
            "412/412 [==============================] - 82s 198ms/step - loss: 0.9512 - accuracy: 0.6007 - val_loss: 0.9303 - val_accuracy: 0.6051\n",
            "Epoch 177/200\n",
            "412/412 [==============================] - ETA: 0s - loss: 0.9505 - accuracy: 0.5995"
          ]
        },
        {
          "name": "stderr",
          "output_type": "stream",
          "text": [
            " 88%|████████▊ | 177/200 [4:00:54<31:16, 81.60s/epoch, loss=0.951, accuracy=0.6, val_loss=0.929, val_accuracy=0.602] "
          ]
        },
        {
          "name": "stdout",
          "output_type": "stream",
          "text": [
            "412/412 [==============================] - 82s 198ms/step - loss: 0.9505 - accuracy: 0.5995 - val_loss: 0.9295 - val_accuracy: 0.6024\n",
            "Epoch 178/200\n",
            "412/412 [==============================] - ETA: 0s - loss: 0.9472 - accuracy: 0.6013"
          ]
        },
        {
          "name": "stderr",
          "output_type": "stream",
          "text": [
            " 89%|████████▉ | 178/200 [4:02:16<29:55, 81.61s/epoch, loss=0.947, accuracy=0.601, val_loss=0.932, val_accuracy=0.598]"
          ]
        },
        {
          "name": "stdout",
          "output_type": "stream",
          "text": [
            "412/412 [==============================] - 82s 198ms/step - loss: 0.9472 - accuracy: 0.6013 - val_loss: 0.9316 - val_accuracy: 0.5984\n",
            "Epoch 179/200\n",
            "412/412 [==============================] - ETA: 0s - loss: 0.9513 - accuracy: 0.6005"
          ]
        },
        {
          "name": "stderr",
          "output_type": "stream",
          "text": [
            " 90%|████████▉ | 179/200 [4:03:38<28:33, 81.61s/epoch, loss=0.951, accuracy=0.601, val_loss=0.929, val_accuracy=0.606]"
          ]
        },
        {
          "name": "stdout",
          "output_type": "stream",
          "text": [
            "412/412 [==============================] - 82s 198ms/step - loss: 0.9513 - accuracy: 0.6005 - val_loss: 0.9285 - val_accuracy: 0.6060\n",
            "Epoch 180/200\n",
            "412/412 [==============================] - ETA: 0s - loss: 0.9470 - accuracy: 0.5990"
          ]
        },
        {
          "name": "stderr",
          "output_type": "stream",
          "text": [
            " 90%|█████████ | 180/200 [4:04:59<27:12, 81.61s/epoch, loss=0.947, accuracy=0.599, val_loss=0.931, val_accuracy=0.6]  "
          ]
        },
        {
          "name": "stdout",
          "output_type": "stream",
          "text": [
            "412/412 [==============================] - 82s 198ms/step - loss: 0.9470 - accuracy: 0.5990 - val_loss: 0.9315 - val_accuracy: 0.6001\n",
            "Epoch 181/200\n",
            "412/412 [==============================] - ETA: 0s - loss: 0.9448 - accuracy: 0.6026"
          ]
        },
        {
          "name": "stderr",
          "output_type": "stream",
          "text": [
            " 90%|█████████ | 181/200 [4:06:21<25:50, 81.60s/epoch, loss=0.945, accuracy=0.603, val_loss=0.932, val_accuracy=0.612]"
          ]
        },
        {
          "name": "stdout",
          "output_type": "stream",
          "text": [
            "412/412 [==============================] - 82s 198ms/step - loss: 0.9448 - accuracy: 0.6026 - val_loss: 0.9319 - val_accuracy: 0.6122\n",
            "Epoch 182/200\n",
            "412/412 [==============================] - ETA: 0s - loss: 0.9471 - accuracy: 0.6007"
          ]
        },
        {
          "name": "stderr",
          "output_type": "stream",
          "text": [
            " 91%|█████████ | 182/200 [4:07:42<24:28, 81.60s/epoch, loss=0.947, accuracy=0.601, val_loss=0.93, val_accuracy=0.598] "
          ]
        },
        {
          "name": "stdout",
          "output_type": "stream",
          "text": [
            "412/412 [==============================] - 82s 198ms/step - loss: 0.9471 - accuracy: 0.6007 - val_loss: 0.9295 - val_accuracy: 0.5981\n",
            "Epoch 183/200\n",
            "412/412 [==============================] - ETA: 0s - loss: 0.9459 - accuracy: 0.5995"
          ]
        },
        {
          "name": "stderr",
          "output_type": "stream",
          "text": [
            " 92%|█████████▏| 183/200 [4:09:04<23:07, 81.60s/epoch, loss=0.946, accuracy=0.6, val_loss=0.932, val_accuracy=0.609] "
          ]
        },
        {
          "name": "stdout",
          "output_type": "stream",
          "text": [
            "412/412 [==============================] - 82s 198ms/step - loss: 0.9459 - accuracy: 0.5995 - val_loss: 0.9316 - val_accuracy: 0.6093\n",
            "Epoch 184/200\n",
            "412/412 [==============================] - ETA: 0s - loss: 0.9468 - accuracy: 0.6037"
          ]
        },
        {
          "name": "stderr",
          "output_type": "stream",
          "text": [
            " 92%|█████████▏| 184/200 [4:10:26<21:45, 81.60s/epoch, loss=0.947, accuracy=0.604, val_loss=0.929, val_accuracy=0.612]"
          ]
        },
        {
          "name": "stdout",
          "output_type": "stream",
          "text": [
            "412/412 [==============================] - 82s 198ms/step - loss: 0.9468 - accuracy: 0.6037 - val_loss: 0.9292 - val_accuracy: 0.6118\n",
            "Epoch 185/200\n",
            "412/412 [==============================] - ETA: 0s - loss: 0.9468 - accuracy: 0.6008"
          ]
        },
        {
          "name": "stderr",
          "output_type": "stream",
          "text": [
            " 92%|█████████▎| 185/200 [4:11:47<20:23, 81.60s/epoch, loss=0.947, accuracy=0.601, val_loss=0.931, val_accuracy=0.602]"
          ]
        },
        {
          "name": "stdout",
          "output_type": "stream",
          "text": [
            "412/412 [==============================] - 82s 198ms/step - loss: 0.9468 - accuracy: 0.6008 - val_loss: 0.9306 - val_accuracy: 0.6021\n",
            "Epoch 186/200\n",
            "412/412 [==============================] - ETA: 0s - loss: 0.9496 - accuracy: 0.6019"
          ]
        },
        {
          "name": "stderr",
          "output_type": "stream",
          "text": [
            " 93%|█████████▎| 186/200 [4:13:09<19:02, 81.59s/epoch, loss=0.95, accuracy=0.602, val_loss=0.926, val_accuracy=0.606] "
          ]
        },
        {
          "name": "stdout",
          "output_type": "stream",
          "text": [
            "412/412 [==============================] - 82s 198ms/step - loss: 0.9496 - accuracy: 0.6019 - val_loss: 0.9263 - val_accuracy: 0.6056\n",
            "Epoch 187/200\n",
            "412/412 [==============================] - ETA: 0s - loss: 0.9477 - accuracy: 0.5997"
          ]
        },
        {
          "name": "stderr",
          "output_type": "stream",
          "text": [
            " 94%|█████████▎| 187/200 [4:14:30<17:40, 81.60s/epoch, loss=0.948, accuracy=0.6, val_loss=0.924, val_accuracy=0.614] "
          ]
        },
        {
          "name": "stdout",
          "output_type": "stream",
          "text": [
            "412/412 [==============================] - 82s 198ms/step - loss: 0.9477 - accuracy: 0.5997 - val_loss: 0.9236 - val_accuracy: 0.6145\n",
            "Epoch 188/200\n",
            "412/412 [==============================] - ETA: 0s - loss: 0.9465 - accuracy: 0.6013"
          ]
        },
        {
          "name": "stderr",
          "output_type": "stream",
          "text": [
            " 94%|█████████▍| 188/200 [4:15:52<16:19, 81.60s/epoch, loss=0.947, accuracy=0.601, val_loss=0.93, val_accuracy=0.6] "
          ]
        },
        {
          "name": "stdout",
          "output_type": "stream",
          "text": [
            "412/412 [==============================] - 82s 198ms/step - loss: 0.9465 - accuracy: 0.6013 - val_loss: 0.9303 - val_accuracy: 0.5999\n",
            "Epoch 189/200\n",
            "412/412 [==============================] - ETA: 0s - loss: 0.9438 - accuracy: 0.6025"
          ]
        },
        {
          "name": "stderr",
          "output_type": "stream",
          "text": [
            " 94%|█████████▍| 189/200 [4:17:13<14:57, 81.59s/epoch, loss=0.944, accuracy=0.603, val_loss=0.922, val_accuracy=0.61]"
          ]
        },
        {
          "name": "stdout",
          "output_type": "stream",
          "text": [
            "412/412 [==============================] - 82s 198ms/step - loss: 0.9438 - accuracy: 0.6025 - val_loss: 0.9223 - val_accuracy: 0.6097\n",
            "Epoch 190/200\n",
            "412/412 [==============================] - ETA: 0s - loss: 0.9463 - accuracy: 0.6026"
          ]
        },
        {
          "name": "stderr",
          "output_type": "stream",
          "text": [
            " 95%|█████████▌| 190/200 [4:18:35<13:35, 81.59s/epoch, loss=0.946, accuracy=0.603, val_loss=0.923, val_accuracy=0.616]"
          ]
        },
        {
          "name": "stdout",
          "output_type": "stream",
          "text": [
            "412/412 [==============================] - 82s 198ms/step - loss: 0.9463 - accuracy: 0.6026 - val_loss: 0.9228 - val_accuracy: 0.6155\n",
            "Epoch 191/200\n",
            "412/412 [==============================] - ETA: 0s - loss: 0.9439 - accuracy: 0.6031"
          ]
        },
        {
          "name": "stderr",
          "output_type": "stream",
          "text": [
            " 96%|█████████▌| 191/200 [4:19:57<12:14, 81.59s/epoch, loss=0.944, accuracy=0.603, val_loss=0.922, val_accuracy=0.61] "
          ]
        },
        {
          "name": "stdout",
          "output_type": "stream",
          "text": [
            "412/412 [==============================] - 82s 198ms/step - loss: 0.9439 - accuracy: 0.6031 - val_loss: 0.9223 - val_accuracy: 0.6104\n",
            "Epoch 192/200\n",
            "412/412 [==============================] - ETA: 0s - loss: 0.9470 - accuracy: 0.6046"
          ]
        },
        {
          "name": "stderr",
          "output_type": "stream",
          "text": [
            " 96%|█████████▌| 192/200 [4:21:18<10:52, 81.59s/epoch, loss=0.947, accuracy=0.605, val_loss=0.924, val_accuracy=0.611]"
          ]
        },
        {
          "name": "stdout",
          "output_type": "stream",
          "text": [
            "412/412 [==============================] - 82s 198ms/step - loss: 0.9470 - accuracy: 0.6046 - val_loss: 0.9243 - val_accuracy: 0.6106\n",
            "Epoch 193/200\n",
            "412/412 [==============================] - ETA: 0s - loss: 0.9457 - accuracy: 0.6024"
          ]
        },
        {
          "name": "stderr",
          "output_type": "stream",
          "text": [
            " 96%|█████████▋| 193/200 [4:22:40<09:31, 81.59s/epoch, loss=0.946, accuracy=0.602, val_loss=0.93, val_accuracy=0.603] "
          ]
        },
        {
          "name": "stdout",
          "output_type": "stream",
          "text": [
            "412/412 [==============================] - 82s 198ms/step - loss: 0.9457 - accuracy: 0.6024 - val_loss: 0.9296 - val_accuracy: 0.6034\n",
            "Epoch 194/200\n",
            "412/412 [==============================] - ETA: 0s - loss: 0.9420 - accuracy: 0.6034"
          ]
        },
        {
          "name": "stderr",
          "output_type": "stream",
          "text": [
            " 97%|█████████▋| 194/200 [4:24:01<08:09, 81.59s/epoch, loss=0.942, accuracy=0.603, val_loss=0.927, val_accuracy=0.612]"
          ]
        },
        {
          "name": "stdout",
          "output_type": "stream",
          "text": [
            "412/412 [==============================] - 82s 198ms/step - loss: 0.9420 - accuracy: 0.6034 - val_loss: 0.9269 - val_accuracy: 0.6120\n",
            "Epoch 195/200\n",
            "412/412 [==============================] - ETA: 0s - loss: 0.9484 - accuracy: 0.6011"
          ]
        },
        {
          "name": "stderr",
          "output_type": "stream",
          "text": [
            " 98%|█████████▊| 195/200 [4:25:23<06:48, 81.61s/epoch, loss=0.948, accuracy=0.601, val_loss=0.934, val_accuracy=0.602]"
          ]
        },
        {
          "name": "stdout",
          "output_type": "stream",
          "text": [
            "412/412 [==============================] - 82s 198ms/step - loss: 0.9484 - accuracy: 0.6011 - val_loss: 0.9339 - val_accuracy: 0.6024\n",
            "Epoch 196/200\n",
            "412/412 [==============================] - ETA: 0s - loss: 0.9455 - accuracy: 0.6041"
          ]
        },
        {
          "name": "stderr",
          "output_type": "stream",
          "text": [
            " 98%|█████████▊| 196/200 [4:26:45<05:26, 81.61s/epoch, loss=0.946, accuracy=0.604, val_loss=0.927, val_accuracy=0.605]"
          ]
        },
        {
          "name": "stdout",
          "output_type": "stream",
          "text": [
            "412/412 [==============================] - 82s 198ms/step - loss: 0.9455 - accuracy: 0.6041 - val_loss: 0.9266 - val_accuracy: 0.6055\n",
            "Epoch 197/200\n",
            "412/412 [==============================] - ETA: 0s - loss: 0.9396 - accuracy: 0.6043"
          ]
        },
        {
          "name": "stderr",
          "output_type": "stream",
          "text": [
            " 98%|█████████▊| 197/200 [4:28:06<04:04, 81.61s/epoch, loss=0.94, accuracy=0.604, val_loss=0.925, val_accuracy=0.605] "
          ]
        },
        {
          "name": "stdout",
          "output_type": "stream",
          "text": [
            "412/412 [==============================] - 82s 198ms/step - loss: 0.9396 - accuracy: 0.6043 - val_loss: 0.9246 - val_accuracy: 0.6048\n",
            "Epoch 198/200\n",
            "412/412 [==============================] - ETA: 0s - loss: 0.9421 - accuracy: 0.6041"
          ]
        },
        {
          "name": "stderr",
          "output_type": "stream",
          "text": [
            " 99%|█████████▉| 198/200 [4:29:28<02:43, 81.60s/epoch, loss=0.942, accuracy=0.604, val_loss=0.925, val_accuracy=0.613]"
          ]
        },
        {
          "name": "stdout",
          "output_type": "stream",
          "text": [
            "412/412 [==============================] - 82s 198ms/step - loss: 0.9421 - accuracy: 0.6041 - val_loss: 0.9247 - val_accuracy: 0.6127\n",
            "Epoch 199/200\n",
            "412/412 [==============================] - ETA: 0s - loss: 0.9406 - accuracy: 0.6034"
          ]
        },
        {
          "name": "stderr",
          "output_type": "stream",
          "text": [
            "100%|█████████▉| 199/200 [4:30:49<01:21, 81.60s/epoch, loss=0.941, accuracy=0.603, val_loss=0.925, val_accuracy=0.607]"
          ]
        },
        {
          "name": "stdout",
          "output_type": "stream",
          "text": [
            "412/412 [==============================] - 82s 198ms/step - loss: 0.9406 - accuracy: 0.6034 - val_loss: 0.9253 - val_accuracy: 0.6074\n",
            "Epoch 200/200\n",
            "412/412 [==============================] - ETA: 0s - loss: 0.9439 - accuracy: 0.6028"
          ]
        },
        {
          "name": "stderr",
          "output_type": "stream",
          "text": [
            "100%|██████████| 200/200 [4:32:11<00:00, 81.59s/epoch, loss=0.944, accuracy=0.603, val_loss=0.922, val_accuracy=0.614]"
          ]
        },
        {
          "name": "stdout",
          "output_type": "stream",
          "text": [
            "412/412 [==============================] - 82s 198ms/step - loss: 0.9439 - accuracy: 0.6028 - val_loss: 0.9220 - val_accuracy: 0.6140\n"
          ]
        },
        {
          "name": "stderr",
          "output_type": "stream",
          "text": [
            "100%|██████████| 200/200 [4:32:11<00:00, 81.66s/epoch, loss=0.944, accuracy=0.603, val_loss=0.922, val_accuracy=0.614]\n"
          ]
        }
      ],
      "source": [
        "EPOCHS = 200\n",
        "batchSize = 96\n",
        "\n",
        "layers = 2\n",
        "nodes_arr = [256] # [128, 256] #128\n",
        "denseNodes = 128\n",
        "\n",
        "dropOut_arr = [0.9]#[0.5, 0.75, 0.9] #0.88 0.66\n",
        "rec_dropout = 0\n",
        "l1l2_reg_arr = [5e-4, 1e-5]#1e-3 #1e-6\n",
        "\n",
        "learningRate = 0.00001\n",
        "decay = 1e-06 #1e-06\n",
        "\n",
        "for nodes in nodes_arr:\n",
        "   for dropOut in dropOut_arr:\n",
        "      for l1l2_reg in l1l2_reg_arr:\n",
        "\n",
        "\n",
        "\n",
        "        hp_suffix = f\"bs({batchSize})_layers({layers})_noded({nodes})_dNodes({denseNodes})_do({int(dropOut*100)}%)_recdo({rec_dropout})_l1l2({l1l2_reg})_lr({learningRate})_decay({decay})\"\n",
        "\n",
        "\n",
        "\n",
        "        # model\n",
        "        model = Sequential()\n",
        "\n",
        "        for _ in range(layers-1):\n",
        "          model.add(Bidirectional(LSTM(nodes, \n",
        "                                       activation=\"tanh\", \n",
        "                                       recurrent_activation = 'sigmoid', \n",
        "                                       recurrent_dropout = rec_dropout, \n",
        "                                       unroll = False, \n",
        "                                       use_bias = True, \n",
        "                                       input_shape=(train_x.shape[1:]), \n",
        "                                       return_sequences=True,\n",
        "                                       kernel_regularizer=regularizers.l1_l2(l1=l1l2_reg/10, l2=l1l2_reg),\n",
        "                                       #bias_regularizer=regularizers.l2(l1l2_reg),\n",
        "                                       activity_regularizer=regularizers.l2(l1l2_reg)\n",
        "                                       )))\n",
        "          model.add(Dropout(dropOut))\n",
        "          #model.add(BatchNormalization())\n",
        "\n",
        "        model.add(Bidirectional(LSTM(nodes, \n",
        "                                     activation=\"tanh\", \n",
        "                                     recurrent_activation = 'sigmoid', \n",
        "                                     recurrent_dropout = rec_dropout, \n",
        "                                     unroll = False, \n",
        "                                     use_bias = True, \n",
        "                                     input_shape=(train_x.shape[1:]),\n",
        "                                     kernel_regularizer=regularizers.l1_l2(l1=l1l2_reg/10, l2=l1l2_reg),\n",
        "                                     #bias_regularizer=regularizers.l2(l1l2_reg),\n",
        "                                     activity_regularizer=regularizers.l2(l1l2_reg)\n",
        "                                     )))\n",
        "        model.add(Dropout(dropOut))\n",
        "        #model.add(BatchNormalization())\n",
        "\n",
        "        model.add(Dense(denseNodes, \n",
        "                        activation=\"relu\",\n",
        "                        kernel_regularizer=regularizers.l1_l2(l1=l1l2_reg/10, l2=l1l2_reg),\n",
        "                        #bias_regularizer=regularizers.l2(l1l2_reg), \n",
        "                        activity_regularizer=regularizers.l2(l1l2_reg)))\n",
        "        model.add(Dropout(dropOut))\n",
        "\n",
        "        model.add(Dense(3, activation=\"softmax\"))\n",
        "\n",
        "\n",
        "\n",
        "        # opt  \n",
        "        opt = tf.keras.optimizers.Adam(lr=learningRate) # decay?\n",
        "\n",
        "\n",
        "        model.compile(loss=\"sparse_categorical_crossentropy\",\n",
        "                      optimizer = opt,\n",
        "                      metrics=[\"accuracy\"])\n",
        "\n",
        "\n",
        "        filename = \"bi_\" + NAME + \"-{epoch:02d}\"\n",
        "        filepath = f\"models/{filename}.h5\"\n",
        "        checkpoint = ModelCheckpoint(filepath, monitor='val_loss', verbose=0, save_best_only=False, save_weights_only=False, mode='auto', period=1) # saves every epoch\n",
        "\n",
        "        # Prepare TensorBoard callback\n",
        "        log_dir = f\"logs/fit/bi_{NAME}\" + datetime.datetime.now().strftime(\"%Y%m%d-%H%M%S\")\n",
        "        tensorboard_callback = TensorBoard(log_dir=log_dir, histogram_freq=1)\n",
        "\n",
        "\n",
        "        # store hyper-parameters\n",
        "        # Path to the JSON file\n",
        "        file_path = \"models/hps/hps.json\"\n",
        "        # Load the JSON file into a dictionary\n",
        "        with open(file_path, \"r\") as json_file:\n",
        "            data = json.load(json_file)\n",
        "        # Add a new key-value pair to the dictionary\n",
        "        data[f\"{NAME}\" + datetime.datetime.now().strftime(\"%Y%m%d-%H%M%S\")] = hp_suffix\n",
        "        # Write the updated dictionary back to the file\n",
        "        with open(file_path, \"w\") as json_file:\n",
        "            json.dump(data, json_file, indent=4)\n",
        "\n",
        "\n",
        "\n",
        "\n",
        "        # train\n",
        "        history = model.fit(\n",
        "          train_x, train_y,\n",
        "          batch_size = batchSize,\n",
        "          epochs = EPOCHS,\n",
        "          validation_data=(validation_x, validation_y),\n",
        "          callbacks=[checkpoint, TqdmCallback(verbose=0), tensorboard_callback])\n",
        "          #callbacks=[checkpoint])"
      ]
    }
  ],
  "metadata": {
    "accelerator": "GPU",
    "colab": {
      "collapsed_sections": [],
      "machine_shape": "hm",
      "name": "modelTrainPreClassified.ipynb",
      "provenance": []
    },
    "kernelspec": {
      "display_name": "Python 3",
      "name": "python3"
    },
    "language_info": {
      "codemirror_mode": {
        "name": "ipython",
        "version": 3
      },
      "file_extension": ".py",
      "mimetype": "text/x-python",
      "name": "python",
      "nbconvert_exporter": "python",
      "pygments_lexer": "ipython3",
      "version": "3.10.12"
    }
  },
  "nbformat": 4,
  "nbformat_minor": 0
}
