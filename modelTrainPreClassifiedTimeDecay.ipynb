{
  "cells": [
    {
      "attachments": {},
      "cell_type": "markdown",
      "metadata": {
        "id": "M7KYj8EtoPxZ"
      },
      "source": [
        "# Constants:"
      ]
    },
    {
      "cell_type": "code",
      "execution_count": 1,
      "metadata": {
        "id": "ZsusFSopoVfn"
      },
      "outputs": [],
      "source": [
        "SEQ_LEN = 60   # how many past candles to use to predict\n",
        "CANDLES_SHIFT = 1 # how many candles to shift between sequences\n",
        "NAME = \"decay_seq60_ov40th004\"\n",
        "VALIDATION_PCT = 0.2"
      ]
    },
    {
      "attachments": {},
      "cell_type": "markdown",
      "metadata": {
        "id": "Zspc4aD1juaP"
      },
      "source": [
        "DF initialisation:"
      ]
    },
    {
      "cell_type": "code",
      "execution_count": 1,
      "metadata": {
        "colab": {
          "base_uri": "https://localhost:8080/",
          "height": 402
        },
        "id": "KfSNaRUgirE3",
        "outputId": "e9f3c791-099e-496a-9b0d-7aa70dfe4a48"
      },
      "outputs": [
        {
          "name": "stdout",
          "output_type": "stream",
          "text": [
            "         timestamp  BTC_close   BTC_low  BTC_high  BTC_volume  BTC_average  \\\n",
            "0       1467331500     670.90    668.00    670.90     7182.07       668.56   \n",
            "1       1467331800     667.95    667.95    670.90     6205.90       670.89   \n",
            "2       1467332100     671.67    670.95    672.99     6725.32       670.95   \n",
            "3       1467332400     671.67    671.67    673.50      212.53       672.25   \n",
            "4       1467332700     673.00    673.00    673.00      484.56       673.00   \n",
            "...            ...        ...       ...       ...         ...          ...   \n",
            "710104  1680362400   28423.92  28416.67  28440.89     4032.00     28424.22   \n",
            "710105  1680362700   28402.64  28401.90  28426.65     1226.36     28409.15   \n",
            "710106  1680363000   28418.48  28403.11  28418.48     4559.18     28406.68   \n",
            "710107  1680363300   28412.62  28407.49  28422.84      388.83     28413.01   \n",
            "710108  1680363600   28422.07  28384.76  28422.09      306.02     28407.02   \n",
            "\n",
            "        BTC_HLPercent  target  timescale  \n",
            "0            0.004323       2        300  \n",
            "1            0.004397       2        300  \n",
            "2            0.003031       2        300  \n",
            "3            0.002717       2        300  \n",
            "4            0.000000       2        300  \n",
            "...               ...     ...        ...  \n",
            "710104       0.000852       0        300  \n",
            "710105       0.000871       0        300  \n",
            "710106       0.000541       0        300  \n",
            "710107       0.000540       0        300  \n",
            "710108       0.001313       0        300  \n",
            "\n",
            "[710109 rows x 9 columns]\n"
          ]
        }
      ],
      "source": [
        "import pandas as pd\n",
        "\n",
        "df_300_classified = pd.read_csv(\"data/aligned/HistoricalDataClassified_2016_2023_300_ov40_th04.csv\")\n",
        "df_900 = pd.read_csv(\"data/aligned/HistoricalData_2016_2023_900.csv\")\n",
        "df_3600 = pd.read_csv(\"data/aligned/HistoricalData_2016_2023_3600.csv\")\n",
        "df_21600 = pd.read_csv(\"data/aligned/HistoricalData_2016_2023_21600.csv\")\n",
        "\n",
        "\n",
        "df_300_classified[\"timescale\"] = 300\n",
        "df_900[\"timescale\"] = 900\n",
        "df_3600[\"timescale\"] = 3600\n",
        "df_21600[\"timescale\"] = 21600\n",
        "\n",
        "print(df_300_classified)"
      ]
    },
    {
      "attachments": {},
      "cell_type": "markdown",
      "metadata": {
        "id": "oSqPTNz-m5fo"
      },
      "source": [
        "# Functions:"
      ]
    },
    {
      "attachments": {},
      "cell_type": "markdown",
      "metadata": {
        "id": "1V8NN17CqWGA"
      },
      "source": [
        "compose sequences df"
      ]
    },
    {
      "cell_type": "code",
      "execution_count": null,
      "metadata": {},
      "outputs": [],
      "source": []
    },
    {
      "attachments": {},
      "cell_type": "markdown",
      "metadata": {
        "id": "v84s4MzlrJex"
      },
      "source": [
        "balance"
      ]
    },
    {
      "cell_type": "code",
      "execution_count": 5,
      "metadata": {
        "id": "Hddt3uD8rLYE"
      },
      "outputs": [],
      "source": [
        "def balance(dfs):\n",
        "    \n",
        "    buys = []\n",
        "    sells = []\n",
        "    holds = []\n",
        "    for df in dfs:\n",
        "        if df.at[len(df)-1, 'target'] == 0:\n",
        "            sells.append(df)\n",
        "        elif df.at[len(df)-1, 'target'] == 1:\n",
        "            buys.append(df)\n",
        "        else:\n",
        "          holds.append(df)\n",
        "\n",
        "    print(\"before balancing:\")\n",
        "    print(\"buys:\", len(buys), \", sells:\", len(sells), \", holds:\", len(holds))\n",
        "\n",
        "    smallest = min(len(buys), len(sells), len(holds))\n",
        "    buys = buys[:smallest]\n",
        "    sells = sells[:smallest]\n",
        "    holds = holds[:smallest]\n",
        "\n",
        "    dfsBalanced = buys+sells+holds\n",
        "    return dfsBalanced"
      ]
    },
    {
      "attachments": {},
      "cell_type": "markdown",
      "metadata": {
        "id": "puLrLHQCr2IF"
      },
      "source": [
        "preprocessing"
      ]
    },
    {
      "cell_type": "code",
      "execution_count": 6,
      "metadata": {},
      "outputs": [],
      "source": [
        "import numpy as np\n",
        "\n",
        "def new_preprocess(df):\n",
        "\n",
        "    for col in [\"BTC_close\", \"BTC_low\", \"BTC_high\", \"BTC_average\"]:\n",
        "        #print(col)\n",
        "        df[col] = np.log(df[col])\n",
        "        df[col] = df[col].pct_change()\n",
        "        df.dropna(inplace=True)\n",
        "        #mean = np.mean(df[col])\n",
        "        mean = 0.00000068\n",
        "        #std = np.std(df[col])\n",
        "        std = 0.00028\n",
        "        #print(\"mean:\", mean, \", std:\", std)\n",
        "        df[col] = (df[col] - mean) / std\n",
        "    \n",
        "    \n",
        "    df[\"BTC_volume\"] = df[\"BTC_volume\"].replace(0, 1)\n",
        "    df[\"BTC_volume\"] = np.log(df[\"BTC_volume\"])\n",
        "    #df[\"BTC_volume\"] = df[\"BTC_volume\"].pct_change()   # taking the pct change somehow makes it worse\n",
        "    #df.dropna(inplace=True)                            # taking the pct change somehow makes it worse\n",
        "    #mean = np.mean(df[\"BTC_volume\"])\n",
        "    mean = 9.3\n",
        "    #std = np.std(df[\"BTC_volume\"])\n",
        "    std = 2.82\n",
        "    #print(\"mean:\", mean, \", std:\", std)\n",
        "    df[\"BTC_volume\"] = (df[\"BTC_volume\"] - mean) / std\n",
        "\n",
        "\n",
        "    #mean = np.mean(df[\"BTC_HLPercent\"])\n",
        "    mean = 0.0027\n",
        "    #std = np.std(df[\"BTC_HLPercent\"])\n",
        "    std = 0.0032\n",
        "    #print(\"mean:\", mean, \", std:\", std)\n",
        "    df[\"BTC_HLPercent\"] = (df[\"BTC_HLPercent\"] - mean) / std\n",
        "\n",
        "\n",
        "    return df"
      ]
    },
    {
      "attachments": {},
      "cell_type": "markdown",
      "metadata": {
        "id": "Mtk_1EDotEdd"
      },
      "source": [
        "sequences"
      ]
    },
    {
      "cell_type": "code",
      "execution_count": 7,
      "metadata": {
        "id": "U4r2br77tGf-"
      },
      "outputs": [],
      "source": [
        "def buildSequences(dfs):\n",
        "    \n",
        "    sequences = []\n",
        "    for df in dfs:\n",
        "        if(len(df) == SEQ_LEN):\n",
        "            label = df.at[SEQ_LEN-1, 'target']\n",
        "            df = df.iloc[:, :-1]\n",
        "            dfArray = df.values.tolist()\n",
        "            sequences.append([np.array(dfArray), label])\n",
        "    \n",
        "    return sequences"
      ]
    },
    {
      "attachments": {},
      "cell_type": "markdown",
      "metadata": {
        "id": "Dd640LH1tix2"
      },
      "source": [
        "X y split"
      ]
    },
    {
      "cell_type": "code",
      "execution_count": 8,
      "metadata": {
        "id": "4-HIbtKAtj-0"
      },
      "outputs": [],
      "source": [
        "def split(seqWithTarget):\n",
        "\n",
        "    X = []\n",
        "    y = []\n",
        "    for seq, target in seqWithTarget:\n",
        "        X.append(seq)\n",
        "        y.append(target)\n",
        "\n",
        "    return np.array(X),np.array(y)"
      ]
    },
    {
      "attachments": {},
      "cell_type": "markdown",
      "metadata": {
        "id": "bBfc_4lKnYpv"
      },
      "source": [
        "# DF manipulation, build training sets:"
      ]
    },
    {
      "cell_type": "code",
      "execution_count": 9,
      "metadata": {},
      "outputs": [
        {
          "name": "stdout",
          "output_type": "stream",
          "text": [
            "        BTC_close   BTC_low  BTC_high  BTC_volume  BTC_average  BTC_HLPercent  \\\n",
            "4       -0.002429 -0.002429 -0.002429   -3.297872    -0.002429       1.481399   \n",
            "5       -0.002429 -0.002429 -0.002429   -3.297872    -0.002429       1.481399   \n",
            "6       -0.002429 -0.002429 -0.002429   -3.297872    -0.002429       1.481399   \n",
            "7        0.376210  0.252769 -1.637556   -0.842769    -2.596816       0.410914   \n",
            "8        2.083405  2.206908  0.816119   -0.129185     1.235813      -0.378027   \n",
            "...           ...       ...       ...         ...          ...            ...   \n",
            "711758  -0.205381  0.253832  0.002469   -0.353894     0.335073      -0.577628   \n",
            "711759  -0.263258 -0.183495 -0.176833   -0.775955    -0.187120      -0.571668   \n",
            "711760   0.191756  0.012409 -0.102535   -0.310320    -0.032711      -0.674736   \n",
            "711761  -0.074250  0.051276  0.050999   -1.183283     0.075172      -0.674982   \n",
            "711762   0.113388 -0.281215 -0.011618   -1.268209    -0.075859      -0.433308   \n",
            "\n",
            "        target  \n",
            "4            2  \n",
            "5            2  \n",
            "6            2  \n",
            "7            2  \n",
            "8            2  \n",
            "...        ...  \n",
            "711758       0  \n",
            "711759       0  \n",
            "711760       0  \n",
            "711761       0  \n",
            "711762       0  \n",
            "\n",
            "[711759 rows x 7 columns]\n"
          ]
        }
      ],
      "source": [
        "# new preprocessing before splitting\n",
        "\n",
        "df_preprocessed = new_preprocess(main_df)\n",
        "print(df_preprocessed)"
      ]
    },
    {
      "attachments": {},
      "cell_type": "markdown",
      "metadata": {
        "id": "9h5xSZxbqNsz"
      },
      "source": [
        "split into dfs with SEQ_LEN rows"
      ]
    },
    {
      "cell_type": "code",
      "execution_count": 10,
      "metadata": {
        "colab": {
          "base_uri": "https://localhost:8080/"
        },
        "id": "31jTXjddn04r",
        "outputId": "125ce716-fa5f-4839-fabe-15765768da3e"
      },
      "outputs": [
        {
          "name": "stdout",
          "output_type": "stream",
          "text": [
            "\n",
            "splitDf\n",
            "-done\n",
            "\n"
          ]
        }
      ],
      "source": [
        "import numpy as np\n",
        "#splittedDfs = splitDf(main_df)\n",
        "splittedDfs = splitDf_new(main_df)"
      ]
    },
    {
      "attachments": {},
      "cell_type": "markdown",
      "metadata": {
        "id": "CdP3PNKHquOk"
      },
      "source": [
        "seperate training and validation"
      ]
    },
    {
      "cell_type": "code",
      "execution_count": 11,
      "metadata": {
        "id": "NlwWOLZVqudy"
      },
      "outputs": [],
      "source": [
        "dfsTraining = splittedDfs[:(int(len(splittedDfs) * (1-VALIDATION_PCT)))].copy()\n",
        "dfsValidation = splittedDfs[(int(len(splittedDfs) * (1-VALIDATION_PCT))):].copy()"
      ]
    },
    {
      "attachments": {},
      "cell_type": "markdown",
      "metadata": {
        "id": "CU3bhQJtq1ft"
      },
      "source": [
        "shuffle"
      ]
    },
    {
      "cell_type": "code",
      "execution_count": 12,
      "metadata": {
        "id": "rhEBABokq1-I"
      },
      "outputs": [],
      "source": [
        "import random\n",
        "\n",
        "random.shuffle(dfsTraining)\n",
        "random.shuffle(dfsValidation)"
      ]
    },
    {
      "attachments": {},
      "cell_type": "markdown",
      "metadata": {
        "id": "Lo4KSJOxrAN0"
      },
      "source": [
        "balance buys/sells/holds"
      ]
    },
    {
      "cell_type": "code",
      "execution_count": 13,
      "metadata": {
        "colab": {
          "base_uri": "https://localhost:8080/"
        },
        "id": "GM9MzjVkq2i6",
        "outputId": "0923e1ea-7878-416b-f773-04e1ccdd4df1"
      },
      "outputs": [
        {
          "name": "stdout",
          "output_type": "stream",
          "text": [
            "before balancing:\n",
            "buys: 69791 , sells: 65907 , holds: 433310\n",
            "before balancing:\n",
            "buys: 13178 , sells: 13263 , holds: 115811\n"
          ]
        }
      ],
      "source": [
        "dfsTrainingBalanced = balance(dfsTraining)\n",
        "dfsValidationBalanced = balance(dfsValidation) # balance(dfsValidation) , validation data does not have to be balanced   "
      ]
    },
    {
      "attachments": {},
      "cell_type": "markdown",
      "metadata": {
        "id": "lmvWD-1bBYVH"
      },
      "source": [
        "shuffle"
      ]
    },
    {
      "cell_type": "code",
      "execution_count": 14,
      "metadata": {
        "id": "oRUhvptlAiVi"
      },
      "outputs": [],
      "source": [
        "random.shuffle(dfsTrainingBalanced)\n",
        "random.shuffle(dfsValidationBalanced)"
      ]
    },
    {
      "attachments": {},
      "cell_type": "markdown",
      "metadata": {
        "id": "r-mePis4rxA1"
      },
      "source": [
        "preprocessing"
      ]
    },
    {
      "cell_type": "code",
      "execution_count": 43,
      "metadata": {
        "colab": {
          "background_save": true,
          "base_uri": "https://localhost:8080/"
        },
        "id": "PN1lDbSsryQj",
        "outputId": "7089db30-6128-4c3f-a817-c7cc46f93253"
      },
      "outputs": [],
      "source": [
        "#dfsTrainingPreprocessed = preprocess(dfsTrainingBalanced)\n",
        "#dfsValidationPreprocessed = preprocess(dfsValidationBalanced)"
      ]
    },
    {
      "attachments": {},
      "cell_type": "markdown",
      "metadata": {
        "id": "JleCIrlUs98K"
      },
      "source": [
        "build sequences"
      ]
    },
    {
      "cell_type": "code",
      "execution_count": 15,
      "metadata": {
        "colab": {
          "background_save": true
        },
        "id": "GToeQJ4Us_ll"
      },
      "outputs": [],
      "source": [
        "#sequencesTraining = buildSequences(dfsTrainingPreprocessed)\n",
        "#sequencesValidation = buildSequences(dfsValidationPreprocessed)\n",
        "sequencesTraining = buildSequences(dfsTrainingBalanced)\n",
        "sequencesValidation = buildSequences(dfsValidationBalanced)"
      ]
    },
    {
      "attachments": {},
      "cell_type": "markdown",
      "metadata": {
        "id": "ab82NbyHtU_L"
      },
      "source": [
        "shuffle"
      ]
    },
    {
      "cell_type": "code",
      "execution_count": 16,
      "metadata": {
        "colab": {
          "background_save": true
        },
        "id": "uGMjf2k4tV2n"
      },
      "outputs": [],
      "source": [
        "random.shuffle(sequencesTraining)\n",
        "random.shuffle(sequencesValidation)"
      ]
    },
    {
      "attachments": {},
      "cell_type": "markdown",
      "metadata": {
        "id": "G-ygYD9gtbMx"
      },
      "source": [
        "split sequence from label"
      ]
    },
    {
      "cell_type": "code",
      "execution_count": 17,
      "metadata": {
        "colab": {
          "background_save": true
        },
        "id": "3Cnkgt0utXt1"
      },
      "outputs": [],
      "source": [
        "train_x, train_y = split(sequencesTraining)\n",
        "validation_x, validation_y = split(sequencesValidation)"
      ]
    },
    {
      "cell_type": "code",
      "execution_count": 21,
      "metadata": {},
      "outputs": [
        {
          "name": "stdout",
          "output_type": "stream",
          "text": [
            "[[ 0.91136879  0.45031128  0.62217201 -0.11895851  0.23733937 -0.32841442]\n",
            " [ 0.22624879  0.52021516  0.23093835  0.1606478   0.74183958 -0.5360634 ]\n",
            " [-0.23578307 -0.58375053 -0.00594551  0.48329493 -0.06223915 -0.12131287]\n",
            " ...\n",
            " [-2.08518304 -2.00941311 -0.51880486  0.61353161 -1.34881858  0.66544726]\n",
            " [ 3.89597751  0.22294648  1.95445731  0.38947661 -0.15769953  1.91467241]\n",
            " [-0.9875773   2.28206724  1.03308996  0.51533883  3.5612343   1.0154201 ]]\n"
          ]
        }
      ],
      "source": [
        "print(train_x[0])"
      ]
    },
    {
      "cell_type": "code",
      "execution_count": 22,
      "metadata": {},
      "outputs": [],
      "source": [
        "import pickle\n",
        "\n",
        "with open(f'data/pkl/{NAME}_train_x.pkl', 'wb') as file:\n",
        "    pickle.dump(train_x, file)\n",
        "with open(f'data/pkl/{NAME}_train_y.pkl', 'wb') as file:\n",
        "    pickle.dump(train_y, file)\n",
        "with open(f'data/pkl/{NAME}_validation_x.pkl', 'wb') as file:\n",
        "    pickle.dump(validation_x, file)\n",
        "with open(f'data/pkl/{NAME}_validation_y.pkl', 'wb') as file:\n",
        "    pickle.dump(validation_y, file)"
      ]
    },
    {
      "cell_type": "code",
      "execution_count": 2,
      "metadata": {},
      "outputs": [],
      "source": [
        "import pickle\n",
        "\n",
        "with open(f\"data/pkl/{NAME}_train_x.pkl\", \"rb\") as file:\n",
        "    train_x = pickle.load(file)\n",
        "with open(f\"data/pkl/{NAME}_train_y.pkl\", \"rb\") as file:\n",
        "    train_y = pickle.load(file)\n",
        "with open(f\"data/pkl/{NAME}_validation_x.pkl\", \"rb\") as file:\n",
        "    validation_x = pickle.load(file)\n",
        "with open(f\"data/pkl/{NAME}_validation_y.pkl\", \"rb\") as file:\n",
        "    validation_y = pickle.load(file)"
      ]
    },
    {
      "attachments": {},
      "cell_type": "markdown",
      "metadata": {
        "id": "LXt32q1Tt39k"
      },
      "source": [
        "# Model:"
      ]
    },
    {
      "cell_type": "code",
      "execution_count": 3,
      "metadata": {},
      "outputs": [
        {
          "name": "stdout",
          "output_type": "stream",
          "text": [
            "Num GPUs Available:  1\n"
          ]
        }
      ],
      "source": [
        "import tensorflow as tf\n",
        "print(\"Num GPUs Available: \", len(tf.config.experimental.list_physical_devices('GPU')))\n"
      ]
    },
    {
      "attachments": {},
      "cell_type": "markdown",
      "metadata": {
        "id": "QNzTVj7Ue8Vg"
      },
      "source": [
        "hyper parameters bounds"
      ]
    },
    {
      "cell_type": "code",
      "execution_count": 4,
      "metadata": {
        "colab": {
          "background_save": true
        },
        "id": "mXBNmip7e7or"
      },
      "outputs": [],
      "source": [
        "EPOCHS = 50\n",
        "\n",
        "batchSize = 32\n",
        "layers = 2\n",
        "nodes = 256\n",
        "denseNodes = 128\n",
        "dropOut = 0.8\n",
        "learningRate = 0.0001\n",
        "decay = 1e-06\n"
      ]
    },
    {
      "cell_type": "code",
      "execution_count": 5,
      "metadata": {
        "id": "XYo0LRjEg2m4"
      },
      "outputs": [
        {
          "name": "stdout",
          "output_type": "stream",
          "text": [
            "WARNING:tensorflow:`period` argument is deprecated. Please use `save_freq` to specify the frequency in number of batches seen.\n"
          ]
        },
        {
          "name": "stderr",
          "output_type": "stream",
          "text": [
            "c:\\Users\\Johannes\\AppData\\Local\\Programs\\Python\\Python310\\lib\\site-packages\\keras\\optimizers\\optimizer_v2\\adam.py:114: UserWarning: The `lr` argument is deprecated, use `learning_rate` instead.\n",
            "  super().__init__(name, **kwargs)\n"
          ]
        },
        {
          "data": {
            "application/vnd.jupyter.widget-view+json": {
              "model_id": "dc22b79c352140d18d1e30ecfd048053",
              "version_major": 2,
              "version_minor": 0
            },
            "text/plain": [
              "0epoch [00:00, ?epoch/s]"
            ]
          },
          "metadata": {},
          "output_type": "display_data"
        },
        {
          "data": {
            "application/vnd.jupyter.widget-view+json": {
              "model_id": "52decaf04cd543bd8a1a7bcb9c6d61b5",
              "version_major": 2,
              "version_minor": 0
            },
            "text/plain": [
              "0batch [00:00, ?batch/s]"
            ]
          },
          "metadata": {},
          "output_type": "display_data"
        },
        {
          "name": "stdout",
          "output_type": "stream",
          "text": [
            "Epoch 1/50\n",
            "6179/6179 [==============================] - 539s 87ms/step - loss: 1.2139 - accuracy: 0.4959 - val_loss: 0.9171 - val_accuracy: 0.5901\n",
            "Epoch 2/50\n",
            "6179/6179 [==============================] - 534s 86ms/step - loss: 0.9367 - accuracy: 0.5811 - val_loss: 0.9002 - val_accuracy: 0.6029\n",
            "Epoch 3/50\n",
            "6179/6179 [==============================] - 530s 86ms/step - loss: 0.9111 - accuracy: 0.5978 - val_loss: 0.8945 - val_accuracy: 0.6015\n",
            "Epoch 4/50\n",
            "6179/6179 [==============================] - 530s 86ms/step - loss: 0.8991 - accuracy: 0.6044 - val_loss: 0.8907 - val_accuracy: 0.6042\n",
            "Epoch 5/50\n",
            "6179/6179 [==============================] - 530s 86ms/step - loss: 0.8928 - accuracy: 0.6081 - val_loss: 0.8921 - val_accuracy: 0.5994\n",
            "Epoch 6/50\n",
            "6179/6179 [==============================] - 536s 87ms/step - loss: 0.8871 - accuracy: 0.6121 - val_loss: 0.9025 - val_accuracy: 0.5946\n",
            "Epoch 7/50\n",
            "6179/6179 [==============================] - 536s 87ms/step - loss: 0.8797 - accuracy: 0.6162 - val_loss: 0.8902 - val_accuracy: 0.6134\n",
            "Epoch 8/50\n",
            "6179/6179 [==============================] - 530s 86ms/step - loss: 0.8750 - accuracy: 0.6189 - val_loss: 0.8927 - val_accuracy: 0.6066\n",
            "Epoch 9/50\n",
            "6179/6179 [==============================] - 530s 86ms/step - loss: 0.8678 - accuracy: 0.6225 - val_loss: 0.9069 - val_accuracy: 0.5925\n",
            "Epoch 10/50\n",
            "6179/6179 [==============================] - 530s 86ms/step - loss: 0.8620 - accuracy: 0.6239 - val_loss: 0.9114 - val_accuracy: 0.5930\n",
            "Epoch 11/50\n",
            "6179/6179 [==============================] - 530s 86ms/step - loss: 0.8514 - accuracy: 0.6303 - val_loss: 0.9105 - val_accuracy: 0.5974\n",
            "Epoch 12/50\n",
            "6179/6179 [==============================] - 530s 86ms/step - loss: 0.8428 - accuracy: 0.6359 - val_loss: 0.9031 - val_accuracy: 0.6035\n",
            "Epoch 13/50\n",
            "6179/6179 [==============================] - 530s 86ms/step - loss: 0.8329 - accuracy: 0.6396 - val_loss: 0.9395 - val_accuracy: 0.5822\n",
            "Epoch 14/50\n",
            "1004/6179 [===>..........................] - ETA: 6:57 - loss: 0.8205 - accuracy: 0.6426"
          ]
        },
        {
          "ename": "KeyboardInterrupt",
          "evalue": "",
          "output_type": "error",
          "traceback": [
            "\u001b[1;31m---------------------------------------------------------------------------\u001b[0m",
            "\u001b[1;31mKeyboardInterrupt\u001b[0m                         Traceback (most recent call last)",
            "\u001b[1;32mc:\\Users\\Johannes\\Desktop\\PythonProjects\\QuantShit\\python-crypto-ai\\modelTrainPreClassified.ipynb Cell 45\u001b[0m in \u001b[0;36m4\n\u001b[0;32m     <a href='vscode-notebook-cell:/c%3A/Users/Johannes/Desktop/PythonProjects/QuantShit/python-crypto-ai/modelTrainPreClassified.ipynb#X61sZmlsZQ%3D%3D?line=38'>39</a>\u001b[0m checkpoint \u001b[39m=\u001b[39m ModelCheckpoint(filepath, monitor\u001b[39m=\u001b[39m\u001b[39m'\u001b[39m\u001b[39mval_loss\u001b[39m\u001b[39m'\u001b[39m, verbose\u001b[39m=\u001b[39m\u001b[39m0\u001b[39m, save_best_only\u001b[39m=\u001b[39m\u001b[39mFalse\u001b[39;00m, save_weights_only\u001b[39m=\u001b[39m\u001b[39mFalse\u001b[39;00m, mode\u001b[39m=\u001b[39m\u001b[39m'\u001b[39m\u001b[39mauto\u001b[39m\u001b[39m'\u001b[39m, period\u001b[39m=\u001b[39m\u001b[39m1\u001b[39m) \u001b[39m# saves every epoch\u001b[39;00m\n\u001b[0;32m     <a href='vscode-notebook-cell:/c%3A/Users/Johannes/Desktop/PythonProjects/QuantShit/python-crypto-ai/modelTrainPreClassified.ipynb#X61sZmlsZQ%3D%3D?line=41'>42</a>\u001b[0m \u001b[39m# train\u001b[39;00m\n\u001b[1;32m---> <a href='vscode-notebook-cell:/c%3A/Users/Johannes/Desktop/PythonProjects/QuantShit/python-crypto-ai/modelTrainPreClassified.ipynb#X61sZmlsZQ%3D%3D?line=42'>43</a>\u001b[0m history \u001b[39m=\u001b[39m model\u001b[39m.\u001b[39;49mfit(\n\u001b[0;32m     <a href='vscode-notebook-cell:/c%3A/Users/Johannes/Desktop/PythonProjects/QuantShit/python-crypto-ai/modelTrainPreClassified.ipynb#X61sZmlsZQ%3D%3D?line=43'>44</a>\u001b[0m   train_x, train_y,\n\u001b[0;32m     <a href='vscode-notebook-cell:/c%3A/Users/Johannes/Desktop/PythonProjects/QuantShit/python-crypto-ai/modelTrainPreClassified.ipynb#X61sZmlsZQ%3D%3D?line=44'>45</a>\u001b[0m   batch_size \u001b[39m=\u001b[39;49m batchSize,\n\u001b[0;32m     <a href='vscode-notebook-cell:/c%3A/Users/Johannes/Desktop/PythonProjects/QuantShit/python-crypto-ai/modelTrainPreClassified.ipynb#X61sZmlsZQ%3D%3D?line=45'>46</a>\u001b[0m   epochs \u001b[39m=\u001b[39;49m EPOCHS,\n\u001b[0;32m     <a href='vscode-notebook-cell:/c%3A/Users/Johannes/Desktop/PythonProjects/QuantShit/python-crypto-ai/modelTrainPreClassified.ipynb#X61sZmlsZQ%3D%3D?line=46'>47</a>\u001b[0m   validation_data\u001b[39m=\u001b[39;49m(validation_x, validation_y),\n\u001b[0;32m     <a href='vscode-notebook-cell:/c%3A/Users/Johannes/Desktop/PythonProjects/QuantShit/python-crypto-ai/modelTrainPreClassified.ipynb#X61sZmlsZQ%3D%3D?line=47'>48</a>\u001b[0m   callbacks\u001b[39m=\u001b[39;49m[checkpoint, TqdmCallback(verbose\u001b[39m=\u001b[39;49m\u001b[39m1\u001b[39;49m)])\n\u001b[0;32m     <a href='vscode-notebook-cell:/c%3A/Users/Johannes/Desktop/PythonProjects/QuantShit/python-crypto-ai/modelTrainPreClassified.ipynb#X61sZmlsZQ%3D%3D?line=48'>49</a>\u001b[0m   \u001b[39m#callbacks=[checkpoint])\u001b[39;00m\n",
            "File \u001b[1;32mc:\\Users\\Johannes\\AppData\\Local\\Programs\\Python\\Python310\\lib\\site-packages\\keras\\utils\\traceback_utils.py:65\u001b[0m, in \u001b[0;36mfilter_traceback.<locals>.error_handler\u001b[1;34m(*args, **kwargs)\u001b[0m\n\u001b[0;32m     63\u001b[0m filtered_tb \u001b[39m=\u001b[39m \u001b[39mNone\u001b[39;00m\n\u001b[0;32m     64\u001b[0m \u001b[39mtry\u001b[39;00m:\n\u001b[1;32m---> 65\u001b[0m     \u001b[39mreturn\u001b[39;00m fn(\u001b[39m*\u001b[39margs, \u001b[39m*\u001b[39m\u001b[39m*\u001b[39mkwargs)\n\u001b[0;32m     66\u001b[0m \u001b[39mexcept\u001b[39;00m \u001b[39mException\u001b[39;00m \u001b[39mas\u001b[39;00m e:\n\u001b[0;32m     67\u001b[0m     filtered_tb \u001b[39m=\u001b[39m _process_traceback_frames(e\u001b[39m.\u001b[39m__traceback__)\n",
            "File \u001b[1;32mc:\\Users\\Johannes\\AppData\\Local\\Programs\\Python\\Python310\\lib\\site-packages\\keras\\engine\\training.py:1564\u001b[0m, in \u001b[0;36mModel.fit\u001b[1;34m(self, x, y, batch_size, epochs, verbose, callbacks, validation_split, validation_data, shuffle, class_weight, sample_weight, initial_epoch, steps_per_epoch, validation_steps, validation_batch_size, validation_freq, max_queue_size, workers, use_multiprocessing)\u001b[0m\n\u001b[0;32m   1556\u001b[0m \u001b[39mwith\u001b[39;00m tf\u001b[39m.\u001b[39mprofiler\u001b[39m.\u001b[39mexperimental\u001b[39m.\u001b[39mTrace(\n\u001b[0;32m   1557\u001b[0m     \u001b[39m\"\u001b[39m\u001b[39mtrain\u001b[39m\u001b[39m\"\u001b[39m,\n\u001b[0;32m   1558\u001b[0m     epoch_num\u001b[39m=\u001b[39mepoch,\n\u001b[1;32m   (...)\u001b[0m\n\u001b[0;32m   1561\u001b[0m     _r\u001b[39m=\u001b[39m\u001b[39m1\u001b[39m,\n\u001b[0;32m   1562\u001b[0m ):\n\u001b[0;32m   1563\u001b[0m     callbacks\u001b[39m.\u001b[39mon_train_batch_begin(step)\n\u001b[1;32m-> 1564\u001b[0m     tmp_logs \u001b[39m=\u001b[39m \u001b[39mself\u001b[39;49m\u001b[39m.\u001b[39;49mtrain_function(iterator)\n\u001b[0;32m   1565\u001b[0m     \u001b[39mif\u001b[39;00m data_handler\u001b[39m.\u001b[39mshould_sync:\n\u001b[0;32m   1566\u001b[0m         context\u001b[39m.\u001b[39masync_wait()\n",
            "File \u001b[1;32mc:\\Users\\Johannes\\AppData\\Local\\Programs\\Python\\Python310\\lib\\site-packages\\tensorflow\\python\\util\\traceback_utils.py:150\u001b[0m, in \u001b[0;36mfilter_traceback.<locals>.error_handler\u001b[1;34m(*args, **kwargs)\u001b[0m\n\u001b[0;32m    148\u001b[0m filtered_tb \u001b[39m=\u001b[39m \u001b[39mNone\u001b[39;00m\n\u001b[0;32m    149\u001b[0m \u001b[39mtry\u001b[39;00m:\n\u001b[1;32m--> 150\u001b[0m   \u001b[39mreturn\u001b[39;00m fn(\u001b[39m*\u001b[39margs, \u001b[39m*\u001b[39m\u001b[39m*\u001b[39mkwargs)\n\u001b[0;32m    151\u001b[0m \u001b[39mexcept\u001b[39;00m \u001b[39mException\u001b[39;00m \u001b[39mas\u001b[39;00m e:\n\u001b[0;32m    152\u001b[0m   filtered_tb \u001b[39m=\u001b[39m _process_traceback_frames(e\u001b[39m.\u001b[39m__traceback__)\n",
            "File \u001b[1;32mc:\\Users\\Johannes\\AppData\\Local\\Programs\\Python\\Python310\\lib\\site-packages\\tensorflow\\python\\eager\\def_function.py:915\u001b[0m, in \u001b[0;36mFunction.__call__\u001b[1;34m(self, *args, **kwds)\u001b[0m\n\u001b[0;32m    912\u001b[0m compiler \u001b[39m=\u001b[39m \u001b[39m\"\u001b[39m\u001b[39mxla\u001b[39m\u001b[39m\"\u001b[39m \u001b[39mif\u001b[39;00m \u001b[39mself\u001b[39m\u001b[39m.\u001b[39m_jit_compile \u001b[39melse\u001b[39;00m \u001b[39m\"\u001b[39m\u001b[39mnonXla\u001b[39m\u001b[39m\"\u001b[39m\n\u001b[0;32m    914\u001b[0m \u001b[39mwith\u001b[39;00m OptionalXlaContext(\u001b[39mself\u001b[39m\u001b[39m.\u001b[39m_jit_compile):\n\u001b[1;32m--> 915\u001b[0m   result \u001b[39m=\u001b[39m \u001b[39mself\u001b[39m\u001b[39m.\u001b[39m_call(\u001b[39m*\u001b[39margs, \u001b[39m*\u001b[39m\u001b[39m*\u001b[39mkwds)\n\u001b[0;32m    917\u001b[0m new_tracing_count \u001b[39m=\u001b[39m \u001b[39mself\u001b[39m\u001b[39m.\u001b[39mexperimental_get_tracing_count()\n\u001b[0;32m    918\u001b[0m without_tracing \u001b[39m=\u001b[39m (tracing_count \u001b[39m==\u001b[39m new_tracing_count)\n",
            "File \u001b[1;32mc:\\Users\\Johannes\\AppData\\Local\\Programs\\Python\\Python310\\lib\\site-packages\\tensorflow\\python\\eager\\def_function.py:947\u001b[0m, in \u001b[0;36mFunction._call\u001b[1;34m(self, *args, **kwds)\u001b[0m\n\u001b[0;32m    944\u001b[0m   \u001b[39mself\u001b[39m\u001b[39m.\u001b[39m_lock\u001b[39m.\u001b[39mrelease()\n\u001b[0;32m    945\u001b[0m   \u001b[39m# In this case we have created variables on the first call, so we run the\u001b[39;00m\n\u001b[0;32m    946\u001b[0m   \u001b[39m# defunned version which is guaranteed to never create variables.\u001b[39;00m\n\u001b[1;32m--> 947\u001b[0m   \u001b[39mreturn\u001b[39;00m \u001b[39mself\u001b[39m\u001b[39m.\u001b[39m_stateless_fn(\u001b[39m*\u001b[39margs, \u001b[39m*\u001b[39m\u001b[39m*\u001b[39mkwds)  \u001b[39m# pylint: disable=not-callable\u001b[39;00m\n\u001b[0;32m    948\u001b[0m \u001b[39melif\u001b[39;00m \u001b[39mself\u001b[39m\u001b[39m.\u001b[39m_stateful_fn \u001b[39mis\u001b[39;00m \u001b[39mnot\u001b[39;00m \u001b[39mNone\u001b[39;00m:\n\u001b[0;32m    949\u001b[0m   \u001b[39m# Release the lock early so that multiple threads can perform the call\u001b[39;00m\n\u001b[0;32m    950\u001b[0m   \u001b[39m# in parallel.\u001b[39;00m\n\u001b[0;32m    951\u001b[0m   \u001b[39mself\u001b[39m\u001b[39m.\u001b[39m_lock\u001b[39m.\u001b[39mrelease()\n",
            "File \u001b[1;32mc:\\Users\\Johannes\\AppData\\Local\\Programs\\Python\\Python310\\lib\\site-packages\\tensorflow\\python\\eager\\function.py:2496\u001b[0m, in \u001b[0;36mFunction.__call__\u001b[1;34m(self, *args, **kwargs)\u001b[0m\n\u001b[0;32m   2493\u001b[0m \u001b[39mwith\u001b[39;00m \u001b[39mself\u001b[39m\u001b[39m.\u001b[39m_lock:\n\u001b[0;32m   2494\u001b[0m   (graph_function,\n\u001b[0;32m   2495\u001b[0m    filtered_flat_args) \u001b[39m=\u001b[39m \u001b[39mself\u001b[39m\u001b[39m.\u001b[39m_maybe_define_function(args, kwargs)\n\u001b[1;32m-> 2496\u001b[0m \u001b[39mreturn\u001b[39;00m graph_function\u001b[39m.\u001b[39;49m_call_flat(\n\u001b[0;32m   2497\u001b[0m     filtered_flat_args, captured_inputs\u001b[39m=\u001b[39;49mgraph_function\u001b[39m.\u001b[39;49mcaptured_inputs)\n",
            "File \u001b[1;32mc:\\Users\\Johannes\\AppData\\Local\\Programs\\Python\\Python310\\lib\\site-packages\\tensorflow\\python\\eager\\function.py:1862\u001b[0m, in \u001b[0;36mConcreteFunction._call_flat\u001b[1;34m(self, args, captured_inputs, cancellation_manager)\u001b[0m\n\u001b[0;32m   1858\u001b[0m possible_gradient_type \u001b[39m=\u001b[39m gradients_util\u001b[39m.\u001b[39mPossibleTapeGradientTypes(args)\n\u001b[0;32m   1859\u001b[0m \u001b[39mif\u001b[39;00m (possible_gradient_type \u001b[39m==\u001b[39m gradients_util\u001b[39m.\u001b[39mPOSSIBLE_GRADIENT_TYPES_NONE\n\u001b[0;32m   1860\u001b[0m     \u001b[39mand\u001b[39;00m executing_eagerly):\n\u001b[0;32m   1861\u001b[0m   \u001b[39m# No tape is watching; skip to running the function.\u001b[39;00m\n\u001b[1;32m-> 1862\u001b[0m   \u001b[39mreturn\u001b[39;00m \u001b[39mself\u001b[39m\u001b[39m.\u001b[39m_build_call_outputs(\u001b[39mself\u001b[39;49m\u001b[39m.\u001b[39;49m_inference_function\u001b[39m.\u001b[39;49mcall(\n\u001b[0;32m   1863\u001b[0m       ctx, args, cancellation_manager\u001b[39m=\u001b[39;49mcancellation_manager))\n\u001b[0;32m   1864\u001b[0m forward_backward \u001b[39m=\u001b[39m \u001b[39mself\u001b[39m\u001b[39m.\u001b[39m_select_forward_and_backward_functions(\n\u001b[0;32m   1865\u001b[0m     args,\n\u001b[0;32m   1866\u001b[0m     possible_gradient_type,\n\u001b[0;32m   1867\u001b[0m     executing_eagerly)\n\u001b[0;32m   1868\u001b[0m forward_function, args_with_tangents \u001b[39m=\u001b[39m forward_backward\u001b[39m.\u001b[39mforward()\n",
            "File \u001b[1;32mc:\\Users\\Johannes\\AppData\\Local\\Programs\\Python\\Python310\\lib\\site-packages\\tensorflow\\python\\eager\\function.py:499\u001b[0m, in \u001b[0;36m_EagerDefinedFunction.call\u001b[1;34m(self, ctx, args, cancellation_manager)\u001b[0m\n\u001b[0;32m    497\u001b[0m \u001b[39mwith\u001b[39;00m _InterpolateFunctionError(\u001b[39mself\u001b[39m):\n\u001b[0;32m    498\u001b[0m   \u001b[39mif\u001b[39;00m cancellation_manager \u001b[39mis\u001b[39;00m \u001b[39mNone\u001b[39;00m:\n\u001b[1;32m--> 499\u001b[0m     outputs \u001b[39m=\u001b[39m execute\u001b[39m.\u001b[39;49mexecute(\n\u001b[0;32m    500\u001b[0m         \u001b[39mstr\u001b[39;49m(\u001b[39mself\u001b[39;49m\u001b[39m.\u001b[39;49msignature\u001b[39m.\u001b[39;49mname),\n\u001b[0;32m    501\u001b[0m         num_outputs\u001b[39m=\u001b[39;49m\u001b[39mself\u001b[39;49m\u001b[39m.\u001b[39;49m_num_outputs,\n\u001b[0;32m    502\u001b[0m         inputs\u001b[39m=\u001b[39;49margs,\n\u001b[0;32m    503\u001b[0m         attrs\u001b[39m=\u001b[39;49mattrs,\n\u001b[0;32m    504\u001b[0m         ctx\u001b[39m=\u001b[39;49mctx)\n\u001b[0;32m    505\u001b[0m   \u001b[39melse\u001b[39;00m:\n\u001b[0;32m    506\u001b[0m     outputs \u001b[39m=\u001b[39m execute\u001b[39m.\u001b[39mexecute_with_cancellation(\n\u001b[0;32m    507\u001b[0m         \u001b[39mstr\u001b[39m(\u001b[39mself\u001b[39m\u001b[39m.\u001b[39msignature\u001b[39m.\u001b[39mname),\n\u001b[0;32m    508\u001b[0m         num_outputs\u001b[39m=\u001b[39m\u001b[39mself\u001b[39m\u001b[39m.\u001b[39m_num_outputs,\n\u001b[1;32m   (...)\u001b[0m\n\u001b[0;32m    511\u001b[0m         ctx\u001b[39m=\u001b[39mctx,\n\u001b[0;32m    512\u001b[0m         cancellation_manager\u001b[39m=\u001b[39mcancellation_manager)\n",
            "File \u001b[1;32mc:\\Users\\Johannes\\AppData\\Local\\Programs\\Python\\Python310\\lib\\site-packages\\tensorflow\\python\\eager\\execute.py:54\u001b[0m, in \u001b[0;36mquick_execute\u001b[1;34m(op_name, num_outputs, inputs, attrs, ctx, name)\u001b[0m\n\u001b[0;32m     52\u001b[0m \u001b[39mtry\u001b[39;00m:\n\u001b[0;32m     53\u001b[0m   ctx\u001b[39m.\u001b[39mensure_initialized()\n\u001b[1;32m---> 54\u001b[0m   tensors \u001b[39m=\u001b[39m pywrap_tfe\u001b[39m.\u001b[39;49mTFE_Py_Execute(ctx\u001b[39m.\u001b[39;49m_handle, device_name, op_name,\n\u001b[0;32m     55\u001b[0m                                       inputs, attrs, num_outputs)\n\u001b[0;32m     56\u001b[0m \u001b[39mexcept\u001b[39;00m core\u001b[39m.\u001b[39m_NotOkStatusException \u001b[39mas\u001b[39;00m e:\n\u001b[0;32m     57\u001b[0m   \u001b[39mif\u001b[39;00m name \u001b[39mis\u001b[39;00m \u001b[39mnot\u001b[39;00m \u001b[39mNone\u001b[39;00m:\n",
            "\u001b[1;31mKeyboardInterrupt\u001b[0m: "
          ]
        }
      ],
      "source": [
        "import tensorflow as tf\n",
        "from tensorflow.keras.models import Sequential\n",
        "from tensorflow.keras.layers import Dense, Dropout, LSTM, BatchNormalization\n",
        "from tensorflow.keras.callbacks import ModelCheckpoint\n",
        "import os\n",
        "from tqdm.keras import TqdmCallback\n",
        "\n",
        "\n",
        "# model\n",
        "model = Sequential()\n",
        "\n",
        "for _ in range(layers-1):\n",
        "  model.add(LSTM(nodes, activation=\"tanh\", recurrent_activation = 'sigmoid', recurrent_dropout = 0, unroll = False, use_bias = True, input_shape=(train_x.shape[1:]), return_sequences=True))\n",
        "  model.add(Dropout(dropOut))\n",
        "  model.add(BatchNormalization())\n",
        "\n",
        "model.add(LSTM(nodes, activation=\"tanh\", recurrent_activation = 'sigmoid', recurrent_dropout = 0, unroll = False, use_bias = True, input_shape=(train_x.shape[1:])))\n",
        "model.add(Dropout(dropOut))\n",
        "model.add(BatchNormalization())\n",
        "\n",
        "model.add(Dense(denseNodes, activation=\"relu\"))\n",
        "model.add(Dropout(dropOut))\n",
        "\n",
        "model.add(Dense(3, activation=\"softmax\"))\n",
        "\n",
        "\n",
        "\n",
        "# opt  \n",
        "opt = tf.keras.optimizers.Adam(lr=learningRate) # decay?\n",
        "\n",
        "\n",
        "model.compile(loss=\"sparse_categorical_crossentropy\",\n",
        "              optimizer = opt,\n",
        "              metrics=[\"accuracy\"])\n",
        "\n",
        "\n",
        "filename = NAME + \"-{epoch:02d}\"\n",
        "filepath = f\"models/{filename}.h5\"\n",
        "checkpoint = ModelCheckpoint(filepath, monitor='val_loss', verbose=0, save_best_only=False, save_weights_only=False, mode='auto', period=1) # saves every epoch\n",
        "\n",
        "\n",
        "# train\n",
        "history = model.fit(\n",
        "  train_x, train_y,\n",
        "  batch_size = batchSize,\n",
        "  epochs = EPOCHS,\n",
        "  validation_data=(validation_x, validation_y),\n",
        "  callbacks=[checkpoint, TqdmCallback(verbose=1)])\n",
        "  #callbacks=[checkpoint])"
      ]
    },
    {
      "cell_type": "code",
      "execution_count": null,
      "metadata": {
        "id": "axokGs51bnTA"
      },
      "outputs": [],
      "source": []
    }
  ],
  "metadata": {
    "accelerator": "GPU",
    "colab": {
      "collapsed_sections": [],
      "machine_shape": "hm",
      "name": "modelTrainPreClassified.ipynb",
      "provenance": []
    },
    "kernelspec": {
      "display_name": "Python 3",
      "name": "python3"
    },
    "language_info": {
      "codemirror_mode": {
        "name": "ipython",
        "version": 3
      },
      "file_extension": ".py",
      "mimetype": "text/x-python",
      "name": "python",
      "nbconvert_exporter": "python",
      "pygments_lexer": "ipython3",
      "version": "3.11.2"
    }
  },
  "nbformat": 4,
  "nbformat_minor": 0
}
