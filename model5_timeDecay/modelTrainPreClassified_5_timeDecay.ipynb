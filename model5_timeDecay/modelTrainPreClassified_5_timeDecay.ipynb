{
  "cells": [
    {
      "attachments": {},
      "cell_type": "markdown",
      "metadata": {
        "id": "M7KYj8EtoPxZ"
      },
      "source": [
        "# Constants:"
      ]
    },
    {
      "cell_type": "code",
      "execution_count": 1,
      "metadata": {
        "id": "ZsusFSopoVfn"
      },
      "outputs": [],
      "source": [
        "SEQ_LEN = 90\n",
        "CANDLES_SHIFT = 2 # how many candles to shift between sequences\n",
        "NAME = \"5timeDecay_m30_ov40th015p_shift2_80\"\n",
        "VALIDATION_PCT = 0.2"
      ]
    },
    {
      "attachments": {},
      "cell_type": "markdown",
      "metadata": {
        "id": "oSqPTNz-m5fo"
      },
      "source": [
        "# Functions:"
      ]
    },
    {
      "attachments": {},
      "cell_type": "markdown",
      "metadata": {
        "id": "1V8NN17CqWGA"
      },
      "source": [
        "compose sequences df"
      ]
    },
    {
      "cell_type": "code",
      "execution_count": 2,
      "metadata": {},
      "outputs": [],
      "source": [
        "from tqdm import tqdm\n",
        "import numpy as np\n",
        "import pandas as pd\n",
        "\n",
        "# composes dfs of individual sequences from different timescales\n",
        "# dfs should be ordered fine to coarse with the finest one having the labels\n",
        "# seqLen should be divisible by the number of time-resolutions len(dfs)\n",
        "def composeTimeDecaySequences(dfs, timescales):\n",
        "    numTimeScales = len(dfs)\n",
        "    seqPartLen = int(SEQ_LEN/numTimeScales)\n",
        "\n",
        "    sequences = []\n",
        "    finestEndIndex = len(dfs[0])-1\n",
        "    numSequences = int((len(dfs[0]) - int(seqPartLen*(sum(timescales))/timescales[0]))/CANDLES_SHIFT)\n",
        "    for _ in tqdm(range(numSequences)):\n",
        "\n",
        "        lastTimestamp = dfs[0][\"ts_closeTime\"].iloc[finestEndIndex]+1\n",
        "        seqDf = pd.DataFrame()\n",
        "        for i in range(numTimeScales):\n",
        "\n",
        "            # get prev index. Last with ts_closeTime < lastTimestamp\n",
        "            endIndex = dfs[i][dfs[i][\"ts_closeTime\"] < lastTimestamp].index[-1]\n",
        "            seqDf = pd.concat([dfs[i][endIndex-seqPartLen:endIndex], seqDf])\n",
        "            lastTimestamp = seqDf[\"ts_closeTime\"].iloc[0]\n",
        "        \n",
        "\n",
        "        label = seqDf['target'].iloc[-1]\n",
        "        seqDf = seqDf[['close', 'weightedAverage', 'hl_percent', 'quantity_baseUnits', 'timescale']]\n",
        "        seq = seqDf.values.tolist()\n",
        "        if(len(seq) == SEQ_LEN):\n",
        "            sequences.append([seq, label])\n",
        "\n",
        "        finestEndIndex -= CANDLES_SHIFT\n",
        "\n",
        "    return sequences[::-1]\n",
        "    \n",
        "\n"
      ]
    },
    {
      "attachments": {},
      "cell_type": "markdown",
      "metadata": {
        "id": "v84s4MzlrJex"
      },
      "source": [
        "balance"
      ]
    },
    {
      "cell_type": "code",
      "execution_count": 3,
      "metadata": {
        "id": "Hddt3uD8rLYE"
      },
      "outputs": [],
      "source": [
        "def balance(seqs):\n",
        "    \n",
        "    buys = []\n",
        "    sells = []\n",
        "    holds = []\n",
        "    for seq in seqs:\n",
        "        if seq[1] == 0:\n",
        "            sells.append(seq)\n",
        "        elif seq[1] == 1:\n",
        "            buys.append(seq)\n",
        "        else:\n",
        "          holds.append(seq)\n",
        "\n",
        "    print(\"before balancing:\")\n",
        "    print(\"buys:\", len(buys), \", sells:\", len(sells), \", holds:\", len(holds))\n",
        "\n",
        "    smallest = min(len(buys), len(sells), len(holds))\n",
        "    buys = buys[:smallest]\n",
        "    sells = sells[:smallest]\n",
        "    holds = holds[:smallest]\n",
        "\n",
        "    seqsBalanced = buys+sells+holds\n",
        "    return seqsBalanced"
      ]
    },
    {
      "attachments": {},
      "cell_type": "markdown",
      "metadata": {
        "id": "puLrLHQCr2IF"
      },
      "source": [
        "preprocessing"
      ]
    },
    {
      "cell_type": "code",
      "execution_count": 4,
      "metadata": {},
      "outputs": [],
      "source": [
        "from sklearn.preprocessing import StandardScaler\n",
        "\n",
        "\n",
        "# Function to preprocess data\n",
        "def preprocess3_train(df):\n",
        "    # before sequencing\n",
        "    #\n",
        "    # log and pctchange transform price columns ('low', 'high', 'open', 'close')\n",
        "    # scale every colum (center mean and unit variance)\n",
        "\n",
        "    scaler_dict = {}\n",
        "    for col in df.columns:\n",
        "        \n",
        "        if col != 'target' and col != 'ts_closeTime':\n",
        "            if col != 'quantity_baseUnits' and col != 'hl_percent' and col != 'timescale':\n",
        "                df[col] = np.log(df[col])\n",
        "                df[col] = df[col].pct_change()\n",
        "                df.dropna(inplace=True)\n",
        "            scaler = StandardScaler()\n",
        "            df[col] = scaler.fit_transform(df[col].values.reshape(-1, 1))\n",
        "            scaler_dict[col] = scaler\n",
        "    df.index = np.arange(0, len(df))\n",
        "    return df, scaler_dict\n",
        "\n",
        "# Function to apply saved preprocessing to new data\n",
        "def apply_preprocess3_val(df, scaler_dict):\n",
        "    # before sequencing\n",
        "    #\n",
        "    # pct.change transform price columns ('low', 'high', 'open', 'close')\n",
        "    # scale every colum (center mean and unit variance)\n",
        "    \n",
        "    for col in df.columns:\n",
        "        if col != 'target' and col != 'ts_closeTime':\n",
        "            if col != 'quantity_baseUnits' and col != 'hl_percent' and col != 'timescale':\n",
        "                df[col] = np.log(df[col])\n",
        "                df[col] = df[col].pct_change()\n",
        "                df.dropna(inplace=True)\n",
        "            scaler = scaler_dict[col]\n",
        "            df[col] = scaler.transform(df[col].values.reshape(-1, 1))\n",
        "    df.index = np.arange(0, len(df))\n",
        "    return df"
      ]
    },
    {
      "attachments": {},
      "cell_type": "markdown",
      "metadata": {
        "id": "Dd640LH1tix2"
      },
      "source": [
        "X y split"
      ]
    },
    {
      "cell_type": "code",
      "execution_count": 5,
      "metadata": {
        "id": "4-HIbtKAtj-0"
      },
      "outputs": [],
      "source": [
        "def xySplit(seqWithTarget):\n",
        "\n",
        "    X = []\n",
        "    y = []\n",
        "    for seq, target in seqWithTarget:\n",
        "        X.append(seq)\n",
        "        y.append(target)\n",
        "\n",
        "    return np.array(X),np.array(y)"
      ]
    },
    {
      "attachments": {},
      "cell_type": "markdown",
      "metadata": {
        "id": "bBfc_4lKnYpv"
      },
      "source": [
        "# DF manipulation, build training sets:"
      ]
    },
    {
      "cell_type": "code",
      "execution_count": 6,
      "metadata": {},
      "outputs": [
        {
          "name": "stdout",
          "output_type": "stream",
          "text": [
            "        ts_closeTime     close  weightedAverage  hl_percent  \\\n",
            "0         1467504000    705.00           704.63    0.005262   \n",
            "1         1467505800    705.46           704.65    0.008062   \n",
            "2         1467507600    702.09           697.78    0.012057   \n",
            "3         1467509400    700.07           700.08    0.001555   \n",
            "4         1467511200    697.95           701.96    0.009872   \n",
            "...              ...       ...              ...         ...   \n",
            "122601    1688185800  30348.04         30379.52    0.003004   \n",
            "122602    1688187600  30388.37         30364.50    0.002573   \n",
            "122603    1688189400  30406.47         30403.91    0.001523   \n",
            "122604    1688191200  30426.45         30411.08    0.000850   \n",
            "122605    1688193000  30424.86         30426.49    0.001111   \n",
            "\n",
            "        quantity_baseUnits  target  timescale  \n",
            "0                 2.934065       0        0.5  \n",
            "1                 6.343613       0        0.5  \n",
            "2                47.244461       0        0.5  \n",
            "3                 0.548509       0        0.5  \n",
            "4                 2.981243       0        0.5  \n",
            "...                    ...     ...        ...  \n",
            "122601            2.116099       0        0.5  \n",
            "122602            1.236853       0        0.5  \n",
            "122603            0.688637       0        0.5  \n",
            "122604            0.838506       0        0.5  \n",
            "122605            0.967142       0        0.5  \n",
            "\n",
            "[122606 rows x 7 columns]\n"
          ]
        }
      ],
      "source": [
        "import pandas as pd\n",
        "df_30m_classified = pd.read_csv(\"../historicalData/aligned/HistoricalDataLabeled_BTC_USDT_01072016_01072023_MINUTE_30_ov40_th015p.csv\")\n",
        "df_2h = pd.read_csv(\"../historicalData/aligned/HistoricalData_BTC_USDT_01072016_01072023_HOUR_2.csv\")\n",
        "df_24h = pd.read_csv(\"../historicalData/aligned/HistoricalData_BTC_USDT_01072016_01072023_DAY_1.csv\")\n",
        "\n",
        "df_30m_classified = df_30m_classified[['ts_closeTime', 'close', 'weightedAverage', 'hl_percent', 'quantity_baseUnits', 'target']]\n",
        "df_2h = df_2h[['ts_closeTime', 'close', 'weightedAverage', 'hl_percent', 'quantity_baseUnits']]\n",
        "df_24h = df_24h[['ts_closeTime', 'close', 'weightedAverage', 'hl_percent', 'quantity_baseUnits']]\n",
        "\n",
        "df_30m_classified[\"timescale\"] = 0.5\n",
        "df_2h[\"timescale\"] = 2\n",
        "df_24h[\"timescale\"] = 24\n",
        "\n",
        "print(df_30m_classified)"
      ]
    },
    {
      "cell_type": "code",
      "execution_count": 7,
      "metadata": {},
      "outputs": [],
      "source": [
        "def prep(df):\n",
        "    # Split data into train and validation sets\n",
        "    train_size = int((1-VALIDATION_PCT) * len(df))\n",
        "    train_df = df.iloc[:train_size].copy()\n",
        "    val_df = df.iloc[train_size:].copy()\n",
        "\n",
        "    # Preprocess the training data and save the scaling parameters\n",
        "    train_df, scaler_dict = preprocess3_train(train_df)\n",
        "    # Apply saved preprocessing to validation data\n",
        "    val_df = apply_preprocess3_val(val_df, scaler_dict)\n",
        "\n",
        "    return train_df, val_df\n"
      ]
    },
    {
      "cell_type": "code",
      "execution_count": 8,
      "metadata": {},
      "outputs": [],
      "source": [
        "df_30m_classified_train, df_30m_classified_val = prep(df_30m_classified)\n",
        "df_2h_train, df_2h_val = prep(df_2h)\n",
        "df_24h_train, df_24h_val = prep(df_24h)\n"
      ]
    },
    {
      "attachments": {},
      "cell_type": "markdown",
      "metadata": {
        "id": "9h5xSZxbqNsz"
      },
      "source": [
        "build time decay sequences"
      ]
    },
    {
      "cell_type": "code",
      "execution_count": 9,
      "metadata": {
        "colab": {
          "base_uri": "https://localhost:8080/"
        },
        "id": "31jTXjddn04r",
        "outputId": "125ce716-fa5f-4839-fabe-15765768da3e"
      },
      "outputs": [
        {
          "name": "stderr",
          "output_type": "stream",
          "text": [
            "100%|██████████| 48246/48246 [03:49<00:00, 210.10it/s]\n",
            "100%|██████████| 11465/11465 [00:35<00:00, 322.85it/s]\n"
          ]
        }
      ],
      "source": [
        "seqsTraining = composeTimeDecaySequences([df_30m_classified_train, df_2h_train, df_24h_train], [1800, 7200, 86400])\n",
        "seqsValidation = composeTimeDecaySequences([df_30m_classified_val, df_2h_val, df_24h_val], [1800, 7200, 86400])"
      ]
    },
    {
      "attachments": {},
      "cell_type": "markdown",
      "metadata": {
        "id": "Lo4KSJOxrAN0"
      },
      "source": [
        "balance buys/sells/holds"
      ]
    },
    {
      "cell_type": "code",
      "execution_count": 10,
      "metadata": {},
      "outputs": [
        {
          "name": "stdout",
          "output_type": "stream",
          "text": [
            "before balancing:\n",
            "buys: 16211 , sells: 14831 , holds: 17155\n",
            "before balancing:\n",
            "buys: 3449 , sells: 3489 , holds: 4464\n"
          ]
        }
      ],
      "source": [
        "# balance buys, sells, and holds\n",
        "import random\n",
        "\n",
        "random.shuffle(seqsTraining)\n",
        "random.shuffle(seqsValidation)\n",
        "seqsTrainingBalanced = balance(seqsTraining)\n",
        "seqsValidationBalanced = balance(seqsValidation)\n",
        "random.shuffle(seqsTrainingBalanced)\n",
        "random.shuffle(seqsValidationBalanced)"
      ]
    },
    {
      "attachments": {},
      "cell_type": "markdown",
      "metadata": {
        "id": "G-ygYD9gtbMx"
      },
      "source": [
        "split sequence from label"
      ]
    },
    {
      "cell_type": "code",
      "execution_count": 11,
      "metadata": {
        "colab": {
          "background_save": true
        },
        "id": "3Cnkgt0utXt1"
      },
      "outputs": [],
      "source": [
        "train_x, train_y = xySplit(seqsTrainingBalanced)\n",
        "validation_x, validation_y = xySplit(seqsValidationBalanced)"
      ]
    },
    {
      "cell_type": "code",
      "execution_count": 12,
      "metadata": {},
      "outputs": [
        {
          "name": "stdout",
          "output_type": "stream",
          "text": [
            "<class 'numpy.ndarray'>\n",
            "(44493, 90, 5)\n",
            "<class 'numpy.ndarray'>\n",
            "(10347, 90, 5)\n"
          ]
        }
      ],
      "source": [
        "print(type(train_x))\n",
        "print(train_x.shape)\n",
        "print(type(validation_x))\n",
        "print(validation_x.shape)"
      ]
    },
    {
      "cell_type": "code",
      "execution_count": 13,
      "metadata": {},
      "outputs": [],
      "source": [
        "import pickle\n",
        "\n",
        "with open(f'../trainData/{NAME}_train_x.pkl', 'wb') as file:\n",
        "    pickle.dump(train_x, file)\n",
        "with open(f'../trainData/{NAME}_train_y.pkl', 'wb') as file:\n",
        "    pickle.dump(train_y, file)\n",
        "with open(f'../trainData/{NAME}_validation_x.pkl', 'wb') as file:\n",
        "    pickle.dump(validation_x, file)\n",
        "with open(f'../trainData/{NAME}_validation_y.pkl', 'wb') as file:\n",
        "    pickle.dump(validation_y, file)"
      ]
    },
    {
      "cell_type": "code",
      "execution_count": 2,
      "metadata": {},
      "outputs": [],
      "source": [
        "import pickle\n",
        "\n",
        "with open(f\"../trainData/{NAME}_train_x.pkl\", \"rb\") as file:\n",
        "    train_x = pickle.load(file)\n",
        "with open(f\"../trainData/{NAME}_train_y.pkl\", \"rb\") as file:\n",
        "    train_y = pickle.load(file)\n",
        "with open(f\"../trainData/{NAME}_validation_x.pkl\", \"rb\") as file:\n",
        "    validation_x = pickle.load(file)\n",
        "with open(f\"../trainData/{NAME}_validation_y.pkl\", \"rb\") as file:\n",
        "    validation_y = pickle.load(file)"
      ]
    },
    {
      "attachments": {},
      "cell_type": "markdown",
      "metadata": {
        "id": "LXt32q1Tt39k"
      },
      "source": [
        "# Model:"
      ]
    },
    {
      "cell_type": "code",
      "execution_count": 3,
      "metadata": {},
      "outputs": [
        {
          "name": "stdout",
          "output_type": "stream",
          "text": [
            "Num GPUs Available:  1\n"
          ]
        }
      ],
      "source": [
        "import tensorflow as tf\n",
        "print(\"Num GPUs Available: \", len(tf.config.experimental.list_physical_devices('GPU')))\n"
      ]
    },
    {
      "attachments": {},
      "cell_type": "markdown",
      "metadata": {
        "id": "QNzTVj7Ue8Vg"
      },
      "source": [
        "hyper parameters bounds"
      ]
    },
    {
      "cell_type": "code",
      "execution_count": 4,
      "metadata": {
        "colab": {
          "background_save": true
        },
        "id": "mXBNmip7e7or"
      },
      "outputs": [],
      "source": [
        "EPOCHS = 240\n",
        "\n",
        "batchSize = 96\n",
        "layers = 2\n",
        "nodes = 64#256\n",
        "denseNodes = 32#128\n",
        "\n",
        "dropOut = 0.4#0.8 #0.92 #0.88\n",
        "rec_dropout = 0\n",
        "l1l2_reg = 0 #1e-5#1e-3\n",
        "\n",
        "learningRate = 0.00001\n",
        "decay = 0\n",
        "\n",
        "hp_suffix = f\"bs({batchSize})_layers({layers})_noded({nodes})_dNodes({denseNodes})_do({int(dropOut*100)}%)_recdo({rec_dropout})_l1l2({l1l2_reg})_lr({learningRate})_decay({decay})\""
      ]
    },
    {
      "cell_type": "code",
      "execution_count": 5,
      "metadata": {
        "id": "XYo0LRjEg2m4"
      },
      "outputs": [
        {
          "name": "stderr",
          "output_type": "stream",
          "text": [
            "c:\\Users\\Johannes\\miniconda3\\envs\\Quant\\lib\\site-packages\\tqdm\\auto.py:21: TqdmWarning: IProgress not found. Please update jupyter and ipywidgets. See https://ipywidgets.readthedocs.io/en/stable/user_install.html\n",
            "  from .autonotebook import tqdm as notebook_tqdm\n"
          ]
        },
        {
          "name": "stdout",
          "output_type": "stream",
          "text": [
            "WARNING:tensorflow:`period` argument is deprecated. Please use `save_freq` to specify the frequency in number of batches seen.\n"
          ]
        },
        {
          "name": "stderr",
          "output_type": "stream",
          "text": [
            "c:\\Users\\Johannes\\miniconda3\\envs\\Quant\\lib\\site-packages\\keras\\optimizers\\optimizer_v2\\adam.py:114: UserWarning: The `lr` argument is deprecated, use `learning_rate` instead.\n",
            "  super().__init__(name, **kwargs)\n",
            "  0%|          | 0/240 [00:00<?, ?epoch/s]"
          ]
        },
        {
          "name": "stdout",
          "output_type": "stream",
          "text": [
            "Epoch 1/240\n",
            "  6/464 [..............................] - ETA: 4s - loss: 1.0975 - accuracy: 0.3438   WARNING:tensorflow:Callback method `on_train_batch_end` is slow compared to the batch time (batch time: 0.0097s vs `on_train_batch_end` time: 0.0141s). Check your callbacks.\n",
            "461/464 [============================>.] - ETA: 0s - loss: 1.0956 - accuracy: 0.3503"
          ]
        },
        {
          "name": "stderr",
          "output_type": "stream",
          "text": [
            "  0%|          | 1/240 [00:09<36:44,  9.23s/epoch, loss=1.1, accuracy=0.35, val_loss=1.09, val_accuracy=0.335]"
          ]
        },
        {
          "name": "stdout",
          "output_type": "stream",
          "text": [
            "464/464 [==============================] - 9s 13ms/step - loss: 1.0956 - accuracy: 0.3503 - val_loss: 1.0933 - val_accuracy: 0.3348\n",
            "Epoch 2/240\n",
            "462/464 [============================>.] - ETA: 0s - loss: 1.0889 - accuracy: 0.3679"
          ]
        },
        {
          "name": "stderr",
          "output_type": "stream",
          "text": [
            "  1%|          | 2/240 [00:14<27:02,  6.82s/epoch, loss=1.09, accuracy=0.368, val_loss=1.09, val_accuracy=0.348]"
          ]
        },
        {
          "name": "stdout",
          "output_type": "stream",
          "text": [
            "464/464 [==============================] - 5s 11ms/step - loss: 1.0889 - accuracy: 0.3680 - val_loss: 1.0869 - val_accuracy: 0.3478\n",
            "Epoch 3/240\n",
            "460/464 [============================>.] - ETA: 0s - loss: 1.0811 - accuracy: 0.3841"
          ]
        },
        {
          "name": "stderr",
          "output_type": "stream",
          "text": [
            "  1%|▏         | 3/240 [00:19<23:24,  5.93s/epoch, loss=1.08, accuracy=0.384, val_loss=1.08, val_accuracy=0.373]"
          ]
        },
        {
          "name": "stdout",
          "output_type": "stream",
          "text": [
            "464/464 [==============================] - 5s 11ms/step - loss: 1.0811 - accuracy: 0.3838 - val_loss: 1.0774 - val_accuracy: 0.3731\n",
            "Epoch 4/240\n",
            "460/464 [============================>.] - ETA: 0s - loss: 1.0706 - accuracy: 0.3970"
          ]
        },
        {
          "name": "stderr",
          "output_type": "stream",
          "text": [
            "  2%|▏         | 4/240 [00:24<21:45,  5.53s/epoch, loss=1.07, accuracy=0.397, val_loss=1.07, val_accuracy=0.414]"
          ]
        },
        {
          "name": "stdout",
          "output_type": "stream",
          "text": [
            "464/464 [==============================] - 5s 11ms/step - loss: 1.0706 - accuracy: 0.3971 - val_loss: 1.0659 - val_accuracy: 0.4138\n",
            "Epoch 5/240\n",
            "463/464 [============================>.] - ETA: 0s - loss: 1.0606 - accuracy: 0.4087"
          ]
        },
        {
          "name": "stderr",
          "output_type": "stream",
          "text": [
            "  2%|▏         | 5/240 [00:29<20:47,  5.31s/epoch, loss=1.06, accuracy=0.409, val_loss=1.06, val_accuracy=0.435]"
          ]
        },
        {
          "name": "stdout",
          "output_type": "stream",
          "text": [
            "464/464 [==============================] - 5s 11ms/step - loss: 1.0606 - accuracy: 0.4086 - val_loss: 1.0575 - val_accuracy: 0.4346\n",
            "Epoch 6/240\n",
            "461/464 [============================>.] - ETA: 0s - loss: 1.0560 - accuracy: 0.4193"
          ]
        },
        {
          "name": "stderr",
          "output_type": "stream",
          "text": [
            "  2%|▎         | 6/240 [00:33<20:12,  5.18s/epoch, loss=1.06, accuracy=0.419, val_loss=1.05, val_accuracy=0.442]"
          ]
        },
        {
          "name": "stdout",
          "output_type": "stream",
          "text": [
            "464/464 [==============================] - 5s 11ms/step - loss: 1.0559 - accuracy: 0.4195 - val_loss: 1.0523 - val_accuracy: 0.4416\n",
            "Epoch 7/240\n",
            "461/464 [============================>.] - ETA: 0s - loss: 1.0517 - accuracy: 0.4265"
          ]
        },
        {
          "name": "stderr",
          "output_type": "stream",
          "text": [
            "  3%|▎         | 7/240 [00:38<19:48,  5.10s/epoch, loss=1.05, accuracy=0.426, val_loss=1.05, val_accuracy=0.442]"
          ]
        },
        {
          "name": "stdout",
          "output_type": "stream",
          "text": [
            "464/464 [==============================] - 5s 11ms/step - loss: 1.0517 - accuracy: 0.4264 - val_loss: 1.0487 - val_accuracy: 0.4421\n",
            "Epoch 8/240\n",
            "462/464 [============================>.] - ETA: 0s - loss: 1.0491 - accuracy: 0.4328"
          ]
        },
        {
          "name": "stderr",
          "output_type": "stream",
          "text": [
            "  3%|▎         | 8/240 [00:43<19:29,  5.04s/epoch, loss=1.05, accuracy=0.433, val_loss=1.05, val_accuracy=0.448]"
          ]
        },
        {
          "name": "stdout",
          "output_type": "stream",
          "text": [
            "464/464 [==============================] - 5s 11ms/step - loss: 1.0491 - accuracy: 0.4328 - val_loss: 1.0454 - val_accuracy: 0.4481\n",
            "Epoch 9/240\n",
            "464/464 [==============================] - ETA: 0s - loss: 1.0478 - accuracy: 0.4348"
          ]
        },
        {
          "name": "stderr",
          "output_type": "stream",
          "text": [
            "  4%|▍         | 9/240 [00:51<22:02,  5.73s/epoch, loss=1.05, accuracy=0.435, val_loss=1.04, val_accuracy=0.45] "
          ]
        },
        {
          "name": "stdout",
          "output_type": "stream",
          "text": [
            "464/464 [==============================] - 7s 16ms/step - loss: 1.0478 - accuracy: 0.4348 - val_loss: 1.0434 - val_accuracy: 0.4496\n",
            "Epoch 10/240\n",
            "463/464 [============================>.] - ETA: 0s - loss: 1.0450 - accuracy: 0.4384"
          ]
        },
        {
          "name": "stderr",
          "output_type": "stream",
          "text": [
            "  4%|▍         | 10/240 [00:56<21:44,  5.67s/epoch, loss=1.04, accuracy=0.439, val_loss=1.04, val_accuracy=0.451]"
          ]
        },
        {
          "name": "stdout",
          "output_type": "stream",
          "text": [
            "464/464 [==============================] - 5s 12ms/step - loss: 1.0450 - accuracy: 0.4386 - val_loss: 1.0413 - val_accuracy: 0.4511\n",
            "Epoch 11/240\n",
            "463/464 [============================>.] - ETA: 0s - loss: 1.0446 - accuracy: 0.4392"
          ]
        },
        {
          "name": "stderr",
          "output_type": "stream",
          "text": [
            "  5%|▍         | 11/240 [01:01<20:50,  5.46s/epoch, loss=1.04, accuracy=0.439, val_loss=1.04, val_accuracy=0.452]"
          ]
        },
        {
          "name": "stdout",
          "output_type": "stream",
          "text": [
            "464/464 [==============================] - 5s 11ms/step - loss: 1.0446 - accuracy: 0.4392 - val_loss: 1.0399 - val_accuracy: 0.4515\n",
            "Epoch 12/240\n",
            "461/464 [============================>.] - ETA: 0s - loss: 1.0426 - accuracy: 0.4401"
          ]
        },
        {
          "name": "stderr",
          "output_type": "stream",
          "text": [
            "  5%|▌         | 12/240 [01:06<20:06,  5.29s/epoch, loss=1.04, accuracy=0.44, val_loss=1.04, val_accuracy=0.452] "
          ]
        },
        {
          "name": "stdout",
          "output_type": "stream",
          "text": [
            "464/464 [==============================] - 5s 11ms/step - loss: 1.0426 - accuracy: 0.4401 - val_loss: 1.0385 - val_accuracy: 0.4519\n",
            "Epoch 13/240\n",
            "460/464 [============================>.] - ETA: 0s - loss: 1.0419 - accuracy: 0.4437"
          ]
        },
        {
          "name": "stderr",
          "output_type": "stream",
          "text": [
            "  5%|▌         | 13/240 [01:11<19:35,  5.18s/epoch, loss=1.04, accuracy=0.444, val_loss=1.04, val_accuracy=0.457]"
          ]
        },
        {
          "name": "stdout",
          "output_type": "stream",
          "text": [
            "464/464 [==============================] - 5s 11ms/step - loss: 1.0417 - accuracy: 0.4437 - val_loss: 1.0371 - val_accuracy: 0.4567\n",
            "Epoch 14/240\n",
            "462/464 [============================>.] - ETA: 0s - loss: 1.0405 - accuracy: 0.4450"
          ]
        },
        {
          "name": "stderr",
          "output_type": "stream",
          "text": [
            "  6%|▌         | 14/240 [01:16<19:13,  5.10s/epoch, loss=1.04, accuracy=0.445, val_loss=1.04, val_accuracy=0.453]"
          ]
        },
        {
          "name": "stdout",
          "output_type": "stream",
          "text": [
            "464/464 [==============================] - 5s 11ms/step - loss: 1.0405 - accuracy: 0.4450 - val_loss: 1.0360 - val_accuracy: 0.4530\n",
            "Epoch 15/240\n",
            "463/464 [============================>.] - ETA: 0s - loss: 1.0384 - accuracy: 0.4473"
          ]
        },
        {
          "name": "stderr",
          "output_type": "stream",
          "text": [
            "  6%|▋         | 15/240 [01:21<18:55,  5.05s/epoch, loss=1.04, accuracy=0.447, val_loss=1.04, val_accuracy=0.453]"
          ]
        },
        {
          "name": "stdout",
          "output_type": "stream",
          "text": [
            "464/464 [==============================] - 5s 11ms/step - loss: 1.0384 - accuracy: 0.4473 - val_loss: 1.0350 - val_accuracy: 0.4531\n",
            "Epoch 16/240\n",
            "460/464 [============================>.] - ETA: 0s - loss: 1.0384 - accuracy: 0.4485"
          ]
        },
        {
          "name": "stderr",
          "output_type": "stream",
          "text": [
            "  7%|▋         | 16/240 [01:26<18:42,  5.01s/epoch, loss=1.04, accuracy=0.448, val_loss=1.03, val_accuracy=0.456]"
          ]
        },
        {
          "name": "stdout",
          "output_type": "stream",
          "text": [
            "464/464 [==============================] - 5s 11ms/step - loss: 1.0385 - accuracy: 0.4484 - val_loss: 1.0339 - val_accuracy: 0.4561\n",
            "Epoch 17/240\n",
            "463/464 [============================>.] - ETA: 0s - loss: 1.0366 - accuracy: 0.4468"
          ]
        },
        {
          "name": "stderr",
          "output_type": "stream",
          "text": [
            "  7%|▋         | 17/240 [01:31<18:31,  4.98s/epoch, loss=1.04, accuracy=0.447, val_loss=1.03, val_accuracy=0.458]"
          ]
        },
        {
          "name": "stdout",
          "output_type": "stream",
          "text": [
            "464/464 [==============================] - 5s 11ms/step - loss: 1.0367 - accuracy: 0.4469 - val_loss: 1.0330 - val_accuracy: 0.4584\n",
            "Epoch 18/240\n",
            "461/464 [============================>.] - ETA: 0s - loss: 1.0357 - accuracy: 0.4497"
          ]
        },
        {
          "name": "stderr",
          "output_type": "stream",
          "text": [
            "  8%|▊         | 18/240 [01:36<18:21,  4.96s/epoch, loss=1.04, accuracy=0.45, val_loss=1.03, val_accuracy=0.457] "
          ]
        },
        {
          "name": "stdout",
          "output_type": "stream",
          "text": [
            "464/464 [==============================] - 5s 11ms/step - loss: 1.0357 - accuracy: 0.4497 - val_loss: 1.0324 - val_accuracy: 0.4573\n",
            "Epoch 19/240\n",
            "460/464 [============================>.] - ETA: 0s - loss: 1.0340 - accuracy: 0.4508"
          ]
        },
        {
          "name": "stderr",
          "output_type": "stream",
          "text": [
            "  8%|▊         | 19/240 [01:40<18:13,  4.95s/epoch, loss=1.03, accuracy=0.451, val_loss=1.03, val_accuracy=0.457]"
          ]
        },
        {
          "name": "stdout",
          "output_type": "stream",
          "text": [
            "464/464 [==============================] - 5s 11ms/step - loss: 1.0341 - accuracy: 0.4510 - val_loss: 1.0316 - val_accuracy: 0.4567\n",
            "Epoch 20/240\n",
            "464/464 [==============================] - ETA: 0s - loss: 1.0345 - accuracy: 0.4502"
          ]
        },
        {
          "name": "stderr",
          "output_type": "stream",
          "text": [
            "  8%|▊         | 20/240 [01:45<18:06,  4.94s/epoch, loss=1.03, accuracy=0.45, val_loss=1.03, val_accuracy=0.457] "
          ]
        },
        {
          "name": "stdout",
          "output_type": "stream",
          "text": [
            "464/464 [==============================] - 5s 11ms/step - loss: 1.0345 - accuracy: 0.4502 - val_loss: 1.0312 - val_accuracy: 0.4573\n",
            "Epoch 21/240\n",
            "464/464 [==============================] - ETA: 0s - loss: 1.0321 - accuracy: 0.4531"
          ]
        },
        {
          "name": "stderr",
          "output_type": "stream",
          "text": [
            "  9%|▉         | 21/240 [01:50<18:02,  4.94s/epoch, loss=1.03, accuracy=0.453, val_loss=1.03, val_accuracy=0.456]"
          ]
        },
        {
          "name": "stdout",
          "output_type": "stream",
          "text": [
            "464/464 [==============================] - 5s 11ms/step - loss: 1.0321 - accuracy: 0.4531 - val_loss: 1.0309 - val_accuracy: 0.4564\n",
            "Epoch 22/240\n",
            "464/464 [==============================] - ETA: 0s - loss: 1.0314 - accuracy: 0.4559"
          ]
        },
        {
          "name": "stderr",
          "output_type": "stream",
          "text": [
            "  9%|▉         | 22/240 [01:55<17:57,  4.94s/epoch, loss=1.03, accuracy=0.456, val_loss=1.03, val_accuracy=0.456]"
          ]
        },
        {
          "name": "stdout",
          "output_type": "stream",
          "text": [
            "464/464 [==============================] - 5s 11ms/step - loss: 1.0314 - accuracy: 0.4559 - val_loss: 1.0301 - val_accuracy: 0.4565\n",
            "Epoch 23/240\n",
            "461/464 [============================>.] - ETA: 0s - loss: 1.0315 - accuracy: 0.4536"
          ]
        },
        {
          "name": "stderr",
          "output_type": "stream",
          "text": [
            " 10%|▉         | 23/240 [02:00<17:50,  4.93s/epoch, loss=1.03, accuracy=0.453, val_loss=1.03, val_accuracy=0.457]"
          ]
        },
        {
          "name": "stdout",
          "output_type": "stream",
          "text": [
            "464/464 [==============================] - 5s 11ms/step - loss: 1.0315 - accuracy: 0.4535 - val_loss: 1.0300 - val_accuracy: 0.4572\n",
            "Epoch 24/240\n",
            "461/464 [============================>.] - ETA: 0s - loss: 1.0314 - accuracy: 0.4554"
          ]
        },
        {
          "name": "stderr",
          "output_type": "stream",
          "text": [
            " 10%|█         | 24/240 [02:05<17:44,  4.93s/epoch, loss=1.03, accuracy=0.455, val_loss=1.03, val_accuracy=0.457]"
          ]
        },
        {
          "name": "stdout",
          "output_type": "stream",
          "text": [
            "464/464 [==============================] - 5s 11ms/step - loss: 1.0315 - accuracy: 0.4552 - val_loss: 1.0296 - val_accuracy: 0.4574\n",
            "Epoch 25/240\n",
            "462/464 [============================>.] - ETA: 0s - loss: 1.0302 - accuracy: 0.4526"
          ]
        },
        {
          "name": "stderr",
          "output_type": "stream",
          "text": [
            " 10%|█         | 25/240 [02:10<17:39,  4.93s/epoch, loss=1.03, accuracy=0.453, val_loss=1.03, val_accuracy=0.458]"
          ]
        },
        {
          "name": "stdout",
          "output_type": "stream",
          "text": [
            "464/464 [==============================] - 5s 11ms/step - loss: 1.0301 - accuracy: 0.4526 - val_loss: 1.0293 - val_accuracy: 0.4580\n",
            "Epoch 26/240\n",
            "464/464 [==============================] - ETA: 0s - loss: 1.0311 - accuracy: 0.4544"
          ]
        },
        {
          "name": "stderr",
          "output_type": "stream",
          "text": [
            " 11%|█         | 26/240 [02:15<17:31,  4.91s/epoch, loss=1.03, accuracy=0.454, val_loss=1.03, val_accuracy=0.459]"
          ]
        },
        {
          "name": "stdout",
          "output_type": "stream",
          "text": [
            "464/464 [==============================] - 5s 11ms/step - loss: 1.0311 - accuracy: 0.4544 - val_loss: 1.0292 - val_accuracy: 0.4587\n",
            "Epoch 27/240\n",
            "463/464 [============================>.] - ETA: 0s - loss: 1.0298 - accuracy: 0.4515"
          ]
        },
        {
          "name": "stderr",
          "output_type": "stream",
          "text": [
            " 11%|█▏        | 27/240 [02:20<17:21,  4.89s/epoch, loss=1.03, accuracy=0.451, val_loss=1.03, val_accuracy=0.459]"
          ]
        },
        {
          "name": "stdout",
          "output_type": "stream",
          "text": [
            "464/464 [==============================] - 5s 10ms/step - loss: 1.0298 - accuracy: 0.4514 - val_loss: 1.0288 - val_accuracy: 0.4587\n",
            "Epoch 28/240\n",
            "460/464 [============================>.] - ETA: 0s - loss: 1.0285 - accuracy: 0.4558"
          ]
        },
        {
          "name": "stderr",
          "output_type": "stream",
          "text": [
            " 12%|█▏        | 28/240 [02:25<17:27,  4.94s/epoch, loss=1.03, accuracy=0.456, val_loss=1.03, val_accuracy=0.457]"
          ]
        },
        {
          "name": "stdout",
          "output_type": "stream",
          "text": [
            "464/464 [==============================] - 5s 11ms/step - loss: 1.0285 - accuracy: 0.4558 - val_loss: 1.0283 - val_accuracy: 0.4571\n",
            "Epoch 29/240\n",
            "464/464 [==============================] - ETA: 0s - loss: 1.0284 - accuracy: 0.4510"
          ]
        },
        {
          "name": "stderr",
          "output_type": "stream",
          "text": [
            " 12%|█▏        | 29/240 [02:30<17:21,  4.94s/epoch, loss=1.03, accuracy=0.451, val_loss=1.03, val_accuracy=0.458]"
          ]
        },
        {
          "name": "stdout",
          "output_type": "stream",
          "text": [
            "464/464 [==============================] - 5s 11ms/step - loss: 1.0284 - accuracy: 0.4510 - val_loss: 1.0282 - val_accuracy: 0.4579\n",
            "Epoch 30/240\n",
            "463/464 [============================>.] - ETA: 0s - loss: 1.0297 - accuracy: 0.4526"
          ]
        },
        {
          "name": "stderr",
          "output_type": "stream",
          "text": [
            " 12%|█▎        | 30/240 [02:35<17:12,  4.92s/epoch, loss=1.03, accuracy=0.453, val_loss=1.03, val_accuracy=0.458]"
          ]
        },
        {
          "name": "stdout",
          "output_type": "stream",
          "text": [
            "464/464 [==============================] - 5s 10ms/step - loss: 1.0297 - accuracy: 0.4527 - val_loss: 1.0281 - val_accuracy: 0.4575\n",
            "Epoch 31/240\n",
            "464/464 [==============================] - ETA: 0s - loss: 1.0274 - accuracy: 0.4563"
          ]
        },
        {
          "name": "stderr",
          "output_type": "stream",
          "text": [
            " 13%|█▎        | 31/240 [02:40<17:10,  4.93s/epoch, loss=1.03, accuracy=0.456, val_loss=1.03, val_accuracy=0.459]"
          ]
        },
        {
          "name": "stdout",
          "output_type": "stream",
          "text": [
            "464/464 [==============================] - 5s 11ms/step - loss: 1.0274 - accuracy: 0.4563 - val_loss: 1.0276 - val_accuracy: 0.4591\n",
            "Epoch 32/240\n",
            "464/464 [==============================] - ETA: 0s - loss: 1.0262 - accuracy: 0.4565"
          ]
        },
        {
          "name": "stderr",
          "output_type": "stream",
          "text": [
            " 13%|█▎        | 32/240 [02:44<17:04,  4.92s/epoch, loss=1.03, accuracy=0.456, val_loss=1.03, val_accuracy=0.458]"
          ]
        },
        {
          "name": "stdout",
          "output_type": "stream",
          "text": [
            "464/464 [==============================] - 5s 11ms/step - loss: 1.0262 - accuracy: 0.4565 - val_loss: 1.0274 - val_accuracy: 0.4584\n",
            "Epoch 33/240\n",
            "463/464 [============================>.] - ETA: 0s - loss: 1.0269 - accuracy: 0.4566"
          ]
        },
        {
          "name": "stderr",
          "output_type": "stream",
          "text": [
            " 14%|█▍        | 33/240 [02:49<16:54,  4.90s/epoch, loss=1.03, accuracy=0.457, val_loss=1.03, val_accuracy=0.457]"
          ]
        },
        {
          "name": "stdout",
          "output_type": "stream",
          "text": [
            "464/464 [==============================] - 5s 10ms/step - loss: 1.0269 - accuracy: 0.4566 - val_loss: 1.0275 - val_accuracy: 0.4566\n",
            "Epoch 34/240\n",
            "462/464 [============================>.] - ETA: 0s - loss: 1.0275 - accuracy: 0.4543"
          ]
        },
        {
          "name": "stderr",
          "output_type": "stream",
          "text": [
            " 14%|█▍        | 34/240 [02:54<16:52,  4.91s/epoch, loss=1.03, accuracy=0.455, val_loss=1.03, val_accuracy=0.458]"
          ]
        },
        {
          "name": "stdout",
          "output_type": "stream",
          "text": [
            "464/464 [==============================] - 5s 11ms/step - loss: 1.0273 - accuracy: 0.4546 - val_loss: 1.0273 - val_accuracy: 0.4584\n",
            "Epoch 35/240\n",
            "459/464 [============================>.] - ETA: 0s - loss: 1.0265 - accuracy: 0.4596"
          ]
        },
        {
          "name": "stderr",
          "output_type": "stream",
          "text": [
            " 15%|█▍        | 35/240 [02:59<16:48,  4.92s/epoch, loss=1.03, accuracy=0.459, val_loss=1.03, val_accuracy=0.459]"
          ]
        },
        {
          "name": "stdout",
          "output_type": "stream",
          "text": [
            "464/464 [==============================] - 5s 11ms/step - loss: 1.0265 - accuracy: 0.4594 - val_loss: 1.0269 - val_accuracy: 0.4586\n",
            "Epoch 36/240\n",
            "460/464 [============================>.] - ETA: 0s - loss: 1.0271 - accuracy: 0.4582"
          ]
        },
        {
          "name": "stderr",
          "output_type": "stream",
          "text": [
            " 15%|█▌        | 36/240 [03:05<17:15,  5.08s/epoch, loss=1.03, accuracy=0.458, val_loss=1.03, val_accuracy=0.457]"
          ]
        },
        {
          "name": "stdout",
          "output_type": "stream",
          "text": [
            "464/464 [==============================] - 5s 12ms/step - loss: 1.0272 - accuracy: 0.4583 - val_loss: 1.0266 - val_accuracy: 0.4572\n",
            "Epoch 37/240\n",
            "463/464 [============================>.] - ETA: 0s - loss: 1.0258 - accuracy: 0.4560"
          ]
        },
        {
          "name": "stderr",
          "output_type": "stream",
          "text": [
            " 15%|█▌        | 37/240 [03:10<17:39,  5.22s/epoch, loss=1.03, accuracy=0.456, val_loss=1.03, val_accuracy=0.457]"
          ]
        },
        {
          "name": "stdout",
          "output_type": "stream",
          "text": [
            "464/464 [==============================] - 6s 12ms/step - loss: 1.0258 - accuracy: 0.4560 - val_loss: 1.0264 - val_accuracy: 0.4571\n",
            "Epoch 38/240\n",
            "463/464 [============================>.] - ETA: 0s - loss: 1.0263 - accuracy: 0.4554"
          ]
        },
        {
          "name": "stderr",
          "output_type": "stream",
          "text": [
            " 16%|█▌        | 38/240 [03:16<17:41,  5.26s/epoch, loss=1.03, accuracy=0.455, val_loss=1.03, val_accuracy=0.456]"
          ]
        },
        {
          "name": "stdout",
          "output_type": "stream",
          "text": [
            "464/464 [==============================] - 5s 12ms/step - loss: 1.0264 - accuracy: 0.4554 - val_loss: 1.0262 - val_accuracy: 0.4560\n",
            "Epoch 39/240\n",
            "462/464 [============================>.] - ETA: 0s - loss: 1.0253 - accuracy: 0.4599"
          ]
        },
        {
          "name": "stderr",
          "output_type": "stream",
          "text": [
            " 16%|█▋        | 39/240 [03:21<17:38,  5.27s/epoch, loss=1.03, accuracy=0.46, val_loss=1.03, val_accuracy=0.456] "
          ]
        },
        {
          "name": "stdout",
          "output_type": "stream",
          "text": [
            "464/464 [==============================] - 5s 11ms/step - loss: 1.0254 - accuracy: 0.4598 - val_loss: 1.0263 - val_accuracy: 0.4563\n",
            "Epoch 40/240\n",
            "462/464 [============================>.] - ETA: 0s - loss: 1.0243 - accuracy: 0.4580"
          ]
        },
        {
          "name": "stderr",
          "output_type": "stream",
          "text": [
            " 17%|█▋        | 40/240 [03:26<17:37,  5.29s/epoch, loss=1.02, accuracy=0.458, val_loss=1.03, val_accuracy=0.455]"
          ]
        },
        {
          "name": "stdout",
          "output_type": "stream",
          "text": [
            "464/464 [==============================] - 5s 11ms/step - loss: 1.0245 - accuracy: 0.4580 - val_loss: 1.0257 - val_accuracy: 0.4551\n",
            "Epoch 41/240\n",
            "461/464 [============================>.] - ETA: 0s - loss: 1.0231 - accuracy: 0.4589"
          ]
        },
        {
          "name": "stderr",
          "output_type": "stream",
          "text": [
            " 17%|█▋        | 41/240 [03:31<17:32,  5.29s/epoch, loss=1.02, accuracy=0.459, val_loss=1.03, val_accuracy=0.457]"
          ]
        },
        {
          "name": "stdout",
          "output_type": "stream",
          "text": [
            "464/464 [==============================] - 5s 11ms/step - loss: 1.0232 - accuracy: 0.4588 - val_loss: 1.0255 - val_accuracy: 0.4573\n",
            "Epoch 42/240\n",
            "464/464 [==============================] - ETA: 0s - loss: 1.0257 - accuracy: 0.4569"
          ]
        },
        {
          "name": "stderr",
          "output_type": "stream",
          "text": [
            " 18%|█▊        | 42/240 [03:37<17:29,  5.30s/epoch, loss=1.03, accuracy=0.457, val_loss=1.03, val_accuracy=0.458]"
          ]
        },
        {
          "name": "stdout",
          "output_type": "stream",
          "text": [
            "464/464 [==============================] - 5s 12ms/step - loss: 1.0257 - accuracy: 0.4569 - val_loss: 1.0255 - val_accuracy: 0.4579\n",
            "Epoch 43/240\n",
            "464/464 [==============================] - ETA: 0s - loss: 1.0246 - accuracy: 0.4599"
          ]
        },
        {
          "name": "stderr",
          "output_type": "stream",
          "text": [
            " 18%|█▊        | 43/240 [03:42<17:29,  5.33s/epoch, loss=1.02, accuracy=0.46, val_loss=1.03, val_accuracy=0.457] "
          ]
        },
        {
          "name": "stdout",
          "output_type": "stream",
          "text": [
            "464/464 [==============================] - 5s 12ms/step - loss: 1.0246 - accuracy: 0.4599 - val_loss: 1.0254 - val_accuracy: 0.4568\n",
            "Epoch 44/240\n",
            "462/464 [============================>.] - ETA: 0s - loss: 1.0241 - accuracy: 0.4570"
          ]
        },
        {
          "name": "stderr",
          "output_type": "stream",
          "text": [
            " 18%|█▊        | 44/240 [03:47<17:23,  5.33s/epoch, loss=1.02, accuracy=0.457, val_loss=1.02, val_accuracy=0.458]"
          ]
        },
        {
          "name": "stdout",
          "output_type": "stream",
          "text": [
            "464/464 [==============================] - 5s 11ms/step - loss: 1.0241 - accuracy: 0.4569 - val_loss: 1.0247 - val_accuracy: 0.4579\n",
            "Epoch 45/240\n",
            "462/464 [============================>.] - ETA: 0s - loss: 1.0233 - accuracy: 0.4606"
          ]
        },
        {
          "name": "stderr",
          "output_type": "stream",
          "text": [
            " 19%|█▉        | 45/240 [03:56<20:29,  6.30s/epoch, loss=1.02, accuracy=0.461, val_loss=1.02, val_accuracy=0.458]"
          ]
        },
        {
          "name": "stdout",
          "output_type": "stream",
          "text": [
            "464/464 [==============================] - 9s 19ms/step - loss: 1.0234 - accuracy: 0.4607 - val_loss: 1.0247 - val_accuracy: 0.4584\n",
            "Epoch 46/240\n",
            "463/464 [============================>.] - ETA: 0s - loss: 1.0232 - accuracy: 0.4585"
          ]
        },
        {
          "name": "stderr",
          "output_type": "stream",
          "text": [
            " 19%|█▉        | 46/240 [04:01<19:32,  6.04s/epoch, loss=1.02, accuracy=0.458, val_loss=1.02, val_accuracy=0.457]"
          ]
        },
        {
          "name": "stdout",
          "output_type": "stream",
          "text": [
            "464/464 [==============================] - 5s 12ms/step - loss: 1.0233 - accuracy: 0.4585 - val_loss: 1.0245 - val_accuracy: 0.4573\n",
            "Epoch 47/240\n",
            "463/464 [============================>.] - ETA: 0s - loss: 1.0216 - accuracy: 0.4612"
          ]
        },
        {
          "name": "stderr",
          "output_type": "stream",
          "text": [
            " 20%|█▉        | 47/240 [04:07<19:02,  5.92s/epoch, loss=1.02, accuracy=0.461, val_loss=1.02, val_accuracy=0.459]"
          ]
        },
        {
          "name": "stdout",
          "output_type": "stream",
          "text": [
            "464/464 [==============================] - 6s 12ms/step - loss: 1.0217 - accuracy: 0.4612 - val_loss: 1.0244 - val_accuracy: 0.4593\n",
            "Epoch 48/240\n",
            "461/464 [============================>.] - ETA: 0s - loss: 1.0230 - accuracy: 0.4609"
          ]
        },
        {
          "name": "stderr",
          "output_type": "stream",
          "text": [
            " 20%|██        | 48/240 [04:12<18:23,  5.75s/epoch, loss=1.02, accuracy=0.461, val_loss=1.02, val_accuracy=0.458]"
          ]
        },
        {
          "name": "stdout",
          "output_type": "stream",
          "text": [
            "464/464 [==============================] - 5s 11ms/step - loss: 1.0231 - accuracy: 0.4609 - val_loss: 1.0242 - val_accuracy: 0.4584\n",
            "Epoch 49/240\n",
            "459/464 [============================>.] - ETA: 0s - loss: 1.0233 - accuracy: 0.4609"
          ]
        },
        {
          "name": "stderr",
          "output_type": "stream",
          "text": [
            " 20%|██        | 49/240 [04:18<17:54,  5.62s/epoch, loss=1.02, accuracy=0.461, val_loss=1.02, val_accuracy=0.459]"
          ]
        },
        {
          "name": "stdout",
          "output_type": "stream",
          "text": [
            "464/464 [==============================] - 5s 11ms/step - loss: 1.0232 - accuracy: 0.4611 - val_loss: 1.0238 - val_accuracy: 0.4591\n",
            "Epoch 50/240\n",
            "459/464 [============================>.] - ETA: 0s - loss: 1.0222 - accuracy: 0.4597"
          ]
        },
        {
          "name": "stderr",
          "output_type": "stream",
          "text": [
            " 21%|██        | 50/240 [04:23<17:36,  5.56s/epoch, loss=1.02, accuracy=0.46, val_loss=1.02, val_accuracy=0.458] "
          ]
        },
        {
          "name": "stdout",
          "output_type": "stream",
          "text": [
            "464/464 [==============================] - 5s 12ms/step - loss: 1.0219 - accuracy: 0.4599 - val_loss: 1.0237 - val_accuracy: 0.4578\n",
            "Epoch 51/240\n",
            "464/464 [==============================] - ETA: 0s - loss: 1.0213 - accuracy: 0.4613"
          ]
        },
        {
          "name": "stderr",
          "output_type": "stream",
          "text": [
            " 21%|██▏       | 51/240 [04:29<17:18,  5.49s/epoch, loss=1.02, accuracy=0.461, val_loss=1.02, val_accuracy=0.459]"
          ]
        },
        {
          "name": "stdout",
          "output_type": "stream",
          "text": [
            "464/464 [==============================] - 5s 11ms/step - loss: 1.0213 - accuracy: 0.4613 - val_loss: 1.0237 - val_accuracy: 0.4589\n",
            "Epoch 52/240\n",
            "461/464 [============================>.] - ETA: 0s - loss: 1.0216 - accuracy: 0.4607"
          ]
        },
        {
          "name": "stderr",
          "output_type": "stream",
          "text": [
            " 22%|██▏       | 52/240 [04:34<17:05,  5.45s/epoch, loss=1.02, accuracy=0.461, val_loss=1.02, val_accuracy=0.461]"
          ]
        },
        {
          "name": "stdout",
          "output_type": "stream",
          "text": [
            "464/464 [==============================] - 5s 12ms/step - loss: 1.0216 - accuracy: 0.4607 - val_loss: 1.0233 - val_accuracy: 0.4609\n",
            "Epoch 53/240\n",
            "464/464 [==============================] - ETA: 0s - loss: 1.0220 - accuracy: 0.4612"
          ]
        },
        {
          "name": "stderr",
          "output_type": "stream",
          "text": [
            " 22%|██▏       | 53/240 [04:39<16:51,  5.41s/epoch, loss=1.02, accuracy=0.461, val_loss=1.02, val_accuracy=0.456]"
          ]
        },
        {
          "name": "stdout",
          "output_type": "stream",
          "text": [
            "464/464 [==============================] - 5s 11ms/step - loss: 1.0220 - accuracy: 0.4612 - val_loss: 1.0238 - val_accuracy: 0.4561\n",
            "Epoch 54/240\n",
            "462/464 [============================>.] - ETA: 0s - loss: 1.0219 - accuracy: 0.4594"
          ]
        },
        {
          "name": "stderr",
          "output_type": "stream",
          "text": [
            " 22%|██▎       | 54/240 [04:45<16:42,  5.39s/epoch, loss=1.02, accuracy=0.46, val_loss=1.02, val_accuracy=0.457] "
          ]
        },
        {
          "name": "stdout",
          "output_type": "stream",
          "text": [
            "464/464 [==============================] - 5s 12ms/step - loss: 1.0218 - accuracy: 0.4596 - val_loss: 1.0236 - val_accuracy: 0.4571\n",
            "Epoch 55/240\n",
            "460/464 [============================>.] - ETA: 0s - loss: 1.0199 - accuracy: 0.4639"
          ]
        },
        {
          "name": "stderr",
          "output_type": "stream",
          "text": [
            " 23%|██▎       | 55/240 [04:50<16:34,  5.37s/epoch, loss=1.02, accuracy=0.464, val_loss=1.02, val_accuracy=0.461]"
          ]
        },
        {
          "name": "stdout",
          "output_type": "stream",
          "text": [
            "464/464 [==============================] - 5s 12ms/step - loss: 1.0198 - accuracy: 0.4642 - val_loss: 1.0230 - val_accuracy: 0.4606\n",
            "Epoch 56/240\n",
            "461/464 [============================>.] - ETA: 0s - loss: 1.0218 - accuracy: 0.4626"
          ]
        },
        {
          "name": "stderr",
          "output_type": "stream",
          "text": [
            " 23%|██▎       | 56/240 [04:55<16:30,  5.39s/epoch, loss=1.02, accuracy=0.463, val_loss=1.02, val_accuracy=0.46] "
          ]
        },
        {
          "name": "stdout",
          "output_type": "stream",
          "text": [
            "464/464 [==============================] - 5s 12ms/step - loss: 1.0218 - accuracy: 0.4627 - val_loss: 1.0231 - val_accuracy: 0.4600\n",
            "Epoch 57/240\n",
            "461/464 [============================>.] - ETA: 0s - loss: 1.0200 - accuracy: 0.4637"
          ]
        },
        {
          "name": "stderr",
          "output_type": "stream",
          "text": [
            " 24%|██▍       | 57/240 [05:01<16:21,  5.36s/epoch, loss=1.02, accuracy=0.464, val_loss=1.02, val_accuracy=0.462]"
          ]
        },
        {
          "name": "stdout",
          "output_type": "stream",
          "text": [
            "464/464 [==============================] - 5s 11ms/step - loss: 1.0199 - accuracy: 0.4636 - val_loss: 1.0227 - val_accuracy: 0.4623\n",
            "Epoch 58/240\n",
            "460/464 [============================>.] - ETA: 0s - loss: 1.0192 - accuracy: 0.4640"
          ]
        },
        {
          "name": "stderr",
          "output_type": "stream",
          "text": [
            " 24%|██▍       | 58/240 [05:06<16:14,  5.35s/epoch, loss=1.02, accuracy=0.464, val_loss=1.02, val_accuracy=0.464]"
          ]
        },
        {
          "name": "stdout",
          "output_type": "stream",
          "text": [
            "464/464 [==============================] - 5s 11ms/step - loss: 1.0191 - accuracy: 0.4639 - val_loss: 1.0224 - val_accuracy: 0.4636\n",
            "Epoch 59/240\n",
            "461/464 [============================>.] - ETA: 0s - loss: 1.0198 - accuracy: 0.4601"
          ]
        },
        {
          "name": "stderr",
          "output_type": "stream",
          "text": [
            " 25%|██▍       | 59/240 [05:11<16:07,  5.34s/epoch, loss=1.02, accuracy=0.46, val_loss=1.02, val_accuracy=0.461] "
          ]
        },
        {
          "name": "stdout",
          "output_type": "stream",
          "text": [
            "464/464 [==============================] - 5s 11ms/step - loss: 1.0198 - accuracy: 0.4600 - val_loss: 1.0227 - val_accuracy: 0.4614\n",
            "Epoch 60/240\n",
            "461/464 [============================>.] - ETA: 0s - loss: 1.0188 - accuracy: 0.4640"
          ]
        },
        {
          "name": "stderr",
          "output_type": "stream",
          "text": [
            " 25%|██▌       | 60/240 [05:17<16:03,  5.35s/epoch, loss=1.02, accuracy=0.464, val_loss=1.02, val_accuracy=0.464]"
          ]
        },
        {
          "name": "stdout",
          "output_type": "stream",
          "text": [
            "464/464 [==============================] - 5s 12ms/step - loss: 1.0188 - accuracy: 0.4644 - val_loss: 1.0222 - val_accuracy: 0.4637\n",
            "Epoch 61/240\n",
            "460/464 [============================>.] - ETA: 0s - loss: 1.0189 - accuracy: 0.4625"
          ]
        },
        {
          "name": "stderr",
          "output_type": "stream",
          "text": [
            " 25%|██▌       | 61/240 [05:22<15:55,  5.34s/epoch, loss=1.02, accuracy=0.462, val_loss=1.02, val_accuracy=0.465]"
          ]
        },
        {
          "name": "stdout",
          "output_type": "stream",
          "text": [
            "464/464 [==============================] - 5s 11ms/step - loss: 1.0190 - accuracy: 0.4624 - val_loss: 1.0220 - val_accuracy: 0.4649\n",
            "Epoch 62/240\n",
            "462/464 [============================>.] - ETA: 0s - loss: 1.0193 - accuracy: 0.4636"
          ]
        },
        {
          "name": "stderr",
          "output_type": "stream",
          "text": [
            " 26%|██▌       | 62/240 [05:27<15:48,  5.33s/epoch, loss=1.02, accuracy=0.463, val_loss=1.02, val_accuracy=0.462]"
          ]
        },
        {
          "name": "stdout",
          "output_type": "stream",
          "text": [
            "464/464 [==============================] - 5s 11ms/step - loss: 1.0193 - accuracy: 0.4634 - val_loss: 1.0222 - val_accuracy: 0.4622\n",
            "Epoch 63/240\n",
            "461/464 [============================>.] - ETA: 0s - loss: 1.0184 - accuracy: 0.4650"
          ]
        },
        {
          "name": "stderr",
          "output_type": "stream",
          "text": [
            " 26%|██▋       | 63/240 [05:33<15:43,  5.33s/epoch, loss=1.02, accuracy=0.465, val_loss=1.02, val_accuracy=0.464]"
          ]
        },
        {
          "name": "stdout",
          "output_type": "stream",
          "text": [
            "464/464 [==============================] - 5s 12ms/step - loss: 1.0186 - accuracy: 0.4649 - val_loss: 1.0220 - val_accuracy: 0.4643\n",
            "Epoch 64/240\n",
            "461/464 [============================>.] - ETA: 0s - loss: 1.0190 - accuracy: 0.4634"
          ]
        },
        {
          "name": "stderr",
          "output_type": "stream",
          "text": [
            " 27%|██▋       | 64/240 [05:38<15:42,  5.35s/epoch, loss=1.02, accuracy=0.464, val_loss=1.02, val_accuracy=0.46] "
          ]
        },
        {
          "name": "stdout",
          "output_type": "stream",
          "text": [
            "464/464 [==============================] - 5s 12ms/step - loss: 1.0188 - accuracy: 0.4635 - val_loss: 1.0225 - val_accuracy: 0.4602\n",
            "Epoch 65/240\n",
            "464/464 [==============================] - ETA: 0s - loss: 1.0182 - accuracy: 0.4652"
          ]
        },
        {
          "name": "stderr",
          "output_type": "stream",
          "text": [
            " 27%|██▋       | 65/240 [05:43<15:39,  5.37s/epoch, loss=1.02, accuracy=0.465, val_loss=1.02, val_accuracy=0.464]"
          ]
        },
        {
          "name": "stdout",
          "output_type": "stream",
          "text": [
            "464/464 [==============================] - 5s 12ms/step - loss: 1.0182 - accuracy: 0.4652 - val_loss: 1.0218 - val_accuracy: 0.4639\n",
            "Epoch 66/240\n",
            "460/464 [============================>.] - ETA: 0s - loss: 1.0198 - accuracy: 0.4651"
          ]
        },
        {
          "name": "stderr",
          "output_type": "stream",
          "text": [
            " 28%|██▊       | 66/240 [05:49<15:33,  5.36s/epoch, loss=1.02, accuracy=0.465, val_loss=1.02, val_accuracy=0.466]"
          ]
        },
        {
          "name": "stdout",
          "output_type": "stream",
          "text": [
            "464/464 [==============================] - 5s 12ms/step - loss: 1.0194 - accuracy: 0.4655 - val_loss: 1.0215 - val_accuracy: 0.4664\n",
            "Epoch 67/240\n",
            "462/464 [============================>.] - ETA: 0s - loss: 1.0171 - accuracy: 0.4682"
          ]
        },
        {
          "name": "stderr",
          "output_type": "stream",
          "text": [
            " 28%|██▊       | 67/240 [05:54<15:30,  5.38s/epoch, loss=1.02, accuracy=0.468, val_loss=1.02, val_accuracy=0.465]"
          ]
        },
        {
          "name": "stdout",
          "output_type": "stream",
          "text": [
            "464/464 [==============================] - 5s 12ms/step - loss: 1.0171 - accuracy: 0.4682 - val_loss: 1.0213 - val_accuracy: 0.4654\n",
            "Epoch 68/240\n",
            "461/464 [============================>.] - ETA: 0s - loss: 1.0193 - accuracy: 0.4649"
          ]
        },
        {
          "name": "stderr",
          "output_type": "stream",
          "text": [
            " 28%|██▊       | 68/240 [06:00<15:22,  5.37s/epoch, loss=1.02, accuracy=0.465, val_loss=1.02, val_accuracy=0.467]"
          ]
        },
        {
          "name": "stdout",
          "output_type": "stream",
          "text": [
            "464/464 [==============================] - 5s 12ms/step - loss: 1.0190 - accuracy: 0.4652 - val_loss: 1.0212 - val_accuracy: 0.4665\n",
            "Epoch 69/240\n",
            "461/464 [============================>.] - ETA: 0s - loss: 1.0172 - accuracy: 0.4643"
          ]
        },
        {
          "name": "stderr",
          "output_type": "stream",
          "text": [
            " 29%|██▉       | 69/240 [06:05<15:16,  5.36s/epoch, loss=1.02, accuracy=0.464, val_loss=1.02, val_accuracy=0.464]"
          ]
        },
        {
          "name": "stdout",
          "output_type": "stream",
          "text": [
            "464/464 [==============================] - 5s 12ms/step - loss: 1.0174 - accuracy: 0.4642 - val_loss: 1.0216 - val_accuracy: 0.4645\n",
            "Epoch 70/240\n",
            "459/464 [============================>.] - ETA: 0s - loss: 1.0161 - accuracy: 0.4656"
          ]
        },
        {
          "name": "stderr",
          "output_type": "stream",
          "text": [
            " 29%|██▉       | 70/240 [06:10<15:23,  5.43s/epoch, loss=1.02, accuracy=0.466, val_loss=1.02, val_accuracy=0.467]"
          ]
        },
        {
          "name": "stdout",
          "output_type": "stream",
          "text": [
            "464/464 [==============================] - 6s 12ms/step - loss: 1.0158 - accuracy: 0.4656 - val_loss: 1.0211 - val_accuracy: 0.4666\n",
            "Epoch 71/240\n",
            "459/464 [============================>.] - ETA: 0s - loss: 1.0181 - accuracy: 0.4651"
          ]
        },
        {
          "name": "stderr",
          "output_type": "stream",
          "text": [
            " 30%|██▉       | 71/240 [06:16<15:14,  5.41s/epoch, loss=1.02, accuracy=0.465, val_loss=1.02, val_accuracy=0.467]"
          ]
        },
        {
          "name": "stdout",
          "output_type": "stream",
          "text": [
            "464/464 [==============================] - 5s 12ms/step - loss: 1.0182 - accuracy: 0.4648 - val_loss: 1.0209 - val_accuracy: 0.4671\n",
            "Epoch 72/240\n",
            "461/464 [============================>.] - ETA: 0s - loss: 1.0169 - accuracy: 0.4664"
          ]
        },
        {
          "name": "stderr",
          "output_type": "stream",
          "text": [
            " 30%|███       | 72/240 [06:21<15:05,  5.39s/epoch, loss=1.02, accuracy=0.466, val_loss=1.02, val_accuracy=0.461]"
          ]
        },
        {
          "name": "stdout",
          "output_type": "stream",
          "text": [
            "464/464 [==============================] - 5s 12ms/step - loss: 1.0170 - accuracy: 0.4663 - val_loss: 1.0218 - val_accuracy: 0.4608\n",
            "Epoch 73/240\n",
            "462/464 [============================>.] - ETA: 0s - loss: 1.0165 - accuracy: 0.4659"
          ]
        },
        {
          "name": "stderr",
          "output_type": "stream",
          "text": [
            " 30%|███       | 73/240 [06:27<14:58,  5.38s/epoch, loss=1.02, accuracy=0.466, val_loss=1.02, val_accuracy=0.467]"
          ]
        },
        {
          "name": "stdout",
          "output_type": "stream",
          "text": [
            "464/464 [==============================] - 5s 12ms/step - loss: 1.0164 - accuracy: 0.4658 - val_loss: 1.0206 - val_accuracy: 0.4672\n",
            "Epoch 74/240\n",
            "463/464 [============================>.] - ETA: 0s - loss: 1.0159 - accuracy: 0.4667"
          ]
        },
        {
          "name": "stderr",
          "output_type": "stream",
          "text": [
            " 31%|███       | 74/240 [06:32<14:49,  5.36s/epoch, loss=1.02, accuracy=0.467, val_loss=1.02, val_accuracy=0.468]"
          ]
        },
        {
          "name": "stdout",
          "output_type": "stream",
          "text": [
            "464/464 [==============================] - 5s 11ms/step - loss: 1.0159 - accuracy: 0.4668 - val_loss: 1.0205 - val_accuracy: 0.4682\n",
            "Epoch 75/240\n",
            "462/464 [============================>.] - ETA: 0s - loss: 1.0167 - accuracy: 0.4625"
          ]
        },
        {
          "name": "stderr",
          "output_type": "stream",
          "text": [
            " 31%|███▏      | 75/240 [06:37<14:45,  5.37s/epoch, loss=1.02, accuracy=0.463, val_loss=1.02, val_accuracy=0.469]"
          ]
        },
        {
          "name": "stdout",
          "output_type": "stream",
          "text": [
            "464/464 [==============================] - 5s 12ms/step - loss: 1.0167 - accuracy: 0.4626 - val_loss: 1.0203 - val_accuracy: 0.4687\n",
            "Epoch 76/240\n",
            "463/464 [============================>.] - ETA: 0s - loss: 1.0163 - accuracy: 0.4673"
          ]
        },
        {
          "name": "stderr",
          "output_type": "stream",
          "text": [
            " 32%|███▏      | 76/240 [06:43<14:37,  5.35s/epoch, loss=1.02, accuracy=0.467, val_loss=1.02, val_accuracy=0.467]"
          ]
        },
        {
          "name": "stdout",
          "output_type": "stream",
          "text": [
            "464/464 [==============================] - 5s 11ms/step - loss: 1.0161 - accuracy: 0.4674 - val_loss: 1.0203 - val_accuracy: 0.4669\n",
            "Epoch 77/240\n",
            "460/464 [============================>.] - ETA: 0s - loss: 1.0163 - accuracy: 0.4653"
          ]
        },
        {
          "name": "stderr",
          "output_type": "stream",
          "text": [
            " 32%|███▏      | 77/240 [06:48<14:30,  5.34s/epoch, loss=1.02, accuracy=0.465, val_loss=1.02, val_accuracy=0.467]"
          ]
        },
        {
          "name": "stdout",
          "output_type": "stream",
          "text": [
            "464/464 [==============================] - 5s 11ms/step - loss: 1.0162 - accuracy: 0.4653 - val_loss: 1.0203 - val_accuracy: 0.4666\n",
            "Epoch 78/240\n",
            "461/464 [============================>.] - ETA: 0s - loss: 1.0152 - accuracy: 0.4667"
          ]
        },
        {
          "name": "stderr",
          "output_type": "stream",
          "text": [
            " 32%|███▎      | 78/240 [06:53<14:26,  5.35s/epoch, loss=1.02, accuracy=0.467, val_loss=1.02, val_accuracy=0.464]"
          ]
        },
        {
          "name": "stdout",
          "output_type": "stream",
          "text": [
            "464/464 [==============================] - 5s 12ms/step - loss: 1.0151 - accuracy: 0.4665 - val_loss: 1.0209 - val_accuracy: 0.4643\n",
            "Epoch 79/240\n",
            "463/464 [============================>.] - ETA: 0s - loss: 1.0158 - accuracy: 0.4646"
          ]
        },
        {
          "name": "stderr",
          "output_type": "stream",
          "text": [
            " 33%|███▎      | 79/240 [06:59<14:20,  5.35s/epoch, loss=1.02, accuracy=0.465, val_loss=1.02, val_accuracy=0.467]"
          ]
        },
        {
          "name": "stdout",
          "output_type": "stream",
          "text": [
            "464/464 [==============================] - 5s 12ms/step - loss: 1.0157 - accuracy: 0.4646 - val_loss: 1.0207 - val_accuracy: 0.4665\n",
            "Epoch 80/240\n",
            "459/464 [============================>.] - ETA: 0s - loss: 1.0159 - accuracy: 0.4676"
          ]
        },
        {
          "name": "stderr",
          "output_type": "stream",
          "text": [
            " 33%|███▎      | 80/240 [07:04<14:15,  5.35s/epoch, loss=1.02, accuracy=0.468, val_loss=1.02, val_accuracy=0.467]"
          ]
        },
        {
          "name": "stdout",
          "output_type": "stream",
          "text": [
            "464/464 [==============================] - 5s 12ms/step - loss: 1.0157 - accuracy: 0.4680 - val_loss: 1.0205 - val_accuracy: 0.4670\n",
            "Epoch 81/240\n",
            "459/464 [============================>.] - ETA: 0s - loss: 1.0148 - accuracy: 0.4699"
          ]
        },
        {
          "name": "stderr",
          "output_type": "stream",
          "text": [
            " 34%|███▍      | 81/240 [07:09<14:09,  5.34s/epoch, loss=1.01, accuracy=0.47, val_loss=1.02, val_accuracy=0.468] "
          ]
        },
        {
          "name": "stdout",
          "output_type": "stream",
          "text": [
            "464/464 [==============================] - 5s 11ms/step - loss: 1.0149 - accuracy: 0.4698 - val_loss: 1.0202 - val_accuracy: 0.4681\n",
            "Epoch 82/240\n",
            "460/464 [============================>.] - ETA: 0s - loss: 1.0149 - accuracy: 0.4678"
          ]
        },
        {
          "name": "stderr",
          "output_type": "stream",
          "text": [
            " 34%|███▍      | 82/240 [07:15<14:04,  5.35s/epoch, loss=1.02, accuracy=0.468, val_loss=1.02, val_accuracy=0.469]"
          ]
        },
        {
          "name": "stdout",
          "output_type": "stream",
          "text": [
            "464/464 [==============================] - 5s 12ms/step - loss: 1.0152 - accuracy: 0.4678 - val_loss: 1.0200 - val_accuracy: 0.4693\n",
            "Epoch 83/240\n",
            "464/464 [==============================] - ETA: 0s - loss: 1.0140 - accuracy: 0.4703"
          ]
        },
        {
          "name": "stderr",
          "output_type": "stream",
          "text": [
            " 35%|███▍      | 83/240 [07:20<13:59,  5.35s/epoch, loss=1.01, accuracy=0.47, val_loss=1.02, val_accuracy=0.467] "
          ]
        },
        {
          "name": "stdout",
          "output_type": "stream",
          "text": [
            "464/464 [==============================] - 5s 12ms/step - loss: 1.0140 - accuracy: 0.4703 - val_loss: 1.0209 - val_accuracy: 0.4665\n",
            "Epoch 84/240\n",
            "460/464 [============================>.] - ETA: 0s - loss: 1.0154 - accuracy: 0.4682"
          ]
        },
        {
          "name": "stderr",
          "output_type": "stream",
          "text": [
            " 35%|███▌      | 84/240 [07:25<13:57,  5.37s/epoch, loss=1.02, accuracy=0.468, val_loss=1.02, val_accuracy=0.466]"
          ]
        },
        {
          "name": "stdout",
          "output_type": "stream",
          "text": [
            "464/464 [==============================] - 5s 12ms/step - loss: 1.0152 - accuracy: 0.4684 - val_loss: 1.0204 - val_accuracy: 0.4657\n",
            "Epoch 85/240\n",
            "460/464 [============================>.] - ETA: 0s - loss: 1.0149 - accuracy: 0.4669"
          ]
        },
        {
          "name": "stderr",
          "output_type": "stream",
          "text": [
            " 35%|███▌      | 85/240 [07:31<13:50,  5.36s/epoch, loss=1.01, accuracy=0.467, val_loss=1.02, val_accuracy=0.47] "
          ]
        },
        {
          "name": "stdout",
          "output_type": "stream",
          "text": [
            "464/464 [==============================] - 5s 12ms/step - loss: 1.0148 - accuracy: 0.4673 - val_loss: 1.0197 - val_accuracy: 0.4704\n",
            "Epoch 86/240\n",
            "464/464 [==============================] - ETA: 0s - loss: 1.0129 - accuracy: 0.4713"
          ]
        },
        {
          "name": "stderr",
          "output_type": "stream",
          "text": [
            " 36%|███▌      | 86/240 [07:36<13:44,  5.35s/epoch, loss=1.01, accuracy=0.471, val_loss=1.02, val_accuracy=0.466]"
          ]
        },
        {
          "name": "stdout",
          "output_type": "stream",
          "text": [
            "464/464 [==============================] - 5s 12ms/step - loss: 1.0129 - accuracy: 0.4713 - val_loss: 1.0206 - val_accuracy: 0.4660\n",
            "Epoch 87/240\n",
            "462/464 [============================>.] - ETA: 0s - loss: 1.0130 - accuracy: 0.4707"
          ]
        },
        {
          "name": "stderr",
          "output_type": "stream",
          "text": [
            " 36%|███▋      | 87/240 [07:41<13:40,  5.36s/epoch, loss=1.01, accuracy=0.471, val_loss=1.02, val_accuracy=0.469]"
          ]
        },
        {
          "name": "stdout",
          "output_type": "stream",
          "text": [
            "464/464 [==============================] - 5s 12ms/step - loss: 1.0129 - accuracy: 0.4706 - val_loss: 1.0200 - val_accuracy: 0.4686\n",
            "Epoch 88/240\n",
            "463/464 [============================>.] - ETA: 0s - loss: 1.0132 - accuracy: 0.4679"
          ]
        },
        {
          "name": "stderr",
          "output_type": "stream",
          "text": [
            " 37%|███▋      | 88/240 [07:47<13:35,  5.36s/epoch, loss=1.01, accuracy=0.468, val_loss=1.02, val_accuracy=0.47] "
          ]
        },
        {
          "name": "stdout",
          "output_type": "stream",
          "text": [
            "464/464 [==============================] - 5s 12ms/step - loss: 1.0133 - accuracy: 0.4678 - val_loss: 1.0200 - val_accuracy: 0.4697\n",
            "Epoch 89/240\n",
            "459/464 [============================>.] - ETA: 0s - loss: 1.0136 - accuracy: 0.4707"
          ]
        },
        {
          "name": "stderr",
          "output_type": "stream",
          "text": [
            " 37%|███▋      | 89/240 [07:52<13:28,  5.35s/epoch, loss=1.01, accuracy=0.471, val_loss=1.02, val_accuracy=0.468]"
          ]
        },
        {
          "name": "stdout",
          "output_type": "stream",
          "text": [
            "464/464 [==============================] - 5s 12ms/step - loss: 1.0133 - accuracy: 0.4710 - val_loss: 1.0200 - val_accuracy: 0.4683\n",
            "Epoch 90/240\n",
            "461/464 [============================>.] - ETA: 0s - loss: 1.0143 - accuracy: 0.4672"
          ]
        },
        {
          "name": "stderr",
          "output_type": "stream",
          "text": [
            " 38%|███▊      | 90/240 [07:57<13:22,  5.35s/epoch, loss=1.01, accuracy=0.467, val_loss=1.02, val_accuracy=0.469]"
          ]
        },
        {
          "name": "stdout",
          "output_type": "stream",
          "text": [
            "464/464 [==============================] - 5s 12ms/step - loss: 1.0145 - accuracy: 0.4672 - val_loss: 1.0200 - val_accuracy: 0.4688\n",
            "Epoch 91/240\n",
            "464/464 [==============================] - ETA: 0s - loss: 1.0138 - accuracy: 0.4685"
          ]
        },
        {
          "name": "stderr",
          "output_type": "stream",
          "text": [
            " 38%|███▊      | 91/240 [08:03<13:16,  5.34s/epoch, loss=1.01, accuracy=0.469, val_loss=1.02, val_accuracy=0.469]"
          ]
        },
        {
          "name": "stdout",
          "output_type": "stream",
          "text": [
            "464/464 [==============================] - 5s 11ms/step - loss: 1.0138 - accuracy: 0.4685 - val_loss: 1.0198 - val_accuracy: 0.4689\n",
            "Epoch 92/240\n",
            "460/464 [============================>.] - ETA: 0s - loss: 1.0115 - accuracy: 0.4711"
          ]
        },
        {
          "name": "stderr",
          "output_type": "stream",
          "text": [
            " 38%|███▊      | 92/240 [08:08<13:11,  5.35s/epoch, loss=1.01, accuracy=0.471, val_loss=1.02, val_accuracy=0.465]"
          ]
        },
        {
          "name": "stdout",
          "output_type": "stream",
          "text": [
            "464/464 [==============================] - 5s 12ms/step - loss: 1.0113 - accuracy: 0.4714 - val_loss: 1.0205 - val_accuracy: 0.4650\n",
            "Epoch 93/240\n",
            "463/464 [============================>.] - ETA: 0s - loss: 1.0114 - accuracy: 0.4704"
          ]
        },
        {
          "name": "stderr",
          "output_type": "stream",
          "text": [
            " 39%|███▉      | 93/240 [08:13<13:06,  5.35s/epoch, loss=1.01, accuracy=0.47, val_loss=1.02, val_accuracy=0.471] "
          ]
        },
        {
          "name": "stdout",
          "output_type": "stream",
          "text": [
            "464/464 [==============================] - 5s 12ms/step - loss: 1.0115 - accuracy: 0.4703 - val_loss: 1.0190 - val_accuracy: 0.4712\n",
            "Epoch 94/240\n",
            "464/464 [==============================] - ETA: 0s - loss: 1.0118 - accuracy: 0.4700"
          ]
        },
        {
          "name": "stderr",
          "output_type": "stream",
          "text": [
            " 39%|███▉      | 94/240 [08:19<13:08,  5.40s/epoch, loss=1.01, accuracy=0.47, val_loss=1.02, val_accuracy=0.468]"
          ]
        },
        {
          "name": "stdout",
          "output_type": "stream",
          "text": [
            "464/464 [==============================] - 6s 12ms/step - loss: 1.0118 - accuracy: 0.4700 - val_loss: 1.0199 - val_accuracy: 0.4678\n",
            "Epoch 95/240\n",
            "464/464 [==============================] - ETA: 0s - loss: 1.0135 - accuracy: 0.4685"
          ]
        },
        {
          "name": "stderr",
          "output_type": "stream",
          "text": [
            " 40%|███▉      | 95/240 [08:24<13:04,  5.41s/epoch, loss=1.01, accuracy=0.468, val_loss=1.02, val_accuracy=0.47]"
          ]
        },
        {
          "name": "stdout",
          "output_type": "stream",
          "text": [
            "464/464 [==============================] - 5s 12ms/step - loss: 1.0135 - accuracy: 0.4685 - val_loss: 1.0194 - val_accuracy: 0.4702\n",
            "Epoch 96/240\n",
            "461/464 [============================>.] - ETA: 0s - loss: 1.0104 - accuracy: 0.4742"
          ]
        },
        {
          "name": "stderr",
          "output_type": "stream",
          "text": [
            " 40%|████      | 96/240 [08:30<12:56,  5.39s/epoch, loss=1.01, accuracy=0.474, val_loss=1.02, val_accuracy=0.47]"
          ]
        },
        {
          "name": "stdout",
          "output_type": "stream",
          "text": [
            "464/464 [==============================] - 5s 12ms/step - loss: 1.0103 - accuracy: 0.4741 - val_loss: 1.0194 - val_accuracy: 0.4700\n",
            "Epoch 97/240\n",
            "460/464 [============================>.] - ETA: 0s - loss: 1.0111 - accuracy: 0.4709"
          ]
        },
        {
          "name": "stderr",
          "output_type": "stream",
          "text": [
            " 40%|████      | 97/240 [08:35<12:59,  5.45s/epoch, loss=1.01, accuracy=0.471, val_loss=1.02, val_accuracy=0.472]"
          ]
        },
        {
          "name": "stdout",
          "output_type": "stream",
          "text": [
            "464/464 [==============================] - 6s 12ms/step - loss: 1.0112 - accuracy: 0.4706 - val_loss: 1.0192 - val_accuracy: 0.4721\n",
            "Epoch 98/240\n",
            "462/464 [============================>.] - ETA: 0s - loss: 1.0122 - accuracy: 0.4719"
          ]
        },
        {
          "name": "stderr",
          "output_type": "stream",
          "text": [
            " 41%|████      | 98/240 [08:41<12:55,  5.46s/epoch, loss=1.01, accuracy=0.472, val_loss=1.02, val_accuracy=0.473]"
          ]
        },
        {
          "name": "stdout",
          "output_type": "stream",
          "text": [
            "464/464 [==============================] - 5s 12ms/step - loss: 1.0123 - accuracy: 0.4718 - val_loss: 1.0190 - val_accuracy: 0.4727\n",
            "Epoch 99/240\n",
            "462/464 [============================>.] - ETA: 0s - loss: 1.0119 - accuracy: 0.4721"
          ]
        },
        {
          "name": "stderr",
          "output_type": "stream",
          "text": [
            " 41%|████▏     | 99/240 [08:46<12:43,  5.42s/epoch, loss=1.01, accuracy=0.472, val_loss=1.02, val_accuracy=0.468]"
          ]
        },
        {
          "name": "stdout",
          "output_type": "stream",
          "text": [
            "464/464 [==============================] - 5s 11ms/step - loss: 1.0120 - accuracy: 0.4721 - val_loss: 1.0200 - val_accuracy: 0.4682\n",
            "Epoch 100/240\n",
            "464/464 [==============================] - ETA: 0s - loss: 1.0119 - accuracy: 0.4711"
          ]
        },
        {
          "name": "stderr",
          "output_type": "stream",
          "text": [
            " 42%|████▏     | 100/240 [08:55<14:55,  6.39s/epoch, loss=1.01, accuracy=0.471, val_loss=1.02, val_accuracy=0.474]"
          ]
        },
        {
          "name": "stdout",
          "output_type": "stream",
          "text": [
            "464/464 [==============================] - 9s 19ms/step - loss: 1.0119 - accuracy: 0.4711 - val_loss: 1.0188 - val_accuracy: 0.4742\n",
            "Epoch 101/240\n",
            "459/464 [============================>.] - ETA: 0s - loss: 1.0126 - accuracy: 0.4716"
          ]
        },
        {
          "name": "stderr",
          "output_type": "stream",
          "text": [
            " 42%|████▏     | 101/240 [09:00<14:03,  6.07s/epoch, loss=1.01, accuracy=0.472, val_loss=1.02, val_accuracy=0.473]"
          ]
        },
        {
          "name": "stdout",
          "output_type": "stream",
          "text": [
            "464/464 [==============================] - 5s 11ms/step - loss: 1.0130 - accuracy: 0.4716 - val_loss: 1.0192 - val_accuracy: 0.4729\n",
            "Epoch 102/240\n",
            "461/464 [============================>.] - ETA: 0s - loss: 1.0101 - accuracy: 0.4722"
          ]
        },
        {
          "name": "stderr",
          "output_type": "stream",
          "text": [
            " 42%|████▎     | 102/240 [09:06<13:30,  5.88s/epoch, loss=1.01, accuracy=0.472, val_loss=1.02, val_accuracy=0.47] "
          ]
        },
        {
          "name": "stdout",
          "output_type": "stream",
          "text": [
            "464/464 [==============================] - 5s 12ms/step - loss: 1.0102 - accuracy: 0.4723 - val_loss: 1.0193 - val_accuracy: 0.4697\n",
            "Epoch 103/240\n",
            "464/464 [==============================] - ETA: 0s - loss: 1.0116 - accuracy: 0.4725"
          ]
        },
        {
          "name": "stderr",
          "output_type": "stream",
          "text": [
            " 43%|████▎     | 103/240 [09:11<13:05,  5.73s/epoch, loss=1.01, accuracy=0.473, val_loss=1.02, val_accuracy=0.471]"
          ]
        },
        {
          "name": "stdout",
          "output_type": "stream",
          "text": [
            "464/464 [==============================] - 5s 12ms/step - loss: 1.0116 - accuracy: 0.4725 - val_loss: 1.0187 - val_accuracy: 0.4713\n",
            "Epoch 104/240\n",
            "462/464 [============================>.] - ETA: 0s - loss: 1.0106 - accuracy: 0.4731"
          ]
        },
        {
          "name": "stderr",
          "output_type": "stream",
          "text": [
            " 43%|████▎     | 104/240 [09:16<12:43,  5.62s/epoch, loss=1.01, accuracy=0.473, val_loss=1.02, val_accuracy=0.467]"
          ]
        },
        {
          "name": "stdout",
          "output_type": "stream",
          "text": [
            "464/464 [==============================] - 5s 12ms/step - loss: 1.0105 - accuracy: 0.4730 - val_loss: 1.0207 - val_accuracy: 0.4672\n",
            "Epoch 105/240\n",
            "463/464 [============================>.] - ETA: 0s - loss: 1.0103 - accuracy: 0.4733"
          ]
        },
        {
          "name": "stderr",
          "output_type": "stream",
          "text": [
            " 44%|████▍     | 105/240 [09:22<12:26,  5.53s/epoch, loss=1.01, accuracy=0.473, val_loss=1.02, val_accuracy=0.471]"
          ]
        },
        {
          "name": "stdout",
          "output_type": "stream",
          "text": [
            "464/464 [==============================] - 5s 11ms/step - loss: 1.0104 - accuracy: 0.4732 - val_loss: 1.0192 - val_accuracy: 0.4713\n",
            "Epoch 106/240\n",
            "463/464 [============================>.] - ETA: 0s - loss: 1.0121 - accuracy: 0.4695"
          ]
        },
        {
          "name": "stderr",
          "output_type": "stream",
          "text": [
            " 44%|████▍     | 106/240 [09:27<12:14,  5.48s/epoch, loss=1.01, accuracy=0.47, val_loss=1.02, val_accuracy=0.469] "
          ]
        },
        {
          "name": "stdout",
          "output_type": "stream",
          "text": [
            "464/464 [==============================] - 5s 12ms/step - loss: 1.0121 - accuracy: 0.4695 - val_loss: 1.0197 - val_accuracy: 0.4689\n",
            "Epoch 107/240\n",
            "459/464 [============================>.] - ETA: 0s - loss: 1.0101 - accuracy: 0.4720"
          ]
        },
        {
          "name": "stderr",
          "output_type": "stream",
          "text": [
            " 45%|████▍     | 107/240 [09:32<12:05,  5.45s/epoch, loss=1.01, accuracy=0.472, val_loss=1.02, val_accuracy=0.471]"
          ]
        },
        {
          "name": "stdout",
          "output_type": "stream",
          "text": [
            "464/464 [==============================] - 5s 12ms/step - loss: 1.0103 - accuracy: 0.4720 - val_loss: 1.0188 - val_accuracy: 0.4712\n",
            "Epoch 108/240\n",
            "462/464 [============================>.] - ETA: 0s - loss: 1.0101 - accuracy: 0.4698"
          ]
        },
        {
          "name": "stderr",
          "output_type": "stream",
          "text": [
            " 45%|████▌     | 108/240 [09:38<11:58,  5.44s/epoch, loss=1.01, accuracy=0.47, val_loss=1.02, val_accuracy=0.472] "
          ]
        },
        {
          "name": "stdout",
          "output_type": "stream",
          "text": [
            "464/464 [==============================] - 5s 12ms/step - loss: 1.0102 - accuracy: 0.4699 - val_loss: 1.0189 - val_accuracy: 0.4719\n",
            "Epoch 109/240\n",
            "464/464 [==============================] - ETA: 0s - loss: 1.0102 - accuracy: 0.4732"
          ]
        },
        {
          "name": "stderr",
          "output_type": "stream",
          "text": [
            " 45%|████▌     | 109/240 [09:43<11:49,  5.41s/epoch, loss=1.01, accuracy=0.473, val_loss=1.02, val_accuracy=0.473]"
          ]
        },
        {
          "name": "stdout",
          "output_type": "stream",
          "text": [
            "464/464 [==============================] - 5s 12ms/step - loss: 1.0102 - accuracy: 0.4732 - val_loss: 1.0185 - val_accuracy: 0.4734\n",
            "Epoch 110/240\n",
            "463/464 [============================>.] - ETA: 0s - loss: 1.0096 - accuracy: 0.4727"
          ]
        },
        {
          "name": "stderr",
          "output_type": "stream",
          "text": [
            " 46%|████▌     | 110/240 [09:49<11:41,  5.40s/epoch, loss=1.01, accuracy=0.473, val_loss=1.02, val_accuracy=0.469]"
          ]
        },
        {
          "name": "stdout",
          "output_type": "stream",
          "text": [
            "464/464 [==============================] - 5s 12ms/step - loss: 1.0095 - accuracy: 0.4727 - val_loss: 1.0197 - val_accuracy: 0.4691\n",
            "Epoch 111/240\n",
            "460/464 [============================>.] - ETA: 0s - loss: 1.0120 - accuracy: 0.4731"
          ]
        },
        {
          "name": "stderr",
          "output_type": "stream",
          "text": [
            " 46%|████▋     | 111/240 [09:54<11:36,  5.40s/epoch, loss=1.01, accuracy=0.473, val_loss=1.02, val_accuracy=0.47] "
          ]
        },
        {
          "name": "stdout",
          "output_type": "stream",
          "text": [
            "464/464 [==============================] - 5s 12ms/step - loss: 1.0118 - accuracy: 0.4733 - val_loss: 1.0190 - val_accuracy: 0.4703\n",
            "Epoch 112/240\n",
            "462/464 [============================>.] - ETA: 0s - loss: 1.0103 - accuracy: 0.4724"
          ]
        },
        {
          "name": "stderr",
          "output_type": "stream",
          "text": [
            " 47%|████▋     | 112/240 [09:59<11:29,  5.39s/epoch, loss=1.01, accuracy=0.472, val_loss=1.02, val_accuracy=0.472]"
          ]
        },
        {
          "name": "stdout",
          "output_type": "stream",
          "text": [
            "464/464 [==============================] - 5s 12ms/step - loss: 1.0103 - accuracy: 0.4723 - val_loss: 1.0188 - val_accuracy: 0.4720\n",
            "Epoch 113/240\n",
            "463/464 [============================>.] - ETA: 0s - loss: 1.0109 - accuracy: 0.4728"
          ]
        },
        {
          "name": "stderr",
          "output_type": "stream",
          "text": [
            " 47%|████▋     | 113/240 [10:05<11:22,  5.38s/epoch, loss=1.01, accuracy=0.473, val_loss=1.02, val_accuracy=0.473]"
          ]
        },
        {
          "name": "stdout",
          "output_type": "stream",
          "text": [
            "464/464 [==============================] - 5s 12ms/step - loss: 1.0108 - accuracy: 0.4729 - val_loss: 1.0189 - val_accuracy: 0.4735\n",
            "Epoch 114/240\n",
            "462/464 [============================>.] - ETA: 0s - loss: 1.0093 - accuracy: 0.4734"
          ]
        },
        {
          "name": "stderr",
          "output_type": "stream",
          "text": [
            " 48%|████▊     | 114/240 [10:10<11:17,  5.37s/epoch, loss=1.01, accuracy=0.473, val_loss=1.02, val_accuracy=0.472]"
          ]
        },
        {
          "name": "stdout",
          "output_type": "stream",
          "text": [
            "464/464 [==============================] - 5s 12ms/step - loss: 1.0092 - accuracy: 0.4734 - val_loss: 1.0188 - val_accuracy: 0.4717\n",
            "Epoch 115/240\n",
            "460/464 [============================>.] - ETA: 0s - loss: 1.0105 - accuracy: 0.4743"
          ]
        },
        {
          "name": "stderr",
          "output_type": "stream",
          "text": [
            " 48%|████▊     | 115/240 [10:15<11:08,  5.34s/epoch, loss=1.01, accuracy=0.474, val_loss=1.02, val_accuracy=0.468]"
          ]
        },
        {
          "name": "stdout",
          "output_type": "stream",
          "text": [
            "464/464 [==============================] - 5s 11ms/step - loss: 1.0105 - accuracy: 0.4743 - val_loss: 1.0197 - val_accuracy: 0.4683\n",
            "Epoch 116/240\n",
            "464/464 [==============================] - ETA: 0s - loss: 1.0100 - accuracy: 0.4717"
          ]
        },
        {
          "name": "stderr",
          "output_type": "stream",
          "text": [
            " 48%|████▊     | 116/240 [10:21<11:01,  5.34s/epoch, loss=1.01, accuracy=0.472, val_loss=1.02, val_accuracy=0.47] "
          ]
        },
        {
          "name": "stdout",
          "output_type": "stream",
          "text": [
            "464/464 [==============================] - 5s 11ms/step - loss: 1.0100 - accuracy: 0.4717 - val_loss: 1.0192 - val_accuracy: 0.4702\n",
            "Epoch 117/240\n",
            "463/464 [============================>.] - ETA: 0s - loss: 1.0100 - accuracy: 0.4731"
          ]
        },
        {
          "name": "stderr",
          "output_type": "stream",
          "text": [
            " 49%|████▉     | 117/240 [10:26<10:57,  5.35s/epoch, loss=1.01, accuracy=0.473, val_loss=1.02, val_accuracy=0.473]"
          ]
        },
        {
          "name": "stdout",
          "output_type": "stream",
          "text": [
            "464/464 [==============================] - 5s 12ms/step - loss: 1.0100 - accuracy: 0.4730 - val_loss: 1.0183 - val_accuracy: 0.4732\n",
            "Epoch 118/240\n",
            "461/464 [============================>.] - ETA: 0s - loss: 1.0101 - accuracy: 0.4743"
          ]
        },
        {
          "name": "stderr",
          "output_type": "stream",
          "text": [
            " 49%|████▉     | 118/240 [10:31<10:49,  5.33s/epoch, loss=1.01, accuracy=0.474, val_loss=1.02, val_accuracy=0.47] "
          ]
        },
        {
          "name": "stdout",
          "output_type": "stream",
          "text": [
            "464/464 [==============================] - 5s 11ms/step - loss: 1.0099 - accuracy: 0.4743 - val_loss: 1.0196 - val_accuracy: 0.4705\n",
            "Epoch 119/240\n",
            "461/464 [============================>.] - ETA: 0s - loss: 1.0093 - accuracy: 0.4740"
          ]
        },
        {
          "name": "stderr",
          "output_type": "stream",
          "text": [
            " 50%|████▉     | 119/240 [10:37<10:51,  5.38s/epoch, loss=1.01, accuracy=0.474, val_loss=1.02, val_accuracy=0.473]"
          ]
        },
        {
          "name": "stdout",
          "output_type": "stream",
          "text": [
            "464/464 [==============================] - 6s 12ms/step - loss: 1.0094 - accuracy: 0.4740 - val_loss: 1.0185 - val_accuracy: 0.4731\n",
            "Epoch 120/240\n",
            "463/464 [============================>.] - ETA: 0s - loss: 1.0103 - accuracy: 0.4734"
          ]
        },
        {
          "name": "stderr",
          "output_type": "stream",
          "text": [
            " 50%|█████     | 120/240 [10:42<10:46,  5.39s/epoch, loss=1.01, accuracy=0.473, val_loss=1.02, val_accuracy=0.472]"
          ]
        },
        {
          "name": "stdout",
          "output_type": "stream",
          "text": [
            "464/464 [==============================] - 5s 12ms/step - loss: 1.0103 - accuracy: 0.4735 - val_loss: 1.0189 - val_accuracy: 0.4718\n",
            "Epoch 121/240\n",
            "459/464 [============================>.] - ETA: 0s - loss: 1.0087 - accuracy: 0.4742"
          ]
        },
        {
          "name": "stderr",
          "output_type": "stream",
          "text": [
            " 50%|█████     | 121/240 [10:48<10:43,  5.40s/epoch, loss=1.01, accuracy=0.474, val_loss=1.02, val_accuracy=0.467]"
          ]
        },
        {
          "name": "stdout",
          "output_type": "stream",
          "text": [
            "464/464 [==============================] - 5s 12ms/step - loss: 1.0088 - accuracy: 0.4740 - val_loss: 1.0198 - val_accuracy: 0.4670\n",
            "Epoch 122/240\n",
            "464/464 [==============================] - ETA: 0s - loss: 1.0083 - accuracy: 0.4751"
          ]
        },
        {
          "name": "stderr",
          "output_type": "stream",
          "text": [
            " 51%|█████     | 122/240 [10:53<10:38,  5.41s/epoch, loss=1.01, accuracy=0.475, val_loss=1.02, val_accuracy=0.473]"
          ]
        },
        {
          "name": "stdout",
          "output_type": "stream",
          "text": [
            "464/464 [==============================] - 5s 12ms/step - loss: 1.0083 - accuracy: 0.4751 - val_loss: 1.0190 - val_accuracy: 0.4733\n",
            "Epoch 123/240\n",
            "464/464 [==============================] - ETA: 0s - loss: 1.0095 - accuracy: 0.4714"
          ]
        },
        {
          "name": "stderr",
          "output_type": "stream",
          "text": [
            " 51%|█████▏    | 123/240 [10:58<10:32,  5.40s/epoch, loss=1.01, accuracy=0.471, val_loss=1.02, val_accuracy=0.471]"
          ]
        },
        {
          "name": "stdout",
          "output_type": "stream",
          "text": [
            "464/464 [==============================] - 5s 12ms/step - loss: 1.0095 - accuracy: 0.4714 - val_loss: 1.0186 - val_accuracy: 0.4710\n",
            "Epoch 124/240\n",
            "463/464 [============================>.] - ETA: 0s - loss: 1.0079 - accuracy: 0.4737"
          ]
        },
        {
          "name": "stderr",
          "output_type": "stream",
          "text": [
            " 52%|█████▏    | 124/240 [11:04<10:25,  5.39s/epoch, loss=1.01, accuracy=0.474, val_loss=1.02, val_accuracy=0.472]"
          ]
        },
        {
          "name": "stdout",
          "output_type": "stream",
          "text": [
            "464/464 [==============================] - 5s 12ms/step - loss: 1.0078 - accuracy: 0.4738 - val_loss: 1.0192 - val_accuracy: 0.4720\n",
            "Epoch 125/240\n",
            "463/464 [============================>.] - ETA: 0s - loss: 1.0080 - accuracy: 0.4747"
          ]
        },
        {
          "name": "stderr",
          "output_type": "stream",
          "text": [
            " 52%|█████▏    | 125/240 [11:09<10:19,  5.39s/epoch, loss=1.01, accuracy=0.475, val_loss=1.02, val_accuracy=0.472]"
          ]
        },
        {
          "name": "stdout",
          "output_type": "stream",
          "text": [
            "464/464 [==============================] - 5s 12ms/step - loss: 1.0079 - accuracy: 0.4749 - val_loss: 1.0186 - val_accuracy: 0.4724\n",
            "Epoch 126/240\n",
            "462/464 [============================>.] - ETA: 0s - loss: 1.0072 - accuracy: 0.4734"
          ]
        },
        {
          "name": "stderr",
          "output_type": "stream",
          "text": [
            " 52%|█████▎    | 126/240 [11:15<10:14,  5.39s/epoch, loss=1.01, accuracy=0.473, val_loss=1.02, val_accuracy=0.473]"
          ]
        },
        {
          "name": "stdout",
          "output_type": "stream",
          "text": [
            "464/464 [==============================] - 5s 12ms/step - loss: 1.0073 - accuracy: 0.4734 - val_loss: 1.0185 - val_accuracy: 0.4725\n",
            "Epoch 127/240\n",
            "459/464 [============================>.] - ETA: 0s - loss: 1.0084 - accuracy: 0.4748"
          ]
        },
        {
          "name": "stderr",
          "output_type": "stream",
          "text": [
            " 53%|█████▎    | 127/240 [11:20<10:07,  5.38s/epoch, loss=1.01, accuracy=0.475, val_loss=1.02, val_accuracy=0.472]"
          ]
        },
        {
          "name": "stdout",
          "output_type": "stream",
          "text": [
            "464/464 [==============================] - 5s 12ms/step - loss: 1.0085 - accuracy: 0.4746 - val_loss: 1.0196 - val_accuracy: 0.4723\n",
            "Epoch 128/240\n",
            "459/464 [============================>.] - ETA: 0s - loss: 1.0081 - accuracy: 0.4759"
          ]
        },
        {
          "name": "stderr",
          "output_type": "stream",
          "text": [
            " 53%|█████▎    | 128/240 [11:25<10:02,  5.38s/epoch, loss=1.01, accuracy=0.476, val_loss=1.02, val_accuracy=0.472]"
          ]
        },
        {
          "name": "stdout",
          "output_type": "stream",
          "text": [
            "464/464 [==============================] - 5s 12ms/step - loss: 1.0083 - accuracy: 0.4756 - val_loss: 1.0189 - val_accuracy: 0.4719\n",
            "Epoch 129/240\n",
            "459/464 [============================>.] - ETA: 0s - loss: 1.0084 - accuracy: 0.4719"
          ]
        },
        {
          "name": "stderr",
          "output_type": "stream",
          "text": [
            " 54%|█████▍    | 129/240 [11:31<09:54,  5.36s/epoch, loss=1.01, accuracy=0.472, val_loss=1.02, val_accuracy=0.472]"
          ]
        },
        {
          "name": "stdout",
          "output_type": "stream",
          "text": [
            "464/464 [==============================] - 5s 11ms/step - loss: 1.0084 - accuracy: 0.4720 - val_loss: 1.0190 - val_accuracy: 0.4724\n",
            "Epoch 130/240\n",
            "463/464 [============================>.] - ETA: 0s - loss: 1.0078 - accuracy: 0.4746"
          ]
        },
        {
          "name": "stderr",
          "output_type": "stream",
          "text": [
            " 54%|█████▍    | 130/240 [11:36<09:49,  5.36s/epoch, loss=1.01, accuracy=0.475, val_loss=1.02, val_accuracy=0.475]"
          ]
        },
        {
          "name": "stdout",
          "output_type": "stream",
          "text": [
            "464/464 [==============================] - 5s 12ms/step - loss: 1.0078 - accuracy: 0.4746 - val_loss: 1.0188 - val_accuracy: 0.4751\n",
            "Epoch 131/240\n",
            "460/464 [============================>.] - ETA: 0s - loss: 1.0089 - accuracy: 0.4739"
          ]
        },
        {
          "name": "stderr",
          "output_type": "stream",
          "text": [
            " 55%|█████▍    | 131/240 [11:41<09:42,  5.35s/epoch, loss=1.01, accuracy=0.474, val_loss=1.02, val_accuracy=0.472]"
          ]
        },
        {
          "name": "stdout",
          "output_type": "stream",
          "text": [
            "464/464 [==============================] - 5s 11ms/step - loss: 1.0089 - accuracy: 0.4737 - val_loss: 1.0194 - val_accuracy: 0.4724\n",
            "Epoch 132/240\n",
            "463/464 [============================>.] - ETA: 0s - loss: 1.0075 - accuracy: 0.4754"
          ]
        },
        {
          "name": "stderr",
          "output_type": "stream",
          "text": [
            " 55%|█████▌    | 132/240 [11:47<09:35,  5.32s/epoch, loss=1.01, accuracy=0.475, val_loss=1.02, val_accuracy=0.474]"
          ]
        },
        {
          "name": "stdout",
          "output_type": "stream",
          "text": [
            "464/464 [==============================] - 5s 11ms/step - loss: 1.0075 - accuracy: 0.4754 - val_loss: 1.0188 - val_accuracy: 0.4743\n",
            "Epoch 133/240\n",
            "460/464 [============================>.] - ETA: 0s - loss: 1.0082 - accuracy: 0.4739"
          ]
        },
        {
          "name": "stderr",
          "output_type": "stream",
          "text": [
            " 55%|█████▌    | 133/240 [11:52<09:29,  5.32s/epoch, loss=1.01, accuracy=0.474, val_loss=1.02, val_accuracy=0.471]"
          ]
        },
        {
          "name": "stdout",
          "output_type": "stream",
          "text": [
            "464/464 [==============================] - 5s 11ms/step - loss: 1.0081 - accuracy: 0.4739 - val_loss: 1.0192 - val_accuracy: 0.4708\n",
            "Epoch 134/240\n",
            "461/464 [============================>.] - ETA: 0s - loss: 1.0074 - accuracy: 0.4760"
          ]
        },
        {
          "name": "stderr",
          "output_type": "stream",
          "text": [
            " 56%|█████▌    | 134/240 [11:57<09:25,  5.33s/epoch, loss=1.01, accuracy=0.476, val_loss=1.02, val_accuracy=0.476]"
          ]
        },
        {
          "name": "stdout",
          "output_type": "stream",
          "text": [
            "464/464 [==============================] - 5s 12ms/step - loss: 1.0076 - accuracy: 0.4759 - val_loss: 1.0187 - val_accuracy: 0.4760\n",
            "Epoch 135/240\n",
            "460/464 [============================>.] - ETA: 0s - loss: 1.0064 - accuracy: 0.4761"
          ]
        },
        {
          "name": "stderr",
          "output_type": "stream",
          "text": [
            " 56%|█████▋    | 135/240 [12:03<09:20,  5.34s/epoch, loss=1.01, accuracy=0.476, val_loss=1.02, val_accuracy=0.467]"
          ]
        },
        {
          "name": "stdout",
          "output_type": "stream",
          "text": [
            "464/464 [==============================] - 5s 12ms/step - loss: 1.0062 - accuracy: 0.4764 - val_loss: 1.0208 - val_accuracy: 0.4675\n",
            "Epoch 136/240\n",
            "462/464 [============================>.] - ETA: 0s - loss: 1.0075 - accuracy: 0.4758"
          ]
        },
        {
          "name": "stderr",
          "output_type": "stream",
          "text": [
            " 57%|█████▋    | 136/240 [12:08<09:16,  5.35s/epoch, loss=1.01, accuracy=0.476, val_loss=1.02, val_accuracy=0.476]"
          ]
        },
        {
          "name": "stdout",
          "output_type": "stream",
          "text": [
            "464/464 [==============================] - 5s 12ms/step - loss: 1.0074 - accuracy: 0.4759 - val_loss: 1.0188 - val_accuracy: 0.4758\n",
            "Epoch 137/240\n",
            "461/464 [============================>.] - ETA: 0s - loss: 1.0070 - accuracy: 0.4758"
          ]
        },
        {
          "name": "stderr",
          "output_type": "stream",
          "text": [
            " 57%|█████▋    | 137/240 [12:14<09:17,  5.42s/epoch, loss=1.01, accuracy=0.476, val_loss=1.02, val_accuracy=0.474]"
          ]
        },
        {
          "name": "stdout",
          "output_type": "stream",
          "text": [
            "464/464 [==============================] - 6s 12ms/step - loss: 1.0071 - accuracy: 0.4758 - val_loss: 1.0195 - val_accuracy: 0.4738\n",
            "Epoch 138/240\n",
            "462/464 [============================>.] - ETA: 0s - loss: 1.0055 - accuracy: 0.4760"
          ]
        },
        {
          "name": "stderr",
          "output_type": "stream",
          "text": [
            " 57%|█████▊    | 138/240 [12:19<09:18,  5.48s/epoch, loss=1.01, accuracy=0.476, val_loss=1.02, val_accuracy=0.478]"
          ]
        },
        {
          "name": "stdout",
          "output_type": "stream",
          "text": [
            "464/464 [==============================] - 6s 12ms/step - loss: 1.0056 - accuracy: 0.4759 - val_loss: 1.0191 - val_accuracy: 0.4775\n",
            "Epoch 139/240\n",
            "463/464 [============================>.] - ETA: 0s - loss: 1.0070 - accuracy: 0.4761"
          ]
        },
        {
          "name": "stderr",
          "output_type": "stream",
          "text": [
            " 58%|█████▊    | 139/240 [12:25<09:11,  5.46s/epoch, loss=1.01, accuracy=0.476, val_loss=1.02, val_accuracy=0.47] "
          ]
        },
        {
          "name": "stdout",
          "output_type": "stream",
          "text": [
            "464/464 [==============================] - 5s 12ms/step - loss: 1.0069 - accuracy: 0.4761 - val_loss: 1.0212 - val_accuracy: 0.4697\n",
            "Epoch 140/240\n",
            "461/464 [============================>.] - ETA: 0s - loss: 1.0069 - accuracy: 0.4751"
          ]
        },
        {
          "name": "stderr",
          "output_type": "stream",
          "text": [
            " 58%|█████▊    | 140/240 [12:30<09:09,  5.49s/epoch, loss=1.01, accuracy=0.475, val_loss=1.02, val_accuracy=0.474]"
          ]
        },
        {
          "name": "stdout",
          "output_type": "stream",
          "text": [
            "464/464 [==============================] - 6s 12ms/step - loss: 1.0069 - accuracy: 0.4750 - val_loss: 1.0192 - val_accuracy: 0.4738\n",
            "Epoch 141/240\n",
            "463/464 [============================>.] - ETA: 0s - loss: 1.0072 - accuracy: 0.4741"
          ]
        },
        {
          "name": "stderr",
          "output_type": "stream",
          "text": [
            " 59%|█████▉    | 141/240 [12:36<09:15,  5.61s/epoch, loss=1.01, accuracy=0.474, val_loss=1.02, val_accuracy=0.475]"
          ]
        },
        {
          "name": "stdout",
          "output_type": "stream",
          "text": [
            "464/464 [==============================] - 6s 13ms/step - loss: 1.0072 - accuracy: 0.4740 - val_loss: 1.0192 - val_accuracy: 0.4752\n",
            "Epoch 142/240\n",
            "463/464 [============================>.] - ETA: 0s - loss: 1.0062 - accuracy: 0.4780"
          ]
        },
        {
          "name": "stderr",
          "output_type": "stream",
          "text": [
            " 59%|█████▉    | 142/240 [12:42<09:15,  5.67s/epoch, loss=1.01, accuracy=0.478, val_loss=1.02, val_accuracy=0.475]"
          ]
        },
        {
          "name": "stdout",
          "output_type": "stream",
          "text": [
            "464/464 [==============================] - 6s 12ms/step - loss: 1.0062 - accuracy: 0.4780 - val_loss: 1.0193 - val_accuracy: 0.4753\n",
            "Epoch 143/240\n",
            "460/464 [============================>.] - ETA: 0s - loss: 1.0062 - accuracy: 0.4778"
          ]
        },
        {
          "name": "stderr",
          "output_type": "stream",
          "text": [
            " 60%|█████▉    | 143/240 [12:47<08:59,  5.56s/epoch, loss=1.01, accuracy=0.478, val_loss=1.02, val_accuracy=0.477]"
          ]
        },
        {
          "name": "stdout",
          "output_type": "stream",
          "text": [
            "464/464 [==============================] - 5s 11ms/step - loss: 1.0061 - accuracy: 0.4780 - val_loss: 1.0191 - val_accuracy: 0.4767\n",
            "Epoch 144/240\n",
            "460/464 [============================>.] - ETA: 0s - loss: 1.0060 - accuracy: 0.4776"
          ]
        },
        {
          "name": "stderr",
          "output_type": "stream",
          "text": [
            " 60%|██████    | 144/240 [12:52<08:44,  5.46s/epoch, loss=1.01, accuracy=0.478, val_loss=1.02, val_accuracy=0.476]"
          ]
        },
        {
          "name": "stdout",
          "output_type": "stream",
          "text": [
            "464/464 [==============================] - 5s 11ms/step - loss: 1.0060 - accuracy: 0.4776 - val_loss: 1.0193 - val_accuracy: 0.4765\n",
            "Epoch 145/240\n",
            "462/464 [============================>.] - ETA: 0s - loss: 1.0061 - accuracy: 0.4760"
          ]
        },
        {
          "name": "stderr",
          "output_type": "stream",
          "text": [
            " 60%|██████    | 145/240 [12:58<08:31,  5.38s/epoch, loss=1.01, accuracy=0.476, val_loss=1.02, val_accuracy=0.476]"
          ]
        },
        {
          "name": "stdout",
          "output_type": "stream",
          "text": [
            "464/464 [==============================] - 5s 11ms/step - loss: 1.0062 - accuracy: 0.4759 - val_loss: 1.0193 - val_accuracy: 0.4759\n",
            "Epoch 146/240\n",
            "460/464 [============================>.] - ETA: 0s - loss: 1.0042 - accuracy: 0.4767"
          ]
        },
        {
          "name": "stderr",
          "output_type": "stream",
          "text": [
            " 61%|██████    | 146/240 [13:03<08:24,  5.36s/epoch, loss=1, accuracy=0.477, val_loss=1.02, val_accuracy=0.473]   "
          ]
        },
        {
          "name": "stdout",
          "output_type": "stream",
          "text": [
            "464/464 [==============================] - 5s 11ms/step - loss: 1.0041 - accuracy: 0.4768 - val_loss: 1.0196 - val_accuracy: 0.4732\n",
            "Epoch 147/240\n",
            "461/464 [============================>.] - ETA: 0s - loss: 1.0068 - accuracy: 0.4764"
          ]
        },
        {
          "name": "stderr",
          "output_type": "stream",
          "text": [
            " 61%|██████▏   | 147/240 [13:08<08:17,  5.35s/epoch, loss=1.01, accuracy=0.477, val_loss=1.02, val_accuracy=0.478]"
          ]
        },
        {
          "name": "stdout",
          "output_type": "stream",
          "text": [
            "464/464 [==============================] - 5s 11ms/step - loss: 1.0066 - accuracy: 0.4766 - val_loss: 1.0188 - val_accuracy: 0.4781\n",
            "Epoch 148/240\n",
            "462/464 [============================>.] - ETA: 0s - loss: 1.0057 - accuracy: 0.4772"
          ]
        },
        {
          "name": "stderr",
          "output_type": "stream",
          "text": [
            " 62%|██████▏   | 148/240 [13:16<09:19,  6.09s/epoch, loss=1.01, accuracy=0.477, val_loss=1.02, val_accuracy=0.477]"
          ]
        },
        {
          "name": "stdout",
          "output_type": "stream",
          "text": [
            "464/464 [==============================] - 8s 17ms/step - loss: 1.0056 - accuracy: 0.4774 - val_loss: 1.0194 - val_accuracy: 0.4770\n",
            "Epoch 149/240\n",
            "463/464 [============================>.] - ETA: 0s - loss: 1.0070 - accuracy: 0.4742"
          ]
        },
        {
          "name": "stderr",
          "output_type": "stream",
          "text": [
            " 62%|██████▏   | 149/240 [13:21<08:51,  5.84s/epoch, loss=1.01, accuracy=0.474, val_loss=1.02, val_accuracy=0.474]"
          ]
        },
        {
          "name": "stdout",
          "output_type": "stream",
          "text": [
            "464/464 [==============================] - 5s 11ms/step - loss: 1.0071 - accuracy: 0.4743 - val_loss: 1.0197 - val_accuracy: 0.4740\n",
            "Epoch 150/240\n",
            "463/464 [============================>.] - ETA: 0s - loss: 1.0037 - accuracy: 0.4776"
          ]
        },
        {
          "name": "stderr",
          "output_type": "stream",
          "text": [
            " 62%|██████▎   | 150/240 [13:27<08:29,  5.66s/epoch, loss=1, accuracy=0.478, val_loss=1.02, val_accuracy=0.477]   "
          ]
        },
        {
          "name": "stdout",
          "output_type": "stream",
          "text": [
            "464/464 [==============================] - 5s 11ms/step - loss: 1.0037 - accuracy: 0.4776 - val_loss: 1.0195 - val_accuracy: 0.4768\n",
            "Epoch 151/240\n",
            "460/464 [============================>.] - ETA: 0s - loss: 1.0044 - accuracy: 0.4761"
          ]
        },
        {
          "name": "stderr",
          "output_type": "stream",
          "text": [
            " 63%|██████▎   | 151/240 [13:32<08:07,  5.48s/epoch, loss=1, accuracy=0.476, val_loss=1.02, val_accuracy=0.478]"
          ]
        },
        {
          "name": "stdout",
          "output_type": "stream",
          "text": [
            "464/464 [==============================] - 5s 11ms/step - loss: 1.0046 - accuracy: 0.4761 - val_loss: 1.0193 - val_accuracy: 0.4781\n",
            "Epoch 152/240\n",
            "464/464 [==============================] - ETA: 0s - loss: 1.0040 - accuracy: 0.4778"
          ]
        },
        {
          "name": "stderr",
          "output_type": "stream",
          "text": [
            " 63%|██████▎   | 152/240 [13:37<07:56,  5.42s/epoch, loss=1, accuracy=0.478, val_loss=1.02, val_accuracy=0.477]"
          ]
        },
        {
          "name": "stdout",
          "output_type": "stream",
          "text": [
            "464/464 [==============================] - 5s 11ms/step - loss: 1.0040 - accuracy: 0.4778 - val_loss: 1.0191 - val_accuracy: 0.4771\n",
            "Epoch 153/240\n",
            "462/464 [============================>.] - ETA: 0s - loss: 1.0038 - accuracy: 0.4770"
          ]
        },
        {
          "name": "stderr",
          "output_type": "stream",
          "text": [
            " 64%|██████▍   | 153/240 [13:42<07:50,  5.41s/epoch, loss=1, accuracy=0.477, val_loss=1.02, val_accuracy=0.478]"
          ]
        },
        {
          "name": "stdout",
          "output_type": "stream",
          "text": [
            "464/464 [==============================] - 5s 12ms/step - loss: 1.0037 - accuracy: 0.4770 - val_loss: 1.0192 - val_accuracy: 0.4778\n",
            "Epoch 154/240\n",
            "464/464 [==============================] - ETA: 0s - loss: 1.0034 - accuracy: 0.4775"
          ]
        },
        {
          "name": "stderr",
          "output_type": "stream",
          "text": [
            " 64%|██████▍   | 154/240 [13:48<07:46,  5.42s/epoch, loss=1, accuracy=0.478, val_loss=1.02, val_accuracy=0.478]"
          ]
        },
        {
          "name": "stdout",
          "output_type": "stream",
          "text": [
            "464/464 [==============================] - 5s 12ms/step - loss: 1.0034 - accuracy: 0.4775 - val_loss: 1.0195 - val_accuracy: 0.4776\n",
            "Epoch 155/240\n",
            "464/464 [==============================] - ETA: 0s - loss: 1.0045 - accuracy: 0.4769"
          ]
        },
        {
          "name": "stderr",
          "output_type": "stream",
          "text": [
            " 65%|██████▍   | 155/240 [13:53<07:40,  5.41s/epoch, loss=1, accuracy=0.477, val_loss=1.02, val_accuracy=0.479]"
          ]
        },
        {
          "name": "stdout",
          "output_type": "stream",
          "text": [
            "464/464 [==============================] - 5s 12ms/step - loss: 1.0045 - accuracy: 0.4769 - val_loss: 1.0193 - val_accuracy: 0.4790\n",
            "Epoch 156/240\n",
            "463/464 [============================>.] - ETA: 0s - loss: 1.0038 - accuracy: 0.4768"
          ]
        },
        {
          "name": "stderr",
          "output_type": "stream",
          "text": [
            " 65%|██████▌   | 156/240 [13:58<07:32,  5.38s/epoch, loss=1, accuracy=0.477, val_loss=1.02, val_accuracy=0.473]"
          ]
        },
        {
          "name": "stdout",
          "output_type": "stream",
          "text": [
            "464/464 [==============================] - 5s 11ms/step - loss: 1.0038 - accuracy: 0.4768 - val_loss: 1.0197 - val_accuracy: 0.4734\n",
            "Epoch 157/240\n",
            "462/464 [============================>.] - ETA: 0s - loss: 1.0046 - accuracy: 0.4788"
          ]
        },
        {
          "name": "stderr",
          "output_type": "stream",
          "text": [
            " 65%|██████▌   | 157/240 [14:04<07:21,  5.32s/epoch, loss=1, accuracy=0.479, val_loss=1.02, val_accuracy=0.477]"
          ]
        },
        {
          "name": "stdout",
          "output_type": "stream",
          "text": [
            "464/464 [==============================] - 5s 11ms/step - loss: 1.0045 - accuracy: 0.4788 - val_loss: 1.0196 - val_accuracy: 0.4770\n",
            "Epoch 158/240\n",
            "462/464 [============================>.] - ETA: 0s - loss: 1.0042 - accuracy: 0.4773"
          ]
        },
        {
          "name": "stderr",
          "output_type": "stream",
          "text": [
            " 66%|██████▌   | 158/240 [14:09<07:13,  5.29s/epoch, loss=1, accuracy=0.477, val_loss=1.02, val_accuracy=0.47] "
          ]
        },
        {
          "name": "stdout",
          "output_type": "stream",
          "text": [
            "464/464 [==============================] - 5s 11ms/step - loss: 1.0043 - accuracy: 0.4772 - val_loss: 1.0209 - val_accuracy: 0.4704\n",
            "Epoch 159/240\n",
            "464/464 [==============================] - ETA: 0s - loss: 1.0044 - accuracy: 0.4731"
          ]
        },
        {
          "name": "stderr",
          "output_type": "stream",
          "text": [
            " 66%|██████▋   | 159/240 [14:14<07:06,  5.27s/epoch, loss=1, accuracy=0.473, val_loss=1.02, val_accuracy=0.477]"
          ]
        },
        {
          "name": "stdout",
          "output_type": "stream",
          "text": [
            "464/464 [==============================] - 5s 11ms/step - loss: 1.0044 - accuracy: 0.4731 - val_loss: 1.0196 - val_accuracy: 0.4770\n",
            "Epoch 160/240\n",
            "462/464 [============================>.] - ETA: 0s - loss: 1.0042 - accuracy: 0.4789"
          ]
        },
        {
          "name": "stderr",
          "output_type": "stream",
          "text": [
            " 67%|██████▋   | 160/240 [14:20<07:14,  5.43s/epoch, loss=1, accuracy=0.479, val_loss=1.02, val_accuracy=0.476]"
          ]
        },
        {
          "name": "stdout",
          "output_type": "stream",
          "text": [
            "464/464 [==============================] - 6s 13ms/step - loss: 1.0041 - accuracy: 0.4791 - val_loss: 1.0194 - val_accuracy: 0.4762\n",
            "Epoch 161/240\n",
            "461/464 [============================>.] - ETA: 0s - loss: 1.0038 - accuracy: 0.4795"
          ]
        },
        {
          "name": "stderr",
          "output_type": "stream",
          "text": [
            " 67%|██████▋   | 161/240 [14:25<07:08,  5.42s/epoch, loss=1, accuracy=0.48, val_loss=1.02, val_accuracy=0.477] "
          ]
        },
        {
          "name": "stdout",
          "output_type": "stream",
          "text": [
            "464/464 [==============================] - 5s 12ms/step - loss: 1.0037 - accuracy: 0.4797 - val_loss: 1.0196 - val_accuracy: 0.4772\n",
            "Epoch 162/240\n",
            "460/464 [============================>.] - ETA: 0s - loss: 1.0030 - accuracy: 0.4775"
          ]
        },
        {
          "name": "stderr",
          "output_type": "stream",
          "text": [
            " 68%|██████▊   | 162/240 [14:31<07:07,  5.48s/epoch, loss=1, accuracy=0.477, val_loss=1.02, val_accuracy=0.474]"
          ]
        },
        {
          "name": "stdout",
          "output_type": "stream",
          "text": [
            "464/464 [==============================] - 6s 12ms/step - loss: 1.0031 - accuracy: 0.4772 - val_loss: 1.0202 - val_accuracy: 0.4743\n",
            "Epoch 163/240\n",
            "460/464 [============================>.] - ETA: 0s - loss: 1.0033 - accuracy: 0.4779"
          ]
        },
        {
          "name": "stderr",
          "output_type": "stream",
          "text": [
            " 68%|██████▊   | 163/240 [14:36<07:03,  5.50s/epoch, loss=1, accuracy=0.478, val_loss=1.02, val_accuracy=0.473]"
          ]
        },
        {
          "name": "stdout",
          "output_type": "stream",
          "text": [
            "464/464 [==============================] - 6s 12ms/step - loss: 1.0034 - accuracy: 0.4779 - val_loss: 1.0201 - val_accuracy: 0.4730\n",
            "Epoch 164/240\n",
            "464/464 [==============================] - ETA: 0s - loss: 1.0023 - accuracy: 0.4797"
          ]
        },
        {
          "name": "stderr",
          "output_type": "stream",
          "text": [
            " 68%|██████▊   | 164/240 [14:42<06:58,  5.51s/epoch, loss=1, accuracy=0.48, val_loss=1.02, val_accuracy=0.474] "
          ]
        },
        {
          "name": "stdout",
          "output_type": "stream",
          "text": [
            "464/464 [==============================] - 6s 12ms/step - loss: 1.0023 - accuracy: 0.4797 - val_loss: 1.0203 - val_accuracy: 0.4738\n",
            "Epoch 165/240\n",
            "460/464 [============================>.] - ETA: 0s - loss: 1.0015 - accuracy: 0.4782"
          ]
        },
        {
          "name": "stderr",
          "output_type": "stream",
          "text": [
            " 69%|██████▉   | 165/240 [14:47<06:52,  5.50s/epoch, loss=1, accuracy=0.478, val_loss=1.02, val_accuracy=0.474]"
          ]
        },
        {
          "name": "stdout",
          "output_type": "stream",
          "text": [
            "464/464 [==============================] - 6s 12ms/step - loss: 1.0014 - accuracy: 0.4782 - val_loss: 1.0203 - val_accuracy: 0.4742\n",
            "Epoch 166/240\n",
            "461/464 [============================>.] - ETA: 0s - loss: 1.0014 - accuracy: 0.4791"
          ]
        },
        {
          "name": "stderr",
          "output_type": "stream",
          "text": [
            " 69%|██████▉   | 166/240 [14:53<06:49,  5.53s/epoch, loss=1, accuracy=0.479, val_loss=1.02, val_accuracy=0.474]"
          ]
        },
        {
          "name": "stdout",
          "output_type": "stream",
          "text": [
            "464/464 [==============================] - 6s 12ms/step - loss: 1.0014 - accuracy: 0.4791 - val_loss: 1.0204 - val_accuracy: 0.4744\n",
            "Epoch 167/240\n",
            "460/464 [============================>.] - ETA: 0s - loss: 1.0017 - accuracy: 0.4792"
          ]
        },
        {
          "name": "stderr",
          "output_type": "stream",
          "text": [
            " 70%|██████▉   | 167/240 [14:59<06:49,  5.61s/epoch, loss=1, accuracy=0.479, val_loss=1.02, val_accuracy=0.473]"
          ]
        },
        {
          "name": "stdout",
          "output_type": "stream",
          "text": [
            "464/464 [==============================] - 6s 13ms/step - loss: 1.0018 - accuracy: 0.4791 - val_loss: 1.0214 - val_accuracy: 0.4732\n",
            "Epoch 168/240\n",
            "464/464 [==============================] - ETA: 0s - loss: 1.0019 - accuracy: 0.4780"
          ]
        },
        {
          "name": "stderr",
          "output_type": "stream",
          "text": [
            " 70%|███████   | 168/240 [15:05<06:46,  5.64s/epoch, loss=1, accuracy=0.478, val_loss=1.02, val_accuracy=0.476]"
          ]
        },
        {
          "name": "stdout",
          "output_type": "stream",
          "text": [
            "464/464 [==============================] - 6s 12ms/step - loss: 1.0019 - accuracy: 0.4780 - val_loss: 1.0204 - val_accuracy: 0.4755\n",
            "Epoch 169/240\n",
            "463/464 [============================>.] - ETA: 0s - loss: 1.0017 - accuracy: 0.4795"
          ]
        },
        {
          "name": "stderr",
          "output_type": "stream",
          "text": [
            " 70%|███████   | 169/240 [15:10<06:36,  5.58s/epoch, loss=1, accuracy=0.479, val_loss=1.02, val_accuracy=0.476]"
          ]
        },
        {
          "name": "stdout",
          "output_type": "stream",
          "text": [
            "464/464 [==============================] - 5s 12ms/step - loss: 1.0018 - accuracy: 0.4794 - val_loss: 1.0199 - val_accuracy: 0.4760\n",
            "Epoch 170/240\n",
            "464/464 [==============================] - ETA: 0s - loss: 1.0015 - accuracy: 0.4810"
          ]
        },
        {
          "name": "stderr",
          "output_type": "stream",
          "text": [
            " 71%|███████   | 170/240 [15:15<06:26,  5.52s/epoch, loss=1, accuracy=0.481, val_loss=1.02, val_accuracy=0.475]"
          ]
        },
        {
          "name": "stdout",
          "output_type": "stream",
          "text": [
            "464/464 [==============================] - 5s 12ms/step - loss: 1.0015 - accuracy: 0.4810 - val_loss: 1.0204 - val_accuracy: 0.4747\n",
            "Epoch 171/240\n",
            "463/464 [============================>.] - ETA: 0s - loss: 1.0020 - accuracy: 0.4793"
          ]
        },
        {
          "name": "stderr",
          "output_type": "stream",
          "text": [
            " 71%|███████▏  | 171/240 [15:21<06:13,  5.42s/epoch, loss=1, accuracy=0.479, val_loss=1.02, val_accuracy=0.474]"
          ]
        },
        {
          "name": "stdout",
          "output_type": "stream",
          "text": [
            "464/464 [==============================] - 5s 11ms/step - loss: 1.0021 - accuracy: 0.4793 - val_loss: 1.0208 - val_accuracy: 0.4737\n",
            "Epoch 172/240\n",
            "464/464 [==============================] - ETA: 0s - loss: 1.0018 - accuracy: 0.4761"
          ]
        },
        {
          "name": "stderr",
          "output_type": "stream",
          "text": [
            " 72%|███████▏  | 172/240 [15:26<06:05,  5.37s/epoch, loss=1, accuracy=0.476, val_loss=1.02, val_accuracy=0.476]"
          ]
        },
        {
          "name": "stdout",
          "output_type": "stream",
          "text": [
            "464/464 [==============================] - 5s 11ms/step - loss: 1.0018 - accuracy: 0.4761 - val_loss: 1.0203 - val_accuracy: 0.4757\n",
            "Epoch 173/240\n",
            "462/464 [============================>.] - ETA: 0s - loss: 1.0010 - accuracy: 0.4798"
          ]
        },
        {
          "name": "stderr",
          "output_type": "stream",
          "text": [
            " 72%|███████▏  | 173/240 [15:31<05:53,  5.28s/epoch, loss=1, accuracy=0.48, val_loss=1.02, val_accuracy=0.475] "
          ]
        },
        {
          "name": "stdout",
          "output_type": "stream",
          "text": [
            "464/464 [==============================] - 5s 11ms/step - loss: 1.0010 - accuracy: 0.4798 - val_loss: 1.0201 - val_accuracy: 0.4750\n",
            "Epoch 174/240\n",
            "461/464 [============================>.] - ETA: 0s - loss: 1.0024 - accuracy: 0.4783"
          ]
        },
        {
          "name": "stderr",
          "output_type": "stream",
          "text": [
            " 72%|███████▎  | 174/240 [15:36<05:43,  5.20s/epoch, loss=1, accuracy=0.478, val_loss=1.02, val_accuracy=0.474]"
          ]
        },
        {
          "name": "stdout",
          "output_type": "stream",
          "text": [
            "464/464 [==============================] - 5s 11ms/step - loss: 1.0024 - accuracy: 0.4784 - val_loss: 1.0197 - val_accuracy: 0.4743\n",
            "Epoch 175/240\n",
            "464/464 [==============================] - ETA: 0s - loss: 1.0013 - accuracy: 0.4810"
          ]
        },
        {
          "name": "stderr",
          "output_type": "stream",
          "text": [
            " 73%|███████▎  | 175/240 [15:41<05:35,  5.16s/epoch, loss=1, accuracy=0.481, val_loss=1.02, val_accuracy=0.473]"
          ]
        },
        {
          "name": "stdout",
          "output_type": "stream",
          "text": [
            "464/464 [==============================] - 5s 11ms/step - loss: 1.0013 - accuracy: 0.4810 - val_loss: 1.0198 - val_accuracy: 0.4729\n",
            "Epoch 176/240\n",
            "461/464 [============================>.] - ETA: 0s - loss: 1.0011 - accuracy: 0.4789"
          ]
        },
        {
          "name": "stderr",
          "output_type": "stream",
          "text": [
            " 73%|███████▎  | 176/240 [15:46<05:34,  5.23s/epoch, loss=1, accuracy=0.479, val_loss=1.02, val_accuracy=0.474]"
          ]
        },
        {
          "name": "stdout",
          "output_type": "stream",
          "text": [
            "464/464 [==============================] - 5s 12ms/step - loss: 1.0011 - accuracy: 0.4790 - val_loss: 1.0196 - val_accuracy: 0.4742\n",
            "Epoch 177/240\n",
            "464/464 [==============================] - ETA: 0s - loss: 0.9999 - accuracy: 0.4786"
          ]
        },
        {
          "name": "stderr",
          "output_type": "stream",
          "text": [
            " 74%|███████▍  | 177/240 [15:52<05:32,  5.28s/epoch, loss=1, accuracy=0.479, val_loss=1.02, val_accuracy=0.474]"
          ]
        },
        {
          "name": "stdout",
          "output_type": "stream",
          "text": [
            "464/464 [==============================] - 5s 12ms/step - loss: 0.9999 - accuracy: 0.4786 - val_loss: 1.0199 - val_accuracy: 0.4742\n",
            "Epoch 178/240\n",
            "463/464 [============================>.] - ETA: 0s - loss: 1.0009 - accuracy: 0.4783"
          ]
        },
        {
          "name": "stderr",
          "output_type": "stream",
          "text": [
            " 74%|███████▍  | 178/240 [15:57<05:28,  5.30s/epoch, loss=1, accuracy=0.478, val_loss=1.02, val_accuracy=0.474]"
          ]
        },
        {
          "name": "stdout",
          "output_type": "stream",
          "text": [
            "464/464 [==============================] - 5s 11ms/step - loss: 1.0009 - accuracy: 0.4783 - val_loss: 1.0194 - val_accuracy: 0.4737\n",
            "Epoch 179/240\n",
            "462/464 [============================>.] - ETA: 0s - loss: 1.0002 - accuracy: 0.4786"
          ]
        },
        {
          "name": "stderr",
          "output_type": "stream",
          "text": [
            " 75%|███████▍  | 179/240 [16:02<05:21,  5.27s/epoch, loss=1, accuracy=0.479, val_loss=1.02, val_accuracy=0.472]"
          ]
        },
        {
          "name": "stdout",
          "output_type": "stream",
          "text": [
            "464/464 [==============================] - 5s 11ms/step - loss: 1.0002 - accuracy: 0.4786 - val_loss: 1.0199 - val_accuracy: 0.4718\n",
            "Epoch 180/240\n",
            "461/464 [============================>.] - ETA: 0s - loss: 1.0002 - accuracy: 0.4801"
          ]
        },
        {
          "name": "stderr",
          "output_type": "stream",
          "text": [
            " 75%|███████▌  | 180/240 [16:07<05:15,  5.26s/epoch, loss=1, accuracy=0.48, val_loss=1.02, val_accuracy=0.476] "
          ]
        },
        {
          "name": "stdout",
          "output_type": "stream",
          "text": [
            "464/464 [==============================] - 5s 11ms/step - loss: 1.0003 - accuracy: 0.4803 - val_loss: 1.0197 - val_accuracy: 0.4760\n",
            "Epoch 181/240\n",
            "464/464 [==============================] - ETA: 0s - loss: 0.9984 - accuracy: 0.4790"
          ]
        },
        {
          "name": "stderr",
          "output_type": "stream",
          "text": [
            " 75%|███████▌  | 181/240 [16:13<05:11,  5.28s/epoch, loss=0.998, accuracy=0.479, val_loss=1.02, val_accuracy=0.471]"
          ]
        },
        {
          "name": "stdout",
          "output_type": "stream",
          "text": [
            "464/464 [==============================] - 5s 11ms/step - loss: 0.9984 - accuracy: 0.4790 - val_loss: 1.0204 - val_accuracy: 0.4712\n",
            "Epoch 182/240\n",
            "462/464 [============================>.] - ETA: 0s - loss: 1.0000 - accuracy: 0.4819"
          ]
        },
        {
          "name": "stderr",
          "output_type": "stream",
          "text": [
            " 76%|███████▌  | 182/240 [16:18<05:05,  5.26s/epoch, loss=1, accuracy=0.482, val_loss=1.02, val_accuracy=0.473]    "
          ]
        },
        {
          "name": "stdout",
          "output_type": "stream",
          "text": [
            "464/464 [==============================] - 5s 11ms/step - loss: 0.9999 - accuracy: 0.4821 - val_loss: 1.0199 - val_accuracy: 0.4732\n",
            "Epoch 183/240\n",
            "461/464 [============================>.] - ETA: 0s - loss: 0.9997 - accuracy: 0.4821"
          ]
        },
        {
          "name": "stderr",
          "output_type": "stream",
          "text": [
            " 76%|███████▋  | 183/240 [16:24<05:04,  5.33s/epoch, loss=1, accuracy=0.482, val_loss=1.02, val_accuracy=0.474]"
          ]
        },
        {
          "name": "stdout",
          "output_type": "stream",
          "text": [
            "464/464 [==============================] - 5s 12ms/step - loss: 0.9996 - accuracy: 0.4820 - val_loss: 1.0203 - val_accuracy: 0.4738\n",
            "Epoch 184/240\n",
            "459/464 [============================>.] - ETA: 0s - loss: 0.9999 - accuracy: 0.4776"
          ]
        },
        {
          "name": "stderr",
          "output_type": "stream",
          "text": [
            " 77%|███████▋  | 184/240 [16:29<04:55,  5.27s/epoch, loss=1, accuracy=0.477, val_loss=1.02, val_accuracy=0.473]"
          ]
        },
        {
          "name": "stdout",
          "output_type": "stream",
          "text": [
            "464/464 [==============================] - 5s 11ms/step - loss: 1.0001 - accuracy: 0.4774 - val_loss: 1.0201 - val_accuracy: 0.4732\n",
            "Epoch 185/240\n",
            "461/464 [============================>.] - ETA: 0s - loss: 0.9992 - accuracy: 0.4832"
          ]
        },
        {
          "name": "stderr",
          "output_type": "stream",
          "text": [
            " 77%|███████▋  | 185/240 [16:34<04:48,  5.24s/epoch, loss=0.999, accuracy=0.483, val_loss=1.02, val_accuracy=0.474]"
          ]
        },
        {
          "name": "stdout",
          "output_type": "stream",
          "text": [
            "464/464 [==============================] - 5s 11ms/step - loss: 0.9992 - accuracy: 0.4830 - val_loss: 1.0201 - val_accuracy: 0.4744\n",
            "Epoch 186/240\n",
            "461/464 [============================>.] - ETA: 0s - loss: 1.0000 - accuracy: 0.4823"
          ]
        },
        {
          "name": "stderr",
          "output_type": "stream",
          "text": [
            " 78%|███████▊  | 186/240 [16:39<04:44,  5.28s/epoch, loss=1, accuracy=0.482, val_loss=1.02, val_accuracy=0.472]    "
          ]
        },
        {
          "name": "stdout",
          "output_type": "stream",
          "text": [
            "464/464 [==============================] - 5s 12ms/step - loss: 1.0001 - accuracy: 0.4823 - val_loss: 1.0204 - val_accuracy: 0.4718\n",
            "Epoch 187/240\n",
            "463/464 [============================>.] - ETA: 0s - loss: 0.9991 - accuracy: 0.4827"
          ]
        },
        {
          "name": "stderr",
          "output_type": "stream",
          "text": [
            " 78%|███████▊  | 187/240 [16:45<04:40,  5.29s/epoch, loss=0.999, accuracy=0.483, val_loss=1.02, val_accuracy=0.474]"
          ]
        },
        {
          "name": "stdout",
          "output_type": "stream",
          "text": [
            "464/464 [==============================] - 5s 11ms/step - loss: 0.9991 - accuracy: 0.4827 - val_loss: 1.0203 - val_accuracy: 0.4736\n",
            "Epoch 188/240\n",
            "460/464 [============================>.] - ETA: 0s - loss: 0.9990 - accuracy: 0.4833"
          ]
        },
        {
          "name": "stderr",
          "output_type": "stream",
          "text": [
            " 78%|███████▊  | 188/240 [16:50<04:34,  5.28s/epoch, loss=0.999, accuracy=0.483, val_loss=1.02, val_accuracy=0.473]"
          ]
        },
        {
          "name": "stdout",
          "output_type": "stream",
          "text": [
            "464/464 [==============================] - 5s 11ms/step - loss: 0.9991 - accuracy: 0.4829 - val_loss: 1.0205 - val_accuracy: 0.4734\n",
            "Epoch 189/240\n",
            "461/464 [============================>.] - ETA: 0s - loss: 0.9990 - accuracy: 0.4814"
          ]
        },
        {
          "name": "stderr",
          "output_type": "stream",
          "text": [
            " 79%|███████▉  | 189/240 [16:55<04:32,  5.35s/epoch, loss=0.999, accuracy=0.482, val_loss=1.02, val_accuracy=0.474]"
          ]
        },
        {
          "name": "stdout",
          "output_type": "stream",
          "text": [
            "464/464 [==============================] - 6s 12ms/step - loss: 0.9989 - accuracy: 0.4816 - val_loss: 1.0204 - val_accuracy: 0.4740\n",
            "Epoch 190/240\n",
            "461/464 [============================>.] - ETA: 0s - loss: 0.9989 - accuracy: 0.4833"
          ]
        },
        {
          "name": "stderr",
          "output_type": "stream",
          "text": [
            " 79%|███████▉  | 190/240 [17:01<04:27,  5.35s/epoch, loss=0.999, accuracy=0.483, val_loss=1.02, val_accuracy=0.471]"
          ]
        },
        {
          "name": "stdout",
          "output_type": "stream",
          "text": [
            "464/464 [==============================] - 5s 12ms/step - loss: 0.9990 - accuracy: 0.4831 - val_loss: 1.0206 - val_accuracy: 0.4713\n",
            "Epoch 191/240\n",
            "463/464 [============================>.] - ETA: 0s - loss: 0.9984 - accuracy: 0.4820"
          ]
        },
        {
          "name": "stderr",
          "output_type": "stream",
          "text": [
            " 80%|███████▉  | 191/240 [17:06<04:22,  5.36s/epoch, loss=0.998, accuracy=0.482, val_loss=1.02, val_accuracy=0.468]"
          ]
        },
        {
          "name": "stdout",
          "output_type": "stream",
          "text": [
            "464/464 [==============================] - 5s 12ms/step - loss: 0.9984 - accuracy: 0.4821 - val_loss: 1.0219 - val_accuracy: 0.4679\n",
            "Epoch 192/240\n",
            "256/464 [===============>..............] - ETA: 2s - loss: 0.9991 - accuracy: 0.4803"
          ]
        },
        {
          "ename": "KeyboardInterrupt",
          "evalue": "",
          "output_type": "error",
          "traceback": [
            "\u001b[1;31m---------------------------------------------------------------------------\u001b[0m",
            "\u001b[1;31mKeyboardInterrupt\u001b[0m                         Traceback (most recent call last)",
            "\u001b[1;32mc:\\Users\\Johannes\\Desktop\\PythonProjects\\QuantShit\\python-crypto-ai\\model5_timeDecay\\modelTrainPreClassified_5_timeDecay.ipynb Cell 29\u001b[0m line \u001b[0;36m8\n\u001b[0;32m     <a href='vscode-notebook-cell:/c%3A/Users/Johannes/Desktop/PythonProjects/QuantShit/python-crypto-ai/model5_timeDecay/modelTrainPreClassified_5_timeDecay.ipynb#X44sZmlsZQ%3D%3D?line=82'>83</a>\u001b[0m     json\u001b[39m.\u001b[39mdump(data, json_file, indent\u001b[39m=\u001b[39m\u001b[39m4\u001b[39m)\n\u001b[0;32m     <a href='vscode-notebook-cell:/c%3A/Users/Johannes/Desktop/PythonProjects/QuantShit/python-crypto-ai/model5_timeDecay/modelTrainPreClassified_5_timeDecay.ipynb#X44sZmlsZQ%3D%3D?line=87'>88</a>\u001b[0m \u001b[39m# train\u001b[39;00m\n\u001b[1;32m---> <a href='vscode-notebook-cell:/c%3A/Users/Johannes/Desktop/PythonProjects/QuantShit/python-crypto-ai/model5_timeDecay/modelTrainPreClassified_5_timeDecay.ipynb#X44sZmlsZQ%3D%3D?line=88'>89</a>\u001b[0m history \u001b[39m=\u001b[39m model\u001b[39m.\u001b[39;49mfit(\n\u001b[0;32m     <a href='vscode-notebook-cell:/c%3A/Users/Johannes/Desktop/PythonProjects/QuantShit/python-crypto-ai/model5_timeDecay/modelTrainPreClassified_5_timeDecay.ipynb#X44sZmlsZQ%3D%3D?line=89'>90</a>\u001b[0m   train_x, train_y,\n\u001b[0;32m     <a href='vscode-notebook-cell:/c%3A/Users/Johannes/Desktop/PythonProjects/QuantShit/python-crypto-ai/model5_timeDecay/modelTrainPreClassified_5_timeDecay.ipynb#X44sZmlsZQ%3D%3D?line=90'>91</a>\u001b[0m   batch_size \u001b[39m=\u001b[39;49m batchSize,\n\u001b[0;32m     <a href='vscode-notebook-cell:/c%3A/Users/Johannes/Desktop/PythonProjects/QuantShit/python-crypto-ai/model5_timeDecay/modelTrainPreClassified_5_timeDecay.ipynb#X44sZmlsZQ%3D%3D?line=91'>92</a>\u001b[0m   epochs \u001b[39m=\u001b[39;49m EPOCHS,\n\u001b[0;32m     <a href='vscode-notebook-cell:/c%3A/Users/Johannes/Desktop/PythonProjects/QuantShit/python-crypto-ai/model5_timeDecay/modelTrainPreClassified_5_timeDecay.ipynb#X44sZmlsZQ%3D%3D?line=92'>93</a>\u001b[0m   validation_data\u001b[39m=\u001b[39;49m(validation_x, validation_y),\n\u001b[0;32m     <a href='vscode-notebook-cell:/c%3A/Users/Johannes/Desktop/PythonProjects/QuantShit/python-crypto-ai/model5_timeDecay/modelTrainPreClassified_5_timeDecay.ipynb#X44sZmlsZQ%3D%3D?line=93'>94</a>\u001b[0m   callbacks\u001b[39m=\u001b[39;49m[checkpoint, TqdmCallback(verbose\u001b[39m=\u001b[39;49m\u001b[39m0\u001b[39;49m), tensorboard_callback])\n\u001b[0;32m     <a href='vscode-notebook-cell:/c%3A/Users/Johannes/Desktop/PythonProjects/QuantShit/python-crypto-ai/model5_timeDecay/modelTrainPreClassified_5_timeDecay.ipynb#X44sZmlsZQ%3D%3D?line=94'>95</a>\u001b[0m   \u001b[39m#callbacks=[checkpoint])\u001b[39;00m\n",
            "File \u001b[1;32mc:\\Users\\Johannes\\miniconda3\\envs\\Quant\\lib\\site-packages\\keras\\utils\\traceback_utils.py:65\u001b[0m, in \u001b[0;36mfilter_traceback.<locals>.error_handler\u001b[1;34m(*args, **kwargs)\u001b[0m\n\u001b[0;32m     63\u001b[0m filtered_tb \u001b[39m=\u001b[39m \u001b[39mNone\u001b[39;00m\n\u001b[0;32m     64\u001b[0m \u001b[39mtry\u001b[39;00m:\n\u001b[1;32m---> 65\u001b[0m     \u001b[39mreturn\u001b[39;00m fn(\u001b[39m*\u001b[39margs, \u001b[39m*\u001b[39m\u001b[39m*\u001b[39mkwargs)\n\u001b[0;32m     66\u001b[0m \u001b[39mexcept\u001b[39;00m \u001b[39mException\u001b[39;00m \u001b[39mas\u001b[39;00m e:\n\u001b[0;32m     67\u001b[0m     filtered_tb \u001b[39m=\u001b[39m _process_traceback_frames(e\u001b[39m.\u001b[39m__traceback__)\n",
            "File \u001b[1;32mc:\\Users\\Johannes\\miniconda3\\envs\\Quant\\lib\\site-packages\\keras\\engine\\training.py:1564\u001b[0m, in \u001b[0;36mModel.fit\u001b[1;34m(self, x, y, batch_size, epochs, verbose, callbacks, validation_split, validation_data, shuffle, class_weight, sample_weight, initial_epoch, steps_per_epoch, validation_steps, validation_batch_size, validation_freq, max_queue_size, workers, use_multiprocessing)\u001b[0m\n\u001b[0;32m   1556\u001b[0m \u001b[39mwith\u001b[39;00m tf\u001b[39m.\u001b[39mprofiler\u001b[39m.\u001b[39mexperimental\u001b[39m.\u001b[39mTrace(\n\u001b[0;32m   1557\u001b[0m     \u001b[39m\"\u001b[39m\u001b[39mtrain\u001b[39m\u001b[39m\"\u001b[39m,\n\u001b[0;32m   1558\u001b[0m     epoch_num\u001b[39m=\u001b[39mepoch,\n\u001b[1;32m   (...)\u001b[0m\n\u001b[0;32m   1561\u001b[0m     _r\u001b[39m=\u001b[39m\u001b[39m1\u001b[39m,\n\u001b[0;32m   1562\u001b[0m ):\n\u001b[0;32m   1563\u001b[0m     callbacks\u001b[39m.\u001b[39mon_train_batch_begin(step)\n\u001b[1;32m-> 1564\u001b[0m     tmp_logs \u001b[39m=\u001b[39m \u001b[39mself\u001b[39;49m\u001b[39m.\u001b[39;49mtrain_function(iterator)\n\u001b[0;32m   1565\u001b[0m     \u001b[39mif\u001b[39;00m data_handler\u001b[39m.\u001b[39mshould_sync:\n\u001b[0;32m   1566\u001b[0m         context\u001b[39m.\u001b[39masync_wait()\n",
            "File \u001b[1;32mc:\\Users\\Johannes\\miniconda3\\envs\\Quant\\lib\\site-packages\\tensorflow\\python\\util\\traceback_utils.py:150\u001b[0m, in \u001b[0;36mfilter_traceback.<locals>.error_handler\u001b[1;34m(*args, **kwargs)\u001b[0m\n\u001b[0;32m    148\u001b[0m filtered_tb \u001b[39m=\u001b[39m \u001b[39mNone\u001b[39;00m\n\u001b[0;32m    149\u001b[0m \u001b[39mtry\u001b[39;00m:\n\u001b[1;32m--> 150\u001b[0m   \u001b[39mreturn\u001b[39;00m fn(\u001b[39m*\u001b[39margs, \u001b[39m*\u001b[39m\u001b[39m*\u001b[39mkwargs)\n\u001b[0;32m    151\u001b[0m \u001b[39mexcept\u001b[39;00m \u001b[39mException\u001b[39;00m \u001b[39mas\u001b[39;00m e:\n\u001b[0;32m    152\u001b[0m   filtered_tb \u001b[39m=\u001b[39m _process_traceback_frames(e\u001b[39m.\u001b[39m__traceback__)\n",
            "File \u001b[1;32mc:\\Users\\Johannes\\miniconda3\\envs\\Quant\\lib\\site-packages\\tensorflow\\python\\eager\\def_function.py:915\u001b[0m, in \u001b[0;36mFunction.__call__\u001b[1;34m(self, *args, **kwds)\u001b[0m\n\u001b[0;32m    912\u001b[0m compiler \u001b[39m=\u001b[39m \u001b[39m\"\u001b[39m\u001b[39mxla\u001b[39m\u001b[39m\"\u001b[39m \u001b[39mif\u001b[39;00m \u001b[39mself\u001b[39m\u001b[39m.\u001b[39m_jit_compile \u001b[39melse\u001b[39;00m \u001b[39m\"\u001b[39m\u001b[39mnonXla\u001b[39m\u001b[39m\"\u001b[39m\n\u001b[0;32m    914\u001b[0m \u001b[39mwith\u001b[39;00m OptionalXlaContext(\u001b[39mself\u001b[39m\u001b[39m.\u001b[39m_jit_compile):\n\u001b[1;32m--> 915\u001b[0m   result \u001b[39m=\u001b[39m \u001b[39mself\u001b[39m\u001b[39m.\u001b[39m_call(\u001b[39m*\u001b[39margs, \u001b[39m*\u001b[39m\u001b[39m*\u001b[39mkwds)\n\u001b[0;32m    917\u001b[0m new_tracing_count \u001b[39m=\u001b[39m \u001b[39mself\u001b[39m\u001b[39m.\u001b[39mexperimental_get_tracing_count()\n\u001b[0;32m    918\u001b[0m without_tracing \u001b[39m=\u001b[39m (tracing_count \u001b[39m==\u001b[39m new_tracing_count)\n",
            "File \u001b[1;32mc:\\Users\\Johannes\\miniconda3\\envs\\Quant\\lib\\site-packages\\tensorflow\\python\\eager\\def_function.py:947\u001b[0m, in \u001b[0;36mFunction._call\u001b[1;34m(self, *args, **kwds)\u001b[0m\n\u001b[0;32m    944\u001b[0m   \u001b[39mself\u001b[39m\u001b[39m.\u001b[39m_lock\u001b[39m.\u001b[39mrelease()\n\u001b[0;32m    945\u001b[0m   \u001b[39m# In this case we have created variables on the first call, so we run the\u001b[39;00m\n\u001b[0;32m    946\u001b[0m   \u001b[39m# defunned version which is guaranteed to never create variables.\u001b[39;00m\n\u001b[1;32m--> 947\u001b[0m   \u001b[39mreturn\u001b[39;00m \u001b[39mself\u001b[39m\u001b[39m.\u001b[39m_stateless_fn(\u001b[39m*\u001b[39margs, \u001b[39m*\u001b[39m\u001b[39m*\u001b[39mkwds)  \u001b[39m# pylint: disable=not-callable\u001b[39;00m\n\u001b[0;32m    948\u001b[0m \u001b[39melif\u001b[39;00m \u001b[39mself\u001b[39m\u001b[39m.\u001b[39m_stateful_fn \u001b[39mis\u001b[39;00m \u001b[39mnot\u001b[39;00m \u001b[39mNone\u001b[39;00m:\n\u001b[0;32m    949\u001b[0m   \u001b[39m# Release the lock early so that multiple threads can perform the call\u001b[39;00m\n\u001b[0;32m    950\u001b[0m   \u001b[39m# in parallel.\u001b[39;00m\n\u001b[0;32m    951\u001b[0m   \u001b[39mself\u001b[39m\u001b[39m.\u001b[39m_lock\u001b[39m.\u001b[39mrelease()\n",
            "File \u001b[1;32mc:\\Users\\Johannes\\miniconda3\\envs\\Quant\\lib\\site-packages\\tensorflow\\python\\eager\\function.py:2496\u001b[0m, in \u001b[0;36mFunction.__call__\u001b[1;34m(self, *args, **kwargs)\u001b[0m\n\u001b[0;32m   2493\u001b[0m \u001b[39mwith\u001b[39;00m \u001b[39mself\u001b[39m\u001b[39m.\u001b[39m_lock:\n\u001b[0;32m   2494\u001b[0m   (graph_function,\n\u001b[0;32m   2495\u001b[0m    filtered_flat_args) \u001b[39m=\u001b[39m \u001b[39mself\u001b[39m\u001b[39m.\u001b[39m_maybe_define_function(args, kwargs)\n\u001b[1;32m-> 2496\u001b[0m \u001b[39mreturn\u001b[39;00m graph_function\u001b[39m.\u001b[39;49m_call_flat(\n\u001b[0;32m   2497\u001b[0m     filtered_flat_args, captured_inputs\u001b[39m=\u001b[39;49mgraph_function\u001b[39m.\u001b[39;49mcaptured_inputs)\n",
            "File \u001b[1;32mc:\\Users\\Johannes\\miniconda3\\envs\\Quant\\lib\\site-packages\\tensorflow\\python\\eager\\function.py:1862\u001b[0m, in \u001b[0;36mConcreteFunction._call_flat\u001b[1;34m(self, args, captured_inputs, cancellation_manager)\u001b[0m\n\u001b[0;32m   1858\u001b[0m possible_gradient_type \u001b[39m=\u001b[39m gradients_util\u001b[39m.\u001b[39mPossibleTapeGradientTypes(args)\n\u001b[0;32m   1859\u001b[0m \u001b[39mif\u001b[39;00m (possible_gradient_type \u001b[39m==\u001b[39m gradients_util\u001b[39m.\u001b[39mPOSSIBLE_GRADIENT_TYPES_NONE\n\u001b[0;32m   1860\u001b[0m     \u001b[39mand\u001b[39;00m executing_eagerly):\n\u001b[0;32m   1861\u001b[0m   \u001b[39m# No tape is watching; skip to running the function.\u001b[39;00m\n\u001b[1;32m-> 1862\u001b[0m   \u001b[39mreturn\u001b[39;00m \u001b[39mself\u001b[39m\u001b[39m.\u001b[39m_build_call_outputs(\u001b[39mself\u001b[39;49m\u001b[39m.\u001b[39;49m_inference_function\u001b[39m.\u001b[39;49mcall(\n\u001b[0;32m   1863\u001b[0m       ctx, args, cancellation_manager\u001b[39m=\u001b[39;49mcancellation_manager))\n\u001b[0;32m   1864\u001b[0m forward_backward \u001b[39m=\u001b[39m \u001b[39mself\u001b[39m\u001b[39m.\u001b[39m_select_forward_and_backward_functions(\n\u001b[0;32m   1865\u001b[0m     args,\n\u001b[0;32m   1866\u001b[0m     possible_gradient_type,\n\u001b[0;32m   1867\u001b[0m     executing_eagerly)\n\u001b[0;32m   1868\u001b[0m forward_function, args_with_tangents \u001b[39m=\u001b[39m forward_backward\u001b[39m.\u001b[39mforward()\n",
            "File \u001b[1;32mc:\\Users\\Johannes\\miniconda3\\envs\\Quant\\lib\\site-packages\\tensorflow\\python\\eager\\function.py:499\u001b[0m, in \u001b[0;36m_EagerDefinedFunction.call\u001b[1;34m(self, ctx, args, cancellation_manager)\u001b[0m\n\u001b[0;32m    497\u001b[0m \u001b[39mwith\u001b[39;00m _InterpolateFunctionError(\u001b[39mself\u001b[39m):\n\u001b[0;32m    498\u001b[0m   \u001b[39mif\u001b[39;00m cancellation_manager \u001b[39mis\u001b[39;00m \u001b[39mNone\u001b[39;00m:\n\u001b[1;32m--> 499\u001b[0m     outputs \u001b[39m=\u001b[39m execute\u001b[39m.\u001b[39;49mexecute(\n\u001b[0;32m    500\u001b[0m         \u001b[39mstr\u001b[39;49m(\u001b[39mself\u001b[39;49m\u001b[39m.\u001b[39;49msignature\u001b[39m.\u001b[39;49mname),\n\u001b[0;32m    501\u001b[0m         num_outputs\u001b[39m=\u001b[39;49m\u001b[39mself\u001b[39;49m\u001b[39m.\u001b[39;49m_num_outputs,\n\u001b[0;32m    502\u001b[0m         inputs\u001b[39m=\u001b[39;49margs,\n\u001b[0;32m    503\u001b[0m         attrs\u001b[39m=\u001b[39;49mattrs,\n\u001b[0;32m    504\u001b[0m         ctx\u001b[39m=\u001b[39;49mctx)\n\u001b[0;32m    505\u001b[0m   \u001b[39melse\u001b[39;00m:\n\u001b[0;32m    506\u001b[0m     outputs \u001b[39m=\u001b[39m execute\u001b[39m.\u001b[39mexecute_with_cancellation(\n\u001b[0;32m    507\u001b[0m         \u001b[39mstr\u001b[39m(\u001b[39mself\u001b[39m\u001b[39m.\u001b[39msignature\u001b[39m.\u001b[39mname),\n\u001b[0;32m    508\u001b[0m         num_outputs\u001b[39m=\u001b[39m\u001b[39mself\u001b[39m\u001b[39m.\u001b[39m_num_outputs,\n\u001b[1;32m   (...)\u001b[0m\n\u001b[0;32m    511\u001b[0m         ctx\u001b[39m=\u001b[39mctx,\n\u001b[0;32m    512\u001b[0m         cancellation_manager\u001b[39m=\u001b[39mcancellation_manager)\n",
            "File \u001b[1;32mc:\\Users\\Johannes\\miniconda3\\envs\\Quant\\lib\\site-packages\\tensorflow\\python\\eager\\execute.py:54\u001b[0m, in \u001b[0;36mquick_execute\u001b[1;34m(op_name, num_outputs, inputs, attrs, ctx, name)\u001b[0m\n\u001b[0;32m     52\u001b[0m \u001b[39mtry\u001b[39;00m:\n\u001b[0;32m     53\u001b[0m   ctx\u001b[39m.\u001b[39mensure_initialized()\n\u001b[1;32m---> 54\u001b[0m   tensors \u001b[39m=\u001b[39m pywrap_tfe\u001b[39m.\u001b[39;49mTFE_Py_Execute(ctx\u001b[39m.\u001b[39;49m_handle, device_name, op_name,\n\u001b[0;32m     55\u001b[0m                                       inputs, attrs, num_outputs)\n\u001b[0;32m     56\u001b[0m \u001b[39mexcept\u001b[39;00m core\u001b[39m.\u001b[39m_NotOkStatusException \u001b[39mas\u001b[39;00m e:\n\u001b[0;32m     57\u001b[0m   \u001b[39mif\u001b[39;00m name \u001b[39mis\u001b[39;00m \u001b[39mnot\u001b[39;00m \u001b[39mNone\u001b[39;00m:\n",
            "\u001b[1;31mKeyboardInterrupt\u001b[0m: "
          ]
        }
      ],
      "source": [
        "import tensorflow as tf\n",
        "from tensorflow.keras.models import Sequential\n",
        "from tensorflow.keras.layers import Dense, Dropout, LSTM, BatchNormalization\n",
        "from tensorflow.keras.callbacks import ModelCheckpoint, TensorBoard\n",
        "import os\n",
        "from tqdm.keras import TqdmCallback\n",
        "import datetime\n",
        "from tensorflow.keras.layers import Bidirectional\n",
        "from tensorflow.keras import regularizers\n",
        "import json\n",
        "# model\n",
        "model = Sequential()\n",
        "\n",
        "for _ in range(layers-1):\n",
        "  model.add(LSTM(nodes, \n",
        "               activation=\"tanh\", \n",
        "               recurrent_activation = 'sigmoid', \n",
        "               recurrent_dropout = rec_dropout, \n",
        "               unroll = False, \n",
        "               use_bias = True, \n",
        "               input_shape=(train_x.shape[1:]), \n",
        "               return_sequences=True,\n",
        "               kernel_regularizer=regularizers.l1_l2(l1=l1l2_reg/10, l2=l1l2_reg),\n",
        "               #bias_regularizer=regularizers.l2(l1l2_reg),\n",
        "               activity_regularizer=regularizers.l2(l1l2_reg)\n",
        "               ))\n",
        "  model.add(Dropout(dropOut))\n",
        "  #model.add(BatchNormalization())\n",
        "\n",
        "model.add(LSTM(nodes, \n",
        "             activation=\"tanh\", \n",
        "             recurrent_activation = 'sigmoid', \n",
        "             recurrent_dropout = rec_dropout, \n",
        "             unroll = False, \n",
        "             use_bias = True, \n",
        "             input_shape=(train_x.shape[1:]),\n",
        "             kernel_regularizer=regularizers.l1_l2(l1=l1l2_reg/10, l2=l1l2_reg),\n",
        "             #bias_regularizer=regularizers.l2(l1l2_reg),\n",
        "             activity_regularizer=regularizers.l2(l1l2_reg)\n",
        "             ))\n",
        "model.add(Dropout(dropOut))\n",
        "#model.add(BatchNormalization())\n",
        "\n",
        "model.add(Dense(denseNodes, \n",
        "                activation=\"relu\",\n",
        "                kernel_regularizer=regularizers.l1_l2(l1=l1l2_reg/10, l2=l1l2_reg),\n",
        "                #bias_regularizer=regularizers.l2(l1l2_reg), \n",
        "                activity_regularizer=regularizers.l2(l1l2_reg)))\n",
        "model.add(Dropout(dropOut))\n",
        "\n",
        "model.add(Dense(3, activation=\"softmax\"))\n",
        "\n",
        "\n",
        "\n",
        "# opt  \n",
        "opt = tf.keras.optimizers.Adam(lr=learningRate) # decay?\n",
        "\n",
        "\n",
        "model.compile(loss=\"sparse_categorical_crossentropy\",\n",
        "              optimizer = opt,\n",
        "              metrics=[\"accuracy\"])\n",
        "\n",
        "\n",
        "filename = \"\" + NAME + \"-{epoch:02d}\"\n",
        "filepath = f\"models/{filename}.h5\"\n",
        "checkpoint = ModelCheckpoint(filepath, monitor='val_loss', verbose=0, save_best_only=False, save_weights_only=False, mode='auto', period=1) # saves every epoch\n",
        "\n",
        "# Prepare TensorBoard callback\n",
        "log_dir = \"../logs/fit/\" + f\"{NAME}\" + datetime.datetime.now().strftime(\"%Y%m%d-%H%M%S\")\n",
        "tensorboard_callback = TensorBoard(log_dir=log_dir, histogram_freq=1)\n",
        "\n",
        "\n",
        "# store hyper-parameters\n",
        "# Path to the JSON file\n",
        "file_path = \"models/hps/hps.json\"\n",
        "# Load the JSON file into a dictionary\n",
        "with open(file_path, \"r\") as json_file:\n",
        "    data = json.load(json_file)\n",
        "# Add a new key-value pair to the dictionary\n",
        "data[f\"{NAME}\" + datetime.datetime.now().strftime(\"%Y%m%d-%H%M%S\")] = hp_suffix\n",
        "# Write the updated dictionary back to the file\n",
        "with open(file_path, \"w\") as json_file:\n",
        "    json.dump(data, json_file, indent=4)\n",
        "\n",
        "\n",
        "\n",
        "\n",
        "# train\n",
        "history = model.fit(\n",
        "  train_x, train_y,\n",
        "  batch_size = batchSize,\n",
        "  epochs = EPOCHS,\n",
        "  validation_data=(validation_x, validation_y),\n",
        "  callbacks=[checkpoint, TqdmCallback(verbose=0), tensorboard_callback])\n",
        "  #callbacks=[checkpoint])"
      ]
    }
  ],
  "metadata": {
    "accelerator": "GPU",
    "colab": {
      "collapsed_sections": [],
      "machine_shape": "hm",
      "name": "modelTrainPreClassified.ipynb",
      "provenance": []
    },
    "kernelspec": {
      "display_name": "Python 3",
      "name": "python3"
    },
    "language_info": {
      "codemirror_mode": {
        "name": "ipython",
        "version": 3
      },
      "file_extension": ".py",
      "mimetype": "text/x-python",
      "name": "python",
      "nbconvert_exporter": "python",
      "pygments_lexer": "ipython3",
      "version": "3.10.12"
    }
  },
  "nbformat": 4,
  "nbformat_minor": 0
}
