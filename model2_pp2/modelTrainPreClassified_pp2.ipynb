{
  "cells": [
    {
      "attachments": {},
      "cell_type": "markdown",
      "metadata": {
        "id": "M7KYj8EtoPxZ"
      },
      "source": [
        "# Constants:"
      ]
    },
    {
      "cell_type": "code",
      "execution_count": 1,
      "metadata": {
        "id": "ZsusFSopoVfn"
      },
      "outputs": [],
      "source": [
        "SEQ_LEN = 180 #240   # how many past candles to use to predict\n",
        "CANDLES_SHIFT = 2 #5 # how many candles to shift between sequences\n",
        "NAME = \"pp2_m5_ov40th004p_shift2_seq180\"\n",
        "VALIDATION_PCT = 0.2"
      ]
    },
    {
      "attachments": {},
      "cell_type": "markdown",
      "metadata": {
        "id": "oSqPTNz-m5fo"
      },
      "source": [
        "# Functions:"
      ]
    },
    {
      "attachments": {},
      "cell_type": "markdown",
      "metadata": {
        "id": "1V8NN17CqWGA"
      },
      "source": [
        "sequence split"
      ]
    },
    {
      "cell_type": "code",
      "execution_count": 2,
      "metadata": {
        "id": "aAoFhaP8qX7P"
      },
      "outputs": [],
      "source": [
        "import numpy as np\n",
        "\n",
        "def splitDf(df):\n",
        "    \n",
        "    res = []\n",
        "    print(\"\")\n",
        "    print(\"splitDf\")\n",
        "    while len(df) >= SEQ_LEN + len(df.columns) -3:\n",
        "        first = df.head(SEQ_LEN + len(df.columns) -3).copy()\n",
        "        first.index = np.arange(0, len(first))\n",
        "        res.append(first)\n",
        "        df = df.tail(len(df) - CANDLES_SHIFT)\n",
        "        df.index = np.arange(0, len(df))\n",
        "\n",
        "    print(\"-done\")\n",
        "    print(\"\")\n",
        "    return res"
      ]
    },
    {
      "attachments": {},
      "cell_type": "markdown",
      "metadata": {
        "id": "v84s4MzlrJex"
      },
      "source": [
        "balance"
      ]
    },
    {
      "cell_type": "code",
      "execution_count": 3,
      "metadata": {
        "id": "Hddt3uD8rLYE"
      },
      "outputs": [],
      "source": [
        "def balance(dfs):\n",
        "    \n",
        "    buys = []\n",
        "    sells = []\n",
        "    holds = []\n",
        "    for df in dfs:\n",
        "        if df.at[len(df)-1, 'target'] == 0:\n",
        "            sells.append(df)\n",
        "        elif df.at[len(df)-1, 'target'] == 1:\n",
        "            buys.append(df)\n",
        "        else:\n",
        "          holds.append(df)\n",
        "\n",
        "    print(\"before balancing:\")\n",
        "    print(\"buys:\", len(buys), \", sells:\", len(sells), \", holds:\", len(holds))\n",
        "\n",
        "    smallest = min(len(buys), len(sells), len(holds))\n",
        "    buys = buys[:smallest]\n",
        "    sells = sells[:smallest]\n",
        "    holds = holds[:smallest]\n",
        "\n",
        "    dfsBalanced = buys+sells+holds\n",
        "    return dfsBalanced"
      ]
    },
    {
      "attachments": {},
      "cell_type": "markdown",
      "metadata": {
        "id": "puLrLHQCr2IF"
      },
      "source": [
        "preprocessing"
      ]
    },
    {
      "cell_type": "code",
      "execution_count": 4,
      "metadata": {
        "id": "HkiAmxApr4HE"
      },
      "outputs": [],
      "source": [
        "from sklearn import preprocessing\n",
        "\n",
        "def preprocess2(dfs):\n",
        "    # after sequencing\n",
        "    #\n",
        "    # pct.change transform price columns ('low', 'high', 'open', 'close')\n",
        "    # scale every colum (center mean and unit variance)\n",
        "\n",
        "    for df in dfs:\n",
        "        for col in df.columns:\n",
        "            if col != \"target\":\n",
        "                if col != 'quantity_baseUnits' and col != 'hl_percent':\n",
        "                    df[col] = df[col].pct_change()\n",
        "                    df.dropna(inplace=True)\n",
        "                df[col] = preprocessing.scale(df[col].values)\n",
        "                df.index = np.arange(0, len(df))\n",
        "    return dfs"
      ]
    },
    {
      "attachments": {},
      "cell_type": "markdown",
      "metadata": {
        "id": "Mtk_1EDotEdd"
      },
      "source": [
        "sequences"
      ]
    },
    {
      "cell_type": "code",
      "execution_count": 5,
      "metadata": {
        "id": "U4r2br77tGf-"
      },
      "outputs": [],
      "source": [
        "def buildSequences(dfs):\n",
        "    \n",
        "    sequences = []\n",
        "    for df in dfs:\n",
        "        if(len(df) == SEQ_LEN):\n",
        "            label = df.at[SEQ_LEN-1, 'target']\n",
        "            df = df.iloc[:, :-1]\n",
        "            dfArray = df.values.tolist()\n",
        "            sequences.append([np.array(dfArray), label])\n",
        "    \n",
        "    return sequences"
      ]
    },
    {
      "attachments": {},
      "cell_type": "markdown",
      "metadata": {
        "id": "Dd640LH1tix2"
      },
      "source": [
        "X y split"
      ]
    },
    {
      "cell_type": "code",
      "execution_count": 6,
      "metadata": {
        "id": "4-HIbtKAtj-0"
      },
      "outputs": [],
      "source": [
        "def xySplit(seqWithTarget):\n",
        "\n",
        "    X = []\n",
        "    y = []\n",
        "    for seq, target in seqWithTarget:\n",
        "        X.append(seq)\n",
        "        y.append(target)\n",
        "\n",
        "    return np.array(X),np.array(y)"
      ]
    },
    {
      "attachments": {},
      "cell_type": "markdown",
      "metadata": {
        "id": "bBfc_4lKnYpv"
      },
      "source": [
        "# DF manipulation, build training sets:"
      ]
    },
    {
      "cell_type": "code",
      "execution_count": 7,
      "metadata": {},
      "outputs": [
        {
          "data": {
            "text/html": [
              "<div>\n",
              "<style scoped>\n",
              "    .dataframe tbody tr th:only-of-type {\n",
              "        vertical-align: middle;\n",
              "    }\n",
              "\n",
              "    .dataframe tbody tr th {\n",
              "        vertical-align: top;\n",
              "    }\n",
              "\n",
              "    .dataframe thead th {\n",
              "        text-align: right;\n",
              "    }\n",
              "</style>\n",
              "<table border=\"1\" class=\"dataframe\">\n",
              "  <thead>\n",
              "    <tr style=\"text-align: right;\">\n",
              "      <th></th>\n",
              "      <th>close</th>\n",
              "      <th>hl_percent</th>\n",
              "      <th>quantity_baseUnits</th>\n",
              "      <th>target</th>\n",
              "    </tr>\n",
              "  </thead>\n",
              "  <tbody>\n",
              "    <tr>\n",
              "      <th>0</th>\n",
              "      <td>681.84</td>\n",
              "      <td>0.005617</td>\n",
              "      <td>0.488352</td>\n",
              "      <td>0</td>\n",
              "    </tr>\n",
              "    <tr>\n",
              "      <th>1</th>\n",
              "      <td>683.40</td>\n",
              "      <td>0.007915</td>\n",
              "      <td>0.239165</td>\n",
              "      <td>0</td>\n",
              "    </tr>\n",
              "    <tr>\n",
              "      <th>2</th>\n",
              "      <td>681.95</td>\n",
              "      <td>0.002078</td>\n",
              "      <td>0.103008</td>\n",
              "      <td>0</td>\n",
              "    </tr>\n",
              "    <tr>\n",
              "      <th>3</th>\n",
              "      <td>678.86</td>\n",
              "      <td>0.008804</td>\n",
              "      <td>9.084392</td>\n",
              "      <td>0</td>\n",
              "    </tr>\n",
              "    <tr>\n",
              "      <th>4</th>\n",
              "      <td>684.39</td>\n",
              "      <td>0.000497</td>\n",
              "      <td>0.236453</td>\n",
              "      <td>0</td>\n",
              "    </tr>\n",
              "    <tr>\n",
              "      <th>...</th>\n",
              "      <td>...</td>\n",
              "      <td>...</td>\n",
              "      <td>...</td>\n",
              "      <td>...</td>\n",
              "    </tr>\n",
              "    <tr>\n",
              "      <th>736051</th>\n",
              "      <td>30408.88</td>\n",
              "      <td>0.000332</td>\n",
              "      <td>0.091832</td>\n",
              "      <td>0</td>\n",
              "    </tr>\n",
              "    <tr>\n",
              "      <th>736052</th>\n",
              "      <td>30413.16</td>\n",
              "      <td>0.000211</td>\n",
              "      <td>0.128622</td>\n",
              "      <td>0</td>\n",
              "    </tr>\n",
              "    <tr>\n",
              "      <th>736053</th>\n",
              "      <td>30414.06</td>\n",
              "      <td>0.000341</td>\n",
              "      <td>0.090499</td>\n",
              "      <td>0</td>\n",
              "    </tr>\n",
              "    <tr>\n",
              "      <th>736054</th>\n",
              "      <td>30426.45</td>\n",
              "      <td>0.000526</td>\n",
              "      <td>0.205135</td>\n",
              "      <td>0</td>\n",
              "    </tr>\n",
              "    <tr>\n",
              "      <th>736055</th>\n",
              "      <td>30439.96</td>\n",
              "      <td>0.000705</td>\n",
              "      <td>0.094435</td>\n",
              "      <td>0</td>\n",
              "    </tr>\n",
              "  </tbody>\n",
              "</table>\n",
              "<p>736056 rows × 4 columns</p>\n",
              "</div>"
            ],
            "text/plain": [
              "           close  hl_percent  quantity_baseUnits  target\n",
              "0         681.84    0.005617            0.488352       0\n",
              "1         683.40    0.007915            0.239165       0\n",
              "2         681.95    0.002078            0.103008       0\n",
              "3         678.86    0.008804            9.084392       0\n",
              "4         684.39    0.000497            0.236453       0\n",
              "...          ...         ...                 ...     ...\n",
              "736051  30408.88    0.000332            0.091832       0\n",
              "736052  30413.16    0.000211            0.128622       0\n",
              "736053  30414.06    0.000341            0.090499       0\n",
              "736054  30426.45    0.000526            0.205135       0\n",
              "736055  30439.96    0.000705            0.094435       0\n",
              "\n",
              "[736056 rows x 4 columns]"
            ]
          },
          "execution_count": 7,
          "metadata": {},
          "output_type": "execute_result"
        }
      ],
      "source": [
        "import pandas as pd\n",
        "df = pd.read_csv(\"../historicalData/labeled/HistoricalDataLabeled_BTC_USDT_01072016_01072023_MINUTE_5_ov40_th004p.csv\")\n",
        "df = df[['close', 'hl_percent', 'quantity_baseUnits', 'target']]\n",
        "df"
      ]
    },
    {
      "attachments": {},
      "cell_type": "markdown",
      "metadata": {
        "id": "9h5xSZxbqNsz"
      },
      "source": [
        "split into dfs with SEQ_LEN rows"
      ]
    },
    {
      "cell_type": "code",
      "execution_count": 8,
      "metadata": {
        "colab": {
          "base_uri": "https://localhost:8080/"
        },
        "id": "31jTXjddn04r",
        "outputId": "125ce716-fa5f-4839-fabe-15765768da3e"
      },
      "outputs": [
        {
          "name": "stdout",
          "output_type": "stream",
          "text": [
            "\n",
            "splitDf\n",
            "-done\n",
            "\n",
            "num sequences: 367938\n"
          ]
        }
      ],
      "source": [
        "splittedDfs = splitDf(df)\n",
        "print(\"num sequences:\", len(splittedDfs))"
      ]
    },
    {
      "cell_type": "code",
      "execution_count": 9,
      "metadata": {},
      "outputs": [],
      "source": [
        "# preprocess\n",
        "splittedDfs = preprocess2(splittedDfs)"
      ]
    },
    {
      "attachments": {},
      "cell_type": "markdown",
      "metadata": {
        "id": "CdP3PNKHquOk"
      },
      "source": [
        "seperate training and validation"
      ]
    },
    {
      "cell_type": "code",
      "execution_count": 10,
      "metadata": {
        "id": "NlwWOLZVqudy"
      },
      "outputs": [],
      "source": [
        "train_dfs = splittedDfs[:(int(len(splittedDfs) * (1-VALIDATION_PCT)))].copy()\n",
        "val_dfs = splittedDfs[(int(len(splittedDfs) * (1-VALIDATION_PCT))):].copy()"
      ]
    },
    {
      "attachments": {},
      "cell_type": "markdown",
      "metadata": {
        "id": "Lo4KSJOxrAN0"
      },
      "source": [
        "balance buys/sells/holds"
      ]
    },
    {
      "cell_type": "code",
      "execution_count": 11,
      "metadata": {
        "colab": {
          "base_uri": "https://localhost:8080/"
        },
        "id": "GM9MzjVkq2i6",
        "outputId": "0923e1ea-7878-416b-f773-04e1ccdd4df1"
      },
      "outputs": [
        {
          "name": "stdout",
          "output_type": "stream",
          "text": [
            "before balancing:\n",
            "buys: 104446 , sells: 101497 , holds: 88407\n",
            "before balancing:\n",
            "buys: 24725 , sells: 24935 , holds: 23928\n"
          ]
        }
      ],
      "source": [
        "# balance buys, sells, and holds\n",
        "import random\n",
        "\n",
        "random.shuffle(train_dfs)\n",
        "random.shuffle(val_dfs)\n",
        "train_dfs = balance(train_dfs)\n",
        "val_dfs = balance(val_dfs)\n",
        "random.shuffle(train_dfs)\n",
        "random.shuffle(val_dfs)"
      ]
    },
    {
      "cell_type": "code",
      "execution_count": 13,
      "metadata": {},
      "outputs": [
        {
          "name": "stdout",
          "output_type": "stream",
          "text": [
            "265221\n",
            "71784\n"
          ]
        }
      ],
      "source": [
        "print(len(train_dfs))\n",
        "print(len(val_dfs))"
      ]
    },
    {
      "attachments": {},
      "cell_type": "markdown",
      "metadata": {
        "id": "JleCIrlUs98K"
      },
      "source": [
        "build sequences"
      ]
    },
    {
      "cell_type": "code",
      "execution_count": 14,
      "metadata": {
        "colab": {
          "background_save": true
        },
        "id": "GToeQJ4Us_ll"
      },
      "outputs": [],
      "source": [
        "sequencesTraining = buildSequences(train_dfs)\n",
        "sequencesValidation = buildSequences(val_dfs)\n",
        "random.shuffle(sequencesTraining)\n",
        "random.shuffle(sequencesValidation)"
      ]
    },
    {
      "cell_type": "code",
      "execution_count": 15,
      "metadata": {},
      "outputs": [
        {
          "name": "stdout",
          "output_type": "stream",
          "text": [
            "265221\n",
            "71784\n"
          ]
        }
      ],
      "source": [
        "print(len(sequencesTraining))\n",
        "print(len(sequencesValidation))"
      ]
    },
    {
      "attachments": {},
      "cell_type": "markdown",
      "metadata": {
        "id": "G-ygYD9gtbMx"
      },
      "source": [
        "split sequence from label"
      ]
    },
    {
      "cell_type": "code",
      "execution_count": 16,
      "metadata": {
        "colab": {
          "background_save": true
        },
        "id": "3Cnkgt0utXt1"
      },
      "outputs": [],
      "source": [
        "train_x, train_y = xySplit(sequencesTraining)\n",
        "validation_x, validation_y = xySplit(sequencesValidation)"
      ]
    },
    {
      "cell_type": "code",
      "execution_count": 17,
      "metadata": {},
      "outputs": [
        {
          "name": "stdout",
          "output_type": "stream",
          "text": [
            "<class 'numpy.ndarray'>\n",
            "(265221, 180, 3)\n",
            "<class 'numpy.ndarray'>\n",
            "(71784, 180, 3)\n"
          ]
        }
      ],
      "source": [
        "print(type(train_x))\n",
        "print(train_x.shape)\n",
        "print(type(validation_x))\n",
        "print(validation_x.shape)"
      ]
    },
    {
      "cell_type": "code",
      "execution_count": 18,
      "metadata": {},
      "outputs": [],
      "source": [
        "import pickle\n",
        "\n",
        "with open(f'../trainData/{NAME}_train_x.pkl', 'wb') as file:\n",
        "    pickle.dump(train_x, file)\n",
        "with open(f'../trainData/{NAME}_train_y.pkl', 'wb') as file:\n",
        "    pickle.dump(train_y, file)\n",
        "with open(f'../trainData/{NAME}_validation_x.pkl', 'wb') as file:\n",
        "    pickle.dump(validation_x, file)\n",
        "with open(f'../trainData/{NAME}_validation_y.pkl', 'wb') as file:\n",
        "    pickle.dump(validation_y, file)"
      ]
    },
    {
      "cell_type": "code",
      "execution_count": 2,
      "metadata": {},
      "outputs": [],
      "source": [
        "import pickle\n",
        "\n",
        "with open(f\"../trainData/{NAME}_train_x.pkl\", \"rb\") as file:\n",
        "    train_x = pickle.load(file)\n",
        "with open(f\"../trainData/{NAME}_train_y.pkl\", \"rb\") as file:\n",
        "    train_y = pickle.load(file)\n",
        "with open(f\"../trainData/{NAME}_validation_x.pkl\", \"rb\") as file:\n",
        "    validation_x = pickle.load(file)\n",
        "with open(f\"../trainData/{NAME}_validation_y.pkl\", \"rb\") as file:\n",
        "    validation_y = pickle.load(file)"
      ]
    },
    {
      "attachments": {},
      "cell_type": "markdown",
      "metadata": {
        "id": "LXt32q1Tt39k"
      },
      "source": [
        "# Model:"
      ]
    },
    {
      "cell_type": "code",
      "execution_count": 3,
      "metadata": {},
      "outputs": [
        {
          "name": "stdout",
          "output_type": "stream",
          "text": [
            "Num GPUs Available:  1\n"
          ]
        }
      ],
      "source": [
        "import tensorflow as tf\n",
        "print(\"Num GPUs Available: \", len(tf.config.experimental.list_physical_devices('GPU')))\n"
      ]
    },
    {
      "attachments": {},
      "cell_type": "markdown",
      "metadata": {
        "id": "QNzTVj7Ue8Vg"
      },
      "source": [
        "hyper parameters bounds"
      ]
    },
    {
      "cell_type": "code",
      "execution_count": 4,
      "metadata": {
        "colab": {
          "background_save": true
        },
        "id": "mXBNmip7e7or"
      },
      "outputs": [],
      "source": [
        "EPOCHS = 60\n",
        "\n",
        "batchSize = 96\n",
        "layers = 2\n",
        "nodes = 256\n",
        "denseNodes = 128\n",
        "\n",
        "dropOut = 0.8 #0.92 #0.88\n",
        "rec_dropout = 0\n",
        "l1l2_reg = 0 #1e-5#1e-3\n",
        "\n",
        "learningRate = 0.00001\n",
        "decay = 0\n",
        "\n",
        "hp_suffix = f\"bs({batchSize})_layers({layers})_noded({nodes})_dNodes({denseNodes})_do({int(dropOut*100)}%)_recdo({rec_dropout})_l1l2({l1l2_reg})_lr({learningRate})_decay({decay})\""
      ]
    },
    {
      "cell_type": "code",
      "execution_count": 5,
      "metadata": {
        "id": "XYo0LRjEg2m4"
      },
      "outputs": [
        {
          "name": "stderr",
          "output_type": "stream",
          "text": [
            "c:\\Users\\Johannes\\miniconda3\\envs\\Quant\\lib\\site-packages\\tqdm\\auto.py:21: TqdmWarning: IProgress not found. Please update jupyter and ipywidgets. See https://ipywidgets.readthedocs.io/en/stable/user_install.html\n",
            "  from .autonotebook import tqdm as notebook_tqdm\n"
          ]
        },
        {
          "name": "stdout",
          "output_type": "stream",
          "text": [
            "WARNING:tensorflow:`period` argument is deprecated. Please use `save_freq` to specify the frequency in number of batches seen.\n"
          ]
        },
        {
          "name": "stderr",
          "output_type": "stream",
          "text": [
            "c:\\Users\\Johannes\\miniconda3\\envs\\Quant\\lib\\site-packages\\keras\\optimizers\\optimizer_v2\\adam.py:114: UserWarning: The `lr` argument is deprecated, use `learning_rate` instead.\n",
            "  super().__init__(name, **kwargs)\n",
            "  0%|          | 0/60 [00:00<?, ?epoch/s]"
          ]
        },
        {
          "name": "stdout",
          "output_type": "stream",
          "text": [
            "Epoch 1/60\n",
            "2761/2763 [============================>.] - ETA: 0s - loss: 1.0871 - accuracy: 0.3726"
          ]
        },
        {
          "name": "stderr",
          "output_type": "stream",
          "text": [
            "  2%|▏         | 1/60 [01:05<1:04:02, 65.13s/epoch, loss=1.09, accuracy=0.373, val_loss=1.06, val_accuracy=0.426]"
          ]
        },
        {
          "name": "stdout",
          "output_type": "stream",
          "text": [
            "2763/2763 [==============================] - 65s 23ms/step - loss: 1.0871 - accuracy: 0.3726 - val_loss: 1.0567 - val_accuracy: 0.4255\n",
            "Epoch 2/60\n",
            "2762/2763 [============================>.] - ETA: 0s - loss: 1.0630 - accuracy: 0.4107"
          ]
        },
        {
          "name": "stderr",
          "output_type": "stream",
          "text": [
            "  3%|▎         | 2/60 [02:06<1:00:48, 62.90s/epoch, loss=1.06, accuracy=0.411, val_loss=1.05, val_accuracy=0.434]"
          ]
        },
        {
          "name": "stdout",
          "output_type": "stream",
          "text": [
            "2763/2763 [==============================] - 61s 22ms/step - loss: 1.0630 - accuracy: 0.4107 - val_loss: 1.0454 - val_accuracy: 0.4342\n",
            "Epoch 3/60\n",
            "2763/2763 [==============================] - ETA: 0s - loss: 1.0548 - accuracy: 0.4220"
          ]
        },
        {
          "name": "stderr",
          "output_type": "stream",
          "text": [
            "  5%|▌         | 3/60 [03:07<59:04, 62.18s/epoch, loss=1.05, accuracy=0.422, val_loss=1.04, val_accuracy=0.438]  "
          ]
        },
        {
          "name": "stdout",
          "output_type": "stream",
          "text": [
            "2763/2763 [==============================] - 61s 22ms/step - loss: 1.0548 - accuracy: 0.4220 - val_loss: 1.0411 - val_accuracy: 0.4380\n",
            "Epoch 4/60\n",
            "2763/2763 [==============================] - ETA: 0s - loss: 1.0492 - accuracy: 0.4298"
          ]
        },
        {
          "name": "stderr",
          "output_type": "stream",
          "text": [
            "  7%|▋         | 4/60 [04:09<57:42, 61.83s/epoch, loss=1.05, accuracy=0.43, val_loss=1.04, val_accuracy=0.444] "
          ]
        },
        {
          "name": "stdout",
          "output_type": "stream",
          "text": [
            "2763/2763 [==============================] - 61s 22ms/step - loss: 1.0492 - accuracy: 0.4298 - val_loss: 1.0378 - val_accuracy: 0.4440\n",
            "Epoch 5/60\n",
            "2762/2763 [============================>.] - ETA: 0s - loss: 1.0455 - accuracy: 0.4356"
          ]
        },
        {
          "name": "stderr",
          "output_type": "stream",
          "text": [
            "  8%|▊         | 5/60 [05:10<56:32, 61.67s/epoch, loss=1.05, accuracy=0.436, val_loss=1.04, val_accuracy=0.446]"
          ]
        },
        {
          "name": "stdout",
          "output_type": "stream",
          "text": [
            "2763/2763 [==============================] - 61s 22ms/step - loss: 1.0455 - accuracy: 0.4356 - val_loss: 1.0352 - val_accuracy: 0.4464\n",
            "Epoch 6/60\n",
            "2763/2763 [==============================] - ETA: 0s - loss: 1.0421 - accuracy: 0.4390"
          ]
        },
        {
          "name": "stderr",
          "output_type": "stream",
          "text": [
            " 10%|█         | 6/60 [06:11<55:23, 61.55s/epoch, loss=1.04, accuracy=0.439, val_loss=1.03, val_accuracy=0.449]"
          ]
        },
        {
          "name": "stdout",
          "output_type": "stream",
          "text": [
            "2763/2763 [==============================] - 61s 22ms/step - loss: 1.0421 - accuracy: 0.4390 - val_loss: 1.0332 - val_accuracy: 0.4486\n",
            "Epoch 7/60\n",
            "2763/2763 [==============================] - ETA: 0s - loss: 1.0387 - accuracy: 0.4439"
          ]
        },
        {
          "name": "stderr",
          "output_type": "stream",
          "text": [
            " 12%|█▏        | 7/60 [07:13<54:17, 61.47s/epoch, loss=1.04, accuracy=0.444, val_loss=1.03, val_accuracy=0.449]"
          ]
        },
        {
          "name": "stdout",
          "output_type": "stream",
          "text": [
            "2763/2763 [==============================] - 61s 22ms/step - loss: 1.0387 - accuracy: 0.4439 - val_loss: 1.0308 - val_accuracy: 0.4489\n",
            "Epoch 8/60\n",
            "2761/2763 [============================>.] - ETA: 0s - loss: 1.0359 - accuracy: 0.4473"
          ]
        },
        {
          "name": "stderr",
          "output_type": "stream",
          "text": [
            " 13%|█▎        | 8/60 [08:14<53:13, 61.42s/epoch, loss=1.04, accuracy=0.447, val_loss=1.03, val_accuracy=0.453]"
          ]
        },
        {
          "name": "stdout",
          "output_type": "stream",
          "text": [
            "2763/2763 [==============================] - 61s 22ms/step - loss: 1.0359 - accuracy: 0.4473 - val_loss: 1.0290 - val_accuracy: 0.4527\n",
            "Epoch 9/60\n",
            "2761/2763 [============================>.] - ETA: 0s - loss: 1.0326 - accuracy: 0.4520"
          ]
        },
        {
          "name": "stderr",
          "output_type": "stream",
          "text": [
            " 15%|█▌        | 9/60 [09:15<52:11, 61.40s/epoch, loss=1.03, accuracy=0.452, val_loss=1.03, val_accuracy=0.458]"
          ]
        },
        {
          "name": "stdout",
          "output_type": "stream",
          "text": [
            "2763/2763 [==============================] - 61s 22ms/step - loss: 1.0325 - accuracy: 0.4520 - val_loss: 1.0264 - val_accuracy: 0.4576\n",
            "Epoch 10/60\n",
            "2762/2763 [============================>.] - ETA: 0s - loss: 1.0302 - accuracy: 0.4551"
          ]
        },
        {
          "name": "stderr",
          "output_type": "stream",
          "text": [
            " 17%|█▋        | 10/60 [10:17<51:09, 61.39s/epoch, loss=1.03, accuracy=0.455, val_loss=1.02, val_accuracy=0.459]"
          ]
        },
        {
          "name": "stdout",
          "output_type": "stream",
          "text": [
            "2763/2763 [==============================] - 61s 22ms/step - loss: 1.0302 - accuracy: 0.4551 - val_loss: 1.0242 - val_accuracy: 0.4593\n",
            "Epoch 11/60\n",
            "2763/2763 [==============================] - ETA: 0s - loss: 1.0275 - accuracy: 0.4589"
          ]
        },
        {
          "name": "stderr",
          "output_type": "stream",
          "text": [
            " 18%|█▊        | 11/60 [11:18<50:09, 61.42s/epoch, loss=1.03, accuracy=0.459, val_loss=1.02, val_accuracy=0.461]"
          ]
        },
        {
          "name": "stdout",
          "output_type": "stream",
          "text": [
            "2763/2763 [==============================] - 61s 22ms/step - loss: 1.0275 - accuracy: 0.4589 - val_loss: 1.0226 - val_accuracy: 0.4612\n",
            "Epoch 12/60\n",
            "2761/2763 [============================>.] - ETA: 0s - loss: 1.0255 - accuracy: 0.4607"
          ]
        },
        {
          "name": "stderr",
          "output_type": "stream",
          "text": [
            " 20%|██        | 12/60 [12:20<49:09, 61.45s/epoch, loss=1.03, accuracy=0.461, val_loss=1.02, val_accuracy=0.46] "
          ]
        },
        {
          "name": "stdout",
          "output_type": "stream",
          "text": [
            "2763/2763 [==============================] - 62s 22ms/step - loss: 1.0255 - accuracy: 0.4607 - val_loss: 1.0230 - val_accuracy: 0.4602\n",
            "Epoch 13/60\n",
            "2761/2763 [============================>.] - ETA: 0s - loss: 1.0253 - accuracy: 0.4611"
          ]
        },
        {
          "name": "stderr",
          "output_type": "stream",
          "text": [
            " 22%|██▏       | 13/60 [13:21<48:08, 61.45s/epoch, loss=1.03, accuracy=0.461, val_loss=1.02, val_accuracy=0.462]"
          ]
        },
        {
          "name": "stdout",
          "output_type": "stream",
          "text": [
            "2763/2763 [==============================] - 61s 22ms/step - loss: 1.0253 - accuracy: 0.4611 - val_loss: 1.0225 - val_accuracy: 0.4620\n",
            "Epoch 14/60\n",
            "2763/2763 [==============================] - ETA: 0s - loss: 1.0243 - accuracy: 0.4633"
          ]
        },
        {
          "name": "stderr",
          "output_type": "stream",
          "text": [
            " 23%|██▎       | 14/60 [14:23<47:08, 61.49s/epoch, loss=1.02, accuracy=0.463, val_loss=1.02, val_accuracy=0.46] "
          ]
        },
        {
          "name": "stdout",
          "output_type": "stream",
          "text": [
            "2763/2763 [==============================] - 62s 22ms/step - loss: 1.0243 - accuracy: 0.4633 - val_loss: 1.0235 - val_accuracy: 0.4604\n",
            "Epoch 15/60\n",
            "2762/2763 [============================>.] - ETA: 0s - loss: 1.0232 - accuracy: 0.4645"
          ]
        },
        {
          "name": "stderr",
          "output_type": "stream",
          "text": [
            " 25%|██▌       | 15/60 [15:25<46:21, 61.81s/epoch, loss=1.02, accuracy=0.464, val_loss=1.02, val_accuracy=0.462]"
          ]
        },
        {
          "name": "stdout",
          "output_type": "stream",
          "text": [
            "2763/2763 [==============================] - 63s 23ms/step - loss: 1.0232 - accuracy: 0.4645 - val_loss: 1.0230 - val_accuracy: 0.4621\n",
            "Epoch 16/60\n",
            "2763/2763 [==============================] - ETA: 0s - loss: 1.0224 - accuracy: 0.4656"
          ]
        },
        {
          "name": "stderr",
          "output_type": "stream",
          "text": [
            " 27%|██▋       | 16/60 [16:25<44:50, 61.15s/epoch, loss=1.02, accuracy=0.466, val_loss=1.02, val_accuracy=0.461]"
          ]
        },
        {
          "name": "stdout",
          "output_type": "stream",
          "text": [
            "2763/2763 [==============================] - 60s 22ms/step - loss: 1.0224 - accuracy: 0.4656 - val_loss: 1.0224 - val_accuracy: 0.4613\n",
            "Epoch 17/60\n",
            "2762/2763 [============================>.] - ETA: 0s - loss: 1.0211 - accuracy: 0.4649"
          ]
        },
        {
          "name": "stderr",
          "output_type": "stream",
          "text": [
            " 28%|██▊       | 17/60 [17:24<43:28, 60.67s/epoch, loss=1.02, accuracy=0.465, val_loss=1.02, val_accuracy=0.461]"
          ]
        },
        {
          "name": "stdout",
          "output_type": "stream",
          "text": [
            "2763/2763 [==============================] - 60s 22ms/step - loss: 1.0211 - accuracy: 0.4649 - val_loss: 1.0232 - val_accuracy: 0.4608\n",
            "Epoch 18/60\n",
            "2763/2763 [==============================] - ETA: 0s - loss: 1.0211 - accuracy: 0.4666"
          ]
        },
        {
          "name": "stderr",
          "output_type": "stream",
          "text": [
            " 30%|███       | 18/60 [18:24<42:13, 60.32s/epoch, loss=1.02, accuracy=0.467, val_loss=1.02, val_accuracy=0.461]"
          ]
        },
        {
          "name": "stdout",
          "output_type": "stream",
          "text": [
            "2763/2763 [==============================] - 59s 22ms/step - loss: 1.0211 - accuracy: 0.4666 - val_loss: 1.0232 - val_accuracy: 0.4608\n",
            "Epoch 19/60\n",
            "2763/2763 [==============================] - ETA: 0s - loss: 1.0201 - accuracy: 0.4673"
          ]
        },
        {
          "name": "stderr",
          "output_type": "stream",
          "text": [
            " 32%|███▏      | 19/60 [19:24<41:04, 60.11s/epoch, loss=1.02, accuracy=0.467, val_loss=1.02, val_accuracy=0.466]"
          ]
        },
        {
          "name": "stdout",
          "output_type": "stream",
          "text": [
            "2763/2763 [==============================] - 60s 22ms/step - loss: 1.0201 - accuracy: 0.4673 - val_loss: 1.0203 - val_accuracy: 0.4659\n",
            "Epoch 20/60\n",
            "2762/2763 [============================>.] - ETA: 0s - loss: 1.0193 - accuracy: 0.4681"
          ]
        },
        {
          "name": "stderr",
          "output_type": "stream",
          "text": [
            " 33%|███▎      | 20/60 [20:23<39:58, 59.96s/epoch, loss=1.02, accuracy=0.468, val_loss=1.02, val_accuracy=0.464]"
          ]
        },
        {
          "name": "stdout",
          "output_type": "stream",
          "text": [
            "2763/2763 [==============================] - 60s 22ms/step - loss: 1.0193 - accuracy: 0.4681 - val_loss: 1.0215 - val_accuracy: 0.4640\n",
            "Epoch 21/60\n",
            "2762/2763 [============================>.] - ETA: 0s - loss: 1.0188 - accuracy: 0.4691"
          ]
        },
        {
          "name": "stderr",
          "output_type": "stream",
          "text": [
            " 35%|███▌      | 21/60 [21:23<38:54, 59.86s/epoch, loss=1.02, accuracy=0.469, val_loss=1.02, val_accuracy=0.465]"
          ]
        },
        {
          "name": "stdout",
          "output_type": "stream",
          "text": [
            "2763/2763 [==============================] - 60s 22ms/step - loss: 1.0188 - accuracy: 0.4691 - val_loss: 1.0205 - val_accuracy: 0.4649\n",
            "Epoch 22/60\n",
            "2762/2763 [============================>.] - ETA: 0s - loss: 1.0186 - accuracy: 0.4691"
          ]
        },
        {
          "name": "stderr",
          "output_type": "stream",
          "text": [
            " 37%|███▋      | 22/60 [22:22<37:51, 59.78s/epoch, loss=1.02, accuracy=0.469, val_loss=1.02, val_accuracy=0.462]"
          ]
        },
        {
          "name": "stdout",
          "output_type": "stream",
          "text": [
            "2763/2763 [==============================] - 60s 22ms/step - loss: 1.0186 - accuracy: 0.4691 - val_loss: 1.0216 - val_accuracy: 0.4625\n",
            "Epoch 23/60\n",
            "2762/2763 [============================>.] - ETA: 0s - loss: 1.0178 - accuracy: 0.4705"
          ]
        },
        {
          "name": "stderr",
          "output_type": "stream",
          "text": [
            " 38%|███▊      | 23/60 [23:22<36:50, 59.75s/epoch, loss=1.02, accuracy=0.471, val_loss=1.02, val_accuracy=0.465]"
          ]
        },
        {
          "name": "stdout",
          "output_type": "stream",
          "text": [
            "2763/2763 [==============================] - 60s 22ms/step - loss: 1.0178 - accuracy: 0.4705 - val_loss: 1.0200 - val_accuracy: 0.4652\n",
            "Epoch 24/60\n",
            "2763/2763 [==============================] - ETA: 0s - loss: 1.0181 - accuracy: 0.4703"
          ]
        },
        {
          "name": "stderr",
          "output_type": "stream",
          "text": [
            " 40%|████      | 24/60 [24:22<35:50, 59.73s/epoch, loss=1.02, accuracy=0.47, val_loss=1.02, val_accuracy=0.463] "
          ]
        },
        {
          "name": "stdout",
          "output_type": "stream",
          "text": [
            "2763/2763 [==============================] - 60s 22ms/step - loss: 1.0181 - accuracy: 0.4703 - val_loss: 1.0239 - val_accuracy: 0.4627\n",
            "Epoch 25/60\n",
            "2761/2763 [============================>.] - ETA: 0s - loss: 1.0172 - accuracy: 0.4702"
          ]
        },
        {
          "name": "stderr",
          "output_type": "stream",
          "text": [
            " 42%|████▏     | 25/60 [25:21<34:50, 59.72s/epoch, loss=1.02, accuracy=0.47, val_loss=1.02, val_accuracy=0.465]"
          ]
        },
        {
          "name": "stdout",
          "output_type": "stream",
          "text": [
            "2763/2763 [==============================] - 60s 22ms/step - loss: 1.0172 - accuracy: 0.4702 - val_loss: 1.0205 - val_accuracy: 0.4645\n",
            "Epoch 26/60\n",
            "2762/2763 [============================>.] - ETA: 0s - loss: 1.0169 - accuracy: 0.4706"
          ]
        },
        {
          "name": "stderr",
          "output_type": "stream",
          "text": [
            " 43%|████▎     | 26/60 [26:21<33:50, 59.72s/epoch, loss=1.02, accuracy=0.471, val_loss=1.02, val_accuracy=0.466]"
          ]
        },
        {
          "name": "stdout",
          "output_type": "stream",
          "text": [
            "2763/2763 [==============================] - 60s 22ms/step - loss: 1.0169 - accuracy: 0.4706 - val_loss: 1.0211 - val_accuracy: 0.4658\n",
            "Epoch 27/60\n",
            "2763/2763 [==============================] - ETA: 0s - loss: 1.0161 - accuracy: 0.4714"
          ]
        },
        {
          "name": "stderr",
          "output_type": "stream",
          "text": [
            " 45%|████▌     | 27/60 [27:21<32:49, 59.67s/epoch, loss=1.02, accuracy=0.471, val_loss=1.02, val_accuracy=0.467]"
          ]
        },
        {
          "name": "stdout",
          "output_type": "stream",
          "text": [
            "2763/2763 [==============================] - 60s 22ms/step - loss: 1.0161 - accuracy: 0.4714 - val_loss: 1.0198 - val_accuracy: 0.4668\n",
            "Epoch 28/60\n",
            "2763/2763 [==============================] - ETA: 0s - loss: 1.0154 - accuracy: 0.4721"
          ]
        },
        {
          "name": "stderr",
          "output_type": "stream",
          "text": [
            " 47%|████▋     | 28/60 [28:20<31:48, 59.63s/epoch, loss=1.02, accuracy=0.472, val_loss=1.02, val_accuracy=0.466]"
          ]
        },
        {
          "name": "stdout",
          "output_type": "stream",
          "text": [
            "2763/2763 [==============================] - 60s 22ms/step - loss: 1.0154 - accuracy: 0.4721 - val_loss: 1.0194 - val_accuracy: 0.4660\n",
            "Epoch 29/60\n",
            "2763/2763 [==============================] - ETA: 0s - loss: 1.0155 - accuracy: 0.4719"
          ]
        },
        {
          "name": "stderr",
          "output_type": "stream",
          "text": [
            " 48%|████▊     | 29/60 [29:20<30:48, 59.61s/epoch, loss=1.02, accuracy=0.472, val_loss=1.02, val_accuracy=0.468]"
          ]
        },
        {
          "name": "stdout",
          "output_type": "stream",
          "text": [
            "2763/2763 [==============================] - 60s 22ms/step - loss: 1.0155 - accuracy: 0.4719 - val_loss: 1.0195 - val_accuracy: 0.4678\n",
            "Epoch 30/60\n",
            "2761/2763 [============================>.] - ETA: 0s - loss: 1.0156 - accuracy: 0.4721"
          ]
        },
        {
          "name": "stderr",
          "output_type": "stream",
          "text": [
            " 50%|█████     | 30/60 [30:19<29:47, 59.60s/epoch, loss=1.02, accuracy=0.472, val_loss=1.02, val_accuracy=0.462]"
          ]
        },
        {
          "name": "stdout",
          "output_type": "stream",
          "text": [
            "2763/2763 [==============================] - 60s 22ms/step - loss: 1.0156 - accuracy: 0.4721 - val_loss: 1.0225 - val_accuracy: 0.4625\n",
            "Epoch 31/60\n",
            "2763/2763 [==============================] - ETA: 0s - loss: 1.0154 - accuracy: 0.4729"
          ]
        },
        {
          "name": "stderr",
          "output_type": "stream",
          "text": [
            " 52%|█████▏    | 31/60 [31:19<28:48, 59.60s/epoch, loss=1.02, accuracy=0.473, val_loss=1.02, val_accuracy=0.467]"
          ]
        },
        {
          "name": "stdout",
          "output_type": "stream",
          "text": [
            "2763/2763 [==============================] - 60s 22ms/step - loss: 1.0154 - accuracy: 0.4729 - val_loss: 1.0198 - val_accuracy: 0.4670\n",
            "Epoch 32/60\n",
            "2762/2763 [============================>.] - ETA: 0s - loss: 1.0149 - accuracy: 0.4733"
          ]
        },
        {
          "name": "stderr",
          "output_type": "stream",
          "text": [
            " 53%|█████▎    | 32/60 [32:18<27:47, 59.56s/epoch, loss=1.01, accuracy=0.473, val_loss=1.02, val_accuracy=0.467]"
          ]
        },
        {
          "name": "stdout",
          "output_type": "stream",
          "text": [
            "2763/2763 [==============================] - 59s 22ms/step - loss: 1.0149 - accuracy: 0.4733 - val_loss: 1.0203 - val_accuracy: 0.4671\n",
            "Epoch 33/60\n",
            "2761/2763 [============================>.] - ETA: 0s - loss: 1.0144 - accuracy: 0.4734"
          ]
        },
        {
          "name": "stderr",
          "output_type": "stream",
          "text": [
            " 55%|█████▌    | 33/60 [33:18<26:48, 59.57s/epoch, loss=1.01, accuracy=0.473, val_loss=1.02, val_accuracy=0.467]"
          ]
        },
        {
          "name": "stdout",
          "output_type": "stream",
          "text": [
            "2763/2763 [==============================] - 60s 22ms/step - loss: 1.0144 - accuracy: 0.4734 - val_loss: 1.0184 - val_accuracy: 0.4672\n",
            "Epoch 34/60\n",
            "2763/2763 [==============================] - ETA: 0s - loss: 1.0141 - accuracy: 0.4738"
          ]
        },
        {
          "name": "stderr",
          "output_type": "stream",
          "text": [
            " 57%|█████▋    | 34/60 [34:18<25:49, 59.60s/epoch, loss=1.01, accuracy=0.474, val_loss=1.02, val_accuracy=0.466]"
          ]
        },
        {
          "name": "stdout",
          "output_type": "stream",
          "text": [
            "2763/2763 [==============================] - 60s 22ms/step - loss: 1.0141 - accuracy: 0.4738 - val_loss: 1.0202 - val_accuracy: 0.4665\n",
            "Epoch 35/60\n",
            "2762/2763 [============================>.] - ETA: 0s - loss: 1.0141 - accuracy: 0.4731"
          ]
        },
        {
          "name": "stderr",
          "output_type": "stream",
          "text": [
            " 58%|█████▊    | 35/60 [35:17<24:51, 59.65s/epoch, loss=1.01, accuracy=0.473, val_loss=1.02, val_accuracy=0.468]"
          ]
        },
        {
          "name": "stdout",
          "output_type": "stream",
          "text": [
            "2763/2763 [==============================] - 60s 22ms/step - loss: 1.0141 - accuracy: 0.4731 - val_loss: 1.0191 - val_accuracy: 0.4683\n",
            "Epoch 36/60\n",
            "2761/2763 [============================>.] - ETA: 0s - loss: 1.0138 - accuracy: 0.4730"
          ]
        },
        {
          "name": "stderr",
          "output_type": "stream",
          "text": [
            " 60%|██████    | 36/60 [36:17<23:52, 59.68s/epoch, loss=1.01, accuracy=0.473, val_loss=1.02, val_accuracy=0.468]"
          ]
        },
        {
          "name": "stdout",
          "output_type": "stream",
          "text": [
            "2763/2763 [==============================] - 60s 22ms/step - loss: 1.0138 - accuracy: 0.4730 - val_loss: 1.0183 - val_accuracy: 0.4683\n",
            "Epoch 37/60\n",
            "2762/2763 [============================>.] - ETA: 0s - loss: 1.0137 - accuracy: 0.4749"
          ]
        },
        {
          "name": "stderr",
          "output_type": "stream",
          "text": [
            " 62%|██████▏   | 37/60 [37:17<22:52, 59.68s/epoch, loss=1.01, accuracy=0.475, val_loss=1.02, val_accuracy=0.467]"
          ]
        },
        {
          "name": "stdout",
          "output_type": "stream",
          "text": [
            "2763/2763 [==============================] - 60s 22ms/step - loss: 1.0137 - accuracy: 0.4749 - val_loss: 1.0206 - val_accuracy: 0.4672\n",
            "Epoch 38/60\n",
            "2762/2763 [============================>.] - ETA: 0s - loss: 1.0129 - accuracy: 0.4750"
          ]
        },
        {
          "name": "stderr",
          "output_type": "stream",
          "text": [
            " 63%|██████▎   | 38/60 [38:17<21:52, 59.68s/epoch, loss=1.01, accuracy=0.475, val_loss=1.02, val_accuracy=0.468]"
          ]
        },
        {
          "name": "stdout",
          "output_type": "stream",
          "text": [
            "2763/2763 [==============================] - 60s 22ms/step - loss: 1.0129 - accuracy: 0.4750 - val_loss: 1.0190 - val_accuracy: 0.4682\n",
            "Epoch 39/60\n",
            "2762/2763 [============================>.] - ETA: 0s - loss: 1.0128 - accuracy: 0.4745"
          ]
        },
        {
          "name": "stderr",
          "output_type": "stream",
          "text": [
            " 65%|██████▌   | 39/60 [39:16<20:53, 59.69s/epoch, loss=1.01, accuracy=0.475, val_loss=1.02, val_accuracy=0.467]"
          ]
        },
        {
          "name": "stdout",
          "output_type": "stream",
          "text": [
            "2763/2763 [==============================] - 60s 22ms/step - loss: 1.0128 - accuracy: 0.4745 - val_loss: 1.0200 - val_accuracy: 0.4670\n",
            "Epoch 40/60\n",
            "2761/2763 [============================>.] - ETA: 0s - loss: 1.0125 - accuracy: 0.4750"
          ]
        },
        {
          "name": "stderr",
          "output_type": "stream",
          "text": [
            " 67%|██████▋   | 40/60 [40:16<19:53, 59.69s/epoch, loss=1.01, accuracy=0.475, val_loss=1.02, val_accuracy=0.468]"
          ]
        },
        {
          "name": "stdout",
          "output_type": "stream",
          "text": [
            "2763/2763 [==============================] - 60s 22ms/step - loss: 1.0125 - accuracy: 0.4750 - val_loss: 1.0191 - val_accuracy: 0.4675\n",
            "Epoch 41/60\n",
            "2762/2763 [============================>.] - ETA: 0s - loss: 1.0121 - accuracy: 0.4749"
          ]
        },
        {
          "name": "stderr",
          "output_type": "stream",
          "text": [
            " 68%|██████▊   | 41/60 [41:16<18:54, 59.73s/epoch, loss=1.01, accuracy=0.475, val_loss=1.02, val_accuracy=0.467]"
          ]
        },
        {
          "name": "stdout",
          "output_type": "stream",
          "text": [
            "2763/2763 [==============================] - 60s 22ms/step - loss: 1.0121 - accuracy: 0.4749 - val_loss: 1.0189 - val_accuracy: 0.4673\n",
            "Epoch 42/60\n",
            "2763/2763 [==============================] - ETA: 0s - loss: 1.0119 - accuracy: 0.4750"
          ]
        },
        {
          "name": "stderr",
          "output_type": "stream",
          "text": [
            " 70%|███████   | 42/60 [42:16<17:55, 59.74s/epoch, loss=1.01, accuracy=0.475, val_loss=1.02, val_accuracy=0.468]"
          ]
        },
        {
          "name": "stdout",
          "output_type": "stream",
          "text": [
            "2763/2763 [==============================] - 60s 22ms/step - loss: 1.0119 - accuracy: 0.4750 - val_loss: 1.0186 - val_accuracy: 0.4681\n",
            "Epoch 43/60\n",
            "2762/2763 [============================>.] - ETA: 0s - loss: 1.0119 - accuracy: 0.4763"
          ]
        },
        {
          "name": "stderr",
          "output_type": "stream",
          "text": [
            " 72%|███████▏  | 43/60 [43:15<16:55, 59.72s/epoch, loss=1.01, accuracy=0.476, val_loss=1.02, val_accuracy=0.466]"
          ]
        },
        {
          "name": "stdout",
          "output_type": "stream",
          "text": [
            "2763/2763 [==============================] - 60s 22ms/step - loss: 1.0119 - accuracy: 0.4763 - val_loss: 1.0221 - val_accuracy: 0.4657\n",
            "Epoch 44/60\n",
            "2763/2763 [==============================] - ETA: 0s - loss: 1.0118 - accuracy: 0.4756"
          ]
        },
        {
          "name": "stderr",
          "output_type": "stream",
          "text": [
            " 73%|███████▎  | 44/60 [44:15<15:55, 59.71s/epoch, loss=1.01, accuracy=0.476, val_loss=1.02, val_accuracy=0.469]"
          ]
        },
        {
          "name": "stdout",
          "output_type": "stream",
          "text": [
            "2763/2763 [==============================] - 60s 22ms/step - loss: 1.0118 - accuracy: 0.4756 - val_loss: 1.0179 - val_accuracy: 0.4688\n",
            "Epoch 45/60\n",
            "2761/2763 [============================>.] - ETA: 0s - loss: 1.0111 - accuracy: 0.4766"
          ]
        },
        {
          "name": "stderr",
          "output_type": "stream",
          "text": [
            " 75%|███████▌  | 45/60 [45:15<14:56, 59.74s/epoch, loss=1.01, accuracy=0.477, val_loss=1.02, val_accuracy=0.467]"
          ]
        },
        {
          "name": "stdout",
          "output_type": "stream",
          "text": [
            "2763/2763 [==============================] - 60s 22ms/step - loss: 1.0111 - accuracy: 0.4766 - val_loss: 1.0207 - val_accuracy: 0.4671\n",
            "Epoch 46/60\n",
            "2761/2763 [============================>.] - ETA: 0s - loss: 1.0111 - accuracy: 0.4760"
          ]
        },
        {
          "name": "stderr",
          "output_type": "stream",
          "text": [
            " 77%|███████▋  | 46/60 [46:14<13:55, 59.71s/epoch, loss=1.01, accuracy=0.476, val_loss=1.02, val_accuracy=0.467]"
          ]
        },
        {
          "name": "stdout",
          "output_type": "stream",
          "text": [
            "2763/2763 [==============================] - 60s 22ms/step - loss: 1.0111 - accuracy: 0.4760 - val_loss: 1.0192 - val_accuracy: 0.4665\n",
            "Epoch 47/60\n",
            "2763/2763 [==============================] - ETA: 0s - loss: 1.0107 - accuracy: 0.4767"
          ]
        },
        {
          "name": "stderr",
          "output_type": "stream",
          "text": [
            " 78%|███████▊  | 47/60 [47:14<12:55, 59.69s/epoch, loss=1.01, accuracy=0.477, val_loss=1.02, val_accuracy=0.468]"
          ]
        },
        {
          "name": "stdout",
          "output_type": "stream",
          "text": [
            "2763/2763 [==============================] - 60s 22ms/step - loss: 1.0107 - accuracy: 0.4767 - val_loss: 1.0184 - val_accuracy: 0.4679\n",
            "Epoch 48/60\n",
            "2761/2763 [============================>.] - ETA: 0s - loss: 1.0107 - accuracy: 0.4768"
          ]
        },
        {
          "name": "stderr",
          "output_type": "stream",
          "text": [
            " 80%|████████  | 48/60 [48:14<11:55, 59.67s/epoch, loss=1.01, accuracy=0.477, val_loss=1.02, val_accuracy=0.467]"
          ]
        },
        {
          "name": "stdout",
          "output_type": "stream",
          "text": [
            "2763/2763 [==============================] - 60s 22ms/step - loss: 1.0107 - accuracy: 0.4767 - val_loss: 1.0203 - val_accuracy: 0.4671\n",
            "Epoch 49/60\n",
            "2761/2763 [============================>.] - ETA: 0s - loss: 1.0100 - accuracy: 0.4762"
          ]
        },
        {
          "name": "stderr",
          "output_type": "stream",
          "text": [
            " 82%|████████▏ | 49/60 [49:13<10:56, 59.66s/epoch, loss=1.01, accuracy=0.476, val_loss=1.02, val_accuracy=0.468]"
          ]
        },
        {
          "name": "stdout",
          "output_type": "stream",
          "text": [
            "2763/2763 [==============================] - 60s 22ms/step - loss: 1.0100 - accuracy: 0.4762 - val_loss: 1.0186 - val_accuracy: 0.4678\n",
            "Epoch 50/60\n",
            "2763/2763 [==============================] - ETA: 0s - loss: 1.0099 - accuracy: 0.4778"
          ]
        },
        {
          "name": "stderr",
          "output_type": "stream",
          "text": [
            " 83%|████████▎ | 50/60 [50:13<09:56, 59.68s/epoch, loss=1.01, accuracy=0.478, val_loss=1.02, val_accuracy=0.467]"
          ]
        },
        {
          "name": "stdout",
          "output_type": "stream",
          "text": [
            "2763/2763 [==============================] - 60s 22ms/step - loss: 1.0099 - accuracy: 0.4778 - val_loss: 1.0208 - val_accuracy: 0.4673\n",
            "Epoch 51/60\n",
            "2763/2763 [==============================] - ETA: 0s - loss: 1.0101 - accuracy: 0.4771"
          ]
        },
        {
          "name": "stderr",
          "output_type": "stream",
          "text": [
            " 85%|████████▌ | 51/60 [51:13<08:57, 59.70s/epoch, loss=1.01, accuracy=0.477, val_loss=1.02, val_accuracy=0.468]"
          ]
        },
        {
          "name": "stdout",
          "output_type": "stream",
          "text": [
            "2763/2763 [==============================] - 60s 22ms/step - loss: 1.0101 - accuracy: 0.4771 - val_loss: 1.0183 - val_accuracy: 0.4684\n",
            "Epoch 52/60\n",
            "2761/2763 [============================>.] - ETA: 0s - loss: 1.0101 - accuracy: 0.4770"
          ]
        },
        {
          "name": "stderr",
          "output_type": "stream",
          "text": [
            " 87%|████████▋ | 52/60 [52:12<07:57, 59.70s/epoch, loss=1.01, accuracy=0.477, val_loss=1.02, val_accuracy=0.469]"
          ]
        },
        {
          "name": "stdout",
          "output_type": "stream",
          "text": [
            "2763/2763 [==============================] - 60s 22ms/step - loss: 1.0101 - accuracy: 0.4770 - val_loss: 1.0198 - val_accuracy: 0.4686\n",
            "Epoch 53/60\n",
            "2762/2763 [============================>.] - ETA: 0s - loss: 1.0092 - accuracy: 0.4773"
          ]
        },
        {
          "name": "stderr",
          "output_type": "stream",
          "text": [
            " 88%|████████▊ | 53/60 [53:15<07:03, 60.45s/epoch, loss=1.01, accuracy=0.477, val_loss=1.02, val_accuracy=0.467]"
          ]
        },
        {
          "name": "stdout",
          "output_type": "stream",
          "text": [
            "2763/2763 [==============================] - 62s 23ms/step - loss: 1.0092 - accuracy: 0.4774 - val_loss: 1.0216 - val_accuracy: 0.4669\n",
            "Epoch 54/60\n",
            "2761/2763 [============================>.] - ETA: 0s - loss: 1.0092 - accuracy: 0.4778"
          ]
        },
        {
          "name": "stderr",
          "output_type": "stream",
          "text": [
            " 90%|█████████ | 54/60 [54:18<06:08, 61.36s/epoch, loss=1.01, accuracy=0.478, val_loss=1.02, val_accuracy=0.468]"
          ]
        },
        {
          "name": "stdout",
          "output_type": "stream",
          "text": [
            "2763/2763 [==============================] - 63s 23ms/step - loss: 1.0092 - accuracy: 0.4778 - val_loss: 1.0187 - val_accuracy: 0.4678\n",
            "Epoch 55/60\n",
            "2761/2763 [============================>.] - ETA: 0s - loss: 1.0092 - accuracy: 0.4778"
          ]
        },
        {
          "name": "stderr",
          "output_type": "stream",
          "text": [
            " 92%|█████████▏| 55/60 [55:21<05:09, 61.85s/epoch, loss=1.01, accuracy=0.478, val_loss=1.02, val_accuracy=0.467]"
          ]
        },
        {
          "name": "stdout",
          "output_type": "stream",
          "text": [
            "2763/2763 [==============================] - 63s 23ms/step - loss: 1.0092 - accuracy: 0.4778 - val_loss: 1.0209 - val_accuracy: 0.4670\n",
            "Epoch 56/60\n",
            "2763/2763 [==============================] - ETA: 0s - loss: 1.0090 - accuracy: 0.4772"
          ]
        },
        {
          "name": "stderr",
          "output_type": "stream",
          "text": [
            " 93%|█████████▎| 56/60 [56:24<04:09, 62.29s/epoch, loss=1.01, accuracy=0.477, val_loss=1.02, val_accuracy=0.468]"
          ]
        },
        {
          "name": "stdout",
          "output_type": "stream",
          "text": [
            "2763/2763 [==============================] - 63s 23ms/step - loss: 1.0090 - accuracy: 0.4772 - val_loss: 1.0183 - val_accuracy: 0.4677\n",
            "Epoch 57/60\n",
            "2762/2763 [============================>.] - ETA: 0s - loss: 1.0089 - accuracy: 0.4773"
          ]
        },
        {
          "name": "stderr",
          "output_type": "stream",
          "text": [
            " 95%|█████████▌| 57/60 [57:26<03:05, 61.94s/epoch, loss=1.01, accuracy=0.477, val_loss=1.02, val_accuracy=0.467]"
          ]
        },
        {
          "name": "stdout",
          "output_type": "stream",
          "text": [
            "2763/2763 [==============================] - 61s 22ms/step - loss: 1.0089 - accuracy: 0.4773 - val_loss: 1.0189 - val_accuracy: 0.4675\n",
            "Epoch 58/60\n",
            " 327/2763 [==>...........................] - ETA: 49s - loss: 1.0074 - accuracy: 0.4783"
          ]
        },
        {
          "ename": "KeyboardInterrupt",
          "evalue": "",
          "output_type": "error",
          "traceback": [
            "\u001b[1;31m---------------------------------------------------------------------------\u001b[0m",
            "\u001b[1;31mKeyboardInterrupt\u001b[0m                         Traceback (most recent call last)",
            "\u001b[1;32mc:\\Users\\Johannes\\Desktop\\PythonProjects\\QuantShit\\python-crypto-ai\\model2_pp2\\modelTrainPreClassified_pp2.ipynb Cell 36\u001b[0m line \u001b[0;36m8\n\u001b[0;32m     <a href='vscode-notebook-cell:/c%3A/Users/Johannes/Desktop/PythonProjects/QuantShit/python-crypto-ai/model2_pp2/modelTrainPreClassified_pp2.ipynb#X63sZmlsZQ%3D%3D?line=82'>83</a>\u001b[0m     json\u001b[39m.\u001b[39mdump(data, json_file, indent\u001b[39m=\u001b[39m\u001b[39m4\u001b[39m)\n\u001b[0;32m     <a href='vscode-notebook-cell:/c%3A/Users/Johannes/Desktop/PythonProjects/QuantShit/python-crypto-ai/model2_pp2/modelTrainPreClassified_pp2.ipynb#X63sZmlsZQ%3D%3D?line=87'>88</a>\u001b[0m \u001b[39m# train\u001b[39;00m\n\u001b[1;32m---> <a href='vscode-notebook-cell:/c%3A/Users/Johannes/Desktop/PythonProjects/QuantShit/python-crypto-ai/model2_pp2/modelTrainPreClassified_pp2.ipynb#X63sZmlsZQ%3D%3D?line=88'>89</a>\u001b[0m history \u001b[39m=\u001b[39m model\u001b[39m.\u001b[39;49mfit(\n\u001b[0;32m     <a href='vscode-notebook-cell:/c%3A/Users/Johannes/Desktop/PythonProjects/QuantShit/python-crypto-ai/model2_pp2/modelTrainPreClassified_pp2.ipynb#X63sZmlsZQ%3D%3D?line=89'>90</a>\u001b[0m   train_x, train_y,\n\u001b[0;32m     <a href='vscode-notebook-cell:/c%3A/Users/Johannes/Desktop/PythonProjects/QuantShit/python-crypto-ai/model2_pp2/modelTrainPreClassified_pp2.ipynb#X63sZmlsZQ%3D%3D?line=90'>91</a>\u001b[0m   batch_size \u001b[39m=\u001b[39;49m batchSize,\n\u001b[0;32m     <a href='vscode-notebook-cell:/c%3A/Users/Johannes/Desktop/PythonProjects/QuantShit/python-crypto-ai/model2_pp2/modelTrainPreClassified_pp2.ipynb#X63sZmlsZQ%3D%3D?line=91'>92</a>\u001b[0m   epochs \u001b[39m=\u001b[39;49m EPOCHS,\n\u001b[0;32m     <a href='vscode-notebook-cell:/c%3A/Users/Johannes/Desktop/PythonProjects/QuantShit/python-crypto-ai/model2_pp2/modelTrainPreClassified_pp2.ipynb#X63sZmlsZQ%3D%3D?line=92'>93</a>\u001b[0m   validation_data\u001b[39m=\u001b[39;49m(validation_x, validation_y),\n\u001b[0;32m     <a href='vscode-notebook-cell:/c%3A/Users/Johannes/Desktop/PythonProjects/QuantShit/python-crypto-ai/model2_pp2/modelTrainPreClassified_pp2.ipynb#X63sZmlsZQ%3D%3D?line=93'>94</a>\u001b[0m   callbacks\u001b[39m=\u001b[39;49m[checkpoint, TqdmCallback(verbose\u001b[39m=\u001b[39;49m\u001b[39m0\u001b[39;49m), tensorboard_callback])\n\u001b[0;32m     <a href='vscode-notebook-cell:/c%3A/Users/Johannes/Desktop/PythonProjects/QuantShit/python-crypto-ai/model2_pp2/modelTrainPreClassified_pp2.ipynb#X63sZmlsZQ%3D%3D?line=94'>95</a>\u001b[0m   \u001b[39m#callbacks=[checkpoint])\u001b[39;00m\n",
            "File \u001b[1;32mc:\\Users\\Johannes\\miniconda3\\envs\\Quant\\lib\\site-packages\\keras\\utils\\traceback_utils.py:65\u001b[0m, in \u001b[0;36mfilter_traceback.<locals>.error_handler\u001b[1;34m(*args, **kwargs)\u001b[0m\n\u001b[0;32m     63\u001b[0m filtered_tb \u001b[39m=\u001b[39m \u001b[39mNone\u001b[39;00m\n\u001b[0;32m     64\u001b[0m \u001b[39mtry\u001b[39;00m:\n\u001b[1;32m---> 65\u001b[0m     \u001b[39mreturn\u001b[39;00m fn(\u001b[39m*\u001b[39margs, \u001b[39m*\u001b[39m\u001b[39m*\u001b[39mkwargs)\n\u001b[0;32m     66\u001b[0m \u001b[39mexcept\u001b[39;00m \u001b[39mException\u001b[39;00m \u001b[39mas\u001b[39;00m e:\n\u001b[0;32m     67\u001b[0m     filtered_tb \u001b[39m=\u001b[39m _process_traceback_frames(e\u001b[39m.\u001b[39m__traceback__)\n",
            "File \u001b[1;32mc:\\Users\\Johannes\\miniconda3\\envs\\Quant\\lib\\site-packages\\keras\\engine\\training.py:1564\u001b[0m, in \u001b[0;36mModel.fit\u001b[1;34m(self, x, y, batch_size, epochs, verbose, callbacks, validation_split, validation_data, shuffle, class_weight, sample_weight, initial_epoch, steps_per_epoch, validation_steps, validation_batch_size, validation_freq, max_queue_size, workers, use_multiprocessing)\u001b[0m\n\u001b[0;32m   1556\u001b[0m \u001b[39mwith\u001b[39;00m tf\u001b[39m.\u001b[39mprofiler\u001b[39m.\u001b[39mexperimental\u001b[39m.\u001b[39mTrace(\n\u001b[0;32m   1557\u001b[0m     \u001b[39m\"\u001b[39m\u001b[39mtrain\u001b[39m\u001b[39m\"\u001b[39m,\n\u001b[0;32m   1558\u001b[0m     epoch_num\u001b[39m=\u001b[39mepoch,\n\u001b[1;32m   (...)\u001b[0m\n\u001b[0;32m   1561\u001b[0m     _r\u001b[39m=\u001b[39m\u001b[39m1\u001b[39m,\n\u001b[0;32m   1562\u001b[0m ):\n\u001b[0;32m   1563\u001b[0m     callbacks\u001b[39m.\u001b[39mon_train_batch_begin(step)\n\u001b[1;32m-> 1564\u001b[0m     tmp_logs \u001b[39m=\u001b[39m \u001b[39mself\u001b[39;49m\u001b[39m.\u001b[39;49mtrain_function(iterator)\n\u001b[0;32m   1565\u001b[0m     \u001b[39mif\u001b[39;00m data_handler\u001b[39m.\u001b[39mshould_sync:\n\u001b[0;32m   1566\u001b[0m         context\u001b[39m.\u001b[39masync_wait()\n",
            "File \u001b[1;32mc:\\Users\\Johannes\\miniconda3\\envs\\Quant\\lib\\site-packages\\tensorflow\\python\\util\\traceback_utils.py:150\u001b[0m, in \u001b[0;36mfilter_traceback.<locals>.error_handler\u001b[1;34m(*args, **kwargs)\u001b[0m\n\u001b[0;32m    148\u001b[0m filtered_tb \u001b[39m=\u001b[39m \u001b[39mNone\u001b[39;00m\n\u001b[0;32m    149\u001b[0m \u001b[39mtry\u001b[39;00m:\n\u001b[1;32m--> 150\u001b[0m   \u001b[39mreturn\u001b[39;00m fn(\u001b[39m*\u001b[39margs, \u001b[39m*\u001b[39m\u001b[39m*\u001b[39mkwargs)\n\u001b[0;32m    151\u001b[0m \u001b[39mexcept\u001b[39;00m \u001b[39mException\u001b[39;00m \u001b[39mas\u001b[39;00m e:\n\u001b[0;32m    152\u001b[0m   filtered_tb \u001b[39m=\u001b[39m _process_traceback_frames(e\u001b[39m.\u001b[39m__traceback__)\n",
            "File \u001b[1;32mc:\\Users\\Johannes\\miniconda3\\envs\\Quant\\lib\\site-packages\\tensorflow\\python\\eager\\def_function.py:915\u001b[0m, in \u001b[0;36mFunction.__call__\u001b[1;34m(self, *args, **kwds)\u001b[0m\n\u001b[0;32m    912\u001b[0m compiler \u001b[39m=\u001b[39m \u001b[39m\"\u001b[39m\u001b[39mxla\u001b[39m\u001b[39m\"\u001b[39m \u001b[39mif\u001b[39;00m \u001b[39mself\u001b[39m\u001b[39m.\u001b[39m_jit_compile \u001b[39melse\u001b[39;00m \u001b[39m\"\u001b[39m\u001b[39mnonXla\u001b[39m\u001b[39m\"\u001b[39m\n\u001b[0;32m    914\u001b[0m \u001b[39mwith\u001b[39;00m OptionalXlaContext(\u001b[39mself\u001b[39m\u001b[39m.\u001b[39m_jit_compile):\n\u001b[1;32m--> 915\u001b[0m   result \u001b[39m=\u001b[39m \u001b[39mself\u001b[39m\u001b[39m.\u001b[39m_call(\u001b[39m*\u001b[39margs, \u001b[39m*\u001b[39m\u001b[39m*\u001b[39mkwds)\n\u001b[0;32m    917\u001b[0m new_tracing_count \u001b[39m=\u001b[39m \u001b[39mself\u001b[39m\u001b[39m.\u001b[39mexperimental_get_tracing_count()\n\u001b[0;32m    918\u001b[0m without_tracing \u001b[39m=\u001b[39m (tracing_count \u001b[39m==\u001b[39m new_tracing_count)\n",
            "File \u001b[1;32mc:\\Users\\Johannes\\miniconda3\\envs\\Quant\\lib\\site-packages\\tensorflow\\python\\eager\\def_function.py:947\u001b[0m, in \u001b[0;36mFunction._call\u001b[1;34m(self, *args, **kwds)\u001b[0m\n\u001b[0;32m    944\u001b[0m   \u001b[39mself\u001b[39m\u001b[39m.\u001b[39m_lock\u001b[39m.\u001b[39mrelease()\n\u001b[0;32m    945\u001b[0m   \u001b[39m# In this case we have created variables on the first call, so we run the\u001b[39;00m\n\u001b[0;32m    946\u001b[0m   \u001b[39m# defunned version which is guaranteed to never create variables.\u001b[39;00m\n\u001b[1;32m--> 947\u001b[0m   \u001b[39mreturn\u001b[39;00m \u001b[39mself\u001b[39m\u001b[39m.\u001b[39m_stateless_fn(\u001b[39m*\u001b[39margs, \u001b[39m*\u001b[39m\u001b[39m*\u001b[39mkwds)  \u001b[39m# pylint: disable=not-callable\u001b[39;00m\n\u001b[0;32m    948\u001b[0m \u001b[39melif\u001b[39;00m \u001b[39mself\u001b[39m\u001b[39m.\u001b[39m_stateful_fn \u001b[39mis\u001b[39;00m \u001b[39mnot\u001b[39;00m \u001b[39mNone\u001b[39;00m:\n\u001b[0;32m    949\u001b[0m   \u001b[39m# Release the lock early so that multiple threads can perform the call\u001b[39;00m\n\u001b[0;32m    950\u001b[0m   \u001b[39m# in parallel.\u001b[39;00m\n\u001b[0;32m    951\u001b[0m   \u001b[39mself\u001b[39m\u001b[39m.\u001b[39m_lock\u001b[39m.\u001b[39mrelease()\n",
            "File \u001b[1;32mc:\\Users\\Johannes\\miniconda3\\envs\\Quant\\lib\\site-packages\\tensorflow\\python\\eager\\function.py:2496\u001b[0m, in \u001b[0;36mFunction.__call__\u001b[1;34m(self, *args, **kwargs)\u001b[0m\n\u001b[0;32m   2493\u001b[0m \u001b[39mwith\u001b[39;00m \u001b[39mself\u001b[39m\u001b[39m.\u001b[39m_lock:\n\u001b[0;32m   2494\u001b[0m   (graph_function,\n\u001b[0;32m   2495\u001b[0m    filtered_flat_args) \u001b[39m=\u001b[39m \u001b[39mself\u001b[39m\u001b[39m.\u001b[39m_maybe_define_function(args, kwargs)\n\u001b[1;32m-> 2496\u001b[0m \u001b[39mreturn\u001b[39;00m graph_function\u001b[39m.\u001b[39;49m_call_flat(\n\u001b[0;32m   2497\u001b[0m     filtered_flat_args, captured_inputs\u001b[39m=\u001b[39;49mgraph_function\u001b[39m.\u001b[39;49mcaptured_inputs)\n",
            "File \u001b[1;32mc:\\Users\\Johannes\\miniconda3\\envs\\Quant\\lib\\site-packages\\tensorflow\\python\\eager\\function.py:1862\u001b[0m, in \u001b[0;36mConcreteFunction._call_flat\u001b[1;34m(self, args, captured_inputs, cancellation_manager)\u001b[0m\n\u001b[0;32m   1858\u001b[0m possible_gradient_type \u001b[39m=\u001b[39m gradients_util\u001b[39m.\u001b[39mPossibleTapeGradientTypes(args)\n\u001b[0;32m   1859\u001b[0m \u001b[39mif\u001b[39;00m (possible_gradient_type \u001b[39m==\u001b[39m gradients_util\u001b[39m.\u001b[39mPOSSIBLE_GRADIENT_TYPES_NONE\n\u001b[0;32m   1860\u001b[0m     \u001b[39mand\u001b[39;00m executing_eagerly):\n\u001b[0;32m   1861\u001b[0m   \u001b[39m# No tape is watching; skip to running the function.\u001b[39;00m\n\u001b[1;32m-> 1862\u001b[0m   \u001b[39mreturn\u001b[39;00m \u001b[39mself\u001b[39m\u001b[39m.\u001b[39m_build_call_outputs(\u001b[39mself\u001b[39;49m\u001b[39m.\u001b[39;49m_inference_function\u001b[39m.\u001b[39;49mcall(\n\u001b[0;32m   1863\u001b[0m       ctx, args, cancellation_manager\u001b[39m=\u001b[39;49mcancellation_manager))\n\u001b[0;32m   1864\u001b[0m forward_backward \u001b[39m=\u001b[39m \u001b[39mself\u001b[39m\u001b[39m.\u001b[39m_select_forward_and_backward_functions(\n\u001b[0;32m   1865\u001b[0m     args,\n\u001b[0;32m   1866\u001b[0m     possible_gradient_type,\n\u001b[0;32m   1867\u001b[0m     executing_eagerly)\n\u001b[0;32m   1868\u001b[0m forward_function, args_with_tangents \u001b[39m=\u001b[39m forward_backward\u001b[39m.\u001b[39mforward()\n",
            "File \u001b[1;32mc:\\Users\\Johannes\\miniconda3\\envs\\Quant\\lib\\site-packages\\tensorflow\\python\\eager\\function.py:499\u001b[0m, in \u001b[0;36m_EagerDefinedFunction.call\u001b[1;34m(self, ctx, args, cancellation_manager)\u001b[0m\n\u001b[0;32m    497\u001b[0m \u001b[39mwith\u001b[39;00m _InterpolateFunctionError(\u001b[39mself\u001b[39m):\n\u001b[0;32m    498\u001b[0m   \u001b[39mif\u001b[39;00m cancellation_manager \u001b[39mis\u001b[39;00m \u001b[39mNone\u001b[39;00m:\n\u001b[1;32m--> 499\u001b[0m     outputs \u001b[39m=\u001b[39m execute\u001b[39m.\u001b[39;49mexecute(\n\u001b[0;32m    500\u001b[0m         \u001b[39mstr\u001b[39;49m(\u001b[39mself\u001b[39;49m\u001b[39m.\u001b[39;49msignature\u001b[39m.\u001b[39;49mname),\n\u001b[0;32m    501\u001b[0m         num_outputs\u001b[39m=\u001b[39;49m\u001b[39mself\u001b[39;49m\u001b[39m.\u001b[39;49m_num_outputs,\n\u001b[0;32m    502\u001b[0m         inputs\u001b[39m=\u001b[39;49margs,\n\u001b[0;32m    503\u001b[0m         attrs\u001b[39m=\u001b[39;49mattrs,\n\u001b[0;32m    504\u001b[0m         ctx\u001b[39m=\u001b[39;49mctx)\n\u001b[0;32m    505\u001b[0m   \u001b[39melse\u001b[39;00m:\n\u001b[0;32m    506\u001b[0m     outputs \u001b[39m=\u001b[39m execute\u001b[39m.\u001b[39mexecute_with_cancellation(\n\u001b[0;32m    507\u001b[0m         \u001b[39mstr\u001b[39m(\u001b[39mself\u001b[39m\u001b[39m.\u001b[39msignature\u001b[39m.\u001b[39mname),\n\u001b[0;32m    508\u001b[0m         num_outputs\u001b[39m=\u001b[39m\u001b[39mself\u001b[39m\u001b[39m.\u001b[39m_num_outputs,\n\u001b[1;32m   (...)\u001b[0m\n\u001b[0;32m    511\u001b[0m         ctx\u001b[39m=\u001b[39mctx,\n\u001b[0;32m    512\u001b[0m         cancellation_manager\u001b[39m=\u001b[39mcancellation_manager)\n",
            "File \u001b[1;32mc:\\Users\\Johannes\\miniconda3\\envs\\Quant\\lib\\site-packages\\tensorflow\\python\\eager\\execute.py:54\u001b[0m, in \u001b[0;36mquick_execute\u001b[1;34m(op_name, num_outputs, inputs, attrs, ctx, name)\u001b[0m\n\u001b[0;32m     52\u001b[0m \u001b[39mtry\u001b[39;00m:\n\u001b[0;32m     53\u001b[0m   ctx\u001b[39m.\u001b[39mensure_initialized()\n\u001b[1;32m---> 54\u001b[0m   tensors \u001b[39m=\u001b[39m pywrap_tfe\u001b[39m.\u001b[39;49mTFE_Py_Execute(ctx\u001b[39m.\u001b[39;49m_handle, device_name, op_name,\n\u001b[0;32m     55\u001b[0m                                       inputs, attrs, num_outputs)\n\u001b[0;32m     56\u001b[0m \u001b[39mexcept\u001b[39;00m core\u001b[39m.\u001b[39m_NotOkStatusException \u001b[39mas\u001b[39;00m e:\n\u001b[0;32m     57\u001b[0m   \u001b[39mif\u001b[39;00m name \u001b[39mis\u001b[39;00m \u001b[39mnot\u001b[39;00m \u001b[39mNone\u001b[39;00m:\n",
            "\u001b[1;31mKeyboardInterrupt\u001b[0m: "
          ]
        }
      ],
      "source": [
        "import tensorflow as tf\n",
        "from tensorflow.keras.models import Sequential\n",
        "from tensorflow.keras.layers import Dense, Dropout, LSTM, BatchNormalization\n",
        "from tensorflow.keras.callbacks import ModelCheckpoint, TensorBoard\n",
        "import os\n",
        "from tqdm.keras import TqdmCallback\n",
        "import datetime\n",
        "from tensorflow.keras.layers import Bidirectional\n",
        "from tensorflow.keras import regularizers\n",
        "import json\n",
        "# model\n",
        "model = Sequential()\n",
        "\n",
        "for _ in range(layers-1):\n",
        "  model.add(LSTM(nodes, \n",
        "               activation=\"tanh\", \n",
        "               recurrent_activation = 'sigmoid', \n",
        "               recurrent_dropout = rec_dropout, \n",
        "               unroll = False, \n",
        "               use_bias = True, \n",
        "               input_shape=(train_x.shape[1:]), \n",
        "               return_sequences=True,\n",
        "               kernel_regularizer=regularizers.l1_l2(l1=l1l2_reg/10, l2=l1l2_reg),\n",
        "               #bias_regularizer=regularizers.l2(l1l2_reg),\n",
        "               activity_regularizer=regularizers.l2(l1l2_reg)\n",
        "               ))\n",
        "  model.add(Dropout(dropOut))\n",
        "  #model.add(BatchNormalization())\n",
        "\n",
        "model.add(LSTM(nodes, \n",
        "             activation=\"tanh\", \n",
        "             recurrent_activation = 'sigmoid', \n",
        "             recurrent_dropout = rec_dropout, \n",
        "             unroll = False, \n",
        "             use_bias = True, \n",
        "             input_shape=(train_x.shape[1:]),\n",
        "             kernel_regularizer=regularizers.l1_l2(l1=l1l2_reg/10, l2=l1l2_reg),\n",
        "             #bias_regularizer=regularizers.l2(l1l2_reg),\n",
        "             activity_regularizer=regularizers.l2(l1l2_reg)\n",
        "             ))\n",
        "model.add(Dropout(dropOut))\n",
        "#model.add(BatchNormalization())\n",
        "\n",
        "model.add(Dense(denseNodes, \n",
        "                activation=\"relu\",\n",
        "                kernel_regularizer=regularizers.l1_l2(l1=l1l2_reg/10, l2=l1l2_reg),\n",
        "                #bias_regularizer=regularizers.l2(l1l2_reg), \n",
        "                activity_regularizer=regularizers.l2(l1l2_reg)))\n",
        "model.add(Dropout(dropOut))\n",
        "\n",
        "model.add(Dense(3, activation=\"softmax\"))\n",
        "\n",
        "\n",
        "\n",
        "# opt  \n",
        "opt = tf.keras.optimizers.Adam(lr=learningRate) # decay?\n",
        "\n",
        "\n",
        "model.compile(loss=\"sparse_categorical_crossentropy\",\n",
        "              optimizer = opt,\n",
        "              metrics=[\"accuracy\"])\n",
        "\n",
        "\n",
        "filename = \"\" + NAME + \"-{epoch:02d}\"\n",
        "filepath = f\"models/{filename}.h5\"\n",
        "checkpoint = ModelCheckpoint(filepath, monitor='val_loss', verbose=0, save_best_only=False, save_weights_only=False, mode='auto', period=1) # saves every epoch\n",
        "\n",
        "# Prepare TensorBoard callback\n",
        "log_dir = \"../logs/fit/\" + f\"{NAME}\" + datetime.datetime.now().strftime(\"%Y%m%d-%H%M%S\")\n",
        "tensorboard_callback = TensorBoard(log_dir=log_dir, histogram_freq=1)\n",
        "\n",
        "\n",
        "# store hyper-parameters\n",
        "# Path to the JSON file\n",
        "file_path = \"models/hps/hps.json\"\n",
        "# Load the JSON file into a dictionary\n",
        "with open(file_path, \"r\") as json_file:\n",
        "    data = json.load(json_file)\n",
        "# Add a new key-value pair to the dictionary\n",
        "data[f\"{NAME}\" + datetime.datetime.now().strftime(\"%Y%m%d-%H%M%S\")] = hp_suffix\n",
        "# Write the updated dictionary back to the file\n",
        "with open(file_path, \"w\") as json_file:\n",
        "    json.dump(data, json_file, indent=4)\n",
        "\n",
        "\n",
        "\n",
        "\n",
        "# train\n",
        "history = model.fit(\n",
        "  train_x, train_y,\n",
        "  batch_size = batchSize,\n",
        "  epochs = EPOCHS,\n",
        "  validation_data=(validation_x, validation_y),\n",
        "  callbacks=[checkpoint, TqdmCallback(verbose=0), tensorboard_callback])\n",
        "  #callbacks=[checkpoint])"
      ]
    }
  ],
  "metadata": {
    "accelerator": "GPU",
    "colab": {
      "collapsed_sections": [],
      "machine_shape": "hm",
      "name": "modelTrainPreClassified.ipynb",
      "provenance": []
    },
    "kernelspec": {
      "display_name": "Python 3",
      "name": "python3"
    },
    "language_info": {
      "codemirror_mode": {
        "name": "ipython",
        "version": 3
      },
      "file_extension": ".py",
      "mimetype": "text/x-python",
      "name": "python",
      "nbconvert_exporter": "python",
      "pygments_lexer": "ipython3",
      "version": "3.10.12"
    }
  },
  "nbformat": 4,
  "nbformat_minor": 0
}
