{
  "cells": [
    {
      "attachments": {},
      "cell_type": "markdown",
      "metadata": {
        "id": "M7KYj8EtoPxZ"
      },
      "source": [
        "# Constants:"
      ]
    },
    {
      "cell_type": "code",
      "execution_count": 1,
      "metadata": {
        "id": "ZsusFSopoVfn"
      },
      "outputs": [],
      "source": [
        "SEQ_LEN = 240   # how many past candles to use to predict\n",
        "CANDLES_SHIFT = 5 # how many candles to shift between sequences\n",
        "NAME = \"shift5_seq240_ov40th004\"\n",
        "VALIDATION_PCT = 0.2"
      ]
    },
    {
      "attachments": {},
      "cell_type": "markdown",
      "metadata": {
        "id": "Zspc4aD1juaP"
      },
      "source": [
        "DF initialisation:"
      ]
    },
    {
      "cell_type": "code",
      "execution_count": 4,
      "metadata": {
        "colab": {
          "base_uri": "https://localhost:8080/",
          "height": 402
        },
        "id": "KfSNaRUgirE3",
        "outputId": "e9f3c791-099e-496a-9b0d-7aa70dfe4a48"
      },
      "outputs": [
        {
          "data": {
            "text/html": [
              "<div>\n",
              "<style scoped>\n",
              "    .dataframe tbody tr th:only-of-type {\n",
              "        vertical-align: middle;\n",
              "    }\n",
              "\n",
              "    .dataframe tbody tr th {\n",
              "        vertical-align: top;\n",
              "    }\n",
              "\n",
              "    .dataframe thead th {\n",
              "        text-align: right;\n",
              "    }\n",
              "</style>\n",
              "<table border=\"1\" class=\"dataframe\">\n",
              "  <thead>\n",
              "    <tr style=\"text-align: right;\">\n",
              "      <th></th>\n",
              "      <th>timestamp</th>\n",
              "      <th>BTC_close</th>\n",
              "      <th>BTC_low</th>\n",
              "      <th>BTC_high</th>\n",
              "      <th>BTC_volume</th>\n",
              "      <th>BTC_average</th>\n",
              "      <th>BTC_HLPercent</th>\n",
              "      <th>target</th>\n",
              "    </tr>\n",
              "  </thead>\n",
              "  <tbody>\n",
              "    <tr>\n",
              "      <th>0</th>\n",
              "      <td>1.467332e+09</td>\n",
              "      <td>667.00</td>\n",
              "      <td>667.00</td>\n",
              "      <td>671.00</td>\n",
              "      <td>2764.20</td>\n",
              "      <td>668.04</td>\n",
              "      <td>0.005961</td>\n",
              "      <td>2</td>\n",
              "    </tr>\n",
              "    <tr>\n",
              "      <th>1</th>\n",
              "      <td>1.467332e+09</td>\n",
              "      <td>670.10</td>\n",
              "      <td>670.10</td>\n",
              "      <td>671.99</td>\n",
              "      <td>8873.00</td>\n",
              "      <td>671.99</td>\n",
              "      <td>0.002813</td>\n",
              "      <td>2</td>\n",
              "    </tr>\n",
              "    <tr>\n",
              "      <th>2</th>\n",
              "      <td>1.467332e+09</td>\n",
              "      <td>667.00</td>\n",
              "      <td>667.00</td>\n",
              "      <td>672.00</td>\n",
              "      <td>204.46</td>\n",
              "      <td>671.90</td>\n",
              "      <td>0.007440</td>\n",
              "      <td>2</td>\n",
              "    </tr>\n",
              "    <tr>\n",
              "      <th>3</th>\n",
              "      <td>1.467332e+09</td>\n",
              "      <td>667.00</td>\n",
              "      <td>667.00</td>\n",
              "      <td>672.00</td>\n",
              "      <td>0.00</td>\n",
              "      <td>671.90</td>\n",
              "      <td>0.007440</td>\n",
              "      <td>2</td>\n",
              "    </tr>\n",
              "    <tr>\n",
              "      <th>4</th>\n",
              "      <td>1.467333e+09</td>\n",
              "      <td>667.00</td>\n",
              "      <td>667.00</td>\n",
              "      <td>672.00</td>\n",
              "      <td>0.00</td>\n",
              "      <td>671.90</td>\n",
              "      <td>0.007440</td>\n",
              "      <td>2</td>\n",
              "    </tr>\n",
              "    <tr>\n",
              "      <th>...</th>\n",
              "      <td>...</td>\n",
              "      <td>...</td>\n",
              "      <td>...</td>\n",
              "      <td>...</td>\n",
              "      <td>...</td>\n",
              "      <td>...</td>\n",
              "      <td>...</td>\n",
              "      <td>...</td>\n",
              "    </tr>\n",
              "    <tr>\n",
              "      <th>710115</th>\n",
              "      <td>1.680366e+09</td>\n",
              "      <td>28423.92</td>\n",
              "      <td>28416.67</td>\n",
              "      <td>28440.89</td>\n",
              "      <td>4032.00</td>\n",
              "      <td>28424.22</td>\n",
              "      <td>0.000852</td>\n",
              "      <td>0</td>\n",
              "    </tr>\n",
              "    <tr>\n",
              "      <th>710116</th>\n",
              "      <td>1.680366e+09</td>\n",
              "      <td>28402.64</td>\n",
              "      <td>28401.90</td>\n",
              "      <td>28426.65</td>\n",
              "      <td>1226.36</td>\n",
              "      <td>28409.15</td>\n",
              "      <td>0.000871</td>\n",
              "      <td>0</td>\n",
              "    </tr>\n",
              "    <tr>\n",
              "      <th>710117</th>\n",
              "      <td>1.680366e+09</td>\n",
              "      <td>28418.48</td>\n",
              "      <td>28403.11</td>\n",
              "      <td>28418.48</td>\n",
              "      <td>4559.18</td>\n",
              "      <td>28406.68</td>\n",
              "      <td>0.000541</td>\n",
              "      <td>0</td>\n",
              "    </tr>\n",
              "    <tr>\n",
              "      <th>710118</th>\n",
              "      <td>1.680367e+09</td>\n",
              "      <td>28412.62</td>\n",
              "      <td>28407.49</td>\n",
              "      <td>28422.84</td>\n",
              "      <td>388.83</td>\n",
              "      <td>28413.01</td>\n",
              "      <td>0.000540</td>\n",
              "      <td>0</td>\n",
              "    </tr>\n",
              "    <tr>\n",
              "      <th>710119</th>\n",
              "      <td>1.680367e+09</td>\n",
              "      <td>28422.07</td>\n",
              "      <td>28384.76</td>\n",
              "      <td>28422.09</td>\n",
              "      <td>306.02</td>\n",
              "      <td>28407.02</td>\n",
              "      <td>0.001313</td>\n",
              "      <td>0</td>\n",
              "    </tr>\n",
              "  </tbody>\n",
              "</table>\n",
              "<p>710120 rows × 8 columns</p>\n",
              "</div>"
            ],
            "text/plain": [
              "           timestamp  BTC_close   BTC_low  BTC_high  BTC_volume  BTC_average  \\\n",
              "0       1.467332e+09     667.00    667.00    671.00     2764.20       668.04   \n",
              "1       1.467332e+09     670.10    670.10    671.99     8873.00       671.99   \n",
              "2       1.467332e+09     667.00    667.00    672.00      204.46       671.90   \n",
              "3       1.467332e+09     667.00    667.00    672.00        0.00       671.90   \n",
              "4       1.467333e+09     667.00    667.00    672.00        0.00       671.90   \n",
              "...              ...        ...       ...       ...         ...          ...   \n",
              "710115  1.680366e+09   28423.92  28416.67  28440.89     4032.00     28424.22   \n",
              "710116  1.680366e+09   28402.64  28401.90  28426.65     1226.36     28409.15   \n",
              "710117  1.680366e+09   28418.48  28403.11  28418.48     4559.18     28406.68   \n",
              "710118  1.680367e+09   28412.62  28407.49  28422.84      388.83     28413.01   \n",
              "710119  1.680367e+09   28422.07  28384.76  28422.09      306.02     28407.02   \n",
              "\n",
              "        BTC_HLPercent  target  \n",
              "0            0.005961       2  \n",
              "1            0.002813       2  \n",
              "2            0.007440       2  \n",
              "3            0.007440       2  \n",
              "4            0.007440       2  \n",
              "...               ...     ...  \n",
              "710115       0.000852       0  \n",
              "710116       0.000871       0  \n",
              "710117       0.000541       0  \n",
              "710118       0.000540       0  \n",
              "710119       0.001313       0  \n",
              "\n",
              "[710120 rows x 8 columns]"
            ]
          },
          "execution_count": 4,
          "metadata": {},
          "output_type": "execute_result"
        }
      ],
      "source": [
        "import pandas as pd\n",
        "main_df = pd.read_csv(\"data/classified/HistoricalDataClassified_2016_2023_300_ov40_th004.csv\")\n",
        "main_df"
      ]
    },
    {
      "attachments": {},
      "cell_type": "markdown",
      "metadata": {
        "id": "oSqPTNz-m5fo"
      },
      "source": [
        "# Functions:"
      ]
    },
    {
      "attachments": {},
      "cell_type": "markdown",
      "metadata": {
        "id": "1V8NN17CqWGA"
      },
      "source": [
        "sequence split"
      ]
    },
    {
      "cell_type": "code",
      "execution_count": 5,
      "metadata": {
        "id": "aAoFhaP8qX7P"
      },
      "outputs": [],
      "source": [
        "def splitDf(df):\n",
        "    \n",
        "    res = []\n",
        "    print(\"\")\n",
        "    print(\"splitDf\")\n",
        "    while len(df) >= SEQ_LEN + len(df.columns) -1:\n",
        "        first = df.head(SEQ_LEN + len(df.columns) -1).copy()\n",
        "        first.index = np.arange(0, len(first))\n",
        "        res.append(first)\n",
        "        df = df.tail(len(df) - CANDLES_SHIFT)\n",
        "        df.index = np.arange(0, len(df))\n",
        "\n",
        "    print(\"-done\")\n",
        "    print(\"\")\n",
        "    return res"
      ]
    },
    {
      "cell_type": "code",
      "execution_count": 6,
      "metadata": {},
      "outputs": [],
      "source": [
        "def splitDf_new(df):\n",
        "    \n",
        "    res = []\n",
        "    print(\"\")\n",
        "    print(\"splitDf\")\n",
        "    while len(df) >= SEQ_LEN:\n",
        "        first = df.head(SEQ_LEN).copy()\n",
        "        first.index = np.arange(0, len(first))\n",
        "        res.append(first)\n",
        "        df = df.tail(len(df) - CANDLES_SHIFT)\n",
        "        df.index = np.arange(0, len(df))\n",
        "\n",
        "    print(\"-done\")\n",
        "    print(\"\")\n",
        "    return res"
      ]
    },
    {
      "attachments": {},
      "cell_type": "markdown",
      "metadata": {
        "id": "v84s4MzlrJex"
      },
      "source": [
        "balance"
      ]
    },
    {
      "cell_type": "code",
      "execution_count": 7,
      "metadata": {
        "id": "Hddt3uD8rLYE"
      },
      "outputs": [],
      "source": [
        "def balance(dfs):\n",
        "    \n",
        "    buys = []\n",
        "    sells = []\n",
        "    holds = []\n",
        "    for df in dfs:\n",
        "        if df.at[len(df)-1, 'target'] == 0:\n",
        "            sells.append(df)\n",
        "        elif df.at[len(df)-1, 'target'] == 1:\n",
        "            buys.append(df)\n",
        "        else:\n",
        "          holds.append(df)\n",
        "\n",
        "    print(\"before balancing:\")\n",
        "    print(\"buys:\", len(buys), \", sells:\", len(sells), \", holds:\", len(holds))\n",
        "\n",
        "    smallest = min(len(buys), len(sells), len(holds))\n",
        "    buys = buys[:smallest]\n",
        "    sells = sells[:smallest]\n",
        "    holds = holds[:smallest]\n",
        "\n",
        "    dfsBalanced = buys+sells+holds\n",
        "    return dfsBalanced"
      ]
    },
    {
      "attachments": {},
      "cell_type": "markdown",
      "metadata": {
        "id": "puLrLHQCr2IF"
      },
      "source": [
        "preprocessing"
      ]
    },
    {
      "cell_type": "code",
      "execution_count": 8,
      "metadata": {
        "id": "HkiAmxApr4HE"
      },
      "outputs": [],
      "source": [
        "from sklearn import preprocessing\n",
        "from tqdm import tqdm\n",
        "\n",
        "def preprocess(dfs):\n",
        "    \n",
        "    for df in dfs:\n",
        "        for col in df.columns:\n",
        "            if col != \"target\":\n",
        "                df[col] = df[col].pct_change()\n",
        "                df.dropna(inplace=True)\n",
        "                df[col] = preprocessing.scale(df[col].values)\n",
        "                df.index = np.arange(0, len(df))\n",
        "\n",
        "    return dfs"
      ]
    },
    {
      "cell_type": "code",
      "execution_count": 9,
      "metadata": {},
      "outputs": [],
      "source": [
        "import numpy as np\n",
        "\n",
        "def new_preprocess(df):\n",
        "\n",
        "    for col in [\"BTC_close\", \"BTC_low\", \"BTC_high\", \"BTC_average\"]:\n",
        "        #print(col)\n",
        "        df[col] = np.log(df[col])\n",
        "        df[col] = df[col].pct_change()\n",
        "        df.dropna(inplace=True)\n",
        "        #mean = np.mean(df[col])\n",
        "        mean = 0.00000068\n",
        "        #std = np.std(df[col])\n",
        "        std = 0.00028\n",
        "        #print(\"mean:\", mean, \", std:\", std)\n",
        "        df[col] = (df[col] - mean) / std\n",
        "    \n",
        "    \n",
        "    df[\"BTC_volume\"] = df[\"BTC_volume\"].replace(0, 1)\n",
        "    df[\"BTC_volume\"] = np.log(df[\"BTC_volume\"])\n",
        "    #df[\"BTC_volume\"] = df[\"BTC_volume\"].pct_change()   # taking the pct change somehow makes it worse\n",
        "    #df.dropna(inplace=True)                            # taking the pct change somehow makes it worse\n",
        "    #mean = np.mean(df[\"BTC_volume\"])\n",
        "    mean = 9.3\n",
        "    #std = np.std(df[\"BTC_volume\"])\n",
        "    std = 2.82\n",
        "    #print(\"mean:\", mean, \", std:\", std)\n",
        "    df[\"BTC_volume\"] = (df[\"BTC_volume\"] - mean) / std\n",
        "\n",
        "\n",
        "    #mean = np.mean(df[\"BTC_HLPercent\"])\n",
        "    mean = 0.0027\n",
        "    #std = np.std(df[\"BTC_HLPercent\"])\n",
        "    std = 0.0032\n",
        "    #print(\"mean:\", mean, \", std:\", std)\n",
        "    df[\"BTC_HLPercent\"] = (df[\"BTC_HLPercent\"] - mean) / std\n",
        "\n",
        "\n",
        "    return df"
      ]
    },
    {
      "attachments": {},
      "cell_type": "markdown",
      "metadata": {
        "id": "Mtk_1EDotEdd"
      },
      "source": [
        "sequences"
      ]
    },
    {
      "cell_type": "code",
      "execution_count": 10,
      "metadata": {
        "id": "U4r2br77tGf-"
      },
      "outputs": [],
      "source": [
        "def buildSequences(dfs):\n",
        "    \n",
        "    sequences = []\n",
        "    for df in dfs:\n",
        "        if(len(df) == SEQ_LEN):\n",
        "            label = df.at[SEQ_LEN-1, 'target']\n",
        "            df = df.iloc[:, :-1]\n",
        "            dfArray = df.values.tolist()\n",
        "            sequences.append([np.array(dfArray), label])\n",
        "    \n",
        "    return sequences"
      ]
    },
    {
      "attachments": {},
      "cell_type": "markdown",
      "metadata": {
        "id": "Dd640LH1tix2"
      },
      "source": [
        "X y split"
      ]
    },
    {
      "cell_type": "code",
      "execution_count": 11,
      "metadata": {
        "id": "4-HIbtKAtj-0"
      },
      "outputs": [],
      "source": [
        "def split(seqWithTarget):\n",
        "\n",
        "    X = []\n",
        "    y = []\n",
        "    for seq, target in seqWithTarget:\n",
        "        X.append(seq)\n",
        "        y.append(target)\n",
        "\n",
        "    return np.array(X),np.array(y)"
      ]
    },
    {
      "attachments": {},
      "cell_type": "markdown",
      "metadata": {
        "id": "bBfc_4lKnYpv"
      },
      "source": [
        "# DF manipulation, build training sets:"
      ]
    },
    {
      "cell_type": "code",
      "execution_count": 12,
      "metadata": {},
      "outputs": [
        {
          "name": "stdout",
          "output_type": "stream",
          "text": [
            "        BTC_close   BTC_low  BTC_high  BTC_volume  BTC_average  BTC_HLPercent  \\\n",
            "4       -0.002429 -0.002429 -0.002429   -3.297872    -0.002429       1.481399   \n",
            "5       -0.002429 -0.002429 -0.002429   -3.297872    -0.002429       1.481399   \n",
            "6        0.376210  0.252769 -1.637556   -0.842769    -2.596816       0.410914   \n",
            "7        2.083405  2.206908  0.816119   -0.129185     1.235813      -0.378027   \n",
            "8        0.816119 -0.084351 -0.002429   -0.864965    -0.084317      -0.331455   \n",
            "...           ...       ...       ...         ...          ...            ...   \n",
            "710115  -0.205381  0.253832  0.002469   -0.353894     0.335073      -0.577628   \n",
            "710116  -0.263258 -0.183495 -0.176833   -0.775955    -0.187120      -0.571668   \n",
            "710117   0.191756  0.012409 -0.102535   -0.310320    -0.032711      -0.674736   \n",
            "710118  -0.074250  0.051276  0.050999   -1.183283     0.075172      -0.674982   \n",
            "710119   0.113388 -0.281215 -0.011618   -1.268209    -0.075859      -0.433308   \n",
            "\n",
            "        target  \n",
            "4            2  \n",
            "5            2  \n",
            "6            2  \n",
            "7            2  \n",
            "8            2  \n",
            "...        ...  \n",
            "710115       0  \n",
            "710116       0  \n",
            "710117       0  \n",
            "710118       0  \n",
            "710119       0  \n",
            "\n",
            "[710116 rows x 7 columns]\n"
          ]
        }
      ],
      "source": [
        "# new preprocessing before splitting\n",
        "\n",
        "df_preprocessed = new_preprocess(main_df)\n",
        "df_preprocessed.drop([\"timestamp\"], axis=1, inplace=True)\n",
        "print(df_preprocessed)"
      ]
    },
    {
      "attachments": {},
      "cell_type": "markdown",
      "metadata": {
        "id": "9h5xSZxbqNsz"
      },
      "source": [
        "split into dfs with SEQ_LEN rows"
      ]
    },
    {
      "cell_type": "code",
      "execution_count": 13,
      "metadata": {
        "colab": {
          "base_uri": "https://localhost:8080/"
        },
        "id": "31jTXjddn04r",
        "outputId": "125ce716-fa5f-4839-fabe-15765768da3e"
      },
      "outputs": [
        {
          "name": "stdout",
          "output_type": "stream",
          "text": [
            "\n",
            "splitDf\n",
            "-done\n",
            "\n"
          ]
        }
      ],
      "source": [
        "import numpy as np\n",
        "#splittedDfs = splitDf(main_df)\n",
        "splittedDfs = splitDf_new(main_df)"
      ]
    },
    {
      "cell_type": "code",
      "execution_count": 14,
      "metadata": {},
      "outputs": [
        {
          "name": "stdout",
          "output_type": "stream",
          "text": [
            "num sequences: 141976\n"
          ]
        }
      ],
      "source": [
        "print(\"num sequences:\", len(splittedDfs))"
      ]
    },
    {
      "attachments": {},
      "cell_type": "markdown",
      "metadata": {
        "id": "CdP3PNKHquOk"
      },
      "source": [
        "seperate training and validation"
      ]
    },
    {
      "cell_type": "code",
      "execution_count": 15,
      "metadata": {
        "id": "NlwWOLZVqudy"
      },
      "outputs": [],
      "source": [
        "dfsTraining = splittedDfs[:(int(len(splittedDfs) * (1-VALIDATION_PCT)))].copy()\n",
        "dfsValidation = splittedDfs[(int(len(splittedDfs) * (1-VALIDATION_PCT))):].copy()"
      ]
    },
    {
      "attachments": {},
      "cell_type": "markdown",
      "metadata": {
        "id": "CU3bhQJtq1ft"
      },
      "source": [
        "shuffle"
      ]
    },
    {
      "cell_type": "code",
      "execution_count": 16,
      "metadata": {
        "id": "rhEBABokq1-I"
      },
      "outputs": [],
      "source": [
        "import random\n",
        "\n",
        "random.shuffle(dfsTraining)\n",
        "random.shuffle(dfsValidation)"
      ]
    },
    {
      "attachments": {},
      "cell_type": "markdown",
      "metadata": {
        "id": "Lo4KSJOxrAN0"
      },
      "source": [
        "balance buys/sells/holds"
      ]
    },
    {
      "cell_type": "code",
      "execution_count": 17,
      "metadata": {
        "colab": {
          "base_uri": "https://localhost:8080/"
        },
        "id": "GM9MzjVkq2i6",
        "outputId": "0923e1ea-7878-416b-f773-04e1ccdd4df1"
      },
      "outputs": [
        {
          "name": "stdout",
          "output_type": "stream",
          "text": [
            "before balancing:\n",
            "buys: 14012 , sells: 13158 , holds: 86410\n",
            "before balancing:\n",
            "buys: 2587 , sells: 2674 , holds: 23135\n"
          ]
        }
      ],
      "source": [
        "dfsTrainingBalanced = balance(dfsTraining)\n",
        "dfsValidationBalanced = balance(dfsValidation) # balance(dfsValidation) , validation data does not have to be balanced   "
      ]
    },
    {
      "attachments": {},
      "cell_type": "markdown",
      "metadata": {
        "id": "lmvWD-1bBYVH"
      },
      "source": [
        "shuffle"
      ]
    },
    {
      "cell_type": "code",
      "execution_count": 18,
      "metadata": {
        "id": "oRUhvptlAiVi"
      },
      "outputs": [],
      "source": [
        "random.shuffle(dfsTrainingBalanced)\n",
        "random.shuffle(dfsValidationBalanced)"
      ]
    },
    {
      "attachments": {},
      "cell_type": "markdown",
      "metadata": {
        "id": "r-mePis4rxA1"
      },
      "source": [
        "preprocessing"
      ]
    },
    {
      "cell_type": "code",
      "execution_count": 43,
      "metadata": {
        "colab": {
          "background_save": true,
          "base_uri": "https://localhost:8080/"
        },
        "id": "PN1lDbSsryQj",
        "outputId": "7089db30-6128-4c3f-a817-c7cc46f93253"
      },
      "outputs": [],
      "source": [
        "#dfsTrainingPreprocessed = preprocess(dfsTrainingBalanced)\n",
        "#dfsValidationPreprocessed = preprocess(dfsValidationBalanced)"
      ]
    },
    {
      "attachments": {},
      "cell_type": "markdown",
      "metadata": {
        "id": "JleCIrlUs98K"
      },
      "source": [
        "build sequences"
      ]
    },
    {
      "cell_type": "code",
      "execution_count": 19,
      "metadata": {
        "colab": {
          "background_save": true
        },
        "id": "GToeQJ4Us_ll"
      },
      "outputs": [],
      "source": [
        "#sequencesTraining = buildSequences(dfsTrainingPreprocessed)\n",
        "#sequencesValidation = buildSequences(dfsValidationPreprocessed)\n",
        "sequencesTraining = buildSequences(dfsTrainingBalanced)\n",
        "sequencesValidation = buildSequences(dfsValidationBalanced)"
      ]
    },
    {
      "attachments": {},
      "cell_type": "markdown",
      "metadata": {
        "id": "ab82NbyHtU_L"
      },
      "source": [
        "shuffle"
      ]
    },
    {
      "cell_type": "code",
      "execution_count": 20,
      "metadata": {
        "colab": {
          "background_save": true
        },
        "id": "uGMjf2k4tV2n"
      },
      "outputs": [],
      "source": [
        "random.shuffle(sequencesTraining)\n",
        "random.shuffle(sequencesValidation)"
      ]
    },
    {
      "attachments": {},
      "cell_type": "markdown",
      "metadata": {
        "id": "G-ygYD9gtbMx"
      },
      "source": [
        "split sequence from label"
      ]
    },
    {
      "cell_type": "code",
      "execution_count": 21,
      "metadata": {
        "colab": {
          "background_save": true
        },
        "id": "3Cnkgt0utXt1"
      },
      "outputs": [],
      "source": [
        "train_x, train_y = split(sequencesTraining)\n",
        "validation_x, validation_y = split(sequencesValidation)"
      ]
    },
    {
      "cell_type": "code",
      "execution_count": 22,
      "metadata": {},
      "outputs": [
        {
          "name": "stdout",
          "output_type": "stream",
          "text": [
            "<class 'numpy.ndarray'>\n",
            "(39474, 240, 6)\n",
            "<class 'numpy.ndarray'>\n",
            "(7761, 240, 6)\n"
          ]
        }
      ],
      "source": [
        "print(type(train_x))\n",
        "print(train_x.shape)\n",
        "print(type(validation_x))\n",
        "print(validation_x.shape)"
      ]
    },
    {
      "cell_type": "code",
      "execution_count": 23,
      "metadata": {},
      "outputs": [],
      "source": [
        "import pickle\n",
        "\n",
        "with open(f'data/pkl/{NAME}_train_x.pkl', 'wb') as file:\n",
        "    pickle.dump(train_x, file)\n",
        "with open(f'data/pkl/{NAME}_train_y.pkl', 'wb') as file:\n",
        "    pickle.dump(train_y, file)\n",
        "with open(f'data/pkl/{NAME}_validation_x.pkl', 'wb') as file:\n",
        "    pickle.dump(validation_x, file)\n",
        "with open(f'data/pkl/{NAME}_validation_y.pkl', 'wb') as file:\n",
        "    pickle.dump(validation_y, file)"
      ]
    },
    {
      "cell_type": "code",
      "execution_count": 2,
      "metadata": {},
      "outputs": [],
      "source": [
        "import pickle\n",
        "\n",
        "with open(f\"data/pkl/{NAME}/{NAME}_train_x.pkl\", \"rb\") as file:\n",
        "    train_x = pickle.load(file)\n",
        "with open(f\"data/pkl/{NAME}/{NAME}_train_y.pkl\", \"rb\") as file:\n",
        "    train_y = pickle.load(file)\n",
        "with open(f\"data/pkl/{NAME}/{NAME}_validation_x.pkl\", \"rb\") as file:\n",
        "    validation_x = pickle.load(file)\n",
        "with open(f\"data/pkl/{NAME}/{NAME}_validation_y.pkl\", \"rb\") as file:\n",
        "    validation_y = pickle.load(file)"
      ]
    },
    {
      "attachments": {},
      "cell_type": "markdown",
      "metadata": {
        "id": "LXt32q1Tt39k"
      },
      "source": [
        "# Model:"
      ]
    },
    {
      "cell_type": "code",
      "execution_count": 3,
      "metadata": {},
      "outputs": [
        {
          "name": "stdout",
          "output_type": "stream",
          "text": [
            "Num GPUs Available:  1\n"
          ]
        }
      ],
      "source": [
        "import tensorflow as tf\n",
        "print(\"Num GPUs Available: \", len(tf.config.experimental.list_physical_devices('GPU')))\n"
      ]
    },
    {
      "attachments": {},
      "cell_type": "markdown",
      "metadata": {
        "id": "QNzTVj7Ue8Vg"
      },
      "source": [
        "hyper parameters bounds"
      ]
    },
    {
      "cell_type": "code",
      "execution_count": 8,
      "metadata": {
        "colab": {
          "background_save": true
        },
        "id": "mXBNmip7e7or"
      },
      "outputs": [],
      "source": [
        "EPOCHS = 400\n",
        "\n",
        "batchSize = 96\n",
        "layers = 2\n",
        "nodes = 256\n",
        "denseNodes = 128\n",
        "\n",
        "dropOut = 0.92 #0.88\n",
        "rec_dropout = 0\n",
        "l1l2_reg = 0 #1e-5#1e-3\n",
        "\n",
        "learningRate = 0.00001\n",
        "decay = 0\n",
        "\n",
        "hp_suffix = f\"bs({batchSize})_layers({layers})_noded({nodes})_dNodes({denseNodes})_do({int(dropOut*100)}%)_recdo({rec_dropout})_l1l2({l1l2_reg})_lr({learningRate})_decay({decay})\""
      ]
    },
    {
      "cell_type": "code",
      "execution_count": 9,
      "metadata": {
        "id": "XYo0LRjEg2m4"
      },
      "outputs": [
        {
          "name": "stdout",
          "output_type": "stream",
          "text": [
            "WARNING:tensorflow:`period` argument is deprecated. Please use `save_freq` to specify the frequency in number of batches seen.\n"
          ]
        },
        {
          "name": "stderr",
          "output_type": "stream",
          "text": [
            "c:\\Users\\Johannes\\miniconda3\\envs\\Quant\\lib\\site-packages\\keras\\optimizers\\optimizer_v2\\adam.py:114: UserWarning: The `lr` argument is deprecated, use `learning_rate` instead.\n",
            "  super().__init__(name, **kwargs)\n",
            "\n",
            "\u001b[A\n",
            "\u001b[A"
          ]
        },
        {
          "name": "stdout",
          "output_type": "stream",
          "text": [
            "Epoch 1/400\n",
            "411/412 [============================>.] - ETA: 0s - loss: 1.3258 - accuracy: 0.3363"
          ]
        },
        {
          "name": "stderr",
          "output_type": "stream",
          "text": [
            "\n",
            "\u001b[A"
          ]
        },
        {
          "name": "stdout",
          "output_type": "stream",
          "text": [
            "412/412 [==============================] - 29s 60ms/step - loss: 1.3257 - accuracy: 0.3363 - val_loss: 1.0904 - val_accuracy: 0.4811\n",
            "Epoch 2/400\n",
            "411/412 [============================>.] - ETA: 0s - loss: 1.2734 - accuracy: 0.3441"
          ]
        },
        {
          "name": "stderr",
          "output_type": "stream",
          "text": [
            "\n",
            "\u001b[A"
          ]
        },
        {
          "name": "stdout",
          "output_type": "stream",
          "text": [
            "412/412 [==============================] - 24s 58ms/step - loss: 1.2734 - accuracy: 0.3441 - val_loss: 1.0847 - val_accuracy: 0.5050\n",
            "Epoch 3/400\n",
            "411/412 [============================>.] - ETA: 0s - loss: 1.2375 - accuracy: 0.3516"
          ]
        },
        {
          "name": "stderr",
          "output_type": "stream",
          "text": [
            "\n",
            "\u001b[A"
          ]
        },
        {
          "name": "stdout",
          "output_type": "stream",
          "text": [
            "412/412 [==============================] - 24s 58ms/step - loss: 1.2375 - accuracy: 0.3516 - val_loss: 1.0812 - val_accuracy: 0.5096\n",
            "Epoch 4/400\n",
            "411/412 [============================>.] - ETA: 0s - loss: 1.2222 - accuracy: 0.3522"
          ]
        },
        {
          "name": "stderr",
          "output_type": "stream",
          "text": [
            "\n",
            "\u001b[A"
          ]
        },
        {
          "name": "stdout",
          "output_type": "stream",
          "text": [
            "412/412 [==============================] - 24s 57ms/step - loss: 1.2223 - accuracy: 0.3522 - val_loss: 1.0789 - val_accuracy: 0.5111\n",
            "Epoch 5/400\n",
            "411/412 [============================>.] - ETA: 0s - loss: 1.2018 - accuracy: 0.3615"
          ]
        },
        {
          "name": "stderr",
          "output_type": "stream",
          "text": [
            "\n",
            "\u001b[A"
          ]
        },
        {
          "name": "stdout",
          "output_type": "stream",
          "text": [
            "412/412 [==============================] - 24s 57ms/step - loss: 1.2018 - accuracy: 0.3615 - val_loss: 1.0768 - val_accuracy: 0.5158\n",
            "Epoch 6/400\n",
            "411/412 [============================>.] - ETA: 0s - loss: 1.1884 - accuracy: 0.3637"
          ]
        },
        {
          "name": "stderr",
          "output_type": "stream",
          "text": [
            "\n",
            "\u001b[A"
          ]
        },
        {
          "name": "stdout",
          "output_type": "stream",
          "text": [
            "412/412 [==============================] - 24s 57ms/step - loss: 1.1885 - accuracy: 0.3636 - val_loss: 1.0748 - val_accuracy: 0.5186\n",
            "Epoch 7/400\n",
            "411/412 [============================>.] - ETA: 0s - loss: 1.1677 - accuracy: 0.3702"
          ]
        },
        {
          "name": "stderr",
          "output_type": "stream",
          "text": [
            "\n",
            "\u001b[A"
          ]
        },
        {
          "name": "stdout",
          "output_type": "stream",
          "text": [
            "412/412 [==============================] - 24s 58ms/step - loss: 1.1677 - accuracy: 0.3702 - val_loss: 1.0731 - val_accuracy: 0.5236\n",
            "Epoch 8/400\n",
            "411/412 [============================>.] - ETA: 0s - loss: 1.1644 - accuracy: 0.3728"
          ]
        },
        {
          "name": "stderr",
          "output_type": "stream",
          "text": [
            "\n",
            "\u001b[A"
          ]
        },
        {
          "name": "stdout",
          "output_type": "stream",
          "text": [
            "412/412 [==============================] - 24s 58ms/step - loss: 1.1644 - accuracy: 0.3728 - val_loss: 1.0715 - val_accuracy: 0.5254\n",
            "Epoch 9/400\n",
            "411/412 [============================>.] - ETA: 0s - loss: 1.1564 - accuracy: 0.3765"
          ]
        },
        {
          "name": "stderr",
          "output_type": "stream",
          "text": [
            "\n",
            "\u001b[A"
          ]
        },
        {
          "name": "stdout",
          "output_type": "stream",
          "text": [
            "412/412 [==============================] - 24s 58ms/step - loss: 1.1564 - accuracy: 0.3765 - val_loss: 1.0690 - val_accuracy: 0.5270\n",
            "Epoch 10/400\n",
            "411/412 [============================>.] - ETA: 0s - loss: 1.1447 - accuracy: 0.3834"
          ]
        },
        {
          "name": "stderr",
          "output_type": "stream",
          "text": [
            "\n",
            "\u001b[A"
          ]
        },
        {
          "name": "stdout",
          "output_type": "stream",
          "text": [
            "412/412 [==============================] - 24s 57ms/step - loss: 1.1447 - accuracy: 0.3835 - val_loss: 1.0667 - val_accuracy: 0.5302\n",
            "Epoch 11/400\n",
            "411/412 [============================>.] - ETA: 0s - loss: 1.1346 - accuracy: 0.3899"
          ]
        },
        {
          "name": "stderr",
          "output_type": "stream",
          "text": [
            "\n",
            "\u001b[A"
          ]
        },
        {
          "name": "stdout",
          "output_type": "stream",
          "text": [
            "412/412 [==============================] - 24s 57ms/step - loss: 1.1346 - accuracy: 0.3899 - val_loss: 1.0639 - val_accuracy: 0.5329\n",
            "Epoch 12/400\n",
            "411/412 [============================>.] - ETA: 0s - loss: 1.1292 - accuracy: 0.3911"
          ]
        },
        {
          "name": "stderr",
          "output_type": "stream",
          "text": [
            "\n",
            "\u001b[A"
          ]
        },
        {
          "name": "stdout",
          "output_type": "stream",
          "text": [
            "412/412 [==============================] - 24s 57ms/step - loss: 1.1290 - accuracy: 0.3911 - val_loss: 1.0603 - val_accuracy: 0.5403\n",
            "Epoch 13/400\n",
            "411/412 [============================>.] - ETA: 0s - loss: 1.1198 - accuracy: 0.4036"
          ]
        },
        {
          "name": "stderr",
          "output_type": "stream",
          "text": [
            "\n",
            "\u001b[A"
          ]
        },
        {
          "name": "stdout",
          "output_type": "stream",
          "text": [
            "412/412 [==============================] - 24s 58ms/step - loss: 1.1198 - accuracy: 0.4035 - val_loss: 1.0552 - val_accuracy: 0.5445\n",
            "Epoch 14/400\n",
            "411/412 [============================>.] - ETA: 0s - loss: 1.1137 - accuracy: 0.4057"
          ]
        },
        {
          "name": "stderr",
          "output_type": "stream",
          "text": [
            "\n",
            "\u001b[A"
          ]
        },
        {
          "name": "stdout",
          "output_type": "stream",
          "text": [
            "412/412 [==============================] - 24s 57ms/step - loss: 1.1138 - accuracy: 0.4057 - val_loss: 1.0489 - val_accuracy: 0.5522\n",
            "Epoch 15/400\n",
            "411/412 [============================>.] - ETA: 0s - loss: 1.1068 - accuracy: 0.4095"
          ]
        },
        {
          "name": "stderr",
          "output_type": "stream",
          "text": [
            "\n",
            "\u001b[A"
          ]
        },
        {
          "name": "stdout",
          "output_type": "stream",
          "text": [
            "412/412 [==============================] - 24s 57ms/step - loss: 1.1068 - accuracy: 0.4096 - val_loss: 1.0426 - val_accuracy: 0.5619\n",
            "Epoch 16/400\n",
            "411/412 [============================>.] - ETA: 0s - loss: 1.1040 - accuracy: 0.4156"
          ]
        },
        {
          "name": "stderr",
          "output_type": "stream",
          "text": [
            "\n",
            "\u001b[A"
          ]
        },
        {
          "name": "stdout",
          "output_type": "stream",
          "text": [
            "412/412 [==============================] - 24s 57ms/step - loss: 1.1041 - accuracy: 0.4155 - val_loss: 1.0366 - val_accuracy: 0.5698\n",
            "Epoch 17/400\n",
            "411/412 [============================>.] - ETA: 0s - loss: 1.0940 - accuracy: 0.4248"
          ]
        },
        {
          "name": "stderr",
          "output_type": "stream",
          "text": [
            "\n",
            "\u001b[A"
          ]
        },
        {
          "name": "stdout",
          "output_type": "stream",
          "text": [
            "412/412 [==============================] - 24s 57ms/step - loss: 1.0940 - accuracy: 0.4248 - val_loss: 1.0308 - val_accuracy: 0.5766\n",
            "Epoch 18/400\n",
            "411/412 [============================>.] - ETA: 0s - loss: 1.0892 - accuracy: 0.4269"
          ]
        },
        {
          "name": "stderr",
          "output_type": "stream",
          "text": [
            "\n",
            "\u001b[A"
          ]
        },
        {
          "name": "stdout",
          "output_type": "stream",
          "text": [
            "412/412 [==============================] - 24s 58ms/step - loss: 1.0892 - accuracy: 0.4269 - val_loss: 1.0260 - val_accuracy: 0.5792\n",
            "Epoch 19/400\n",
            "411/412 [============================>.] - ETA: 0s - loss: 1.0839 - accuracy: 0.4353"
          ]
        },
        {
          "name": "stderr",
          "output_type": "stream",
          "text": [
            "\n",
            "\u001b[A"
          ]
        },
        {
          "name": "stdout",
          "output_type": "stream",
          "text": [
            "412/412 [==============================] - 24s 58ms/step - loss: 1.0839 - accuracy: 0.4353 - val_loss: 1.0213 - val_accuracy: 0.5807\n",
            "Epoch 20/400\n",
            "411/412 [============================>.] - ETA: 0s - loss: 1.0822 - accuracy: 0.4367"
          ]
        },
        {
          "name": "stderr",
          "output_type": "stream",
          "text": [
            "\n",
            "\u001b[A"
          ]
        },
        {
          "name": "stdout",
          "output_type": "stream",
          "text": [
            "412/412 [==============================] - 24s 59ms/step - loss: 1.0822 - accuracy: 0.4367 - val_loss: 1.0177 - val_accuracy: 0.5824\n",
            "Epoch 21/400\n",
            "411/412 [============================>.] - ETA: 0s - loss: 1.0738 - accuracy: 0.4461"
          ]
        },
        {
          "name": "stderr",
          "output_type": "stream",
          "text": [
            "\n",
            "\u001b[A"
          ]
        },
        {
          "name": "stdout",
          "output_type": "stream",
          "text": [
            "412/412 [==============================] - 24s 58ms/step - loss: 1.0738 - accuracy: 0.4460 - val_loss: 1.0133 - val_accuracy: 0.5832\n",
            "Epoch 22/400\n",
            "411/412 [============================>.] - ETA: 0s - loss: 1.0734 - accuracy: 0.4431"
          ]
        },
        {
          "name": "stderr",
          "output_type": "stream",
          "text": [
            "\n",
            "\u001b[A"
          ]
        },
        {
          "name": "stdout",
          "output_type": "stream",
          "text": [
            "412/412 [==============================] - 24s 59ms/step - loss: 1.0735 - accuracy: 0.4431 - val_loss: 1.0108 - val_accuracy: 0.5845\n",
            "Epoch 23/400\n",
            "411/412 [============================>.] - ETA: 0s - loss: 1.0650 - accuracy: 0.4491"
          ]
        },
        {
          "name": "stderr",
          "output_type": "stream",
          "text": [
            "\n",
            "\u001b[A"
          ]
        },
        {
          "name": "stdout",
          "output_type": "stream",
          "text": [
            "412/412 [==============================] - 24s 58ms/step - loss: 1.0650 - accuracy: 0.4491 - val_loss: 1.0080 - val_accuracy: 0.5868\n",
            "Epoch 24/400\n",
            "411/412 [============================>.] - ETA: 0s - loss: 1.0619 - accuracy: 0.4535"
          ]
        },
        {
          "name": "stderr",
          "output_type": "stream",
          "text": [
            "\n",
            "\u001b[A"
          ]
        },
        {
          "name": "stdout",
          "output_type": "stream",
          "text": [
            "412/412 [==============================] - 24s 58ms/step - loss: 1.0619 - accuracy: 0.4535 - val_loss: 1.0038 - val_accuracy: 0.5857\n",
            "Epoch 25/400\n",
            "411/412 [============================>.] - ETA: 0s - loss: 1.0607 - accuracy: 0.4527"
          ]
        },
        {
          "name": "stderr",
          "output_type": "stream",
          "text": [
            "\n",
            "\u001b[A"
          ]
        },
        {
          "name": "stdout",
          "output_type": "stream",
          "text": [
            "412/412 [==============================] - 24s 58ms/step - loss: 1.0607 - accuracy: 0.4527 - val_loss: 1.0016 - val_accuracy: 0.5864\n",
            "Epoch 26/400\n",
            "411/412 [============================>.] - ETA: 0s - loss: 1.0549 - accuracy: 0.4600"
          ]
        },
        {
          "name": "stderr",
          "output_type": "stream",
          "text": [
            "\n",
            "\u001b[A"
          ]
        },
        {
          "name": "stdout",
          "output_type": "stream",
          "text": [
            "412/412 [==============================] - 24s 58ms/step - loss: 1.0549 - accuracy: 0.4600 - val_loss: 0.9990 - val_accuracy: 0.5873\n",
            "Epoch 27/400\n",
            "411/412 [============================>.] - ETA: 0s - loss: 1.0515 - accuracy: 0.4600"
          ]
        },
        {
          "name": "stderr",
          "output_type": "stream",
          "text": [
            "\n",
            "\u001b[A"
          ]
        },
        {
          "name": "stdout",
          "output_type": "stream",
          "text": [
            "412/412 [==============================] - 24s 59ms/step - loss: 1.0515 - accuracy: 0.4600 - val_loss: 0.9963 - val_accuracy: 0.5887\n",
            "Epoch 28/400\n",
            "411/412 [============================>.] - ETA: 0s - loss: 1.0476 - accuracy: 0.4656"
          ]
        },
        {
          "name": "stderr",
          "output_type": "stream",
          "text": [
            "\n",
            "\u001b[A"
          ]
        },
        {
          "name": "stdout",
          "output_type": "stream",
          "text": [
            "412/412 [==============================] - 24s 59ms/step - loss: 1.0477 - accuracy: 0.4656 - val_loss: 0.9917 - val_accuracy: 0.5901\n",
            "Epoch 29/400\n",
            "411/412 [============================>.] - ETA: 0s - loss: 1.0486 - accuracy: 0.4698"
          ]
        },
        {
          "name": "stderr",
          "output_type": "stream",
          "text": [
            "\n",
            "\u001b[A"
          ]
        },
        {
          "name": "stdout",
          "output_type": "stream",
          "text": [
            "412/412 [==============================] - 24s 57ms/step - loss: 1.0486 - accuracy: 0.4698 - val_loss: 0.9908 - val_accuracy: 0.5919\n",
            "Epoch 30/400\n",
            "411/412 [============================>.] - ETA: 0s - loss: 1.0464 - accuracy: 0.4665"
          ]
        },
        {
          "name": "stderr",
          "output_type": "stream",
          "text": [
            "\n",
            "\u001b[A"
          ]
        },
        {
          "name": "stdout",
          "output_type": "stream",
          "text": [
            "412/412 [==============================] - 24s 57ms/step - loss: 1.0464 - accuracy: 0.4665 - val_loss: 0.9912 - val_accuracy: 0.5910\n",
            "Epoch 31/400\n",
            "411/412 [============================>.] - ETA: 0s - loss: 1.0427 - accuracy: 0.4727"
          ]
        },
        {
          "name": "stderr",
          "output_type": "stream",
          "text": [
            "\n",
            "\u001b[A"
          ]
        },
        {
          "name": "stdout",
          "output_type": "stream",
          "text": [
            "412/412 [==============================] - 24s 58ms/step - loss: 1.0426 - accuracy: 0.4727 - val_loss: 0.9880 - val_accuracy: 0.5913\n",
            "Epoch 32/400\n",
            "411/412 [============================>.] - ETA: 0s - loss: 1.0431 - accuracy: 0.4721"
          ]
        },
        {
          "name": "stderr",
          "output_type": "stream",
          "text": [
            "\n",
            "\u001b[A"
          ]
        },
        {
          "name": "stdout",
          "output_type": "stream",
          "text": [
            "412/412 [==============================] - 24s 58ms/step - loss: 1.0431 - accuracy: 0.4721 - val_loss: 0.9864 - val_accuracy: 0.5923\n",
            "Epoch 33/400\n",
            "411/412 [============================>.] - ETA: 0s - loss: 1.0364 - accuracy: 0.4772"
          ]
        },
        {
          "name": "stderr",
          "output_type": "stream",
          "text": [
            "\n",
            "\u001b[A"
          ]
        },
        {
          "name": "stdout",
          "output_type": "stream",
          "text": [
            "412/412 [==============================] - 24s 58ms/step - loss: 1.0364 - accuracy: 0.4773 - val_loss: 0.9813 - val_accuracy: 0.5921\n",
            "Epoch 34/400\n",
            "411/412 [============================>.] - ETA: 0s - loss: 1.0365 - accuracy: 0.4795"
          ]
        },
        {
          "name": "stderr",
          "output_type": "stream",
          "text": [
            "\n",
            "\u001b[A"
          ]
        },
        {
          "name": "stdout",
          "output_type": "stream",
          "text": [
            "412/412 [==============================] - 24s 58ms/step - loss: 1.0364 - accuracy: 0.4795 - val_loss: 0.9794 - val_accuracy: 0.5922\n",
            "Epoch 35/400\n",
            "411/412 [============================>.] - ETA: 0s - loss: 1.0281 - accuracy: 0.4865"
          ]
        },
        {
          "name": "stderr",
          "output_type": "stream",
          "text": [
            "\n",
            "\u001b[A"
          ]
        },
        {
          "name": "stdout",
          "output_type": "stream",
          "text": [
            "412/412 [==============================] - 24s 58ms/step - loss: 1.0281 - accuracy: 0.4864 - val_loss: 0.9771 - val_accuracy: 0.5973\n",
            "Epoch 36/400\n",
            "411/412 [============================>.] - ETA: 0s - loss: 1.0285 - accuracy: 0.4870"
          ]
        },
        {
          "name": "stderr",
          "output_type": "stream",
          "text": [
            "\n",
            "\u001b[A"
          ]
        },
        {
          "name": "stdout",
          "output_type": "stream",
          "text": [
            "412/412 [==============================] - 24s 58ms/step - loss: 1.0284 - accuracy: 0.4870 - val_loss: 0.9738 - val_accuracy: 0.5948\n",
            "Epoch 37/400\n",
            "411/412 [============================>.] - ETA: 0s - loss: 1.0254 - accuracy: 0.4917"
          ]
        },
        {
          "name": "stderr",
          "output_type": "stream",
          "text": [
            "\n",
            "\u001b[A"
          ]
        },
        {
          "name": "stdout",
          "output_type": "stream",
          "text": [
            "412/412 [==============================] - 24s 58ms/step - loss: 1.0254 - accuracy: 0.4918 - val_loss: 0.9700 - val_accuracy: 0.5948\n",
            "Epoch 38/400\n",
            "411/412 [============================>.] - ETA: 0s - loss: 1.0262 - accuracy: 0.4891"
          ]
        },
        {
          "name": "stderr",
          "output_type": "stream",
          "text": [
            "\n",
            "\u001b[A"
          ]
        },
        {
          "name": "stdout",
          "output_type": "stream",
          "text": [
            "412/412 [==============================] - 24s 58ms/step - loss: 1.0262 - accuracy: 0.4891 - val_loss: 0.9687 - val_accuracy: 0.5952\n",
            "Epoch 39/400\n",
            "411/412 [============================>.] - ETA: 0s - loss: 1.0214 - accuracy: 0.4969"
          ]
        },
        {
          "name": "stderr",
          "output_type": "stream",
          "text": [
            "\n",
            "\u001b[A"
          ]
        },
        {
          "name": "stdout",
          "output_type": "stream",
          "text": [
            "412/412 [==============================] - 24s 58ms/step - loss: 1.0213 - accuracy: 0.4969 - val_loss: 0.9680 - val_accuracy: 0.5966\n",
            "Epoch 40/400\n",
            "411/412 [============================>.] - ETA: 0s - loss: 1.0245 - accuracy: 0.4935"
          ]
        },
        {
          "name": "stderr",
          "output_type": "stream",
          "text": [
            "\n",
            "\u001b[A"
          ]
        },
        {
          "name": "stdout",
          "output_type": "stream",
          "text": [
            "412/412 [==============================] - 24s 58ms/step - loss: 1.0245 - accuracy: 0.4935 - val_loss: 0.9687 - val_accuracy: 0.5968\n",
            "Epoch 41/400\n",
            "411/412 [============================>.] - ETA: 0s - loss: 1.0257 - accuracy: 0.4921"
          ]
        },
        {
          "name": "stderr",
          "output_type": "stream",
          "text": [
            "\n",
            "\u001b[A"
          ]
        },
        {
          "name": "stdout",
          "output_type": "stream",
          "text": [
            "412/412 [==============================] - 24s 58ms/step - loss: 1.0256 - accuracy: 0.4921 - val_loss: 0.9676 - val_accuracy: 0.5964\n",
            "Epoch 42/400\n",
            "411/412 [============================>.] - ETA: 0s - loss: 1.0175 - accuracy: 0.4973"
          ]
        },
        {
          "name": "stderr",
          "output_type": "stream",
          "text": [
            "\n",
            "\u001b[A"
          ]
        },
        {
          "name": "stdout",
          "output_type": "stream",
          "text": [
            "412/412 [==============================] - 24s 58ms/step - loss: 1.0173 - accuracy: 0.4974 - val_loss: 0.9647 - val_accuracy: 0.5977\n",
            "Epoch 43/400\n",
            "411/412 [============================>.] - ETA: 0s - loss: 1.0123 - accuracy: 0.5003"
          ]
        },
        {
          "name": "stderr",
          "output_type": "stream",
          "text": [
            "\n",
            "\u001b[A"
          ]
        },
        {
          "name": "stdout",
          "output_type": "stream",
          "text": [
            "412/412 [==============================] - 24s 58ms/step - loss: 1.0124 - accuracy: 0.5003 - val_loss: 0.9609 - val_accuracy: 0.6010\n",
            "Epoch 44/400\n",
            "411/412 [============================>.] - ETA: 0s - loss: 1.0207 - accuracy: 0.4980"
          ]
        },
        {
          "name": "stderr",
          "output_type": "stream",
          "text": [
            "\n",
            "\u001b[A"
          ]
        },
        {
          "name": "stdout",
          "output_type": "stream",
          "text": [
            "412/412 [==============================] - 24s 58ms/step - loss: 1.0206 - accuracy: 0.4980 - val_loss: 0.9615 - val_accuracy: 0.6026\n",
            "Epoch 45/400\n",
            "411/412 [============================>.] - ETA: 0s - loss: 1.0137 - accuracy: 0.5042"
          ]
        },
        {
          "name": "stderr",
          "output_type": "stream",
          "text": [
            "\n",
            "\u001b[A"
          ]
        },
        {
          "name": "stdout",
          "output_type": "stream",
          "text": [
            "412/412 [==============================] - 24s 58ms/step - loss: 1.0136 - accuracy: 0.5043 - val_loss: 0.9604 - val_accuracy: 0.6013\n",
            "Epoch 46/400\n",
            "411/412 [============================>.] - ETA: 0s - loss: 1.0158 - accuracy: 0.5042"
          ]
        },
        {
          "name": "stderr",
          "output_type": "stream",
          "text": [
            "\n",
            "\u001b[A"
          ]
        },
        {
          "name": "stdout",
          "output_type": "stream",
          "text": [
            "412/412 [==============================] - 24s 58ms/step - loss: 1.0159 - accuracy: 0.5042 - val_loss: 0.9590 - val_accuracy: 0.6013\n",
            "Epoch 47/400\n",
            "411/412 [============================>.] - ETA: 0s - loss: 1.0127 - accuracy: 0.5075"
          ]
        },
        {
          "name": "stderr",
          "output_type": "stream",
          "text": [
            "\n",
            "\u001b[A"
          ]
        },
        {
          "name": "stdout",
          "output_type": "stream",
          "text": [
            "412/412 [==============================] - 24s 58ms/step - loss: 1.0127 - accuracy: 0.5074 - val_loss: 0.9573 - val_accuracy: 0.6021\n",
            "Epoch 48/400\n",
            "411/412 [============================>.] - ETA: 0s - loss: 1.0066 - accuracy: 0.5104"
          ]
        },
        {
          "name": "stderr",
          "output_type": "stream",
          "text": [
            "\n",
            "\u001b[A"
          ]
        },
        {
          "name": "stdout",
          "output_type": "stream",
          "text": [
            "412/412 [==============================] - 24s 58ms/step - loss: 1.0066 - accuracy: 0.5105 - val_loss: 0.9543 - val_accuracy: 0.6031\n",
            "Epoch 49/400\n",
            "411/412 [============================>.] - ETA: 0s - loss: 1.0044 - accuracy: 0.5103"
          ]
        },
        {
          "name": "stderr",
          "output_type": "stream",
          "text": [
            "\n",
            "\u001b[A"
          ]
        },
        {
          "name": "stdout",
          "output_type": "stream",
          "text": [
            "412/412 [==============================] - 25s 62ms/step - loss: 1.0044 - accuracy: 0.5103 - val_loss: 0.9495 - val_accuracy: 0.6037\n",
            "Epoch 50/400\n",
            "412/412 [==============================] - ETA: 0s - loss: 1.0052 - accuracy: 0.5127"
          ]
        },
        {
          "name": "stderr",
          "output_type": "stream",
          "text": [
            "\n",
            "\u001b[A"
          ]
        },
        {
          "name": "stdout",
          "output_type": "stream",
          "text": [
            "412/412 [==============================] - 25s 61ms/step - loss: 1.0052 - accuracy: 0.5127 - val_loss: 0.9468 - val_accuracy: 0.6030\n",
            "Epoch 51/400\n",
            "411/412 [============================>.] - ETA: 0s - loss: 1.0004 - accuracy: 0.5156"
          ]
        },
        {
          "name": "stderr",
          "output_type": "stream",
          "text": [
            "\n",
            "\u001b[A"
          ]
        },
        {
          "name": "stdout",
          "output_type": "stream",
          "text": [
            "412/412 [==============================] - 25s 60ms/step - loss: 1.0003 - accuracy: 0.5157 - val_loss: 0.9490 - val_accuracy: 0.6056\n",
            "Epoch 52/400\n",
            "411/412 [============================>.] - ETA: 0s - loss: 1.0021 - accuracy: 0.5147"
          ]
        },
        {
          "name": "stderr",
          "output_type": "stream",
          "text": [
            "\n",
            "\u001b[A"
          ]
        },
        {
          "name": "stdout",
          "output_type": "stream",
          "text": [
            "412/412 [==============================] - 25s 60ms/step - loss: 1.0021 - accuracy: 0.5147 - val_loss: 0.9442 - val_accuracy: 0.6055\n",
            "Epoch 53/400\n",
            "411/412 [============================>.] - ETA: 0s - loss: 1.0037 - accuracy: 0.5158"
          ]
        },
        {
          "name": "stderr",
          "output_type": "stream",
          "text": [
            "\n",
            "\u001b[A"
          ]
        },
        {
          "name": "stdout",
          "output_type": "stream",
          "text": [
            "412/412 [==============================] - 25s 61ms/step - loss: 1.0037 - accuracy: 0.5158 - val_loss: 0.9460 - val_accuracy: 0.6047\n",
            "Epoch 54/400\n",
            "411/412 [============================>.] - ETA: 0s - loss: 0.9985 - accuracy: 0.5187"
          ]
        },
        {
          "name": "stderr",
          "output_type": "stream",
          "text": [
            "\n",
            "\u001b[A"
          ]
        },
        {
          "name": "stdout",
          "output_type": "stream",
          "text": [
            "412/412 [==============================] - 25s 61ms/step - loss: 0.9984 - accuracy: 0.5187 - val_loss: 0.9468 - val_accuracy: 0.6078\n",
            "Epoch 55/400\n",
            "411/412 [============================>.] - ETA: 0s - loss: 1.0012 - accuracy: 0.5196"
          ]
        },
        {
          "name": "stderr",
          "output_type": "stream",
          "text": [
            "\n",
            "\u001b[A"
          ]
        },
        {
          "name": "stdout",
          "output_type": "stream",
          "text": [
            "412/412 [==============================] - 25s 60ms/step - loss: 1.0012 - accuracy: 0.5195 - val_loss: 0.9448 - val_accuracy: 0.6070\n",
            "Epoch 56/400\n",
            "411/412 [============================>.] - ETA: 0s - loss: 1.0003 - accuracy: 0.5210"
          ]
        },
        {
          "name": "stderr",
          "output_type": "stream",
          "text": [
            "\n",
            "\u001b[A"
          ]
        },
        {
          "name": "stdout",
          "output_type": "stream",
          "text": [
            "412/412 [==============================] - 25s 60ms/step - loss: 1.0002 - accuracy: 0.5210 - val_loss: 0.9447 - val_accuracy: 0.6061\n",
            "Epoch 57/400\n",
            "411/412 [============================>.] - ETA: 0s - loss: 0.9987 - accuracy: 0.5201"
          ]
        },
        {
          "name": "stderr",
          "output_type": "stream",
          "text": [
            "\n",
            "\u001b[A"
          ]
        },
        {
          "name": "stdout",
          "output_type": "stream",
          "text": [
            "412/412 [==============================] - 25s 62ms/step - loss: 0.9987 - accuracy: 0.5202 - val_loss: 0.9405 - val_accuracy: 0.6106\n",
            "Epoch 58/400\n",
            "411/412 [============================>.] - ETA: 0s - loss: 0.9903 - accuracy: 0.5260"
          ]
        },
        {
          "name": "stderr",
          "output_type": "stream",
          "text": [
            "\n",
            "\u001b[A"
          ]
        },
        {
          "name": "stdout",
          "output_type": "stream",
          "text": [
            "412/412 [==============================] - 25s 60ms/step - loss: 0.9903 - accuracy: 0.5259 - val_loss: 0.9364 - val_accuracy: 0.6092\n",
            "Epoch 59/400\n",
            "411/412 [============================>.] - ETA: 0s - loss: 0.9962 - accuracy: 0.5209"
          ]
        },
        {
          "name": "stderr",
          "output_type": "stream",
          "text": [
            "\n",
            "\u001b[A"
          ]
        },
        {
          "name": "stdout",
          "output_type": "stream",
          "text": [
            "412/412 [==============================] - 25s 61ms/step - loss: 0.9964 - accuracy: 0.5208 - val_loss: 0.9377 - val_accuracy: 0.6088\n",
            "Epoch 60/400\n",
            "411/412 [============================>.] - ETA: 0s - loss: 0.9880 - accuracy: 0.5285"
          ]
        },
        {
          "name": "stderr",
          "output_type": "stream",
          "text": [
            "\n",
            "\u001b[A"
          ]
        },
        {
          "name": "stdout",
          "output_type": "stream",
          "text": [
            "412/412 [==============================] - 25s 60ms/step - loss: 0.9881 - accuracy: 0.5283 - val_loss: 0.9339 - val_accuracy: 0.6122\n",
            "Epoch 61/400\n",
            "411/412 [============================>.] - ETA: 0s - loss: 0.9925 - accuracy: 0.5241"
          ]
        },
        {
          "name": "stderr",
          "output_type": "stream",
          "text": [
            "\n",
            "\u001b[A"
          ]
        },
        {
          "name": "stdout",
          "output_type": "stream",
          "text": [
            "412/412 [==============================] - 25s 60ms/step - loss: 0.9926 - accuracy: 0.5241 - val_loss: 0.9354 - val_accuracy: 0.6092\n",
            "Epoch 62/400\n",
            "411/412 [============================>.] - ETA: 0s - loss: 0.9859 - accuracy: 0.5283"
          ]
        },
        {
          "name": "stderr",
          "output_type": "stream",
          "text": [
            "\n",
            "\u001b[A"
          ]
        },
        {
          "name": "stdout",
          "output_type": "stream",
          "text": [
            "412/412 [==============================] - 25s 60ms/step - loss: 0.9859 - accuracy: 0.5282 - val_loss: 0.9354 - val_accuracy: 0.6087\n",
            "Epoch 63/400\n",
            "411/412 [============================>.] - ETA: 0s - loss: 0.9878 - accuracy: 0.5308"
          ]
        },
        {
          "name": "stderr",
          "output_type": "stream",
          "text": [
            "\n",
            "\u001b[A"
          ]
        },
        {
          "name": "stdout",
          "output_type": "stream",
          "text": [
            "412/412 [==============================] - 25s 60ms/step - loss: 0.9879 - accuracy: 0.5308 - val_loss: 0.9347 - val_accuracy: 0.6122\n",
            "Epoch 64/400\n",
            "412/412 [==============================] - ETA: 0s - loss: 0.9895 - accuracy: 0.5282"
          ]
        },
        {
          "name": "stderr",
          "output_type": "stream",
          "text": [
            "\n",
            "\u001b[A"
          ]
        },
        {
          "name": "stdout",
          "output_type": "stream",
          "text": [
            "412/412 [==============================] - 25s 61ms/step - loss: 0.9895 - accuracy: 0.5282 - val_loss: 0.9386 - val_accuracy: 0.6145\n",
            "Epoch 65/400\n",
            "411/412 [============================>.] - ETA: 0s - loss: 0.9878 - accuracy: 0.5304"
          ]
        },
        {
          "name": "stderr",
          "output_type": "stream",
          "text": [
            "\n",
            "\u001b[A"
          ]
        },
        {
          "name": "stdout",
          "output_type": "stream",
          "text": [
            "412/412 [==============================] - 25s 60ms/step - loss: 0.9878 - accuracy: 0.5304 - val_loss: 0.9286 - val_accuracy: 0.6124\n",
            "Epoch 66/400\n",
            "412/412 [==============================] - ETA: 0s - loss: 0.9867 - accuracy: 0.5325"
          ]
        },
        {
          "name": "stderr",
          "output_type": "stream",
          "text": [
            "\n",
            "\u001b[A"
          ]
        },
        {
          "name": "stdout",
          "output_type": "stream",
          "text": [
            "412/412 [==============================] - 25s 60ms/step - loss: 0.9867 - accuracy: 0.5325 - val_loss: 0.9331 - val_accuracy: 0.6144\n",
            "Epoch 67/400\n",
            "411/412 [============================>.] - ETA: 0s - loss: 0.9871 - accuracy: 0.5347"
          ]
        },
        {
          "name": "stderr",
          "output_type": "stream",
          "text": [
            "\n",
            "\u001b[A"
          ]
        },
        {
          "name": "stdout",
          "output_type": "stream",
          "text": [
            "412/412 [==============================] - 25s 60ms/step - loss: 0.9870 - accuracy: 0.5348 - val_loss: 0.9312 - val_accuracy: 0.6124\n",
            "Epoch 68/400\n",
            "411/412 [============================>.] - ETA: 0s - loss: 0.9852 - accuracy: 0.5335"
          ]
        },
        {
          "name": "stderr",
          "output_type": "stream",
          "text": [
            "\n",
            "\u001b[A"
          ]
        },
        {
          "name": "stdout",
          "output_type": "stream",
          "text": [
            "412/412 [==============================] - 25s 60ms/step - loss: 0.9853 - accuracy: 0.5334 - val_loss: 0.9307 - val_accuracy: 0.6160\n",
            "Epoch 69/400\n",
            "411/412 [============================>.] - ETA: 0s - loss: 0.9828 - accuracy: 0.5358"
          ]
        },
        {
          "name": "stderr",
          "output_type": "stream",
          "text": [
            "\n",
            "\u001b[A"
          ]
        },
        {
          "name": "stdout",
          "output_type": "stream",
          "text": [
            "412/412 [==============================] - 25s 60ms/step - loss: 0.9828 - accuracy: 0.5359 - val_loss: 0.9325 - val_accuracy: 0.6122\n",
            "Epoch 70/400\n",
            "412/412 [==============================] - ETA: 0s - loss: 0.9813 - accuracy: 0.5362"
          ]
        },
        {
          "name": "stderr",
          "output_type": "stream",
          "text": [
            "\n",
            "\u001b[A"
          ]
        },
        {
          "name": "stdout",
          "output_type": "stream",
          "text": [
            "412/412 [==============================] - 25s 61ms/step - loss: 0.9813 - accuracy: 0.5362 - val_loss: 0.9294 - val_accuracy: 0.6115\n",
            "Epoch 71/400\n",
            "411/412 [============================>.] - ETA: 0s - loss: 0.9785 - accuracy: 0.5373"
          ]
        },
        {
          "name": "stderr",
          "output_type": "stream",
          "text": [
            "\n",
            "\u001b[A"
          ]
        },
        {
          "name": "stdout",
          "output_type": "stream",
          "text": [
            "412/412 [==============================] - 25s 61ms/step - loss: 0.9784 - accuracy: 0.5373 - val_loss: 0.9300 - val_accuracy: 0.6141\n",
            "Epoch 72/400\n",
            "411/412 [============================>.] - ETA: 0s - loss: 0.9815 - accuracy: 0.5407"
          ]
        },
        {
          "name": "stderr",
          "output_type": "stream",
          "text": [
            "\n",
            "\u001b[A"
          ]
        },
        {
          "name": "stdout",
          "output_type": "stream",
          "text": [
            "412/412 [==============================] - 25s 60ms/step - loss: 0.9815 - accuracy: 0.5407 - val_loss: 0.9313 - val_accuracy: 0.6125\n",
            "Epoch 73/400\n",
            "411/412 [============================>.] - ETA: 0s - loss: 0.9799 - accuracy: 0.5404"
          ]
        },
        {
          "name": "stderr",
          "output_type": "stream",
          "text": [
            "\n",
            "\u001b[A"
          ]
        },
        {
          "name": "stdout",
          "output_type": "stream",
          "text": [
            "412/412 [==============================] - 25s 60ms/step - loss: 0.9799 - accuracy: 0.5403 - val_loss: 0.9315 - val_accuracy: 0.6145\n",
            "Epoch 74/400\n",
            "412/412 [==============================] - ETA: 0s - loss: 0.9816 - accuracy: 0.5404"
          ]
        },
        {
          "name": "stderr",
          "output_type": "stream",
          "text": [
            "\n",
            "\u001b[A"
          ]
        },
        {
          "name": "stdout",
          "output_type": "stream",
          "text": [
            "412/412 [==============================] - 25s 60ms/step - loss: 0.9816 - accuracy: 0.5404 - val_loss: 0.9264 - val_accuracy: 0.6141\n",
            "Epoch 75/400\n",
            "411/412 [============================>.] - ETA: 0s - loss: 0.9780 - accuracy: 0.5412"
          ]
        },
        {
          "name": "stderr",
          "output_type": "stream",
          "text": [
            "\n",
            "\u001b[A"
          ]
        },
        {
          "name": "stdout",
          "output_type": "stream",
          "text": [
            "412/412 [==============================] - 25s 60ms/step - loss: 0.9779 - accuracy: 0.5413 - val_loss: 0.9275 - val_accuracy: 0.6167\n",
            "Epoch 76/400\n",
            "411/412 [============================>.] - ETA: 0s - loss: 0.9784 - accuracy: 0.5449"
          ]
        },
        {
          "name": "stderr",
          "output_type": "stream",
          "text": [
            "\n",
            "\u001b[A"
          ]
        },
        {
          "name": "stdout",
          "output_type": "stream",
          "text": [
            "412/412 [==============================] - 25s 60ms/step - loss: 0.9785 - accuracy: 0.5448 - val_loss: 0.9225 - val_accuracy: 0.6194\n",
            "Epoch 77/400\n",
            "411/412 [============================>.] - ETA: 0s - loss: 0.9773 - accuracy: 0.5408"
          ]
        },
        {
          "name": "stderr",
          "output_type": "stream",
          "text": [
            "\n",
            "\u001b[A"
          ]
        },
        {
          "name": "stdout",
          "output_type": "stream",
          "text": [
            "412/412 [==============================] - 25s 60ms/step - loss: 0.9772 - accuracy: 0.5408 - val_loss: 0.9243 - val_accuracy: 0.6160\n",
            "Epoch 78/400\n",
            "411/412 [============================>.] - ETA: 0s - loss: 0.9737 - accuracy: 0.5450"
          ]
        },
        {
          "name": "stderr",
          "output_type": "stream",
          "text": [
            "\n",
            "\u001b[A"
          ]
        },
        {
          "name": "stdout",
          "output_type": "stream",
          "text": [
            "412/412 [==============================] - 25s 61ms/step - loss: 0.9738 - accuracy: 0.5449 - val_loss: 0.9247 - val_accuracy: 0.6180\n",
            "Epoch 79/400\n",
            "411/412 [============================>.] - ETA: 0s - loss: 0.9703 - accuracy: 0.5459"
          ]
        },
        {
          "name": "stderr",
          "output_type": "stream",
          "text": [
            "\n",
            "\u001b[A"
          ]
        },
        {
          "name": "stdout",
          "output_type": "stream",
          "text": [
            "412/412 [==============================] - 25s 60ms/step - loss: 0.9703 - accuracy: 0.5458 - val_loss: 0.9213 - val_accuracy: 0.6158\n",
            "Epoch 80/400\n",
            "411/412 [============================>.] - ETA: 0s - loss: 0.9797 - accuracy: 0.5398"
          ]
        },
        {
          "name": "stderr",
          "output_type": "stream",
          "text": [
            "\n",
            "\u001b[A"
          ]
        },
        {
          "name": "stdout",
          "output_type": "stream",
          "text": [
            "412/412 [==============================] - 25s 60ms/step - loss: 0.9796 - accuracy: 0.5398 - val_loss: 0.9239 - val_accuracy: 0.6171\n",
            "Epoch 81/400\n",
            "411/412 [============================>.] - ETA: 0s - loss: 0.9722 - accuracy: 0.5424"
          ]
        },
        {
          "name": "stderr",
          "output_type": "stream",
          "text": [
            "\n",
            "\u001b[A"
          ]
        },
        {
          "name": "stdout",
          "output_type": "stream",
          "text": [
            "412/412 [==============================] - 25s 60ms/step - loss: 0.9722 - accuracy: 0.5425 - val_loss: 0.9167 - val_accuracy: 0.6164\n",
            "Epoch 82/400\n",
            "411/412 [============================>.] - ETA: 0s - loss: 0.9705 - accuracy: 0.5464"
          ]
        },
        {
          "name": "stderr",
          "output_type": "stream",
          "text": [
            "\n",
            "\u001b[A"
          ]
        },
        {
          "name": "stdout",
          "output_type": "stream",
          "text": [
            "412/412 [==============================] - 25s 60ms/step - loss: 0.9704 - accuracy: 0.5464 - val_loss: 0.9167 - val_accuracy: 0.6150\n",
            "Epoch 83/400\n",
            "411/412 [============================>.] - ETA: 0s - loss: 0.9769 - accuracy: 0.5462"
          ]
        },
        {
          "name": "stderr",
          "output_type": "stream",
          "text": [
            "\n",
            "\u001b[A"
          ]
        },
        {
          "name": "stdout",
          "output_type": "stream",
          "text": [
            "412/412 [==============================] - 25s 60ms/step - loss: 0.9770 - accuracy: 0.5461 - val_loss: 0.9203 - val_accuracy: 0.6144\n",
            "Epoch 84/400\n",
            "411/412 [============================>.] - ETA: 0s - loss: 0.9677 - accuracy: 0.5490"
          ]
        },
        {
          "name": "stderr",
          "output_type": "stream",
          "text": [
            "\n",
            "\u001b[A"
          ]
        },
        {
          "name": "stdout",
          "output_type": "stream",
          "text": [
            "412/412 [==============================] - 25s 60ms/step - loss: 0.9677 - accuracy: 0.5490 - val_loss: 0.9201 - val_accuracy: 0.6198\n",
            "Epoch 85/400\n",
            "411/412 [============================>.] - ETA: 0s - loss: 0.9699 - accuracy: 0.5500"
          ]
        },
        {
          "name": "stderr",
          "output_type": "stream",
          "text": [
            "\n",
            "\u001b[A"
          ]
        },
        {
          "name": "stdout",
          "output_type": "stream",
          "text": [
            "412/412 [==============================] - 25s 60ms/step - loss: 0.9698 - accuracy: 0.5500 - val_loss: 0.9191 - val_accuracy: 0.6158\n",
            "Epoch 86/400\n",
            "411/412 [============================>.] - ETA: 0s - loss: 0.9678 - accuracy: 0.5506"
          ]
        },
        {
          "name": "stderr",
          "output_type": "stream",
          "text": [
            "\n",
            "\u001b[A"
          ]
        },
        {
          "name": "stdout",
          "output_type": "stream",
          "text": [
            "412/412 [==============================] - 25s 60ms/step - loss: 0.9678 - accuracy: 0.5506 - val_loss: 0.9192 - val_accuracy: 0.6146\n",
            "Epoch 87/400\n",
            "411/412 [============================>.] - ETA: 0s - loss: 0.9679 - accuracy: 0.5519"
          ]
        },
        {
          "name": "stderr",
          "output_type": "stream",
          "text": [
            "\n",
            "\u001b[A"
          ]
        },
        {
          "name": "stdout",
          "output_type": "stream",
          "text": [
            "412/412 [==============================] - 25s 60ms/step - loss: 0.9679 - accuracy: 0.5519 - val_loss: 0.9170 - val_accuracy: 0.6150\n",
            "Epoch 88/400\n",
            "411/412 [============================>.] - ETA: 0s - loss: 0.9724 - accuracy: 0.5511"
          ]
        },
        {
          "name": "stderr",
          "output_type": "stream",
          "text": [
            "\n",
            "\u001b[A"
          ]
        },
        {
          "name": "stdout",
          "output_type": "stream",
          "text": [
            "412/412 [==============================] - 25s 60ms/step - loss: 0.9725 - accuracy: 0.5511 - val_loss: 0.9201 - val_accuracy: 0.6149\n",
            "Epoch 89/400\n",
            "411/412 [============================>.] - ETA: 0s - loss: 0.9697 - accuracy: 0.5530"
          ]
        },
        {
          "name": "stderr",
          "output_type": "stream",
          "text": [
            "\n",
            "\u001b[A"
          ]
        },
        {
          "name": "stdout",
          "output_type": "stream",
          "text": [
            "412/412 [==============================] - 25s 61ms/step - loss: 0.9697 - accuracy: 0.5530 - val_loss: 0.9175 - val_accuracy: 0.6181\n",
            "Epoch 90/400\n",
            "411/412 [============================>.] - ETA: 0s - loss: 0.9682 - accuracy: 0.5514"
          ]
        },
        {
          "name": "stderr",
          "output_type": "stream",
          "text": [
            "\n",
            "\u001b[A"
          ]
        },
        {
          "name": "stdout",
          "output_type": "stream",
          "text": [
            "412/412 [==============================] - 25s 60ms/step - loss: 0.9682 - accuracy: 0.5514 - val_loss: 0.9143 - val_accuracy: 0.6178\n",
            "Epoch 91/400\n",
            "411/412 [============================>.] - ETA: 0s - loss: 0.9697 - accuracy: 0.5516"
          ]
        },
        {
          "name": "stderr",
          "output_type": "stream",
          "text": [
            "\n",
            "\u001b[A"
          ]
        },
        {
          "name": "stdout",
          "output_type": "stream",
          "text": [
            "412/412 [==============================] - 25s 61ms/step - loss: 0.9697 - accuracy: 0.5515 - val_loss: 0.9176 - val_accuracy: 0.6142\n",
            "Epoch 92/400\n",
            "412/412 [==============================] - ETA: 0s - loss: 0.9661 - accuracy: 0.5520"
          ]
        },
        {
          "name": "stderr",
          "output_type": "stream",
          "text": [
            "\n",
            "\u001b[A"
          ]
        },
        {
          "name": "stdout",
          "output_type": "stream",
          "text": [
            "412/412 [==============================] - 25s 60ms/step - loss: 0.9661 - accuracy: 0.5520 - val_loss: 0.9218 - val_accuracy: 0.6207\n",
            "Epoch 93/400\n",
            "411/412 [============================>.] - ETA: 0s - loss: 0.9651 - accuracy: 0.5559"
          ]
        },
        {
          "name": "stderr",
          "output_type": "stream",
          "text": [
            "\n",
            "\u001b[A"
          ]
        },
        {
          "name": "stdout",
          "output_type": "stream",
          "text": [
            "412/412 [==============================] - 25s 60ms/step - loss: 0.9650 - accuracy: 0.5559 - val_loss: 0.9187 - val_accuracy: 0.6189\n",
            "Epoch 94/400\n",
            "412/412 [==============================] - ETA: 0s - loss: 0.9650 - accuracy: 0.5568"
          ]
        },
        {
          "name": "stderr",
          "output_type": "stream",
          "text": [
            "\n",
            "\u001b[A"
          ]
        },
        {
          "name": "stdout",
          "output_type": "stream",
          "text": [
            "412/412 [==============================] - 25s 60ms/step - loss: 0.9650 - accuracy: 0.5568 - val_loss: 0.9118 - val_accuracy: 0.6191\n",
            "Epoch 95/400\n",
            "412/412 [==============================] - ETA: 0s - loss: 0.9631 - accuracy: 0.5564"
          ]
        },
        {
          "name": "stderr",
          "output_type": "stream",
          "text": [
            "\n",
            "\u001b[A"
          ]
        },
        {
          "name": "stdout",
          "output_type": "stream",
          "text": [
            "412/412 [==============================] - 25s 61ms/step - loss: 0.9631 - accuracy: 0.5564 - val_loss: 0.9169 - val_accuracy: 0.6154\n",
            "Epoch 96/400\n",
            "411/412 [============================>.] - ETA: 0s - loss: 0.9622 - accuracy: 0.5596"
          ]
        },
        {
          "name": "stderr",
          "output_type": "stream",
          "text": [
            "\n",
            "\u001b[A"
          ]
        },
        {
          "name": "stdout",
          "output_type": "stream",
          "text": [
            "412/412 [==============================] - 25s 61ms/step - loss: 0.9623 - accuracy: 0.5595 - val_loss: 0.9116 - val_accuracy: 0.6149\n",
            "Epoch 97/400\n",
            "411/412 [============================>.] - ETA: 0s - loss: 0.9610 - accuracy: 0.5586"
          ]
        },
        {
          "name": "stderr",
          "output_type": "stream",
          "text": [
            "\n",
            "\u001b[A"
          ]
        },
        {
          "name": "stdout",
          "output_type": "stream",
          "text": [
            "412/412 [==============================] - 25s 60ms/step - loss: 0.9610 - accuracy: 0.5587 - val_loss: 0.9145 - val_accuracy: 0.6140\n",
            "Epoch 98/400\n",
            "411/412 [============================>.] - ETA: 0s - loss: 0.9644 - accuracy: 0.5562"
          ]
        },
        {
          "name": "stderr",
          "output_type": "stream",
          "text": [
            "\n",
            "\u001b[A"
          ]
        },
        {
          "name": "stdout",
          "output_type": "stream",
          "text": [
            "412/412 [==============================] - 25s 60ms/step - loss: 0.9645 - accuracy: 0.5562 - val_loss: 0.9153 - val_accuracy: 0.6172\n",
            "Epoch 99/400\n",
            "411/412 [============================>.] - ETA: 0s - loss: 0.9576 - accuracy: 0.5587"
          ]
        },
        {
          "name": "stderr",
          "output_type": "stream",
          "text": [
            "\n",
            "\u001b[A"
          ]
        },
        {
          "name": "stdout",
          "output_type": "stream",
          "text": [
            "412/412 [==============================] - 25s 60ms/step - loss: 0.9576 - accuracy: 0.5588 - val_loss: 0.9112 - val_accuracy: 0.6122\n",
            "Epoch 100/400\n",
            "411/412 [============================>.] - ETA: 0s - loss: 0.9598 - accuracy: 0.5596"
          ]
        },
        {
          "name": "stderr",
          "output_type": "stream",
          "text": [
            "\n",
            "\u001b[A"
          ]
        },
        {
          "name": "stdout",
          "output_type": "stream",
          "text": [
            "412/412 [==============================] - 25s 60ms/step - loss: 0.9598 - accuracy: 0.5596 - val_loss: 0.9080 - val_accuracy: 0.6114\n",
            "Epoch 101/400\n",
            "411/412 [============================>.] - ETA: 0s - loss: 0.9646 - accuracy: 0.5598"
          ]
        },
        {
          "name": "stderr",
          "output_type": "stream",
          "text": [
            "\n",
            "\u001b[A"
          ]
        },
        {
          "name": "stdout",
          "output_type": "stream",
          "text": [
            "412/412 [==============================] - 25s 61ms/step - loss: 0.9646 - accuracy: 0.5598 - val_loss: 0.9126 - val_accuracy: 0.6149\n",
            "Epoch 102/400\n",
            "411/412 [============================>.] - ETA: 0s - loss: 0.9572 - accuracy: 0.5621"
          ]
        },
        {
          "name": "stderr",
          "output_type": "stream",
          "text": [
            "\n",
            "\u001b[A"
          ]
        },
        {
          "name": "stdout",
          "output_type": "stream",
          "text": [
            "412/412 [==============================] - 25s 60ms/step - loss: 0.9573 - accuracy: 0.5620 - val_loss: 0.9121 - val_accuracy: 0.6187\n",
            "Epoch 103/400\n",
            "411/412 [============================>.] - ETA: 0s - loss: 0.9570 - accuracy: 0.5630"
          ]
        },
        {
          "name": "stderr",
          "output_type": "stream",
          "text": [
            "\n",
            "\u001b[A"
          ]
        },
        {
          "name": "stdout",
          "output_type": "stream",
          "text": [
            "412/412 [==============================] - 24s 58ms/step - loss: 0.9571 - accuracy: 0.5630 - val_loss: 0.9100 - val_accuracy: 0.6128\n",
            "Epoch 104/400\n",
            "411/412 [============================>.] - ETA: 0s - loss: 0.9586 - accuracy: 0.5614"
          ]
        },
        {
          "name": "stderr",
          "output_type": "stream",
          "text": [
            "\n",
            "\u001b[A"
          ]
        },
        {
          "name": "stdout",
          "output_type": "stream",
          "text": [
            "412/412 [==============================] - 24s 58ms/step - loss: 0.9587 - accuracy: 0.5614 - val_loss: 0.9133 - val_accuracy: 0.6177\n",
            "Epoch 105/400\n",
            "411/412 [============================>.] - ETA: 0s - loss: 0.9593 - accuracy: 0.5597"
          ]
        },
        {
          "name": "stderr",
          "output_type": "stream",
          "text": [
            "\n",
            "\u001b[A"
          ]
        },
        {
          "name": "stdout",
          "output_type": "stream",
          "text": [
            "412/412 [==============================] - 24s 58ms/step - loss: 0.9595 - accuracy: 0.5596 - val_loss: 0.9141 - val_accuracy: 0.6178\n",
            "Epoch 106/400\n",
            "411/412 [============================>.] - ETA: 0s - loss: 0.9583 - accuracy: 0.5634"
          ]
        },
        {
          "name": "stderr",
          "output_type": "stream",
          "text": [
            "\n",
            "\u001b[A"
          ]
        },
        {
          "name": "stdout",
          "output_type": "stream",
          "text": [
            "412/412 [==============================] - 25s 61ms/step - loss: 0.9584 - accuracy: 0.5633 - val_loss: 0.9138 - val_accuracy: 0.6216\n",
            "Epoch 107/400\n",
            "411/412 [============================>.] - ETA: 0s - loss: 0.9578 - accuracy: 0.5600"
          ]
        },
        {
          "name": "stderr",
          "output_type": "stream",
          "text": [
            "\n",
            "\u001b[A"
          ]
        },
        {
          "name": "stdout",
          "output_type": "stream",
          "text": [
            "412/412 [==============================] - 25s 60ms/step - loss: 0.9578 - accuracy: 0.5599 - val_loss: 0.9114 - val_accuracy: 0.6057\n",
            "Epoch 108/400\n",
            "411/412 [============================>.] - ETA: 0s - loss: 0.9583 - accuracy: 0.5630"
          ]
        },
        {
          "name": "stderr",
          "output_type": "stream",
          "text": [
            "\n",
            "\u001b[A"
          ]
        },
        {
          "name": "stdout",
          "output_type": "stream",
          "text": [
            "412/412 [==============================] - 25s 60ms/step - loss: 0.9583 - accuracy: 0.5631 - val_loss: 0.9108 - val_accuracy: 0.6113\n",
            "Epoch 109/400\n",
            "411/412 [============================>.] - ETA: 0s - loss: 0.9583 - accuracy: 0.5640"
          ]
        },
        {
          "name": "stderr",
          "output_type": "stream",
          "text": [
            "\n",
            "\u001b[A"
          ]
        },
        {
          "name": "stdout",
          "output_type": "stream",
          "text": [
            "412/412 [==============================] - 25s 60ms/step - loss: 0.9582 - accuracy: 0.5640 - val_loss: 0.9163 - val_accuracy: 0.6226\n",
            "Epoch 110/400\n",
            "411/412 [============================>.] - ETA: 0s - loss: 0.9548 - accuracy: 0.5637"
          ]
        },
        {
          "name": "stderr",
          "output_type": "stream",
          "text": [
            "\n",
            "\u001b[A"
          ]
        },
        {
          "name": "stdout",
          "output_type": "stream",
          "text": [
            "412/412 [==============================] - 25s 60ms/step - loss: 0.9548 - accuracy: 0.5637 - val_loss: 0.9104 - val_accuracy: 0.6128\n",
            "Epoch 111/400\n",
            "412/412 [==============================] - ETA: 0s - loss: 0.9549 - accuracy: 0.5630"
          ]
        },
        {
          "name": "stderr",
          "output_type": "stream",
          "text": [
            "\n",
            "\u001b[A"
          ]
        },
        {
          "name": "stdout",
          "output_type": "stream",
          "text": [
            "412/412 [==============================] - 25s 61ms/step - loss: 0.9549 - accuracy: 0.5630 - val_loss: 0.9059 - val_accuracy: 0.6115\n",
            "Epoch 112/400\n",
            "411/412 [============================>.] - ETA: 0s - loss: 0.9533 - accuracy: 0.5670"
          ]
        },
        {
          "name": "stderr",
          "output_type": "stream",
          "text": [
            "\n",
            "\u001b[A"
          ]
        },
        {
          "name": "stdout",
          "output_type": "stream",
          "text": [
            "412/412 [==============================] - 25s 60ms/step - loss: 0.9532 - accuracy: 0.5670 - val_loss: 0.9072 - val_accuracy: 0.6131\n",
            "Epoch 113/400\n",
            "411/412 [============================>.] - ETA: 0s - loss: 0.9562 - accuracy: 0.5647"
          ]
        },
        {
          "name": "stderr",
          "output_type": "stream",
          "text": [
            "\n",
            "\u001b[A"
          ]
        },
        {
          "name": "stdout",
          "output_type": "stream",
          "text": [
            "412/412 [==============================] - 25s 60ms/step - loss: 0.9562 - accuracy: 0.5646 - val_loss: 0.9079 - val_accuracy: 0.6218\n",
            "Epoch 114/400\n",
            "411/412 [============================>.] - ETA: 0s - loss: 0.9553 - accuracy: 0.5676"
          ]
        },
        {
          "name": "stderr",
          "output_type": "stream",
          "text": [
            "\n",
            "\u001b[A"
          ]
        },
        {
          "name": "stdout",
          "output_type": "stream",
          "text": [
            "412/412 [==============================] - 25s 60ms/step - loss: 0.9553 - accuracy: 0.5676 - val_loss: 0.9066 - val_accuracy: 0.6110\n",
            "Epoch 115/400\n",
            "411/412 [============================>.] - ETA: 0s - loss: 0.9536 - accuracy: 0.5676"
          ]
        },
        {
          "name": "stderr",
          "output_type": "stream",
          "text": [
            "\n",
            "\u001b[A"
          ]
        },
        {
          "name": "stdout",
          "output_type": "stream",
          "text": [
            "412/412 [==============================] - 25s 61ms/step - loss: 0.9535 - accuracy: 0.5676 - val_loss: 0.9065 - val_accuracy: 0.6193\n",
            "Epoch 116/400\n",
            "411/412 [============================>.] - ETA: 0s - loss: 0.9559 - accuracy: 0.5634"
          ]
        },
        {
          "name": "stderr",
          "output_type": "stream",
          "text": [
            "\n",
            "\u001b[A"
          ]
        },
        {
          "name": "stdout",
          "output_type": "stream",
          "text": [
            "412/412 [==============================] - 25s 60ms/step - loss: 0.9558 - accuracy: 0.5635 - val_loss: 0.9078 - val_accuracy: 0.6209\n",
            "Epoch 117/400\n",
            "411/412 [============================>.] - ETA: 0s - loss: 0.9510 - accuracy: 0.5683"
          ]
        },
        {
          "name": "stderr",
          "output_type": "stream",
          "text": [
            "\n",
            "\u001b[A"
          ]
        },
        {
          "name": "stdout",
          "output_type": "stream",
          "text": [
            "412/412 [==============================] - 25s 61ms/step - loss: 0.9510 - accuracy: 0.5684 - val_loss: 0.9062 - val_accuracy: 0.6104\n",
            "Epoch 118/400\n",
            "411/412 [============================>.] - ETA: 0s - loss: 0.9558 - accuracy: 0.5699"
          ]
        },
        {
          "name": "stderr",
          "output_type": "stream",
          "text": [
            "\n",
            "\u001b[A"
          ]
        },
        {
          "name": "stdout",
          "output_type": "stream",
          "text": [
            "412/412 [==============================] - 25s 60ms/step - loss: 0.9558 - accuracy: 0.5699 - val_loss: 0.9081 - val_accuracy: 0.6217\n",
            "Epoch 119/400\n",
            "412/412 [==============================] - ETA: 0s - loss: 0.9510 - accuracy: 0.5685"
          ]
        },
        {
          "name": "stderr",
          "output_type": "stream",
          "text": [
            "\n",
            "\u001b[A"
          ]
        },
        {
          "name": "stdout",
          "output_type": "stream",
          "text": [
            "412/412 [==============================] - 25s 61ms/step - loss: 0.9510 - accuracy: 0.5685 - val_loss: 0.9064 - val_accuracy: 0.6096\n",
            "Epoch 120/400\n",
            "411/412 [============================>.] - ETA: 0s - loss: 0.9522 - accuracy: 0.5666"
          ]
        },
        {
          "name": "stderr",
          "output_type": "stream",
          "text": [
            "\n",
            "\u001b[A"
          ]
        },
        {
          "name": "stdout",
          "output_type": "stream",
          "text": [
            "412/412 [==============================] - 25s 61ms/step - loss: 0.9521 - accuracy: 0.5666 - val_loss: 0.9069 - val_accuracy: 0.6203\n",
            "Epoch 121/400\n",
            "411/412 [============================>.] - ETA: 0s - loss: 0.9513 - accuracy: 0.5710"
          ]
        },
        {
          "name": "stderr",
          "output_type": "stream",
          "text": [
            "\n",
            "\u001b[A"
          ]
        },
        {
          "name": "stdout",
          "output_type": "stream",
          "text": [
            "412/412 [==============================] - 25s 60ms/step - loss: 0.9513 - accuracy: 0.5710 - val_loss: 0.9065 - val_accuracy: 0.6167\n",
            "Epoch 122/400\n",
            "411/412 [============================>.] - ETA: 0s - loss: 0.9536 - accuracy: 0.5710"
          ]
        },
        {
          "name": "stderr",
          "output_type": "stream",
          "text": [
            "\n",
            "\u001b[A"
          ]
        },
        {
          "name": "stdout",
          "output_type": "stream",
          "text": [
            "412/412 [==============================] - 25s 60ms/step - loss: 0.9536 - accuracy: 0.5710 - val_loss: 0.9107 - val_accuracy: 0.6208\n",
            "Epoch 123/400\n",
            "411/412 [============================>.] - ETA: 0s - loss: 0.9504 - accuracy: 0.5712"
          ]
        },
        {
          "name": "stderr",
          "output_type": "stream",
          "text": [
            "\n",
            "\u001b[A"
          ]
        },
        {
          "name": "stdout",
          "output_type": "stream",
          "text": [
            "412/412 [==============================] - 25s 60ms/step - loss: 0.9503 - accuracy: 0.5712 - val_loss: 0.9065 - val_accuracy: 0.6216\n",
            "Epoch 124/400\n",
            "411/412 [============================>.] - ETA: 0s - loss: 0.9430 - accuracy: 0.5733"
          ]
        },
        {
          "name": "stderr",
          "output_type": "stream",
          "text": [
            "\n",
            "\u001b[A"
          ]
        },
        {
          "name": "stdout",
          "output_type": "stream",
          "text": [
            "412/412 [==============================] - 25s 60ms/step - loss: 0.9429 - accuracy: 0.5734 - val_loss: 0.9054 - val_accuracy: 0.6176\n",
            "Epoch 125/400\n",
            "411/412 [============================>.] - ETA: 0s - loss: 0.9512 - accuracy: 0.5706"
          ]
        },
        {
          "name": "stderr",
          "output_type": "stream",
          "text": [
            "\n",
            "\u001b[A"
          ]
        },
        {
          "name": "stdout",
          "output_type": "stream",
          "text": [
            "412/412 [==============================] - 25s 60ms/step - loss: 0.9512 - accuracy: 0.5705 - val_loss: 0.9078 - val_accuracy: 0.6105\n",
            "Epoch 126/400\n",
            "411/412 [============================>.] - ETA: 0s - loss: 0.9510 - accuracy: 0.5697"
          ]
        },
        {
          "name": "stderr",
          "output_type": "stream",
          "text": [
            "\n",
            "\u001b[A"
          ]
        },
        {
          "name": "stdout",
          "output_type": "stream",
          "text": [
            "412/412 [==============================] - 24s 58ms/step - loss: 0.9510 - accuracy: 0.5697 - val_loss: 0.9043 - val_accuracy: 0.6144\n",
            "Epoch 127/400\n",
            "411/412 [============================>.] - ETA: 0s - loss: 0.9498 - accuracy: 0.5704"
          ]
        },
        {
          "name": "stderr",
          "output_type": "stream",
          "text": [
            "\n",
            "\u001b[A"
          ]
        },
        {
          "name": "stdout",
          "output_type": "stream",
          "text": [
            "412/412 [==============================] - 24s 57ms/step - loss: 0.9498 - accuracy: 0.5704 - val_loss: 0.9063 - val_accuracy: 0.6111\n",
            "Epoch 128/400\n",
            "411/412 [============================>.] - ETA: 0s - loss: 0.9487 - accuracy: 0.5692"
          ]
        },
        {
          "name": "stderr",
          "output_type": "stream",
          "text": [
            "\n",
            "\u001b[A"
          ]
        },
        {
          "name": "stdout",
          "output_type": "stream",
          "text": [
            "412/412 [==============================] - 24s 57ms/step - loss: 0.9488 - accuracy: 0.5691 - val_loss: 0.9021 - val_accuracy: 0.6084\n",
            "Epoch 129/400\n",
            "411/412 [============================>.] - ETA: 0s - loss: 0.9529 - accuracy: 0.5736"
          ]
        },
        {
          "name": "stderr",
          "output_type": "stream",
          "text": [
            "\n",
            "\u001b[A"
          ]
        },
        {
          "name": "stdout",
          "output_type": "stream",
          "text": [
            "412/412 [==============================] - 24s 57ms/step - loss: 0.9531 - accuracy: 0.5735 - val_loss: 0.9058 - val_accuracy: 0.6133\n",
            "Epoch 130/400\n",
            "411/412 [============================>.] - ETA: 0s - loss: 0.9472 - accuracy: 0.5701"
          ]
        },
        {
          "name": "stderr",
          "output_type": "stream",
          "text": [
            "\n",
            "\u001b[A"
          ]
        },
        {
          "name": "stdout",
          "output_type": "stream",
          "text": [
            "412/412 [==============================] - 24s 57ms/step - loss: 0.9471 - accuracy: 0.5701 - val_loss: 0.9031 - val_accuracy: 0.6156\n",
            "Epoch 131/400\n",
            "411/412 [============================>.] - ETA: 0s - loss: 0.9486 - accuracy: 0.5728"
          ]
        },
        {
          "name": "stderr",
          "output_type": "stream",
          "text": [
            "\n",
            "\u001b[A"
          ]
        },
        {
          "name": "stdout",
          "output_type": "stream",
          "text": [
            "412/412 [==============================] - 24s 57ms/step - loss: 0.9487 - accuracy: 0.5728 - val_loss: 0.9055 - val_accuracy: 0.6016\n",
            "Epoch 132/400\n",
            "411/412 [============================>.] - ETA: 0s - loss: 0.9466 - accuracy: 0.5759"
          ]
        },
        {
          "name": "stderr",
          "output_type": "stream",
          "text": [
            "\n",
            "\u001b[A"
          ]
        },
        {
          "name": "stdout",
          "output_type": "stream",
          "text": [
            "412/412 [==============================] - 24s 57ms/step - loss: 0.9466 - accuracy: 0.5758 - val_loss: 0.9064 - val_accuracy: 0.6044\n",
            "Epoch 133/400\n",
            "411/412 [============================>.] - ETA: 0s - loss: 0.9429 - accuracy: 0.5766"
          ]
        },
        {
          "name": "stderr",
          "output_type": "stream",
          "text": [
            "\n",
            "\u001b[A"
          ]
        },
        {
          "name": "stdout",
          "output_type": "stream",
          "text": [
            "412/412 [==============================] - 24s 57ms/step - loss: 0.9429 - accuracy: 0.5766 - val_loss: 0.9027 - val_accuracy: 0.6046\n",
            "Epoch 134/400\n",
            "411/412 [============================>.] - ETA: 0s - loss: 0.9490 - accuracy: 0.5721"
          ]
        },
        {
          "name": "stderr",
          "output_type": "stream",
          "text": [
            "\n",
            "\u001b[A"
          ]
        },
        {
          "name": "stdout",
          "output_type": "stream",
          "text": [
            "412/412 [==============================] - 24s 57ms/step - loss: 0.9490 - accuracy: 0.5721 - val_loss: 0.9086 - val_accuracy: 0.6176\n",
            "Epoch 135/400\n",
            "411/412 [============================>.] - ETA: 0s - loss: 0.9490 - accuracy: 0.5731"
          ]
        },
        {
          "name": "stderr",
          "output_type": "stream",
          "text": [
            "\n",
            "\u001b[A"
          ]
        },
        {
          "name": "stdout",
          "output_type": "stream",
          "text": [
            "412/412 [==============================] - 24s 57ms/step - loss: 0.9490 - accuracy: 0.5731 - val_loss: 0.9053 - val_accuracy: 0.6105\n",
            "Epoch 136/400\n",
            "411/412 [============================>.] - ETA: 0s - loss: 0.9456 - accuracy: 0.5765"
          ]
        },
        {
          "name": "stderr",
          "output_type": "stream",
          "text": [
            "\n",
            "\u001b[A"
          ]
        },
        {
          "name": "stdout",
          "output_type": "stream",
          "text": [
            "412/412 [==============================] - 24s 57ms/step - loss: 0.9457 - accuracy: 0.5764 - val_loss: 0.9044 - val_accuracy: 0.6155\n",
            "Epoch 137/400\n",
            "411/412 [============================>.] - ETA: 0s - loss: 0.9468 - accuracy: 0.5731"
          ]
        },
        {
          "name": "stderr",
          "output_type": "stream",
          "text": [
            "\n",
            "\u001b[A"
          ]
        },
        {
          "name": "stdout",
          "output_type": "stream",
          "text": [
            "412/412 [==============================] - 24s 57ms/step - loss: 0.9467 - accuracy: 0.5732 - val_loss: 0.9065 - val_accuracy: 0.6133\n",
            "Epoch 138/400\n",
            "411/412 [============================>.] - ETA: 0s - loss: 0.9447 - accuracy: 0.5742"
          ]
        },
        {
          "name": "stderr",
          "output_type": "stream",
          "text": [
            "\n",
            "\u001b[A"
          ]
        },
        {
          "name": "stdout",
          "output_type": "stream",
          "text": [
            "412/412 [==============================] - 24s 57ms/step - loss: 0.9446 - accuracy: 0.5742 - val_loss: 0.9068 - val_accuracy: 0.6132\n",
            "Epoch 139/400\n",
            "411/412 [============================>.] - ETA: 0s - loss: 0.9461 - accuracy: 0.5771"
          ]
        },
        {
          "name": "stderr",
          "output_type": "stream",
          "text": [
            "\n",
            "\u001b[A"
          ]
        },
        {
          "name": "stdout",
          "output_type": "stream",
          "text": [
            "412/412 [==============================] - 24s 57ms/step - loss: 0.9460 - accuracy: 0.5771 - val_loss: 0.9003 - val_accuracy: 0.6131\n",
            "Epoch 140/400\n",
            "411/412 [============================>.] - ETA: 0s - loss: 0.9458 - accuracy: 0.5756"
          ]
        },
        {
          "name": "stderr",
          "output_type": "stream",
          "text": [
            "\n",
            "\u001b[A"
          ]
        },
        {
          "name": "stdout",
          "output_type": "stream",
          "text": [
            "412/412 [==============================] - 24s 57ms/step - loss: 0.9458 - accuracy: 0.5757 - val_loss: 0.9052 - val_accuracy: 0.6033\n",
            "Epoch 141/400\n",
            "412/412 [==============================] - ETA: 0s - loss: 0.9409 - accuracy: 0.5756"
          ]
        },
        {
          "name": "stderr",
          "output_type": "stream",
          "text": [
            "\n",
            "\u001b[A"
          ]
        },
        {
          "name": "stdout",
          "output_type": "stream",
          "text": [
            "412/412 [==============================] - 24s 57ms/step - loss: 0.9409 - accuracy: 0.5756 - val_loss: 0.8992 - val_accuracy: 0.6124\n",
            "Epoch 142/400\n",
            "411/412 [============================>.] - ETA: 0s - loss: 0.9463 - accuracy: 0.5742"
          ]
        },
        {
          "name": "stderr",
          "output_type": "stream",
          "text": [
            "\n",
            "\u001b[A"
          ]
        },
        {
          "name": "stdout",
          "output_type": "stream",
          "text": [
            "412/412 [==============================] - 24s 57ms/step - loss: 0.9463 - accuracy: 0.5742 - val_loss: 0.9030 - val_accuracy: 0.6114\n",
            "Epoch 143/400\n",
            "411/412 [============================>.] - ETA: 0s - loss: 0.9479 - accuracy: 0.5747"
          ]
        },
        {
          "name": "stderr",
          "output_type": "stream",
          "text": [
            "\n",
            "\u001b[A"
          ]
        },
        {
          "name": "stdout",
          "output_type": "stream",
          "text": [
            "412/412 [==============================] - 24s 57ms/step - loss: 0.9479 - accuracy: 0.5747 - val_loss: 0.9086 - val_accuracy: 0.6218\n",
            "Epoch 144/400\n",
            "411/412 [============================>.] - ETA: 0s - loss: 0.9448 - accuracy: 0.5761"
          ]
        },
        {
          "name": "stderr",
          "output_type": "stream",
          "text": [
            "\n",
            "\u001b[A"
          ]
        },
        {
          "name": "stdout",
          "output_type": "stream",
          "text": [
            "412/412 [==============================] - 24s 57ms/step - loss: 0.9447 - accuracy: 0.5761 - val_loss: 0.9053 - val_accuracy: 0.6111\n",
            "Epoch 145/400\n",
            "411/412 [============================>.] - ETA: 0s - loss: 0.9450 - accuracy: 0.5749"
          ]
        },
        {
          "name": "stderr",
          "output_type": "stream",
          "text": [
            "\n",
            "\u001b[A"
          ]
        },
        {
          "name": "stdout",
          "output_type": "stream",
          "text": [
            "412/412 [==============================] - 24s 58ms/step - loss: 0.9451 - accuracy: 0.5749 - val_loss: 0.9030 - val_accuracy: 0.6048\n",
            "Epoch 146/400\n",
            "411/412 [============================>.] - ETA: 0s - loss: 0.9442 - accuracy: 0.5735"
          ]
        },
        {
          "name": "stderr",
          "output_type": "stream",
          "text": [
            "\n",
            "\u001b[A"
          ]
        },
        {
          "name": "stdout",
          "output_type": "stream",
          "text": [
            "412/412 [==============================] - 24s 57ms/step - loss: 0.9442 - accuracy: 0.5735 - val_loss: 0.9019 - val_accuracy: 0.6109\n",
            "Epoch 147/400\n",
            "411/412 [============================>.] - ETA: 0s - loss: 0.9440 - accuracy: 0.5762"
          ]
        },
        {
          "name": "stderr",
          "output_type": "stream",
          "text": [
            "\n",
            "\u001b[A"
          ]
        },
        {
          "name": "stdout",
          "output_type": "stream",
          "text": [
            "412/412 [==============================] - 24s 58ms/step - loss: 0.9439 - accuracy: 0.5763 - val_loss: 0.9000 - val_accuracy: 0.6120\n",
            "Epoch 148/400\n",
            "411/412 [============================>.] - ETA: 0s - loss: 0.9433 - accuracy: 0.5775"
          ]
        },
        {
          "name": "stderr",
          "output_type": "stream",
          "text": [
            "\n",
            "\u001b[A"
          ]
        },
        {
          "name": "stdout",
          "output_type": "stream",
          "text": [
            "412/412 [==============================] - 25s 60ms/step - loss: 0.9432 - accuracy: 0.5775 - val_loss: 0.9054 - val_accuracy: 0.5946\n",
            "Epoch 149/400\n",
            "411/412 [============================>.] - ETA: 0s - loss: 0.9429 - accuracy: 0.5770"
          ]
        },
        {
          "name": "stderr",
          "output_type": "stream",
          "text": [
            "\n",
            "\u001b[A"
          ]
        },
        {
          "name": "stdout",
          "output_type": "stream",
          "text": [
            "412/412 [==============================] - 24s 57ms/step - loss: 0.9428 - accuracy: 0.5770 - val_loss: 0.9020 - val_accuracy: 0.6065\n",
            "Epoch 150/400\n",
            "411/412 [============================>.] - ETA: 0s - loss: 0.9437 - accuracy: 0.5762"
          ]
        },
        {
          "name": "stderr",
          "output_type": "stream",
          "text": [
            "\n",
            "\u001b[A"
          ]
        },
        {
          "name": "stdout",
          "output_type": "stream",
          "text": [
            "412/412 [==============================] - 24s 57ms/step - loss: 0.9437 - accuracy: 0.5762 - val_loss: 0.9047 - val_accuracy: 0.6091\n",
            "Epoch 151/400\n",
            "411/412 [============================>.] - ETA: 0s - loss: 0.9401 - accuracy: 0.5787"
          ]
        },
        {
          "name": "stderr",
          "output_type": "stream",
          "text": [
            "\n",
            "\u001b[A"
          ]
        },
        {
          "name": "stdout",
          "output_type": "stream",
          "text": [
            "412/412 [==============================] - 24s 57ms/step - loss: 0.9402 - accuracy: 0.5787 - val_loss: 0.8979 - val_accuracy: 0.6125\n",
            "Epoch 152/400\n",
            "411/412 [============================>.] - ETA: 0s - loss: 0.9413 - accuracy: 0.5779"
          ]
        },
        {
          "name": "stderr",
          "output_type": "stream",
          "text": [
            "\n",
            "\u001b[A"
          ]
        },
        {
          "name": "stdout",
          "output_type": "stream",
          "text": [
            "412/412 [==============================] - 24s 57ms/step - loss: 0.9413 - accuracy: 0.5778 - val_loss: 0.9021 - val_accuracy: 0.6136\n",
            "Epoch 153/400\n",
            "411/412 [============================>.] - ETA: 0s - loss: 0.9405 - accuracy: 0.5784"
          ]
        },
        {
          "name": "stderr",
          "output_type": "stream",
          "text": [
            "\n",
            "\u001b[A"
          ]
        },
        {
          "name": "stdout",
          "output_type": "stream",
          "text": [
            "412/412 [==============================] - 24s 57ms/step - loss: 0.9406 - accuracy: 0.5784 - val_loss: 0.9024 - val_accuracy: 0.6065\n",
            "Epoch 154/400\n",
            "411/412 [============================>.] - ETA: 0s - loss: 0.9405 - accuracy: 0.5774"
          ]
        },
        {
          "name": "stderr",
          "output_type": "stream",
          "text": [
            "\n",
            "\u001b[A"
          ]
        },
        {
          "name": "stdout",
          "output_type": "stream",
          "text": [
            "412/412 [==============================] - 24s 57ms/step - loss: 0.9406 - accuracy: 0.5774 - val_loss: 0.9007 - val_accuracy: 0.6074\n",
            "Epoch 155/400\n",
            "411/412 [============================>.] - ETA: 0s - loss: 0.9404 - accuracy: 0.5789"
          ]
        },
        {
          "name": "stderr",
          "output_type": "stream",
          "text": [
            "\n",
            "\u001b[A"
          ]
        },
        {
          "name": "stdout",
          "output_type": "stream",
          "text": [
            "412/412 [==============================] - 24s 57ms/step - loss: 0.9404 - accuracy: 0.5790 - val_loss: 0.9011 - val_accuracy: 0.6163\n",
            "Epoch 156/400\n",
            "411/412 [============================>.] - ETA: 0s - loss: 0.9418 - accuracy: 0.5797"
          ]
        },
        {
          "name": "stderr",
          "output_type": "stream",
          "text": [
            "\n",
            "\u001b[A"
          ]
        },
        {
          "name": "stdout",
          "output_type": "stream",
          "text": [
            "412/412 [==============================] - 24s 57ms/step - loss: 0.9417 - accuracy: 0.5797 - val_loss: 0.8989 - val_accuracy: 0.6133\n",
            "Epoch 157/400\n",
            "411/412 [============================>.] - ETA: 0s - loss: 0.9402 - accuracy: 0.5796"
          ]
        },
        {
          "name": "stderr",
          "output_type": "stream",
          "text": [
            "\n",
            "\u001b[A"
          ]
        },
        {
          "name": "stdout",
          "output_type": "stream",
          "text": [
            "412/412 [==============================] - 24s 57ms/step - loss: 0.9402 - accuracy: 0.5796 - val_loss: 0.8962 - val_accuracy: 0.6104\n",
            "Epoch 158/400\n",
            "411/412 [============================>.] - ETA: 0s - loss: 0.9353 - accuracy: 0.5822"
          ]
        },
        {
          "name": "stderr",
          "output_type": "stream",
          "text": [
            "\n",
            "\u001b[A"
          ]
        },
        {
          "name": "stdout",
          "output_type": "stream",
          "text": [
            "412/412 [==============================] - 24s 57ms/step - loss: 0.9352 - accuracy: 0.5823 - val_loss: 0.9046 - val_accuracy: 0.6220\n",
            "Epoch 159/400\n",
            "411/412 [============================>.] - ETA: 0s - loss: 0.9406 - accuracy: 0.5822"
          ]
        },
        {
          "name": "stderr",
          "output_type": "stream",
          "text": [
            "\n",
            "\u001b[A"
          ]
        },
        {
          "name": "stdout",
          "output_type": "stream",
          "text": [
            "412/412 [==============================] - 24s 57ms/step - loss: 0.9406 - accuracy: 0.5822 - val_loss: 0.9055 - val_accuracy: 0.6173\n",
            "Epoch 160/400\n",
            "411/412 [============================>.] - ETA: 0s - loss: 0.9392 - accuracy: 0.5802"
          ]
        },
        {
          "name": "stderr",
          "output_type": "stream",
          "text": [
            "\n",
            "\u001b[A"
          ]
        },
        {
          "name": "stdout",
          "output_type": "stream",
          "text": [
            "412/412 [==============================] - 24s 57ms/step - loss: 0.9393 - accuracy: 0.5802 - val_loss: 0.9011 - val_accuracy: 0.6056\n",
            "Epoch 161/400\n",
            "411/412 [============================>.] - ETA: 0s - loss: 0.9442 - accuracy: 0.5801"
          ]
        },
        {
          "name": "stderr",
          "output_type": "stream",
          "text": [
            "\n",
            "\u001b[A"
          ]
        },
        {
          "name": "stdout",
          "output_type": "stream",
          "text": [
            "412/412 [==============================] - 24s 57ms/step - loss: 0.9442 - accuracy: 0.5800 - val_loss: 0.9000 - val_accuracy: 0.6165\n",
            "Epoch 162/400\n",
            "411/412 [============================>.] - ETA: 0s - loss: 0.9387 - accuracy: 0.5817"
          ]
        },
        {
          "name": "stderr",
          "output_type": "stream",
          "text": [
            "\n",
            "\u001b[A"
          ]
        },
        {
          "name": "stdout",
          "output_type": "stream",
          "text": [
            "412/412 [==============================] - 25s 60ms/step - loss: 0.9387 - accuracy: 0.5816 - val_loss: 0.9016 - val_accuracy: 0.6120\n",
            "Epoch 163/400\n",
            "411/412 [============================>.] - ETA: 0s - loss: 0.9382 - accuracy: 0.5818"
          ]
        },
        {
          "name": "stderr",
          "output_type": "stream",
          "text": [
            "\n",
            "\u001b[A"
          ]
        },
        {
          "name": "stdout",
          "output_type": "stream",
          "text": [
            "412/412 [==============================] - 25s 61ms/step - loss: 0.9383 - accuracy: 0.5817 - val_loss: 0.8997 - val_accuracy: 0.6196\n",
            "Epoch 164/400\n",
            "411/412 [============================>.] - ETA: 0s - loss: 0.9406 - accuracy: 0.5818"
          ]
        },
        {
          "name": "stderr",
          "output_type": "stream",
          "text": [
            "\n",
            "\u001b[A"
          ]
        },
        {
          "name": "stdout",
          "output_type": "stream",
          "text": [
            "412/412 [==============================] - 26s 62ms/step - loss: 0.9406 - accuracy: 0.5818 - val_loss: 0.9050 - val_accuracy: 0.6077\n",
            "Epoch 165/400\n",
            "411/412 [============================>.] - ETA: 0s - loss: 0.9403 - accuracy: 0.5792"
          ]
        },
        {
          "name": "stderr",
          "output_type": "stream",
          "text": [
            "\n",
            "\u001b[A"
          ]
        },
        {
          "name": "stdout",
          "output_type": "stream",
          "text": [
            "412/412 [==============================] - 25s 61ms/step - loss: 0.9402 - accuracy: 0.5791 - val_loss: 0.9025 - val_accuracy: 0.6035\n",
            "Epoch 166/400\n",
            "412/412 [==============================] - ETA: 0s - loss: 0.9380 - accuracy: 0.5827"
          ]
        },
        {
          "name": "stderr",
          "output_type": "stream",
          "text": [
            "\n",
            "\u001b[A"
          ]
        },
        {
          "name": "stdout",
          "output_type": "stream",
          "text": [
            "412/412 [==============================] - 25s 60ms/step - loss: 0.9380 - accuracy: 0.5827 - val_loss: 0.8997 - val_accuracy: 0.6089\n",
            "Epoch 167/400\n",
            "411/412 [============================>.] - ETA: 0s - loss: 0.9373 - accuracy: 0.5834"
          ]
        },
        {
          "name": "stderr",
          "output_type": "stream",
          "text": [
            "\n",
            "\u001b[A"
          ]
        },
        {
          "name": "stdout",
          "output_type": "stream",
          "text": [
            "412/412 [==============================] - 25s 60ms/step - loss: 0.9373 - accuracy: 0.5834 - val_loss: 0.9009 - val_accuracy: 0.6101\n",
            "Epoch 168/400\n",
            "411/412 [============================>.] - ETA: 0s - loss: 0.9408 - accuracy: 0.5823"
          ]
        },
        {
          "name": "stderr",
          "output_type": "stream",
          "text": [
            "\n",
            "\u001b[A"
          ]
        },
        {
          "name": "stdout",
          "output_type": "stream",
          "text": [
            "412/412 [==============================] - 25s 60ms/step - loss: 0.9409 - accuracy: 0.5822 - val_loss: 0.9021 - val_accuracy: 0.6149\n",
            "Epoch 169/400\n",
            "411/412 [============================>.] - ETA: 0s - loss: 0.9395 - accuracy: 0.5769"
          ]
        },
        {
          "name": "stderr",
          "output_type": "stream",
          "text": [
            "\n",
            "\u001b[A"
          ]
        },
        {
          "name": "stdout",
          "output_type": "stream",
          "text": [
            "412/412 [==============================] - 25s 60ms/step - loss: 0.9396 - accuracy: 0.5768 - val_loss: 0.9005 - val_accuracy: 0.6222\n",
            "Epoch 170/400\n",
            "411/412 [============================>.] - ETA: 0s - loss: 0.9378 - accuracy: 0.5819"
          ]
        },
        {
          "name": "stderr",
          "output_type": "stream",
          "text": [
            "\n",
            "\u001b[A"
          ]
        },
        {
          "name": "stdout",
          "output_type": "stream",
          "text": [
            "412/412 [==============================] - 25s 61ms/step - loss: 0.9378 - accuracy: 0.5819 - val_loss: 0.9026 - val_accuracy: 0.5994\n",
            "Epoch 171/400\n",
            "411/412 [============================>.] - ETA: 0s - loss: 0.9368 - accuracy: 0.5838"
          ]
        },
        {
          "name": "stderr",
          "output_type": "stream",
          "text": [
            "\n",
            "\u001b[A"
          ]
        },
        {
          "name": "stdout",
          "output_type": "stream",
          "text": [
            "412/412 [==============================] - 25s 60ms/step - loss: 0.9368 - accuracy: 0.5838 - val_loss: 0.9018 - val_accuracy: 0.6039\n",
            "Epoch 172/400\n",
            "411/412 [============================>.] - ETA: 0s - loss: 0.9356 - accuracy: 0.5834"
          ]
        },
        {
          "name": "stderr",
          "output_type": "stream",
          "text": [
            "\n",
            "\u001b[A"
          ]
        },
        {
          "name": "stdout",
          "output_type": "stream",
          "text": [
            "412/412 [==============================] - 25s 60ms/step - loss: 0.9357 - accuracy: 0.5833 - val_loss: 0.8957 - val_accuracy: 0.6136\n",
            "Epoch 173/400\n",
            "411/412 [============================>.] - ETA: 0s - loss: 0.9361 - accuracy: 0.5835"
          ]
        },
        {
          "name": "stderr",
          "output_type": "stream",
          "text": [
            "\n",
            "\u001b[A"
          ]
        },
        {
          "name": "stdout",
          "output_type": "stream",
          "text": [
            "412/412 [==============================] - 25s 61ms/step - loss: 0.9363 - accuracy: 0.5834 - val_loss: 0.9041 - val_accuracy: 0.5959\n",
            "Epoch 174/400\n",
            "411/412 [============================>.] - ETA: 0s - loss: 0.9391 - accuracy: 0.5841"
          ]
        },
        {
          "name": "stderr",
          "output_type": "stream",
          "text": [
            "\n",
            "\u001b[A"
          ]
        },
        {
          "name": "stdout",
          "output_type": "stream",
          "text": [
            "412/412 [==============================] - 24s 58ms/step - loss: 0.9392 - accuracy: 0.5841 - val_loss: 0.8988 - val_accuracy: 0.6086\n",
            "Epoch 175/400\n",
            "412/412 [==============================] - ETA: 0s - loss: 0.9351 - accuracy: 0.5834"
          ]
        },
        {
          "name": "stderr",
          "output_type": "stream",
          "text": [
            "\n",
            "\u001b[A"
          ]
        },
        {
          "name": "stdout",
          "output_type": "stream",
          "text": [
            "412/412 [==============================] - 25s 59ms/step - loss: 0.9351 - accuracy: 0.5834 - val_loss: 0.9015 - val_accuracy: 0.6006\n",
            "Epoch 176/400\n",
            "157/412 [==========>...................] - ETA: 14s - loss: 0.9356 - accuracy: 0.5809"
          ]
        },
        {
          "ename": "KeyboardInterrupt",
          "evalue": "",
          "output_type": "error",
          "traceback": [
            "\u001b[1;31m---------------------------------------------------------------------------\u001b[0m",
            "\u001b[1;31mKeyboardInterrupt\u001b[0m                         Traceback (most recent call last)",
            "\u001b[1;32mc:\\Users\\Johannes\\Desktop\\PythonProjects\\QuantShit\\python-crypto-ai\\modelTrainPreClassified.ipynb Cell 46\u001b[0m in \u001b[0;36m8\n\u001b[0;32m     <a href='vscode-notebook-cell:/c%3A/Users/Johannes/Desktop/PythonProjects/QuantShit/python-crypto-ai/modelTrainPreClassified.ipynb#X63sZmlsZQ%3D%3D?line=82'>83</a>\u001b[0m     json\u001b[39m.\u001b[39mdump(data, json_file, indent\u001b[39m=\u001b[39m\u001b[39m4\u001b[39m)\n\u001b[0;32m     <a href='vscode-notebook-cell:/c%3A/Users/Johannes/Desktop/PythonProjects/QuantShit/python-crypto-ai/modelTrainPreClassified.ipynb#X63sZmlsZQ%3D%3D?line=87'>88</a>\u001b[0m \u001b[39m# train\u001b[39;00m\n\u001b[1;32m---> <a href='vscode-notebook-cell:/c%3A/Users/Johannes/Desktop/PythonProjects/QuantShit/python-crypto-ai/modelTrainPreClassified.ipynb#X63sZmlsZQ%3D%3D?line=88'>89</a>\u001b[0m history \u001b[39m=\u001b[39m model\u001b[39m.\u001b[39;49mfit(\n\u001b[0;32m     <a href='vscode-notebook-cell:/c%3A/Users/Johannes/Desktop/PythonProjects/QuantShit/python-crypto-ai/modelTrainPreClassified.ipynb#X63sZmlsZQ%3D%3D?line=89'>90</a>\u001b[0m   train_x, train_y,\n\u001b[0;32m     <a href='vscode-notebook-cell:/c%3A/Users/Johannes/Desktop/PythonProjects/QuantShit/python-crypto-ai/modelTrainPreClassified.ipynb#X63sZmlsZQ%3D%3D?line=90'>91</a>\u001b[0m   batch_size \u001b[39m=\u001b[39;49m batchSize,\n\u001b[0;32m     <a href='vscode-notebook-cell:/c%3A/Users/Johannes/Desktop/PythonProjects/QuantShit/python-crypto-ai/modelTrainPreClassified.ipynb#X63sZmlsZQ%3D%3D?line=91'>92</a>\u001b[0m   epochs \u001b[39m=\u001b[39;49m EPOCHS,\n\u001b[0;32m     <a href='vscode-notebook-cell:/c%3A/Users/Johannes/Desktop/PythonProjects/QuantShit/python-crypto-ai/modelTrainPreClassified.ipynb#X63sZmlsZQ%3D%3D?line=92'>93</a>\u001b[0m   validation_data\u001b[39m=\u001b[39;49m(validation_x, validation_y),\n\u001b[0;32m     <a href='vscode-notebook-cell:/c%3A/Users/Johannes/Desktop/PythonProjects/QuantShit/python-crypto-ai/modelTrainPreClassified.ipynb#X63sZmlsZQ%3D%3D?line=93'>94</a>\u001b[0m   callbacks\u001b[39m=\u001b[39;49m[checkpoint, TqdmCallback(verbose\u001b[39m=\u001b[39;49m\u001b[39m0\u001b[39;49m), tensorboard_callback])\n\u001b[0;32m     <a href='vscode-notebook-cell:/c%3A/Users/Johannes/Desktop/PythonProjects/QuantShit/python-crypto-ai/modelTrainPreClassified.ipynb#X63sZmlsZQ%3D%3D?line=94'>95</a>\u001b[0m   \u001b[39m#callbacks=[checkpoint])\u001b[39;00m\n",
            "File \u001b[1;32mc:\\Users\\Johannes\\miniconda3\\envs\\Quant\\lib\\site-packages\\keras\\utils\\traceback_utils.py:65\u001b[0m, in \u001b[0;36mfilter_traceback.<locals>.error_handler\u001b[1;34m(*args, **kwargs)\u001b[0m\n\u001b[0;32m     63\u001b[0m filtered_tb \u001b[39m=\u001b[39m \u001b[39mNone\u001b[39;00m\n\u001b[0;32m     64\u001b[0m \u001b[39mtry\u001b[39;00m:\n\u001b[1;32m---> 65\u001b[0m     \u001b[39mreturn\u001b[39;00m fn(\u001b[39m*\u001b[39margs, \u001b[39m*\u001b[39m\u001b[39m*\u001b[39mkwargs)\n\u001b[0;32m     66\u001b[0m \u001b[39mexcept\u001b[39;00m \u001b[39mException\u001b[39;00m \u001b[39mas\u001b[39;00m e:\n\u001b[0;32m     67\u001b[0m     filtered_tb \u001b[39m=\u001b[39m _process_traceback_frames(e\u001b[39m.\u001b[39m__traceback__)\n",
            "File \u001b[1;32mc:\\Users\\Johannes\\miniconda3\\envs\\Quant\\lib\\site-packages\\keras\\engine\\training.py:1564\u001b[0m, in \u001b[0;36mModel.fit\u001b[1;34m(self, x, y, batch_size, epochs, verbose, callbacks, validation_split, validation_data, shuffle, class_weight, sample_weight, initial_epoch, steps_per_epoch, validation_steps, validation_batch_size, validation_freq, max_queue_size, workers, use_multiprocessing)\u001b[0m\n\u001b[0;32m   1556\u001b[0m \u001b[39mwith\u001b[39;00m tf\u001b[39m.\u001b[39mprofiler\u001b[39m.\u001b[39mexperimental\u001b[39m.\u001b[39mTrace(\n\u001b[0;32m   1557\u001b[0m     \u001b[39m\"\u001b[39m\u001b[39mtrain\u001b[39m\u001b[39m\"\u001b[39m,\n\u001b[0;32m   1558\u001b[0m     epoch_num\u001b[39m=\u001b[39mepoch,\n\u001b[1;32m   (...)\u001b[0m\n\u001b[0;32m   1561\u001b[0m     _r\u001b[39m=\u001b[39m\u001b[39m1\u001b[39m,\n\u001b[0;32m   1562\u001b[0m ):\n\u001b[0;32m   1563\u001b[0m     callbacks\u001b[39m.\u001b[39mon_train_batch_begin(step)\n\u001b[1;32m-> 1564\u001b[0m     tmp_logs \u001b[39m=\u001b[39m \u001b[39mself\u001b[39;49m\u001b[39m.\u001b[39;49mtrain_function(iterator)\n\u001b[0;32m   1565\u001b[0m     \u001b[39mif\u001b[39;00m data_handler\u001b[39m.\u001b[39mshould_sync:\n\u001b[0;32m   1566\u001b[0m         context\u001b[39m.\u001b[39masync_wait()\n",
            "File \u001b[1;32mc:\\Users\\Johannes\\miniconda3\\envs\\Quant\\lib\\site-packages\\tensorflow\\python\\util\\traceback_utils.py:150\u001b[0m, in \u001b[0;36mfilter_traceback.<locals>.error_handler\u001b[1;34m(*args, **kwargs)\u001b[0m\n\u001b[0;32m    148\u001b[0m filtered_tb \u001b[39m=\u001b[39m \u001b[39mNone\u001b[39;00m\n\u001b[0;32m    149\u001b[0m \u001b[39mtry\u001b[39;00m:\n\u001b[1;32m--> 150\u001b[0m   \u001b[39mreturn\u001b[39;00m fn(\u001b[39m*\u001b[39margs, \u001b[39m*\u001b[39m\u001b[39m*\u001b[39mkwargs)\n\u001b[0;32m    151\u001b[0m \u001b[39mexcept\u001b[39;00m \u001b[39mException\u001b[39;00m \u001b[39mas\u001b[39;00m e:\n\u001b[0;32m    152\u001b[0m   filtered_tb \u001b[39m=\u001b[39m _process_traceback_frames(e\u001b[39m.\u001b[39m__traceback__)\n",
            "File \u001b[1;32mc:\\Users\\Johannes\\miniconda3\\envs\\Quant\\lib\\site-packages\\tensorflow\\python\\eager\\def_function.py:915\u001b[0m, in \u001b[0;36mFunction.__call__\u001b[1;34m(self, *args, **kwds)\u001b[0m\n\u001b[0;32m    912\u001b[0m compiler \u001b[39m=\u001b[39m \u001b[39m\"\u001b[39m\u001b[39mxla\u001b[39m\u001b[39m\"\u001b[39m \u001b[39mif\u001b[39;00m \u001b[39mself\u001b[39m\u001b[39m.\u001b[39m_jit_compile \u001b[39melse\u001b[39;00m \u001b[39m\"\u001b[39m\u001b[39mnonXla\u001b[39m\u001b[39m\"\u001b[39m\n\u001b[0;32m    914\u001b[0m \u001b[39mwith\u001b[39;00m OptionalXlaContext(\u001b[39mself\u001b[39m\u001b[39m.\u001b[39m_jit_compile):\n\u001b[1;32m--> 915\u001b[0m   result \u001b[39m=\u001b[39m \u001b[39mself\u001b[39m\u001b[39m.\u001b[39m_call(\u001b[39m*\u001b[39margs, \u001b[39m*\u001b[39m\u001b[39m*\u001b[39mkwds)\n\u001b[0;32m    917\u001b[0m new_tracing_count \u001b[39m=\u001b[39m \u001b[39mself\u001b[39m\u001b[39m.\u001b[39mexperimental_get_tracing_count()\n\u001b[0;32m    918\u001b[0m without_tracing \u001b[39m=\u001b[39m (tracing_count \u001b[39m==\u001b[39m new_tracing_count)\n",
            "File \u001b[1;32mc:\\Users\\Johannes\\miniconda3\\envs\\Quant\\lib\\site-packages\\tensorflow\\python\\eager\\def_function.py:947\u001b[0m, in \u001b[0;36mFunction._call\u001b[1;34m(self, *args, **kwds)\u001b[0m\n\u001b[0;32m    944\u001b[0m   \u001b[39mself\u001b[39m\u001b[39m.\u001b[39m_lock\u001b[39m.\u001b[39mrelease()\n\u001b[0;32m    945\u001b[0m   \u001b[39m# In this case we have created variables on the first call, so we run the\u001b[39;00m\n\u001b[0;32m    946\u001b[0m   \u001b[39m# defunned version which is guaranteed to never create variables.\u001b[39;00m\n\u001b[1;32m--> 947\u001b[0m   \u001b[39mreturn\u001b[39;00m \u001b[39mself\u001b[39m\u001b[39m.\u001b[39m_stateless_fn(\u001b[39m*\u001b[39margs, \u001b[39m*\u001b[39m\u001b[39m*\u001b[39mkwds)  \u001b[39m# pylint: disable=not-callable\u001b[39;00m\n\u001b[0;32m    948\u001b[0m \u001b[39melif\u001b[39;00m \u001b[39mself\u001b[39m\u001b[39m.\u001b[39m_stateful_fn \u001b[39mis\u001b[39;00m \u001b[39mnot\u001b[39;00m \u001b[39mNone\u001b[39;00m:\n\u001b[0;32m    949\u001b[0m   \u001b[39m# Release the lock early so that multiple threads can perform the call\u001b[39;00m\n\u001b[0;32m    950\u001b[0m   \u001b[39m# in parallel.\u001b[39;00m\n\u001b[0;32m    951\u001b[0m   \u001b[39mself\u001b[39m\u001b[39m.\u001b[39m_lock\u001b[39m.\u001b[39mrelease()\n",
            "File \u001b[1;32mc:\\Users\\Johannes\\miniconda3\\envs\\Quant\\lib\\site-packages\\tensorflow\\python\\eager\\function.py:2496\u001b[0m, in \u001b[0;36mFunction.__call__\u001b[1;34m(self, *args, **kwargs)\u001b[0m\n\u001b[0;32m   2493\u001b[0m \u001b[39mwith\u001b[39;00m \u001b[39mself\u001b[39m\u001b[39m.\u001b[39m_lock:\n\u001b[0;32m   2494\u001b[0m   (graph_function,\n\u001b[0;32m   2495\u001b[0m    filtered_flat_args) \u001b[39m=\u001b[39m \u001b[39mself\u001b[39m\u001b[39m.\u001b[39m_maybe_define_function(args, kwargs)\n\u001b[1;32m-> 2496\u001b[0m \u001b[39mreturn\u001b[39;00m graph_function\u001b[39m.\u001b[39;49m_call_flat(\n\u001b[0;32m   2497\u001b[0m     filtered_flat_args, captured_inputs\u001b[39m=\u001b[39;49mgraph_function\u001b[39m.\u001b[39;49mcaptured_inputs)\n",
            "File \u001b[1;32mc:\\Users\\Johannes\\miniconda3\\envs\\Quant\\lib\\site-packages\\tensorflow\\python\\eager\\function.py:1862\u001b[0m, in \u001b[0;36mConcreteFunction._call_flat\u001b[1;34m(self, args, captured_inputs, cancellation_manager)\u001b[0m\n\u001b[0;32m   1858\u001b[0m possible_gradient_type \u001b[39m=\u001b[39m gradients_util\u001b[39m.\u001b[39mPossibleTapeGradientTypes(args)\n\u001b[0;32m   1859\u001b[0m \u001b[39mif\u001b[39;00m (possible_gradient_type \u001b[39m==\u001b[39m gradients_util\u001b[39m.\u001b[39mPOSSIBLE_GRADIENT_TYPES_NONE\n\u001b[0;32m   1860\u001b[0m     \u001b[39mand\u001b[39;00m executing_eagerly):\n\u001b[0;32m   1861\u001b[0m   \u001b[39m# No tape is watching; skip to running the function.\u001b[39;00m\n\u001b[1;32m-> 1862\u001b[0m   \u001b[39mreturn\u001b[39;00m \u001b[39mself\u001b[39m\u001b[39m.\u001b[39m_build_call_outputs(\u001b[39mself\u001b[39;49m\u001b[39m.\u001b[39;49m_inference_function\u001b[39m.\u001b[39;49mcall(\n\u001b[0;32m   1863\u001b[0m       ctx, args, cancellation_manager\u001b[39m=\u001b[39;49mcancellation_manager))\n\u001b[0;32m   1864\u001b[0m forward_backward \u001b[39m=\u001b[39m \u001b[39mself\u001b[39m\u001b[39m.\u001b[39m_select_forward_and_backward_functions(\n\u001b[0;32m   1865\u001b[0m     args,\n\u001b[0;32m   1866\u001b[0m     possible_gradient_type,\n\u001b[0;32m   1867\u001b[0m     executing_eagerly)\n\u001b[0;32m   1868\u001b[0m forward_function, args_with_tangents \u001b[39m=\u001b[39m forward_backward\u001b[39m.\u001b[39mforward()\n",
            "File \u001b[1;32mc:\\Users\\Johannes\\miniconda3\\envs\\Quant\\lib\\site-packages\\tensorflow\\python\\eager\\function.py:499\u001b[0m, in \u001b[0;36m_EagerDefinedFunction.call\u001b[1;34m(self, ctx, args, cancellation_manager)\u001b[0m\n\u001b[0;32m    497\u001b[0m \u001b[39mwith\u001b[39;00m _InterpolateFunctionError(\u001b[39mself\u001b[39m):\n\u001b[0;32m    498\u001b[0m   \u001b[39mif\u001b[39;00m cancellation_manager \u001b[39mis\u001b[39;00m \u001b[39mNone\u001b[39;00m:\n\u001b[1;32m--> 499\u001b[0m     outputs \u001b[39m=\u001b[39m execute\u001b[39m.\u001b[39;49mexecute(\n\u001b[0;32m    500\u001b[0m         \u001b[39mstr\u001b[39;49m(\u001b[39mself\u001b[39;49m\u001b[39m.\u001b[39;49msignature\u001b[39m.\u001b[39;49mname),\n\u001b[0;32m    501\u001b[0m         num_outputs\u001b[39m=\u001b[39;49m\u001b[39mself\u001b[39;49m\u001b[39m.\u001b[39;49m_num_outputs,\n\u001b[0;32m    502\u001b[0m         inputs\u001b[39m=\u001b[39;49margs,\n\u001b[0;32m    503\u001b[0m         attrs\u001b[39m=\u001b[39;49mattrs,\n\u001b[0;32m    504\u001b[0m         ctx\u001b[39m=\u001b[39;49mctx)\n\u001b[0;32m    505\u001b[0m   \u001b[39melse\u001b[39;00m:\n\u001b[0;32m    506\u001b[0m     outputs \u001b[39m=\u001b[39m execute\u001b[39m.\u001b[39mexecute_with_cancellation(\n\u001b[0;32m    507\u001b[0m         \u001b[39mstr\u001b[39m(\u001b[39mself\u001b[39m\u001b[39m.\u001b[39msignature\u001b[39m.\u001b[39mname),\n\u001b[0;32m    508\u001b[0m         num_outputs\u001b[39m=\u001b[39m\u001b[39mself\u001b[39m\u001b[39m.\u001b[39m_num_outputs,\n\u001b[1;32m   (...)\u001b[0m\n\u001b[0;32m    511\u001b[0m         ctx\u001b[39m=\u001b[39mctx,\n\u001b[0;32m    512\u001b[0m         cancellation_manager\u001b[39m=\u001b[39mcancellation_manager)\n",
            "File \u001b[1;32mc:\\Users\\Johannes\\miniconda3\\envs\\Quant\\lib\\site-packages\\tensorflow\\python\\eager\\execute.py:54\u001b[0m, in \u001b[0;36mquick_execute\u001b[1;34m(op_name, num_outputs, inputs, attrs, ctx, name)\u001b[0m\n\u001b[0;32m     52\u001b[0m \u001b[39mtry\u001b[39;00m:\n\u001b[0;32m     53\u001b[0m   ctx\u001b[39m.\u001b[39mensure_initialized()\n\u001b[1;32m---> 54\u001b[0m   tensors \u001b[39m=\u001b[39m pywrap_tfe\u001b[39m.\u001b[39;49mTFE_Py_Execute(ctx\u001b[39m.\u001b[39;49m_handle, device_name, op_name,\n\u001b[0;32m     55\u001b[0m                                       inputs, attrs, num_outputs)\n\u001b[0;32m     56\u001b[0m \u001b[39mexcept\u001b[39;00m core\u001b[39m.\u001b[39m_NotOkStatusException \u001b[39mas\u001b[39;00m e:\n\u001b[0;32m     57\u001b[0m   \u001b[39mif\u001b[39;00m name \u001b[39mis\u001b[39;00m \u001b[39mnot\u001b[39;00m \u001b[39mNone\u001b[39;00m:\n",
            "\u001b[1;31mKeyboardInterrupt\u001b[0m: "
          ]
        }
      ],
      "source": [
        "import tensorflow as tf\n",
        "from tensorflow.keras.models import Sequential\n",
        "from tensorflow.keras.layers import Dense, Dropout, LSTM, BatchNormalization\n",
        "from tensorflow.keras.callbacks import ModelCheckpoint, TensorBoard\n",
        "import os\n",
        "from tqdm.keras import TqdmCallback\n",
        "import datetime\n",
        "from tensorflow.keras.layers import Bidirectional\n",
        "from tensorflow.keras import regularizers\n",
        "import json\n",
        "# model\n",
        "model = Sequential()\n",
        "\n",
        "for _ in range(layers-1):\n",
        "  model.add(Bidirectional(LSTM(nodes, \n",
        "                               activation=\"tanh\", \n",
        "                               recurrent_activation = 'sigmoid', \n",
        "                               recurrent_dropout = rec_dropout, \n",
        "                               unroll = False, \n",
        "                               use_bias = True, \n",
        "                               input_shape=(train_x.shape[1:]), \n",
        "                               return_sequences=True,\n",
        "                               kernel_regularizer=regularizers.l1_l2(l1=l1l2_reg/10, l2=l1l2_reg),\n",
        "                               #bias_regularizer=regularizers.l2(l1l2_reg),\n",
        "                               activity_regularizer=regularizers.l2(l1l2_reg)\n",
        "                               )))\n",
        "  model.add(Dropout(dropOut))\n",
        "  #model.add(BatchNormalization())\n",
        "\n",
        "model.add(Bidirectional(LSTM(nodes, \n",
        "                             activation=\"tanh\", \n",
        "                             recurrent_activation = 'sigmoid', \n",
        "                             recurrent_dropout = rec_dropout, \n",
        "                             unroll = False, \n",
        "                             use_bias = True, \n",
        "                             input_shape=(train_x.shape[1:]),\n",
        "                             kernel_regularizer=regularizers.l1_l2(l1=l1l2_reg/10, l2=l1l2_reg),\n",
        "                             #bias_regularizer=regularizers.l2(l1l2_reg),\n",
        "                             activity_regularizer=regularizers.l2(l1l2_reg)\n",
        "                             )))\n",
        "model.add(Dropout(dropOut))\n",
        "#model.add(BatchNormalization())\n",
        "\n",
        "model.add(Dense(denseNodes, \n",
        "                activation=\"relu\",\n",
        "                kernel_regularizer=regularizers.l1_l2(l1=l1l2_reg/10, l2=l1l2_reg),\n",
        "                #bias_regularizer=regularizers.l2(l1l2_reg), \n",
        "                activity_regularizer=regularizers.l2(l1l2_reg)))\n",
        "model.add(Dropout(dropOut))\n",
        "\n",
        "model.add(Dense(3, activation=\"softmax\"))\n",
        "\n",
        "\n",
        "\n",
        "# opt  \n",
        "opt = tf.keras.optimizers.Adam(lr=learningRate) # decay?\n",
        "\n",
        "\n",
        "model.compile(loss=\"sparse_categorical_crossentropy\",\n",
        "              optimizer = opt,\n",
        "              metrics=[\"accuracy\"])\n",
        "\n",
        "\n",
        "filename = \"bi_\" + NAME + \"-{epoch:02d}\"\n",
        "filepath = f\"models/{filename}.h5\"\n",
        "checkpoint = ModelCheckpoint(filepath, monitor='val_loss', verbose=0, save_best_only=False, save_weights_only=False, mode='auto', period=1) # saves every epoch\n",
        "\n",
        "# Prepare TensorBoard callback\n",
        "log_dir = f\"logs/fit/bi_{NAME}\" + datetime.datetime.now().strftime(\"%Y%m%d-%H%M%S\")\n",
        "tensorboard_callback = TensorBoard(log_dir=log_dir, histogram_freq=1)\n",
        "\n",
        "\n",
        "# store hyper-parameters\n",
        "# Path to the JSON file\n",
        "file_path = \"models/hps/hps.json\"\n",
        "# Load the JSON file into a dictionary\n",
        "with open(file_path, \"r\") as json_file:\n",
        "    data = json.load(json_file)\n",
        "# Add a new key-value pair to the dictionary\n",
        "data[f\"{NAME}\" + datetime.datetime.now().strftime(\"%Y%m%d-%H%M%S\")] = hp_suffix\n",
        "# Write the updated dictionary back to the file\n",
        "with open(file_path, \"w\") as json_file:\n",
        "    json.dump(data, json_file, indent=4)\n",
        "\n",
        "\n",
        "\n",
        "\n",
        "# train\n",
        "history = model.fit(\n",
        "  train_x, train_y,\n",
        "  batch_size = batchSize,\n",
        "  epochs = EPOCHS,\n",
        "  validation_data=(validation_x, validation_y),\n",
        "  callbacks=[checkpoint, TqdmCallback(verbose=0), tensorboard_callback])\n",
        "  #callbacks=[checkpoint])"
      ]
    }
  ],
  "metadata": {
    "accelerator": "GPU",
    "colab": {
      "collapsed_sections": [],
      "machine_shape": "hm",
      "name": "modelTrainPreClassified.ipynb",
      "provenance": []
    },
    "kernelspec": {
      "display_name": "Python 3",
      "name": "python3"
    },
    "language_info": {
      "codemirror_mode": {
        "name": "ipython",
        "version": 3
      },
      "file_extension": ".py",
      "mimetype": "text/x-python",
      "name": "python",
      "nbconvert_exporter": "python",
      "pygments_lexer": "ipython3",
      "version": "3.10.12"
    }
  },
  "nbformat": 4,
  "nbformat_minor": 0
}
