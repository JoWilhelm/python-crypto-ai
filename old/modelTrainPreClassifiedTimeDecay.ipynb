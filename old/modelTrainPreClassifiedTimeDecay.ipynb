{
  "cells": [
    {
      "attachments": {},
      "cell_type": "markdown",
      "metadata": {
        "id": "M7KYj8EtoPxZ"
      },
      "source": [
        "# Constants:"
      ]
    },
    {
      "cell_type": "code",
      "execution_count": 1,
      "metadata": {
        "id": "ZsusFSopoVfn"
      },
      "outputs": [],
      "source": [
        "SEQ_LEN = 60   # how many past candles to use to predict\n",
        "CANDLES_SHIFT = 5 # how many candles to shift between sequences\n",
        "NAME = \"shift5_decayNorm_seq60_ov40th004\"\n",
        "VALIDATION_PCT = 0.2"
      ]
    },
    {
      "attachments": {},
      "cell_type": "markdown",
      "metadata": {
        "id": "oSqPTNz-m5fo"
      },
      "source": [
        "# Functions:"
      ]
    },
    {
      "attachments": {},
      "cell_type": "markdown",
      "metadata": {
        "id": "1V8NN17CqWGA"
      },
      "source": [
        "compose sequences df"
      ]
    },
    {
      "cell_type": "code",
      "execution_count": 2,
      "metadata": {},
      "outputs": [],
      "source": [
        "from tqdm import tqdm\n",
        "import numpy as np\n",
        "import pandas as pd\n",
        "\n",
        "# composes dfs of individual sequences from different timescales (in reverse)\n",
        "# dfs should be ordered fine to coarse with the finest one having the labels\n",
        "# seqLen should be divisible by the number of time-resolutions len(dfs)\n",
        "def composeTimeDecaySequences(dfs, timescales):\n",
        "    numTimeScales = len(dfs)\n",
        "    seqPartLen = int(SEQ_LEN/numTimeScales)\n",
        "\n",
        "    sequences = []\n",
        "    finestEndIndex = len(dfs[0])-1\n",
        "    for _ in tqdm(range(int((len(dfs[0]) -int(seqPartLen*(sum(timescales))/300))/CANDLES_SHIFT))): # calculating how many sequences there will be\n",
        "        \n",
        "        lastTimestamp = dfs[0][\"timestamp\"].iloc[finestEndIndex]+1\n",
        "        seqDf = pd.DataFrame()\n",
        "        for i in range(numTimeScales):\n",
        "\n",
        "            # get prev index. Last with timestamp < lastTimestamp\n",
        "            endIndex = dfs[i][dfs[i][\"timestamp\"] < lastTimestamp].index[-1]\n",
        "            seqDf = pd.concat([dfs[i][endIndex-seqPartLen:endIndex], seqDf])\n",
        "            lastTimestamp = seqDf[\"timestamp\"].iloc[0]\n",
        "        \n",
        "\n",
        "        label = seqDf['target'].iloc[-1]\n",
        "        seqDf = seqDf[[\"BTC_close\", \"BTC_volume\", \"BTC_HLPercent\", \"timescale\"]]\n",
        "        seq = seqDf.values.tolist()\n",
        "        if(len(seq) == SEQ_LEN):\n",
        "            sequences.append([seq, label])\n",
        "\n",
        "        finestEndIndex -= CANDLES_SHIFT\n",
        "\n",
        "    return sequences[::-1]\n",
        "    \n",
        "\n"
      ]
    },
    {
      "attachments": {},
      "cell_type": "markdown",
      "metadata": {
        "id": "v84s4MzlrJex"
      },
      "source": [
        "balance"
      ]
    },
    {
      "cell_type": "code",
      "execution_count": 3,
      "metadata": {
        "id": "Hddt3uD8rLYE"
      },
      "outputs": [],
      "source": [
        "def balance(seqs):\n",
        "    \n",
        "    buys = []\n",
        "    sells = []\n",
        "    holds = []\n",
        "    for seq in seqs:\n",
        "        if seq[1] == 0:\n",
        "            sells.append(seq)\n",
        "        elif seq[1] == 1:\n",
        "            buys.append(seq)\n",
        "        else:\n",
        "          holds.append(seq)\n",
        "\n",
        "    print(\"before balancing:\")\n",
        "    print(\"buys:\", len(buys), \", sells:\", len(sells), \", holds:\", len(holds))\n",
        "\n",
        "    smallest = min(len(buys), len(sells), len(holds))\n",
        "    buys = buys[:smallest]\n",
        "    sells = sells[:smallest]\n",
        "    holds = holds[:smallest]\n",
        "\n",
        "    seqsBalanced = buys+sells+holds\n",
        "    return seqsBalanced"
      ]
    },
    {
      "attachments": {},
      "cell_type": "markdown",
      "metadata": {
        "id": "puLrLHQCr2IF"
      },
      "source": [
        "preprocessing"
      ]
    },
    {
      "cell_type": "code",
      "execution_count": 4,
      "metadata": {},
      "outputs": [],
      "source": [
        "import numpy as np\n",
        "\n",
        "means_300 = {\"BTC_close\": 0.000000690947, \n",
        "             \"BTC_low\": 0.0000006854884, \n",
        "             \"BTC_high\": 0.0000006769006, \n",
        "             \"BTC_volume\": 9.29817, \n",
        "             \"BTC_HLPercent\": 0.002693165}\n",
        "stds_300 = {\"BTC_close\": 0.0003184924, \n",
        "             \"BTC_low\": 0.0002982297, \n",
        "             \"BTC_high\": 0.0002733320261, \n",
        "             \"BTC_volume\": 2.81534, \n",
        "             \"BTC_HLPercent\": 0.00318942}\n",
        "\n",
        "means_900 = {\"BTC_close\": 0.0000020544577, \n",
        "             \"BTC_low\": 0.000002046661877, \n",
        "             \"BTC_high\": 0.00000201864122,  \n",
        "             \"BTC_volume\": 10.884899, \n",
        "             \"BTC_HLPercent\": 0.005028761}\n",
        "stds_900 = {\"BTC_close\": 0.000519522, \n",
        "             \"BTC_low\": 0.00050422044, \n",
        "             \"BTC_high\": 0.0004491347, \n",
        "             \"BTC_volume\": 2.2087313, \n",
        "             \"BTC_HLPercent\": 0.005339183}\n",
        "\n",
        "means_3600 = {\"BTC_close\": 0.00000814210187, \n",
        "             \"BTC_low\": 0.0000081886629, \n",
        "             \"BTC_high\": 0.0000079834025, \n",
        "             \"BTC_volume\": 12.5666656, \n",
        "             \"BTC_HLPercent\": 0.01051739}\n",
        "stds_3600 = {\"BTC_close\": 0.00098108448, \n",
        "             \"BTC_low\": 0.0010199776, \n",
        "             \"BTC_high\": 0.000852822218, \n",
        "             \"BTC_volume\": 1.83560254, \n",
        "             \"BTC_HLPercent\": 0.0102345275}\n",
        "\n",
        "means_21600 = {\"BTC_close\": 0.0000483701454, \n",
        "             \"BTC_low\": 0.0000490174551, \n",
        "             \"BTC_high\": 0.00004777989, \n",
        "             \"BTC_volume\": 14.559, \n",
        "             \"BTC_HLPercent\": 0.02660019}\n",
        "stds_21600 = {\"BTC_close\": 0.0022161646, \n",
        "             \"BTC_low\": 0.002430053655, \n",
        "             \"BTC_high\": 0.00197076029, \n",
        "             \"BTC_volume\": 1.6195640409, \n",
        "             \"BTC_HLPercent\": 0.022443346231}\n",
        "\n",
        "\n",
        "def preprocess(df, means, stds):\n",
        "\n",
        "    for col in [\"BTC_close\", \"BTC_low\", \"BTC_high\"]:\n",
        "        df[col] = np.log(df[col])\n",
        "        df[col] = df[col].pct_change()\n",
        "        df.dropna(inplace=True)\n",
        "        mean = means[col]\n",
        "        std = stds[col]\n",
        "        df[col] = (df[col] - mean) / std\n",
        "    \n",
        "    \n",
        "    df[\"BTC_volume\"] = df[\"BTC_volume\"].replace(0, 1)\n",
        "    df[\"BTC_volume\"] = np.log(df[\"BTC_volume\"])\n",
        "    #df[\"BTC_volume\"] = df[\"BTC_volume\"].pct_change()   # taking the pct change somehow makes it worse\n",
        "    #df.dropna(inplace=True)                            # taking the pct change somehow makes it worse\n",
        "    mean = means[\"BTC_volume\"]\n",
        "    std = stds[\"BTC_volume\"]\n",
        "    df[\"BTC_volume\"] = (df[\"BTC_volume\"] - mean) / std\n",
        "\n",
        "\n",
        "    mean = means[\"BTC_HLPercent\"]\n",
        "    std = stds[\"BTC_HLPercent\"]\n",
        "    df[\"BTC_HLPercent\"] = (df[\"BTC_HLPercent\"] - mean) / std\n",
        "\n",
        "\n",
        "    return df\n"
      ]
    },
    {
      "attachments": {},
      "cell_type": "markdown",
      "metadata": {
        "id": "Dd640LH1tix2"
      },
      "source": [
        "X y split"
      ]
    },
    {
      "cell_type": "code",
      "execution_count": 5,
      "metadata": {
        "id": "4-HIbtKAtj-0"
      },
      "outputs": [],
      "source": [
        "def split(seqWithTarget):\n",
        "\n",
        "    X = []\n",
        "    y = []\n",
        "    for seq, target in seqWithTarget:\n",
        "        X.append(np.asarray(seq).astype(np.float32))\n",
        "        y.append(target)\n",
        "\n",
        "    return np.array(X), np.array(y)"
      ]
    },
    {
      "attachments": {},
      "cell_type": "markdown",
      "metadata": {
        "id": "bBfc_4lKnYpv"
      },
      "source": [
        "# DF manipulation, build training sets:"
      ]
    },
    {
      "cell_type": "code",
      "execution_count": 6,
      "metadata": {},
      "outputs": [
        {
          "name": "stdout",
          "output_type": "stream",
          "text": [
            "         timestamp  BTC_close   BTC_low  BTC_high  BTC_volume  BTC_average  \\\n",
            "0       1467331500     683.00    683.00    685.00      610.98       684.36   \n",
            "1       1467331800     683.00    683.00    684.99     4207.54       683.04   \n",
            "2       1467332100     683.80    682.94    684.00      832.24       683.84   \n",
            "3       1467332400     682.93    682.93    683.80      731.29       683.74   \n",
            "4       1467332700     682.93    682.93    682.93      339.97       682.93   \n",
            "...            ...        ...       ...       ...         ...          ...   \n",
            "710044  1680344400   28423.92  28416.67  28440.89     4032.00     28424.22   \n",
            "710045  1680344700   28402.64  28401.90  28426.65     1226.36     28409.15   \n",
            "710046  1680345000   28418.48  28403.11  28418.48     4559.18     28406.68   \n",
            "710047  1680345300   28412.62  28407.49  28422.84      388.83     28413.01   \n",
            "710048  1680345600   28422.07  28384.76  28422.09      306.02     28407.02   \n",
            "\n",
            "        BTC_HLPercent  target  timescale  \n",
            "0            0.002920       0          5  \n",
            "1            0.002905       0          5  \n",
            "2            0.001550       0          5  \n",
            "3            0.001272       0          5  \n",
            "4            0.000000       0          5  \n",
            "...               ...     ...        ...  \n",
            "710044       0.000852       0          5  \n",
            "710045       0.000871       0          5  \n",
            "710046       0.000541       0          5  \n",
            "710047       0.000540       0          5  \n",
            "710048       0.001313       0          5  \n",
            "\n",
            "[710049 rows x 9 columns]\n"
          ]
        }
      ],
      "source": [
        "import pandas as pd\n",
        "\n",
        "df_300_classified = pd.read_csv(\"data/aligned2/HistoricalDataClassified_2016_2023_300_ov40_th04.csv\")\n",
        "df_900 = pd.read_csv(\"data/aligned2/HistoricalData_2016_2023_900.csv\")\n",
        "df_3600 = pd.read_csv(\"data/aligned2/HistoricalData_2016_2023_3600.csv\")\n",
        "df_21600 = pd.read_csv(\"data/aligned2/HistoricalData_2016_2023_21600.csv\")\n",
        "\n",
        "\n",
        "df_300_classified[\"timescale\"] = 5\n",
        "df_900[\"timescale\"] = 15\n",
        "df_3600[\"timescale\"] = 60\n",
        "df_21600[\"timescale\"] = 360\n",
        "\n",
        "print(df_300_classified)"
      ]
    },
    {
      "cell_type": "code",
      "execution_count": 7,
      "metadata": {},
      "outputs": [
        {
          "name": "stdout",
          "output_type": "stream",
          "text": [
            "         timestamp  BTC_close   BTC_low  BTC_high  BTC_volume  BTC_average  \\\n",
            "3       1467332400  -0.614533 -0.009822 -0.166373   -0.960225       683.74   \n",
            "4       1467332700  -0.002169 -0.002299 -0.716016   -1.232289       682.93   \n",
            "5       1467333000  -0.002169 -0.002299  1.694099   -0.655181       683.90   \n",
            "6       1467333300   0.532917 -0.002299 -1.075060   -2.597081       683.29   \n",
            "7       1467333600   0.911576  0.569143  1.062240   -1.698065       684.99   \n",
            "...            ...        ...       ...       ...         ...          ...   \n",
            "710044  1680344400  -0.180593  0.238298  0.002541   -0.353830     28424.22   \n",
            "710045  1680344700  -0.231476 -0.172297 -0.181135   -0.776590     28409.15   \n",
            "710046  1680345000   0.168546  0.011632 -0.105025   -0.310183     28406.68   \n",
            "710047  1680345300  -0.065311  0.048123  0.052255   -1.184591     28413.01   \n",
            "710048  1680345600   0.099650 -0.264044 -0.011891   -1.269658     28407.02   \n",
            "\n",
            "        BTC_HLPercent  target  timescale  \n",
            "3           -0.445493       0          5  \n",
            "4           -0.844406       0          5  \n",
            "5            0.103070       0          5  \n",
            "6           -0.495874       0          5  \n",
            "7           -0.249364       0          5  \n",
            "...               ...     ...        ...  \n",
            "710044      -0.577401       0          5  \n",
            "710045      -0.571421       0          5  \n",
            "710046      -0.674831       0          5  \n",
            "710047      -0.675078       0          5  \n",
            "710048      -0.432602       0          5  \n",
            "\n",
            "[710046 rows x 9 columns]\n"
          ]
        }
      ],
      "source": [
        "df_300_classified_pp = preprocess(df_300_classified, means_300, stds_300)\n",
        "df_900_pp = preprocess(df_900, means_900, stds_900)\n",
        "df_3600_pp = preprocess(df_3600, means_3600, stds_3600)\n",
        "df_21600_pp = preprocess(df_21600, means_21600, stds_21600)\n",
        "print(df_300_classified_pp)"
      ]
    },
    {
      "cell_type": "code",
      "execution_count": 8,
      "metadata": {},
      "outputs": [
        {
          "name": "stdout",
          "output_type": "stream",
          "text": [
            "         timestamp  BTC_close   BTC_low  BTC_high  BTC_volume  BTC_average  \\\n",
            "3       1467332400  -0.614533 -0.009822 -0.166373   -0.960225       683.74   \n",
            "4       1467332700  -0.002169 -0.002299 -0.716016   -1.232289       682.93   \n",
            "5       1467333000  -0.002169 -0.002299  1.694099   -0.655181       683.90   \n",
            "6       1467333300   0.532917 -0.002299 -1.075060   -2.597081       683.29   \n",
            "7       1467333600   0.911576  0.569143  1.062240   -1.698065       684.99   \n",
            "...            ...        ...       ...       ...         ...          ...   \n",
            "710044  1680344400  -0.180593  0.238298  0.002541   -0.353830     28424.22   \n",
            "710045  1680344700  -0.231476 -0.172297 -0.181135   -0.776590     28409.15   \n",
            "710046  1680345000   0.168546  0.011632 -0.105025   -0.310183     28406.68   \n",
            "710047  1680345300  -0.065311  0.048123  0.052255   -1.184591     28413.01   \n",
            "710048  1680345600   0.099650 -0.264044 -0.011891   -1.269658     28407.02   \n",
            "\n",
            "        BTC_HLPercent  target  timescale  \n",
            "3           -0.445493       0  -0.720082  \n",
            "4           -0.844406       0  -0.720082  \n",
            "5            0.103070       0  -0.720082  \n",
            "6           -0.495874       0  -0.720082  \n",
            "7           -0.249364       0  -0.720082  \n",
            "...               ...     ...        ...  \n",
            "710044      -0.577401       0  -0.720082  \n",
            "710045      -0.571421       0  -0.720082  \n",
            "710046      -0.674831       0  -0.720082  \n",
            "710047      -0.675078       0  -0.720082  \n",
            "710048      -0.432602       0  -0.720082  \n",
            "\n",
            "[710046 rows x 9 columns]\n"
          ]
        }
      ],
      "source": [
        "#standardize timescale column\n",
        "mean = 110\n",
        "std = 145.8167\n",
        "df_300_classified_pp[\"timescale\"] = (df_300_classified_pp[\"timescale\"] - mean) / std\n",
        "df_900_pp[\"timescale\"] = (df_900_pp[\"timescale\"] - mean) / std\n",
        "df_3600_pp[\"timescale\"] = (df_3600_pp[\"timescale\"] - mean) / std\n",
        "df_21600_pp[\"timescale\"] = (df_21600_pp[\"timescale\"] - mean) / std\n",
        "print(df_300_classified_pp)"
      ]
    },
    {
      "attachments": {},
      "cell_type": "markdown",
      "metadata": {
        "id": "9h5xSZxbqNsz"
      },
      "source": [
        "split into dfs with SEQ_LEN rows"
      ]
    },
    {
      "cell_type": "code",
      "execution_count": 9,
      "metadata": {
        "colab": {
          "base_uri": "https://localhost:8080/"
        },
        "id": "31jTXjddn04r",
        "outputId": "125ce716-fa5f-4839-fabe-15765768da3e"
      },
      "outputs": [
        {
          "name": "stderr",
          "output_type": "stream",
          "text": [
            "100%|██████████| 141745/141745 [52:50<00:00, 44.71it/s]  \n"
          ]
        }
      ],
      "source": [
        "sequences = composeTimeDecaySequences([df_300_classified_pp, df_900_pp, df_3600_pp, df_21600_pp], [300, 900, 3600, 21600])"
      ]
    },
    {
      "cell_type": "code",
      "execution_count": 10,
      "metadata": {},
      "outputs": [
        {
          "name": "stdout",
          "output_type": "stream",
          "text": [
            "num sequences: 141737\n"
          ]
        }
      ],
      "source": [
        "print(\"num sequences:\", len(sequences))"
      ]
    },
    {
      "attachments": {},
      "cell_type": "markdown",
      "metadata": {
        "id": "CdP3PNKHquOk"
      },
      "source": [
        "seperate training and validation"
      ]
    },
    {
      "cell_type": "code",
      "execution_count": 11,
      "metadata": {
        "id": "NlwWOLZVqudy"
      },
      "outputs": [],
      "source": [
        "seqsTraining = sequences[:(int(len(sequences) * (1-VALIDATION_PCT)))].copy()\n",
        "seqsValidation = sequences[(int(len(sequences) * (1-VALIDATION_PCT))):].copy()"
      ]
    },
    {
      "attachments": {},
      "cell_type": "markdown",
      "metadata": {
        "id": "CU3bhQJtq1ft"
      },
      "source": [
        "shuffle"
      ]
    },
    {
      "cell_type": "code",
      "execution_count": 12,
      "metadata": {
        "id": "rhEBABokq1-I"
      },
      "outputs": [],
      "source": [
        "import random\n",
        "\n",
        "random.shuffle(seqsTraining)\n",
        "random.shuffle(seqsValidation)"
      ]
    },
    {
      "attachments": {},
      "cell_type": "markdown",
      "metadata": {
        "id": "Lo4KSJOxrAN0"
      },
      "source": [
        "balance buys/sells/holds"
      ]
    },
    {
      "cell_type": "code",
      "execution_count": 13,
      "metadata": {
        "colab": {
          "base_uri": "https://localhost:8080/"
        },
        "id": "GM9MzjVkq2i6",
        "outputId": "0923e1ea-7878-416b-f773-04e1ccdd4df1"
      },
      "outputs": [
        {
          "name": "stdout",
          "output_type": "stream",
          "text": [
            "before balancing:\n",
            "buys: 13947 , sells: 13197 , holds: 86245\n",
            "before balancing:\n",
            "buys: 2626 , sells: 2655 , holds: 23067\n"
          ]
        }
      ],
      "source": [
        "seqsTrainingBalanced = balance(seqsTraining)\n",
        "seqsValidationBalanced = balance(seqsValidation)"
      ]
    },
    {
      "attachments": {},
      "cell_type": "markdown",
      "metadata": {
        "id": "lmvWD-1bBYVH"
      },
      "source": [
        "shuffle"
      ]
    },
    {
      "cell_type": "code",
      "execution_count": 14,
      "metadata": {
        "id": "oRUhvptlAiVi"
      },
      "outputs": [],
      "source": [
        "random.shuffle(seqsTrainingBalanced)\n",
        "random.shuffle(seqsValidationBalanced)"
      ]
    },
    {
      "cell_type": "code",
      "execution_count": 15,
      "metadata": {},
      "outputs": [],
      "source": [
        "#print([type(seq) for seq, target in seqsValidationBalanced])\n",
        "#print([np.shape(seq) for seq, target in seqsValidationBalanced if isinstance(seq, np.ndarray) or isinstance(seq, list)])\n"
      ]
    },
    {
      "attachments": {},
      "cell_type": "markdown",
      "metadata": {
        "id": "G-ygYD9gtbMx"
      },
      "source": [
        "split sequence from label"
      ]
    },
    {
      "cell_type": "code",
      "execution_count": 16,
      "metadata": {
        "colab": {
          "background_save": true
        },
        "id": "3Cnkgt0utXt1"
      },
      "outputs": [],
      "source": [
        "train_x, train_y = split(seqsTrainingBalanced)\n",
        "validation_x, validation_y = split(seqsValidationBalanced)\n",
        "\n"
      ]
    },
    {
      "cell_type": "code",
      "execution_count": 17,
      "metadata": {},
      "outputs": [
        {
          "name": "stdout",
          "output_type": "stream",
          "text": [
            "<class 'numpy.ndarray'>\n",
            "(39591, 60, 4)\n",
            "<class 'numpy.ndarray'>\n",
            "(7878, 60, 4)\n"
          ]
        }
      ],
      "source": [
        "print(type(train_x))\n",
        "print(train_x.shape)\n",
        "print(type(validation_x))\n",
        "print(validation_x.shape)"
      ]
    },
    {
      "cell_type": "code",
      "execution_count": 19,
      "metadata": {},
      "outputs": [],
      "source": [
        "import pickle\n",
        "\n",
        "with open(f'data/pkl/{NAME}/{NAME}_train_x.pkl', 'wb') as file:\n",
        "    pickle.dump(train_x, file)\n",
        "with open(f'data/pkl/{NAME}/{NAME}_train_y.pkl', 'wb') as file:\n",
        "    pickle.dump(train_y, file)\n",
        "with open(f'data/pkl/{NAME}/{NAME}_validation_x.pkl', 'wb') as file:\n",
        "    pickle.dump(validation_x, file)\n",
        "with open(f'data/pkl/{NAME}/{NAME}_validation_y.pkl', 'wb') as file:\n",
        "    pickle.dump(validation_y, file)"
      ]
    },
    {
      "cell_type": "code",
      "execution_count": null,
      "metadata": {},
      "outputs": [],
      "source": [
        "#import pickle\n",
        "#\n",
        "#with open(f\"data/pkl/{NAME}/{NAME}_train_x.pkl\", \"rb\") as file:\n",
        "#    train_x = pickle.load(file)\n",
        "#with open(f\"data/pkl/{NAME}/{NAME}_train_y.pkl\", \"rb\") as file:\n",
        "#    train_y = pickle.load(file)\n",
        "#with open(f\"data/pkl/{NAME}/{NAME}_validation_x.pkl\", \"rb\") as file:\n",
        "#    validation_x = pickle.load(file)\n",
        "#with open(f\"data/pkl/{NAME}/{NAME}_validation_y.pkl\", \"rb\") as file:\n",
        "#    validation_y = pickle.load(file)"
      ]
    },
    {
      "attachments": {},
      "cell_type": "markdown",
      "metadata": {
        "id": "LXt32q1Tt39k"
      },
      "source": [
        "# Model:"
      ]
    },
    {
      "cell_type": "code",
      "execution_count": 20,
      "metadata": {},
      "outputs": [
        {
          "name": "stdout",
          "output_type": "stream",
          "text": [
            "Num GPUs Available:  1\n"
          ]
        }
      ],
      "source": [
        "import tensorflow as tf\n",
        "print(\"Num GPUs Available: \", len(tf.config.experimental.list_physical_devices('GPU')))\n"
      ]
    },
    {
      "attachments": {},
      "cell_type": "markdown",
      "metadata": {
        "id": "QNzTVj7Ue8Vg"
      },
      "source": [
        "hyper parameters bounds"
      ]
    },
    {
      "cell_type": "code",
      "execution_count": 21,
      "metadata": {
        "colab": {
          "background_save": true
        },
        "id": "mXBNmip7e7or"
      },
      "outputs": [],
      "source": [
        "EPOCHS = 100\n",
        "\n",
        "batchSize = 96\n",
        "layers = 2\n",
        "nodes = 256\n",
        "denseNodes = 128\n",
        "dropOut = 0.88\n",
        "learningRate = 0.0001\n",
        "decay = 1e-06\n"
      ]
    },
    {
      "cell_type": "code",
      "execution_count": 22,
      "metadata": {
        "id": "XYo0LRjEg2m4"
      },
      "outputs": [
        {
          "name": "stderr",
          "output_type": "stream",
          "text": [
            "c:\\Users\\Johannes\\miniconda3\\envs\\Quant\\lib\\site-packages\\tqdm\\auto.py:21: TqdmWarning: IProgress not found. Please update jupyter and ipywidgets. See https://ipywidgets.readthedocs.io/en/stable/user_install.html\n",
            "  from .autonotebook import tqdm as notebook_tqdm\n"
          ]
        },
        {
          "name": "stdout",
          "output_type": "stream",
          "text": [
            "WARNING:tensorflow:`period` argument is deprecated. Please use `save_freq` to specify the frequency in number of batches seen.\n"
          ]
        },
        {
          "name": "stderr",
          "output_type": "stream",
          "text": [
            "c:\\Users\\Johannes\\miniconda3\\envs\\Quant\\lib\\site-packages\\keras\\optimizers\\optimizer_v2\\adam.py:114: UserWarning: The `lr` argument is deprecated, use `learning_rate` instead.\n",
            "  super().__init__(name, **kwargs)\n",
            "  0%|          | 0/100 [00:00<?, ?epoch/s]"
          ]
        },
        {
          "name": "stdout",
          "output_type": "stream",
          "text": [
            "Epoch 1/100\n",
            "  5/413 [..............................] - ETA: 10s - loss: 1.2071 - accuracy: 0.3229 WARNING:tensorflow:Callback method `on_train_batch_end` is slow compared to the batch time (batch time: 0.0153s vs `on_train_batch_end` time: 0.0227s). Check your callbacks.\n",
            "413/413 [==============================] - ETA: 0s - loss: 1.1069 - accuracy: 0.3821"
          ]
        },
        {
          "name": "stderr",
          "output_type": "stream",
          "text": [
            "  1%|          | 1/100 [00:13<21:56, 13.29s/epoch, loss=1.11, accuracy=0.382, val_loss=1.05, val_accuracy=0.51]"
          ]
        },
        {
          "name": "stdout",
          "output_type": "stream",
          "text": [
            "413/413 [==============================] - 13s 27ms/step - loss: 1.1069 - accuracy: 0.3821 - val_loss: 1.0527 - val_accuracy: 0.5099\n",
            "Epoch 2/100\n",
            "411/413 [============================>.] - ETA: 0s - loss: 1.0466 - accuracy: 0.4586"
          ]
        },
        {
          "name": "stderr",
          "output_type": "stream",
          "text": [
            "  2%|▏         | 2/100 [00:23<19:02, 11.66s/epoch, loss=1.05, accuracy=0.459, val_loss=1, val_accuracy=0.546]  "
          ]
        },
        {
          "name": "stdout",
          "output_type": "stream",
          "text": [
            "413/413 [==============================] - 10s 25ms/step - loss: 1.0468 - accuracy: 0.4585 - val_loss: 1.0011 - val_accuracy: 0.5460\n",
            "Epoch 3/100\n",
            "412/413 [============================>.] - ETA: 0s - loss: 1.0093 - accuracy: 0.5040"
          ]
        },
        {
          "name": "stderr",
          "output_type": "stream",
          "text": [
            "  3%|▎         | 3/100 [00:34<18:06, 11.20s/epoch, loss=1.01, accuracy=0.504, val_loss=0.972, val_accuracy=0.573]"
          ]
        },
        {
          "name": "stdout",
          "output_type": "stream",
          "text": [
            "413/413 [==============================] - 11s 26ms/step - loss: 1.0093 - accuracy: 0.5040 - val_loss: 0.9724 - val_accuracy: 0.5734\n",
            "Epoch 4/100\n",
            "412/413 [============================>.] - ETA: 0s - loss: 0.9950 - accuracy: 0.5233"
          ]
        },
        {
          "name": "stderr",
          "output_type": "stream",
          "text": [
            "  4%|▍         | 4/100 [00:45<17:40, 11.05s/epoch, loss=0.995, accuracy=0.523, val_loss=0.959, val_accuracy=0.555]"
          ]
        },
        {
          "name": "stdout",
          "output_type": "stream",
          "text": [
            "413/413 [==============================] - 11s 26ms/step - loss: 0.9949 - accuracy: 0.5233 - val_loss: 0.9586 - val_accuracy: 0.5551\n",
            "Epoch 5/100\n",
            "413/413 [==============================] - ETA: 0s - loss: 0.9890 - accuracy: 0.5345"
          ]
        },
        {
          "name": "stderr",
          "output_type": "stream",
          "text": [
            "  5%|▌         | 5/100 [00:56<17:22, 10.97s/epoch, loss=0.989, accuracy=0.535, val_loss=0.953, val_accuracy=0.564]"
          ]
        },
        {
          "name": "stdout",
          "output_type": "stream",
          "text": [
            "413/413 [==============================] - 11s 26ms/step - loss: 0.9890 - accuracy: 0.5345 - val_loss: 0.9531 - val_accuracy: 0.5640\n",
            "Epoch 6/100\n",
            "413/413 [==============================] - ETA: 0s - loss: 0.9797 - accuracy: 0.5434"
          ]
        },
        {
          "name": "stderr",
          "output_type": "stream",
          "text": [
            "  6%|▌         | 6/100 [01:06<17:06, 10.92s/epoch, loss=0.98, accuracy=0.543, val_loss=0.942, val_accuracy=0.579] "
          ]
        },
        {
          "name": "stdout",
          "output_type": "stream",
          "text": [
            "413/413 [==============================] - 11s 26ms/step - loss: 0.9797 - accuracy: 0.5434 - val_loss: 0.9420 - val_accuracy: 0.5795\n",
            "Epoch 7/100\n",
            "412/413 [============================>.] - ETA: 0s - loss: 0.9705 - accuracy: 0.5513"
          ]
        },
        {
          "name": "stderr",
          "output_type": "stream",
          "text": [
            "  7%|▋         | 7/100 [01:17<16:59, 10.96s/epoch, loss=0.971, accuracy=0.551, val_loss=0.94, val_accuracy=0.585]"
          ]
        },
        {
          "name": "stdout",
          "output_type": "stream",
          "text": [
            "413/413 [==============================] - 11s 27ms/step - loss: 0.9706 - accuracy: 0.5512 - val_loss: 0.9399 - val_accuracy: 0.5849\n",
            "Epoch 8/100\n",
            "413/413 [==============================] - ETA: 0s - loss: 0.9679 - accuracy: 0.5548"
          ]
        },
        {
          "name": "stderr",
          "output_type": "stream",
          "text": [
            "  8%|▊         | 8/100 [01:28<16:45, 10.92s/epoch, loss=0.968, accuracy=0.555, val_loss=0.943, val_accuracy=0.545]"
          ]
        },
        {
          "name": "stdout",
          "output_type": "stream",
          "text": [
            "413/413 [==============================] - 11s 26ms/step - loss: 0.9679 - accuracy: 0.5548 - val_loss: 0.9435 - val_accuracy: 0.5453\n",
            "Epoch 9/100\n",
            "413/413 [==============================] - ETA: 0s - loss: 0.9626 - accuracy: 0.5608"
          ]
        },
        {
          "name": "stderr",
          "output_type": "stream",
          "text": [
            "  9%|▉         | 9/100 [01:39<16:29, 10.88s/epoch, loss=0.963, accuracy=0.561, val_loss=0.937, val_accuracy=0.582]"
          ]
        },
        {
          "name": "stdout",
          "output_type": "stream",
          "text": [
            "413/413 [==============================] - 11s 26ms/step - loss: 0.9626 - accuracy: 0.5608 - val_loss: 0.9372 - val_accuracy: 0.5821\n",
            "Epoch 10/100\n",
            "413/413 [==============================] - ETA: 0s - loss: 0.9540 - accuracy: 0.5673"
          ]
        },
        {
          "name": "stderr",
          "output_type": "stream",
          "text": [
            " 10%|█         | 10/100 [01:50<16:16, 10.85s/epoch, loss=0.954, accuracy=0.567, val_loss=0.933, val_accuracy=0.577]"
          ]
        },
        {
          "name": "stdout",
          "output_type": "stream",
          "text": [
            "413/413 [==============================] - 11s 26ms/step - loss: 0.9540 - accuracy: 0.5673 - val_loss: 0.9332 - val_accuracy: 0.5768\n",
            "Epoch 11/100\n",
            "413/413 [==============================] - ETA: 0s - loss: 0.9519 - accuracy: 0.5676"
          ]
        },
        {
          "name": "stderr",
          "output_type": "stream",
          "text": [
            " 11%|█         | 11/100 [02:01<16:08, 10.89s/epoch, loss=0.952, accuracy=0.568, val_loss=0.926, val_accuracy=0.58] "
          ]
        },
        {
          "name": "stdout",
          "output_type": "stream",
          "text": [
            "413/413 [==============================] - 11s 27ms/step - loss: 0.9519 - accuracy: 0.5676 - val_loss: 0.9257 - val_accuracy: 0.5798\n",
            "Epoch 12/100\n",
            "413/413 [==============================] - ETA: 0s - loss: 0.9460 - accuracy: 0.5758"
          ]
        },
        {
          "name": "stderr",
          "output_type": "stream",
          "text": [
            " 12%|█▏        | 12/100 [02:12<15:59, 10.90s/epoch, loss=0.946, accuracy=0.576, val_loss=0.923, val_accuracy=0.585]"
          ]
        },
        {
          "name": "stdout",
          "output_type": "stream",
          "text": [
            "413/413 [==============================] - 11s 26ms/step - loss: 0.9460 - accuracy: 0.5758 - val_loss: 0.9232 - val_accuracy: 0.5854\n",
            "Epoch 13/100\n",
            "413/413 [==============================] - ETA: 0s - loss: 0.9459 - accuracy: 0.5752"
          ]
        },
        {
          "name": "stderr",
          "output_type": "stream",
          "text": [
            " 13%|█▎        | 13/100 [02:22<15:33, 10.74s/epoch, loss=0.946, accuracy=0.575, val_loss=0.918, val_accuracy=0.591]"
          ]
        },
        {
          "name": "stdout",
          "output_type": "stream",
          "text": [
            "413/413 [==============================] - 10s 25ms/step - loss: 0.9459 - accuracy: 0.5752 - val_loss: 0.9176 - val_accuracy: 0.5905\n",
            "Epoch 14/100\n",
            "412/413 [============================>.] - ETA: 0s - loss: 0.9462 - accuracy: 0.5764"
          ]
        },
        {
          "name": "stderr",
          "output_type": "stream",
          "text": [
            " 14%|█▍        | 14/100 [02:32<15:13, 10.62s/epoch, loss=0.946, accuracy=0.576, val_loss=0.924, val_accuracy=0.575]"
          ]
        },
        {
          "name": "stdout",
          "output_type": "stream",
          "text": [
            "413/413 [==============================] - 10s 25ms/step - loss: 0.9463 - accuracy: 0.5763 - val_loss: 0.9237 - val_accuracy: 0.5746\n",
            "Epoch 15/100\n",
            "412/413 [============================>.] - ETA: 0s - loss: 0.9371 - accuracy: 0.5792"
          ]
        },
        {
          "name": "stderr",
          "output_type": "stream",
          "text": [
            " 15%|█▌        | 15/100 [02:43<14:53, 10.51s/epoch, loss=0.937, accuracy=0.579, val_loss=0.917, val_accuracy=0.598]"
          ]
        },
        {
          "name": "stdout",
          "output_type": "stream",
          "text": [
            "413/413 [==============================] - 10s 25ms/step - loss: 0.9370 - accuracy: 0.5792 - val_loss: 0.9168 - val_accuracy: 0.5977\n",
            "Epoch 16/100\n",
            "412/413 [============================>.] - ETA: 0s - loss: 0.9399 - accuracy: 0.5765"
          ]
        },
        {
          "name": "stderr",
          "output_type": "stream",
          "text": [
            " 16%|█▌        | 16/100 [02:53<14:35, 10.42s/epoch, loss=0.94, accuracy=0.577, val_loss=0.921, val_accuracy=0.582] "
          ]
        },
        {
          "name": "stdout",
          "output_type": "stream",
          "text": [
            "413/413 [==============================] - 10s 25ms/step - loss: 0.9399 - accuracy: 0.5765 - val_loss: 0.9211 - val_accuracy: 0.5817\n",
            "Epoch 17/100\n",
            "412/413 [============================>.] - ETA: 0s - loss: 0.9391 - accuracy: 0.5809"
          ]
        },
        {
          "name": "stderr",
          "output_type": "stream",
          "text": [
            " 17%|█▋        | 17/100 [03:03<14:20, 10.37s/epoch, loss=0.939, accuracy=0.581, val_loss=0.92, val_accuracy=0.582]"
          ]
        },
        {
          "name": "stdout",
          "output_type": "stream",
          "text": [
            "413/413 [==============================] - 10s 25ms/step - loss: 0.9391 - accuracy: 0.5809 - val_loss: 0.9197 - val_accuracy: 0.5821\n",
            "Epoch 18/100\n",
            "411/413 [============================>.] - ETA: 0s - loss: 0.9371 - accuracy: 0.5828"
          ]
        },
        {
          "name": "stderr",
          "output_type": "stream",
          "text": [
            " 18%|█▊        | 18/100 [03:13<14:07, 10.33s/epoch, loss=0.937, accuracy=0.583, val_loss=0.913, val_accuracy=0.597]"
          ]
        },
        {
          "name": "stdout",
          "output_type": "stream",
          "text": [
            "413/413 [==============================] - 10s 25ms/step - loss: 0.9370 - accuracy: 0.5827 - val_loss: 0.9125 - val_accuracy: 0.5975\n",
            "Epoch 19/100\n",
            "412/413 [============================>.] - ETA: 0s - loss: 0.9333 - accuracy: 0.5829"
          ]
        },
        {
          "name": "stderr",
          "output_type": "stream",
          "text": [
            " 19%|█▉        | 19/100 [03:24<13:55, 10.31s/epoch, loss=0.933, accuracy=0.583, val_loss=0.911, val_accuracy=0.584]"
          ]
        },
        {
          "name": "stdout",
          "output_type": "stream",
          "text": [
            "413/413 [==============================] - 10s 25ms/step - loss: 0.9333 - accuracy: 0.5829 - val_loss: 0.9111 - val_accuracy: 0.5840\n",
            "Epoch 20/100\n",
            "412/413 [============================>.] - ETA: 0s - loss: 0.9332 - accuracy: 0.5828"
          ]
        },
        {
          "name": "stderr",
          "output_type": "stream",
          "text": [
            " 20%|██        | 20/100 [03:34<13:43, 10.29s/epoch, loss=0.933, accuracy=0.583, val_loss=0.916, val_accuracy=0.58] "
          ]
        },
        {
          "name": "stdout",
          "output_type": "stream",
          "text": [
            "413/413 [==============================] - 10s 25ms/step - loss: 0.9332 - accuracy: 0.5828 - val_loss: 0.9158 - val_accuracy: 0.5796\n",
            "Epoch 21/100\n",
            "412/413 [============================>.] - ETA: 0s - loss: 0.9308 - accuracy: 0.5854"
          ]
        },
        {
          "name": "stderr",
          "output_type": "stream",
          "text": [
            " 21%|██        | 21/100 [03:44<13:31, 10.27s/epoch, loss=0.931, accuracy=0.586, val_loss=0.91, val_accuracy=0.584]"
          ]
        },
        {
          "name": "stdout",
          "output_type": "stream",
          "text": [
            "413/413 [==============================] - 10s 25ms/step - loss: 0.9309 - accuracy: 0.5855 - val_loss: 0.9101 - val_accuracy: 0.5835\n",
            "Epoch 22/100\n",
            "412/413 [============================>.] - ETA: 0s - loss: 0.9309 - accuracy: 0.5848"
          ]
        },
        {
          "name": "stderr",
          "output_type": "stream",
          "text": [
            " 22%|██▏       | 22/100 [03:54<13:20, 10.26s/epoch, loss=0.931, accuracy=0.585, val_loss=0.916, val_accuracy=0.583]"
          ]
        },
        {
          "name": "stdout",
          "output_type": "stream",
          "text": [
            "413/413 [==============================] - 10s 25ms/step - loss: 0.9310 - accuracy: 0.5847 - val_loss: 0.9157 - val_accuracy: 0.5826\n",
            "Epoch 23/100\n",
            "412/413 [============================>.] - ETA: 0s - loss: 0.9286 - accuracy: 0.5869"
          ]
        },
        {
          "name": "stderr",
          "output_type": "stream",
          "text": [
            " 23%|██▎       | 23/100 [04:05<13:09, 10.26s/epoch, loss=0.929, accuracy=0.587, val_loss=0.909, val_accuracy=0.584]"
          ]
        },
        {
          "name": "stdout",
          "output_type": "stream",
          "text": [
            "413/413 [==============================] - 10s 25ms/step - loss: 0.9287 - accuracy: 0.5869 - val_loss: 0.9093 - val_accuracy: 0.5835\n",
            "Epoch 24/100\n",
            "412/413 [============================>.] - ETA: 0s - loss: 0.9278 - accuracy: 0.5880"
          ]
        },
        {
          "name": "stderr",
          "output_type": "stream",
          "text": [
            " 24%|██▍       | 24/100 [04:15<13:00, 10.27s/epoch, loss=0.928, accuracy=0.588, val_loss=0.91, val_accuracy=0.59]  "
          ]
        },
        {
          "name": "stdout",
          "output_type": "stream",
          "text": [
            "413/413 [==============================] - 10s 25ms/step - loss: 0.9280 - accuracy: 0.5879 - val_loss: 0.9098 - val_accuracy: 0.5901\n",
            "Epoch 25/100\n",
            "412/413 [============================>.] - ETA: 0s - loss: 0.9269 - accuracy: 0.5872"
          ]
        },
        {
          "name": "stderr",
          "output_type": "stream",
          "text": [
            " 25%|██▌       | 25/100 [04:25<12:49, 10.26s/epoch, loss=0.927, accuracy=0.587, val_loss=0.908, val_accuracy=0.587]"
          ]
        },
        {
          "name": "stdout",
          "output_type": "stream",
          "text": [
            "413/413 [==============================] - 10s 25ms/step - loss: 0.9268 - accuracy: 0.5872 - val_loss: 0.9082 - val_accuracy: 0.5870\n",
            "Epoch 26/100\n",
            "412/413 [============================>.] - ETA: 0s - loss: 0.9244 - accuracy: 0.5912"
          ]
        },
        {
          "name": "stderr",
          "output_type": "stream",
          "text": [
            " 26%|██▌       | 26/100 [04:35<12:38, 10.25s/epoch, loss=0.924, accuracy=0.591, val_loss=0.908, val_accuracy=0.596]"
          ]
        },
        {
          "name": "stdout",
          "output_type": "stream",
          "text": [
            "413/413 [==============================] - 10s 25ms/step - loss: 0.9244 - accuracy: 0.5912 - val_loss: 0.9078 - val_accuracy: 0.5961\n",
            "Epoch 27/100\n",
            "411/413 [============================>.] - ETA: 0s - loss: 0.9244 - accuracy: 0.5910"
          ]
        },
        {
          "name": "stderr",
          "output_type": "stream",
          "text": [
            " 27%|██▋       | 27/100 [04:46<12:28, 10.25s/epoch, loss=0.924, accuracy=0.591, val_loss=0.907, val_accuracy=0.594]"
          ]
        },
        {
          "name": "stdout",
          "output_type": "stream",
          "text": [
            "413/413 [==============================] - 10s 25ms/step - loss: 0.9244 - accuracy: 0.5909 - val_loss: 0.9073 - val_accuracy: 0.5943\n",
            "Epoch 28/100\n",
            "412/413 [============================>.] - ETA: 0s - loss: 0.9238 - accuracy: 0.5915"
          ]
        },
        {
          "name": "stderr",
          "output_type": "stream",
          "text": [
            " 28%|██▊       | 28/100 [04:56<12:17, 10.24s/epoch, loss=0.924, accuracy=0.592, val_loss=0.914, val_accuracy=0.588]"
          ]
        },
        {
          "name": "stdout",
          "output_type": "stream",
          "text": [
            "413/413 [==============================] - 10s 25ms/step - loss: 0.9237 - accuracy: 0.5915 - val_loss: 0.9135 - val_accuracy: 0.5885\n",
            "Epoch 29/100\n",
            "412/413 [============================>.] - ETA: 0s - loss: 0.9213 - accuracy: 0.5905"
          ]
        },
        {
          "name": "stderr",
          "output_type": "stream",
          "text": [
            " 29%|██▉       | 29/100 [05:06<12:07, 10.24s/epoch, loss=0.921, accuracy=0.591, val_loss=0.911, val_accuracy=0.584]"
          ]
        },
        {
          "name": "stdout",
          "output_type": "stream",
          "text": [
            "413/413 [==============================] - 10s 25ms/step - loss: 0.9212 - accuracy: 0.5906 - val_loss: 0.9115 - val_accuracy: 0.5837\n",
            "Epoch 30/100\n",
            "412/413 [============================>.] - ETA: 0s - loss: 0.9217 - accuracy: 0.5896"
          ]
        },
        {
          "name": "stderr",
          "output_type": "stream",
          "text": [
            " 30%|███       | 30/100 [05:16<11:57, 10.24s/epoch, loss=0.922, accuracy=0.59, val_loss=0.908, val_accuracy=0.597] "
          ]
        },
        {
          "name": "stdout",
          "output_type": "stream",
          "text": [
            "413/413 [==============================] - 10s 25ms/step - loss: 0.9216 - accuracy: 0.5896 - val_loss: 0.9079 - val_accuracy: 0.5975\n",
            "Epoch 31/100\n",
            "412/413 [============================>.] - ETA: 0s - loss: 0.9208 - accuracy: 0.5927"
          ]
        },
        {
          "name": "stderr",
          "output_type": "stream",
          "text": [
            " 31%|███       | 31/100 [05:27<11:46, 10.24s/epoch, loss=0.921, accuracy=0.593, val_loss=0.913, val_accuracy=0.586]"
          ]
        },
        {
          "name": "stdout",
          "output_type": "stream",
          "text": [
            "413/413 [==============================] - 10s 25ms/step - loss: 0.9207 - accuracy: 0.5927 - val_loss: 0.9133 - val_accuracy: 0.5857\n",
            "Epoch 32/100\n",
            "412/413 [============================>.] - ETA: 0s - loss: 0.9202 - accuracy: 0.5934"
          ]
        },
        {
          "name": "stderr",
          "output_type": "stream",
          "text": [
            " 32%|███▏      | 32/100 [05:37<11:36, 10.24s/epoch, loss=0.92, accuracy=0.593, val_loss=0.905, val_accuracy=0.591] "
          ]
        },
        {
          "name": "stdout",
          "output_type": "stream",
          "text": [
            "413/413 [==============================] - 10s 25ms/step - loss: 0.9200 - accuracy: 0.5934 - val_loss: 0.9052 - val_accuracy: 0.5913\n",
            "Epoch 33/100\n",
            "412/413 [============================>.] - ETA: 0s - loss: 0.9196 - accuracy: 0.5950"
          ]
        },
        {
          "name": "stderr",
          "output_type": "stream",
          "text": [
            " 33%|███▎      | 33/100 [05:47<11:25, 10.24s/epoch, loss=0.92, accuracy=0.595, val_loss=0.907, val_accuracy=0.591]"
          ]
        },
        {
          "name": "stdout",
          "output_type": "stream",
          "text": [
            "413/413 [==============================] - 10s 25ms/step - loss: 0.9195 - accuracy: 0.5949 - val_loss: 0.9067 - val_accuracy: 0.5911\n",
            "Epoch 34/100\n",
            "411/413 [============================>.] - ETA: 0s - loss: 0.9217 - accuracy: 0.5914"
          ]
        },
        {
          "name": "stderr",
          "output_type": "stream",
          "text": [
            " 34%|███▍      | 34/100 [05:57<11:15, 10.24s/epoch, loss=0.922, accuracy=0.591, val_loss=0.916, val_accuracy=0.578]"
          ]
        },
        {
          "name": "stdout",
          "output_type": "stream",
          "text": [
            "413/413 [==============================] - 10s 25ms/step - loss: 0.9218 - accuracy: 0.5913 - val_loss: 0.9160 - val_accuracy: 0.5776\n",
            "Epoch 35/100\n",
            "412/413 [============================>.] - ETA: 0s - loss: 0.9157 - accuracy: 0.5942"
          ]
        },
        {
          "name": "stderr",
          "output_type": "stream",
          "text": [
            " 35%|███▌      | 35/100 [06:08<11:05, 10.24s/epoch, loss=0.916, accuracy=0.594, val_loss=0.911, val_accuracy=0.587]"
          ]
        },
        {
          "name": "stdout",
          "output_type": "stream",
          "text": [
            "413/413 [==============================] - 10s 25ms/step - loss: 0.9157 - accuracy: 0.5942 - val_loss: 0.9108 - val_accuracy: 0.5873\n",
            "Epoch 36/100\n",
            "411/413 [============================>.] - ETA: 0s - loss: 0.9173 - accuracy: 0.5957"
          ]
        },
        {
          "name": "stderr",
          "output_type": "stream",
          "text": [
            " 36%|███▌      | 36/100 [06:18<10:55, 10.25s/epoch, loss=0.917, accuracy=0.596, val_loss=0.905, val_accuracy=0.592]"
          ]
        },
        {
          "name": "stdout",
          "output_type": "stream",
          "text": [
            "413/413 [==============================] - 10s 25ms/step - loss: 0.9174 - accuracy: 0.5955 - val_loss: 0.9054 - val_accuracy: 0.5924\n",
            "Epoch 37/100\n",
            "412/413 [============================>.] - ETA: 0s - loss: 0.9171 - accuracy: 0.5946"
          ]
        },
        {
          "name": "stderr",
          "output_type": "stream",
          "text": [
            " 37%|███▋      | 37/100 [06:28<10:46, 10.26s/epoch, loss=0.917, accuracy=0.594, val_loss=0.91, val_accuracy=0.59]  "
          ]
        },
        {
          "name": "stdout",
          "output_type": "stream",
          "text": [
            "413/413 [==============================] - 10s 25ms/step - loss: 0.9172 - accuracy: 0.5944 - val_loss: 0.9096 - val_accuracy: 0.5897\n",
            "Epoch 38/100\n",
            "412/413 [============================>.] - ETA: 0s - loss: 0.9173 - accuracy: 0.5933"
          ]
        },
        {
          "name": "stderr",
          "output_type": "stream",
          "text": [
            " 38%|███▊      | 38/100 [06:38<10:37, 10.28s/epoch, loss=0.918, accuracy=0.593, val_loss=0.917, val_accuracy=0.575]"
          ]
        },
        {
          "name": "stdout",
          "output_type": "stream",
          "text": [
            "413/413 [==============================] - 10s 25ms/step - loss: 0.9176 - accuracy: 0.5932 - val_loss: 0.9171 - val_accuracy: 0.5750\n",
            "Epoch 39/100\n",
            "411/413 [============================>.] - ETA: 0s - loss: 0.9154 - accuracy: 0.5960"
          ]
        },
        {
          "name": "stderr",
          "output_type": "stream",
          "text": [
            " 39%|███▉      | 39/100 [06:49<10:29, 10.32s/epoch, loss=0.915, accuracy=0.596, val_loss=0.907, val_accuracy=0.592]"
          ]
        },
        {
          "name": "stdout",
          "output_type": "stream",
          "text": [
            "413/413 [==============================] - 10s 25ms/step - loss: 0.9154 - accuracy: 0.5958 - val_loss: 0.9075 - val_accuracy: 0.5923\n",
            "Epoch 40/100\n",
            "413/413 [==============================] - ETA: 0s - loss: 0.9164 - accuracy: 0.5944"
          ]
        },
        {
          "name": "stderr",
          "output_type": "stream",
          "text": [
            " 40%|████      | 40/100 [07:00<10:29, 10.49s/epoch, loss=0.916, accuracy=0.594, val_loss=0.905, val_accuracy=0.598]"
          ]
        },
        {
          "name": "stdout",
          "output_type": "stream",
          "text": [
            "413/413 [==============================] - 11s 26ms/step - loss: 0.9164 - accuracy: 0.5944 - val_loss: 0.9049 - val_accuracy: 0.5984\n",
            "Epoch 41/100\n",
            "412/413 [============================>.] - ETA: 0s - loss: 0.9148 - accuracy: 0.5962"
          ]
        },
        {
          "name": "stderr",
          "output_type": "stream",
          "text": [
            " 41%|████      | 41/100 [07:11<10:23, 10.57s/epoch, loss=0.915, accuracy=0.596, val_loss=0.906, val_accuracy=0.593]"
          ]
        },
        {
          "name": "stdout",
          "output_type": "stream",
          "text": [
            "413/413 [==============================] - 11s 26ms/step - loss: 0.9150 - accuracy: 0.5960 - val_loss: 0.9063 - val_accuracy: 0.5929\n",
            "Epoch 42/100\n",
            "411/413 [============================>.] - ETA: 0s - loss: 0.9115 - accuracy: 0.5963"
          ]
        },
        {
          "name": "stderr",
          "output_type": "stream",
          "text": [
            " 42%|████▏     | 42/100 [07:21<10:13, 10.58s/epoch, loss=0.912, accuracy=0.596, val_loss=0.906, val_accuracy=0.589]"
          ]
        },
        {
          "name": "stdout",
          "output_type": "stream",
          "text": [
            "413/413 [==============================] - 11s 26ms/step - loss: 0.9118 - accuracy: 0.5959 - val_loss: 0.9056 - val_accuracy: 0.5890\n",
            "Epoch 43/100\n",
            "411/413 [============================>.] - ETA: 0s - loss: 0.9098 - accuracy: 0.5960"
          ]
        },
        {
          "name": "stderr",
          "output_type": "stream",
          "text": [
            " 43%|████▎     | 43/100 [07:32<10:04, 10.60s/epoch, loss=0.91, accuracy=0.596, val_loss=0.904, val_accuracy=0.592] "
          ]
        },
        {
          "name": "stdout",
          "output_type": "stream",
          "text": [
            "413/413 [==============================] - 11s 26ms/step - loss: 0.9097 - accuracy: 0.5961 - val_loss: 0.9037 - val_accuracy: 0.5920\n",
            "Epoch 44/100\n",
            "412/413 [============================>.] - ETA: 0s - loss: 0.9131 - accuracy: 0.5970"
          ]
        },
        {
          "name": "stderr",
          "output_type": "stream",
          "text": [
            " 44%|████▍     | 44/100 [07:42<09:53, 10.60s/epoch, loss=0.913, accuracy=0.597, val_loss=0.906, val_accuracy=0.594]"
          ]
        },
        {
          "name": "stdout",
          "output_type": "stream",
          "text": [
            "413/413 [==============================] - 11s 26ms/step - loss: 0.9131 - accuracy: 0.5970 - val_loss: 0.9058 - val_accuracy: 0.5942\n",
            "Epoch 45/100\n",
            "412/413 [============================>.] - ETA: 0s - loss: 0.9116 - accuracy: 0.5967"
          ]
        },
        {
          "name": "stderr",
          "output_type": "stream",
          "text": [
            " 45%|████▌     | 45/100 [07:53<09:43, 10.61s/epoch, loss=0.912, accuracy=0.597, val_loss=0.91, val_accuracy=0.586] "
          ]
        },
        {
          "name": "stdout",
          "output_type": "stream",
          "text": [
            "413/413 [==============================] - 11s 26ms/step - loss: 0.9115 - accuracy: 0.5968 - val_loss: 0.9097 - val_accuracy: 0.5863\n",
            "Epoch 46/100\n",
            "412/413 [============================>.] - ETA: 0s - loss: 0.9126 - accuracy: 0.5998"
          ]
        },
        {
          "name": "stderr",
          "output_type": "stream",
          "text": [
            " 46%|████▌     | 46/100 [08:04<09:32, 10.60s/epoch, loss=0.913, accuracy=0.6, val_loss=0.906, val_accuracy=0.594] "
          ]
        },
        {
          "name": "stdout",
          "output_type": "stream",
          "text": [
            "413/413 [==============================] - 11s 26ms/step - loss: 0.9127 - accuracy: 0.5997 - val_loss: 0.9064 - val_accuracy: 0.5936\n",
            "Epoch 47/100\n",
            "412/413 [============================>.] - ETA: 0s - loss: 0.9100 - accuracy: 0.5983"
          ]
        },
        {
          "name": "stderr",
          "output_type": "stream",
          "text": [
            " 47%|████▋     | 47/100 [08:14<09:21, 10.60s/epoch, loss=0.91, accuracy=0.598, val_loss=0.905, val_accuracy=0.594]"
          ]
        },
        {
          "name": "stdout",
          "output_type": "stream",
          "text": [
            "413/413 [==============================] - 11s 26ms/step - loss: 0.9100 - accuracy: 0.5982 - val_loss: 0.9045 - val_accuracy: 0.5936\n",
            "Epoch 48/100\n",
            "411/413 [============================>.] - ETA: 0s - loss: 0.9067 - accuracy: 0.6020"
          ]
        },
        {
          "name": "stderr",
          "output_type": "stream",
          "text": [
            " 48%|████▊     | 48/100 [08:25<09:11, 10.60s/epoch, loss=0.907, accuracy=0.602, val_loss=0.901, val_accuracy=0.597]"
          ]
        },
        {
          "name": "stdout",
          "output_type": "stream",
          "text": [
            "413/413 [==============================] - 11s 26ms/step - loss: 0.9066 - accuracy: 0.6023 - val_loss: 0.9010 - val_accuracy: 0.5971\n",
            "Epoch 49/100\n",
            "411/413 [============================>.] - ETA: 0s - loss: 0.9082 - accuracy: 0.6023"
          ]
        },
        {
          "name": "stderr",
          "output_type": "stream",
          "text": [
            " 49%|████▉     | 49/100 [08:36<09:04, 10.68s/epoch, loss=0.908, accuracy=0.602, val_loss=0.904, val_accuracy=0.594]"
          ]
        },
        {
          "name": "stdout",
          "output_type": "stream",
          "text": [
            "413/413 [==============================] - 11s 26ms/step - loss: 0.9082 - accuracy: 0.6022 - val_loss: 0.9036 - val_accuracy: 0.5942\n",
            "Epoch 50/100\n",
            "412/413 [============================>.] - ETA: 0s - loss: 0.9081 - accuracy: 0.5998"
          ]
        },
        {
          "name": "stderr",
          "output_type": "stream",
          "text": [
            " 50%|█████     | 50/100 [08:47<08:56, 10.74s/epoch, loss=0.908, accuracy=0.6, val_loss=0.915, val_accuracy=0.583]  "
          ]
        },
        {
          "name": "stdout",
          "output_type": "stream",
          "text": [
            "413/413 [==============================] - 11s 26ms/step - loss: 0.9080 - accuracy: 0.5999 - val_loss: 0.9145 - val_accuracy: 0.5826\n",
            "Epoch 51/100\n",
            "413/413 [==============================] - ETA: 0s - loss: 0.9062 - accuracy: 0.6032"
          ]
        },
        {
          "name": "stderr",
          "output_type": "stream",
          "text": [
            " 51%|█████     | 51/100 [08:58<08:50, 10.83s/epoch, loss=0.906, accuracy=0.603, val_loss=0.901, val_accuracy=0.594]"
          ]
        },
        {
          "name": "stdout",
          "output_type": "stream",
          "text": [
            "413/413 [==============================] - 11s 27ms/step - loss: 0.9062 - accuracy: 0.6032 - val_loss: 0.9006 - val_accuracy: 0.5938\n",
            "Epoch 52/100\n",
            "413/413 [==============================] - ETA: 0s - loss: 0.9079 - accuracy: 0.6018"
          ]
        },
        {
          "name": "stderr",
          "output_type": "stream",
          "text": [
            " 52%|█████▏    | 52/100 [09:08<08:38, 10.80s/epoch, loss=0.908, accuracy=0.602, val_loss=0.9, val_accuracy=0.599]  "
          ]
        },
        {
          "name": "stdout",
          "output_type": "stream",
          "text": [
            "413/413 [==============================] - 11s 26ms/step - loss: 0.9079 - accuracy: 0.6018 - val_loss: 0.8995 - val_accuracy: 0.5985\n",
            "Epoch 53/100\n",
            "411/413 [============================>.] - ETA: 0s - loss: 0.9036 - accuracy: 0.6017"
          ]
        },
        {
          "name": "stderr",
          "output_type": "stream",
          "text": [
            " 53%|█████▎    | 53/100 [09:19<08:32, 10.90s/epoch, loss=0.903, accuracy=0.602, val_loss=0.901, val_accuracy=0.594]"
          ]
        },
        {
          "name": "stdout",
          "output_type": "stream",
          "text": [
            "413/413 [==============================] - 11s 27ms/step - loss: 0.9034 - accuracy: 0.6016 - val_loss: 0.9007 - val_accuracy: 0.5937\n",
            "Epoch 54/100\n",
            "413/413 [==============================] - ETA: 0s - loss: 0.9037 - accuracy: 0.6022"
          ]
        },
        {
          "name": "stderr",
          "output_type": "stream",
          "text": [
            " 54%|█████▍    | 54/100 [09:30<08:23, 10.94s/epoch, loss=0.904, accuracy=0.602, val_loss=0.9, val_accuracy=0.595]  "
          ]
        },
        {
          "name": "stdout",
          "output_type": "stream",
          "text": [
            "413/413 [==============================] - 11s 27ms/step - loss: 0.9037 - accuracy: 0.6022 - val_loss: 0.8997 - val_accuracy: 0.5955\n",
            "Epoch 55/100\n",
            "411/413 [============================>.] - ETA: 0s - loss: 0.9028 - accuracy: 0.6021"
          ]
        },
        {
          "name": "stderr",
          "output_type": "stream",
          "text": [
            " 55%|█████▌    | 55/100 [09:41<08:07, 10.84s/epoch, loss=0.903, accuracy=0.602, val_loss=0.898, val_accuracy=0.599]"
          ]
        },
        {
          "name": "stdout",
          "output_type": "stream",
          "text": [
            "413/413 [==============================] - 11s 26ms/step - loss: 0.9029 - accuracy: 0.6023 - val_loss: 0.8982 - val_accuracy: 0.5986\n",
            "Epoch 56/100\n",
            "412/413 [============================>.] - ETA: 0s - loss: 0.8978 - accuracy: 0.6045"
          ]
        },
        {
          "name": "stderr",
          "output_type": "stream",
          "text": [
            " 56%|█████▌    | 56/100 [09:51<07:49, 10.68s/epoch, loss=0.898, accuracy=0.604, val_loss=0.899, val_accuracy=0.595]"
          ]
        },
        {
          "name": "stdout",
          "output_type": "stream",
          "text": [
            "413/413 [==============================] - 10s 25ms/step - loss: 0.8979 - accuracy: 0.6044 - val_loss: 0.8994 - val_accuracy: 0.5952\n",
            "Epoch 57/100\n",
            "412/413 [============================>.] - ETA: 0s - loss: 0.9001 - accuracy: 0.6050"
          ]
        },
        {
          "name": "stderr",
          "output_type": "stream",
          "text": [
            " 57%|█████▋    | 57/100 [10:02<07:32, 10.52s/epoch, loss=0.9, accuracy=0.605, val_loss=0.892, val_accuracy=0.606]  "
          ]
        },
        {
          "name": "stdout",
          "output_type": "stream",
          "text": [
            "413/413 [==============================] - 10s 25ms/step - loss: 0.9001 - accuracy: 0.6050 - val_loss: 0.8923 - val_accuracy: 0.6061\n",
            "Epoch 58/100\n",
            "411/413 [============================>.] - ETA: 0s - loss: 0.9014 - accuracy: 0.6053"
          ]
        },
        {
          "name": "stderr",
          "output_type": "stream",
          "text": [
            " 58%|█████▊    | 58/100 [10:12<07:20, 10.48s/epoch, loss=0.902, accuracy=0.605, val_loss=0.896, val_accuracy=0.607]"
          ]
        },
        {
          "name": "stdout",
          "output_type": "stream",
          "text": [
            "413/413 [==============================] - 10s 25ms/step - loss: 0.9017 - accuracy: 0.6050 - val_loss: 0.8956 - val_accuracy: 0.6074\n",
            "Epoch 59/100\n",
            "413/413 [==============================] - ETA: 0s - loss: 0.9009 - accuracy: 0.6081"
          ]
        },
        {
          "name": "stderr",
          "output_type": "stream",
          "text": [
            " 59%|█████▉    | 59/100 [10:23<07:15, 10.61s/epoch, loss=0.901, accuracy=0.608, val_loss=0.895, val_accuracy=0.601]"
          ]
        },
        {
          "name": "stdout",
          "output_type": "stream",
          "text": [
            "413/413 [==============================] - 11s 26ms/step - loss: 0.9009 - accuracy: 0.6081 - val_loss: 0.8948 - val_accuracy: 0.6013\n",
            "Epoch 60/100\n",
            "412/413 [============================>.] - ETA: 0s - loss: 0.8980 - accuracy: 0.6047"
          ]
        },
        {
          "name": "stderr",
          "output_type": "stream",
          "text": [
            " 60%|██████    | 60/100 [10:34<07:08, 10.72s/epoch, loss=0.898, accuracy=0.605, val_loss=0.896, val_accuracy=0.601]"
          ]
        },
        {
          "name": "stdout",
          "output_type": "stream",
          "text": [
            "413/413 [==============================] - 11s 27ms/step - loss: 0.8980 - accuracy: 0.6048 - val_loss: 0.8962 - val_accuracy: 0.6014\n",
            "Epoch 61/100\n",
            "413/413 [==============================] - ETA: 0s - loss: 0.8990 - accuracy: 0.6069"
          ]
        },
        {
          "name": "stderr",
          "output_type": "stream",
          "text": [
            " 61%|██████    | 61/100 [10:45<07:01, 10.80s/epoch, loss=0.899, accuracy=0.607, val_loss=0.897, val_accuracy=0.602]"
          ]
        },
        {
          "name": "stdout",
          "output_type": "stream",
          "text": [
            "413/413 [==============================] - 11s 27ms/step - loss: 0.8990 - accuracy: 0.6069 - val_loss: 0.8970 - val_accuracy: 0.6018\n",
            "Epoch 62/100\n",
            "413/413 [==============================] - ETA: 0s - loss: 0.8958 - accuracy: 0.6080"
          ]
        },
        {
          "name": "stderr",
          "output_type": "stream",
          "text": [
            " 62%|██████▏   | 62/100 [10:56<06:52, 10.86s/epoch, loss=0.896, accuracy=0.608, val_loss=0.895, val_accuracy=0.6]  "
          ]
        },
        {
          "name": "stdout",
          "output_type": "stream",
          "text": [
            "413/413 [==============================] - 11s 27ms/step - loss: 0.8958 - accuracy: 0.6080 - val_loss: 0.8953 - val_accuracy: 0.5998\n",
            "Epoch 63/100\n",
            "411/413 [============================>.] - ETA: 0s - loss: 0.8955 - accuracy: 0.6074"
          ]
        },
        {
          "name": "stderr",
          "output_type": "stream",
          "text": [
            " 63%|██████▎   | 63/100 [11:07<06:43, 10.90s/epoch, loss=0.895, accuracy=0.608, val_loss=0.898, val_accuracy=0.604]"
          ]
        },
        {
          "name": "stdout",
          "output_type": "stream",
          "text": [
            "413/413 [==============================] - 11s 27ms/step - loss: 0.8954 - accuracy: 0.6076 - val_loss: 0.8979 - val_accuracy: 0.6038\n",
            "Epoch 64/100\n",
            "412/413 [============================>.] - ETA: 0s - loss: 0.8950 - accuracy: 0.6073"
          ]
        },
        {
          "name": "stderr",
          "output_type": "stream",
          "text": [
            " 64%|██████▍   | 64/100 [11:18<06:32, 10.91s/epoch, loss=0.895, accuracy=0.607, val_loss=0.896, val_accuracy=0.602]"
          ]
        },
        {
          "name": "stdout",
          "output_type": "stream",
          "text": [
            "413/413 [==============================] - 11s 26ms/step - loss: 0.8949 - accuracy: 0.6073 - val_loss: 0.8962 - val_accuracy: 0.6021\n",
            "Epoch 65/100\n",
            "411/413 [============================>.] - ETA: 0s - loss: 0.8958 - accuracy: 0.6072"
          ]
        },
        {
          "name": "stderr",
          "output_type": "stream",
          "text": [
            " 65%|██████▌   | 65/100 [11:29<06:20, 10.88s/epoch, loss=0.896, accuracy=0.607, val_loss=0.898, val_accuracy=0.604]"
          ]
        },
        {
          "name": "stdout",
          "output_type": "stream",
          "text": [
            "413/413 [==============================] - 11s 26ms/step - loss: 0.8958 - accuracy: 0.6072 - val_loss: 0.8985 - val_accuracy: 0.6038\n",
            "Epoch 66/100\n",
            "413/413 [==============================] - ETA: 0s - loss: 0.8966 - accuracy: 0.6096"
          ]
        },
        {
          "name": "stderr",
          "output_type": "stream",
          "text": [
            " 66%|██████▌   | 66/100 [11:39<06:09, 10.87s/epoch, loss=0.897, accuracy=0.61, val_loss=0.899, val_accuracy=0.6]   "
          ]
        },
        {
          "name": "stdout",
          "output_type": "stream",
          "text": [
            "413/413 [==============================] - 11s 26ms/step - loss: 0.8966 - accuracy: 0.6096 - val_loss: 0.8994 - val_accuracy: 0.6003\n",
            "Epoch 67/100\n",
            "411/413 [============================>.] - ETA: 0s - loss: 0.8968 - accuracy: 0.6094"
          ]
        },
        {
          "name": "stderr",
          "output_type": "stream",
          "text": [
            " 67%|██████▋   | 67/100 [11:50<05:57, 10.84s/epoch, loss=0.897, accuracy=0.609, val_loss=0.897, val_accuracy=0.608]"
          ]
        },
        {
          "name": "stdout",
          "output_type": "stream",
          "text": [
            "413/413 [==============================] - 11s 26ms/step - loss: 0.8966 - accuracy: 0.6093 - val_loss: 0.8970 - val_accuracy: 0.6075\n",
            "Epoch 68/100\n",
            "412/413 [============================>.] - ETA: 0s - loss: 0.8945 - accuracy: 0.6102"
          ]
        },
        {
          "name": "stderr",
          "output_type": "stream",
          "text": [
            " 68%|██████▊   | 68/100 [12:01<05:46, 10.82s/epoch, loss=0.895, accuracy=0.61, val_loss=0.905, val_accuracy=0.593] "
          ]
        },
        {
          "name": "stdout",
          "output_type": "stream",
          "text": [
            "413/413 [==============================] - 11s 26ms/step - loss: 0.8945 - accuracy: 0.6101 - val_loss: 0.9046 - val_accuracy: 0.5932\n",
            "Epoch 69/100\n",
            "413/413 [==============================] - ETA: 0s - loss: 0.8915 - accuracy: 0.6083"
          ]
        },
        {
          "name": "stderr",
          "output_type": "stream",
          "text": [
            " 69%|██████▉   | 69/100 [12:12<05:34, 10.80s/epoch, loss=0.891, accuracy=0.608, val_loss=0.9, val_accuracy=0.601] "
          ]
        },
        {
          "name": "stdout",
          "output_type": "stream",
          "text": [
            "413/413 [==============================] - 11s 26ms/step - loss: 0.8915 - accuracy: 0.6083 - val_loss: 0.8995 - val_accuracy: 0.6014\n",
            "Epoch 70/100\n",
            "412/413 [============================>.] - ETA: 0s - loss: 0.8901 - accuracy: 0.6109"
          ]
        },
        {
          "name": "stderr",
          "output_type": "stream",
          "text": [
            " 70%|███████   | 70/100 [12:23<05:24, 10.83s/epoch, loss=0.89, accuracy=0.611, val_loss=0.905, val_accuracy=0.592]"
          ]
        },
        {
          "name": "stdout",
          "output_type": "stream",
          "text": [
            "413/413 [==============================] - 11s 26ms/step - loss: 0.8901 - accuracy: 0.6109 - val_loss: 0.9049 - val_accuracy: 0.5919\n",
            "Epoch 71/100\n",
            "411/413 [============================>.] - ETA: 0s - loss: 0.8880 - accuracy: 0.6134"
          ]
        },
        {
          "name": "stderr",
          "output_type": "stream",
          "text": [
            " 71%|███████   | 71/100 [12:33<05:13, 10.83s/epoch, loss=0.888, accuracy=0.613, val_loss=0.904, val_accuracy=0.595]"
          ]
        },
        {
          "name": "stdout",
          "output_type": "stream",
          "text": [
            "413/413 [==============================] - 11s 26ms/step - loss: 0.8878 - accuracy: 0.6135 - val_loss: 0.9037 - val_accuracy: 0.5948\n",
            "Epoch 72/100\n",
            "411/413 [============================>.] - ETA: 0s - loss: 0.8938 - accuracy: 0.6084"
          ]
        },
        {
          "name": "stderr",
          "output_type": "stream",
          "text": [
            " 72%|███████▏  | 72/100 [12:44<05:02, 10.81s/epoch, loss=0.894, accuracy=0.609, val_loss=0.899, val_accuracy=0.606]"
          ]
        },
        {
          "name": "stdout",
          "output_type": "stream",
          "text": [
            "413/413 [==============================] - 11s 26ms/step - loss: 0.8937 - accuracy: 0.6087 - val_loss: 0.8988 - val_accuracy: 0.6059\n",
            "Epoch 73/100\n",
            "413/413 [==============================] - ETA: 0s - loss: 0.8872 - accuracy: 0.6118"
          ]
        },
        {
          "name": "stderr",
          "output_type": "stream",
          "text": [
            " 73%|███████▎  | 73/100 [12:55<04:51, 10.79s/epoch, loss=0.887, accuracy=0.612, val_loss=0.903, val_accuracy=0.602]"
          ]
        },
        {
          "name": "stdout",
          "output_type": "stream",
          "text": [
            "413/413 [==============================] - 11s 26ms/step - loss: 0.8872 - accuracy: 0.6118 - val_loss: 0.9026 - val_accuracy: 0.6023\n",
            "Epoch 74/100\n",
            "412/413 [============================>.] - ETA: 0s - loss: 0.8883 - accuracy: 0.6112"
          ]
        },
        {
          "name": "stderr",
          "output_type": "stream",
          "text": [
            " 74%|███████▍  | 74/100 [13:06<04:40, 10.78s/epoch, loss=0.888, accuracy=0.611, val_loss=0.902, val_accuracy=0.602]"
          ]
        },
        {
          "name": "stdout",
          "output_type": "stream",
          "text": [
            "413/413 [==============================] - 11s 26ms/step - loss: 0.8882 - accuracy: 0.6112 - val_loss: 0.9019 - val_accuracy: 0.6018\n",
            "Epoch 75/100\n",
            "413/413 [==============================] - ETA: 0s - loss: 0.8883 - accuracy: 0.6116"
          ]
        },
        {
          "name": "stderr",
          "output_type": "stream",
          "text": [
            " 75%|███████▌  | 75/100 [13:16<04:29, 10.77s/epoch, loss=0.888, accuracy=0.612, val_loss=0.896, val_accuracy=0.604]"
          ]
        },
        {
          "name": "stdout",
          "output_type": "stream",
          "text": [
            "413/413 [==============================] - 11s 26ms/step - loss: 0.8883 - accuracy: 0.6116 - val_loss: 0.8962 - val_accuracy: 0.6043\n",
            "Epoch 76/100\n",
            "412/413 [============================>.] - ETA: 0s - loss: 0.8869 - accuracy: 0.6161"
          ]
        },
        {
          "name": "stderr",
          "output_type": "stream",
          "text": [
            " 76%|███████▌  | 76/100 [13:27<04:18, 10.77s/epoch, loss=0.887, accuracy=0.616, val_loss=0.904, val_accuracy=0.6]  "
          ]
        },
        {
          "name": "stdout",
          "output_type": "stream",
          "text": [
            "413/413 [==============================] - 11s 26ms/step - loss: 0.8871 - accuracy: 0.6160 - val_loss: 0.9038 - val_accuracy: 0.6004\n",
            "Epoch 77/100\n",
            "412/413 [============================>.] - ETA: 0s - loss: 0.8836 - accuracy: 0.6149"
          ]
        },
        {
          "name": "stderr",
          "output_type": "stream",
          "text": [
            " 77%|███████▋  | 77/100 [13:38<04:05, 10.68s/epoch, loss=0.884, accuracy=0.615, val_loss=0.899, val_accuracy=0.602]"
          ]
        },
        {
          "name": "stdout",
          "output_type": "stream",
          "text": [
            "413/413 [==============================] - 10s 25ms/step - loss: 0.8839 - accuracy: 0.6147 - val_loss: 0.8988 - val_accuracy: 0.6024\n",
            "Epoch 78/100\n",
            "411/413 [============================>.] - ETA: 0s - loss: 0.8857 - accuracy: 0.6145"
          ]
        },
        {
          "name": "stderr",
          "output_type": "stream",
          "text": [
            " 78%|███████▊  | 78/100 [13:48<03:52, 10.59s/epoch, loss=0.886, accuracy=0.615, val_loss=0.908, val_accuracy=0.596]"
          ]
        },
        {
          "name": "stdout",
          "output_type": "stream",
          "text": [
            "413/413 [==============================] - 10s 25ms/step - loss: 0.8857 - accuracy: 0.6148 - val_loss: 0.9083 - val_accuracy: 0.5962\n",
            "Epoch 79/100\n",
            "411/413 [============================>.] - ETA: 0s - loss: 0.8847 - accuracy: 0.6154"
          ]
        },
        {
          "name": "stderr",
          "output_type": "stream",
          "text": [
            " 79%|███████▉  | 79/100 [13:58<03:41, 10.55s/epoch, loss=0.885, accuracy=0.615, val_loss=0.901, val_accuracy=0.601]"
          ]
        },
        {
          "name": "stdout",
          "output_type": "stream",
          "text": [
            "413/413 [==============================] - 10s 25ms/step - loss: 0.8846 - accuracy: 0.6154 - val_loss: 0.9008 - val_accuracy: 0.6007\n",
            "Epoch 80/100\n",
            "411/413 [============================>.] - ETA: 0s - loss: 0.8835 - accuracy: 0.6171"
          ]
        },
        {
          "name": "stderr",
          "output_type": "stream",
          "text": [
            " 80%|████████  | 80/100 [14:09<03:29, 10.48s/epoch, loss=0.883, accuracy=0.617, val_loss=0.907, val_accuracy=0.59] "
          ]
        },
        {
          "name": "stdout",
          "output_type": "stream",
          "text": [
            "413/413 [==============================] - 10s 25ms/step - loss: 0.8832 - accuracy: 0.6174 - val_loss: 0.9072 - val_accuracy: 0.5904\n",
            "Epoch 81/100\n",
            "412/413 [============================>.] - ETA: 0s - loss: 0.8834 - accuracy: 0.6174"
          ]
        },
        {
          "name": "stderr",
          "output_type": "stream",
          "text": [
            " 81%|████████  | 81/100 [14:19<03:18, 10.43s/epoch, loss=0.883, accuracy=0.617, val_loss=0.9, val_accuracy=0.599] "
          ]
        },
        {
          "name": "stdout",
          "output_type": "stream",
          "text": [
            "413/413 [==============================] - 10s 25ms/step - loss: 0.8832 - accuracy: 0.6174 - val_loss: 0.8998 - val_accuracy: 0.5990\n",
            "Epoch 82/100\n",
            "412/413 [============================>.] - ETA: 0s - loss: 0.8801 - accuracy: 0.6165"
          ]
        },
        {
          "name": "stderr",
          "output_type": "stream",
          "text": [
            " 82%|████████▏ | 82/100 [14:29<03:06, 10.38s/epoch, loss=0.88, accuracy=0.617, val_loss=0.898, val_accuracy=0.608]"
          ]
        },
        {
          "name": "stdout",
          "output_type": "stream",
          "text": [
            "413/413 [==============================] - 10s 25ms/step - loss: 0.8801 - accuracy: 0.6165 - val_loss: 0.8985 - val_accuracy: 0.6075\n",
            "Epoch 83/100\n",
            "412/413 [============================>.] - ETA: 0s - loss: 0.8789 - accuracy: 0.6177"
          ]
        },
        {
          "name": "stderr",
          "output_type": "stream",
          "text": [
            " 83%|████████▎ | 83/100 [14:40<02:55, 10.35s/epoch, loss=0.879, accuracy=0.618, val_loss=0.905, val_accuracy=0.605]"
          ]
        },
        {
          "name": "stdout",
          "output_type": "stream",
          "text": [
            "413/413 [==============================] - 10s 25ms/step - loss: 0.8788 - accuracy: 0.6177 - val_loss: 0.9047 - val_accuracy: 0.6048\n",
            "Epoch 84/100\n",
            "412/413 [============================>.] - ETA: 0s - loss: 0.8752 - accuracy: 0.6195"
          ]
        },
        {
          "name": "stderr",
          "output_type": "stream",
          "text": [
            " 84%|████████▍ | 84/100 [14:50<02:45, 10.32s/epoch, loss=0.875, accuracy=0.619, val_loss=0.906, val_accuracy=0.6]  "
          ]
        },
        {
          "name": "stdout",
          "output_type": "stream",
          "text": [
            "413/413 [==============================] - 10s 25ms/step - loss: 0.8752 - accuracy: 0.6193 - val_loss: 0.9060 - val_accuracy: 0.5996\n",
            "Epoch 85/100\n",
            "412/413 [============================>.] - ETA: 0s - loss: 0.8787 - accuracy: 0.6181"
          ]
        },
        {
          "name": "stderr",
          "output_type": "stream",
          "text": [
            " 85%|████████▌ | 85/100 [15:00<02:34, 10.30s/epoch, loss=0.879, accuracy=0.618, val_loss=0.907, val_accuracy=0.596]"
          ]
        },
        {
          "name": "stdout",
          "output_type": "stream",
          "text": [
            "413/413 [==============================] - 10s 25ms/step - loss: 0.8787 - accuracy: 0.6180 - val_loss: 0.9071 - val_accuracy: 0.5957\n",
            "Epoch 86/100\n",
            "412/413 [============================>.] - ETA: 0s - loss: 0.8758 - accuracy: 0.6191"
          ]
        },
        {
          "name": "stderr",
          "output_type": "stream",
          "text": [
            " 86%|████████▌ | 86/100 [15:10<02:24, 10.29s/epoch, loss=0.876, accuracy=0.619, val_loss=0.898, val_accuracy=0.605]"
          ]
        },
        {
          "name": "stdout",
          "output_type": "stream",
          "text": [
            "413/413 [==============================] - 10s 25ms/step - loss: 0.8757 - accuracy: 0.6191 - val_loss: 0.8978 - val_accuracy: 0.6050\n",
            "Epoch 87/100\n",
            "412/413 [============================>.] - ETA: 0s - loss: 0.8751 - accuracy: 0.6201"
          ]
        },
        {
          "name": "stderr",
          "output_type": "stream",
          "text": [
            " 87%|████████▋ | 87/100 [15:21<02:13, 10.29s/epoch, loss=0.875, accuracy=0.62, val_loss=0.908, val_accuracy=0.596] "
          ]
        },
        {
          "name": "stdout",
          "output_type": "stream",
          "text": [
            "413/413 [==============================] - 10s 25ms/step - loss: 0.8750 - accuracy: 0.6201 - val_loss: 0.9083 - val_accuracy: 0.5960\n",
            "Epoch 88/100\n",
            "412/413 [============================>.] - ETA: 0s - loss: 0.8733 - accuracy: 0.6213"
          ]
        },
        {
          "name": "stderr",
          "output_type": "stream",
          "text": [
            " 88%|████████▊ | 88/100 [15:31<02:03, 10.29s/epoch, loss=0.873, accuracy=0.621, val_loss=0.908, val_accuracy=0.597]"
          ]
        },
        {
          "name": "stdout",
          "output_type": "stream",
          "text": [
            "413/413 [==============================] - 10s 25ms/step - loss: 0.8733 - accuracy: 0.6213 - val_loss: 0.9083 - val_accuracy: 0.5972\n",
            "Epoch 89/100\n",
            "412/413 [============================>.] - ETA: 0s - loss: 0.8741 - accuracy: 0.6192"
          ]
        },
        {
          "name": "stderr",
          "output_type": "stream",
          "text": [
            " 89%|████████▉ | 89/100 [15:41<01:53, 10.28s/epoch, loss=0.874, accuracy=0.619, val_loss=0.905, val_accuracy=0.597]"
          ]
        },
        {
          "name": "stdout",
          "output_type": "stream",
          "text": [
            "413/413 [==============================] - 10s 25ms/step - loss: 0.8741 - accuracy: 0.6191 - val_loss: 0.9045 - val_accuracy: 0.5966\n",
            "Epoch 90/100\n",
            "411/413 [============================>.] - ETA: 0s - loss: 0.8716 - accuracy: 0.6221"
          ]
        },
        {
          "name": "stderr",
          "output_type": "stream",
          "text": [
            " 90%|█████████ | 90/100 [15:52<01:43, 10.31s/epoch, loss=0.872, accuracy=0.622, val_loss=0.897, val_accuracy=0.608]"
          ]
        },
        {
          "name": "stdout",
          "output_type": "stream",
          "text": [
            "413/413 [==============================] - 10s 25ms/step - loss: 0.8718 - accuracy: 0.6222 - val_loss: 0.8968 - val_accuracy: 0.6075\n",
            "Epoch 91/100\n",
            "411/413 [============================>.] - ETA: 0s - loss: 0.8725 - accuracy: 0.6203"
          ]
        },
        {
          "name": "stderr",
          "output_type": "stream",
          "text": [
            " 91%|█████████ | 91/100 [16:02<01:32, 10.33s/epoch, loss=0.873, accuracy=0.62, val_loss=0.908, val_accuracy=0.597] "
          ]
        },
        {
          "name": "stdout",
          "output_type": "stream",
          "text": [
            "413/413 [==============================] - 10s 25ms/step - loss: 0.8727 - accuracy: 0.6203 - val_loss: 0.9077 - val_accuracy: 0.5972\n",
            "Epoch 92/100\n",
            "412/413 [============================>.] - ETA: 0s - loss: 0.8681 - accuracy: 0.6233"
          ]
        },
        {
          "name": "stderr",
          "output_type": "stream",
          "text": [
            " 92%|█████████▏| 92/100 [16:12<01:22, 10.35s/epoch, loss=0.868, accuracy=0.623, val_loss=0.901, val_accuracy=0.601]"
          ]
        },
        {
          "name": "stdout",
          "output_type": "stream",
          "text": [
            "413/413 [==============================] - 10s 25ms/step - loss: 0.8681 - accuracy: 0.6232 - val_loss: 0.9013 - val_accuracy: 0.6012\n",
            "Epoch 93/100\n",
            "412/413 [============================>.] - ETA: 0s - loss: 0.8669 - accuracy: 0.6221"
          ]
        },
        {
          "name": "stderr",
          "output_type": "stream",
          "text": [
            " 93%|█████████▎| 93/100 [16:23<01:12, 10.38s/epoch, loss=0.867, accuracy=0.622, val_loss=0.912, val_accuracy=0.595]"
          ]
        },
        {
          "name": "stdout",
          "output_type": "stream",
          "text": [
            "413/413 [==============================] - 10s 25ms/step - loss: 0.8670 - accuracy: 0.6220 - val_loss: 0.9121 - val_accuracy: 0.5953\n",
            "Epoch 94/100\n",
            "412/413 [============================>.] - ETA: 0s - loss: 0.8704 - accuracy: 0.6220"
          ]
        },
        {
          "name": "stderr",
          "output_type": "stream",
          "text": [
            " 94%|█████████▍| 94/100 [16:33<01:02, 10.35s/epoch, loss=0.871, accuracy=0.622, val_loss=0.899, val_accuracy=0.607]"
          ]
        },
        {
          "name": "stdout",
          "output_type": "stream",
          "text": [
            "413/413 [==============================] - 10s 25ms/step - loss: 0.8706 - accuracy: 0.6219 - val_loss: 0.8991 - val_accuracy: 0.6074\n",
            "Epoch 95/100\n",
            "412/413 [============================>.] - ETA: 0s - loss: 0.8682 - accuracy: 0.6253"
          ]
        },
        {
          "name": "stderr",
          "output_type": "stream",
          "text": [
            " 95%|█████████▌| 95/100 [16:44<00:51, 10.38s/epoch, loss=0.868, accuracy=0.625, val_loss=0.906, val_accuracy=0.604]"
          ]
        },
        {
          "name": "stdout",
          "output_type": "stream",
          "text": [
            "413/413 [==============================] - 10s 25ms/step - loss: 0.8681 - accuracy: 0.6254 - val_loss: 0.9056 - val_accuracy: 0.6038\n",
            "Epoch 96/100\n",
            "413/413 [==============================] - ETA: 0s - loss: 0.8625 - accuracy: 0.6262"
          ]
        },
        {
          "name": "stderr",
          "output_type": "stream",
          "text": [
            " 96%|█████████▌| 96/100 [16:54<00:42, 10.50s/epoch, loss=0.862, accuracy=0.626, val_loss=0.9, val_accuracy=0.609]  "
          ]
        },
        {
          "name": "stdout",
          "output_type": "stream",
          "text": [
            "413/413 [==============================] - 11s 26ms/step - loss: 0.8625 - accuracy: 0.6262 - val_loss: 0.8995 - val_accuracy: 0.6093\n",
            "Epoch 97/100\n",
            "411/413 [============================>.] - ETA: 0s - loss: 0.8658 - accuracy: 0.6247"
          ]
        },
        {
          "name": "stderr",
          "output_type": "stream",
          "text": [
            " 97%|█████████▋| 97/100 [17:05<00:31, 10.46s/epoch, loss=0.866, accuracy=0.625, val_loss=0.904, val_accuracy=0.604]"
          ]
        },
        {
          "name": "stdout",
          "output_type": "stream",
          "text": [
            "413/413 [==============================] - 10s 25ms/step - loss: 0.8659 - accuracy: 0.6246 - val_loss: 0.9038 - val_accuracy: 0.6041\n",
            "Epoch 98/100\n",
            "412/413 [============================>.] - ETA: 0s - loss: 0.8639 - accuracy: 0.6249"
          ]
        },
        {
          "name": "stderr",
          "output_type": "stream",
          "text": [
            " 98%|█████████▊| 98/100 [17:15<00:20, 10.45s/epoch, loss=0.864, accuracy=0.625, val_loss=0.904, val_accuracy=0.605]"
          ]
        },
        {
          "name": "stdout",
          "output_type": "stream",
          "text": [
            "413/413 [==============================] - 10s 25ms/step - loss: 0.8637 - accuracy: 0.6250 - val_loss: 0.9045 - val_accuracy: 0.6054\n",
            "Epoch 99/100\n",
            "411/413 [============================>.] - ETA: 0s - loss: 0.8607 - accuracy: 0.6267"
          ]
        },
        {
          "name": "stderr",
          "output_type": "stream",
          "text": [
            " 99%|█████████▉| 99/100 [17:26<00:10, 10.46s/epoch, loss=0.861, accuracy=0.627, val_loss=0.908, val_accuracy=0.596]"
          ]
        },
        {
          "name": "stdout",
          "output_type": "stream",
          "text": [
            "413/413 [==============================] - 10s 25ms/step - loss: 0.8606 - accuracy: 0.6266 - val_loss: 0.9085 - val_accuracy: 0.5960\n",
            "Epoch 100/100\n",
            "413/413 [==============================] - ETA: 0s - loss: 0.8596 - accuracy: 0.6267"
          ]
        },
        {
          "name": "stderr",
          "output_type": "stream",
          "text": [
            "100%|██████████| 100/100 [17:36<00:00, 10.47s/epoch, loss=0.86, accuracy=0.627, val_loss=0.913, val_accuracy=0.603]"
          ]
        },
        {
          "name": "stdout",
          "output_type": "stream",
          "text": [
            "413/413 [==============================] - 11s 25ms/step - loss: 0.8596 - accuracy: 0.6267 - val_loss: 0.9131 - val_accuracy: 0.6028\n"
          ]
        },
        {
          "name": "stderr",
          "output_type": "stream",
          "text": [
            "100%|██████████| 100/100 [17:36<00:00, 10.57s/epoch, loss=0.86, accuracy=0.627, val_loss=0.913, val_accuracy=0.603]\n"
          ]
        }
      ],
      "source": [
        "import tensorflow as tf\n",
        "from tensorflow.keras.models import Sequential\n",
        "from tensorflow.keras.layers import Dense, Dropout, LSTM, BatchNormalization\n",
        "from tensorflow.keras.callbacks import ModelCheckpoint, TensorBoard\n",
        "import os\n",
        "from tqdm.keras import TqdmCallback\n",
        "import datetime\n",
        "\n",
        "# model\n",
        "model = Sequential()\n",
        "\n",
        "for _ in range(layers-1):\n",
        "  model.add(LSTM(nodes, activation=\"tanh\", recurrent_activation = 'sigmoid', recurrent_dropout = 0, unroll = False, use_bias = True, input_shape=(train_x.shape[1:]), return_sequences=True))\n",
        "  model.add(Dropout(dropOut))\n",
        "  #model.add(BatchNormalization())\n",
        "\n",
        "model.add(LSTM(nodes, activation=\"tanh\", recurrent_activation = 'sigmoid', recurrent_dropout = 0, unroll = False, use_bias = True, input_shape=(train_x.shape[1:])))\n",
        "model.add(Dropout(dropOut))\n",
        "#model.add(BatchNormalization())\n",
        "\n",
        "model.add(Dense(denseNodes, activation=\"relu\"))\n",
        "model.add(Dropout(dropOut))\n",
        "\n",
        "model.add(Dense(3, activation=\"softmax\"))\n",
        "\n",
        "# opt  \n",
        "opt = tf.keras.optimizers.Adam(lr=learningRate) # decay?\n",
        "\n",
        "model.compile(loss=\"sparse_categorical_crossentropy\",\n",
        "              optimizer = opt,\n",
        "              metrics=[\"accuracy\"])\n",
        "\n",
        "filename = NAME + \"-{epoch:02d}\"\n",
        "filepath = f\"models/{filename}.h5\"\n",
        "checkpoint = ModelCheckpoint(filepath, monitor='val_loss', verbose=0, save_best_only=False, save_weights_only=False, mode='auto', period=1) # saves every epoch\n",
        "\n",
        "# Prepare TensorBoard callback\n",
        "log_dir = f\"logs/fit/{NAME}\" + datetime.datetime.now().strftime(\"%Y%m%d-%H%M%S\")\n",
        "tensorboard_callback = TensorBoard(log_dir=log_dir, histogram_freq=1)\n",
        "\n",
        "# train\n",
        "history = model.fit(\n",
        "  train_x, train_y,\n",
        "  batch_size = batchSize,\n",
        "  epochs = EPOCHS,\n",
        "  validation_data=(validation_x, validation_y),\n",
        "  callbacks=[checkpoint, TqdmCallback(verbose=0), tensorboard_callback])\n"
      ]
    }
  ],
  "metadata": {
    "accelerator": "GPU",
    "colab": {
      "collapsed_sections": [],
      "machine_shape": "hm",
      "name": "modelTrainPreClassified.ipynb",
      "provenance": []
    },
    "kernelspec": {
      "display_name": "Python 3",
      "name": "python3"
    },
    "language_info": {
      "codemirror_mode": {
        "name": "ipython",
        "version": 3
      },
      "file_extension": ".py",
      "mimetype": "text/x-python",
      "name": "python",
      "nbconvert_exporter": "python",
      "pygments_lexer": "ipython3",
      "version": "3.10.12"
    }
  },
  "nbformat": 4,
  "nbformat_minor": 0
}
