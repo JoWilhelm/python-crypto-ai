{
  "cells": [
    {
      "attachments": {},
      "cell_type": "markdown",
      "metadata": {
        "id": "M7KYj8EtoPxZ"
      },
      "source": [
        "# Constants:"
      ]
    },
    {
      "cell_type": "code",
      "execution_count": 1,
      "metadata": {
        "id": "ZsusFSopoVfn"
      },
      "outputs": [],
      "source": [
        "SEQ_LEN = 90\n",
        "CANDLES_SHIFT = 2 # how many candles to shift between sequences\n",
        "NAME = \"6bi_m30_ov40th015p_shift2_90\"\n",
        "VALIDATION_PCT = 0.2"
      ]
    },
    {
      "attachments": {},
      "cell_type": "markdown",
      "metadata": {
        "id": "oSqPTNz-m5fo"
      },
      "source": [
        "# Functions:"
      ]
    },
    {
      "attachments": {},
      "cell_type": "markdown",
      "metadata": {
        "id": "1V8NN17CqWGA"
      },
      "source": [
        "compose sequences df"
      ]
    },
    {
      "cell_type": "code",
      "execution_count": 2,
      "metadata": {},
      "outputs": [],
      "source": [
        "from tqdm import tqdm\n",
        "import numpy as np\n",
        "import pandas as pd\n",
        "\n",
        "# composes dfs of individual sequences from different timescales\n",
        "# dfs should be ordered fine to coarse with the finest one having the labels\n",
        "# seqLen should be divisible by the number of time-resolutions len(dfs)\n",
        "def composeTimeDecaySequences(dfs, timescales):\n",
        "    numTimeScales = len(dfs)\n",
        "    seqPartLen = int(SEQ_LEN/numTimeScales)\n",
        "\n",
        "    sequences = []\n",
        "    finestEndIndex = len(dfs[0])-1\n",
        "    numSequences = int((len(dfs[0]) - int(seqPartLen*(sum(timescales))/timescales[0]))/CANDLES_SHIFT)\n",
        "    for _ in tqdm(range(numSequences)):\n",
        "\n",
        "        lastTimestamp = dfs[0][\"ts_closeTime\"].iloc[finestEndIndex]+1\n",
        "        seqDf = pd.DataFrame()\n",
        "        for i in range(numTimeScales):\n",
        "\n",
        "            # get prev index. Last with ts_closeTime < lastTimestamp\n",
        "            endIndex = dfs[i][dfs[i][\"ts_closeTime\"] < lastTimestamp].index[-1]\n",
        "            seqDf = pd.concat([dfs[i][endIndex-seqPartLen:endIndex], seqDf])\n",
        "            lastTimestamp = seqDf[\"ts_closeTime\"].iloc[0]\n",
        "        \n",
        "\n",
        "        label = seqDf['target'].iloc[-1]\n",
        "        seqDf = seqDf[['close', 'weightedAverage', 'hl_percent', 'quantity_baseUnits', 'timescale']]\n",
        "        seq = seqDf.values.tolist()\n",
        "        if(len(seq) == SEQ_LEN):\n",
        "            sequences.append([seq, label])\n",
        "\n",
        "        finestEndIndex -= CANDLES_SHIFT\n",
        "\n",
        "    return sequences[::-1]\n",
        "    \n",
        "\n"
      ]
    },
    {
      "attachments": {},
      "cell_type": "markdown",
      "metadata": {
        "id": "v84s4MzlrJex"
      },
      "source": [
        "balance"
      ]
    },
    {
      "cell_type": "code",
      "execution_count": 3,
      "metadata": {
        "id": "Hddt3uD8rLYE"
      },
      "outputs": [],
      "source": [
        "def balance(seqs):\n",
        "    \n",
        "    buys = []\n",
        "    sells = []\n",
        "    holds = []\n",
        "    for seq in seqs:\n",
        "        if seq[1] == 0:\n",
        "            sells.append(seq)\n",
        "        elif seq[1] == 1:\n",
        "            buys.append(seq)\n",
        "        else:\n",
        "          holds.append(seq)\n",
        "\n",
        "    print(\"before balancing:\")\n",
        "    print(\"buys:\", len(buys), \", sells:\", len(sells), \", holds:\", len(holds))\n",
        "\n",
        "    smallest = min(len(buys), len(sells), len(holds))\n",
        "    buys = buys[:smallest]\n",
        "    sells = sells[:smallest]\n",
        "    holds = holds[:smallest]\n",
        "\n",
        "    seqsBalanced = buys+sells+holds\n",
        "    return seqsBalanced"
      ]
    },
    {
      "attachments": {},
      "cell_type": "markdown",
      "metadata": {
        "id": "puLrLHQCr2IF"
      },
      "source": [
        "preprocessing"
      ]
    },
    {
      "cell_type": "code",
      "execution_count": 4,
      "metadata": {},
      "outputs": [],
      "source": [
        "from sklearn.preprocessing import StandardScaler\n",
        "\n",
        "\n",
        "# Function to preprocess data\n",
        "def preprocess3_train(df):\n",
        "    # before sequencing\n",
        "    #\n",
        "    # log and pctchange transform price columns ('low', 'high', 'open', 'close')\n",
        "    # scale every colum (center mean and unit variance)\n",
        "\n",
        "    scaler_dict = {}\n",
        "    for col in df.columns:\n",
        "        \n",
        "        if col != 'target' and col != 'ts_closeTime':\n",
        "            if col != 'quantity_baseUnits' and col != 'hl_percent' and col != 'timescale':\n",
        "                df[col] = np.log(df[col])\n",
        "                df[col] = df[col].pct_change()\n",
        "                df.dropna(inplace=True)\n",
        "            scaler = StandardScaler()\n",
        "            df[col] = scaler.fit_transform(df[col].values.reshape(-1, 1))\n",
        "            scaler_dict[col] = scaler\n",
        "    df.index = np.arange(0, len(df))\n",
        "    return df, scaler_dict\n",
        "\n",
        "# Function to apply saved preprocessing to new data\n",
        "def apply_preprocess3_val(df, scaler_dict):\n",
        "    # before sequencing\n",
        "    #\n",
        "    # pct.change transform price columns ('low', 'high', 'open', 'close')\n",
        "    # scale every colum (center mean and unit variance)\n",
        "    \n",
        "    for col in df.columns:\n",
        "        if col != 'target' and col != 'ts_closeTime':\n",
        "            if col != 'quantity_baseUnits' and col != 'hl_percent' and col != 'timescale':\n",
        "                df[col] = np.log(df[col])\n",
        "                df[col] = df[col].pct_change()\n",
        "                df.dropna(inplace=True)\n",
        "            scaler = scaler_dict[col]\n",
        "            df[col] = scaler.transform(df[col].values.reshape(-1, 1))\n",
        "    df.index = np.arange(0, len(df))\n",
        "    return df"
      ]
    },
    {
      "attachments": {},
      "cell_type": "markdown",
      "metadata": {
        "id": "Dd640LH1tix2"
      },
      "source": [
        "X y split"
      ]
    },
    {
      "cell_type": "code",
      "execution_count": 5,
      "metadata": {
        "id": "4-HIbtKAtj-0"
      },
      "outputs": [],
      "source": [
        "def xySplit(seqWithTarget):\n",
        "\n",
        "    X = []\n",
        "    y = []\n",
        "    for seq, target in seqWithTarget:\n",
        "        X.append(seq)\n",
        "        y.append(target)\n",
        "\n",
        "    return np.array(X),np.array(y)"
      ]
    },
    {
      "attachments": {},
      "cell_type": "markdown",
      "metadata": {
        "id": "bBfc_4lKnYpv"
      },
      "source": [
        "# DF manipulation, build training sets:"
      ]
    },
    {
      "cell_type": "code",
      "execution_count": 6,
      "metadata": {},
      "outputs": [
        {
          "name": "stdout",
          "output_type": "stream",
          "text": [
            "        ts_closeTime     close  weightedAverage  hl_percent  \\\n",
            "0         1467504000    705.00           704.63    0.005262   \n",
            "1         1467505800    705.46           704.65    0.008062   \n",
            "2         1467507600    702.09           697.78    0.012057   \n",
            "3         1467509400    700.07           700.08    0.001555   \n",
            "4         1467511200    697.95           701.96    0.009872   \n",
            "...              ...       ...              ...         ...   \n",
            "122601    1688185800  30348.04         30379.52    0.003004   \n",
            "122602    1688187600  30388.37         30364.50    0.002573   \n",
            "122603    1688189400  30406.47         30403.91    0.001523   \n",
            "122604    1688191200  30426.45         30411.08    0.000850   \n",
            "122605    1688193000  30424.86         30426.49    0.001111   \n",
            "\n",
            "        quantity_baseUnits  target  timescale  \n",
            "0                 2.934065       0        0.5  \n",
            "1                 6.343613       0        0.5  \n",
            "2                47.244461       0        0.5  \n",
            "3                 0.548509       0        0.5  \n",
            "4                 2.981243       0        0.5  \n",
            "...                    ...     ...        ...  \n",
            "122601            2.116099       0        0.5  \n",
            "122602            1.236853       0        0.5  \n",
            "122603            0.688637       0        0.5  \n",
            "122604            0.838506       0        0.5  \n",
            "122605            0.967142       0        0.5  \n",
            "\n",
            "[122606 rows x 7 columns]\n"
          ]
        }
      ],
      "source": [
        "import pandas as pd\n",
        "df_30m_classified = pd.read_csv(\"../historicalData/aligned/HistoricalDataLabeled_BTC_USDT_01072016_01072023_MINUTE_30_ov40_th015p.csv\")\n",
        "df_2h = pd.read_csv(\"../historicalData/aligned/HistoricalData_BTC_USDT_01072016_01072023_HOUR_2.csv\")\n",
        "df_24h = pd.read_csv(\"../historicalData/aligned/HistoricalData_BTC_USDT_01072016_01072023_DAY_1.csv\")\n",
        "\n",
        "df_30m_classified = df_30m_classified[['ts_closeTime', 'close', 'weightedAverage', 'hl_percent', 'quantity_baseUnits', 'target']]\n",
        "df_2h = df_2h[['ts_closeTime', 'close', 'weightedAverage', 'hl_percent', 'quantity_baseUnits']]\n",
        "df_24h = df_24h[['ts_closeTime', 'close', 'weightedAverage', 'hl_percent', 'quantity_baseUnits']]\n",
        "\n",
        "df_30m_classified[\"timescale\"] = 0.5\n",
        "df_2h[\"timescale\"] = 2\n",
        "df_24h[\"timescale\"] = 24\n",
        "\n",
        "print(df_30m_classified)"
      ]
    },
    {
      "cell_type": "code",
      "execution_count": 7,
      "metadata": {},
      "outputs": [],
      "source": [
        "def prep(df):\n",
        "    # Split data into train and validation sets\n",
        "    train_size = int((1-VALIDATION_PCT) * len(df))\n",
        "    train_df = df.iloc[:train_size].copy()\n",
        "    val_df = df.iloc[train_size:].copy()\n",
        "\n",
        "    # Preprocess the training data and save the scaling parameters\n",
        "    train_df, scaler_dict = preprocess3_train(train_df)\n",
        "    # Apply saved preprocessing to validation data\n",
        "    val_df = apply_preprocess3_val(val_df, scaler_dict)\n",
        "\n",
        "    return train_df, val_df\n"
      ]
    },
    {
      "cell_type": "code",
      "execution_count": 8,
      "metadata": {},
      "outputs": [],
      "source": [
        "df_30m_classified_train, df_30m_classified_val = prep(df_30m_classified)\n",
        "df_2h_train, df_2h_val = prep(df_2h)\n",
        "df_24h_train, df_24h_val = prep(df_24h)\n"
      ]
    },
    {
      "attachments": {},
      "cell_type": "markdown",
      "metadata": {
        "id": "9h5xSZxbqNsz"
      },
      "source": [
        "build time decay sequences"
      ]
    },
    {
      "cell_type": "code",
      "execution_count": 9,
      "metadata": {
        "colab": {
          "base_uri": "https://localhost:8080/"
        },
        "id": "31jTXjddn04r",
        "outputId": "125ce716-fa5f-4839-fabe-15765768da3e"
      },
      "outputs": [
        {
          "name": "stderr",
          "output_type": "stream",
          "text": [
            "100%|██████████| 48246/48246 [03:34<00:00, 224.43it/s]\n",
            "100%|██████████| 11465/11465 [00:33<00:00, 342.02it/s]\n"
          ]
        }
      ],
      "source": [
        "seqsTraining = composeTimeDecaySequences([df_30m_classified_train, df_2h_train, df_24h_train], [1800, 7200, 86400])\n",
        "seqsValidation = composeTimeDecaySequences([df_30m_classified_val, df_2h_val, df_24h_val], [1800, 7200, 86400])"
      ]
    },
    {
      "attachments": {},
      "cell_type": "markdown",
      "metadata": {
        "id": "Lo4KSJOxrAN0"
      },
      "source": [
        "balance buys/sells/holds"
      ]
    },
    {
      "cell_type": "code",
      "execution_count": 10,
      "metadata": {},
      "outputs": [
        {
          "name": "stdout",
          "output_type": "stream",
          "text": [
            "before balancing:\n",
            "buys: 16211 , sells: 14831 , holds: 17155\n",
            "before balancing:\n",
            "buys: 3449 , sells: 3489 , holds: 4464\n"
          ]
        }
      ],
      "source": [
        "# balance buys, sells, and holds\n",
        "import random\n",
        "\n",
        "random.shuffle(seqsTraining)\n",
        "random.shuffle(seqsValidation)\n",
        "seqsTrainingBalanced = balance(seqsTraining)\n",
        "seqsValidationBalanced = balance(seqsValidation)\n",
        "random.shuffle(seqsTrainingBalanced)\n",
        "random.shuffle(seqsValidationBalanced)"
      ]
    },
    {
      "attachments": {},
      "cell_type": "markdown",
      "metadata": {
        "id": "G-ygYD9gtbMx"
      },
      "source": [
        "split sequence from label"
      ]
    },
    {
      "cell_type": "code",
      "execution_count": 11,
      "metadata": {
        "colab": {
          "background_save": true
        },
        "id": "3Cnkgt0utXt1"
      },
      "outputs": [],
      "source": [
        "train_x, train_y = xySplit(seqsTrainingBalanced)\n",
        "validation_x, validation_y = xySplit(seqsValidationBalanced)"
      ]
    },
    {
      "cell_type": "code",
      "execution_count": 12,
      "metadata": {},
      "outputs": [
        {
          "name": "stdout",
          "output_type": "stream",
          "text": [
            "<class 'numpy.ndarray'>\n",
            "(44493, 90, 5)\n",
            "<class 'numpy.ndarray'>\n",
            "(10347, 90, 5)\n"
          ]
        }
      ],
      "source": [
        "print(type(train_x))\n",
        "print(train_x.shape)\n",
        "print(type(validation_x))\n",
        "print(validation_x.shape)"
      ]
    },
    {
      "cell_type": "code",
      "execution_count": 13,
      "metadata": {},
      "outputs": [],
      "source": [
        "import pickle\n",
        "\n",
        "with open(f'../trainData/{NAME}_train_x.pkl', 'wb') as file:\n",
        "    pickle.dump(train_x, file)\n",
        "with open(f'../trainData/{NAME}_train_y.pkl', 'wb') as file:\n",
        "    pickle.dump(train_y, file)\n",
        "with open(f'../trainData/{NAME}_validation_x.pkl', 'wb') as file:\n",
        "    pickle.dump(validation_x, file)\n",
        "with open(f'../trainData/{NAME}_validation_y.pkl', 'wb') as file:\n",
        "    pickle.dump(validation_y, file)"
      ]
    },
    {
      "cell_type": "code",
      "execution_count": 2,
      "metadata": {},
      "outputs": [],
      "source": [
        "import pickle\n",
        "\n",
        "with open(f\"../trainData/{NAME}_train_x.pkl\", \"rb\") as file:\n",
        "    train_x = pickle.load(file)\n",
        "with open(f\"../trainData/{NAME}_train_y.pkl\", \"rb\") as file:\n",
        "    train_y = pickle.load(file)\n",
        "with open(f\"../trainData/{NAME}_validation_x.pkl\", \"rb\") as file:\n",
        "    validation_x = pickle.load(file)\n",
        "with open(f\"../trainData/{NAME}_validation_y.pkl\", \"rb\") as file:\n",
        "    validation_y = pickle.load(file)"
      ]
    },
    {
      "attachments": {},
      "cell_type": "markdown",
      "metadata": {
        "id": "LXt32q1Tt39k"
      },
      "source": [
        "# Model:"
      ]
    },
    {
      "cell_type": "code",
      "execution_count": 3,
      "metadata": {},
      "outputs": [
        {
          "name": "stdout",
          "output_type": "stream",
          "text": [
            "Num GPUs Available:  1\n"
          ]
        }
      ],
      "source": [
        "import tensorflow as tf\n",
        "print(\"Num GPUs Available: \", len(tf.config.experimental.list_physical_devices('GPU')))\n"
      ]
    },
    {
      "attachments": {},
      "cell_type": "markdown",
      "metadata": {
        "id": "QNzTVj7Ue8Vg"
      },
      "source": [
        "hyper parameters bounds"
      ]
    },
    {
      "cell_type": "code",
      "execution_count": 4,
      "metadata": {
        "colab": {
          "background_save": true
        },
        "id": "mXBNmip7e7or"
      },
      "outputs": [],
      "source": [
        "EPOCHS = 240\n",
        "\n",
        "batchSize = 96\n",
        "layers = 2\n",
        "nodes = 128#256\n",
        "denseNodes = 64#128\n",
        "\n",
        "dropOut = 0.8 #0.92 #0.88\n",
        "rec_dropout = 0\n",
        "l1l2_reg = 0 #1e-5#1e-3\n",
        "\n",
        "learningRate = 0.00001\n",
        "decay = 0\n",
        "\n",
        "hp_suffix = f\"bs({batchSize})_layers({layers})_noded({nodes})_dNodes({denseNodes})_do({int(dropOut*100)}%)_recdo({rec_dropout})_l1l2({l1l2_reg})_lr({learningRate})_decay({decay})\""
      ]
    },
    {
      "cell_type": "code",
      "execution_count": 5,
      "metadata": {
        "id": "XYo0LRjEg2m4"
      },
      "outputs": [
        {
          "name": "stderr",
          "output_type": "stream",
          "text": [
            "c:\\Users\\Johannes\\miniconda3\\envs\\Quant\\lib\\site-packages\\tqdm\\auto.py:21: TqdmWarning: IProgress not found. Please update jupyter and ipywidgets. See https://ipywidgets.readthedocs.io/en/stable/user_install.html\n",
            "  from .autonotebook import tqdm as notebook_tqdm\n"
          ]
        },
        {
          "name": "stdout",
          "output_type": "stream",
          "text": [
            "WARNING:tensorflow:`period` argument is deprecated. Please use `save_freq` to specify the frequency in number of batches seen.\n"
          ]
        },
        {
          "name": "stderr",
          "output_type": "stream",
          "text": [
            "c:\\Users\\Johannes\\miniconda3\\envs\\Quant\\lib\\site-packages\\keras\\optimizers\\optimizer_v2\\adam.py:114: UserWarning: The `lr` argument is deprecated, use `learning_rate` instead.\n",
            "  super().__init__(name, **kwargs)\n",
            "  0%|          | 0/240 [00:00<?, ?epoch/s]"
          ]
        },
        {
          "name": "stdout",
          "output_type": "stream",
          "text": [
            "Epoch 1/240\n",
            "  4/464 [..............................] - ETA: 10s - loss: 1.1242 - accuracy: 0.3542  WARNING:tensorflow:Callback method `on_train_batch_end` is slow compared to the batch time (batch time: 0.0211s vs `on_train_batch_end` time: 0.0235s). Check your callbacks.\n",
            "462/464 [============================>.] - ETA: 0s - loss: 1.1310 - accuracy: 0.3309"
          ]
        },
        {
          "name": "stderr",
          "output_type": "stream",
          "text": [
            "  0%|          | 1/240 [00:16<1:06:16, 16.64s/epoch, loss=1.13, accuracy=0.331, val_loss=1.1, val_accuracy=0.335]"
          ]
        },
        {
          "name": "stdout",
          "output_type": "stream",
          "text": [
            "464/464 [==============================] - 17s 25ms/step - loss: 1.1310 - accuracy: 0.3308 - val_loss: 1.0984 - val_accuracy: 0.3353\n",
            "Epoch 2/240\n",
            "462/464 [============================>.] - ETA: 0s - loss: 1.1182 - accuracy: 0.3379"
          ]
        },
        {
          "name": "stderr",
          "output_type": "stream",
          "text": [
            "  1%|          | 2/240 [00:26<50:55, 12.84s/epoch, loss=1.12, accuracy=0.338, val_loss=1.1, val_accuracy=0.36]   "
          ]
        },
        {
          "name": "stdout",
          "output_type": "stream",
          "text": [
            "464/464 [==============================] - 10s 22ms/step - loss: 1.1182 - accuracy: 0.3381 - val_loss: 1.0962 - val_accuracy: 0.3601\n",
            "Epoch 3/240\n",
            "463/464 [============================>.] - ETA: 0s - loss: 1.1135 - accuracy: 0.3461"
          ]
        },
        {
          "name": "stderr",
          "output_type": "stream",
          "text": [
            "  1%|▏         | 3/240 [00:36<45:22, 11.49s/epoch, loss=1.11, accuracy=0.346, val_loss=1.09, val_accuracy=0.398]"
          ]
        },
        {
          "name": "stdout",
          "output_type": "stream",
          "text": [
            "464/464 [==============================] - 10s 21ms/step - loss: 1.1135 - accuracy: 0.3461 - val_loss: 1.0945 - val_accuracy: 0.3985\n",
            "Epoch 4/240\n",
            "463/464 [============================>.] - ETA: 0s - loss: 1.1089 - accuracy: 0.3482"
          ]
        },
        {
          "name": "stderr",
          "output_type": "stream",
          "text": [
            "  2%|▏         | 4/240 [00:46<42:32, 10.81s/epoch, loss=1.11, accuracy=0.348, val_loss=1.09, val_accuracy=0.403]"
          ]
        },
        {
          "name": "stdout",
          "output_type": "stream",
          "text": [
            "464/464 [==============================] - 10s 21ms/step - loss: 1.1089 - accuracy: 0.3482 - val_loss: 1.0925 - val_accuracy: 0.4030\n",
            "Epoch 5/240\n",
            "463/464 [============================>.] - ETA: 0s - loss: 1.1045 - accuracy: 0.3552"
          ]
        },
        {
          "name": "stderr",
          "output_type": "stream",
          "text": [
            "  2%|▏         | 5/240 [00:56<40:56, 10.45s/epoch, loss=1.1, accuracy=0.355, val_loss=1.09, val_accuracy=0.409] "
          ]
        },
        {
          "name": "stdout",
          "output_type": "stream",
          "text": [
            "464/464 [==============================] - 10s 21ms/step - loss: 1.1045 - accuracy: 0.3553 - val_loss: 1.0900 - val_accuracy: 0.4088\n",
            "Epoch 6/240\n",
            "463/464 [============================>.] - ETA: 0s - loss: 1.1023 - accuracy: 0.3595"
          ]
        },
        {
          "name": "stderr",
          "output_type": "stream",
          "text": [
            "  2%|▎         | 6/240 [01:06<39:56, 10.24s/epoch, loss=1.1, accuracy=0.36, val_loss=1.09, val_accuracy=0.43]  "
          ]
        },
        {
          "name": "stdout",
          "output_type": "stream",
          "text": [
            "464/464 [==============================] - 10s 21ms/step - loss: 1.1023 - accuracy: 0.3596 - val_loss: 1.0874 - val_accuracy: 0.4302\n",
            "Epoch 7/240\n",
            "463/464 [============================>.] - ETA: 0s - loss: 1.0981 - accuracy: 0.3650"
          ]
        },
        {
          "name": "stderr",
          "output_type": "stream",
          "text": [
            "  3%|▎         | 7/240 [01:15<39:15, 10.11s/epoch, loss=1.1, accuracy=0.365, val_loss=1.08, val_accuracy=0.435]"
          ]
        },
        {
          "name": "stdout",
          "output_type": "stream",
          "text": [
            "464/464 [==============================] - 10s 21ms/step - loss: 1.0981 - accuracy: 0.3649 - val_loss: 1.0836 - val_accuracy: 0.4355\n",
            "Epoch 8/240\n",
            "463/464 [============================>.] - ETA: 0s - loss: 1.0923 - accuracy: 0.3758"
          ]
        },
        {
          "name": "stderr",
          "output_type": "stream",
          "text": [
            "  3%|▎         | 8/240 [01:25<38:44, 10.02s/epoch, loss=1.09, accuracy=0.376, val_loss=1.08, val_accuracy=0.446]"
          ]
        },
        {
          "name": "stdout",
          "output_type": "stream",
          "text": [
            "464/464 [==============================] - 10s 21ms/step - loss: 1.0923 - accuracy: 0.3758 - val_loss: 1.0785 - val_accuracy: 0.4457\n",
            "Epoch 9/240\n",
            "463/464 [============================>.] - ETA: 0s - loss: 1.0906 - accuracy: 0.3761"
          ]
        },
        {
          "name": "stderr",
          "output_type": "stream",
          "text": [
            "  4%|▍         | 9/240 [01:35<38:22,  9.97s/epoch, loss=1.09, accuracy=0.376, val_loss=1.07, val_accuracy=0.454]"
          ]
        },
        {
          "name": "stdout",
          "output_type": "stream",
          "text": [
            "464/464 [==============================] - 10s 21ms/step - loss: 1.0906 - accuracy: 0.3761 - val_loss: 1.0729 - val_accuracy: 0.4538\n",
            "Epoch 10/240\n",
            "463/464 [============================>.] - ETA: 0s - loss: 1.0863 - accuracy: 0.3867"
          ]
        },
        {
          "name": "stderr",
          "output_type": "stream",
          "text": [
            "  4%|▍         | 10/240 [01:45<38:02,  9.92s/epoch, loss=1.09, accuracy=0.387, val_loss=1.07, val_accuracy=0.454]"
          ]
        },
        {
          "name": "stdout",
          "output_type": "stream",
          "text": [
            "464/464 [==============================] - 10s 21ms/step - loss: 1.0862 - accuracy: 0.3868 - val_loss: 1.0679 - val_accuracy: 0.4540\n",
            "Epoch 11/240\n",
            "463/464 [============================>.] - ETA: 0s - loss: 1.0832 - accuracy: 0.3904"
          ]
        },
        {
          "name": "stderr",
          "output_type": "stream",
          "text": [
            "  5%|▍         | 11/240 [01:55<37:44,  9.89s/epoch, loss=1.08, accuracy=0.39, val_loss=1.06, val_accuracy=0.452] "
          ]
        },
        {
          "name": "stdout",
          "output_type": "stream",
          "text": [
            "464/464 [==============================] - 10s 21ms/step - loss: 1.0832 - accuracy: 0.3904 - val_loss: 1.0638 - val_accuracy: 0.4522\n",
            "Epoch 12/240\n",
            "463/464 [============================>.] - ETA: 0s - loss: 1.0813 - accuracy: 0.3928"
          ]
        },
        {
          "name": "stderr",
          "output_type": "stream",
          "text": [
            "  5%|▌         | 12/240 [02:05<37:28,  9.86s/epoch, loss=1.08, accuracy=0.393, val_loss=1.06, val_accuracy=0.454]"
          ]
        },
        {
          "name": "stdout",
          "output_type": "stream",
          "text": [
            "464/464 [==============================] - 10s 21ms/step - loss: 1.0813 - accuracy: 0.3929 - val_loss: 1.0605 - val_accuracy: 0.4543\n",
            "Epoch 13/240\n",
            "463/464 [============================>.] - ETA: 0s - loss: 1.0778 - accuracy: 0.3993"
          ]
        },
        {
          "name": "stderr",
          "output_type": "stream",
          "text": [
            "  5%|▌         | 13/240 [02:14<37:14,  9.84s/epoch, loss=1.08, accuracy=0.399, val_loss=1.06, val_accuracy=0.454]"
          ]
        },
        {
          "name": "stdout",
          "output_type": "stream",
          "text": [
            "464/464 [==============================] - 10s 21ms/step - loss: 1.0779 - accuracy: 0.3993 - val_loss: 1.0581 - val_accuracy: 0.4540\n",
            "Epoch 14/240\n",
            "463/464 [============================>.] - ETA: 0s - loss: 1.0782 - accuracy: 0.3989"
          ]
        },
        {
          "name": "stderr",
          "output_type": "stream",
          "text": [
            "  6%|▌         | 14/240 [02:24<37:03,  9.84s/epoch, loss=1.08, accuracy=0.399, val_loss=1.06, val_accuracy=0.455]"
          ]
        },
        {
          "name": "stdout",
          "output_type": "stream",
          "text": [
            "464/464 [==============================] - 10s 21ms/step - loss: 1.0782 - accuracy: 0.3991 - val_loss: 1.0565 - val_accuracy: 0.4555\n",
            "Epoch 15/240\n",
            "463/464 [============================>.] - ETA: 0s - loss: 1.0760 - accuracy: 0.4029"
          ]
        },
        {
          "name": "stderr",
          "output_type": "stream",
          "text": [
            "  6%|▋         | 15/240 [02:34<36:53,  9.84s/epoch, loss=1.08, accuracy=0.403, val_loss=1.05, val_accuracy=0.455]"
          ]
        },
        {
          "name": "stdout",
          "output_type": "stream",
          "text": [
            "464/464 [==============================] - 10s 21ms/step - loss: 1.0760 - accuracy: 0.4029 - val_loss: 1.0546 - val_accuracy: 0.4552\n",
            "Epoch 16/240\n",
            "462/464 [============================>.] - ETA: 0s - loss: 1.0740 - accuracy: 0.4027"
          ]
        },
        {
          "name": "stderr",
          "output_type": "stream",
          "text": [
            "  7%|▋         | 16/240 [02:44<36:42,  9.83s/epoch, loss=1.07, accuracy=0.403, val_loss=1.05, val_accuracy=0.459]"
          ]
        },
        {
          "name": "stdout",
          "output_type": "stream",
          "text": [
            "464/464 [==============================] - 10s 21ms/step - loss: 1.0741 - accuracy: 0.4027 - val_loss: 1.0526 - val_accuracy: 0.4588\n",
            "Epoch 17/240\n",
            "464/464 [==============================] - ETA: 0s - loss: 1.0728 - accuracy: 0.4058"
          ]
        },
        {
          "name": "stderr",
          "output_type": "stream",
          "text": [
            "  7%|▋         | 17/240 [02:54<36:33,  9.84s/epoch, loss=1.07, accuracy=0.406, val_loss=1.05, val_accuracy=0.457]"
          ]
        },
        {
          "name": "stdout",
          "output_type": "stream",
          "text": [
            "464/464 [==============================] - 10s 21ms/step - loss: 1.0728 - accuracy: 0.4058 - val_loss: 1.0512 - val_accuracy: 0.4574\n",
            "Epoch 18/240\n",
            "463/464 [============================>.] - ETA: 0s - loss: 1.0708 - accuracy: 0.4060"
          ]
        },
        {
          "name": "stderr",
          "output_type": "stream",
          "text": [
            "  8%|▊         | 18/240 [03:04<36:21,  9.83s/epoch, loss=1.07, accuracy=0.406, val_loss=1.05, val_accuracy=0.461]"
          ]
        },
        {
          "name": "stdout",
          "output_type": "stream",
          "text": [
            "464/464 [==============================] - 10s 21ms/step - loss: 1.0708 - accuracy: 0.4060 - val_loss: 1.0497 - val_accuracy: 0.4606\n",
            "Epoch 19/240\n",
            "463/464 [============================>.] - ETA: 0s - loss: 1.0705 - accuracy: 0.4061"
          ]
        },
        {
          "name": "stderr",
          "output_type": "stream",
          "text": [
            "  8%|▊         | 19/240 [03:13<36:12,  9.83s/epoch, loss=1.07, accuracy=0.406, val_loss=1.05, val_accuracy=0.456]"
          ]
        },
        {
          "name": "stdout",
          "output_type": "stream",
          "text": [
            "464/464 [==============================] - 10s 21ms/step - loss: 1.0704 - accuracy: 0.4061 - val_loss: 1.0483 - val_accuracy: 0.4564\n",
            "Epoch 20/240\n",
            "463/464 [============================>.] - ETA: 0s - loss: 1.0710 - accuracy: 0.4080"
          ]
        },
        {
          "name": "stderr",
          "output_type": "stream",
          "text": [
            "  8%|▊         | 20/240 [03:23<36:01,  9.83s/epoch, loss=1.07, accuracy=0.408, val_loss=1.05, val_accuracy=0.457]"
          ]
        },
        {
          "name": "stdout",
          "output_type": "stream",
          "text": [
            "464/464 [==============================] - 10s 21ms/step - loss: 1.0710 - accuracy: 0.4079 - val_loss: 1.0469 - val_accuracy: 0.4570\n",
            "Epoch 21/240\n",
            "463/464 [============================>.] - ETA: 0s - loss: 1.0675 - accuracy: 0.4138"
          ]
        },
        {
          "name": "stderr",
          "output_type": "stream",
          "text": [
            "  9%|▉         | 21/240 [03:33<35:53,  9.83s/epoch, loss=1.07, accuracy=0.414, val_loss=1.05, val_accuracy=0.457]"
          ]
        },
        {
          "name": "stdout",
          "output_type": "stream",
          "text": [
            "464/464 [==============================] - 10s 21ms/step - loss: 1.0675 - accuracy: 0.4137 - val_loss: 1.0455 - val_accuracy: 0.4568\n",
            "Epoch 22/240\n",
            "463/464 [============================>.] - ETA: 0s - loss: 1.0668 - accuracy: 0.4140"
          ]
        },
        {
          "name": "stderr",
          "output_type": "stream",
          "text": [
            "  9%|▉         | 22/240 [03:43<35:44,  9.84s/epoch, loss=1.07, accuracy=0.414, val_loss=1.05, val_accuracy=0.463]"
          ]
        },
        {
          "name": "stdout",
          "output_type": "stream",
          "text": [
            "464/464 [==============================] - 10s 21ms/step - loss: 1.0667 - accuracy: 0.4141 - val_loss: 1.0453 - val_accuracy: 0.4631\n",
            "Epoch 23/240\n",
            "462/464 [============================>.] - ETA: 0s - loss: 1.0661 - accuracy: 0.4162"
          ]
        },
        {
          "name": "stderr",
          "output_type": "stream",
          "text": [
            " 10%|▉         | 23/240 [03:53<35:33,  9.83s/epoch, loss=1.07, accuracy=0.416, val_loss=1.04, val_accuracy=0.463]"
          ]
        },
        {
          "name": "stdout",
          "output_type": "stream",
          "text": [
            "464/464 [==============================] - 10s 21ms/step - loss: 1.0660 - accuracy: 0.4163 - val_loss: 1.0439 - val_accuracy: 0.4633\n",
            "Epoch 24/240\n",
            "463/464 [============================>.] - ETA: 0s - loss: 1.0654 - accuracy: 0.4142"
          ]
        },
        {
          "name": "stderr",
          "output_type": "stream",
          "text": [
            " 10%|█         | 24/240 [04:03<35:26,  9.85s/epoch, loss=1.07, accuracy=0.414, val_loss=1.04, val_accuracy=0.467]"
          ]
        },
        {
          "name": "stdout",
          "output_type": "stream",
          "text": [
            "464/464 [==============================] - 10s 21ms/step - loss: 1.0654 - accuracy: 0.4142 - val_loss: 1.0428 - val_accuracy: 0.4669\n",
            "Epoch 25/240\n",
            "463/464 [============================>.] - ETA: 0s - loss: 1.0631 - accuracy: 0.4155"
          ]
        },
        {
          "name": "stderr",
          "output_type": "stream",
          "text": [
            " 10%|█         | 25/240 [04:12<35:17,  9.85s/epoch, loss=1.06, accuracy=0.415, val_loss=1.04, val_accuracy=0.457]"
          ]
        },
        {
          "name": "stdout",
          "output_type": "stream",
          "text": [
            "464/464 [==============================] - 10s 21ms/step - loss: 1.0631 - accuracy: 0.4153 - val_loss: 1.0416 - val_accuracy: 0.4573\n",
            "Epoch 26/240\n",
            "462/464 [============================>.] - ETA: 0s - loss: 1.0628 - accuracy: 0.4172"
          ]
        },
        {
          "name": "stderr",
          "output_type": "stream",
          "text": [
            " 11%|█         | 26/240 [04:22<35:08,  9.85s/epoch, loss=1.06, accuracy=0.417, val_loss=1.04, val_accuracy=0.468]"
          ]
        },
        {
          "name": "stdout",
          "output_type": "stream",
          "text": [
            "464/464 [==============================] - 10s 21ms/step - loss: 1.0627 - accuracy: 0.4173 - val_loss: 1.0407 - val_accuracy: 0.4684\n",
            "Epoch 27/240\n",
            "463/464 [============================>.] - ETA: 0s - loss: 1.0616 - accuracy: 0.4174"
          ]
        },
        {
          "name": "stderr",
          "output_type": "stream",
          "text": [
            " 11%|█▏        | 27/240 [04:32<34:56,  9.84s/epoch, loss=1.06, accuracy=0.417, val_loss=1.04, val_accuracy=0.468]"
          ]
        },
        {
          "name": "stdout",
          "output_type": "stream",
          "text": [
            "464/464 [==============================] - 10s 21ms/step - loss: 1.0615 - accuracy: 0.4174 - val_loss: 1.0394 - val_accuracy: 0.4676\n",
            "Epoch 28/240\n",
            "463/464 [============================>.] - ETA: 0s - loss: 1.0599 - accuracy: 0.4223"
          ]
        },
        {
          "name": "stderr",
          "output_type": "stream",
          "text": [
            " 12%|█▏        | 28/240 [04:42<34:50,  9.86s/epoch, loss=1.06, accuracy=0.422, val_loss=1.04, val_accuracy=0.459]"
          ]
        },
        {
          "name": "stdout",
          "output_type": "stream",
          "text": [
            "464/464 [==============================] - 10s 21ms/step - loss: 1.0599 - accuracy: 0.4223 - val_loss: 1.0385 - val_accuracy: 0.4594\n",
            "Epoch 29/240\n",
            "463/464 [============================>.] - ETA: 0s - loss: 1.0623 - accuracy: 0.4234"
          ]
        },
        {
          "name": "stderr",
          "output_type": "stream",
          "text": [
            " 12%|█▏        | 29/240 [04:52<34:40,  9.86s/epoch, loss=1.06, accuracy=0.423, val_loss=1.04, val_accuracy=0.459]"
          ]
        },
        {
          "name": "stdout",
          "output_type": "stream",
          "text": [
            "464/464 [==============================] - 10s 21ms/step - loss: 1.0624 - accuracy: 0.4233 - val_loss: 1.0391 - val_accuracy: 0.4588\n",
            "Epoch 30/240\n",
            "463/464 [============================>.] - ETA: 0s - loss: 1.0608 - accuracy: 0.4225"
          ]
        },
        {
          "name": "stderr",
          "output_type": "stream",
          "text": [
            " 12%|█▎        | 30/240 [05:02<34:27,  9.85s/epoch, loss=1.06, accuracy=0.423, val_loss=1.04, val_accuracy=0.464]"
          ]
        },
        {
          "name": "stdout",
          "output_type": "stream",
          "text": [
            "464/464 [==============================] - 10s 21ms/step - loss: 1.0608 - accuracy: 0.4225 - val_loss: 1.0379 - val_accuracy: 0.4643\n",
            "Epoch 31/240\n",
            "462/464 [============================>.] - ETA: 0s - loss: 1.0590 - accuracy: 0.4217"
          ]
        },
        {
          "name": "stderr",
          "output_type": "stream",
          "text": [
            " 13%|█▎        | 31/240 [05:12<34:17,  9.84s/epoch, loss=1.06, accuracy=0.422, val_loss=1.04, val_accuracy=0.462]"
          ]
        },
        {
          "name": "stdout",
          "output_type": "stream",
          "text": [
            "464/464 [==============================] - 10s 21ms/step - loss: 1.0590 - accuracy: 0.4218 - val_loss: 1.0372 - val_accuracy: 0.4620\n",
            "Epoch 32/240\n",
            "463/464 [============================>.] - ETA: 0s - loss: 1.0554 - accuracy: 0.4256"
          ]
        },
        {
          "name": "stderr",
          "output_type": "stream",
          "text": [
            " 13%|█▎        | 32/240 [05:21<34:07,  9.84s/epoch, loss=1.06, accuracy=0.425, val_loss=1.04, val_accuracy=0.467]"
          ]
        },
        {
          "name": "stdout",
          "output_type": "stream",
          "text": [
            "464/464 [==============================] - 10s 21ms/step - loss: 1.0555 - accuracy: 0.4255 - val_loss: 1.0350 - val_accuracy: 0.4671\n",
            "Epoch 33/240\n",
            "463/464 [============================>.] - ETA: 0s - loss: 1.0588 - accuracy: 0.4204"
          ]
        },
        {
          "name": "stderr",
          "output_type": "stream",
          "text": [
            " 14%|█▍        | 33/240 [05:31<33:54,  9.83s/epoch, loss=1.06, accuracy=0.42, val_loss=1.04, val_accuracy=0.467] "
          ]
        },
        {
          "name": "stdout",
          "output_type": "stream",
          "text": [
            "464/464 [==============================] - 10s 21ms/step - loss: 1.0588 - accuracy: 0.4204 - val_loss: 1.0360 - val_accuracy: 0.4671\n",
            "Epoch 34/240\n",
            "462/464 [============================>.] - ETA: 0s - loss: 1.0562 - accuracy: 0.4281"
          ]
        },
        {
          "name": "stderr",
          "output_type": "stream",
          "text": [
            " 14%|█▍        | 34/240 [05:41<33:43,  9.82s/epoch, loss=1.06, accuracy=0.428, val_loss=1.03, val_accuracy=0.468]"
          ]
        },
        {
          "name": "stdout",
          "output_type": "stream",
          "text": [
            "464/464 [==============================] - 10s 21ms/step - loss: 1.0562 - accuracy: 0.4283 - val_loss: 1.0348 - val_accuracy: 0.4682\n",
            "Epoch 35/240\n",
            "462/464 [============================>.] - ETA: 0s - loss: 1.0577 - accuracy: 0.4250"
          ]
        },
        {
          "name": "stderr",
          "output_type": "stream",
          "text": [
            " 15%|█▍        | 35/240 [05:51<33:37,  9.84s/epoch, loss=1.06, accuracy=0.425, val_loss=1.03, val_accuracy=0.466]"
          ]
        },
        {
          "name": "stdout",
          "output_type": "stream",
          "text": [
            "464/464 [==============================] - 10s 21ms/step - loss: 1.0577 - accuracy: 0.4251 - val_loss: 1.0349 - val_accuracy: 0.4657\n",
            "Epoch 36/240\n",
            "462/464 [============================>.] - ETA: 0s - loss: 1.0568 - accuracy: 0.4275"
          ]
        },
        {
          "name": "stderr",
          "output_type": "stream",
          "text": [
            " 15%|█▌        | 36/240 [06:01<33:28,  9.85s/epoch, loss=1.06, accuracy=0.428, val_loss=1.03, val_accuracy=0.471]"
          ]
        },
        {
          "name": "stdout",
          "output_type": "stream",
          "text": [
            "464/464 [==============================] - 10s 21ms/step - loss: 1.0567 - accuracy: 0.4276 - val_loss: 1.0342 - val_accuracy: 0.4706\n",
            "Epoch 37/240\n",
            "463/464 [============================>.] - ETA: 0s - loss: 1.0536 - accuracy: 0.4308"
          ]
        },
        {
          "name": "stderr",
          "output_type": "stream",
          "text": [
            " 15%|█▌        | 37/240 [06:11<33:20,  9.86s/epoch, loss=1.05, accuracy=0.431, val_loss=1.03, val_accuracy=0.472]"
          ]
        },
        {
          "name": "stdout",
          "output_type": "stream",
          "text": [
            "464/464 [==============================] - 10s 21ms/step - loss: 1.0536 - accuracy: 0.4308 - val_loss: 1.0330 - val_accuracy: 0.4722\n",
            "Epoch 38/240\n",
            "463/464 [============================>.] - ETA: 0s - loss: 1.0544 - accuracy: 0.4322"
          ]
        },
        {
          "name": "stderr",
          "output_type": "stream",
          "text": [
            " 16%|█▌        | 38/240 [06:20<33:11,  9.86s/epoch, loss=1.05, accuracy=0.432, val_loss=1.03, val_accuracy=0.461]"
          ]
        },
        {
          "name": "stdout",
          "output_type": "stream",
          "text": [
            "464/464 [==============================] - 10s 21ms/step - loss: 1.0544 - accuracy: 0.4323 - val_loss: 1.0326 - val_accuracy: 0.4615\n",
            "Epoch 39/240\n",
            "463/464 [============================>.] - ETA: 0s - loss: 1.0543 - accuracy: 0.4324"
          ]
        },
        {
          "name": "stderr",
          "output_type": "stream",
          "text": [
            " 16%|█▋        | 39/240 [06:30<32:59,  9.85s/epoch, loss=1.05, accuracy=0.432, val_loss=1.03, val_accuracy=0.471]"
          ]
        },
        {
          "name": "stdout",
          "output_type": "stream",
          "text": [
            "464/464 [==============================] - 10s 21ms/step - loss: 1.0542 - accuracy: 0.4325 - val_loss: 1.0320 - val_accuracy: 0.4710\n",
            "Epoch 40/240\n",
            "462/464 [============================>.] - ETA: 0s - loss: 1.0528 - accuracy: 0.4320"
          ]
        },
        {
          "name": "stderr",
          "output_type": "stream",
          "text": [
            " 17%|█▋        | 40/240 [06:40<32:47,  9.84s/epoch, loss=1.05, accuracy=0.432, val_loss=1.03, val_accuracy=0.474]"
          ]
        },
        {
          "name": "stdout",
          "output_type": "stream",
          "text": [
            "464/464 [==============================] - 10s 21ms/step - loss: 1.0528 - accuracy: 0.4320 - val_loss: 1.0314 - val_accuracy: 0.4742\n",
            "Epoch 41/240\n",
            "463/464 [============================>.] - ETA: 0s - loss: 1.0520 - accuracy: 0.4335"
          ]
        },
        {
          "name": "stderr",
          "output_type": "stream",
          "text": [
            " 17%|█▋        | 41/240 [06:50<32:33,  9.82s/epoch, loss=1.05, accuracy=0.433, val_loss=1.03, val_accuracy=0.474]"
          ]
        },
        {
          "name": "stdout",
          "output_type": "stream",
          "text": [
            "464/464 [==============================] - 10s 21ms/step - loss: 1.0520 - accuracy: 0.4334 - val_loss: 1.0307 - val_accuracy: 0.4741\n",
            "Epoch 42/240\n",
            "463/464 [============================>.] - ETA: 0s - loss: 1.0520 - accuracy: 0.4324"
          ]
        },
        {
          "name": "stderr",
          "output_type": "stream",
          "text": [
            " 18%|█▊        | 42/240 [07:00<32:23,  9.82s/epoch, loss=1.05, accuracy=0.432, val_loss=1.03, val_accuracy=0.475]"
          ]
        },
        {
          "name": "stdout",
          "output_type": "stream",
          "text": [
            "464/464 [==============================] - 10s 21ms/step - loss: 1.0520 - accuracy: 0.4324 - val_loss: 1.0303 - val_accuracy: 0.4752\n",
            "Epoch 43/240\n",
            "462/464 [============================>.] - ETA: 0s - loss: 1.0508 - accuracy: 0.4340"
          ]
        },
        {
          "name": "stderr",
          "output_type": "stream",
          "text": [
            " 18%|█▊        | 43/240 [07:09<32:14,  9.82s/epoch, loss=1.05, accuracy=0.434, val_loss=1.03, val_accuracy=0.47] "
          ]
        },
        {
          "name": "stdout",
          "output_type": "stream",
          "text": [
            "464/464 [==============================] - 10s 21ms/step - loss: 1.0508 - accuracy: 0.4339 - val_loss: 1.0297 - val_accuracy: 0.4701\n",
            "Epoch 44/240\n",
            "464/464 [==============================] - ETA: 0s - loss: 1.0523 - accuracy: 0.4322"
          ]
        },
        {
          "name": "stderr",
          "output_type": "stream",
          "text": [
            " 18%|█▊        | 44/240 [07:19<32:03,  9.81s/epoch, loss=1.05, accuracy=0.432, val_loss=1.03, val_accuracy=0.474]"
          ]
        },
        {
          "name": "stdout",
          "output_type": "stream",
          "text": [
            "464/464 [==============================] - 10s 21ms/step - loss: 1.0523 - accuracy: 0.4322 - val_loss: 1.0291 - val_accuracy: 0.4741\n",
            "Epoch 45/240\n",
            "462/464 [============================>.] - ETA: 0s - loss: 1.0526 - accuracy: 0.4350"
          ]
        },
        {
          "name": "stderr",
          "output_type": "stream",
          "text": [
            " 19%|█▉        | 45/240 [07:29<31:54,  9.82s/epoch, loss=1.05, accuracy=0.435, val_loss=1.03, val_accuracy=0.474]"
          ]
        },
        {
          "name": "stdout",
          "output_type": "stream",
          "text": [
            "464/464 [==============================] - 10s 21ms/step - loss: 1.0526 - accuracy: 0.4349 - val_loss: 1.0290 - val_accuracy: 0.4744\n",
            "Epoch 46/240\n",
            "462/464 [============================>.] - ETA: 0s - loss: 1.0474 - accuracy: 0.4393"
          ]
        },
        {
          "name": "stderr",
          "output_type": "stream",
          "text": [
            " 19%|█▉        | 46/240 [07:39<31:47,  9.83s/epoch, loss=1.05, accuracy=0.439, val_loss=1.03, val_accuracy=0.474]"
          ]
        },
        {
          "name": "stdout",
          "output_type": "stream",
          "text": [
            "464/464 [==============================] - 10s 21ms/step - loss: 1.0475 - accuracy: 0.4392 - val_loss: 1.0279 - val_accuracy: 0.4736\n",
            "Epoch 47/240\n",
            "462/464 [============================>.] - ETA: 0s - loss: 1.0485 - accuracy: 0.4383"
          ]
        },
        {
          "name": "stderr",
          "output_type": "stream",
          "text": [
            " 20%|█▉        | 47/240 [07:49<31:35,  9.82s/epoch, loss=1.05, accuracy=0.438, val_loss=1.03, val_accuracy=0.472]"
          ]
        },
        {
          "name": "stdout",
          "output_type": "stream",
          "text": [
            "464/464 [==============================] - 10s 21ms/step - loss: 1.0485 - accuracy: 0.4382 - val_loss: 1.0272 - val_accuracy: 0.4722\n",
            "Epoch 48/240\n",
            "462/464 [============================>.] - ETA: 0s - loss: 1.0498 - accuracy: 0.4359"
          ]
        },
        {
          "name": "stderr",
          "output_type": "stream",
          "text": [
            " 20%|██        | 48/240 [07:59<31:25,  9.82s/epoch, loss=1.05, accuracy=0.436, val_loss=1.03, val_accuracy=0.476]"
          ]
        },
        {
          "name": "stdout",
          "output_type": "stream",
          "text": [
            "464/464 [==============================] - 10s 21ms/step - loss: 1.0497 - accuracy: 0.4359 - val_loss: 1.0274 - val_accuracy: 0.4761\n",
            "Epoch 49/240\n",
            "463/464 [============================>.] - ETA: 0s - loss: 1.0467 - accuracy: 0.4378"
          ]
        },
        {
          "name": "stderr",
          "output_type": "stream",
          "text": [
            " 20%|██        | 49/240 [08:08<31:16,  9.83s/epoch, loss=1.05, accuracy=0.438, val_loss=1.03, val_accuracy=0.476]"
          ]
        },
        {
          "name": "stdout",
          "output_type": "stream",
          "text": [
            "464/464 [==============================] - 10s 21ms/step - loss: 1.0468 - accuracy: 0.4377 - val_loss: 1.0272 - val_accuracy: 0.4761\n",
            "Epoch 50/240\n",
            "463/464 [============================>.] - ETA: 0s - loss: 1.0487 - accuracy: 0.4369"
          ]
        },
        {
          "name": "stderr",
          "output_type": "stream",
          "text": [
            " 21%|██        | 50/240 [08:18<31:06,  9.82s/epoch, loss=1.05, accuracy=0.437, val_loss=1.03, val_accuracy=0.472]"
          ]
        },
        {
          "name": "stdout",
          "output_type": "stream",
          "text": [
            "464/464 [==============================] - 10s 21ms/step - loss: 1.0487 - accuracy: 0.4369 - val_loss: 1.0267 - val_accuracy: 0.4723\n",
            "Epoch 51/240\n",
            "463/464 [============================>.] - ETA: 0s - loss: 1.0476 - accuracy: 0.4400"
          ]
        },
        {
          "name": "stderr",
          "output_type": "stream",
          "text": [
            " 21%|██▏       | 51/240 [08:28<30:56,  9.82s/epoch, loss=1.05, accuracy=0.44, val_loss=1.03, val_accuracy=0.475] "
          ]
        },
        {
          "name": "stdout",
          "output_type": "stream",
          "text": [
            "464/464 [==============================] - 10s 21ms/step - loss: 1.0476 - accuracy: 0.4400 - val_loss: 1.0270 - val_accuracy: 0.4752\n",
            "Epoch 52/240\n",
            "463/464 [============================>.] - ETA: 0s - loss: 1.0472 - accuracy: 0.4408"
          ]
        },
        {
          "name": "stderr",
          "output_type": "stream",
          "text": [
            " 22%|██▏       | 52/240 [08:38<30:48,  9.83s/epoch, loss=1.05, accuracy=0.441, val_loss=1.03, val_accuracy=0.466]"
          ]
        },
        {
          "name": "stdout",
          "output_type": "stream",
          "text": [
            "464/464 [==============================] - 10s 21ms/step - loss: 1.0472 - accuracy: 0.4409 - val_loss: 1.0265 - val_accuracy: 0.4658\n",
            "Epoch 53/240\n",
            "463/464 [============================>.] - ETA: 0s - loss: 1.0477 - accuracy: 0.4386"
          ]
        },
        {
          "name": "stderr",
          "output_type": "stream",
          "text": [
            " 22%|██▏       | 53/240 [08:48<30:37,  9.82s/epoch, loss=1.05, accuracy=0.439, val_loss=1.03, val_accuracy=0.477]"
          ]
        },
        {
          "name": "stdout",
          "output_type": "stream",
          "text": [
            "464/464 [==============================] - 10s 21ms/step - loss: 1.0476 - accuracy: 0.4387 - val_loss: 1.0263 - val_accuracy: 0.4768\n",
            "Epoch 54/240\n",
            "463/464 [============================>.] - ETA: 0s - loss: 1.0457 - accuracy: 0.4398"
          ]
        },
        {
          "name": "stderr",
          "output_type": "stream",
          "text": [
            " 22%|██▎       | 54/240 [08:58<30:27,  9.82s/epoch, loss=1.05, accuracy=0.44, val_loss=1.03, val_accuracy=0.472] "
          ]
        },
        {
          "name": "stdout",
          "output_type": "stream",
          "text": [
            "464/464 [==============================] - 10s 21ms/step - loss: 1.0457 - accuracy: 0.4398 - val_loss: 1.0256 - val_accuracy: 0.4717\n",
            "Epoch 55/240\n",
            "462/464 [============================>.] - ETA: 0s - loss: 1.0449 - accuracy: 0.4421"
          ]
        },
        {
          "name": "stderr",
          "output_type": "stream",
          "text": [
            " 23%|██▎       | 55/240 [09:07<30:16,  9.82s/epoch, loss=1.04, accuracy=0.442, val_loss=1.02, val_accuracy=0.475]"
          ]
        },
        {
          "name": "stdout",
          "output_type": "stream",
          "text": [
            "464/464 [==============================] - 10s 21ms/step - loss: 1.0450 - accuracy: 0.4421 - val_loss: 1.0248 - val_accuracy: 0.4745\n",
            "Epoch 56/240\n",
            "463/464 [============================>.] - ETA: 0s - loss: 1.0460 - accuracy: 0.4430"
          ]
        },
        {
          "name": "stderr",
          "output_type": "stream",
          "text": [
            " 23%|██▎       | 56/240 [09:17<30:06,  9.82s/epoch, loss=1.05, accuracy=0.443, val_loss=1.03, val_accuracy=0.472]"
          ]
        },
        {
          "name": "stdout",
          "output_type": "stream",
          "text": [
            "464/464 [==============================] - 10s 21ms/step - loss: 1.0460 - accuracy: 0.4430 - val_loss: 1.0253 - val_accuracy: 0.4718\n",
            "Epoch 57/240\n",
            "463/464 [============================>.] - ETA: 0s - loss: 1.0450 - accuracy: 0.4427"
          ]
        },
        {
          "name": "stderr",
          "output_type": "stream",
          "text": [
            " 24%|██▍       | 57/240 [09:27<29:57,  9.82s/epoch, loss=1.04, accuracy=0.443, val_loss=1.02, val_accuracy=0.475]"
          ]
        },
        {
          "name": "stdout",
          "output_type": "stream",
          "text": [
            "464/464 [==============================] - 10s 21ms/step - loss: 1.0450 - accuracy: 0.4427 - val_loss: 1.0242 - val_accuracy: 0.4746\n",
            "Epoch 58/240\n",
            "463/464 [============================>.] - ETA: 0s - loss: 1.0440 - accuracy: 0.4419"
          ]
        },
        {
          "name": "stderr",
          "output_type": "stream",
          "text": [
            " 24%|██▍       | 58/240 [09:37<29:47,  9.82s/epoch, loss=1.04, accuracy=0.442, val_loss=1.02, val_accuracy=0.474]"
          ]
        },
        {
          "name": "stdout",
          "output_type": "stream",
          "text": [
            "464/464 [==============================] - 10s 21ms/step - loss: 1.0441 - accuracy: 0.4419 - val_loss: 1.0238 - val_accuracy: 0.4744\n",
            "Epoch 59/240\n",
            "463/464 [============================>.] - ETA: 0s - loss: 1.0461 - accuracy: 0.4424"
          ]
        },
        {
          "name": "stderr",
          "output_type": "stream",
          "text": [
            " 25%|██▍       | 59/240 [09:47<29:39,  9.83s/epoch, loss=1.05, accuracy=0.442, val_loss=1.02, val_accuracy=0.475]"
          ]
        },
        {
          "name": "stdout",
          "output_type": "stream",
          "text": [
            "464/464 [==============================] - 10s 21ms/step - loss: 1.0461 - accuracy: 0.4425 - val_loss: 1.0239 - val_accuracy: 0.4751\n",
            "Epoch 60/240\n",
            "462/464 [============================>.] - ETA: 0s - loss: 1.0434 - accuracy: 0.4439"
          ]
        },
        {
          "name": "stderr",
          "output_type": "stream",
          "text": [
            " 25%|██▌       | 60/240 [09:57<29:29,  9.83s/epoch, loss=1.04, accuracy=0.444, val_loss=1.02, val_accuracy=0.474]"
          ]
        },
        {
          "name": "stdout",
          "output_type": "stream",
          "text": [
            "464/464 [==============================] - 10s 21ms/step - loss: 1.0434 - accuracy: 0.4439 - val_loss: 1.0237 - val_accuracy: 0.4736\n",
            "Epoch 61/240\n",
            "464/464 [==============================] - ETA: 0s - loss: 1.0415 - accuracy: 0.4447"
          ]
        },
        {
          "name": "stderr",
          "output_type": "stream",
          "text": [
            " 25%|██▌       | 61/240 [10:06<29:20,  9.83s/epoch, loss=1.04, accuracy=0.445, val_loss=1.02, val_accuracy=0.463]"
          ]
        },
        {
          "name": "stdout",
          "output_type": "stream",
          "text": [
            "464/464 [==============================] - 10s 21ms/step - loss: 1.0415 - accuracy: 0.4447 - val_loss: 1.0240 - val_accuracy: 0.4628\n",
            "Epoch 62/240\n",
            "462/464 [============================>.] - ETA: 0s - loss: 1.0427 - accuracy: 0.4443"
          ]
        },
        {
          "name": "stderr",
          "output_type": "stream",
          "text": [
            " 26%|██▌       | 62/240 [10:16<29:09,  9.83s/epoch, loss=1.04, accuracy=0.444, val_loss=1.02, val_accuracy=0.473]"
          ]
        },
        {
          "name": "stdout",
          "output_type": "stream",
          "text": [
            "464/464 [==============================] - 10s 21ms/step - loss: 1.0427 - accuracy: 0.4439 - val_loss: 1.0226 - val_accuracy: 0.4735\n",
            "Epoch 63/240\n",
            "463/464 [============================>.] - ETA: 0s - loss: 1.0419 - accuracy: 0.4441"
          ]
        },
        {
          "name": "stderr",
          "output_type": "stream",
          "text": [
            " 26%|██▋       | 63/240 [10:26<28:59,  9.83s/epoch, loss=1.04, accuracy=0.444, val_loss=1.02, val_accuracy=0.479]"
          ]
        },
        {
          "name": "stdout",
          "output_type": "stream",
          "text": [
            "464/464 [==============================] - 10s 21ms/step - loss: 1.0419 - accuracy: 0.4440 - val_loss: 1.0221 - val_accuracy: 0.4789\n",
            "Epoch 64/240\n",
            "463/464 [============================>.] - ETA: 0s - loss: 1.0423 - accuracy: 0.4446"
          ]
        },
        {
          "name": "stderr",
          "output_type": "stream",
          "text": [
            " 27%|██▋       | 64/240 [10:36<28:49,  9.83s/epoch, loss=1.04, accuracy=0.445, val_loss=1.02, val_accuracy=0.476]"
          ]
        },
        {
          "name": "stdout",
          "output_type": "stream",
          "text": [
            "464/464 [==============================] - 10s 21ms/step - loss: 1.0423 - accuracy: 0.4446 - val_loss: 1.0223 - val_accuracy: 0.4758\n",
            "Epoch 65/240\n",
            "462/464 [============================>.] - ETA: 0s - loss: 1.0403 - accuracy: 0.4498"
          ]
        },
        {
          "name": "stderr",
          "output_type": "stream",
          "text": [
            " 27%|██▋       | 65/240 [10:46<28:41,  9.84s/epoch, loss=1.04, accuracy=0.45, val_loss=1.02, val_accuracy=0.472] "
          ]
        },
        {
          "name": "stdout",
          "output_type": "stream",
          "text": [
            "464/464 [==============================] - 10s 21ms/step - loss: 1.0402 - accuracy: 0.4498 - val_loss: 1.0222 - val_accuracy: 0.4717\n",
            "Epoch 66/240\n",
            "463/464 [============================>.] - ETA: 0s - loss: 1.0418 - accuracy: 0.4483"
          ]
        },
        {
          "name": "stderr",
          "output_type": "stream",
          "text": [
            " 28%|██▊       | 66/240 [10:56<28:31,  9.84s/epoch, loss=1.04, accuracy=0.448, val_loss=1.02, val_accuracy=0.474]"
          ]
        },
        {
          "name": "stdout",
          "output_type": "stream",
          "text": [
            "464/464 [==============================] - 10s 21ms/step - loss: 1.0417 - accuracy: 0.4484 - val_loss: 1.0222 - val_accuracy: 0.4737\n",
            "Epoch 67/240\n",
            "463/464 [============================>.] - ETA: 0s - loss: 1.0403 - accuracy: 0.4461"
          ]
        },
        {
          "name": "stderr",
          "output_type": "stream",
          "text": [
            " 28%|██▊       | 67/240 [11:05<28:23,  9.85s/epoch, loss=1.04, accuracy=0.446, val_loss=1.02, val_accuracy=0.47] "
          ]
        },
        {
          "name": "stdout",
          "output_type": "stream",
          "text": [
            "464/464 [==============================] - 10s 21ms/step - loss: 1.0402 - accuracy: 0.4461 - val_loss: 1.0216 - val_accuracy: 0.4702\n",
            "Epoch 68/240\n",
            "462/464 [============================>.] - ETA: 0s - loss: 1.0402 - accuracy: 0.4484"
          ]
        },
        {
          "name": "stderr",
          "output_type": "stream",
          "text": [
            " 28%|██▊       | 68/240 [11:15<28:20,  9.89s/epoch, loss=1.04, accuracy=0.448, val_loss=1.02, val_accuracy=0.474]"
          ]
        },
        {
          "name": "stdout",
          "output_type": "stream",
          "text": [
            "464/464 [==============================] - 10s 22ms/step - loss: 1.0402 - accuracy: 0.4483 - val_loss: 1.0214 - val_accuracy: 0.4741\n",
            "Epoch 69/240\n",
            "463/464 [============================>.] - ETA: 0s - loss: 1.0405 - accuracy: 0.4442"
          ]
        },
        {
          "name": "stderr",
          "output_type": "stream",
          "text": [
            " 29%|██▉       | 69/240 [11:26<28:24,  9.97s/epoch, loss=1.04, accuracy=0.444, val_loss=1.02, val_accuracy=0.477]"
          ]
        },
        {
          "name": "stdout",
          "output_type": "stream",
          "text": [
            "464/464 [==============================] - 10s 22ms/step - loss: 1.0405 - accuracy: 0.4441 - val_loss: 1.0212 - val_accuracy: 0.4774\n",
            "Epoch 70/240\n",
            "463/464 [============================>.] - ETA: 0s - loss: 1.0395 - accuracy: 0.4460"
          ]
        },
        {
          "name": "stderr",
          "output_type": "stream",
          "text": [
            " 29%|██▉       | 70/240 [11:35<28:07,  9.93s/epoch, loss=1.04, accuracy=0.446, val_loss=1.02, val_accuracy=0.473]"
          ]
        },
        {
          "name": "stdout",
          "output_type": "stream",
          "text": [
            "464/464 [==============================] - 10s 21ms/step - loss: 1.0395 - accuracy: 0.4462 - val_loss: 1.0211 - val_accuracy: 0.4731\n",
            "Epoch 71/240\n",
            "463/464 [============================>.] - ETA: 0s - loss: 1.0398 - accuracy: 0.4435"
          ]
        },
        {
          "name": "stderr",
          "output_type": "stream",
          "text": [
            " 30%|██▉       | 71/240 [11:45<27:52,  9.89s/epoch, loss=1.04, accuracy=0.444, val_loss=1.02, val_accuracy=0.474]"
          ]
        },
        {
          "name": "stdout",
          "output_type": "stream",
          "text": [
            "464/464 [==============================] - 10s 21ms/step - loss: 1.0398 - accuracy: 0.4436 - val_loss: 1.0214 - val_accuracy: 0.4741\n",
            "Epoch 72/240\n",
            "462/464 [============================>.] - ETA: 0s - loss: 1.0391 - accuracy: 0.4472"
          ]
        },
        {
          "name": "stderr",
          "output_type": "stream",
          "text": [
            " 30%|███       | 72/240 [11:55<27:40,  9.88s/epoch, loss=1.04, accuracy=0.447, val_loss=1.02, val_accuracy=0.475]"
          ]
        },
        {
          "name": "stdout",
          "output_type": "stream",
          "text": [
            "464/464 [==============================] - 10s 21ms/step - loss: 1.0391 - accuracy: 0.4473 - val_loss: 1.0208 - val_accuracy: 0.4751\n",
            "Epoch 73/240\n",
            "462/464 [============================>.] - ETA: 0s - loss: 1.0386 - accuracy: 0.4466"
          ]
        },
        {
          "name": "stderr",
          "output_type": "stream",
          "text": [
            " 30%|███       | 73/240 [12:05<27:29,  9.88s/epoch, loss=1.04, accuracy=0.447, val_loss=1.02, val_accuracy=0.472]"
          ]
        },
        {
          "name": "stdout",
          "output_type": "stream",
          "text": [
            "464/464 [==============================] - 10s 21ms/step - loss: 1.0386 - accuracy: 0.4465 - val_loss: 1.0206 - val_accuracy: 0.4719\n",
            "Epoch 74/240\n",
            "463/464 [============================>.] - ETA: 0s - loss: 1.0389 - accuracy: 0.4498"
          ]
        },
        {
          "name": "stderr",
          "output_type": "stream",
          "text": [
            " 31%|███       | 74/240 [12:15<27:18,  9.87s/epoch, loss=1.04, accuracy=0.45, val_loss=1.02, val_accuracy=0.476] "
          ]
        },
        {
          "name": "stdout",
          "output_type": "stream",
          "text": [
            "464/464 [==============================] - 10s 21ms/step - loss: 1.0389 - accuracy: 0.4498 - val_loss: 1.0206 - val_accuracy: 0.4755\n",
            "Epoch 75/240\n",
            "463/464 [============================>.] - ETA: 0s - loss: 1.0379 - accuracy: 0.4517"
          ]
        },
        {
          "name": "stderr",
          "output_type": "stream",
          "text": [
            " 31%|███▏      | 75/240 [12:25<27:07,  9.86s/epoch, loss=1.04, accuracy=0.452, val_loss=1.02, val_accuracy=0.475]"
          ]
        },
        {
          "name": "stdout",
          "output_type": "stream",
          "text": [
            "464/464 [==============================] - 10s 21ms/step - loss: 1.0379 - accuracy: 0.4517 - val_loss: 1.0199 - val_accuracy: 0.4754\n",
            "Epoch 76/240\n",
            "463/464 [============================>.] - ETA: 0s - loss: 1.0368 - accuracy: 0.4501"
          ]
        },
        {
          "name": "stderr",
          "output_type": "stream",
          "text": [
            " 32%|███▏      | 76/240 [12:34<26:55,  9.85s/epoch, loss=1.04, accuracy=0.45, val_loss=1.02, val_accuracy=0.474] "
          ]
        },
        {
          "name": "stdout",
          "output_type": "stream",
          "text": [
            "464/464 [==============================] - 10s 21ms/step - loss: 1.0367 - accuracy: 0.4502 - val_loss: 1.0201 - val_accuracy: 0.4739\n",
            "Epoch 77/240\n",
            "462/464 [============================>.] - ETA: 0s - loss: 1.0373 - accuracy: 0.4491"
          ]
        },
        {
          "name": "stderr",
          "output_type": "stream",
          "text": [
            " 32%|███▏      | 77/240 [12:44<26:44,  9.85s/epoch, loss=1.04, accuracy=0.449, val_loss=1.02, val_accuracy=0.476]"
          ]
        },
        {
          "name": "stdout",
          "output_type": "stream",
          "text": [
            "464/464 [==============================] - 10s 21ms/step - loss: 1.0373 - accuracy: 0.4490 - val_loss: 1.0207 - val_accuracy: 0.4756\n",
            "Epoch 78/240\n",
            "462/464 [============================>.] - ETA: 0s - loss: 1.0380 - accuracy: 0.4513"
          ]
        },
        {
          "name": "stderr",
          "output_type": "stream",
          "text": [
            " 32%|███▎      | 78/240 [12:54<26:34,  9.84s/epoch, loss=1.04, accuracy=0.451, val_loss=1.02, val_accuracy=0.476]"
          ]
        },
        {
          "name": "stdout",
          "output_type": "stream",
          "text": [
            "464/464 [==============================] - 10s 21ms/step - loss: 1.0381 - accuracy: 0.4513 - val_loss: 1.0203 - val_accuracy: 0.4765\n",
            "Epoch 79/240\n",
            "463/464 [============================>.] - ETA: 0s - loss: 1.0377 - accuracy: 0.4540"
          ]
        },
        {
          "name": "stderr",
          "output_type": "stream",
          "text": [
            " 33%|███▎      | 79/240 [13:04<26:24,  9.84s/epoch, loss=1.04, accuracy=0.454, val_loss=1.02, val_accuracy=0.474]"
          ]
        },
        {
          "name": "stdout",
          "output_type": "stream",
          "text": [
            "464/464 [==============================] - 10s 21ms/step - loss: 1.0376 - accuracy: 0.4542 - val_loss: 1.0199 - val_accuracy: 0.4740\n",
            "Epoch 80/240\n",
            "463/464 [============================>.] - ETA: 0s - loss: 1.0378 - accuracy: 0.4506"
          ]
        },
        {
          "name": "stderr",
          "output_type": "stream",
          "text": [
            " 33%|███▎      | 80/240 [13:14<26:14,  9.84s/epoch, loss=1.04, accuracy=0.451, val_loss=1.02, val_accuracy=0.478]"
          ]
        },
        {
          "name": "stdout",
          "output_type": "stream",
          "text": [
            "464/464 [==============================] - 10s 21ms/step - loss: 1.0379 - accuracy: 0.4507 - val_loss: 1.0192 - val_accuracy: 0.4782\n",
            "Epoch 81/240\n",
            "463/464 [============================>.] - ETA: 0s - loss: 1.0370 - accuracy: 0.4522"
          ]
        },
        {
          "name": "stderr",
          "output_type": "stream",
          "text": [
            " 34%|███▍      | 81/240 [13:24<26:03,  9.83s/epoch, loss=1.04, accuracy=0.452, val_loss=1.02, val_accuracy=0.474]"
          ]
        },
        {
          "name": "stdout",
          "output_type": "stream",
          "text": [
            "464/464 [==============================] - 10s 21ms/step - loss: 1.0370 - accuracy: 0.4522 - val_loss: 1.0198 - val_accuracy: 0.4736\n",
            "Epoch 82/240\n",
            "463/464 [============================>.] - ETA: 0s - loss: 1.0359 - accuracy: 0.4547"
          ]
        },
        {
          "name": "stderr",
          "output_type": "stream",
          "text": [
            " 34%|███▍      | 82/240 [13:33<25:52,  9.83s/epoch, loss=1.04, accuracy=0.455, val_loss=1.02, val_accuracy=0.474]"
          ]
        },
        {
          "name": "stdout",
          "output_type": "stream",
          "text": [
            "464/464 [==============================] - 10s 21ms/step - loss: 1.0360 - accuracy: 0.4547 - val_loss: 1.0196 - val_accuracy: 0.4737\n",
            "Epoch 83/240\n",
            "463/464 [============================>.] - ETA: 0s - loss: 1.0365 - accuracy: 0.4534"
          ]
        },
        {
          "name": "stderr",
          "output_type": "stream",
          "text": [
            " 35%|███▍      | 83/240 [13:43<25:42,  9.83s/epoch, loss=1.04, accuracy=0.453, val_loss=1.02, val_accuracy=0.478]"
          ]
        },
        {
          "name": "stdout",
          "output_type": "stream",
          "text": [
            "464/464 [==============================] - 10s 21ms/step - loss: 1.0364 - accuracy: 0.4534 - val_loss: 1.0192 - val_accuracy: 0.4779\n",
            "Epoch 84/240\n",
            "463/464 [============================>.] - ETA: 0s - loss: 1.0356 - accuracy: 0.4536"
          ]
        },
        {
          "name": "stderr",
          "output_type": "stream",
          "text": [
            " 35%|███▌      | 84/240 [13:53<25:35,  9.84s/epoch, loss=1.04, accuracy=0.454, val_loss=1.02, val_accuracy=0.474]"
          ]
        },
        {
          "name": "stdout",
          "output_type": "stream",
          "text": [
            "464/464 [==============================] - 10s 21ms/step - loss: 1.0355 - accuracy: 0.4537 - val_loss: 1.0197 - val_accuracy: 0.4736\n",
            "Epoch 85/240\n",
            "463/464 [============================>.] - ETA: 0s - loss: 1.0351 - accuracy: 0.4550"
          ]
        },
        {
          "name": "stderr",
          "output_type": "stream",
          "text": [
            " 35%|███▌      | 85/240 [14:03<25:25,  9.84s/epoch, loss=1.04, accuracy=0.455, val_loss=1.02, val_accuracy=0.478]"
          ]
        },
        {
          "name": "stdout",
          "output_type": "stream",
          "text": [
            "464/464 [==============================] - 10s 21ms/step - loss: 1.0351 - accuracy: 0.4550 - val_loss: 1.0186 - val_accuracy: 0.4778\n",
            "Epoch 86/240\n",
            "463/464 [============================>.] - ETA: 0s - loss: 1.0346 - accuracy: 0.4537"
          ]
        },
        {
          "name": "stderr",
          "output_type": "stream",
          "text": [
            " 36%|███▌      | 86/240 [14:13<25:14,  9.84s/epoch, loss=1.03, accuracy=0.454, val_loss=1.02, val_accuracy=0.477]"
          ]
        },
        {
          "name": "stdout",
          "output_type": "stream",
          "text": [
            "464/464 [==============================] - 10s 21ms/step - loss: 1.0345 - accuracy: 0.4539 - val_loss: 1.0190 - val_accuracy: 0.4772\n",
            "Epoch 87/240\n",
            "463/464 [============================>.] - ETA: 0s - loss: 1.0372 - accuracy: 0.4523"
          ]
        },
        {
          "name": "stderr",
          "output_type": "stream",
          "text": [
            " 36%|███▋      | 87/240 [14:23<25:05,  9.84s/epoch, loss=1.04, accuracy=0.452, val_loss=1.02, val_accuracy=0.47] "
          ]
        },
        {
          "name": "stdout",
          "output_type": "stream",
          "text": [
            "464/464 [==============================] - 10s 21ms/step - loss: 1.0372 - accuracy: 0.4522 - val_loss: 1.0199 - val_accuracy: 0.4695\n",
            "Epoch 88/240\n",
            "463/464 [============================>.] - ETA: 0s - loss: 1.0351 - accuracy: 0.4549"
          ]
        },
        {
          "name": "stderr",
          "output_type": "stream",
          "text": [
            " 37%|███▋      | 88/240 [14:32<24:53,  9.83s/epoch, loss=1.04, accuracy=0.455, val_loss=1.02, val_accuracy=0.475]"
          ]
        },
        {
          "name": "stdout",
          "output_type": "stream",
          "text": [
            "464/464 [==============================] - 10s 21ms/step - loss: 1.0351 - accuracy: 0.4549 - val_loss: 1.0188 - val_accuracy: 0.4752\n",
            "Epoch 89/240\n",
            "463/464 [============================>.] - ETA: 0s - loss: 1.0367 - accuracy: 0.4545"
          ]
        },
        {
          "name": "stderr",
          "output_type": "stream",
          "text": [
            " 37%|███▋      | 89/240 [14:42<24:43,  9.83s/epoch, loss=1.04, accuracy=0.455, val_loss=1.02, val_accuracy=0.474]"
          ]
        },
        {
          "name": "stdout",
          "output_type": "stream",
          "text": [
            "464/464 [==============================] - 10s 21ms/step - loss: 1.0366 - accuracy: 0.4545 - val_loss: 1.0199 - val_accuracy: 0.4737\n",
            "Epoch 90/240\n",
            "463/464 [============================>.] - ETA: 0s - loss: 1.0332 - accuracy: 0.4542"
          ]
        },
        {
          "name": "stderr",
          "output_type": "stream",
          "text": [
            " 38%|███▊      | 90/240 [14:52<24:34,  9.83s/epoch, loss=1.03, accuracy=0.454, val_loss=1.02, val_accuracy=0.475]"
          ]
        },
        {
          "name": "stdout",
          "output_type": "stream",
          "text": [
            "464/464 [==============================] - 10s 21ms/step - loss: 1.0332 - accuracy: 0.4543 - val_loss: 1.0191 - val_accuracy: 0.4746\n",
            "Epoch 91/240\n",
            "463/464 [============================>.] - ETA: 0s - loss: 1.0343 - accuracy: 0.4552"
          ]
        },
        {
          "name": "stderr",
          "output_type": "stream",
          "text": [
            " 38%|███▊      | 91/240 [15:02<24:24,  9.83s/epoch, loss=1.03, accuracy=0.455, val_loss=1.02, val_accuracy=0.475]"
          ]
        },
        {
          "name": "stdout",
          "output_type": "stream",
          "text": [
            "464/464 [==============================] - 10s 21ms/step - loss: 1.0343 - accuracy: 0.4552 - val_loss: 1.0188 - val_accuracy: 0.4750\n",
            "Epoch 92/240\n",
            "463/464 [============================>.] - ETA: 0s - loss: 1.0344 - accuracy: 0.4547"
          ]
        },
        {
          "name": "stderr",
          "output_type": "stream",
          "text": [
            " 38%|███▊      | 92/240 [15:12<24:14,  9.82s/epoch, loss=1.03, accuracy=0.455, val_loss=1.02, val_accuracy=0.476]"
          ]
        },
        {
          "name": "stdout",
          "output_type": "stream",
          "text": [
            "464/464 [==============================] - 10s 21ms/step - loss: 1.0344 - accuracy: 0.4547 - val_loss: 1.0194 - val_accuracy: 0.4762\n",
            "Epoch 93/240\n",
            "464/464 [==============================] - ETA: 0s - loss: 1.0310 - accuracy: 0.4566"
          ]
        },
        {
          "name": "stderr",
          "output_type": "stream",
          "text": [
            " 39%|███▉      | 93/240 [15:22<24:05,  9.83s/epoch, loss=1.03, accuracy=0.457, val_loss=1.02, val_accuracy=0.474]"
          ]
        },
        {
          "name": "stdout",
          "output_type": "stream",
          "text": [
            "464/464 [==============================] - 10s 21ms/step - loss: 1.0310 - accuracy: 0.4566 - val_loss: 1.0188 - val_accuracy: 0.4741\n",
            "Epoch 94/240\n",
            "463/464 [============================>.] - ETA: 0s - loss: 1.0301 - accuracy: 0.4619"
          ]
        },
        {
          "name": "stderr",
          "output_type": "stream",
          "text": [
            " 39%|███▉      | 94/240 [15:31<23:56,  9.84s/epoch, loss=1.03, accuracy=0.462, val_loss=1.02, val_accuracy=0.477]"
          ]
        },
        {
          "name": "stdout",
          "output_type": "stream",
          "text": [
            "464/464 [==============================] - 10s 21ms/step - loss: 1.0301 - accuracy: 0.4618 - val_loss: 1.0179 - val_accuracy: 0.4771\n",
            "Epoch 95/240\n",
            "463/464 [============================>.] - ETA: 0s - loss: 1.0316 - accuracy: 0.4591"
          ]
        },
        {
          "name": "stderr",
          "output_type": "stream",
          "text": [
            " 40%|███▉      | 95/240 [15:41<23:46,  9.84s/epoch, loss=1.03, accuracy=0.459, val_loss=1.02, val_accuracy=0.471]"
          ]
        },
        {
          "name": "stdout",
          "output_type": "stream",
          "text": [
            "464/464 [==============================] - 10s 21ms/step - loss: 1.0315 - accuracy: 0.4591 - val_loss: 1.0190 - val_accuracy: 0.4713\n",
            "Epoch 96/240\n",
            "463/464 [============================>.] - ETA: 0s - loss: 1.0312 - accuracy: 0.4555"
          ]
        },
        {
          "name": "stderr",
          "output_type": "stream",
          "text": [
            " 40%|████      | 96/240 [15:51<23:35,  9.83s/epoch, loss=1.03, accuracy=0.455, val_loss=1.02, val_accuracy=0.475]"
          ]
        },
        {
          "name": "stdout",
          "output_type": "stream",
          "text": [
            "464/464 [==============================] - 10s 21ms/step - loss: 1.0313 - accuracy: 0.4555 - val_loss: 1.0182 - val_accuracy: 0.4754\n",
            "Epoch 97/240\n",
            "462/464 [============================>.] - ETA: 0s - loss: 1.0331 - accuracy: 0.4563"
          ]
        },
        {
          "name": "stderr",
          "output_type": "stream",
          "text": [
            " 40%|████      | 97/240 [16:01<23:26,  9.84s/epoch, loss=1.03, accuracy=0.456, val_loss=1.02, val_accuracy=0.475]"
          ]
        },
        {
          "name": "stdout",
          "output_type": "stream",
          "text": [
            "464/464 [==============================] - 10s 21ms/step - loss: 1.0331 - accuracy: 0.4564 - val_loss: 1.0183 - val_accuracy: 0.4754\n",
            "Epoch 98/240\n",
            "463/464 [============================>.] - ETA: 0s - loss: 1.0341 - accuracy: 0.4559"
          ]
        },
        {
          "name": "stderr",
          "output_type": "stream",
          "text": [
            " 41%|████      | 98/240 [16:11<23:15,  9.83s/epoch, loss=1.03, accuracy=0.456, val_loss=1.02, val_accuracy=0.478]"
          ]
        },
        {
          "name": "stdout",
          "output_type": "stream",
          "text": [
            "464/464 [==============================] - 10s 21ms/step - loss: 1.0342 - accuracy: 0.4558 - val_loss: 1.0187 - val_accuracy: 0.4781\n",
            "Epoch 99/240\n",
            "463/464 [============================>.] - ETA: 0s - loss: 1.0308 - accuracy: 0.4550"
          ]
        },
        {
          "name": "stderr",
          "output_type": "stream",
          "text": [
            " 41%|████▏     | 99/240 [16:21<23:05,  9.83s/epoch, loss=1.03, accuracy=0.455, val_loss=1.02, val_accuracy=0.476]"
          ]
        },
        {
          "name": "stdout",
          "output_type": "stream",
          "text": [
            "464/464 [==============================] - 10s 21ms/step - loss: 1.0309 - accuracy: 0.4549 - val_loss: 1.0185 - val_accuracy: 0.4755\n",
            "Epoch 100/240\n",
            "463/464 [============================>.] - ETA: 0s - loss: 1.0319 - accuracy: 0.4567"
          ]
        },
        {
          "name": "stderr",
          "output_type": "stream",
          "text": [
            " 42%|████▏     | 100/240 [16:30<22:55,  9.83s/epoch, loss=1.03, accuracy=0.457, val_loss=1.02, val_accuracy=0.478]"
          ]
        },
        {
          "name": "stdout",
          "output_type": "stream",
          "text": [
            "464/464 [==============================] - 10s 21ms/step - loss: 1.0319 - accuracy: 0.4568 - val_loss: 1.0187 - val_accuracy: 0.4776\n",
            "Epoch 101/240\n",
            "462/464 [============================>.] - ETA: 0s - loss: 1.0326 - accuracy: 0.4564"
          ]
        },
        {
          "name": "stderr",
          "output_type": "stream",
          "text": [
            " 42%|████▏     | 101/240 [16:40<22:49,  9.85s/epoch, loss=1.03, accuracy=0.456, val_loss=1.02, val_accuracy=0.479]"
          ]
        },
        {
          "name": "stdout",
          "output_type": "stream",
          "text": [
            "464/464 [==============================] - 10s 21ms/step - loss: 1.0327 - accuracy: 0.4562 - val_loss: 1.0190 - val_accuracy: 0.4787\n",
            "Epoch 102/240\n",
            "463/464 [============================>.] - ETA: 0s - loss: 1.0316 - accuracy: 0.4585"
          ]
        },
        {
          "name": "stderr",
          "output_type": "stream",
          "text": [
            " 42%|████▎     | 102/240 [16:50<22:38,  9.85s/epoch, loss=1.03, accuracy=0.458, val_loss=1.02, val_accuracy=0.475]"
          ]
        },
        {
          "name": "stdout",
          "output_type": "stream",
          "text": [
            "464/464 [==============================] - 10s 21ms/step - loss: 1.0316 - accuracy: 0.4585 - val_loss: 1.0188 - val_accuracy: 0.4754\n",
            "Epoch 103/240\n",
            "462/464 [============================>.] - ETA: 0s - loss: 1.0310 - accuracy: 0.4593"
          ]
        },
        {
          "name": "stderr",
          "output_type": "stream",
          "text": [
            " 43%|████▎     | 103/240 [17:00<22:29,  9.85s/epoch, loss=1.03, accuracy=0.459, val_loss=1.02, val_accuracy=0.478]"
          ]
        },
        {
          "name": "stdout",
          "output_type": "stream",
          "text": [
            "464/464 [==============================] - 10s 21ms/step - loss: 1.0310 - accuracy: 0.4592 - val_loss: 1.0187 - val_accuracy: 0.4775\n",
            "Epoch 104/240\n",
            "463/464 [============================>.] - ETA: 0s - loss: 1.0311 - accuracy: 0.4581"
          ]
        },
        {
          "name": "stderr",
          "output_type": "stream",
          "text": [
            " 43%|████▎     | 104/240 [17:10<22:17,  9.84s/epoch, loss=1.03, accuracy=0.458, val_loss=1.02, val_accuracy=0.476]"
          ]
        },
        {
          "name": "stdout",
          "output_type": "stream",
          "text": [
            "464/464 [==============================] - 10s 21ms/step - loss: 1.0311 - accuracy: 0.4582 - val_loss: 1.0179 - val_accuracy: 0.4765\n",
            "Epoch 105/240\n",
            "462/464 [============================>.] - ETA: 0s - loss: 1.0302 - accuracy: 0.4590"
          ]
        },
        {
          "name": "stderr",
          "output_type": "stream",
          "text": [
            " 44%|████▍     | 105/240 [17:20<22:08,  9.84s/epoch, loss=1.03, accuracy=0.459, val_loss=1.02, val_accuracy=0.476]"
          ]
        },
        {
          "name": "stdout",
          "output_type": "stream",
          "text": [
            "464/464 [==============================] - 10s 21ms/step - loss: 1.0302 - accuracy: 0.4589 - val_loss: 1.0181 - val_accuracy: 0.4761\n",
            "Epoch 106/240\n",
            "463/464 [============================>.] - ETA: 0s - loss: 1.0335 - accuracy: 0.4545"
          ]
        },
        {
          "name": "stderr",
          "output_type": "stream",
          "text": [
            " 44%|████▍     | 106/240 [17:29<21:57,  9.83s/epoch, loss=1.03, accuracy=0.454, val_loss=1.02, val_accuracy=0.477]"
          ]
        },
        {
          "name": "stdout",
          "output_type": "stream",
          "text": [
            "464/464 [==============================] - 10s 21ms/step - loss: 1.0335 - accuracy: 0.4545 - val_loss: 1.0185 - val_accuracy: 0.4769\n",
            "Epoch 107/240\n",
            "463/464 [============================>.] - ETA: 0s - loss: 1.0276 - accuracy: 0.4587"
          ]
        },
        {
          "name": "stderr",
          "output_type": "stream",
          "text": [
            " 45%|████▍     | 107/240 [17:39<21:48,  9.84s/epoch, loss=1.03, accuracy=0.459, val_loss=1.02, val_accuracy=0.476]"
          ]
        },
        {
          "name": "stdout",
          "output_type": "stream",
          "text": [
            "464/464 [==============================] - 10s 21ms/step - loss: 1.0276 - accuracy: 0.4586 - val_loss: 1.0183 - val_accuracy: 0.4762\n",
            "Epoch 108/240\n",
            "462/464 [============================>.] - ETA: 0s - loss: 1.0307 - accuracy: 0.4572"
          ]
        },
        {
          "name": "stderr",
          "output_type": "stream",
          "text": [
            " 45%|████▌     | 108/240 [17:49<21:38,  9.84s/epoch, loss=1.03, accuracy=0.457, val_loss=1.02, val_accuracy=0.475]"
          ]
        },
        {
          "name": "stdout",
          "output_type": "stream",
          "text": [
            "464/464 [==============================] - 10s 21ms/step - loss: 1.0307 - accuracy: 0.4571 - val_loss: 1.0183 - val_accuracy: 0.4752\n",
            "Epoch 109/240\n",
            "463/464 [============================>.] - ETA: 0s - loss: 1.0279 - accuracy: 0.4620"
          ]
        },
        {
          "name": "stderr",
          "output_type": "stream",
          "text": [
            " 45%|████▌     | 109/240 [17:59<21:28,  9.84s/epoch, loss=1.03, accuracy=0.462, val_loss=1.02, val_accuracy=0.478]"
          ]
        },
        {
          "name": "stdout",
          "output_type": "stream",
          "text": [
            "464/464 [==============================] - 10s 21ms/step - loss: 1.0278 - accuracy: 0.4621 - val_loss: 1.0180 - val_accuracy: 0.4776\n",
            "Epoch 110/240\n",
            "463/464 [============================>.] - ETA: 0s - loss: 1.0294 - accuracy: 0.4566"
          ]
        },
        {
          "name": "stderr",
          "output_type": "stream",
          "text": [
            " 46%|████▌     | 110/240 [18:09<21:18,  9.84s/epoch, loss=1.03, accuracy=0.456, val_loss=1.02, val_accuracy=0.474]"
          ]
        },
        {
          "name": "stdout",
          "output_type": "stream",
          "text": [
            "464/464 [==============================] - 10s 21ms/step - loss: 1.0294 - accuracy: 0.4565 - val_loss: 1.0202 - val_accuracy: 0.4740\n",
            "Epoch 111/240\n",
            "463/464 [============================>.] - ETA: 0s - loss: 1.0287 - accuracy: 0.4584"
          ]
        },
        {
          "name": "stderr",
          "output_type": "stream",
          "text": [
            " 46%|████▋     | 111/240 [18:19<21:07,  9.83s/epoch, loss=1.03, accuracy=0.458, val_loss=1.02, val_accuracy=0.478]"
          ]
        },
        {
          "name": "stdout",
          "output_type": "stream",
          "text": [
            "464/464 [==============================] - 10s 21ms/step - loss: 1.0287 - accuracy: 0.4584 - val_loss: 1.0176 - val_accuracy: 0.4777\n",
            "Epoch 112/240\n",
            "463/464 [============================>.] - ETA: 0s - loss: 1.0279 - accuracy: 0.4626"
          ]
        },
        {
          "name": "stderr",
          "output_type": "stream",
          "text": [
            " 47%|████▋     | 112/240 [18:28<20:57,  9.82s/epoch, loss=1.03, accuracy=0.463, val_loss=1.02, val_accuracy=0.474]"
          ]
        },
        {
          "name": "stdout",
          "output_type": "stream",
          "text": [
            "464/464 [==============================] - 10s 21ms/step - loss: 1.0279 - accuracy: 0.4626 - val_loss: 1.0201 - val_accuracy: 0.4739\n",
            "Epoch 113/240\n",
            "462/464 [============================>.] - ETA: 0s - loss: 1.0295 - accuracy: 0.4614"
          ]
        },
        {
          "name": "stderr",
          "output_type": "stream",
          "text": [
            " 47%|████▋     | 113/240 [18:38<20:47,  9.83s/epoch, loss=1.03, accuracy=0.462, val_loss=1.02, val_accuracy=0.476]"
          ]
        },
        {
          "name": "stdout",
          "output_type": "stream",
          "text": [
            "464/464 [==============================] - 10s 21ms/step - loss: 1.0295 - accuracy: 0.4617 - val_loss: 1.0177 - val_accuracy: 0.4763\n",
            "Epoch 114/240\n",
            "462/464 [============================>.] - ETA: 0s - loss: 1.0275 - accuracy: 0.4609"
          ]
        },
        {
          "name": "stderr",
          "output_type": "stream",
          "text": [
            " 48%|████▊     | 114/240 [18:48<20:38,  9.83s/epoch, loss=1.03, accuracy=0.461, val_loss=1.02, val_accuracy=0.475]"
          ]
        },
        {
          "name": "stdout",
          "output_type": "stream",
          "text": [
            "464/464 [==============================] - 10s 21ms/step - loss: 1.0276 - accuracy: 0.4609 - val_loss: 1.0183 - val_accuracy: 0.4752\n",
            "Epoch 115/240\n",
            "463/464 [============================>.] - ETA: 0s - loss: 1.0279 - accuracy: 0.4605"
          ]
        },
        {
          "name": "stderr",
          "output_type": "stream",
          "text": [
            " 48%|████▊     | 115/240 [18:58<20:30,  9.84s/epoch, loss=1.03, accuracy=0.46, val_loss=1.02, val_accuracy=0.475] "
          ]
        },
        {
          "name": "stdout",
          "output_type": "stream",
          "text": [
            "464/464 [==============================] - 10s 21ms/step - loss: 1.0279 - accuracy: 0.4605 - val_loss: 1.0182 - val_accuracy: 0.4753\n",
            "Epoch 116/240\n",
            "463/464 [============================>.] - ETA: 0s - loss: 1.0301 - accuracy: 0.4571"
          ]
        },
        {
          "name": "stderr",
          "output_type": "stream",
          "text": [
            " 48%|████▊     | 116/240 [19:08<20:20,  9.84s/epoch, loss=1.03, accuracy=0.457, val_loss=1.02, val_accuracy=0.476]"
          ]
        },
        {
          "name": "stdout",
          "output_type": "stream",
          "text": [
            "464/464 [==============================] - 10s 21ms/step - loss: 1.0301 - accuracy: 0.4571 - val_loss: 1.0185 - val_accuracy: 0.4759\n",
            "Epoch 117/240\n",
            "463/464 [============================>.] - ETA: 0s - loss: 1.0254 - accuracy: 0.4625"
          ]
        },
        {
          "name": "stderr",
          "output_type": "stream",
          "text": [
            " 49%|████▉     | 117/240 [19:18<20:10,  9.84s/epoch, loss=1.03, accuracy=0.463, val_loss=1.02, val_accuracy=0.476]"
          ]
        },
        {
          "name": "stdout",
          "output_type": "stream",
          "text": [
            "464/464 [==============================] - 10s 21ms/step - loss: 1.0254 - accuracy: 0.4625 - val_loss: 1.0182 - val_accuracy: 0.4762\n",
            "Epoch 118/240\n",
            "463/464 [============================>.] - ETA: 0s - loss: 1.0272 - accuracy: 0.4635"
          ]
        },
        {
          "name": "stderr",
          "output_type": "stream",
          "text": [
            " 49%|████▉     | 118/240 [19:27<20:00,  9.84s/epoch, loss=1.03, accuracy=0.463, val_loss=1.02, val_accuracy=0.475]"
          ]
        },
        {
          "name": "stdout",
          "output_type": "stream",
          "text": [
            "464/464 [==============================] - 10s 21ms/step - loss: 1.0272 - accuracy: 0.4634 - val_loss: 1.0184 - val_accuracy: 0.4753\n",
            "Epoch 119/240\n",
            "462/464 [============================>.] - ETA: 0s - loss: 1.0259 - accuracy: 0.4648"
          ]
        },
        {
          "name": "stderr",
          "output_type": "stream",
          "text": [
            " 50%|████▉     | 119/240 [19:37<19:48,  9.82s/epoch, loss=1.03, accuracy=0.465, val_loss=1.02, val_accuracy=0.475]"
          ]
        },
        {
          "name": "stdout",
          "output_type": "stream",
          "text": [
            "464/464 [==============================] - 10s 21ms/step - loss: 1.0258 - accuracy: 0.4648 - val_loss: 1.0189 - val_accuracy: 0.4746\n",
            "Epoch 120/240\n",
            "462/464 [============================>.] - ETA: 0s - loss: 1.0269 - accuracy: 0.4638"
          ]
        },
        {
          "name": "stderr",
          "output_type": "stream",
          "text": [
            " 50%|█████     | 120/240 [19:47<19:38,  9.82s/epoch, loss=1.03, accuracy=0.464, val_loss=1.02, val_accuracy=0.473]"
          ]
        },
        {
          "name": "stdout",
          "output_type": "stream",
          "text": [
            "464/464 [==============================] - 10s 21ms/step - loss: 1.0268 - accuracy: 0.4638 - val_loss: 1.0209 - val_accuracy: 0.4726\n",
            "Epoch 121/240\n",
            "463/464 [============================>.] - ETA: 0s - loss: 1.0275 - accuracy: 0.4607"
          ]
        },
        {
          "name": "stderr",
          "output_type": "stream",
          "text": [
            " 50%|█████     | 121/240 [19:57<19:29,  9.83s/epoch, loss=1.03, accuracy=0.461, val_loss=1.02, val_accuracy=0.475]"
          ]
        },
        {
          "name": "stdout",
          "output_type": "stream",
          "text": [
            "464/464 [==============================] - 10s 21ms/step - loss: 1.0276 - accuracy: 0.4605 - val_loss: 1.0182 - val_accuracy: 0.4750\n",
            "Epoch 122/240\n",
            "463/464 [============================>.] - ETA: 0s - loss: 1.0266 - accuracy: 0.4629"
          ]
        },
        {
          "name": "stderr",
          "output_type": "stream",
          "text": [
            " 51%|█████     | 122/240 [20:07<19:20,  9.84s/epoch, loss=1.03, accuracy=0.463, val_loss=1.02, val_accuracy=0.475]"
          ]
        },
        {
          "name": "stdout",
          "output_type": "stream",
          "text": [
            "464/464 [==============================] - 10s 21ms/step - loss: 1.0266 - accuracy: 0.4629 - val_loss: 1.0184 - val_accuracy: 0.4745\n",
            "Epoch 123/240\n",
            "462/464 [============================>.] - ETA: 0s - loss: 1.0264 - accuracy: 0.4623"
          ]
        },
        {
          "name": "stderr",
          "output_type": "stream",
          "text": [
            " 51%|█████▏    | 123/240 [20:17<19:11,  9.84s/epoch, loss=1.03, accuracy=0.462, val_loss=1.02, val_accuracy=0.476]"
          ]
        },
        {
          "name": "stdout",
          "output_type": "stream",
          "text": [
            "464/464 [==============================] - 10s 21ms/step - loss: 1.0262 - accuracy: 0.4625 - val_loss: 1.0185 - val_accuracy: 0.4756\n",
            "Epoch 124/240\n",
            "463/464 [============================>.] - ETA: 0s - loss: 1.0273 - accuracy: 0.4657"
          ]
        },
        {
          "name": "stderr",
          "output_type": "stream",
          "text": [
            " 52%|█████▏    | 124/240 [20:26<19:00,  9.83s/epoch, loss=1.03, accuracy=0.466, val_loss=1.02, val_accuracy=0.477]"
          ]
        },
        {
          "name": "stdout",
          "output_type": "stream",
          "text": [
            "464/464 [==============================] - 10s 21ms/step - loss: 1.0273 - accuracy: 0.4655 - val_loss: 1.0184 - val_accuracy: 0.4766\n",
            "Epoch 125/240\n",
            "463/464 [============================>.] - ETA: 0s - loss: 1.0257 - accuracy: 0.4625"
          ]
        },
        {
          "name": "stderr",
          "output_type": "stream",
          "text": [
            " 52%|█████▏    | 125/240 [20:36<18:52,  9.84s/epoch, loss=1.03, accuracy=0.462, val_loss=1.02, val_accuracy=0.475]"
          ]
        },
        {
          "name": "stdout",
          "output_type": "stream",
          "text": [
            "464/464 [==============================] - 10s 21ms/step - loss: 1.0258 - accuracy: 0.4625 - val_loss: 1.0184 - val_accuracy: 0.4745\n",
            "Epoch 126/240\n",
            "463/464 [============================>.] - ETA: 0s - loss: 1.0251 - accuracy: 0.4660"
          ]
        },
        {
          "name": "stderr",
          "output_type": "stream",
          "text": [
            " 52%|█████▎    | 126/240 [20:46<18:40,  9.83s/epoch, loss=1.03, accuracy=0.466, val_loss=1.02, val_accuracy=0.474]"
          ]
        },
        {
          "name": "stdout",
          "output_type": "stream",
          "text": [
            "464/464 [==============================] - 10s 21ms/step - loss: 1.0251 - accuracy: 0.4660 - val_loss: 1.0188 - val_accuracy: 0.4740\n",
            "Epoch 127/240\n",
            "463/464 [============================>.] - ETA: 0s - loss: 1.0246 - accuracy: 0.4627"
          ]
        },
        {
          "name": "stderr",
          "output_type": "stream",
          "text": [
            " 53%|█████▎    | 127/240 [20:56<18:30,  9.83s/epoch, loss=1.02, accuracy=0.463, val_loss=1.02, val_accuracy=0.473]"
          ]
        },
        {
          "name": "stdout",
          "output_type": "stream",
          "text": [
            "464/464 [==============================] - 10s 21ms/step - loss: 1.0247 - accuracy: 0.4627 - val_loss: 1.0195 - val_accuracy: 0.4733\n",
            "Epoch 128/240\n",
            "463/464 [============================>.] - ETA: 0s - loss: 1.0271 - accuracy: 0.4631"
          ]
        },
        {
          "name": "stderr",
          "output_type": "stream",
          "text": [
            " 53%|█████▎    | 128/240 [21:06<18:21,  9.83s/epoch, loss=1.03, accuracy=0.463, val_loss=1.02, val_accuracy=0.473]"
          ]
        },
        {
          "name": "stdout",
          "output_type": "stream",
          "text": [
            "464/464 [==============================] - 10s 21ms/step - loss: 1.0271 - accuracy: 0.4631 - val_loss: 1.0184 - val_accuracy: 0.4731\n",
            "Epoch 129/240\n",
            "463/464 [============================>.] - ETA: 0s - loss: 1.0255 - accuracy: 0.4638"
          ]
        },
        {
          "name": "stderr",
          "output_type": "stream",
          "text": [
            " 54%|█████▍    | 129/240 [21:16<18:11,  9.84s/epoch, loss=1.03, accuracy=0.464, val_loss=1.02, val_accuracy=0.475]"
          ]
        },
        {
          "name": "stdout",
          "output_type": "stream",
          "text": [
            "464/464 [==============================] - 10s 21ms/step - loss: 1.0255 - accuracy: 0.4638 - val_loss: 1.0181 - val_accuracy: 0.4752\n",
            "Epoch 130/240\n",
            "463/464 [============================>.] - ETA: 0s - loss: 1.0256 - accuracy: 0.4638"
          ]
        },
        {
          "name": "stderr",
          "output_type": "stream",
          "text": [
            " 54%|█████▍    | 130/240 [21:25<18:01,  9.83s/epoch, loss=1.03, accuracy=0.464, val_loss=1.02, val_accuracy=0.472]"
          ]
        },
        {
          "name": "stdout",
          "output_type": "stream",
          "text": [
            "464/464 [==============================] - 10s 21ms/step - loss: 1.0256 - accuracy: 0.4639 - val_loss: 1.0188 - val_accuracy: 0.4722\n",
            "Epoch 131/240\n",
            "462/464 [============================>.] - ETA: 0s - loss: 1.0264 - accuracy: 0.4613"
          ]
        },
        {
          "name": "stderr",
          "output_type": "stream",
          "text": [
            " 55%|█████▍    | 131/240 [21:35<17:52,  9.84s/epoch, loss=1.03, accuracy=0.461, val_loss=1.02, val_accuracy=0.474]"
          ]
        },
        {
          "name": "stdout",
          "output_type": "stream",
          "text": [
            "464/464 [==============================] - 10s 21ms/step - loss: 1.0262 - accuracy: 0.4613 - val_loss: 1.0185 - val_accuracy: 0.4737\n",
            "Epoch 132/240\n",
            "463/464 [============================>.] - ETA: 0s - loss: 1.0224 - accuracy: 0.4662"
          ]
        },
        {
          "name": "stderr",
          "output_type": "stream",
          "text": [
            " 55%|█████▌    | 132/240 [21:45<17:40,  9.82s/epoch, loss=1.02, accuracy=0.466, val_loss=1.02, val_accuracy=0.476]"
          ]
        },
        {
          "name": "stdout",
          "output_type": "stream",
          "text": [
            "464/464 [==============================] - 10s 21ms/step - loss: 1.0225 - accuracy: 0.4662 - val_loss: 1.0178 - val_accuracy: 0.4765\n",
            "Epoch 133/240\n",
            "462/464 [============================>.] - ETA: 0s - loss: 1.0243 - accuracy: 0.4631"
          ]
        },
        {
          "name": "stderr",
          "output_type": "stream",
          "text": [
            " 55%|█████▌    | 133/240 [21:55<17:31,  9.82s/epoch, loss=1.02, accuracy=0.463, val_loss=1.02, val_accuracy=0.475]"
          ]
        },
        {
          "name": "stdout",
          "output_type": "stream",
          "text": [
            "464/464 [==============================] - 10s 21ms/step - loss: 1.0242 - accuracy: 0.4634 - val_loss: 1.0174 - val_accuracy: 0.4747\n",
            "Epoch 134/240\n",
            "463/464 [============================>.] - ETA: 0s - loss: 1.0275 - accuracy: 0.4632"
          ]
        },
        {
          "name": "stderr",
          "output_type": "stream",
          "text": [
            " 56%|█████▌    | 134/240 [22:05<17:21,  9.82s/epoch, loss=1.03, accuracy=0.463, val_loss=1.02, val_accuracy=0.475]"
          ]
        },
        {
          "name": "stdout",
          "output_type": "stream",
          "text": [
            "464/464 [==============================] - 10s 21ms/step - loss: 1.0275 - accuracy: 0.4632 - val_loss: 1.0181 - val_accuracy: 0.4754\n",
            "Epoch 135/240\n",
            "463/464 [============================>.] - ETA: 0s - loss: 1.0244 - accuracy: 0.4629"
          ]
        },
        {
          "name": "stderr",
          "output_type": "stream",
          "text": [
            " 56%|█████▋    | 135/240 [22:15<17:11,  9.82s/epoch, loss=1.02, accuracy=0.463, val_loss=1.02, val_accuracy=0.473]"
          ]
        },
        {
          "name": "stdout",
          "output_type": "stream",
          "text": [
            "464/464 [==============================] - 10s 21ms/step - loss: 1.0243 - accuracy: 0.4630 - val_loss: 1.0188 - val_accuracy: 0.4731\n",
            "Epoch 136/240\n",
            "463/464 [============================>.] - ETA: 0s - loss: 1.0255 - accuracy: 0.4632"
          ]
        },
        {
          "name": "stderr",
          "output_type": "stream",
          "text": [
            " 57%|█████▋    | 136/240 [22:24<17:01,  9.82s/epoch, loss=1.03, accuracy=0.463, val_loss=1.02, val_accuracy=0.476]"
          ]
        },
        {
          "name": "stdout",
          "output_type": "stream",
          "text": [
            "464/464 [==============================] - 10s 21ms/step - loss: 1.0255 - accuracy: 0.4633 - val_loss: 1.0186 - val_accuracy: 0.4755\n",
            "Epoch 137/240\n",
            "464/464 [==============================] - ETA: 0s - loss: 1.0243 - accuracy: 0.4655"
          ]
        },
        {
          "name": "stderr",
          "output_type": "stream",
          "text": [
            " 57%|█████▋    | 137/240 [22:34<16:59,  9.90s/epoch, loss=1.02, accuracy=0.465, val_loss=1.02, val_accuracy=0.473]"
          ]
        },
        {
          "name": "stdout",
          "output_type": "stream",
          "text": [
            "464/464 [==============================] - 10s 22ms/step - loss: 1.0243 - accuracy: 0.4655 - val_loss: 1.0195 - val_accuracy: 0.4728\n",
            "Epoch 138/240\n",
            "463/464 [============================>.] - ETA: 0s - loss: 1.0253 - accuracy: 0.4620"
          ]
        },
        {
          "name": "stderr",
          "output_type": "stream",
          "text": [
            " 57%|█████▊    | 138/240 [22:45<16:59,  9.99s/epoch, loss=1.03, accuracy=0.462, val_loss=1.02, val_accuracy=0.473]"
          ]
        },
        {
          "name": "stdout",
          "output_type": "stream",
          "text": [
            "464/464 [==============================] - 10s 22ms/step - loss: 1.0253 - accuracy: 0.4622 - val_loss: 1.0211 - val_accuracy: 0.4732\n",
            "Epoch 139/240\n",
            "464/464 [==============================] - ETA: 0s - loss: 1.0252 - accuracy: 0.4648"
          ]
        },
        {
          "name": "stderr",
          "output_type": "stream",
          "text": [
            " 58%|█████▊    | 139/240 [22:55<16:59, 10.10s/epoch, loss=1.03, accuracy=0.465, val_loss=1.02, val_accuracy=0.472]"
          ]
        },
        {
          "name": "stdout",
          "output_type": "stream",
          "text": [
            "464/464 [==============================] - 10s 22ms/step - loss: 1.0252 - accuracy: 0.4648 - val_loss: 1.0185 - val_accuracy: 0.4720\n",
            "Epoch 140/240\n",
            "463/464 [============================>.] - ETA: 0s - loss: 1.0249 - accuracy: 0.4649"
          ]
        },
        {
          "name": "stderr",
          "output_type": "stream",
          "text": [
            " 58%|█████▊    | 140/240 [23:05<16:41, 10.02s/epoch, loss=1.02, accuracy=0.465, val_loss=1.02, val_accuracy=0.475]"
          ]
        },
        {
          "name": "stdout",
          "output_type": "stream",
          "text": [
            "464/464 [==============================] - 10s 21ms/step - loss: 1.0248 - accuracy: 0.4649 - val_loss: 1.0187 - val_accuracy: 0.4751\n",
            "Epoch 141/240\n",
            "462/464 [============================>.] - ETA: 0s - loss: 1.0207 - accuracy: 0.4654"
          ]
        },
        {
          "name": "stderr",
          "output_type": "stream",
          "text": [
            " 59%|█████▉    | 141/240 [23:15<16:26,  9.96s/epoch, loss=1.02, accuracy=0.465, val_loss=1.02, val_accuracy=0.473]"
          ]
        },
        {
          "name": "stdout",
          "output_type": "stream",
          "text": [
            "464/464 [==============================] - 10s 21ms/step - loss: 1.0208 - accuracy: 0.4653 - val_loss: 1.0178 - val_accuracy: 0.4730\n",
            "Epoch 142/240\n",
            "463/464 [============================>.] - ETA: 0s - loss: 1.0248 - accuracy: 0.4627"
          ]
        },
        {
          "name": "stderr",
          "output_type": "stream",
          "text": [
            " 59%|█████▉    | 142/240 [23:24<16:11,  9.92s/epoch, loss=1.02, accuracy=0.463, val_loss=1.02, val_accuracy=0.473]"
          ]
        },
        {
          "name": "stdout",
          "output_type": "stream",
          "text": [
            "464/464 [==============================] - 10s 21ms/step - loss: 1.0247 - accuracy: 0.4628 - val_loss: 1.0182 - val_accuracy: 0.4732\n",
            "Epoch 143/240\n",
            "463/464 [============================>.] - ETA: 0s - loss: 1.0219 - accuracy: 0.4644"
          ]
        },
        {
          "name": "stderr",
          "output_type": "stream",
          "text": [
            " 60%|█████▉    | 143/240 [23:34<16:00,  9.90s/epoch, loss=1.02, accuracy=0.465, val_loss=1.02, val_accuracy=0.47] "
          ]
        },
        {
          "name": "stdout",
          "output_type": "stream",
          "text": [
            "464/464 [==============================] - 10s 21ms/step - loss: 1.0218 - accuracy: 0.4645 - val_loss: 1.0205 - val_accuracy: 0.4703\n",
            "Epoch 144/240\n",
            "463/464 [============================>.] - ETA: 0s - loss: 1.0240 - accuracy: 0.4677"
          ]
        },
        {
          "name": "stderr",
          "output_type": "stream",
          "text": [
            " 60%|██████    | 144/240 [23:44<15:48,  9.88s/epoch, loss=1.02, accuracy=0.468, val_loss=1.02, val_accuracy=0.471]"
          ]
        },
        {
          "name": "stdout",
          "output_type": "stream",
          "text": [
            "464/464 [==============================] - 10s 21ms/step - loss: 1.0240 - accuracy: 0.4677 - val_loss: 1.0197 - val_accuracy: 0.4711\n",
            "Epoch 145/240\n",
            "463/464 [============================>.] - ETA: 0s - loss: 1.0229 - accuracy: 0.4655"
          ]
        },
        {
          "name": "stderr",
          "output_type": "stream",
          "text": [
            " 60%|██████    | 145/240 [23:54<15:36,  9.86s/epoch, loss=1.02, accuracy=0.465, val_loss=1.02, val_accuracy=0.475]"
          ]
        },
        {
          "name": "stdout",
          "output_type": "stream",
          "text": [
            "464/464 [==============================] - 10s 21ms/step - loss: 1.0229 - accuracy: 0.4654 - val_loss: 1.0176 - val_accuracy: 0.4751\n",
            "Epoch 146/240\n",
            "463/464 [============================>.] - ETA: 0s - loss: 1.0230 - accuracy: 0.4659"
          ]
        },
        {
          "name": "stderr",
          "output_type": "stream",
          "text": [
            " 61%|██████    | 146/240 [24:04<15:26,  9.86s/epoch, loss=1.02, accuracy=0.466, val_loss=1.02, val_accuracy=0.475]"
          ]
        },
        {
          "name": "stdout",
          "output_type": "stream",
          "text": [
            "464/464 [==============================] - 10s 21ms/step - loss: 1.0231 - accuracy: 0.4658 - val_loss: 1.0184 - val_accuracy: 0.4752\n",
            "Epoch 147/240\n",
            "463/464 [============================>.] - ETA: 0s - loss: 1.0226 - accuracy: 0.4682"
          ]
        },
        {
          "name": "stderr",
          "output_type": "stream",
          "text": [
            " 61%|██████▏   | 147/240 [24:14<15:15,  9.85s/epoch, loss=1.02, accuracy=0.468, val_loss=1.02, val_accuracy=0.469]"
          ]
        },
        {
          "name": "stdout",
          "output_type": "stream",
          "text": [
            "464/464 [==============================] - 10s 21ms/step - loss: 1.0225 - accuracy: 0.4681 - val_loss: 1.0210 - val_accuracy: 0.4690\n",
            "Epoch 148/240\n",
            "463/464 [============================>.] - ETA: 0s - loss: 1.0230 - accuracy: 0.4632"
          ]
        },
        {
          "name": "stderr",
          "output_type": "stream",
          "text": [
            " 62%|██████▏   | 148/240 [24:24<15:06,  9.86s/epoch, loss=1.02, accuracy=0.463, val_loss=1.02, val_accuracy=0.469]"
          ]
        },
        {
          "name": "stdout",
          "output_type": "stream",
          "text": [
            "464/464 [==============================] - 10s 21ms/step - loss: 1.0230 - accuracy: 0.4632 - val_loss: 1.0211 - val_accuracy: 0.4694\n",
            "Epoch 149/240\n",
            "463/464 [============================>.] - ETA: 0s - loss: 1.0226 - accuracy: 0.4659"
          ]
        },
        {
          "name": "stderr",
          "output_type": "stream",
          "text": [
            " 62%|██████▏   | 149/240 [24:33<14:56,  9.85s/epoch, loss=1.02, accuracy=0.466, val_loss=1.02, val_accuracy=0.476]"
          ]
        },
        {
          "name": "stdout",
          "output_type": "stream",
          "text": [
            "464/464 [==============================] - 10s 21ms/step - loss: 1.0226 - accuracy: 0.4660 - val_loss: 1.0176 - val_accuracy: 0.4764\n",
            "Epoch 150/240\n",
            "463/464 [============================>.] - ETA: 0s - loss: 1.0199 - accuracy: 0.4677"
          ]
        },
        {
          "name": "stderr",
          "output_type": "stream",
          "text": [
            " 62%|██████▎   | 150/240 [24:43<14:45,  9.84s/epoch, loss=1.02, accuracy=0.468, val_loss=1.02, val_accuracy=0.475]"
          ]
        },
        {
          "name": "stdout",
          "output_type": "stream",
          "text": [
            "464/464 [==============================] - 10s 21ms/step - loss: 1.0200 - accuracy: 0.4677 - val_loss: 1.0188 - val_accuracy: 0.4752\n",
            "Epoch 151/240\n",
            "463/464 [============================>.] - ETA: 0s - loss: 1.0234 - accuracy: 0.4643"
          ]
        },
        {
          "name": "stderr",
          "output_type": "stream",
          "text": [
            " 63%|██████▎   | 151/240 [24:53<14:35,  9.84s/epoch, loss=1.02, accuracy=0.464, val_loss=1.02, val_accuracy=0.474]"
          ]
        },
        {
          "name": "stdout",
          "output_type": "stream",
          "text": [
            "464/464 [==============================] - 10s 21ms/step - loss: 1.0235 - accuracy: 0.4643 - val_loss: 1.0183 - val_accuracy: 0.4742\n",
            "Epoch 152/240\n",
            "463/464 [============================>.] - ETA: 0s - loss: 1.0228 - accuracy: 0.4653"
          ]
        },
        {
          "name": "stderr",
          "output_type": "stream",
          "text": [
            " 63%|██████▎   | 152/240 [25:03<14:26,  9.85s/epoch, loss=1.02, accuracy=0.465, val_loss=1.02, val_accuracy=0.469]"
          ]
        },
        {
          "name": "stdout",
          "output_type": "stream",
          "text": [
            "464/464 [==============================] - 10s 21ms/step - loss: 1.0228 - accuracy: 0.4654 - val_loss: 1.0207 - val_accuracy: 0.4694\n",
            "Epoch 153/240\n",
            "463/464 [============================>.] - ETA: 0s - loss: 1.0236 - accuracy: 0.4640"
          ]
        },
        {
          "name": "stderr",
          "output_type": "stream",
          "text": [
            " 64%|██████▍   | 153/240 [25:13<14:17,  9.86s/epoch, loss=1.02, accuracy=0.464, val_loss=1.02, val_accuracy=0.476]"
          ]
        },
        {
          "name": "stdout",
          "output_type": "stream",
          "text": [
            "464/464 [==============================] - 10s 21ms/step - loss: 1.0236 - accuracy: 0.4640 - val_loss: 1.0190 - val_accuracy: 0.4757\n",
            "Epoch 154/240\n",
            "463/464 [============================>.] - ETA: 0s - loss: 1.0213 - accuracy: 0.4673"
          ]
        },
        {
          "name": "stderr",
          "output_type": "stream",
          "text": [
            " 64%|██████▍   | 154/240 [25:23<14:07,  9.86s/epoch, loss=1.02, accuracy=0.467, val_loss=1.02, val_accuracy=0.474]"
          ]
        },
        {
          "name": "stdout",
          "output_type": "stream",
          "text": [
            "464/464 [==============================] - 10s 21ms/step - loss: 1.0213 - accuracy: 0.4674 - val_loss: 1.0194 - val_accuracy: 0.4737\n",
            "Epoch 155/240\n",
            "463/464 [============================>.] - ETA: 0s - loss: 1.0224 - accuracy: 0.4666"
          ]
        },
        {
          "name": "stderr",
          "output_type": "stream",
          "text": [
            " 65%|██████▍   | 155/240 [25:33<13:58,  9.87s/epoch, loss=1.02, accuracy=0.467, val_loss=1.02, val_accuracy=0.475]"
          ]
        },
        {
          "name": "stdout",
          "output_type": "stream",
          "text": [
            "464/464 [==============================] - 10s 21ms/step - loss: 1.0224 - accuracy: 0.4666 - val_loss: 1.0186 - val_accuracy: 0.4750\n",
            "Epoch 156/240\n",
            "463/464 [============================>.] - ETA: 0s - loss: 1.0237 - accuracy: 0.4642"
          ]
        },
        {
          "name": "stderr",
          "output_type": "stream",
          "text": [
            " 65%|██████▌   | 156/240 [25:42<13:50,  9.89s/epoch, loss=1.02, accuracy=0.464, val_loss=1.02, val_accuracy=0.474]"
          ]
        },
        {
          "name": "stdout",
          "output_type": "stream",
          "text": [
            "464/464 [==============================] - 10s 21ms/step - loss: 1.0238 - accuracy: 0.4641 - val_loss: 1.0197 - val_accuracy: 0.4741\n",
            "Epoch 157/240\n",
            "463/464 [============================>.] - ETA: 0s - loss: 1.0205 - accuracy: 0.4664"
          ]
        },
        {
          "name": "stderr",
          "output_type": "stream",
          "text": [
            " 65%|██████▌   | 157/240 [25:52<13:41,  9.90s/epoch, loss=1.02, accuracy=0.466, val_loss=1.02, val_accuracy=0.468]"
          ]
        },
        {
          "name": "stdout",
          "output_type": "stream",
          "text": [
            "464/464 [==============================] - 10s 21ms/step - loss: 1.0206 - accuracy: 0.4663 - val_loss: 1.0207 - val_accuracy: 0.4678\n",
            "Epoch 158/240\n",
            "462/464 [============================>.] - ETA: 0s - loss: 1.0220 - accuracy: 0.4646"
          ]
        },
        {
          "name": "stderr",
          "output_type": "stream",
          "text": [
            " 66%|██████▌   | 158/240 [26:02<13:33,  9.92s/epoch, loss=1.02, accuracy=0.465, val_loss=1.02, val_accuracy=0.473]"
          ]
        },
        {
          "name": "stdout",
          "output_type": "stream",
          "text": [
            "464/464 [==============================] - 10s 21ms/step - loss: 1.0219 - accuracy: 0.4647 - val_loss: 1.0181 - val_accuracy: 0.4735\n",
            "Epoch 159/240\n",
            "462/464 [============================>.] - ETA: 0s - loss: 1.0203 - accuracy: 0.4668"
          ]
        },
        {
          "name": "stderr",
          "output_type": "stream",
          "text": [
            " 66%|██████▋   | 159/240 [26:12<13:22,  9.90s/epoch, loss=1.02, accuracy=0.467, val_loss=1.02, val_accuracy=0.475]"
          ]
        },
        {
          "name": "stdout",
          "output_type": "stream",
          "text": [
            "464/464 [==============================] - 10s 21ms/step - loss: 1.0203 - accuracy: 0.4668 - val_loss: 1.0178 - val_accuracy: 0.4747\n",
            "Epoch 160/240\n",
            "463/464 [============================>.] - ETA: 0s - loss: 1.0201 - accuracy: 0.4683"
          ]
        },
        {
          "name": "stderr",
          "output_type": "stream",
          "text": [
            " 67%|██████▋   | 160/240 [26:22<13:12,  9.90s/epoch, loss=1.02, accuracy=0.468, val_loss=1.02, val_accuracy=0.474]"
          ]
        },
        {
          "name": "stdout",
          "output_type": "stream",
          "text": [
            "464/464 [==============================] - 10s 21ms/step - loss: 1.0201 - accuracy: 0.4684 - val_loss: 1.0185 - val_accuracy: 0.4741\n",
            "Epoch 161/240\n",
            "463/464 [============================>.] - ETA: 0s - loss: 1.0206 - accuracy: 0.4665"
          ]
        },
        {
          "name": "stderr",
          "output_type": "stream",
          "text": [
            " 67%|██████▋   | 161/240 [26:32<13:02,  9.91s/epoch, loss=1.02, accuracy=0.466, val_loss=1.02, val_accuracy=0.469]"
          ]
        },
        {
          "name": "stdout",
          "output_type": "stream",
          "text": [
            "464/464 [==============================] - 10s 21ms/step - loss: 1.0206 - accuracy: 0.4664 - val_loss: 1.0207 - val_accuracy: 0.4693\n",
            "Epoch 162/240\n",
            "462/464 [============================>.] - ETA: 0s - loss: 1.0219 - accuracy: 0.4638"
          ]
        },
        {
          "name": "stderr",
          "output_type": "stream",
          "text": [
            " 68%|██████▊   | 162/240 [26:42<12:53,  9.92s/epoch, loss=1.02, accuracy=0.464, val_loss=1.02, val_accuracy=0.471]"
          ]
        },
        {
          "name": "stdout",
          "output_type": "stream",
          "text": [
            "464/464 [==============================] - 10s 21ms/step - loss: 1.0219 - accuracy: 0.4640 - val_loss: 1.0199 - val_accuracy: 0.4712\n",
            "Epoch 163/240\n",
            "463/464 [============================>.] - ETA: 0s - loss: 1.0210 - accuracy: 0.4653"
          ]
        },
        {
          "name": "stderr",
          "output_type": "stream",
          "text": [
            " 68%|██████▊   | 163/240 [26:52<12:44,  9.92s/epoch, loss=1.02, accuracy=0.465, val_loss=1.02, val_accuracy=0.471]"
          ]
        },
        {
          "name": "stdout",
          "output_type": "stream",
          "text": [
            "464/464 [==============================] - 10s 21ms/step - loss: 1.0210 - accuracy: 0.4653 - val_loss: 1.0187 - val_accuracy: 0.4711\n",
            "Epoch 164/240\n",
            "463/464 [============================>.] - ETA: 0s - loss: 1.0220 - accuracy: 0.4663"
          ]
        },
        {
          "name": "stderr",
          "output_type": "stream",
          "text": [
            " 68%|██████▊   | 164/240 [27:02<12:32,  9.91s/epoch, loss=1.02, accuracy=0.466, val_loss=1.02, val_accuracy=0.473]"
          ]
        },
        {
          "name": "stdout",
          "output_type": "stream",
          "text": [
            "464/464 [==============================] - 10s 21ms/step - loss: 1.0220 - accuracy: 0.4662 - val_loss: 1.0189 - val_accuracy: 0.4726\n",
            "Epoch 165/240\n",
            "463/464 [============================>.] - ETA: 0s - loss: 1.0211 - accuracy: 0.4703"
          ]
        },
        {
          "name": "stderr",
          "output_type": "stream",
          "text": [
            " 69%|██████▉   | 165/240 [27:12<12:23,  9.91s/epoch, loss=1.02, accuracy=0.47, val_loss=1.02, val_accuracy=0.475] "
          ]
        },
        {
          "name": "stdout",
          "output_type": "stream",
          "text": [
            "464/464 [==============================] - 10s 21ms/step - loss: 1.0211 - accuracy: 0.4704 - val_loss: 1.0182 - val_accuracy: 0.4749\n",
            "Epoch 166/240\n",
            "463/464 [============================>.] - ETA: 0s - loss: 1.0187 - accuracy: 0.4690"
          ]
        },
        {
          "name": "stderr",
          "output_type": "stream",
          "text": [
            " 69%|██████▉   | 166/240 [27:22<12:13,  9.91s/epoch, loss=1.02, accuracy=0.469, val_loss=1.02, val_accuracy=0.473]"
          ]
        },
        {
          "name": "stdout",
          "output_type": "stream",
          "text": [
            "464/464 [==============================] - 10s 21ms/step - loss: 1.0188 - accuracy: 0.4690 - val_loss: 1.0178 - val_accuracy: 0.4735\n",
            "Epoch 167/240\n",
            "462/464 [============================>.] - ETA: 0s - loss: 1.0210 - accuracy: 0.4652"
          ]
        },
        {
          "name": "stderr",
          "output_type": "stream",
          "text": [
            " 70%|██████▉   | 167/240 [27:32<12:04,  9.92s/epoch, loss=1.02, accuracy=0.465, val_loss=1.02, val_accuracy=0.472]"
          ]
        },
        {
          "name": "stdout",
          "output_type": "stream",
          "text": [
            "464/464 [==============================] - 10s 21ms/step - loss: 1.0210 - accuracy: 0.4651 - val_loss: 1.0181 - val_accuracy: 0.4724\n",
            "Epoch 168/240\n",
            "463/464 [============================>.] - ETA: 0s - loss: 1.0226 - accuracy: 0.4632"
          ]
        },
        {
          "name": "stderr",
          "output_type": "stream",
          "text": [
            " 70%|███████   | 168/240 [27:42<11:54,  9.93s/epoch, loss=1.02, accuracy=0.463, val_loss=1.02, val_accuracy=0.474]"
          ]
        },
        {
          "name": "stdout",
          "output_type": "stream",
          "text": [
            "464/464 [==============================] - 10s 21ms/step - loss: 1.0226 - accuracy: 0.4632 - val_loss: 1.0185 - val_accuracy: 0.4742\n",
            "Epoch 169/240\n",
            "463/464 [============================>.] - ETA: 0s - loss: 1.0199 - accuracy: 0.4678"
          ]
        },
        {
          "name": "stderr",
          "output_type": "stream",
          "text": [
            " 70%|███████   | 169/240 [27:51<11:44,  9.92s/epoch, loss=1.02, accuracy=0.468, val_loss=1.02, val_accuracy=0.473]"
          ]
        },
        {
          "name": "stdout",
          "output_type": "stream",
          "text": [
            "464/464 [==============================] - 10s 21ms/step - loss: 1.0198 - accuracy: 0.4678 - val_loss: 1.0183 - val_accuracy: 0.4733\n",
            "Epoch 170/240\n",
            "463/464 [============================>.] - ETA: 0s - loss: 1.0198 - accuracy: 0.4678"
          ]
        },
        {
          "name": "stderr",
          "output_type": "stream",
          "text": [
            " 71%|███████   | 170/240 [28:01<11:34,  9.93s/epoch, loss=1.02, accuracy=0.468, val_loss=1.02, val_accuracy=0.473]"
          ]
        },
        {
          "name": "stdout",
          "output_type": "stream",
          "text": [
            "464/464 [==============================] - 10s 21ms/step - loss: 1.0197 - accuracy: 0.4678 - val_loss: 1.0186 - val_accuracy: 0.4732\n",
            "Epoch 171/240\n",
            "463/464 [============================>.] - ETA: 0s - loss: 1.0185 - accuracy: 0.4663"
          ]
        },
        {
          "name": "stderr",
          "output_type": "stream",
          "text": [
            " 71%|███████▏  | 171/240 [28:11<11:25,  9.94s/epoch, loss=1.02, accuracy=0.466, val_loss=1.02, val_accuracy=0.473]"
          ]
        },
        {
          "name": "stdout",
          "output_type": "stream",
          "text": [
            "464/464 [==============================] - 10s 21ms/step - loss: 1.0185 - accuracy: 0.4663 - val_loss: 1.0184 - val_accuracy: 0.4726\n",
            "Epoch 172/240\n",
            "462/464 [============================>.] - ETA: 0s - loss: 1.0218 - accuracy: 0.4672"
          ]
        },
        {
          "name": "stderr",
          "output_type": "stream",
          "text": [
            " 72%|███████▏  | 172/240 [28:21<11:15,  9.94s/epoch, loss=1.02, accuracy=0.467, val_loss=1.02, val_accuracy=0.473]"
          ]
        },
        {
          "name": "stdout",
          "output_type": "stream",
          "text": [
            "464/464 [==============================] - 10s 21ms/step - loss: 1.0219 - accuracy: 0.4671 - val_loss: 1.0188 - val_accuracy: 0.4731\n",
            "Epoch 173/240\n",
            "462/464 [============================>.] - ETA: 0s - loss: 1.0199 - accuracy: 0.4679"
          ]
        },
        {
          "name": "stderr",
          "output_type": "stream",
          "text": [
            " 72%|███████▏  | 173/240 [28:31<11:04,  9.92s/epoch, loss=1.02, accuracy=0.468, val_loss=1.02, val_accuracy=0.474]"
          ]
        },
        {
          "name": "stdout",
          "output_type": "stream",
          "text": [
            "464/464 [==============================] - 10s 21ms/step - loss: 1.0199 - accuracy: 0.4678 - val_loss: 1.0180 - val_accuracy: 0.4739\n",
            "Epoch 174/240\n",
            "462/464 [============================>.] - ETA: 0s - loss: 1.0204 - accuracy: 0.4695"
          ]
        },
        {
          "name": "stderr",
          "output_type": "stream",
          "text": [
            " 72%|███████▎  | 174/240 [28:41<10:55,  9.93s/epoch, loss=1.02, accuracy=0.47, val_loss=1.02, val_accuracy=0.473] "
          ]
        },
        {
          "name": "stdout",
          "output_type": "stream",
          "text": [
            "464/464 [==============================] - 10s 21ms/step - loss: 1.0205 - accuracy: 0.4696 - val_loss: 1.0185 - val_accuracy: 0.4728\n",
            "Epoch 175/240\n",
            "462/464 [============================>.] - ETA: 0s - loss: 1.0208 - accuracy: 0.4659"
          ]
        },
        {
          "name": "stderr",
          "output_type": "stream",
          "text": [
            " 73%|███████▎  | 175/240 [28:51<10:45,  9.93s/epoch, loss=1.02, accuracy=0.466, val_loss=1.02, val_accuracy=0.47]"
          ]
        },
        {
          "name": "stdout",
          "output_type": "stream",
          "text": [
            "464/464 [==============================] - 10s 21ms/step - loss: 1.0208 - accuracy: 0.4659 - val_loss: 1.0201 - val_accuracy: 0.4701\n",
            "Epoch 176/240\n",
            "462/464 [============================>.] - ETA: 0s - loss: 1.0183 - accuracy: 0.4658"
          ]
        },
        {
          "name": "stderr",
          "output_type": "stream",
          "text": [
            " 73%|███████▎  | 176/240 [29:01<10:35,  9.92s/epoch, loss=1.02, accuracy=0.466, val_loss=1.02, val_accuracy=0.473]"
          ]
        },
        {
          "name": "stdout",
          "output_type": "stream",
          "text": [
            "464/464 [==============================] - 10s 21ms/step - loss: 1.0183 - accuracy: 0.4658 - val_loss: 1.0203 - val_accuracy: 0.4729\n",
            "Epoch 177/240\n",
            "463/464 [============================>.] - ETA: 0s - loss: 1.0194 - accuracy: 0.4647"
          ]
        },
        {
          "name": "stderr",
          "output_type": "stream",
          "text": [
            " 74%|███████▍  | 177/240 [29:11<10:24,  9.92s/epoch, loss=1.02, accuracy=0.465, val_loss=1.02, val_accuracy=0.472]"
          ]
        },
        {
          "name": "stdout",
          "output_type": "stream",
          "text": [
            "464/464 [==============================] - 10s 21ms/step - loss: 1.0193 - accuracy: 0.4647 - val_loss: 1.0187 - val_accuracy: 0.4717\n",
            "Epoch 178/240\n",
            "463/464 [============================>.] - ETA: 0s - loss: 1.0203 - accuracy: 0.4666"
          ]
        },
        {
          "name": "stderr",
          "output_type": "stream",
          "text": [
            " 74%|███████▍  | 178/240 [29:21<10:15,  9.92s/epoch, loss=1.02, accuracy=0.467, val_loss=1.02, val_accuracy=0.474]"
          ]
        },
        {
          "name": "stdout",
          "output_type": "stream",
          "text": [
            "464/464 [==============================] - 10s 21ms/step - loss: 1.0203 - accuracy: 0.4666 - val_loss: 1.0188 - val_accuracy: 0.4739\n",
            "Epoch 179/240\n",
            "463/464 [============================>.] - ETA: 0s - loss: 1.0216 - accuracy: 0.4690"
          ]
        },
        {
          "name": "stderr",
          "output_type": "stream",
          "text": [
            " 75%|███████▍  | 179/240 [29:31<10:04,  9.91s/epoch, loss=1.02, accuracy=0.469, val_loss=1.02, val_accuracy=0.472]"
          ]
        },
        {
          "name": "stdout",
          "output_type": "stream",
          "text": [
            "464/464 [==============================] - 10s 21ms/step - loss: 1.0216 - accuracy: 0.4691 - val_loss: 1.0181 - val_accuracy: 0.4724\n",
            "Epoch 180/240\n",
            "463/464 [============================>.] - ETA: 0s - loss: 1.0193 - accuracy: 0.4678"
          ]
        },
        {
          "name": "stderr",
          "output_type": "stream",
          "text": [
            " 75%|███████▌  | 180/240 [29:41<09:55,  9.92s/epoch, loss=1.02, accuracy=0.468, val_loss=1.02, val_accuracy=0.471]"
          ]
        },
        {
          "name": "stdout",
          "output_type": "stream",
          "text": [
            "464/464 [==============================] - 10s 21ms/step - loss: 1.0192 - accuracy: 0.4678 - val_loss: 1.0188 - val_accuracy: 0.4708\n",
            "Epoch 181/240\n",
            "462/464 [============================>.] - ETA: 0s - loss: 1.0191 - accuracy: 0.4662"
          ]
        },
        {
          "name": "stderr",
          "output_type": "stream",
          "text": [
            " 75%|███████▌  | 181/240 [29:50<09:44,  9.91s/epoch, loss=1.02, accuracy=0.466, val_loss=1.02, val_accuracy=0.47] "
          ]
        },
        {
          "name": "stdout",
          "output_type": "stream",
          "text": [
            "464/464 [==============================] - 10s 21ms/step - loss: 1.0190 - accuracy: 0.4661 - val_loss: 1.0189 - val_accuracy: 0.4695\n",
            "Epoch 182/240\n",
            "463/464 [============================>.] - ETA: 0s - loss: 1.0193 - accuracy: 0.4705"
          ]
        },
        {
          "name": "stderr",
          "output_type": "stream",
          "text": [
            " 76%|███████▌  | 182/240 [30:00<09:35,  9.93s/epoch, loss=1.02, accuracy=0.47, val_loss=1.02, val_accuracy=0.471]"
          ]
        },
        {
          "name": "stdout",
          "output_type": "stream",
          "text": [
            "464/464 [==============================] - 10s 21ms/step - loss: 1.0195 - accuracy: 0.4703 - val_loss: 1.0184 - val_accuracy: 0.4708\n",
            "Epoch 183/240\n",
            "463/464 [============================>.] - ETA: 0s - loss: 1.0167 - accuracy: 0.4701"
          ]
        },
        {
          "name": "stderr",
          "output_type": "stream",
          "text": [
            " 76%|███████▋  | 183/240 [30:10<09:25,  9.93s/epoch, loss=1.02, accuracy=0.47, val_loss=1.02, val_accuracy=0.469]"
          ]
        },
        {
          "name": "stdout",
          "output_type": "stream",
          "text": [
            "464/464 [==============================] - 10s 21ms/step - loss: 1.0169 - accuracy: 0.4700 - val_loss: 1.0195 - val_accuracy: 0.4691\n",
            "Epoch 184/240\n",
            "463/464 [============================>.] - ETA: 0s - loss: 1.0202 - accuracy: 0.4666"
          ]
        },
        {
          "name": "stderr",
          "output_type": "stream",
          "text": [
            " 77%|███████▋  | 184/240 [30:20<09:15,  9.93s/epoch, loss=1.02, accuracy=0.467, val_loss=1.02, val_accuracy=0.471]"
          ]
        },
        {
          "name": "stdout",
          "output_type": "stream",
          "text": [
            "464/464 [==============================] - 10s 21ms/step - loss: 1.0202 - accuracy: 0.4666 - val_loss: 1.0183 - val_accuracy: 0.4709\n",
            "Epoch 185/240\n",
            "462/464 [============================>.] - ETA: 0s - loss: 1.0189 - accuracy: 0.4674"
          ]
        },
        {
          "name": "stderr",
          "output_type": "stream",
          "text": [
            " 77%|███████▋  | 185/240 [30:30<09:05,  9.92s/epoch, loss=1.02, accuracy=0.467, val_loss=1.02, val_accuracy=0.471]"
          ]
        },
        {
          "name": "stdout",
          "output_type": "stream",
          "text": [
            "464/464 [==============================] - 10s 21ms/step - loss: 1.0190 - accuracy: 0.4674 - val_loss: 1.0181 - val_accuracy: 0.4712\n",
            "Epoch 186/240\n",
            "462/464 [============================>.] - ETA: 0s - loss: 1.0192 - accuracy: 0.4664"
          ]
        },
        {
          "name": "stderr",
          "output_type": "stream",
          "text": [
            " 78%|███████▊  | 186/240 [30:40<08:56,  9.93s/epoch, loss=1.02, accuracy=0.466, val_loss=1.02, val_accuracy=0.474]"
          ]
        },
        {
          "name": "stdout",
          "output_type": "stream",
          "text": [
            "464/464 [==============================] - 10s 21ms/step - loss: 1.0191 - accuracy: 0.4664 - val_loss: 1.0181 - val_accuracy: 0.4741\n",
            "Epoch 187/240\n",
            "463/464 [============================>.] - ETA: 0s - loss: 1.0165 - accuracy: 0.4694"
          ]
        },
        {
          "name": "stderr",
          "output_type": "stream",
          "text": [
            " 78%|███████▊  | 187/240 [30:50<08:45,  9.92s/epoch, loss=1.02, accuracy=0.469, val_loss=1.02, val_accuracy=0.47] "
          ]
        },
        {
          "name": "stdout",
          "output_type": "stream",
          "text": [
            "464/464 [==============================] - 10s 21ms/step - loss: 1.0166 - accuracy: 0.4694 - val_loss: 1.0193 - val_accuracy: 0.4701\n",
            "Epoch 188/240\n",
            "463/464 [============================>.] - ETA: 0s - loss: 1.0189 - accuracy: 0.4704"
          ]
        },
        {
          "name": "stderr",
          "output_type": "stream",
          "text": [
            " 78%|███████▊  | 188/240 [31:00<08:36,  9.93s/epoch, loss=1.02, accuracy=0.47, val_loss=1.02, val_accuracy=0.471]"
          ]
        },
        {
          "name": "stdout",
          "output_type": "stream",
          "text": [
            "464/464 [==============================] - 10s 21ms/step - loss: 1.0189 - accuracy: 0.4703 - val_loss: 1.0189 - val_accuracy: 0.4710\n",
            "Epoch 189/240\n",
            "462/464 [============================>.] - ETA: 0s - loss: 1.0181 - accuracy: 0.4700"
          ]
        },
        {
          "name": "stderr",
          "output_type": "stream",
          "text": [
            " 79%|███████▉  | 189/240 [31:10<08:26,  9.94s/epoch, loss=1.02, accuracy=0.47, val_loss=1.02, val_accuracy=0.472]"
          ]
        },
        {
          "name": "stdout",
          "output_type": "stream",
          "text": [
            "464/464 [==============================] - 10s 22ms/step - loss: 1.0180 - accuracy: 0.4699 - val_loss: 1.0194 - val_accuracy: 0.4721\n",
            "Epoch 190/240\n",
            "463/464 [============================>.] - ETA: 0s - loss: 1.0181 - accuracy: 0.4681"
          ]
        },
        {
          "name": "stderr",
          "output_type": "stream",
          "text": [
            " 79%|███████▉  | 190/240 [31:20<08:16,  9.92s/epoch, loss=1.02, accuracy=0.468, val_loss=1.02, val_accuracy=0.473]"
          ]
        },
        {
          "name": "stdout",
          "output_type": "stream",
          "text": [
            "464/464 [==============================] - 10s 21ms/step - loss: 1.0182 - accuracy: 0.4681 - val_loss: 1.0197 - val_accuracy: 0.4727\n",
            "Epoch 191/240\n",
            "463/464 [============================>.] - ETA: 0s - loss: 1.0166 - accuracy: 0.4676"
          ]
        },
        {
          "name": "stderr",
          "output_type": "stream",
          "text": [
            " 80%|███████▉  | 191/240 [31:30<08:06,  9.93s/epoch, loss=1.02, accuracy=0.468, val_loss=1.02, val_accuracy=0.464]"
          ]
        },
        {
          "name": "stdout",
          "output_type": "stream",
          "text": [
            "464/464 [==============================] - 10s 21ms/step - loss: 1.0166 - accuracy: 0.4677 - val_loss: 1.0242 - val_accuracy: 0.4644\n",
            "Epoch 192/240\n",
            "463/464 [============================>.] - ETA: 0s - loss: 1.0194 - accuracy: 0.4688"
          ]
        },
        {
          "name": "stderr",
          "output_type": "stream",
          "text": [
            " 80%|████████  | 192/240 [31:40<07:56,  9.93s/epoch, loss=1.02, accuracy=0.469, val_loss=1.02, val_accuracy=0.473]"
          ]
        },
        {
          "name": "stdout",
          "output_type": "stream",
          "text": [
            "464/464 [==============================] - 10s 21ms/step - loss: 1.0195 - accuracy: 0.4688 - val_loss: 1.0189 - val_accuracy: 0.4727\n",
            "Epoch 193/240\n",
            "463/464 [============================>.] - ETA: 0s - loss: 1.0163 - accuracy: 0.4685"
          ]
        },
        {
          "name": "stderr",
          "output_type": "stream",
          "text": [
            " 80%|████████  | 193/240 [31:50<07:46,  9.92s/epoch, loss=1.02, accuracy=0.469, val_loss=1.02, val_accuracy=0.469]"
          ]
        },
        {
          "name": "stdout",
          "output_type": "stream",
          "text": [
            "464/464 [==============================] - 10s 21ms/step - loss: 1.0165 - accuracy: 0.4685 - val_loss: 1.0202 - val_accuracy: 0.4689\n",
            "Epoch 194/240\n",
            "463/464 [============================>.] - ETA: 0s - loss: 1.0158 - accuracy: 0.4706"
          ]
        },
        {
          "name": "stderr",
          "output_type": "stream",
          "text": [
            " 81%|████████  | 194/240 [32:00<07:36,  9.92s/epoch, loss=1.02, accuracy=0.471, val_loss=1.02, val_accuracy=0.473]"
          ]
        },
        {
          "name": "stdout",
          "output_type": "stream",
          "text": [
            "464/464 [==============================] - 10s 21ms/step - loss: 1.0158 - accuracy: 0.4707 - val_loss: 1.0186 - val_accuracy: 0.4730\n",
            "Epoch 195/240\n",
            "464/464 [==============================] - ETA: 0s - loss: 1.0171 - accuracy: 0.4673"
          ]
        },
        {
          "name": "stderr",
          "output_type": "stream",
          "text": [
            " 81%|████████▏ | 195/240 [32:09<07:26,  9.92s/epoch, loss=1.02, accuracy=0.467, val_loss=1.02, val_accuracy=0.472]"
          ]
        },
        {
          "name": "stdout",
          "output_type": "stream",
          "text": [
            "464/464 [==============================] - 10s 21ms/step - loss: 1.0171 - accuracy: 0.4673 - val_loss: 1.0188 - val_accuracy: 0.4720\n",
            "Epoch 196/240\n",
            "463/464 [============================>.] - ETA: 0s - loss: 1.0181 - accuracy: 0.4685"
          ]
        },
        {
          "name": "stderr",
          "output_type": "stream",
          "text": [
            " 82%|████████▏ | 196/240 [32:19<07:16,  9.91s/epoch, loss=1.02, accuracy=0.468, val_loss=1.02, val_accuracy=0.47] "
          ]
        },
        {
          "name": "stdout",
          "output_type": "stream",
          "text": [
            "464/464 [==============================] - 10s 21ms/step - loss: 1.0181 - accuracy: 0.4684 - val_loss: 1.0188 - val_accuracy: 0.4703\n",
            "Epoch 197/240\n",
            "464/464 [==============================] - ETA: 0s - loss: 1.0186 - accuracy: 0.4692"
          ]
        },
        {
          "name": "stderr",
          "output_type": "stream",
          "text": [
            " 82%|████████▏ | 197/240 [32:29<07:06,  9.93s/epoch, loss=1.02, accuracy=0.469, val_loss=1.02, val_accuracy=0.472]"
          ]
        },
        {
          "name": "stdout",
          "output_type": "stream",
          "text": [
            "464/464 [==============================] - 10s 21ms/step - loss: 1.0186 - accuracy: 0.4692 - val_loss: 1.0185 - val_accuracy: 0.4715\n",
            "Epoch 198/240\n",
            "463/464 [============================>.] - ETA: 0s - loss: 1.0155 - accuracy: 0.4679"
          ]
        },
        {
          "name": "stderr",
          "output_type": "stream",
          "text": [
            " 82%|████████▎ | 198/240 [32:39<06:57,  9.93s/epoch, loss=1.02, accuracy=0.468, val_loss=1.02, val_accuracy=0.47] "
          ]
        },
        {
          "name": "stdout",
          "output_type": "stream",
          "text": [
            "464/464 [==============================] - 10s 21ms/step - loss: 1.0154 - accuracy: 0.4680 - val_loss: 1.0203 - val_accuracy: 0.4701\n",
            "Epoch 199/240\n",
            "463/464 [============================>.] - ETA: 0s - loss: 1.0154 - accuracy: 0.4705"
          ]
        },
        {
          "name": "stderr",
          "output_type": "stream",
          "text": [
            " 83%|████████▎ | 199/240 [32:49<06:47,  9.93s/epoch, loss=1.02, accuracy=0.471, val_loss=1.02, val_accuracy=0.472]"
          ]
        },
        {
          "name": "stdout",
          "output_type": "stream",
          "text": [
            "464/464 [==============================] - 10s 21ms/step - loss: 1.0153 - accuracy: 0.4706 - val_loss: 1.0194 - val_accuracy: 0.4716\n",
            "Epoch 200/240\n",
            "463/464 [============================>.] - ETA: 0s - loss: 1.0159 - accuracy: 0.4693"
          ]
        },
        {
          "name": "stderr",
          "output_type": "stream",
          "text": [
            " 83%|████████▎ | 200/240 [32:59<06:36,  9.92s/epoch, loss=1.02, accuracy=0.469, val_loss=1.02, val_accuracy=0.47] "
          ]
        },
        {
          "name": "stdout",
          "output_type": "stream",
          "text": [
            "464/464 [==============================] - 10s 21ms/step - loss: 1.0159 - accuracy: 0.4694 - val_loss: 1.0187 - val_accuracy: 0.4702\n",
            "Epoch 201/240\n",
            "463/464 [============================>.] - ETA: 0s - loss: 1.0161 - accuracy: 0.4709"
          ]
        },
        {
          "name": "stderr",
          "output_type": "stream",
          "text": [
            " 84%|████████▍ | 201/240 [33:09<06:27,  9.93s/epoch, loss=1.02, accuracy=0.471, val_loss=1.02, val_accuracy=0.47]"
          ]
        },
        {
          "name": "stdout",
          "output_type": "stream",
          "text": [
            "464/464 [==============================] - 10s 21ms/step - loss: 1.0162 - accuracy: 0.4710 - val_loss: 1.0188 - val_accuracy: 0.4703\n",
            "Epoch 202/240\n",
            "463/464 [============================>.] - ETA: 0s - loss: 1.0169 - accuracy: 0.4715"
          ]
        },
        {
          "name": "stderr",
          "output_type": "stream",
          "text": [
            " 84%|████████▍ | 202/240 [33:19<06:17,  9.93s/epoch, loss=1.02, accuracy=0.471, val_loss=1.02, val_accuracy=0.47]"
          ]
        },
        {
          "name": "stdout",
          "output_type": "stream",
          "text": [
            "464/464 [==============================] - 10s 21ms/step - loss: 1.0169 - accuracy: 0.4715 - val_loss: 1.0199 - val_accuracy: 0.4695\n",
            "Epoch 203/240\n",
            "462/464 [============================>.] - ETA: 0s - loss: 1.0152 - accuracy: 0.4707"
          ]
        },
        {
          "name": "stderr",
          "output_type": "stream",
          "text": [
            " 85%|████████▍ | 203/240 [33:29<06:07,  9.92s/epoch, loss=1.02, accuracy=0.471, val_loss=1.02, val_accuracy=0.471]"
          ]
        },
        {
          "name": "stdout",
          "output_type": "stream",
          "text": [
            "464/464 [==============================] - 10s 21ms/step - loss: 1.0153 - accuracy: 0.4705 - val_loss: 1.0189 - val_accuracy: 0.4712\n",
            "Epoch 204/240\n",
            "463/464 [============================>.] - ETA: 0s - loss: 1.0167 - accuracy: 0.4716"
          ]
        },
        {
          "name": "stderr",
          "output_type": "stream",
          "text": [
            " 85%|████████▌ | 204/240 [33:39<05:56,  9.91s/epoch, loss=1.02, accuracy=0.471, val_loss=1.02, val_accuracy=0.469]"
          ]
        },
        {
          "name": "stdout",
          "output_type": "stream",
          "text": [
            "464/464 [==============================] - 10s 21ms/step - loss: 1.0167 - accuracy: 0.4714 - val_loss: 1.0194 - val_accuracy: 0.4692\n",
            "Epoch 205/240\n",
            "462/464 [============================>.] - ETA: 0s - loss: 1.0155 - accuracy: 0.4688"
          ]
        },
        {
          "name": "stderr",
          "output_type": "stream",
          "text": [
            " 85%|████████▌ | 205/240 [33:49<05:46,  9.91s/epoch, loss=1.02, accuracy=0.469, val_loss=1.02, val_accuracy=0.47] "
          ]
        },
        {
          "name": "stdout",
          "output_type": "stream",
          "text": [
            "464/464 [==============================] - 10s 21ms/step - loss: 1.0155 - accuracy: 0.4689 - val_loss: 1.0197 - val_accuracy: 0.4696\n",
            "Epoch 206/240\n",
            "463/464 [============================>.] - ETA: 0s - loss: 1.0156 - accuracy: 0.4701"
          ]
        },
        {
          "name": "stderr",
          "output_type": "stream",
          "text": [
            " 86%|████████▌ | 206/240 [33:59<05:36,  9.91s/epoch, loss=1.02, accuracy=0.47, val_loss=1.02, val_accuracy=0.467]"
          ]
        },
        {
          "name": "stdout",
          "output_type": "stream",
          "text": [
            "464/464 [==============================] - 10s 21ms/step - loss: 1.0155 - accuracy: 0.4701 - val_loss: 1.0203 - val_accuracy: 0.4675\n",
            "Epoch 207/240\n",
            "462/464 [============================>.] - ETA: 0s - loss: 1.0152 - accuracy: 0.4695"
          ]
        },
        {
          "name": "stderr",
          "output_type": "stream",
          "text": [
            " 86%|████████▋ | 207/240 [34:08<05:27,  9.91s/epoch, loss=1.02, accuracy=0.47, val_loss=1.02, val_accuracy=0.468]"
          ]
        },
        {
          "name": "stdout",
          "output_type": "stream",
          "text": [
            "464/464 [==============================] - 10s 21ms/step - loss: 1.0151 - accuracy: 0.4696 - val_loss: 1.0211 - val_accuracy: 0.4683\n",
            "Epoch 208/240\n",
            "462/464 [============================>.] - ETA: 0s - loss: 1.0135 - accuracy: 0.4713"
          ]
        },
        {
          "name": "stderr",
          "output_type": "stream",
          "text": [
            " 87%|████████▋ | 208/240 [34:18<05:16,  9.90s/epoch, loss=1.01, accuracy=0.471, val_loss=1.02, val_accuracy=0.471]"
          ]
        },
        {
          "name": "stdout",
          "output_type": "stream",
          "text": [
            "464/464 [==============================] - 10s 21ms/step - loss: 1.0137 - accuracy: 0.4713 - val_loss: 1.0192 - val_accuracy: 0.4709\n",
            "Epoch 209/240\n",
            "463/464 [============================>.] - ETA: 0s - loss: 1.0156 - accuracy: 0.4705"
          ]
        },
        {
          "name": "stderr",
          "output_type": "stream",
          "text": [
            " 87%|████████▋ | 209/240 [34:28<05:07,  9.91s/epoch, loss=1.02, accuracy=0.47, val_loss=1.02, val_accuracy=0.468] "
          ]
        },
        {
          "name": "stdout",
          "output_type": "stream",
          "text": [
            "464/464 [==============================] - 10s 21ms/step - loss: 1.0156 - accuracy: 0.4703 - val_loss: 1.0199 - val_accuracy: 0.4679\n",
            "Epoch 210/240\n",
            "463/464 [============================>.] - ETA: 0s - loss: 1.0154 - accuracy: 0.4686"
          ]
        },
        {
          "name": "stderr",
          "output_type": "stream",
          "text": [
            " 88%|████████▊ | 210/240 [34:38<04:57,  9.90s/epoch, loss=1.02, accuracy=0.469, val_loss=1.02, val_accuracy=0.47]"
          ]
        },
        {
          "name": "stdout",
          "output_type": "stream",
          "text": [
            "464/464 [==============================] - 10s 21ms/step - loss: 1.0155 - accuracy: 0.4686 - val_loss: 1.0190 - val_accuracy: 0.4695\n",
            "Epoch 211/240\n",
            "462/464 [============================>.] - ETA: 0s - loss: 1.0156 - accuracy: 0.4678"
          ]
        },
        {
          "name": "stderr",
          "output_type": "stream",
          "text": [
            " 88%|████████▊ | 211/240 [34:48<04:47,  9.90s/epoch, loss=1.02, accuracy=0.468, val_loss=1.02, val_accuracy=0.469]"
          ]
        },
        {
          "name": "stdout",
          "output_type": "stream",
          "text": [
            "464/464 [==============================] - 10s 21ms/step - loss: 1.0157 - accuracy: 0.4675 - val_loss: 1.0211 - val_accuracy: 0.4694\n",
            "Epoch 212/240\n",
            "462/464 [============================>.] - ETA: 0s - loss: 1.0146 - accuracy: 0.4710"
          ]
        },
        {
          "name": "stderr",
          "output_type": "stream",
          "text": [
            " 88%|████████▊ | 212/240 [34:58<04:37,  9.92s/epoch, loss=1.01, accuracy=0.471, val_loss=1.02, val_accuracy=0.471]"
          ]
        },
        {
          "name": "stdout",
          "output_type": "stream",
          "text": [
            "464/464 [==============================] - 10s 21ms/step - loss: 1.0147 - accuracy: 0.4710 - val_loss: 1.0195 - val_accuracy: 0.4711\n",
            "Epoch 213/240\n",
            "463/464 [============================>.] - ETA: 0s - loss: 1.0137 - accuracy: 0.4715"
          ]
        },
        {
          "name": "stderr",
          "output_type": "stream",
          "text": [
            " 89%|████████▉ | 213/240 [35:08<04:27,  9.92s/epoch, loss=1.01, accuracy=0.472, val_loss=1.02, val_accuracy=0.47] "
          ]
        },
        {
          "name": "stdout",
          "output_type": "stream",
          "text": [
            "464/464 [==============================] - 10s 21ms/step - loss: 1.0137 - accuracy: 0.4716 - val_loss: 1.0200 - val_accuracy: 0.4696\n",
            "Epoch 214/240\n",
            "463/464 [============================>.] - ETA: 0s - loss: 1.0146 - accuracy: 0.4719"
          ]
        },
        {
          "name": "stderr",
          "output_type": "stream",
          "text": [
            " 89%|████████▉ | 214/240 [35:18<04:17,  9.92s/epoch, loss=1.01, accuracy=0.472, val_loss=1.02, val_accuracy=0.47]"
          ]
        },
        {
          "name": "stdout",
          "output_type": "stream",
          "text": [
            "464/464 [==============================] - 10s 21ms/step - loss: 1.0146 - accuracy: 0.4719 - val_loss: 1.0206 - val_accuracy: 0.4702\n",
            "Epoch 215/240\n",
            "463/464 [============================>.] - ETA: 0s - loss: 1.0136 - accuracy: 0.4719"
          ]
        },
        {
          "name": "stderr",
          "output_type": "stream",
          "text": [
            " 90%|████████▉ | 215/240 [35:28<04:07,  9.91s/epoch, loss=1.01, accuracy=0.472, val_loss=1.02, val_accuracy=0.47]"
          ]
        },
        {
          "name": "stdout",
          "output_type": "stream",
          "text": [
            "464/464 [==============================] - 10s 21ms/step - loss: 1.0137 - accuracy: 0.4718 - val_loss: 1.0191 - val_accuracy: 0.4704\n",
            "Epoch 216/240\n",
            "462/464 [============================>.] - ETA: 0s - loss: 1.0152 - accuracy: 0.4701"
          ]
        },
        {
          "name": "stderr",
          "output_type": "stream",
          "text": [
            " 90%|█████████ | 216/240 [35:38<03:57,  9.91s/epoch, loss=1.02, accuracy=0.47, val_loss=1.02, val_accuracy=0.466]"
          ]
        },
        {
          "name": "stdout",
          "output_type": "stream",
          "text": [
            "464/464 [==============================] - 10s 21ms/step - loss: 1.0153 - accuracy: 0.4699 - val_loss: 1.0204 - val_accuracy: 0.4658\n",
            "Epoch 217/240\n",
            "463/464 [============================>.] - ETA: 0s - loss: 1.0124 - accuracy: 0.4697"
          ]
        },
        {
          "name": "stderr",
          "output_type": "stream",
          "text": [
            " 90%|█████████ | 217/240 [35:48<03:47,  9.91s/epoch, loss=1.01, accuracy=0.47, val_loss=1.02, val_accuracy=0.468]"
          ]
        },
        {
          "name": "stdout",
          "output_type": "stream",
          "text": [
            "464/464 [==============================] - 10s 21ms/step - loss: 1.0125 - accuracy: 0.4697 - val_loss: 1.0204 - val_accuracy: 0.4683\n",
            "Epoch 218/240\n",
            "463/464 [============================>.] - ETA: 0s - loss: 1.0141 - accuracy: 0.4722"
          ]
        },
        {
          "name": "stderr",
          "output_type": "stream",
          "text": [
            " 91%|█████████ | 218/240 [35:58<03:38,  9.91s/epoch, loss=1.01, accuracy=0.472, val_loss=1.02, val_accuracy=0.466]"
          ]
        },
        {
          "name": "stdout",
          "output_type": "stream",
          "text": [
            "464/464 [==============================] - 10s 21ms/step - loss: 1.0142 - accuracy: 0.4722 - val_loss: 1.0213 - val_accuracy: 0.4661\n",
            "Epoch 219/240\n",
            "462/464 [============================>.] - ETA: 0s - loss: 1.0136 - accuracy: 0.4718"
          ]
        },
        {
          "name": "stderr",
          "output_type": "stream",
          "text": [
            " 91%|█████████▏| 219/240 [36:07<03:28,  9.93s/epoch, loss=1.01, accuracy=0.472, val_loss=1.02, val_accuracy=0.467]"
          ]
        },
        {
          "name": "stdout",
          "output_type": "stream",
          "text": [
            "464/464 [==============================] - 10s 22ms/step - loss: 1.0136 - accuracy: 0.4717 - val_loss: 1.0210 - val_accuracy: 0.4671\n",
            "Epoch 220/240\n",
            "463/464 [============================>.] - ETA: 0s - loss: 1.0131 - accuracy: 0.4700"
          ]
        },
        {
          "name": "stderr",
          "output_type": "stream",
          "text": [
            " 92%|█████████▏| 220/240 [36:17<03:18,  9.93s/epoch, loss=1.01, accuracy=0.47, val_loss=1.02, val_accuracy=0.469] "
          ]
        },
        {
          "name": "stdout",
          "output_type": "stream",
          "text": [
            "464/464 [==============================] - 10s 21ms/step - loss: 1.0132 - accuracy: 0.4699 - val_loss: 1.0215 - val_accuracy: 0.4686\n",
            "Epoch 221/240\n",
            "463/464 [============================>.] - ETA: 0s - loss: 1.0142 - accuracy: 0.4673"
          ]
        },
        {
          "name": "stderr",
          "output_type": "stream",
          "text": [
            " 92%|█████████▏| 221/240 [36:27<03:08,  9.93s/epoch, loss=1.01, accuracy=0.467, val_loss=1.02, val_accuracy=0.466]"
          ]
        },
        {
          "name": "stdout",
          "output_type": "stream",
          "text": [
            "464/464 [==============================] - 10s 21ms/step - loss: 1.0141 - accuracy: 0.4673 - val_loss: 1.0216 - val_accuracy: 0.4661\n",
            "Epoch 222/240\n",
            "463/464 [============================>.] - ETA: 0s - loss: 1.0146 - accuracy: 0.4720"
          ]
        },
        {
          "name": "stderr",
          "output_type": "stream",
          "text": [
            " 92%|█████████▎| 222/240 [36:37<02:58,  9.94s/epoch, loss=1.01, accuracy=0.472, val_loss=1.02, val_accuracy=0.468]"
          ]
        },
        {
          "name": "stdout",
          "output_type": "stream",
          "text": [
            "464/464 [==============================] - 10s 21ms/step - loss: 1.0146 - accuracy: 0.4719 - val_loss: 1.0220 - val_accuracy: 0.4683\n",
            "Epoch 223/240\n",
            "464/464 [==============================] - ETA: 0s - loss: 1.0129 - accuracy: 0.4699"
          ]
        },
        {
          "name": "stderr",
          "output_type": "stream",
          "text": [
            " 93%|█████████▎| 223/240 [36:47<02:48,  9.94s/epoch, loss=1.01, accuracy=0.47, val_loss=1.02, val_accuracy=0.467] "
          ]
        },
        {
          "name": "stdout",
          "output_type": "stream",
          "text": [
            "464/464 [==============================] - 10s 21ms/step - loss: 1.0129 - accuracy: 0.4699 - val_loss: 1.0212 - val_accuracy: 0.4669\n",
            "Epoch 224/240\n",
            "463/464 [============================>.] - ETA: 0s - loss: 1.0134 - accuracy: 0.4715"
          ]
        },
        {
          "name": "stderr",
          "output_type": "stream",
          "text": [
            " 93%|█████████▎| 224/240 [36:57<02:39,  9.94s/epoch, loss=1.01, accuracy=0.471, val_loss=1.02, val_accuracy=0.467]"
          ]
        },
        {
          "name": "stdout",
          "output_type": "stream",
          "text": [
            "464/464 [==============================] - 10s 21ms/step - loss: 1.0134 - accuracy: 0.4715 - val_loss: 1.0205 - val_accuracy: 0.4666\n",
            "Epoch 225/240\n",
            "462/464 [============================>.] - ETA: 0s - loss: 1.0123 - accuracy: 0.4692"
          ]
        },
        {
          "name": "stderr",
          "output_type": "stream",
          "text": [
            " 94%|█████████▍| 225/240 [37:07<02:29,  9.94s/epoch, loss=1.01, accuracy=0.469, val_loss=1.02, val_accuracy=0.464]"
          ]
        },
        {
          "name": "stdout",
          "output_type": "stream",
          "text": [
            "464/464 [==============================] - 10s 21ms/step - loss: 1.0126 - accuracy: 0.4691 - val_loss: 1.0231 - val_accuracy: 0.4642\n",
            "Epoch 226/240\n",
            "462/464 [============================>.] - ETA: 0s - loss: 1.0126 - accuracy: 0.4729"
          ]
        },
        {
          "name": "stderr",
          "output_type": "stream",
          "text": [
            " 94%|█████████▍| 226/240 [37:17<02:19,  9.93s/epoch, loss=1.01, accuracy=0.473, val_loss=1.02, val_accuracy=0.464]"
          ]
        },
        {
          "name": "stdout",
          "output_type": "stream",
          "text": [
            "464/464 [==============================] - 10s 21ms/step - loss: 1.0126 - accuracy: 0.4731 - val_loss: 1.0207 - val_accuracy: 0.4644\n",
            "Epoch 227/240\n",
            "463/464 [============================>.] - ETA: 0s - loss: 1.0132 - accuracy: 0.4705"
          ]
        },
        {
          "name": "stderr",
          "output_type": "stream",
          "text": [
            " 95%|█████████▍| 227/240 [37:27<02:09,  9.93s/epoch, loss=1.01, accuracy=0.47, val_loss=1.02, val_accuracy=0.467] "
          ]
        },
        {
          "name": "stdout",
          "output_type": "stream",
          "text": [
            "464/464 [==============================] - 10s 21ms/step - loss: 1.0132 - accuracy: 0.4705 - val_loss: 1.0213 - val_accuracy: 0.4667\n",
            "Epoch 228/240\n",
            "463/464 [============================>.] - ETA: 0s - loss: 1.0122 - accuracy: 0.4701"
          ]
        },
        {
          "name": "stderr",
          "output_type": "stream",
          "text": [
            " 95%|█████████▌| 228/240 [37:37<01:59,  9.93s/epoch, loss=1.01, accuracy=0.47, val_loss=1.02, val_accuracy=0.468]"
          ]
        },
        {
          "name": "stdout",
          "output_type": "stream",
          "text": [
            "464/464 [==============================] - 10s 21ms/step - loss: 1.0122 - accuracy: 0.4702 - val_loss: 1.0217 - val_accuracy: 0.4679\n",
            "Epoch 229/240\n",
            "463/464 [============================>.] - ETA: 0s - loss: 1.0117 - accuracy: 0.4727"
          ]
        },
        {
          "name": "stderr",
          "output_type": "stream",
          "text": [
            " 95%|█████████▌| 229/240 [37:47<01:49,  9.92s/epoch, loss=1.01, accuracy=0.473, val_loss=1.02, val_accuracy=0.465]"
          ]
        },
        {
          "name": "stdout",
          "output_type": "stream",
          "text": [
            "464/464 [==============================] - 10s 21ms/step - loss: 1.0118 - accuracy: 0.4727 - val_loss: 1.0207 - val_accuracy: 0.4653\n",
            "Epoch 230/240\n",
            "464/464 [==============================] - ETA: 0s - loss: 1.0119 - accuracy: 0.4702"
          ]
        },
        {
          "name": "stderr",
          "output_type": "stream",
          "text": [
            " 96%|█████████▌| 230/240 [37:57<01:40, 10.00s/epoch, loss=1.01, accuracy=0.47, val_loss=1.02, val_accuracy=0.465] "
          ]
        },
        {
          "name": "stdout",
          "output_type": "stream",
          "text": [
            "464/464 [==============================] - 10s 22ms/step - loss: 1.0119 - accuracy: 0.4702 - val_loss: 1.0236 - val_accuracy: 0.4647\n",
            "Epoch 231/240\n",
            "463/464 [============================>.] - ETA: 0s - loss: 1.0101 - accuracy: 0.4717"
          ]
        },
        {
          "name": "stderr",
          "output_type": "stream",
          "text": [
            " 96%|█████████▋| 231/240 [38:07<01:29,  9.97s/epoch, loss=1.01, accuracy=0.472, val_loss=1.02, val_accuracy=0.467]"
          ]
        },
        {
          "name": "stdout",
          "output_type": "stream",
          "text": [
            "464/464 [==============================] - 10s 21ms/step - loss: 1.0100 - accuracy: 0.4717 - val_loss: 1.0228 - val_accuracy: 0.4672\n",
            "Epoch 232/240\n",
            "463/464 [============================>.] - ETA: 0s - loss: 1.0104 - accuracy: 0.4728"
          ]
        },
        {
          "name": "stderr",
          "output_type": "stream",
          "text": [
            " 97%|█████████▋| 232/240 [38:17<01:19,  9.97s/epoch, loss=1.01, accuracy=0.473, val_loss=1.02, val_accuracy=0.461]"
          ]
        },
        {
          "name": "stdout",
          "output_type": "stream",
          "text": [
            "464/464 [==============================] - 10s 21ms/step - loss: 1.0104 - accuracy: 0.4728 - val_loss: 1.0240 - val_accuracy: 0.4613\n",
            "Epoch 233/240\n",
            "463/464 [============================>.] - ETA: 0s - loss: 1.0119 - accuracy: 0.4703"
          ]
        },
        {
          "name": "stderr",
          "output_type": "stream",
          "text": [
            " 97%|█████████▋| 233/240 [38:27<01:09,  9.97s/epoch, loss=1.01, accuracy=0.47, val_loss=1.02, val_accuracy=0.462] "
          ]
        },
        {
          "name": "stdout",
          "output_type": "stream",
          "text": [
            "464/464 [==============================] - 10s 21ms/step - loss: 1.0119 - accuracy: 0.4702 - val_loss: 1.0223 - val_accuracy: 0.4617\n",
            "Epoch 234/240\n",
            "463/464 [============================>.] - ETA: 0s - loss: 1.0104 - accuracy: 0.4759"
          ]
        },
        {
          "name": "stderr",
          "output_type": "stream",
          "text": [
            " 98%|█████████▊| 234/240 [38:37<00:59,  9.96s/epoch, loss=1.01, accuracy=0.476, val_loss=1.02, val_accuracy=0.464]"
          ]
        },
        {
          "name": "stdout",
          "output_type": "stream",
          "text": [
            "464/464 [==============================] - 10s 21ms/step - loss: 1.0104 - accuracy: 0.4759 - val_loss: 1.0229 - val_accuracy: 0.4640\n",
            "Epoch 235/240\n",
            "462/464 [============================>.] - ETA: 0s - loss: 1.0114 - accuracy: 0.4719"
          ]
        },
        {
          "name": "stderr",
          "output_type": "stream",
          "text": [
            " 98%|█████████▊| 235/240 [38:47<00:49,  9.96s/epoch, loss=1.01, accuracy=0.472, val_loss=1.02, val_accuracy=0.463]"
          ]
        },
        {
          "name": "stdout",
          "output_type": "stream",
          "text": [
            "464/464 [==============================] - 10s 21ms/step - loss: 1.0114 - accuracy: 0.4720 - val_loss: 1.0218 - val_accuracy: 0.4634\n",
            "Epoch 236/240\n",
            "462/464 [============================>.] - ETA: 0s - loss: 1.0114 - accuracy: 0.4733"
          ]
        },
        {
          "name": "stderr",
          "output_type": "stream",
          "text": [
            " 98%|█████████▊| 236/240 [38:57<00:39,  9.95s/epoch, loss=1.01, accuracy=0.474, val_loss=1.02, val_accuracy=0.465]"
          ]
        },
        {
          "name": "stdout",
          "output_type": "stream",
          "text": [
            "464/464 [==============================] - 10s 21ms/step - loss: 1.0113 - accuracy: 0.4735 - val_loss: 1.0211 - val_accuracy: 0.4646\n",
            "Epoch 237/240\n",
            "463/464 [============================>.] - ETA: 0s - loss: 1.0112 - accuracy: 0.4724"
          ]
        },
        {
          "name": "stderr",
          "output_type": "stream",
          "text": [
            " 99%|█████████▉| 237/240 [39:07<00:29,  9.95s/epoch, loss=1.01, accuracy=0.472, val_loss=1.02, val_accuracy=0.465]"
          ]
        },
        {
          "name": "stdout",
          "output_type": "stream",
          "text": [
            "464/464 [==============================] - 10s 21ms/step - loss: 1.0111 - accuracy: 0.4724 - val_loss: 1.0215 - val_accuracy: 0.4653\n",
            "Epoch 238/240\n",
            "463/464 [============================>.] - ETA: 0s - loss: 1.0107 - accuracy: 0.4746"
          ]
        },
        {
          "name": "stderr",
          "output_type": "stream",
          "text": [
            " 99%|█████████▉| 238/240 [39:17<00:19,  9.95s/epoch, loss=1.01, accuracy=0.475, val_loss=1.02, val_accuracy=0.465]"
          ]
        },
        {
          "name": "stdout",
          "output_type": "stream",
          "text": [
            "464/464 [==============================] - 10s 21ms/step - loss: 1.0108 - accuracy: 0.4746 - val_loss: 1.0213 - val_accuracy: 0.4651\n",
            "Epoch 239/240\n",
            "462/464 [============================>.] - ETA: 0s - loss: 1.0100 - accuracy: 0.4699"
          ]
        },
        {
          "name": "stderr",
          "output_type": "stream",
          "text": [
            "100%|█████████▉| 239/240 [39:26<00:09,  9.93s/epoch, loss=1.01, accuracy=0.47, val_loss=1.02, val_accuracy=0.464] "
          ]
        },
        {
          "name": "stdout",
          "output_type": "stream",
          "text": [
            "464/464 [==============================] - 10s 21ms/step - loss: 1.0100 - accuracy: 0.4698 - val_loss: 1.0212 - val_accuracy: 0.4636\n",
            "Epoch 240/240\n",
            "463/464 [============================>.] - ETA: 0s - loss: 1.0082 - accuracy: 0.4748"
          ]
        },
        {
          "name": "stderr",
          "output_type": "stream",
          "text": [
            "100%|██████████| 240/240 [39:36<00:00,  9.95s/epoch, loss=1.01, accuracy=0.475, val_loss=1.02, val_accuracy=0.464]"
          ]
        },
        {
          "name": "stdout",
          "output_type": "stream",
          "text": [
            "464/464 [==============================] - 10s 21ms/step - loss: 1.0083 - accuracy: 0.4747 - val_loss: 1.0213 - val_accuracy: 0.4641\n"
          ]
        },
        {
          "name": "stderr",
          "output_type": "stream",
          "text": [
            "100%|██████████| 240/240 [39:37<00:00,  9.90s/epoch, loss=1.01, accuracy=0.475, val_loss=1.02, val_accuracy=0.464]\n"
          ]
        }
      ],
      "source": [
        "import tensorflow as tf\n",
        "from tensorflow.keras.models import Sequential\n",
        "from tensorflow.keras.layers import Dense, Dropout, LSTM, BatchNormalization\n",
        "from tensorflow.keras.callbacks import ModelCheckpoint, TensorBoard\n",
        "import os\n",
        "from tqdm.keras import TqdmCallback\n",
        "import datetime\n",
        "from tensorflow.keras.layers import Bidirectional\n",
        "from tensorflow.keras import regularizers\n",
        "import json\n",
        "# model\n",
        "model = Sequential()\n",
        "\n",
        "for _ in range(layers-1):\n",
        "  model.add(Bidirectional(LSTM(nodes, \n",
        "               activation=\"tanh\", \n",
        "               recurrent_activation = 'sigmoid', \n",
        "               recurrent_dropout = rec_dropout, \n",
        "               unroll = False, \n",
        "               use_bias = True, \n",
        "               input_shape=(train_x.shape[1:]), \n",
        "               return_sequences=True,\n",
        "               kernel_regularizer=regularizers.l1_l2(l1=l1l2_reg/10, l2=l1l2_reg),\n",
        "               #bias_regularizer=regularizers.l2(l1l2_reg),\n",
        "               activity_regularizer=regularizers.l2(l1l2_reg)\n",
        "               )))\n",
        "  model.add(Dropout(dropOut))\n",
        "  #model.add(BatchNormalization())\n",
        "\n",
        "model.add(Bidirectional(LSTM(nodes, \n",
        "             activation=\"tanh\", \n",
        "             recurrent_activation = 'sigmoid', \n",
        "             recurrent_dropout = rec_dropout, \n",
        "             unroll = False, \n",
        "             use_bias = True, \n",
        "             input_shape=(train_x.shape[1:]),\n",
        "             kernel_regularizer=regularizers.l1_l2(l1=l1l2_reg/10, l2=l1l2_reg),\n",
        "             #bias_regularizer=regularizers.l2(l1l2_reg),\n",
        "             activity_regularizer=regularizers.l2(l1l2_reg)\n",
        "             )))\n",
        "model.add(Dropout(dropOut))\n",
        "#model.add(BatchNormalization())\n",
        "\n",
        "model.add(Dense(denseNodes, \n",
        "                activation=\"relu\",\n",
        "                kernel_regularizer=regularizers.l1_l2(l1=l1l2_reg/10, l2=l1l2_reg),\n",
        "                #bias_regularizer=regularizers.l2(l1l2_reg), \n",
        "                activity_regularizer=regularizers.l2(l1l2_reg)))\n",
        "model.add(Dropout(dropOut))\n",
        "\n",
        "model.add(Dense(3, activation=\"softmax\"))\n",
        "\n",
        "\n",
        "\n",
        "# opt  \n",
        "opt = tf.keras.optimizers.Adam(lr=learningRate) # decay?\n",
        "\n",
        "\n",
        "model.compile(loss=\"sparse_categorical_crossentropy\",\n",
        "              optimizer = opt,\n",
        "              metrics=[\"accuracy\"])\n",
        "\n",
        "\n",
        "filename = \"\" + NAME + \"-{epoch:02d}\"\n",
        "filepath = f\"models/{filename}.h5\"\n",
        "checkpoint = ModelCheckpoint(filepath, monitor='val_loss', verbose=0, save_best_only=False, save_weights_only=False, mode='auto', period=1) # saves every epoch\n",
        "\n",
        "# Prepare TensorBoard callback\n",
        "log_dir = \"../logs/fit/\" + f\"{NAME}\" + datetime.datetime.now().strftime(\"%Y%m%d-%H%M%S\")\n",
        "tensorboard_callback = TensorBoard(log_dir=log_dir, histogram_freq=1)\n",
        "\n",
        "\n",
        "# store hyper-parameters\n",
        "# Path to the JSON file\n",
        "file_path = \"models/hps/hps.json\"\n",
        "# Load the JSON file into a dictionary\n",
        "with open(file_path, \"r\") as json_file:\n",
        "    data = json.load(json_file)\n",
        "# Add a new key-value pair to the dictionary\n",
        "data[f\"{NAME}\" + datetime.datetime.now().strftime(\"%Y%m%d-%H%M%S\")] = hp_suffix\n",
        "# Write the updated dictionary back to the file\n",
        "with open(file_path, \"w\") as json_file:\n",
        "    json.dump(data, json_file, indent=4)\n",
        "\n",
        "\n",
        "\n",
        "\n",
        "# train\n",
        "history = model.fit(\n",
        "  train_x, train_y,\n",
        "  batch_size = batchSize,\n",
        "  epochs = EPOCHS,\n",
        "  validation_data=(validation_x, validation_y),\n",
        "  callbacks=[checkpoint, TqdmCallback(verbose=0), tensorboard_callback])\n",
        "  #callbacks=[checkpoint])"
      ]
    }
  ],
  "metadata": {
    "accelerator": "GPU",
    "colab": {
      "collapsed_sections": [],
      "machine_shape": "hm",
      "name": "modelTrainPreClassified.ipynb",
      "provenance": []
    },
    "kernelspec": {
      "display_name": "Python 3",
      "name": "python3"
    },
    "language_info": {
      "codemirror_mode": {
        "name": "ipython",
        "version": 3
      },
      "file_extension": ".py",
      "mimetype": "text/x-python",
      "name": "python",
      "nbconvert_exporter": "python",
      "pygments_lexer": "ipython3",
      "version": "3.10.12"
    }
  },
  "nbformat": 4,
  "nbformat_minor": 0
}
