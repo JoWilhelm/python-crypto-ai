{
  "cells": [
    {
      "attachments": {},
      "cell_type": "markdown",
      "metadata": {
        "id": "M7KYj8EtoPxZ"
      },
      "source": [
        "# Constants:"
      ]
    },
    {
      "cell_type": "code",
      "execution_count": 1,
      "metadata": {
        "id": "ZsusFSopoVfn"
      },
      "outputs": [],
      "source": [
        "SEQ_LEN = 40 #240   # how many past candles to use to predict\n",
        "CANDLES_SHIFT = 2 #5 # how many candles to shift between sequences\n",
        "NAME = \"4_m30_ov40th015p_shift2_seq40\"\n",
        "VALIDATION_PCT = 0.2"
      ]
    },
    {
      "attachments": {},
      "cell_type": "markdown",
      "metadata": {
        "id": "oSqPTNz-m5fo"
      },
      "source": [
        "# Functions:"
      ]
    },
    {
      "attachments": {},
      "cell_type": "markdown",
      "metadata": {
        "id": "1V8NN17CqWGA"
      },
      "source": [
        "sequence split"
      ]
    },
    {
      "cell_type": "code",
      "execution_count": 2,
      "metadata": {},
      "outputs": [],
      "source": [
        "import numpy as np\n",
        "\n",
        "def splitDf_new(df):\n",
        "    \n",
        "    res = []\n",
        "    print(\"\")\n",
        "    print(\"splitDf\")\n",
        "    while len(df) >= SEQ_LEN:\n",
        "        first = df.head(SEQ_LEN).copy()\n",
        "        first.index = np.arange(0, len(first))\n",
        "        res.append(first)\n",
        "        df = df.tail(len(df) - CANDLES_SHIFT)\n",
        "        df.index = np.arange(0, len(df))\n",
        "\n",
        "    print(\"-done\")\n",
        "    print(\"\")\n",
        "    return res"
      ]
    },
    {
      "attachments": {},
      "cell_type": "markdown",
      "metadata": {
        "id": "v84s4MzlrJex"
      },
      "source": [
        "balance"
      ]
    },
    {
      "cell_type": "code",
      "execution_count": 3,
      "metadata": {
        "id": "Hddt3uD8rLYE"
      },
      "outputs": [],
      "source": [
        "def balance(dfs):\n",
        "    \n",
        "    buys = []\n",
        "    sells = []\n",
        "    holds = []\n",
        "    for df in dfs:\n",
        "        if df.at[len(df)-1, 'target'] == 0:\n",
        "            sells.append(df)\n",
        "        elif df.at[len(df)-1, 'target'] == 1:\n",
        "            buys.append(df)\n",
        "        else:\n",
        "          holds.append(df)\n",
        "\n",
        "    print(\"before balancing:\")\n",
        "    print(\"buys:\", len(buys), \", sells:\", len(sells), \", holds:\", len(holds))\n",
        "\n",
        "    smallest = min(len(buys), len(sells), len(holds))\n",
        "    buys = buys[:smallest]\n",
        "    sells = sells[:smallest]\n",
        "    holds = holds[:smallest]\n",
        "\n",
        "    dfsBalanced = buys+sells+holds\n",
        "    return dfsBalanced"
      ]
    },
    {
      "attachments": {},
      "cell_type": "markdown",
      "metadata": {
        "id": "puLrLHQCr2IF"
      },
      "source": [
        "preprocessing"
      ]
    },
    {
      "cell_type": "code",
      "execution_count": 4,
      "metadata": {},
      "outputs": [],
      "source": [
        "from sklearn.preprocessing import StandardScaler\n",
        "\n",
        "\n",
        "# Function to preprocess data\n",
        "def preprocess3_train(df):\n",
        "    # before sequencing\n",
        "    #\n",
        "    # log and pctchange transform price columns ('low', 'high', 'open', 'close')\n",
        "    # scale every colum (center mean and unit variance)\n",
        "\n",
        "    scaler_dict = {}\n",
        "    for col in df.columns:\n",
        "        if col != 'target':\n",
        "            if col != 'quantity_baseUnits' and col != 'hl_percent':\n",
        "                df[col] = np.log(df[col])\n",
        "                df[col] = df[col].pct_change()\n",
        "                df.dropna(inplace=True)\n",
        "            scaler = StandardScaler()\n",
        "            df[col] = scaler.fit_transform(df[col].values.reshape(-1, 1))\n",
        "            scaler_dict[col] = scaler\n",
        "    df.index = np.arange(0, len(df))\n",
        "    return df, scaler_dict\n",
        "\n",
        "# Function to apply saved preprocessing to new data\n",
        "def apply_preprocess3_val(df, scaler_dict):\n",
        "    # before sequencing\n",
        "    #\n",
        "    # pct.change transform price columns ('low', 'high', 'open', 'close')\n",
        "    # scale every colum (center mean and unit variance)\n",
        "    \n",
        "    for col in df.columns:\n",
        "        if col != 'target':\n",
        "            if col != 'quantity_baseUnits' and col != 'hl_percent':\n",
        "                df[col] = np.log(df[col])\n",
        "                df[col] = df[col].pct_change()\n",
        "                df.dropna(inplace=True)\n",
        "            scaler = scaler_dict[col]\n",
        "            df[col] = scaler.transform(df[col].values.reshape(-1, 1))\n",
        "    df.index = np.arange(0, len(df))\n",
        "    return df"
      ]
    },
    {
      "attachments": {},
      "cell_type": "markdown",
      "metadata": {
        "id": "Mtk_1EDotEdd"
      },
      "source": [
        "sequences"
      ]
    },
    {
      "cell_type": "code",
      "execution_count": 5,
      "metadata": {
        "id": "U4r2br77tGf-"
      },
      "outputs": [],
      "source": [
        "def buildSequences(dfs):\n",
        "    \n",
        "    sequences = []\n",
        "    for df in dfs:\n",
        "        if(len(df) == SEQ_LEN):\n",
        "            label = df.at[SEQ_LEN-1, 'target']\n",
        "            df = df.iloc[:, :-1]\n",
        "            dfArray = df.values.tolist()\n",
        "            sequences.append([np.array(dfArray), label])\n",
        "    \n",
        "    return sequences"
      ]
    },
    {
      "attachments": {},
      "cell_type": "markdown",
      "metadata": {
        "id": "Dd640LH1tix2"
      },
      "source": [
        "X y split"
      ]
    },
    {
      "cell_type": "code",
      "execution_count": 6,
      "metadata": {
        "id": "4-HIbtKAtj-0"
      },
      "outputs": [],
      "source": [
        "def xySplit(seqWithTarget):\n",
        "\n",
        "    X = []\n",
        "    y = []\n",
        "    for seq, target in seqWithTarget:\n",
        "        X.append(seq)\n",
        "        y.append(target)\n",
        "\n",
        "    return np.array(X),np.array(y)"
      ]
    },
    {
      "attachments": {},
      "cell_type": "markdown",
      "metadata": {
        "id": "bBfc_4lKnYpv"
      },
      "source": [
        "# DF manipulation, build training sets:"
      ]
    },
    {
      "cell_type": "code",
      "execution_count": 7,
      "metadata": {},
      "outputs": [
        {
          "data": {
            "text/html": [
              "<div>\n",
              "<style scoped>\n",
              "    .dataframe tbody tr th:only-of-type {\n",
              "        vertical-align: middle;\n",
              "    }\n",
              "\n",
              "    .dataframe tbody tr th {\n",
              "        vertical-align: top;\n",
              "    }\n",
              "\n",
              "    .dataframe thead th {\n",
              "        text-align: right;\n",
              "    }\n",
              "</style>\n",
              "<table border=\"1\" class=\"dataframe\">\n",
              "  <thead>\n",
              "    <tr style=\"text-align: right;\">\n",
              "      <th></th>\n",
              "      <th>close</th>\n",
              "      <th>weightedAverage</th>\n",
              "      <th>hl_percent</th>\n",
              "      <th>quantity_baseUnits</th>\n",
              "      <th>target</th>\n",
              "    </tr>\n",
              "  </thead>\n",
              "  <tbody>\n",
              "    <tr>\n",
              "      <th>0</th>\n",
              "      <td>678.86</td>\n",
              "      <td>680.43</td>\n",
              "      <td>0.006774</td>\n",
              "      <td>10.651774</td>\n",
              "      <td>0</td>\n",
              "    </tr>\n",
              "    <tr>\n",
              "      <th>1</th>\n",
              "      <td>678.54</td>\n",
              "      <td>678.68</td>\n",
              "      <td>0.005044</td>\n",
              "      <td>6.966340</td>\n",
              "      <td>0</td>\n",
              "    </tr>\n",
              "    <tr>\n",
              "      <th>2</th>\n",
              "      <td>681.60</td>\n",
              "      <td>679.31</td>\n",
              "      <td>0.004811</td>\n",
              "      <td>9.486937</td>\n",
              "      <td>0</td>\n",
              "    </tr>\n",
              "    <tr>\n",
              "      <th>3</th>\n",
              "      <td>675.00</td>\n",
              "      <td>677.94</td>\n",
              "      <td>0.011018</td>\n",
              "      <td>14.400582</td>\n",
              "      <td>2</td>\n",
              "    </tr>\n",
              "    <tr>\n",
              "      <th>4</th>\n",
              "      <td>670.73</td>\n",
              "      <td>671.68</td>\n",
              "      <td>0.006326</td>\n",
              "      <td>35.396886</td>\n",
              "      <td>2</td>\n",
              "    </tr>\n",
              "    <tr>\n",
              "      <th>...</th>\n",
              "      <td>...</td>\n",
              "      <td>...</td>\n",
              "      <td>...</td>\n",
              "      <td>...</td>\n",
              "      <td>...</td>\n",
              "    </tr>\n",
              "    <tr>\n",
              "      <th>122671</th>\n",
              "      <td>30348.04</td>\n",
              "      <td>30379.52</td>\n",
              "      <td>0.003004</td>\n",
              "      <td>2.116099</td>\n",
              "      <td>0</td>\n",
              "    </tr>\n",
              "    <tr>\n",
              "      <th>122672</th>\n",
              "      <td>30388.37</td>\n",
              "      <td>30364.50</td>\n",
              "      <td>0.002573</td>\n",
              "      <td>1.236853</td>\n",
              "      <td>0</td>\n",
              "    </tr>\n",
              "    <tr>\n",
              "      <th>122673</th>\n",
              "      <td>30406.47</td>\n",
              "      <td>30403.91</td>\n",
              "      <td>0.001523</td>\n",
              "      <td>0.688637</td>\n",
              "      <td>0</td>\n",
              "    </tr>\n",
              "    <tr>\n",
              "      <th>122674</th>\n",
              "      <td>30426.45</td>\n",
              "      <td>30411.08</td>\n",
              "      <td>0.000850</td>\n",
              "      <td>0.838506</td>\n",
              "      <td>0</td>\n",
              "    </tr>\n",
              "    <tr>\n",
              "      <th>122675</th>\n",
              "      <td>30424.86</td>\n",
              "      <td>30426.49</td>\n",
              "      <td>0.001111</td>\n",
              "      <td>0.967142</td>\n",
              "      <td>0</td>\n",
              "    </tr>\n",
              "  </tbody>\n",
              "</table>\n",
              "<p>122676 rows × 5 columns</p>\n",
              "</div>"
            ],
            "text/plain": [
              "           close  weightedAverage  hl_percent  quantity_baseUnits  target\n",
              "0         678.86           680.43    0.006774           10.651774       0\n",
              "1         678.54           678.68    0.005044            6.966340       0\n",
              "2         681.60           679.31    0.004811            9.486937       0\n",
              "3         675.00           677.94    0.011018           14.400582       2\n",
              "4         670.73           671.68    0.006326           35.396886       2\n",
              "...          ...              ...         ...                 ...     ...\n",
              "122671  30348.04         30379.52    0.003004            2.116099       0\n",
              "122672  30388.37         30364.50    0.002573            1.236853       0\n",
              "122673  30406.47         30403.91    0.001523            0.688637       0\n",
              "122674  30426.45         30411.08    0.000850            0.838506       0\n",
              "122675  30424.86         30426.49    0.001111            0.967142       0\n",
              "\n",
              "[122676 rows x 5 columns]"
            ]
          },
          "execution_count": 7,
          "metadata": {},
          "output_type": "execute_result"
        }
      ],
      "source": [
        "import pandas as pd\n",
        "df = pd.read_csv(\"../historicalData/labeled/HistoricalDataLabeled_BTC_USDT_01072016_01072023_MINUTE_30_ov40_th015p.csv\")\n",
        "df = df[['close', 'weightedAverage', 'hl_percent', 'quantity_baseUnits', 'target']]\n",
        "df"
      ]
    },
    {
      "cell_type": "code",
      "execution_count": 8,
      "metadata": {},
      "outputs": [],
      "source": [
        "# Split data into train and validation sets\n",
        "train_size = int((1-VALIDATION_PCT) * len(df))\n",
        "train_df = df.iloc[:train_size].copy()\n",
        "val_df = df.iloc[train_size:].copy()"
      ]
    },
    {
      "cell_type": "code",
      "execution_count": 9,
      "metadata": {},
      "outputs": [],
      "source": [
        "# Preprocess the training data and save the scaling parameters\n",
        "train_df, scaler_dict = preprocess3_train(train_df)\n",
        "# Apply saved preprocessing to validation data\n",
        "val_df = apply_preprocess3_val(val_df, scaler_dict)"
      ]
    },
    {
      "attachments": {},
      "cell_type": "markdown",
      "metadata": {
        "id": "9h5xSZxbqNsz"
      },
      "source": [
        "split into dfs with SEQ_LEN rows"
      ]
    },
    {
      "cell_type": "code",
      "execution_count": 10,
      "metadata": {
        "colab": {
          "base_uri": "https://localhost:8080/"
        },
        "id": "31jTXjddn04r",
        "outputId": "125ce716-fa5f-4839-fabe-15765768da3e"
      },
      "outputs": [
        {
          "name": "stdout",
          "output_type": "stream",
          "text": [
            "\n",
            "splitDf\n",
            "-done\n",
            "\n",
            "\n",
            "splitDf\n",
            "-done\n",
            "\n"
          ]
        }
      ],
      "source": [
        "train_dfs = splitDf_new(train_df)\n",
        "val_dfs = splitDf_new(val_df)"
      ]
    },
    {
      "attachments": {},
      "cell_type": "markdown",
      "metadata": {
        "id": "Lo4KSJOxrAN0"
      },
      "source": [
        "balance buys/sells/holds"
      ]
    },
    {
      "cell_type": "code",
      "execution_count": 11,
      "metadata": {},
      "outputs": [
        {
          "name": "stdout",
          "output_type": "stream",
          "text": [
            "before balancing:\n",
            "buys: 16439 , sells: 15081 , holds: 17530\n",
            "before balancing:\n",
            "buys: 3667 , sells: 3759 , holds: 4822\n"
          ]
        }
      ],
      "source": [
        "# balance buys, sells, and holds\n",
        "import random\n",
        "\n",
        "random.shuffle(train_dfs)\n",
        "random.shuffle(val_dfs)\n",
        "train_dfs = balance(train_dfs)\n",
        "val_dfs = balance(val_dfs)\n",
        "random.shuffle(train_dfs)\n",
        "random.shuffle(val_dfs)"
      ]
    },
    {
      "attachments": {},
      "cell_type": "markdown",
      "metadata": {
        "id": "JleCIrlUs98K"
      },
      "source": [
        "build sequences"
      ]
    },
    {
      "cell_type": "code",
      "execution_count": 12,
      "metadata": {
        "colab": {
          "background_save": true
        },
        "id": "GToeQJ4Us_ll"
      },
      "outputs": [],
      "source": [
        "sequencesTraining = buildSequences(train_dfs)\n",
        "sequencesValidation = buildSequences(val_dfs)\n",
        "random.shuffle(sequencesTraining)\n",
        "random.shuffle(sequencesValidation)"
      ]
    },
    {
      "attachments": {},
      "cell_type": "markdown",
      "metadata": {
        "id": "G-ygYD9gtbMx"
      },
      "source": [
        "split sequence from label"
      ]
    },
    {
      "cell_type": "code",
      "execution_count": 13,
      "metadata": {
        "colab": {
          "background_save": true
        },
        "id": "3Cnkgt0utXt1"
      },
      "outputs": [],
      "source": [
        "train_x, train_y = xySplit(sequencesTraining)\n",
        "validation_x, validation_y = xySplit(sequencesValidation)"
      ]
    },
    {
      "cell_type": "code",
      "execution_count": 14,
      "metadata": {},
      "outputs": [
        {
          "name": "stdout",
          "output_type": "stream",
          "text": [
            "<class 'numpy.ndarray'>\n",
            "(45243, 40, 4)\n",
            "<class 'numpy.ndarray'>\n",
            "(11001, 40, 4)\n"
          ]
        }
      ],
      "source": [
        "print(type(train_x))\n",
        "print(train_x.shape)\n",
        "print(type(validation_x))\n",
        "print(validation_x.shape)"
      ]
    },
    {
      "cell_type": "code",
      "execution_count": 15,
      "metadata": {},
      "outputs": [],
      "source": [
        "import pickle\n",
        "\n",
        "with open(f'../trainData/{NAME}_train_x.pkl', 'wb') as file:\n",
        "    pickle.dump(train_x, file)\n",
        "with open(f'../trainData/{NAME}_train_y.pkl', 'wb') as file:\n",
        "    pickle.dump(train_y, file)\n",
        "with open(f'../trainData/{NAME}_validation_x.pkl', 'wb') as file:\n",
        "    pickle.dump(validation_x, file)\n",
        "with open(f'../trainData/{NAME}_validation_y.pkl', 'wb') as file:\n",
        "    pickle.dump(validation_y, file)"
      ]
    },
    {
      "cell_type": "code",
      "execution_count": 2,
      "metadata": {},
      "outputs": [],
      "source": [
        "import pickle\n",
        "\n",
        "with open(f\"../trainData/{NAME}_train_x.pkl\", \"rb\") as file:\n",
        "    train_x = pickle.load(file)\n",
        "with open(f\"../trainData/{NAME}_train_y.pkl\", \"rb\") as file:\n",
        "    train_y = pickle.load(file)\n",
        "with open(f\"../trainData/{NAME}_validation_x.pkl\", \"rb\") as file:\n",
        "    validation_x = pickle.load(file)\n",
        "with open(f\"../trainData/{NAME}_validation_y.pkl\", \"rb\") as file:\n",
        "    validation_y = pickle.load(file)"
      ]
    },
    {
      "attachments": {},
      "cell_type": "markdown",
      "metadata": {
        "id": "LXt32q1Tt39k"
      },
      "source": [
        "# Model:"
      ]
    },
    {
      "cell_type": "code",
      "execution_count": 3,
      "metadata": {},
      "outputs": [
        {
          "name": "stdout",
          "output_type": "stream",
          "text": [
            "Num GPUs Available:  1\n"
          ]
        }
      ],
      "source": [
        "import tensorflow as tf\n",
        "print(\"Num GPUs Available: \", len(tf.config.experimental.list_physical_devices('GPU')))\n"
      ]
    },
    {
      "attachments": {},
      "cell_type": "markdown",
      "metadata": {
        "id": "QNzTVj7Ue8Vg"
      },
      "source": [
        "hyper parameters bounds"
      ]
    },
    {
      "cell_type": "code",
      "execution_count": 4,
      "metadata": {
        "colab": {
          "background_save": true
        },
        "id": "mXBNmip7e7or"
      },
      "outputs": [],
      "source": [
        "EPOCHS = 400\n",
        "\n",
        "batchSize = 96\n",
        "layers = 2\n",
        "nodes = 64#256\n",
        "denseNodes = 32#128\n",
        "\n",
        "dropOut = 0.4#0.8 #0.92 #0.88\n",
        "rec_dropout = 0\n",
        "l1l2_reg = 0 #1e-5#1e-3\n",
        "\n",
        "learningRate = 0.00001\n",
        "decay = 0\n",
        "\n",
        "hp_suffix = f\"bs({batchSize})_layers({layers})_noded({nodes})_dNodes({denseNodes})_do({int(dropOut*100)}%)_recdo({rec_dropout})_l1l2({l1l2_reg})_lr({learningRate})_decay({decay})\""
      ]
    },
    {
      "cell_type": "code",
      "execution_count": 5,
      "metadata": {
        "id": "XYo0LRjEg2m4"
      },
      "outputs": [
        {
          "name": "stderr",
          "output_type": "stream",
          "text": [
            "c:\\Users\\Johannes\\miniconda3\\envs\\Quant\\lib\\site-packages\\tqdm\\auto.py:21: TqdmWarning: IProgress not found. Please update jupyter and ipywidgets. See https://ipywidgets.readthedocs.io/en/stable/user_install.html\n",
            "  from .autonotebook import tqdm as notebook_tqdm\n"
          ]
        },
        {
          "name": "stdout",
          "output_type": "stream",
          "text": [
            "WARNING:tensorflow:`period` argument is deprecated. Please use `save_freq` to specify the frequency in number of batches seen.\n"
          ]
        },
        {
          "name": "stderr",
          "output_type": "stream",
          "text": [
            "c:\\Users\\Johannes\\miniconda3\\envs\\Quant\\lib\\site-packages\\keras\\optimizers\\optimizer_v2\\adam.py:114: UserWarning: The `lr` argument is deprecated, use `learning_rate` instead.\n",
            "  super().__init__(name, **kwargs)\n",
            "  0%|          | 0/400 [00:00<?, ?epoch/s]"
          ]
        },
        {
          "name": "stdout",
          "output_type": "stream",
          "text": [
            "Epoch 1/400\n",
            "  1/472 [..............................] - ETA: 24:52 - loss: 1.1008 - accuracy: 0.3542WARNING:tensorflow:Callback method `on_train_batch_end` is slow compared to the batch time (batch time: 0.0069s vs `on_train_batch_end` time: 0.0135s). Check your callbacks.\n",
            "469/472 [============================>.] - ETA: 0s - loss: 1.0975 - accuracy: 0.3575"
          ]
        },
        {
          "name": "stderr",
          "output_type": "stream",
          "text": [
            "  0%|          | 1/400 [00:07<50:09,  7.54s/epoch, loss=1.1, accuracy=0.358, val_loss=1.09, val_accuracy=0.423]"
          ]
        },
        {
          "name": "stdout",
          "output_type": "stream",
          "text": [
            "472/472 [==============================] - 8s 9ms/step - loss: 1.0974 - accuracy: 0.3576 - val_loss: 1.0939 - val_accuracy: 0.4226\n",
            "Epoch 2/400\n",
            "472/472 [==============================] - ETA: 0s - loss: 1.0906 - accuracy: 0.3939"
          ]
        },
        {
          "name": "stderr",
          "output_type": "stream",
          "text": [
            "  0%|          | 2/400 [00:11<35:58,  5.42s/epoch, loss=1.09, accuracy=0.394, val_loss=1.09, val_accuracy=0.445]"
          ]
        },
        {
          "name": "stdout",
          "output_type": "stream",
          "text": [
            "472/472 [==============================] - 4s 8ms/step - loss: 1.0906 - accuracy: 0.3939 - val_loss: 1.0868 - val_accuracy: 0.4446\n",
            "Epoch 3/400\n",
            "469/472 [============================>.] - ETA: 0s - loss: 1.0822 - accuracy: 0.4196"
          ]
        },
        {
          "name": "stderr",
          "output_type": "stream",
          "text": [
            "  1%|          | 3/400 [00:15<31:04,  4.70s/epoch, loss=1.08, accuracy=0.42, val_loss=1.08, val_accuracy=0.453] "
          ]
        },
        {
          "name": "stdout",
          "output_type": "stream",
          "text": [
            "472/472 [==============================] - 4s 8ms/step - loss: 1.0822 - accuracy: 0.4196 - val_loss: 1.0763 - val_accuracy: 0.4525\n",
            "Epoch 4/400\n",
            "470/472 [============================>.] - ETA: 0s - loss: 1.0716 - accuracy: 0.4325"
          ]
        },
        {
          "name": "stderr",
          "output_type": "stream",
          "text": [
            "  1%|          | 4/400 [00:19<28:31,  4.32s/epoch, loss=1.07, accuracy=0.433, val_loss=1.06, val_accuracy=0.452]"
          ]
        },
        {
          "name": "stdout",
          "output_type": "stream",
          "text": [
            "472/472 [==============================] - 4s 8ms/step - loss: 1.0715 - accuracy: 0.4326 - val_loss: 1.0630 - val_accuracy: 0.4518\n",
            "Epoch 5/400\n",
            "466/472 [============================>.] - ETA: 0s - loss: 1.0624 - accuracy: 0.4347"
          ]
        },
        {
          "name": "stderr",
          "output_type": "stream",
          "text": [
            "  1%|▏         | 5/400 [00:22<27:11,  4.13s/epoch, loss=1.06, accuracy=0.435, val_loss=1.05, val_accuracy=0.449]"
          ]
        },
        {
          "name": "stdout",
          "output_type": "stream",
          "text": [
            "472/472 [==============================] - 4s 8ms/step - loss: 1.0624 - accuracy: 0.4346 - val_loss: 1.0541 - val_accuracy: 0.4493\n",
            "Epoch 6/400\n",
            "470/472 [============================>.] - ETA: 0s - loss: 1.0580 - accuracy: 0.4356"
          ]
        },
        {
          "name": "stderr",
          "output_type": "stream",
          "text": [
            "  2%|▏         | 6/400 [00:26<26:30,  4.04s/epoch, loss=1.06, accuracy=0.436, val_loss=1.05, val_accuracy=0.451]"
          ]
        },
        {
          "name": "stdout",
          "output_type": "stream",
          "text": [
            "472/472 [==============================] - 4s 8ms/step - loss: 1.0580 - accuracy: 0.4356 - val_loss: 1.0493 - val_accuracy: 0.4514\n",
            "Epoch 7/400\n",
            "467/472 [============================>.] - ETA: 0s - loss: 1.0533 - accuracy: 0.4387"
          ]
        },
        {
          "name": "stderr",
          "output_type": "stream",
          "text": [
            "  2%|▏         | 7/400 [00:30<25:56,  3.96s/epoch, loss=1.05, accuracy=0.439, val_loss=1.05, val_accuracy=0.454]"
          ]
        },
        {
          "name": "stdout",
          "output_type": "stream",
          "text": [
            "472/472 [==============================] - 4s 8ms/step - loss: 1.0535 - accuracy: 0.4387 - val_loss: 1.0455 - val_accuracy: 0.4537\n",
            "Epoch 8/400\n",
            "468/472 [============================>.] - ETA: 0s - loss: 1.0518 - accuracy: 0.4400"
          ]
        },
        {
          "name": "stderr",
          "output_type": "stream",
          "text": [
            "  2%|▏         | 8/400 [00:34<25:43,  3.94s/epoch, loss=1.05, accuracy=0.44, val_loss=1.04, val_accuracy=0.455] "
          ]
        },
        {
          "name": "stdout",
          "output_type": "stream",
          "text": [
            "472/472 [==============================] - 4s 8ms/step - loss: 1.0517 - accuracy: 0.4403 - val_loss: 1.0429 - val_accuracy: 0.4547\n",
            "Epoch 9/400\n",
            "467/472 [============================>.] - ETA: 0s - loss: 1.0498 - accuracy: 0.4401"
          ]
        },
        {
          "name": "stderr",
          "output_type": "stream",
          "text": [
            "  2%|▏         | 9/400 [00:38<25:36,  3.93s/epoch, loss=1.05, accuracy=0.44, val_loss=1.04, val_accuracy=0.457]"
          ]
        },
        {
          "name": "stdout",
          "output_type": "stream",
          "text": [
            "472/472 [==============================] - 4s 8ms/step - loss: 1.0496 - accuracy: 0.4401 - val_loss: 1.0406 - val_accuracy: 0.4567\n",
            "Epoch 10/400\n",
            "472/472 [==============================] - ETA: 0s - loss: 1.0476 - accuracy: 0.4419"
          ]
        },
        {
          "name": "stderr",
          "output_type": "stream",
          "text": [
            "  2%|▎         | 10/400 [00:42<25:10,  3.87s/epoch, loss=1.05, accuracy=0.442, val_loss=1.04, val_accuracy=0.456]"
          ]
        },
        {
          "name": "stdout",
          "output_type": "stream",
          "text": [
            "472/472 [==============================] - 4s 8ms/step - loss: 1.0476 - accuracy: 0.4419 - val_loss: 1.0384 - val_accuracy: 0.4562\n",
            "Epoch 11/400\n",
            "472/472 [==============================] - ETA: 0s - loss: 1.0451 - accuracy: 0.4421"
          ]
        },
        {
          "name": "stderr",
          "output_type": "stream",
          "text": [
            "  3%|▎         | 11/400 [00:45<24:48,  3.83s/epoch, loss=1.05, accuracy=0.442, val_loss=1.04, val_accuracy=0.459]"
          ]
        },
        {
          "name": "stdout",
          "output_type": "stream",
          "text": [
            "472/472 [==============================] - 4s 8ms/step - loss: 1.0451 - accuracy: 0.4421 - val_loss: 1.0364 - val_accuracy: 0.4585\n",
            "Epoch 12/400\n",
            "468/472 [============================>.] - ETA: 0s - loss: 1.0440 - accuracy: 0.4429"
          ]
        },
        {
          "name": "stderr",
          "output_type": "stream",
          "text": [
            "  3%|▎         | 12/400 [00:49<24:33,  3.80s/epoch, loss=1.04, accuracy=0.443, val_loss=1.03, val_accuracy=0.459]"
          ]
        },
        {
          "name": "stdout",
          "output_type": "stream",
          "text": [
            "472/472 [==============================] - 4s 8ms/step - loss: 1.0440 - accuracy: 0.4431 - val_loss: 1.0348 - val_accuracy: 0.4587\n",
            "Epoch 13/400\n",
            "468/472 [============================>.] - ETA: 0s - loss: 1.0434 - accuracy: 0.4425"
          ]
        },
        {
          "name": "stderr",
          "output_type": "stream",
          "text": [
            "  3%|▎         | 13/400 [00:53<24:21,  3.78s/epoch, loss=1.04, accuracy=0.443, val_loss=1.03, val_accuracy=0.457]"
          ]
        },
        {
          "name": "stdout",
          "output_type": "stream",
          "text": [
            "472/472 [==============================] - 4s 8ms/step - loss: 1.0434 - accuracy: 0.4426 - val_loss: 1.0335 - val_accuracy: 0.4570\n",
            "Epoch 14/400\n",
            "469/472 [============================>.] - ETA: 0s - loss: 1.0404 - accuracy: 0.4480"
          ]
        },
        {
          "name": "stderr",
          "output_type": "stream",
          "text": [
            "  4%|▎         | 14/400 [00:56<24:10,  3.76s/epoch, loss=1.04, accuracy=0.448, val_loss=1.03, val_accuracy=0.46] "
          ]
        },
        {
          "name": "stdout",
          "output_type": "stream",
          "text": [
            "472/472 [==============================] - 4s 8ms/step - loss: 1.0403 - accuracy: 0.4482 - val_loss: 1.0317 - val_accuracy: 0.4595\n",
            "Epoch 15/400\n",
            "472/472 [==============================] - ETA: 0s - loss: 1.0409 - accuracy: 0.4479"
          ]
        },
        {
          "name": "stderr",
          "output_type": "stream",
          "text": [
            "  4%|▍         | 15/400 [01:00<24:02,  3.75s/epoch, loss=1.04, accuracy=0.448, val_loss=1.03, val_accuracy=0.462]"
          ]
        },
        {
          "name": "stdout",
          "output_type": "stream",
          "text": [
            "472/472 [==============================] - 4s 8ms/step - loss: 1.0409 - accuracy: 0.4479 - val_loss: 1.0305 - val_accuracy: 0.4620\n",
            "Epoch 16/400\n",
            "466/472 [============================>.] - ETA: 0s - loss: 1.0381 - accuracy: 0.4515"
          ]
        },
        {
          "name": "stderr",
          "output_type": "stream",
          "text": [
            "  4%|▍         | 16/400 [01:04<23:54,  3.74s/epoch, loss=1.04, accuracy=0.451, val_loss=1.03, val_accuracy=0.461]"
          ]
        },
        {
          "name": "stdout",
          "output_type": "stream",
          "text": [
            "472/472 [==============================] - 4s 8ms/step - loss: 1.0382 - accuracy: 0.4513 - val_loss: 1.0292 - val_accuracy: 0.4606\n",
            "Epoch 17/400\n",
            "465/472 [============================>.] - ETA: 0s - loss: 1.0370 - accuracy: 0.4502"
          ]
        },
        {
          "name": "stderr",
          "output_type": "stream",
          "text": [
            "  4%|▍         | 17/400 [01:08<23:46,  3.73s/epoch, loss=1.04, accuracy=0.45, val_loss=1.03, val_accuracy=0.461] "
          ]
        },
        {
          "name": "stdout",
          "output_type": "stream",
          "text": [
            "472/472 [==============================] - 4s 8ms/step - loss: 1.0373 - accuracy: 0.4503 - val_loss: 1.0279 - val_accuracy: 0.4611\n",
            "Epoch 18/400\n",
            "468/472 [============================>.] - ETA: 0s - loss: 1.0349 - accuracy: 0.4504"
          ]
        },
        {
          "name": "stderr",
          "output_type": "stream",
          "text": [
            "  4%|▍         | 18/400 [01:11<23:43,  3.73s/epoch, loss=1.04, accuracy=0.45, val_loss=1.03, val_accuracy=0.463]"
          ]
        },
        {
          "name": "stdout",
          "output_type": "stream",
          "text": [
            "472/472 [==============================] - 4s 8ms/step - loss: 1.0351 - accuracy: 0.4502 - val_loss: 1.0269 - val_accuracy: 0.4628\n",
            "Epoch 19/400\n",
            "472/472 [==============================] - ETA: 0s - loss: 1.0345 - accuracy: 0.4514"
          ]
        },
        {
          "name": "stderr",
          "output_type": "stream",
          "text": [
            "  5%|▍         | 19/400 [01:15<23:37,  3.72s/epoch, loss=1.03, accuracy=0.451, val_loss=1.03, val_accuracy=0.461]"
          ]
        },
        {
          "name": "stdout",
          "output_type": "stream",
          "text": [
            "472/472 [==============================] - 4s 8ms/step - loss: 1.0345 - accuracy: 0.4514 - val_loss: 1.0259 - val_accuracy: 0.4609\n",
            "Epoch 20/400\n",
            "471/472 [============================>.] - ETA: 0s - loss: 1.0339 - accuracy: 0.4518"
          ]
        },
        {
          "name": "stderr",
          "output_type": "stream",
          "text": [
            "  5%|▌         | 20/400 [01:19<23:34,  3.72s/epoch, loss=1.03, accuracy=0.452, val_loss=1.03, val_accuracy=0.461]"
          ]
        },
        {
          "name": "stdout",
          "output_type": "stream",
          "text": [
            "472/472 [==============================] - 4s 8ms/step - loss: 1.0339 - accuracy: 0.4519 - val_loss: 1.0250 - val_accuracy: 0.4608\n",
            "Epoch 21/400\n",
            "465/472 [============================>.] - ETA: 0s - loss: 1.0332 - accuracy: 0.4536"
          ]
        },
        {
          "name": "stderr",
          "output_type": "stream",
          "text": [
            "  5%|▌         | 21/400 [01:22<23:30,  3.72s/epoch, loss=1.03, accuracy=0.454, val_loss=1.02, val_accuracy=0.464]"
          ]
        },
        {
          "name": "stdout",
          "output_type": "stream",
          "text": [
            "472/472 [==============================] - 4s 8ms/step - loss: 1.0334 - accuracy: 0.4536 - val_loss: 1.0242 - val_accuracy: 0.4635\n",
            "Epoch 22/400\n",
            "467/472 [============================>.] - ETA: 0s - loss: 1.0332 - accuracy: 0.4546"
          ]
        },
        {
          "name": "stderr",
          "output_type": "stream",
          "text": [
            "  6%|▌         | 22/400 [01:26<23:24,  3.72s/epoch, loss=1.03, accuracy=0.455, val_loss=1.02, val_accuracy=0.464]"
          ]
        },
        {
          "name": "stdout",
          "output_type": "stream",
          "text": [
            "472/472 [==============================] - 4s 8ms/step - loss: 1.0331 - accuracy: 0.4546 - val_loss: 1.0236 - val_accuracy: 0.4640\n",
            "Epoch 23/400\n",
            "471/472 [============================>.] - ETA: 0s - loss: 1.0321 - accuracy: 0.4557"
          ]
        },
        {
          "name": "stderr",
          "output_type": "stream",
          "text": [
            "  6%|▌         | 23/400 [01:30<23:12,  3.69s/epoch, loss=1.03, accuracy=0.456, val_loss=1.02, val_accuracy=0.465]"
          ]
        },
        {
          "name": "stdout",
          "output_type": "stream",
          "text": [
            "472/472 [==============================] - 4s 8ms/step - loss: 1.0321 - accuracy: 0.4557 - val_loss: 1.0232 - val_accuracy: 0.4647\n",
            "Epoch 24/400\n",
            "471/472 [============================>.] - ETA: 0s - loss: 1.0301 - accuracy: 0.4558"
          ]
        },
        {
          "name": "stderr",
          "output_type": "stream",
          "text": [
            "  6%|▌         | 24/400 [01:33<23:04,  3.68s/epoch, loss=1.03, accuracy=0.456, val_loss=1.02, val_accuracy=0.462]"
          ]
        },
        {
          "name": "stdout",
          "output_type": "stream",
          "text": [
            "472/472 [==============================] - 4s 8ms/step - loss: 1.0302 - accuracy: 0.4556 - val_loss: 1.0227 - val_accuracy: 0.4621\n",
            "Epoch 25/400\n",
            "465/472 [============================>.] - ETA: 0s - loss: 1.0302 - accuracy: 0.4583"
          ]
        },
        {
          "name": "stderr",
          "output_type": "stream",
          "text": [
            "  6%|▋         | 25/400 [01:37<23:06,  3.70s/epoch, loss=1.03, accuracy=0.459, val_loss=1.02, val_accuracy=0.465]"
          ]
        },
        {
          "name": "stdout",
          "output_type": "stream",
          "text": [
            "472/472 [==============================] - 4s 8ms/step - loss: 1.0299 - accuracy: 0.4587 - val_loss: 1.0219 - val_accuracy: 0.4651\n",
            "Epoch 26/400\n",
            "471/472 [============================>.] - ETA: 0s - loss: 1.0298 - accuracy: 0.4562"
          ]
        },
        {
          "name": "stderr",
          "output_type": "stream",
          "text": [
            "  6%|▋         | 26/400 [01:44<28:17,  4.54s/epoch, loss=1.03, accuracy=0.456, val_loss=1.02, val_accuracy=0.466]"
          ]
        },
        {
          "name": "stdout",
          "output_type": "stream",
          "text": [
            "472/472 [==============================] - 7s 14ms/step - loss: 1.0298 - accuracy: 0.4562 - val_loss: 1.0214 - val_accuracy: 0.4664\n",
            "Epoch 27/400\n",
            "472/472 [==============================] - ETA: 0s - loss: 1.0296 - accuracy: 0.4565"
          ]
        },
        {
          "name": "stderr",
          "output_type": "stream",
          "text": [
            "  7%|▋         | 27/400 [01:52<34:35,  5.57s/epoch, loss=1.03, accuracy=0.456, val_loss=1.02, val_accuracy=0.466]"
          ]
        },
        {
          "name": "stdout",
          "output_type": "stream",
          "text": [
            "472/472 [==============================] - 8s 17ms/step - loss: 1.0296 - accuracy: 0.4565 - val_loss: 1.0211 - val_accuracy: 0.4664\n",
            "Epoch 28/400\n",
            "465/472 [============================>.] - ETA: 0s - loss: 1.0296 - accuracy: 0.4586"
          ]
        },
        {
          "name": "stderr",
          "output_type": "stream",
          "text": [
            "  7%|▋         | 28/400 [01:56<31:35,  5.10s/epoch, loss=1.03, accuracy=0.459, val_loss=1.02, val_accuracy=0.466]"
          ]
        },
        {
          "name": "stdout",
          "output_type": "stream",
          "text": [
            "472/472 [==============================] - 4s 8ms/step - loss: 1.0293 - accuracy: 0.4587 - val_loss: 1.0209 - val_accuracy: 0.4655\n",
            "Epoch 29/400\n",
            "468/472 [============================>.] - ETA: 0s - loss: 1.0284 - accuracy: 0.4583"
          ]
        },
        {
          "name": "stderr",
          "output_type": "stream",
          "text": [
            "  7%|▋         | 29/400 [02:00<29:10,  4.72s/epoch, loss=1.03, accuracy=0.458, val_loss=1.02, val_accuracy=0.466]"
          ]
        },
        {
          "name": "stdout",
          "output_type": "stream",
          "text": [
            "472/472 [==============================] - 4s 8ms/step - loss: 1.0284 - accuracy: 0.4584 - val_loss: 1.0204 - val_accuracy: 0.4660\n",
            "Epoch 30/400\n",
            "469/472 [============================>.] - ETA: 0s - loss: 1.0284 - accuracy: 0.4611"
          ]
        },
        {
          "name": "stderr",
          "output_type": "stream",
          "text": [
            "  8%|▊         | 30/400 [02:03<27:33,  4.47s/epoch, loss=1.03, accuracy=0.461, val_loss=1.02, val_accuracy=0.466]"
          ]
        },
        {
          "name": "stdout",
          "output_type": "stream",
          "text": [
            "472/472 [==============================] - 4s 8ms/step - loss: 1.0284 - accuracy: 0.4611 - val_loss: 1.0200 - val_accuracy: 0.4662\n",
            "Epoch 31/400\n",
            "468/472 [============================>.] - ETA: 0s - loss: 1.0275 - accuracy: 0.4600"
          ]
        },
        {
          "name": "stderr",
          "output_type": "stream",
          "text": [
            "  8%|▊         | 31/400 [02:07<26:06,  4.24s/epoch, loss=1.03, accuracy=0.46, val_loss=1.02, val_accuracy=0.464] "
          ]
        },
        {
          "name": "stdout",
          "output_type": "stream",
          "text": [
            "472/472 [==============================] - 4s 8ms/step - loss: 1.0273 - accuracy: 0.4600 - val_loss: 1.0197 - val_accuracy: 0.4637\n",
            "Epoch 32/400\n",
            "470/472 [============================>.] - ETA: 0s - loss: 1.0285 - accuracy: 0.4560"
          ]
        },
        {
          "name": "stderr",
          "output_type": "stream",
          "text": [
            "  8%|▊         | 32/400 [02:11<25:11,  4.11s/epoch, loss=1.03, accuracy=0.456, val_loss=1.02, val_accuracy=0.465]"
          ]
        },
        {
          "name": "stdout",
          "output_type": "stream",
          "text": [
            "472/472 [==============================] - 4s 8ms/step - loss: 1.0285 - accuracy: 0.4562 - val_loss: 1.0195 - val_accuracy: 0.4649\n",
            "Epoch 33/400\n",
            "471/472 [============================>.] - ETA: 0s - loss: 1.0274 - accuracy: 0.4613"
          ]
        },
        {
          "name": "stderr",
          "output_type": "stream",
          "text": [
            "  8%|▊         | 33/400 [02:15<24:50,  4.06s/epoch, loss=1.03, accuracy=0.461, val_loss=1.02, val_accuracy=0.465]"
          ]
        },
        {
          "name": "stdout",
          "output_type": "stream",
          "text": [
            "472/472 [==============================] - 4s 8ms/step - loss: 1.0274 - accuracy: 0.4614 - val_loss: 1.0195 - val_accuracy: 0.4650\n",
            "Epoch 34/400\n",
            "468/472 [============================>.] - ETA: 0s - loss: 1.0269 - accuracy: 0.4601"
          ]
        },
        {
          "name": "stderr",
          "output_type": "stream",
          "text": [
            "  8%|▊         | 34/400 [02:19<24:29,  4.01s/epoch, loss=1.03, accuracy=0.46, val_loss=1.02, val_accuracy=0.467] "
          ]
        },
        {
          "name": "stdout",
          "output_type": "stream",
          "text": [
            "472/472 [==============================] - 4s 8ms/step - loss: 1.0271 - accuracy: 0.4600 - val_loss: 1.0190 - val_accuracy: 0.4667\n",
            "Epoch 35/400\n",
            "470/472 [============================>.] - ETA: 0s - loss: 1.0267 - accuracy: 0.4584"
          ]
        },
        {
          "name": "stderr",
          "output_type": "stream",
          "text": [
            "  9%|▉         | 35/400 [02:23<23:55,  3.93s/epoch, loss=1.03, accuracy=0.458, val_loss=1.02, val_accuracy=0.468]"
          ]
        },
        {
          "name": "stdout",
          "output_type": "stream",
          "text": [
            "472/472 [==============================] - 4s 8ms/step - loss: 1.0268 - accuracy: 0.4581 - val_loss: 1.0187 - val_accuracy: 0.4675\n",
            "Epoch 36/400\n",
            "467/472 [============================>.] - ETA: 0s - loss: 1.0271 - accuracy: 0.4592"
          ]
        },
        {
          "name": "stderr",
          "output_type": "stream",
          "text": [
            "  9%|▉         | 36/400 [02:26<23:28,  3.87s/epoch, loss=1.03, accuracy=0.459, val_loss=1.02, val_accuracy=0.465]"
          ]
        },
        {
          "name": "stdout",
          "output_type": "stream",
          "text": [
            "472/472 [==============================] - 4s 8ms/step - loss: 1.0273 - accuracy: 0.4592 - val_loss: 1.0190 - val_accuracy: 0.4645\n",
            "Epoch 37/400\n",
            "466/472 [============================>.] - ETA: 0s - loss: 1.0256 - accuracy: 0.4591"
          ]
        },
        {
          "name": "stderr",
          "output_type": "stream",
          "text": [
            "  9%|▉         | 37/400 [02:30<23:06,  3.82s/epoch, loss=1.03, accuracy=0.459, val_loss=1.02, val_accuracy=0.467]"
          ]
        },
        {
          "name": "stdout",
          "output_type": "stream",
          "text": [
            "472/472 [==============================] - 4s 8ms/step - loss: 1.0255 - accuracy: 0.4593 - val_loss: 1.0185 - val_accuracy: 0.4666\n",
            "Epoch 38/400\n",
            "468/472 [============================>.] - ETA: 0s - loss: 1.0235 - accuracy: 0.4641"
          ]
        },
        {
          "name": "stderr",
          "output_type": "stream",
          "text": [
            " 10%|▉         | 38/400 [02:34<22:50,  3.79s/epoch, loss=1.02, accuracy=0.464, val_loss=1.02, val_accuracy=0.465]"
          ]
        },
        {
          "name": "stdout",
          "output_type": "stream",
          "text": [
            "472/472 [==============================] - 4s 8ms/step - loss: 1.0236 - accuracy: 0.4639 - val_loss: 1.0183 - val_accuracy: 0.4650\n",
            "Epoch 39/400\n",
            "467/472 [============================>.] - ETA: 0s - loss: 1.0235 - accuracy: 0.4632"
          ]
        },
        {
          "name": "stderr",
          "output_type": "stream",
          "text": [
            " 10%|▉         | 39/400 [02:37<22:49,  3.79s/epoch, loss=1.02, accuracy=0.463, val_loss=1.02, val_accuracy=0.465]"
          ]
        },
        {
          "name": "stdout",
          "output_type": "stream",
          "text": [
            "472/472 [==============================] - 4s 8ms/step - loss: 1.0234 - accuracy: 0.4632 - val_loss: 1.0183 - val_accuracy: 0.4653\n",
            "Epoch 40/400\n",
            "472/472 [==============================] - ETA: 0s - loss: 1.0240 - accuracy: 0.4608"
          ]
        },
        {
          "name": "stderr",
          "output_type": "stream",
          "text": [
            " 10%|█         | 40/400 [02:41<22:50,  3.81s/epoch, loss=1.02, accuracy=0.461, val_loss=1.02, val_accuracy=0.466]"
          ]
        },
        {
          "name": "stdout",
          "output_type": "stream",
          "text": [
            "472/472 [==============================] - 4s 8ms/step - loss: 1.0240 - accuracy: 0.4608 - val_loss: 1.0178 - val_accuracy: 0.4659\n",
            "Epoch 41/400\n",
            "466/472 [============================>.] - ETA: 0s - loss: 1.0228 - accuracy: 0.4630"
          ]
        },
        {
          "name": "stderr",
          "output_type": "stream",
          "text": [
            " 10%|█         | 41/400 [02:45<22:43,  3.80s/epoch, loss=1.02, accuracy=0.463, val_loss=1.02, val_accuracy=0.466]"
          ]
        },
        {
          "name": "stdout",
          "output_type": "stream",
          "text": [
            "472/472 [==============================] - 4s 8ms/step - loss: 1.0226 - accuracy: 0.4634 - val_loss: 1.0179 - val_accuracy: 0.4656\n",
            "Epoch 42/400\n",
            "466/472 [============================>.] - ETA: 0s - loss: 1.0229 - accuracy: 0.4638"
          ]
        },
        {
          "name": "stderr",
          "output_type": "stream",
          "text": [
            " 10%|█         | 42/400 [02:49<22:31,  3.77s/epoch, loss=1.02, accuracy=0.463, val_loss=1.02, val_accuracy=0.467]"
          ]
        },
        {
          "name": "stdout",
          "output_type": "stream",
          "text": [
            "472/472 [==============================] - 4s 8ms/step - loss: 1.0232 - accuracy: 0.4633 - val_loss: 1.0173 - val_accuracy: 0.4666\n",
            "Epoch 43/400\n",
            "471/472 [============================>.] - ETA: 0s - loss: 1.0242 - accuracy: 0.4635"
          ]
        },
        {
          "name": "stderr",
          "output_type": "stream",
          "text": [
            " 11%|█         | 43/400 [02:53<22:21,  3.76s/epoch, loss=1.02, accuracy=0.464, val_loss=1.02, val_accuracy=0.466]"
          ]
        },
        {
          "name": "stdout",
          "output_type": "stream",
          "text": [
            "472/472 [==============================] - 4s 8ms/step - loss: 1.0241 - accuracy: 0.4635 - val_loss: 1.0174 - val_accuracy: 0.4658\n",
            "Epoch 44/400\n",
            "470/472 [============================>.] - ETA: 0s - loss: 1.0222 - accuracy: 0.4639"
          ]
        },
        {
          "name": "stderr",
          "output_type": "stream",
          "text": [
            " 11%|█         | 44/400 [02:56<22:16,  3.76s/epoch, loss=1.02, accuracy=0.464, val_loss=1.02, val_accuracy=0.465]"
          ]
        },
        {
          "name": "stdout",
          "output_type": "stream",
          "text": [
            "472/472 [==============================] - 4s 8ms/step - loss: 1.0223 - accuracy: 0.4638 - val_loss: 1.0173 - val_accuracy: 0.4648\n",
            "Epoch 45/400\n",
            "465/472 [============================>.] - ETA: 0s - loss: 1.0219 - accuracy: 0.4656"
          ]
        },
        {
          "name": "stderr",
          "output_type": "stream",
          "text": [
            " 11%|█▏        | 45/400 [03:00<22:09,  3.75s/epoch, loss=1.02, accuracy=0.465, val_loss=1.02, val_accuracy=0.464]"
          ]
        },
        {
          "name": "stdout",
          "output_type": "stream",
          "text": [
            "472/472 [==============================] - 4s 8ms/step - loss: 1.0220 - accuracy: 0.4654 - val_loss: 1.0172 - val_accuracy: 0.4636\n",
            "Epoch 46/400\n",
            "466/472 [============================>.] - ETA: 0s - loss: 1.0223 - accuracy: 0.4634"
          ]
        },
        {
          "name": "stderr",
          "output_type": "stream",
          "text": [
            " 12%|█▏        | 46/400 [03:04<22:03,  3.74s/epoch, loss=1.02, accuracy=0.464, val_loss=1.02, val_accuracy=0.466]"
          ]
        },
        {
          "name": "stdout",
          "output_type": "stream",
          "text": [
            "472/472 [==============================] - 4s 8ms/step - loss: 1.0221 - accuracy: 0.4635 - val_loss: 1.0167 - val_accuracy: 0.4659\n",
            "Epoch 47/400\n",
            "472/472 [==============================] - ETA: 0s - loss: 1.0215 - accuracy: 0.4617"
          ]
        },
        {
          "name": "stderr",
          "output_type": "stream",
          "text": [
            " 12%|█▏        | 47/400 [03:07<21:53,  3.72s/epoch, loss=1.02, accuracy=0.462, val_loss=1.02, val_accuracy=0.466]"
          ]
        },
        {
          "name": "stdout",
          "output_type": "stream",
          "text": [
            "472/472 [==============================] - 4s 8ms/step - loss: 1.0215 - accuracy: 0.4617 - val_loss: 1.0164 - val_accuracy: 0.4656\n",
            "Epoch 48/400\n",
            "471/472 [============================>.] - ETA: 0s - loss: 1.0214 - accuracy: 0.4643"
          ]
        },
        {
          "name": "stderr",
          "output_type": "stream",
          "text": [
            " 12%|█▏        | 48/400 [03:11<21:56,  3.74s/epoch, loss=1.02, accuracy=0.464, val_loss=1.02, val_accuracy=0.464]"
          ]
        },
        {
          "name": "stdout",
          "output_type": "stream",
          "text": [
            "472/472 [==============================] - 4s 8ms/step - loss: 1.0214 - accuracy: 0.4642 - val_loss: 1.0166 - val_accuracy: 0.4640\n",
            "Epoch 49/400\n",
            "470/472 [============================>.] - ETA: 0s - loss: 1.0215 - accuracy: 0.4651"
          ]
        },
        {
          "name": "stderr",
          "output_type": "stream",
          "text": [
            " 12%|█▏        | 49/400 [03:15<22:06,  3.78s/epoch, loss=1.02, accuracy=0.465, val_loss=1.02, val_accuracy=0.464]"
          ]
        },
        {
          "name": "stdout",
          "output_type": "stream",
          "text": [
            "472/472 [==============================] - 4s 8ms/step - loss: 1.0214 - accuracy: 0.4652 - val_loss: 1.0167 - val_accuracy: 0.4640\n",
            "Epoch 50/400\n",
            "472/472 [==============================] - ETA: 0s - loss: 1.0211 - accuracy: 0.4643"
          ]
        },
        {
          "name": "stderr",
          "output_type": "stream",
          "text": [
            " 12%|█▎        | 50/400 [03:20<23:54,  4.10s/epoch, loss=1.02, accuracy=0.464, val_loss=1.02, val_accuracy=0.464]"
          ]
        },
        {
          "name": "stdout",
          "output_type": "stream",
          "text": [
            "472/472 [==============================] - 5s 10ms/step - loss: 1.0211 - accuracy: 0.4643 - val_loss: 1.0162 - val_accuracy: 0.4644\n",
            "Epoch 51/400\n",
            "471/472 [============================>.] - ETA: 0s - loss: 1.0198 - accuracy: 0.4637"
          ]
        },
        {
          "name": "stderr",
          "output_type": "stream",
          "text": [
            " 13%|█▎        | 51/400 [03:28<30:23,  5.22s/epoch, loss=1.02, accuracy=0.464, val_loss=1.02, val_accuracy=0.465]"
          ]
        },
        {
          "name": "stdout",
          "output_type": "stream",
          "text": [
            "472/472 [==============================] - 8s 17ms/step - loss: 1.0198 - accuracy: 0.4636 - val_loss: 1.0160 - val_accuracy: 0.4652\n",
            "Epoch 52/400\n",
            "465/472 [============================>.] - ETA: 0s - loss: 1.0216 - accuracy: 0.4626"
          ]
        },
        {
          "name": "stderr",
          "output_type": "stream",
          "text": [
            " 13%|█▎        | 52/400 [03:33<31:02,  5.35s/epoch, loss=1.02, accuracy=0.463, val_loss=1.02, val_accuracy=0.463]"
          ]
        },
        {
          "name": "stdout",
          "output_type": "stream",
          "text": [
            "472/472 [==============================] - 6s 12ms/step - loss: 1.0213 - accuracy: 0.4627 - val_loss: 1.0164 - val_accuracy: 0.4629\n",
            "Epoch 53/400\n",
            "472/472 [==============================] - ETA: 0s - loss: 1.0206 - accuracy: 0.4636"
          ]
        },
        {
          "name": "stderr",
          "output_type": "stream",
          "text": [
            " 13%|█▎        | 53/400 [03:37<28:08,  4.87s/epoch, loss=1.02, accuracy=0.464, val_loss=1.02, val_accuracy=0.463]"
          ]
        },
        {
          "name": "stdout",
          "output_type": "stream",
          "text": [
            "472/472 [==============================] - 4s 8ms/step - loss: 1.0206 - accuracy: 0.4636 - val_loss: 1.0161 - val_accuracy: 0.4633\n",
            "Epoch 54/400\n",
            "465/472 [============================>.] - ETA: 0s - loss: 1.0186 - accuracy: 0.4659"
          ]
        },
        {
          "name": "stderr",
          "output_type": "stream",
          "text": [
            " 14%|█▎        | 54/400 [03:41<26:25,  4.58s/epoch, loss=1.02, accuracy=0.466, val_loss=1.02, val_accuracy=0.461]"
          ]
        },
        {
          "name": "stdout",
          "output_type": "stream",
          "text": [
            "472/472 [==============================] - 4s 8ms/step - loss: 1.0186 - accuracy: 0.4664 - val_loss: 1.0162 - val_accuracy: 0.4614\n",
            "Epoch 55/400\n",
            "472/472 [==============================] - ETA: 0s - loss: 1.0190 - accuracy: 0.4647"
          ]
        },
        {
          "name": "stderr",
          "output_type": "stream",
          "text": [
            " 14%|█▍        | 55/400 [03:45<24:52,  4.33s/epoch, loss=1.02, accuracy=0.465, val_loss=1.02, val_accuracy=0.463]"
          ]
        },
        {
          "name": "stdout",
          "output_type": "stream",
          "text": [
            "472/472 [==============================] - 4s 8ms/step - loss: 1.0190 - accuracy: 0.4647 - val_loss: 1.0160 - val_accuracy: 0.4633\n",
            "Epoch 56/400\n",
            "471/472 [============================>.] - ETA: 0s - loss: 1.0190 - accuracy: 0.4669"
          ]
        },
        {
          "name": "stderr",
          "output_type": "stream",
          "text": [
            " 14%|█▍        | 56/400 [03:48<23:43,  4.14s/epoch, loss=1.02, accuracy=0.467, val_loss=1.02, val_accuracy=0.463]"
          ]
        },
        {
          "name": "stdout",
          "output_type": "stream",
          "text": [
            "472/472 [==============================] - 4s 8ms/step - loss: 1.0190 - accuracy: 0.4669 - val_loss: 1.0157 - val_accuracy: 0.4630\n",
            "Epoch 57/400\n",
            "466/472 [============================>.] - ETA: 0s - loss: 1.0197 - accuracy: 0.4645"
          ]
        },
        {
          "name": "stderr",
          "output_type": "stream",
          "text": [
            " 14%|█▍        | 57/400 [03:52<22:54,  4.01s/epoch, loss=1.02, accuracy=0.464, val_loss=1.02, val_accuracy=0.464]"
          ]
        },
        {
          "name": "stdout",
          "output_type": "stream",
          "text": [
            "472/472 [==============================] - 4s 8ms/step - loss: 1.0196 - accuracy: 0.4644 - val_loss: 1.0154 - val_accuracy: 0.4641\n",
            "Epoch 58/400\n",
            "471/472 [============================>.] - ETA: 0s - loss: 1.0198 - accuracy: 0.4659"
          ]
        },
        {
          "name": "stderr",
          "output_type": "stream",
          "text": [
            " 14%|█▍        | 58/400 [03:56<22:23,  3.93s/epoch, loss=1.02, accuracy=0.466, val_loss=1.02, val_accuracy=0.462]"
          ]
        },
        {
          "name": "stdout",
          "output_type": "stream",
          "text": [
            "472/472 [==============================] - 4s 8ms/step - loss: 1.0197 - accuracy: 0.4659 - val_loss: 1.0156 - val_accuracy: 0.4624\n",
            "Epoch 59/400\n",
            "469/472 [============================>.] - ETA: 0s - loss: 1.0195 - accuracy: 0.4670"
          ]
        },
        {
          "name": "stderr",
          "output_type": "stream",
          "text": [
            " 15%|█▍        | 59/400 [04:00<22:00,  3.87s/epoch, loss=1.02, accuracy=0.467, val_loss=1.02, val_accuracy=0.462]"
          ]
        },
        {
          "name": "stdout",
          "output_type": "stream",
          "text": [
            "472/472 [==============================] - 4s 8ms/step - loss: 1.0194 - accuracy: 0.4670 - val_loss: 1.0158 - val_accuracy: 0.4620\n",
            "Epoch 60/400\n",
            "466/472 [============================>.] - ETA: 0s - loss: 1.0186 - accuracy: 0.4685"
          ]
        },
        {
          "name": "stderr",
          "output_type": "stream",
          "text": [
            " 15%|█▌        | 60/400 [04:03<21:40,  3.82s/epoch, loss=1.02, accuracy=0.469, val_loss=1.02, val_accuracy=0.464]"
          ]
        },
        {
          "name": "stdout",
          "output_type": "stream",
          "text": [
            "472/472 [==============================] - 4s 8ms/step - loss: 1.0185 - accuracy: 0.4686 - val_loss: 1.0153 - val_accuracy: 0.4637\n",
            "Epoch 61/400\n",
            "467/472 [============================>.] - ETA: 0s - loss: 1.0175 - accuracy: 0.4661"
          ]
        },
        {
          "name": "stderr",
          "output_type": "stream",
          "text": [
            " 15%|█▌        | 61/400 [04:07<21:28,  3.80s/epoch, loss=1.02, accuracy=0.466, val_loss=1.02, val_accuracy=0.465]"
          ]
        },
        {
          "name": "stdout",
          "output_type": "stream",
          "text": [
            "472/472 [==============================] - 4s 8ms/step - loss: 1.0177 - accuracy: 0.4658 - val_loss: 1.0153 - val_accuracy: 0.4648\n",
            "Epoch 62/400\n",
            "467/472 [============================>.] - ETA: 0s - loss: 1.0182 - accuracy: 0.4667"
          ]
        },
        {
          "name": "stderr",
          "output_type": "stream",
          "text": [
            " 16%|█▌        | 62/400 [04:11<21:14,  3.77s/epoch, loss=1.02, accuracy=0.467, val_loss=1.02, val_accuracy=0.464]"
          ]
        },
        {
          "name": "stdout",
          "output_type": "stream",
          "text": [
            "472/472 [==============================] - 4s 8ms/step - loss: 1.0185 - accuracy: 0.4665 - val_loss: 1.0151 - val_accuracy: 0.4637\n",
            "Epoch 63/400\n",
            "469/472 [============================>.] - ETA: 0s - loss: 1.0180 - accuracy: 0.4688"
          ]
        },
        {
          "name": "stderr",
          "output_type": "stream",
          "text": [
            " 16%|█▌        | 63/400 [04:15<21:07,  3.76s/epoch, loss=1.02, accuracy=0.469, val_loss=1.02, val_accuracy=0.464]"
          ]
        },
        {
          "name": "stdout",
          "output_type": "stream",
          "text": [
            "472/472 [==============================] - 4s 8ms/step - loss: 1.0178 - accuracy: 0.4690 - val_loss: 1.0154 - val_accuracy: 0.4635\n",
            "Epoch 64/400\n",
            "466/472 [============================>.] - ETA: 0s - loss: 1.0174 - accuracy: 0.4692"
          ]
        },
        {
          "name": "stderr",
          "output_type": "stream",
          "text": [
            " 16%|█▌        | 64/400 [04:18<21:02,  3.76s/epoch, loss=1.02, accuracy=0.469, val_loss=1.02, val_accuracy=0.461]"
          ]
        },
        {
          "name": "stdout",
          "output_type": "stream",
          "text": [
            "472/472 [==============================] - 4s 8ms/step - loss: 1.0177 - accuracy: 0.4689 - val_loss: 1.0156 - val_accuracy: 0.4614\n",
            "Epoch 65/400\n",
            "467/472 [============================>.] - ETA: 0s - loss: 1.0189 - accuracy: 0.4682"
          ]
        },
        {
          "name": "stderr",
          "output_type": "stream",
          "text": [
            " 16%|█▋        | 65/400 [04:22<21:19,  3.82s/epoch, loss=1.02, accuracy=0.468, val_loss=1.02, val_accuracy=0.461]"
          ]
        },
        {
          "name": "stdout",
          "output_type": "stream",
          "text": [
            "472/472 [==============================] - 4s 8ms/step - loss: 1.0186 - accuracy: 0.4682 - val_loss: 1.0151 - val_accuracy: 0.4612\n",
            "Epoch 66/400\n",
            "468/472 [============================>.] - ETA: 0s - loss: 1.0185 - accuracy: 0.4661"
          ]
        },
        {
          "name": "stderr",
          "output_type": "stream",
          "text": [
            " 16%|█▋        | 66/400 [04:26<21:11,  3.81s/epoch, loss=1.02, accuracy=0.466, val_loss=1.02, val_accuracy=0.461]"
          ]
        },
        {
          "name": "stdout",
          "output_type": "stream",
          "text": [
            "472/472 [==============================] - 4s 8ms/step - loss: 1.0182 - accuracy: 0.4664 - val_loss: 1.0151 - val_accuracy: 0.4610\n",
            "Epoch 67/400\n",
            "467/472 [============================>.] - ETA: 0s - loss: 1.0168 - accuracy: 0.4679"
          ]
        },
        {
          "name": "stderr",
          "output_type": "stream",
          "text": [
            " 17%|█▋        | 67/400 [04:30<20:58,  3.78s/epoch, loss=1.02, accuracy=0.468, val_loss=1.02, val_accuracy=0.462]"
          ]
        },
        {
          "name": "stdout",
          "output_type": "stream",
          "text": [
            "472/472 [==============================] - 4s 8ms/step - loss: 1.0168 - accuracy: 0.4677 - val_loss: 1.0150 - val_accuracy: 0.4623\n",
            "Epoch 68/400\n",
            "466/472 [============================>.] - ETA: 0s - loss: 1.0170 - accuracy: 0.4695"
          ]
        },
        {
          "name": "stderr",
          "output_type": "stream",
          "text": [
            " 17%|█▋        | 68/400 [04:33<20:49,  3.76s/epoch, loss=1.02, accuracy=0.47, val_loss=1.02, val_accuracy=0.461] "
          ]
        },
        {
          "name": "stdout",
          "output_type": "stream",
          "text": [
            "472/472 [==============================] - 4s 8ms/step - loss: 1.0167 - accuracy: 0.4697 - val_loss: 1.0150 - val_accuracy: 0.4613\n",
            "Epoch 69/400\n",
            "466/472 [============================>.] - ETA: 0s - loss: 1.0168 - accuracy: 0.4688"
          ]
        },
        {
          "name": "stderr",
          "output_type": "stream",
          "text": [
            " 17%|█▋        | 69/400 [04:37<20:42,  3.75s/epoch, loss=1.02, accuracy=0.469, val_loss=1.01, val_accuracy=0.465]"
          ]
        },
        {
          "name": "stdout",
          "output_type": "stream",
          "text": [
            "472/472 [==============================] - 4s 8ms/step - loss: 1.0167 - accuracy: 0.4691 - val_loss: 1.0150 - val_accuracy: 0.4649\n",
            "Epoch 70/400\n",
            "467/472 [============================>.] - ETA: 0s - loss: 1.0169 - accuracy: 0.4703"
          ]
        },
        {
          "name": "stderr",
          "output_type": "stream",
          "text": [
            " 18%|█▊        | 70/400 [04:41<20:34,  3.74s/epoch, loss=1.02, accuracy=0.47, val_loss=1.01, val_accuracy=0.464] "
          ]
        },
        {
          "name": "stdout",
          "output_type": "stream",
          "text": [
            "472/472 [==============================] - 4s 8ms/step - loss: 1.0170 - accuracy: 0.4704 - val_loss: 1.0149 - val_accuracy: 0.4640\n",
            "Epoch 71/400\n",
            "471/472 [============================>.] - ETA: 0s - loss: 1.0180 - accuracy: 0.4671"
          ]
        },
        {
          "name": "stderr",
          "output_type": "stream",
          "text": [
            " 18%|█▊        | 71/400 [04:45<20:27,  3.73s/epoch, loss=1.02, accuracy=0.467, val_loss=1.01, val_accuracy=0.464]"
          ]
        },
        {
          "name": "stdout",
          "output_type": "stream",
          "text": [
            "472/472 [==============================] - 4s 8ms/step - loss: 1.0179 - accuracy: 0.4672 - val_loss: 1.0149 - val_accuracy: 0.4644\n",
            "Epoch 72/400\n",
            "468/472 [============================>.] - ETA: 0s - loss: 1.0163 - accuracy: 0.4686"
          ]
        },
        {
          "name": "stderr",
          "output_type": "stream",
          "text": [
            " 18%|█▊        | 72/400 [04:48<20:19,  3.72s/epoch, loss=1.02, accuracy=0.469, val_loss=1.02, val_accuracy=0.462]"
          ]
        },
        {
          "name": "stdout",
          "output_type": "stream",
          "text": [
            "472/472 [==============================] - 4s 8ms/step - loss: 1.0163 - accuracy: 0.4685 - val_loss: 1.0150 - val_accuracy: 0.4623\n",
            "Epoch 73/400\n",
            "469/472 [============================>.] - ETA: 0s - loss: 1.0162 - accuracy: 0.4670"
          ]
        },
        {
          "name": "stderr",
          "output_type": "stream",
          "text": [
            " 18%|█▊        | 73/400 [04:52<20:17,  3.72s/epoch, loss=1.02, accuracy=0.467, val_loss=1.01, val_accuracy=0.463]"
          ]
        },
        {
          "name": "stdout",
          "output_type": "stream",
          "text": [
            "472/472 [==============================] - 4s 8ms/step - loss: 1.0162 - accuracy: 0.4672 - val_loss: 1.0145 - val_accuracy: 0.4631\n",
            "Epoch 74/400\n",
            "469/472 [============================>.] - ETA: 0s - loss: 1.0161 - accuracy: 0.4680"
          ]
        },
        {
          "name": "stderr",
          "output_type": "stream",
          "text": [
            " 18%|█▊        | 74/400 [04:56<20:12,  3.72s/epoch, loss=1.02, accuracy=0.468, val_loss=1.01, val_accuracy=0.462]"
          ]
        },
        {
          "name": "stdout",
          "output_type": "stream",
          "text": [
            "472/472 [==============================] - 4s 8ms/step - loss: 1.0162 - accuracy: 0.4679 - val_loss: 1.0147 - val_accuracy: 0.4617\n",
            "Epoch 75/400\n",
            "471/472 [============================>.] - ETA: 0s - loss: 1.0158 - accuracy: 0.4693"
          ]
        },
        {
          "name": "stderr",
          "output_type": "stream",
          "text": [
            " 19%|█▉        | 75/400 [04:59<20:06,  3.71s/epoch, loss=1.02, accuracy=0.469, val_loss=1.01, val_accuracy=0.462]"
          ]
        },
        {
          "name": "stdout",
          "output_type": "stream",
          "text": [
            "472/472 [==============================] - 4s 8ms/step - loss: 1.0158 - accuracy: 0.4694 - val_loss: 1.0146 - val_accuracy: 0.4619\n",
            "Epoch 76/400\n",
            "469/472 [============================>.] - ETA: 0s - loss: 1.0165 - accuracy: 0.4680"
          ]
        },
        {
          "name": "stderr",
          "output_type": "stream",
          "text": [
            " 19%|█▉        | 76/400 [05:03<20:04,  3.72s/epoch, loss=1.02, accuracy=0.468, val_loss=1.01, val_accuracy=0.462]"
          ]
        },
        {
          "name": "stdout",
          "output_type": "stream",
          "text": [
            "472/472 [==============================] - 4s 8ms/step - loss: 1.0164 - accuracy: 0.4683 - val_loss: 1.0147 - val_accuracy: 0.4620\n",
            "Epoch 77/400\n",
            "465/472 [============================>.] - ETA: 0s - loss: 1.0147 - accuracy: 0.4705"
          ]
        },
        {
          "name": "stderr",
          "output_type": "stream",
          "text": [
            " 19%|█▉        | 77/400 [05:07<20:01,  3.72s/epoch, loss=1.01, accuracy=0.471, val_loss=1.02, val_accuracy=0.46] "
          ]
        },
        {
          "name": "stdout",
          "output_type": "stream",
          "text": [
            "472/472 [==============================] - 4s 8ms/step - loss: 1.0143 - accuracy: 0.4711 - val_loss: 1.0151 - val_accuracy: 0.4600\n",
            "Epoch 78/400\n",
            "470/472 [============================>.] - ETA: 0s - loss: 1.0155 - accuracy: 0.4690"
          ]
        },
        {
          "name": "stderr",
          "output_type": "stream",
          "text": [
            " 20%|█▉        | 78/400 [05:11<20:05,  3.74s/epoch, loss=1.02, accuracy=0.469, val_loss=1.01, val_accuracy=0.461]"
          ]
        },
        {
          "name": "stdout",
          "output_type": "stream",
          "text": [
            "472/472 [==============================] - 4s 8ms/step - loss: 1.0154 - accuracy: 0.4692 - val_loss: 1.0144 - val_accuracy: 0.4608\n",
            "Epoch 79/400\n",
            "469/472 [============================>.] - ETA: 0s - loss: 1.0166 - accuracy: 0.4690"
          ]
        },
        {
          "name": "stderr",
          "output_type": "stream",
          "text": [
            " 20%|█▉        | 79/400 [05:14<20:02,  3.75s/epoch, loss=1.02, accuracy=0.469, val_loss=1.01, val_accuracy=0.461]"
          ]
        },
        {
          "name": "stdout",
          "output_type": "stream",
          "text": [
            "472/472 [==============================] - 4s 8ms/step - loss: 1.0163 - accuracy: 0.4695 - val_loss: 1.0144 - val_accuracy: 0.4613\n",
            "Epoch 80/400\n",
            "471/472 [============================>.] - ETA: 0s - loss: 1.0148 - accuracy: 0.4709"
          ]
        },
        {
          "name": "stderr",
          "output_type": "stream",
          "text": [
            " 20%|██        | 80/400 [05:18<19:56,  3.74s/epoch, loss=1.01, accuracy=0.471, val_loss=1.01, val_accuracy=0.462]"
          ]
        },
        {
          "name": "stdout",
          "output_type": "stream",
          "text": [
            "472/472 [==============================] - 4s 8ms/step - loss: 1.0149 - accuracy: 0.4708 - val_loss: 1.0143 - val_accuracy: 0.4620\n",
            "Epoch 81/400\n",
            "470/472 [============================>.] - ETA: 0s - loss: 1.0163 - accuracy: 0.4659"
          ]
        },
        {
          "name": "stderr",
          "output_type": "stream",
          "text": [
            " 20%|██        | 81/400 [05:22<20:13,  3.80s/epoch, loss=1.02, accuracy=0.466, val_loss=1.01, val_accuracy=0.459]"
          ]
        },
        {
          "name": "stdout",
          "output_type": "stream",
          "text": [
            "472/472 [==============================] - 4s 8ms/step - loss: 1.0164 - accuracy: 0.4660 - val_loss: 1.0147 - val_accuracy: 0.4590\n",
            "Epoch 82/400\n",
            "471/472 [============================>.] - ETA: 0s - loss: 1.0155 - accuracy: 0.4717"
          ]
        },
        {
          "name": "stderr",
          "output_type": "stream",
          "text": [
            " 20%|██        | 82/400 [05:26<20:18,  3.83s/epoch, loss=1.02, accuracy=0.472, val_loss=1.01, val_accuracy=0.462]"
          ]
        },
        {
          "name": "stdout",
          "output_type": "stream",
          "text": [
            "472/472 [==============================] - 4s 8ms/step - loss: 1.0155 - accuracy: 0.4717 - val_loss: 1.0144 - val_accuracy: 0.4618\n",
            "Epoch 83/400\n",
            "472/472 [==============================] - ETA: 0s - loss: 1.0160 - accuracy: 0.4700"
          ]
        },
        {
          "name": "stderr",
          "output_type": "stream",
          "text": [
            " 21%|██        | 83/400 [05:32<23:59,  4.54s/epoch, loss=1.02, accuracy=0.47, val_loss=1.01, val_accuracy=0.462] "
          ]
        },
        {
          "name": "stdout",
          "output_type": "stream",
          "text": [
            "472/472 [==============================] - 6s 13ms/step - loss: 1.0160 - accuracy: 0.4700 - val_loss: 1.0145 - val_accuracy: 0.4616\n",
            "Epoch 84/400\n",
            "472/472 [==============================] - ETA: 0s - loss: 1.0155 - accuracy: 0.4691"
          ]
        },
        {
          "name": "stderr",
          "output_type": "stream",
          "text": [
            " 21%|██        | 84/400 [05:40<28:54,  5.49s/epoch, loss=1.02, accuracy=0.469, val_loss=1.01, val_accuracy=0.464]"
          ]
        },
        {
          "name": "stdout",
          "output_type": "stream",
          "text": [
            "472/472 [==============================] - 8s 16ms/step - loss: 1.0155 - accuracy: 0.4691 - val_loss: 1.0141 - val_accuracy: 0.4636\n",
            "Epoch 85/400\n",
            "465/472 [============================>.] - ETA: 0s - loss: 1.0165 - accuracy: 0.4687"
          ]
        },
        {
          "name": "stderr",
          "output_type": "stream",
          "text": [
            " 21%|██▏       | 85/400 [05:44<26:40,  5.08s/epoch, loss=1.02, accuracy=0.469, val_loss=1.01, val_accuracy=0.463]"
          ]
        },
        {
          "name": "stdout",
          "output_type": "stream",
          "text": [
            "472/472 [==============================] - 4s 9ms/step - loss: 1.0165 - accuracy: 0.4692 - val_loss: 1.0141 - val_accuracy: 0.4630\n",
            "Epoch 86/400\n",
            "466/472 [============================>.] - ETA: 0s - loss: 1.0162 - accuracy: 0.4672"
          ]
        },
        {
          "name": "stderr",
          "output_type": "stream",
          "text": [
            " 22%|██▏       | 86/400 [05:48<24:12,  4.63s/epoch, loss=1.02, accuracy=0.467, val_loss=1.01, val_accuracy=0.461]"
          ]
        },
        {
          "name": "stdout",
          "output_type": "stream",
          "text": [
            "472/472 [==============================] - 4s 8ms/step - loss: 1.0161 - accuracy: 0.4673 - val_loss: 1.0142 - val_accuracy: 0.4612\n",
            "Epoch 87/400\n",
            "469/472 [============================>.] - ETA: 0s - loss: 1.0142 - accuracy: 0.4707"
          ]
        },
        {
          "name": "stderr",
          "output_type": "stream",
          "text": [
            " 22%|██▏       | 87/400 [05:51<22:50,  4.38s/epoch, loss=1.01, accuracy=0.471, val_loss=1.01, val_accuracy=0.461]"
          ]
        },
        {
          "name": "stdout",
          "output_type": "stream",
          "text": [
            "472/472 [==============================] - 4s 8ms/step - loss: 1.0144 - accuracy: 0.4706 - val_loss: 1.0145 - val_accuracy: 0.4610\n",
            "Epoch 88/400\n",
            "469/472 [============================>.] - ETA: 0s - loss: 1.0148 - accuracy: 0.4695"
          ]
        },
        {
          "name": "stderr",
          "output_type": "stream",
          "text": [
            " 22%|██▏       | 88/400 [05:55<21:13,  4.08s/epoch, loss=1.01, accuracy=0.47, val_loss=1.01, val_accuracy=0.46]  "
          ]
        },
        {
          "name": "stdout",
          "output_type": "stream",
          "text": [
            "472/472 [==============================] - 3s 7ms/step - loss: 1.0148 - accuracy: 0.4696 - val_loss: 1.0141 - val_accuracy: 0.4599\n",
            "Epoch 89/400\n",
            "470/472 [============================>.] - ETA: 0s - loss: 1.0141 - accuracy: 0.4694"
          ]
        },
        {
          "name": "stderr",
          "output_type": "stream",
          "text": [
            " 22%|██▏       | 89/400 [05:58<20:04,  3.87s/epoch, loss=1.01, accuracy=0.47, val_loss=1.01, val_accuracy=0.459]"
          ]
        },
        {
          "name": "stdout",
          "output_type": "stream",
          "text": [
            "472/472 [==============================] - 3s 7ms/step - loss: 1.0140 - accuracy: 0.4697 - val_loss: 1.0143 - val_accuracy: 0.4589\n",
            "Epoch 90/400\n",
            "469/472 [============================>.] - ETA: 0s - loss: 1.0141 - accuracy: 0.4704"
          ]
        },
        {
          "name": "stderr",
          "output_type": "stream",
          "text": [
            " 22%|██▎       | 90/400 [06:02<19:18,  3.74s/epoch, loss=1.01, accuracy=0.47, val_loss=1.01, val_accuracy=0.463]"
          ]
        },
        {
          "name": "stdout",
          "output_type": "stream",
          "text": [
            "472/472 [==============================] - 3s 7ms/step - loss: 1.0144 - accuracy: 0.4701 - val_loss: 1.0141 - val_accuracy: 0.4631\n",
            "Epoch 91/400\n",
            "468/472 [============================>.] - ETA: 0s - loss: 1.0123 - accuracy: 0.4712"
          ]
        },
        {
          "name": "stderr",
          "output_type": "stream",
          "text": [
            " 23%|██▎       | 91/400 [06:05<18:42,  3.63s/epoch, loss=1.01, accuracy=0.471, val_loss=1.01, val_accuracy=0.464]"
          ]
        },
        {
          "name": "stdout",
          "output_type": "stream",
          "text": [
            "472/472 [==============================] - 3s 7ms/step - loss: 1.0122 - accuracy: 0.4715 - val_loss: 1.0138 - val_accuracy: 0.4635\n",
            "Epoch 92/400\n",
            "472/472 [==============================] - ETA: 0s - loss: 1.0131 - accuracy: 0.4722"
          ]
        },
        {
          "name": "stderr",
          "output_type": "stream",
          "text": [
            " 23%|██▎       | 92/400 [06:08<18:16,  3.56s/epoch, loss=1.01, accuracy=0.472, val_loss=1.01, val_accuracy=0.46] "
          ]
        },
        {
          "name": "stdout",
          "output_type": "stream",
          "text": [
            "472/472 [==============================] - 3s 7ms/step - loss: 1.0131 - accuracy: 0.4722 - val_loss: 1.0138 - val_accuracy: 0.4603\n",
            "Epoch 93/400\n",
            "472/472 [==============================] - ETA: 0s - loss: 1.0142 - accuracy: 0.4704"
          ]
        },
        {
          "name": "stderr",
          "output_type": "stream",
          "text": [
            " 23%|██▎       | 93/400 [06:12<18:02,  3.53s/epoch, loss=1.01, accuracy=0.47, val_loss=1.01, val_accuracy=0.462]"
          ]
        },
        {
          "name": "stdout",
          "output_type": "stream",
          "text": [
            "472/472 [==============================] - 3s 7ms/step - loss: 1.0142 - accuracy: 0.4704 - val_loss: 1.0138 - val_accuracy: 0.4615\n",
            "Epoch 94/400\n",
            "467/472 [============================>.] - ETA: 0s - loss: 1.0143 - accuracy: 0.4709"
          ]
        },
        {
          "name": "stderr",
          "output_type": "stream",
          "text": [
            " 24%|██▎       | 94/400 [06:15<17:46,  3.49s/epoch, loss=1.01, accuracy=0.471, val_loss=1.01, val_accuracy=0.461]"
          ]
        },
        {
          "name": "stdout",
          "output_type": "stream",
          "text": [
            "472/472 [==============================] - 3s 7ms/step - loss: 1.0142 - accuracy: 0.4709 - val_loss: 1.0138 - val_accuracy: 0.4611\n",
            "Epoch 95/400\n",
            "464/472 [============================>.] - ETA: 0s - loss: 1.0139 - accuracy: 0.4735"
          ]
        },
        {
          "name": "stderr",
          "output_type": "stream",
          "text": [
            " 24%|██▍       | 95/400 [06:19<17:34,  3.46s/epoch, loss=1.01, accuracy=0.473, val_loss=1.01, val_accuracy=0.463]"
          ]
        },
        {
          "name": "stdout",
          "output_type": "stream",
          "text": [
            "472/472 [==============================] - 3s 7ms/step - loss: 1.0138 - accuracy: 0.4732 - val_loss: 1.0138 - val_accuracy: 0.4629\n",
            "Epoch 96/400\n",
            "469/472 [============================>.] - ETA: 0s - loss: 1.0135 - accuracy: 0.4712"
          ]
        },
        {
          "name": "stderr",
          "output_type": "stream",
          "text": [
            " 24%|██▍       | 96/400 [06:22<17:27,  3.44s/epoch, loss=1.01, accuracy=0.471, val_loss=1.01, val_accuracy=0.463]"
          ]
        },
        {
          "name": "stdout",
          "output_type": "stream",
          "text": [
            "472/472 [==============================] - 3s 7ms/step - loss: 1.0136 - accuracy: 0.4711 - val_loss: 1.0138 - val_accuracy: 0.4633\n",
            "Epoch 97/400\n",
            "468/472 [============================>.] - ETA: 0s - loss: 1.0123 - accuracy: 0.4728"
          ]
        },
        {
          "name": "stderr",
          "output_type": "stream",
          "text": [
            " 24%|██▍       | 97/400 [06:25<17:20,  3.43s/epoch, loss=1.01, accuracy=0.473, val_loss=1.01, val_accuracy=0.463]"
          ]
        },
        {
          "name": "stdout",
          "output_type": "stream",
          "text": [
            "472/472 [==============================] - 3s 7ms/step - loss: 1.0125 - accuracy: 0.4728 - val_loss: 1.0141 - val_accuracy: 0.4632\n",
            "Epoch 98/400\n",
            "469/472 [============================>.] - ETA: 0s - loss: 1.0128 - accuracy: 0.4732"
          ]
        },
        {
          "name": "stderr",
          "output_type": "stream",
          "text": [
            " 24%|██▍       | 98/400 [06:29<17:12,  3.42s/epoch, loss=1.01, accuracy=0.473, val_loss=1.01, val_accuracy=0.462]"
          ]
        },
        {
          "name": "stdout",
          "output_type": "stream",
          "text": [
            "472/472 [==============================] - 3s 7ms/step - loss: 1.0127 - accuracy: 0.4734 - val_loss: 1.0141 - val_accuracy: 0.4617\n",
            "Epoch 99/400\n",
            "471/472 [============================>.] - ETA: 0s - loss: 1.0124 - accuracy: 0.4723"
          ]
        },
        {
          "name": "stderr",
          "output_type": "stream",
          "text": [
            " 25%|██▍       | 99/400 [06:32<17:06,  3.41s/epoch, loss=1.01, accuracy=0.472, val_loss=1.01, val_accuracy=0.463]"
          ]
        },
        {
          "name": "stdout",
          "output_type": "stream",
          "text": [
            "472/472 [==============================] - 3s 7ms/step - loss: 1.0124 - accuracy: 0.4722 - val_loss: 1.0140 - val_accuracy: 0.4626\n",
            "Epoch 100/400\n",
            "471/472 [============================>.] - ETA: 0s - loss: 1.0141 - accuracy: 0.4720"
          ]
        },
        {
          "name": "stderr",
          "output_type": "stream",
          "text": [
            " 25%|██▌       | 100/400 [06:36<17:01,  3.40s/epoch, loss=1.01, accuracy=0.472, val_loss=1.01, val_accuracy=0.464]"
          ]
        },
        {
          "name": "stdout",
          "output_type": "stream",
          "text": [
            "472/472 [==============================] - 3s 7ms/step - loss: 1.0142 - accuracy: 0.4719 - val_loss: 1.0141 - val_accuracy: 0.4635\n",
            "Epoch 101/400\n",
            "469/472 [============================>.] - ETA: 0s - loss: 1.0134 - accuracy: 0.4702"
          ]
        },
        {
          "name": "stderr",
          "output_type": "stream",
          "text": [
            " 25%|██▌       | 101/400 [06:39<17:00,  3.41s/epoch, loss=1.01, accuracy=0.471, val_loss=1.01, val_accuracy=0.462]"
          ]
        },
        {
          "name": "stdout",
          "output_type": "stream",
          "text": [
            "472/472 [==============================] - 3s 7ms/step - loss: 1.0132 - accuracy: 0.4705 - val_loss: 1.0135 - val_accuracy: 0.4623\n",
            "Epoch 102/400\n",
            "470/472 [============================>.] - ETA: 0s - loss: 1.0121 - accuracy: 0.4721"
          ]
        },
        {
          "name": "stderr",
          "output_type": "stream",
          "text": [
            " 26%|██▌       | 102/400 [06:42<16:55,  3.41s/epoch, loss=1.01, accuracy=0.472, val_loss=1.01, val_accuracy=0.46] "
          ]
        },
        {
          "name": "stdout",
          "output_type": "stream",
          "text": [
            "472/472 [==============================] - 3s 7ms/step - loss: 1.0121 - accuracy: 0.4723 - val_loss: 1.0136 - val_accuracy: 0.4598\n",
            "Epoch 103/400\n",
            "467/472 [============================>.] - ETA: 0s - loss: 1.0127 - accuracy: 0.4732"
          ]
        },
        {
          "name": "stderr",
          "output_type": "stream",
          "text": [
            " 26%|██▌       | 103/400 [06:46<16:51,  3.41s/epoch, loss=1.01, accuracy=0.473, val_loss=1.01, val_accuracy=0.461]"
          ]
        },
        {
          "name": "stdout",
          "output_type": "stream",
          "text": [
            "472/472 [==============================] - 3s 7ms/step - loss: 1.0126 - accuracy: 0.4734 - val_loss: 1.0135 - val_accuracy: 0.4611\n",
            "Epoch 104/400\n",
            "469/472 [============================>.] - ETA: 0s - loss: 1.0126 - accuracy: 0.4737"
          ]
        },
        {
          "name": "stderr",
          "output_type": "stream",
          "text": [
            " 26%|██▌       | 104/400 [06:49<16:46,  3.40s/epoch, loss=1.01, accuracy=0.474, val_loss=1.01, val_accuracy=0.461]"
          ]
        },
        {
          "name": "stdout",
          "output_type": "stream",
          "text": [
            "472/472 [==============================] - 3s 7ms/step - loss: 1.0127 - accuracy: 0.4736 - val_loss: 1.0142 - val_accuracy: 0.4609\n",
            "Epoch 105/400\n",
            "465/472 [============================>.] - ETA: 0s - loss: 1.0125 - accuracy: 0.4701"
          ]
        },
        {
          "name": "stderr",
          "output_type": "stream",
          "text": [
            " 26%|██▋       | 105/400 [06:53<16:42,  3.40s/epoch, loss=1.01, accuracy=0.47, val_loss=1.01, val_accuracy=0.459] "
          ]
        },
        {
          "name": "stdout",
          "output_type": "stream",
          "text": [
            "472/472 [==============================] - 3s 7ms/step - loss: 1.0127 - accuracy: 0.4700 - val_loss: 1.0140 - val_accuracy: 0.4590\n",
            "Epoch 106/400\n",
            "467/472 [============================>.] - ETA: 0s - loss: 1.0117 - accuracy: 0.4731"
          ]
        },
        {
          "name": "stderr",
          "output_type": "stream",
          "text": [
            " 26%|██▋       | 106/400 [06:56<16:38,  3.40s/epoch, loss=1.01, accuracy=0.473, val_loss=1.01, val_accuracy=0.46]"
          ]
        },
        {
          "name": "stdout",
          "output_type": "stream",
          "text": [
            "472/472 [==============================] - 3s 7ms/step - loss: 1.0120 - accuracy: 0.4726 - val_loss: 1.0141 - val_accuracy: 0.4603\n",
            "Epoch 107/400\n",
            "467/472 [============================>.] - ETA: 0s - loss: 1.0131 - accuracy: 0.4703"
          ]
        },
        {
          "name": "stderr",
          "output_type": "stream",
          "text": [
            " 27%|██▋       | 107/400 [06:59<16:34,  3.39s/epoch, loss=1.01, accuracy=0.47, val_loss=1.01, val_accuracy=0.461]"
          ]
        },
        {
          "name": "stdout",
          "output_type": "stream",
          "text": [
            "472/472 [==============================] - 3s 7ms/step - loss: 1.0131 - accuracy: 0.4701 - val_loss: 1.0134 - val_accuracy: 0.4608\n",
            "Epoch 108/400\n",
            "465/472 [============================>.] - ETA: 0s - loss: 1.0127 - accuracy: 0.4747"
          ]
        },
        {
          "name": "stderr",
          "output_type": "stream",
          "text": [
            " 27%|██▋       | 108/400 [07:03<16:32,  3.40s/epoch, loss=1.01, accuracy=0.475, val_loss=1.01, val_accuracy=0.464]"
          ]
        },
        {
          "name": "stdout",
          "output_type": "stream",
          "text": [
            "472/472 [==============================] - 3s 7ms/step - loss: 1.0124 - accuracy: 0.4754 - val_loss: 1.0135 - val_accuracy: 0.4641\n",
            "Epoch 109/400\n",
            "467/472 [============================>.] - ETA: 0s - loss: 1.0117 - accuracy: 0.4738"
          ]
        },
        {
          "name": "stderr",
          "output_type": "stream",
          "text": [
            " 27%|██▋       | 109/400 [07:06<16:29,  3.40s/epoch, loss=1.01, accuracy=0.474, val_loss=1.01, val_accuracy=0.462]"
          ]
        },
        {
          "name": "stdout",
          "output_type": "stream",
          "text": [
            "472/472 [==============================] - 3s 7ms/step - loss: 1.0120 - accuracy: 0.4736 - val_loss: 1.0139 - val_accuracy: 0.4619\n",
            "Epoch 110/400\n",
            "470/472 [============================>.] - ETA: 0s - loss: 1.0133 - accuracy: 0.4713"
          ]
        },
        {
          "name": "stderr",
          "output_type": "stream",
          "text": [
            " 28%|██▊       | 110/400 [07:10<16:30,  3.41s/epoch, loss=1.01, accuracy=0.471, val_loss=1.01, val_accuracy=0.459]"
          ]
        },
        {
          "name": "stdout",
          "output_type": "stream",
          "text": [
            "472/472 [==============================] - 3s 7ms/step - loss: 1.0133 - accuracy: 0.4713 - val_loss: 1.0139 - val_accuracy: 0.4594\n",
            "Epoch 111/400\n",
            "472/472 [==============================] - ETA: 0s - loss: 1.0112 - accuracy: 0.4726"
          ]
        },
        {
          "name": "stderr",
          "output_type": "stream",
          "text": [
            " 28%|██▊       | 111/400 [07:13<16:25,  3.41s/epoch, loss=1.01, accuracy=0.473, val_loss=1.01, val_accuracy=0.459]"
          ]
        },
        {
          "name": "stdout",
          "output_type": "stream",
          "text": [
            "472/472 [==============================] - 3s 7ms/step - loss: 1.0112 - accuracy: 0.4726 - val_loss: 1.0137 - val_accuracy: 0.4593\n",
            "Epoch 112/400\n",
            "469/472 [============================>.] - ETA: 0s - loss: 1.0117 - accuracy: 0.4729"
          ]
        },
        {
          "name": "stderr",
          "output_type": "stream",
          "text": [
            " 28%|██▊       | 112/400 [07:16<16:22,  3.41s/epoch, loss=1.01, accuracy=0.473, val_loss=1.01, val_accuracy=0.461]"
          ]
        },
        {
          "name": "stdout",
          "output_type": "stream",
          "text": [
            "472/472 [==============================] - 3s 7ms/step - loss: 1.0117 - accuracy: 0.4729 - val_loss: 1.0137 - val_accuracy: 0.4607\n",
            "Epoch 113/400\n",
            "469/472 [============================>.] - ETA: 0s - loss: 1.0122 - accuracy: 0.4727"
          ]
        },
        {
          "name": "stderr",
          "output_type": "stream",
          "text": [
            " 28%|██▊       | 113/400 [07:20<16:17,  3.41s/epoch, loss=1.01, accuracy=0.473, val_loss=1.01, val_accuracy=0.461]"
          ]
        },
        {
          "name": "stdout",
          "output_type": "stream",
          "text": [
            "472/472 [==============================] - 3s 7ms/step - loss: 1.0119 - accuracy: 0.4729 - val_loss: 1.0139 - val_accuracy: 0.4612\n",
            "Epoch 114/400\n",
            "471/472 [============================>.] - ETA: 0s - loss: 1.0111 - accuracy: 0.4734"
          ]
        },
        {
          "name": "stderr",
          "output_type": "stream",
          "text": [
            " 28%|██▊       | 114/400 [07:23<16:14,  3.41s/epoch, loss=1.01, accuracy=0.473, val_loss=1.01, val_accuracy=0.46] "
          ]
        },
        {
          "name": "stdout",
          "output_type": "stream",
          "text": [
            "472/472 [==============================] - 3s 7ms/step - loss: 1.0111 - accuracy: 0.4733 - val_loss: 1.0134 - val_accuracy: 0.4601\n",
            "Epoch 115/400\n",
            "467/472 [============================>.] - ETA: 0s - loss: 1.0127 - accuracy: 0.4726"
          ]
        },
        {
          "name": "stderr",
          "output_type": "stream",
          "text": [
            " 29%|██▉       | 115/400 [07:27<16:10,  3.41s/epoch, loss=1.01, accuracy=0.473, val_loss=1.01, val_accuracy=0.463]"
          ]
        },
        {
          "name": "stdout",
          "output_type": "stream",
          "text": [
            "472/472 [==============================] - 3s 7ms/step - loss: 1.0125 - accuracy: 0.4726 - val_loss: 1.0134 - val_accuracy: 0.4633\n",
            "Epoch 116/400\n",
            "471/472 [============================>.] - ETA: 0s - loss: 1.0118 - accuracy: 0.4726"
          ]
        },
        {
          "name": "stderr",
          "output_type": "stream",
          "text": [
            " 29%|██▉       | 116/400 [07:30<16:03,  3.39s/epoch, loss=1.01, accuracy=0.473, val_loss=1.01, val_accuracy=0.46] "
          ]
        },
        {
          "name": "stdout",
          "output_type": "stream",
          "text": [
            "472/472 [==============================] - 3s 7ms/step - loss: 1.0118 - accuracy: 0.4727 - val_loss: 1.0135 - val_accuracy: 0.4596\n",
            "Epoch 117/400\n",
            "466/472 [============================>.] - ETA: 0s - loss: 1.0113 - accuracy: 0.4714"
          ]
        },
        {
          "name": "stderr",
          "output_type": "stream",
          "text": [
            " 29%|██▉       | 117/400 [07:33<16:01,  3.40s/epoch, loss=1.01, accuracy=0.471, val_loss=1.01, val_accuracy=0.459]"
          ]
        },
        {
          "name": "stdout",
          "output_type": "stream",
          "text": [
            "472/472 [==============================] - 3s 7ms/step - loss: 1.0112 - accuracy: 0.4713 - val_loss: 1.0135 - val_accuracy: 0.4590\n",
            "Epoch 118/400\n",
            "471/472 [============================>.] - ETA: 0s - loss: 1.0106 - accuracy: 0.4726"
          ]
        },
        {
          "name": "stderr",
          "output_type": "stream",
          "text": [
            " 30%|██▉       | 118/400 [07:37<16:01,  3.41s/epoch, loss=1.01, accuracy=0.473, val_loss=1.01, val_accuracy=0.46] "
          ]
        },
        {
          "name": "stdout",
          "output_type": "stream",
          "text": [
            "472/472 [==============================] - 3s 7ms/step - loss: 1.0106 - accuracy: 0.4726 - val_loss: 1.0132 - val_accuracy: 0.4604\n",
            "Epoch 119/400\n",
            "469/472 [============================>.] - ETA: 0s - loss: 1.0118 - accuracy: 0.4746"
          ]
        },
        {
          "name": "stderr",
          "output_type": "stream",
          "text": [
            " 30%|██▉       | 119/400 [07:40<15:57,  3.41s/epoch, loss=1.01, accuracy=0.475, val_loss=1.01, val_accuracy=0.461]"
          ]
        },
        {
          "name": "stdout",
          "output_type": "stream",
          "text": [
            "472/472 [==============================] - 3s 7ms/step - loss: 1.0117 - accuracy: 0.4748 - val_loss: 1.0134 - val_accuracy: 0.4610\n",
            "Epoch 120/400\n",
            "466/472 [============================>.] - ETA: 0s - loss: 1.0104 - accuracy: 0.4747"
          ]
        },
        {
          "name": "stderr",
          "output_type": "stream",
          "text": [
            " 30%|███       | 120/400 [07:44<15:54,  3.41s/epoch, loss=1.01, accuracy=0.474, val_loss=1.01, val_accuracy=0.462]"
          ]
        },
        {
          "name": "stdout",
          "output_type": "stream",
          "text": [
            "472/472 [==============================] - 3s 7ms/step - loss: 1.0106 - accuracy: 0.4740 - val_loss: 1.0134 - val_accuracy: 0.4615\n",
            "Epoch 121/400\n",
            "469/472 [============================>.] - ETA: 0s - loss: 1.0116 - accuracy: 0.4722"
          ]
        },
        {
          "name": "stderr",
          "output_type": "stream",
          "text": [
            " 30%|███       | 121/400 [07:47<15:51,  3.41s/epoch, loss=1.01, accuracy=0.472, val_loss=1.01, val_accuracy=0.463]"
          ]
        },
        {
          "name": "stdout",
          "output_type": "stream",
          "text": [
            "472/472 [==============================] - 3s 7ms/step - loss: 1.0116 - accuracy: 0.4723 - val_loss: 1.0134 - val_accuracy: 0.4626\n",
            "Epoch 122/400\n",
            "465/472 [============================>.] - ETA: 0s - loss: 1.0108 - accuracy: 0.4739"
          ]
        },
        {
          "name": "stderr",
          "output_type": "stream",
          "text": [
            " 30%|███       | 122/400 [07:51<15:49,  3.41s/epoch, loss=1.01, accuracy=0.474, val_loss=1.01, val_accuracy=0.461]"
          ]
        },
        {
          "name": "stdout",
          "output_type": "stream",
          "text": [
            "472/472 [==============================] - 3s 7ms/step - loss: 1.0106 - accuracy: 0.4745 - val_loss: 1.0132 - val_accuracy: 0.4610\n",
            "Epoch 123/400\n",
            "471/472 [============================>.] - ETA: 0s - loss: 1.0093 - accuracy: 0.4745"
          ]
        },
        {
          "name": "stderr",
          "output_type": "stream",
          "text": [
            " 31%|███       | 123/400 [07:54<15:47,  3.42s/epoch, loss=1.01, accuracy=0.475, val_loss=1.01, val_accuracy=0.462]"
          ]
        },
        {
          "name": "stdout",
          "output_type": "stream",
          "text": [
            "472/472 [==============================] - 3s 7ms/step - loss: 1.0092 - accuracy: 0.4745 - val_loss: 1.0133 - val_accuracy: 0.4615\n",
            "Epoch 124/400\n",
            "469/472 [============================>.] - ETA: 0s - loss: 1.0102 - accuracy: 0.4752"
          ]
        },
        {
          "name": "stderr",
          "output_type": "stream",
          "text": [
            " 31%|███       | 124/400 [07:57<15:44,  3.42s/epoch, loss=1.01, accuracy=0.475, val_loss=1.01, val_accuracy=0.46] "
          ]
        },
        {
          "name": "stdout",
          "output_type": "stream",
          "text": [
            "472/472 [==============================] - 3s 7ms/step - loss: 1.0102 - accuracy: 0.4753 - val_loss: 1.0131 - val_accuracy: 0.4603\n",
            "Epoch 125/400\n",
            "472/472 [==============================] - ETA: 0s - loss: 1.0098 - accuracy: 0.4777"
          ]
        },
        {
          "name": "stderr",
          "output_type": "stream",
          "text": [
            " 31%|███▏      | 125/400 [08:01<15:40,  3.42s/epoch, loss=1.01, accuracy=0.478, val_loss=1.01, val_accuracy=0.462]"
          ]
        },
        {
          "name": "stdout",
          "output_type": "stream",
          "text": [
            "472/472 [==============================] - 3s 7ms/step - loss: 1.0098 - accuracy: 0.4777 - val_loss: 1.0134 - val_accuracy: 0.4618\n",
            "Epoch 126/400\n",
            "465/472 [============================>.] - ETA: 0s - loss: 1.0104 - accuracy: 0.4756"
          ]
        },
        {
          "name": "stderr",
          "output_type": "stream",
          "text": [
            " 32%|███▏      | 126/400 [08:04<15:40,  3.43s/epoch, loss=1.01, accuracy=0.475, val_loss=1.01, val_accuracy=0.459]"
          ]
        },
        {
          "name": "stdout",
          "output_type": "stream",
          "text": [
            "472/472 [==============================] - 3s 7ms/step - loss: 1.0108 - accuracy: 0.4751 - val_loss: 1.0131 - val_accuracy: 0.4592\n",
            "Epoch 127/400\n",
            "468/472 [============================>.] - ETA: 0s - loss: 1.0091 - accuracy: 0.4751"
          ]
        },
        {
          "name": "stderr",
          "output_type": "stream",
          "text": [
            " 32%|███▏      | 127/400 [08:08<15:35,  3.43s/epoch, loss=1.01, accuracy=0.475, val_loss=1.01, val_accuracy=0.459]"
          ]
        },
        {
          "name": "stdout",
          "output_type": "stream",
          "text": [
            "472/472 [==============================] - 3s 7ms/step - loss: 1.0092 - accuracy: 0.4750 - val_loss: 1.0136 - val_accuracy: 0.4590\n",
            "Epoch 128/400\n",
            "467/472 [============================>.] - ETA: 0s - loss: 1.0086 - accuracy: 0.4760"
          ]
        },
        {
          "name": "stderr",
          "output_type": "stream",
          "text": [
            " 32%|███▏      | 128/400 [08:11<15:30,  3.42s/epoch, loss=1.01, accuracy=0.476, val_loss=1.01, val_accuracy=0.462]"
          ]
        },
        {
          "name": "stdout",
          "output_type": "stream",
          "text": [
            "472/472 [==============================] - 3s 7ms/step - loss: 1.0090 - accuracy: 0.4755 - val_loss: 1.0130 - val_accuracy: 0.4615\n",
            "Epoch 129/400\n",
            "467/472 [============================>.] - ETA: 0s - loss: 1.0105 - accuracy: 0.4747"
          ]
        },
        {
          "name": "stderr",
          "output_type": "stream",
          "text": [
            " 32%|███▏      | 129/400 [08:15<15:28,  3.43s/epoch, loss=1.01, accuracy=0.475, val_loss=1.01, val_accuracy=0.464]"
          ]
        },
        {
          "name": "stdout",
          "output_type": "stream",
          "text": [
            "472/472 [==============================] - 3s 7ms/step - loss: 1.0103 - accuracy: 0.4747 - val_loss: 1.0135 - val_accuracy: 0.4640\n",
            "Epoch 130/400\n",
            "465/472 [============================>.] - ETA: 0s - loss: 1.0108 - accuracy: 0.4753"
          ]
        },
        {
          "name": "stderr",
          "output_type": "stream",
          "text": [
            " 32%|███▎      | 130/400 [08:18<15:25,  3.43s/epoch, loss=1.01, accuracy=0.476, val_loss=1.01, val_accuracy=0.46] "
          ]
        },
        {
          "name": "stdout",
          "output_type": "stream",
          "text": [
            "472/472 [==============================] - 3s 7ms/step - loss: 1.0104 - accuracy: 0.4759 - val_loss: 1.0136 - val_accuracy: 0.4599\n",
            "Epoch 131/400\n",
            "467/472 [============================>.] - ETA: 0s - loss: 1.0095 - accuracy: 0.4749"
          ]
        },
        {
          "name": "stderr",
          "output_type": "stream",
          "text": [
            " 33%|███▎      | 131/400 [08:21<15:20,  3.42s/epoch, loss=1.01, accuracy=0.475, val_loss=1.01, val_accuracy=0.462]"
          ]
        },
        {
          "name": "stdout",
          "output_type": "stream",
          "text": [
            "472/472 [==============================] - 3s 7ms/step - loss: 1.0094 - accuracy: 0.4746 - val_loss: 1.0138 - val_accuracy: 0.4616\n",
            "Epoch 132/400\n",
            "472/472 [==============================] - ETA: 0s - loss: 1.0096 - accuracy: 0.4745"
          ]
        },
        {
          "name": "stderr",
          "output_type": "stream",
          "text": [
            " 33%|███▎      | 132/400 [08:25<15:16,  3.42s/epoch, loss=1.01, accuracy=0.475, val_loss=1.01, val_accuracy=0.464]"
          ]
        },
        {
          "name": "stdout",
          "output_type": "stream",
          "text": [
            "472/472 [==============================] - 3s 7ms/step - loss: 1.0096 - accuracy: 0.4745 - val_loss: 1.0139 - val_accuracy: 0.4637\n",
            "Epoch 133/400\n",
            "471/472 [============================>.] - ETA: 0s - loss: 1.0084 - accuracy: 0.4765"
          ]
        },
        {
          "name": "stderr",
          "output_type": "stream",
          "text": [
            " 33%|███▎      | 133/400 [08:28<15:15,  3.43s/epoch, loss=1.01, accuracy=0.477, val_loss=1.01, val_accuracy=0.46] "
          ]
        },
        {
          "name": "stdout",
          "output_type": "stream",
          "text": [
            "472/472 [==============================] - 3s 7ms/step - loss: 1.0084 - accuracy: 0.4765 - val_loss: 1.0131 - val_accuracy: 0.4602\n",
            "Epoch 134/400\n",
            "466/472 [============================>.] - ETA: 0s - loss: 1.0099 - accuracy: 0.4761"
          ]
        },
        {
          "name": "stderr",
          "output_type": "stream",
          "text": [
            " 34%|███▎      | 134/400 [08:32<15:09,  3.42s/epoch, loss=1.01, accuracy=0.476, val_loss=1.01, val_accuracy=0.462]"
          ]
        },
        {
          "name": "stdout",
          "output_type": "stream",
          "text": [
            "472/472 [==============================] - 3s 7ms/step - loss: 1.0100 - accuracy: 0.4756 - val_loss: 1.0130 - val_accuracy: 0.4623\n",
            "Epoch 135/400\n",
            "470/472 [============================>.] - ETA: 0s - loss: 1.0096 - accuracy: 0.4748"
          ]
        },
        {
          "name": "stderr",
          "output_type": "stream",
          "text": [
            " 34%|███▍      | 135/400 [08:35<15:05,  3.42s/epoch, loss=1.01, accuracy=0.475, val_loss=1.01, val_accuracy=0.461]"
          ]
        },
        {
          "name": "stdout",
          "output_type": "stream",
          "text": [
            "472/472 [==============================] - 3s 7ms/step - loss: 1.0095 - accuracy: 0.4748 - val_loss: 1.0127 - val_accuracy: 0.4609\n",
            "Epoch 136/400\n",
            "466/472 [============================>.] - ETA: 0s - loss: 1.0089 - accuracy: 0.4788"
          ]
        },
        {
          "name": "stderr",
          "output_type": "stream",
          "text": [
            " 34%|███▍      | 136/400 [08:38<15:00,  3.41s/epoch, loss=1.01, accuracy=0.479, val_loss=1.01, val_accuracy=0.462]"
          ]
        },
        {
          "name": "stdout",
          "output_type": "stream",
          "text": [
            "472/472 [==============================] - 3s 7ms/step - loss: 1.0090 - accuracy: 0.4789 - val_loss: 1.0128 - val_accuracy: 0.4616\n",
            "Epoch 137/400\n",
            "469/472 [============================>.] - ETA: 0s - loss: 1.0103 - accuracy: 0.4752"
          ]
        },
        {
          "name": "stderr",
          "output_type": "stream",
          "text": [
            " 34%|███▍      | 137/400 [08:42<14:54,  3.40s/epoch, loss=1.01, accuracy=0.475, val_loss=1.01, val_accuracy=0.463]"
          ]
        },
        {
          "name": "stdout",
          "output_type": "stream",
          "text": [
            "472/472 [==============================] - 3s 7ms/step - loss: 1.0103 - accuracy: 0.4750 - val_loss: 1.0133 - val_accuracy: 0.4625\n",
            "Epoch 138/400\n",
            "468/472 [============================>.] - ETA: 0s - loss: 1.0082 - accuracy: 0.4753"
          ]
        },
        {
          "name": "stderr",
          "output_type": "stream",
          "text": [
            " 34%|███▍      | 138/400 [08:45<14:50,  3.40s/epoch, loss=1.01, accuracy=0.476, val_loss=1.01, val_accuracy=0.462]"
          ]
        },
        {
          "name": "stdout",
          "output_type": "stream",
          "text": [
            "472/472 [==============================] - 3s 7ms/step - loss: 1.0081 - accuracy: 0.4756 - val_loss: 1.0128 - val_accuracy: 0.4623\n",
            "Epoch 139/400\n",
            "466/472 [============================>.] - ETA: 0s - loss: 1.0082 - accuracy: 0.4778"
          ]
        },
        {
          "name": "stderr",
          "output_type": "stream",
          "text": [
            " 35%|███▍      | 139/400 [08:49<14:47,  3.40s/epoch, loss=1.01, accuracy=0.477, val_loss=1.01, val_accuracy=0.46] "
          ]
        },
        {
          "name": "stdout",
          "output_type": "stream",
          "text": [
            "472/472 [==============================] - 3s 7ms/step - loss: 1.0083 - accuracy: 0.4773 - val_loss: 1.0135 - val_accuracy: 0.4601\n",
            "Epoch 140/400\n",
            "464/472 [============================>.] - ETA: 0s - loss: 1.0090 - accuracy: 0.4750"
          ]
        },
        {
          "name": "stderr",
          "output_type": "stream",
          "text": [
            " 35%|███▌      | 140/400 [08:52<14:41,  3.39s/epoch, loss=1.01, accuracy=0.475, val_loss=1.01, val_accuracy=0.46]"
          ]
        },
        {
          "name": "stdout",
          "output_type": "stream",
          "text": [
            "472/472 [==============================] - 3s 7ms/step - loss: 1.0089 - accuracy: 0.4751 - val_loss: 1.0135 - val_accuracy: 0.4602\n",
            "Epoch 141/400\n",
            "470/472 [============================>.] - ETA: 0s - loss: 1.0090 - accuracy: 0.4765"
          ]
        },
        {
          "name": "stderr",
          "output_type": "stream",
          "text": [
            " 35%|███▌      | 141/400 [08:55<14:40,  3.40s/epoch, loss=1.01, accuracy=0.476, val_loss=1.01, val_accuracy=0.46]"
          ]
        },
        {
          "name": "stdout",
          "output_type": "stream",
          "text": [
            "472/472 [==============================] - 3s 7ms/step - loss: 1.0090 - accuracy: 0.4764 - val_loss: 1.0133 - val_accuracy: 0.4600\n",
            "Epoch 142/400\n",
            "465/472 [============================>.] - ETA: 0s - loss: 1.0088 - accuracy: 0.4756"
          ]
        },
        {
          "name": "stderr",
          "output_type": "stream",
          "text": [
            " 36%|███▌      | 142/400 [08:59<14:38,  3.40s/epoch, loss=1.01, accuracy=0.476, val_loss=1.01, val_accuracy=0.461]"
          ]
        },
        {
          "name": "stdout",
          "output_type": "stream",
          "text": [
            "472/472 [==============================] - 3s 7ms/step - loss: 1.0088 - accuracy: 0.4755 - val_loss: 1.0129 - val_accuracy: 0.4605\n",
            "Epoch 143/400\n",
            "468/472 [============================>.] - ETA: 0s - loss: 1.0075 - accuracy: 0.4751"
          ]
        },
        {
          "name": "stderr",
          "output_type": "stream",
          "text": [
            " 36%|███▌      | 143/400 [09:02<14:35,  3.41s/epoch, loss=1.01, accuracy=0.475, val_loss=1.01, val_accuracy=0.462]"
          ]
        },
        {
          "name": "stdout",
          "output_type": "stream",
          "text": [
            "472/472 [==============================] - 3s 7ms/step - loss: 1.0074 - accuracy: 0.4753 - val_loss: 1.0131 - val_accuracy: 0.4623\n",
            "Epoch 144/400\n",
            "467/472 [============================>.] - ETA: 0s - loss: 1.0081 - accuracy: 0.4765"
          ]
        },
        {
          "name": "stderr",
          "output_type": "stream",
          "text": [
            " 36%|███▌      | 144/400 [09:06<14:32,  3.41s/epoch, loss=1.01, accuracy=0.476, val_loss=1.01, val_accuracy=0.463]"
          ]
        },
        {
          "name": "stdout",
          "output_type": "stream",
          "text": [
            "472/472 [==============================] - 3s 7ms/step - loss: 1.0080 - accuracy: 0.4764 - val_loss: 1.0129 - val_accuracy: 0.4626\n",
            "Epoch 145/400\n",
            "468/472 [============================>.] - ETA: 0s - loss: 1.0093 - accuracy: 0.4744"
          ]
        },
        {
          "name": "stderr",
          "output_type": "stream",
          "text": [
            " 36%|███▋      | 145/400 [09:09<14:31,  3.42s/epoch, loss=1.01, accuracy=0.474, val_loss=1.01, val_accuracy=0.462]"
          ]
        },
        {
          "name": "stdout",
          "output_type": "stream",
          "text": [
            "472/472 [==============================] - 3s 7ms/step - loss: 1.0092 - accuracy: 0.4742 - val_loss: 1.0132 - val_accuracy: 0.4615\n",
            "Epoch 146/400\n",
            "466/472 [============================>.] - ETA: 0s - loss: 1.0078 - accuracy: 0.4758"
          ]
        },
        {
          "name": "stderr",
          "output_type": "stream",
          "text": [
            " 36%|███▋      | 146/400 [09:13<14:28,  3.42s/epoch, loss=1.01, accuracy=0.476, val_loss=1.01, val_accuracy=0.46] "
          ]
        },
        {
          "name": "stdout",
          "output_type": "stream",
          "text": [
            "472/472 [==============================] - 3s 7ms/step - loss: 1.0078 - accuracy: 0.4757 - val_loss: 1.0132 - val_accuracy: 0.4595\n",
            "Epoch 147/400\n",
            "466/472 [============================>.] - ETA: 0s - loss: 1.0096 - accuracy: 0.4741"
          ]
        },
        {
          "name": "stderr",
          "output_type": "stream",
          "text": [
            " 37%|███▋      | 147/400 [09:16<14:24,  3.42s/epoch, loss=1.01, accuracy=0.474, val_loss=1.01, val_accuracy=0.46]"
          ]
        },
        {
          "name": "stdout",
          "output_type": "stream",
          "text": [
            "472/472 [==============================] - 3s 7ms/step - loss: 1.0097 - accuracy: 0.4739 - val_loss: 1.0132 - val_accuracy: 0.4603\n",
            "Epoch 148/400\n",
            "469/472 [============================>.] - ETA: 0s - loss: 1.0074 - accuracy: 0.4764"
          ]
        },
        {
          "name": "stderr",
          "output_type": "stream",
          "text": [
            " 37%|███▋      | 148/400 [09:19<14:21,  3.42s/epoch, loss=1.01, accuracy=0.476, val_loss=1.01, val_accuracy=0.462]"
          ]
        },
        {
          "name": "stdout",
          "output_type": "stream",
          "text": [
            "472/472 [==============================] - 3s 7ms/step - loss: 1.0076 - accuracy: 0.4764 - val_loss: 1.0134 - val_accuracy: 0.4620\n",
            "Epoch 149/400\n",
            "471/472 [============================>.] - ETA: 0s - loss: 1.0079 - accuracy: 0.4760"
          ]
        },
        {
          "name": "stderr",
          "output_type": "stream",
          "text": [
            " 37%|███▋      | 149/400 [09:23<14:17,  3.42s/epoch, loss=1.01, accuracy=0.476, val_loss=1.01, val_accuracy=0.462]"
          ]
        },
        {
          "name": "stdout",
          "output_type": "stream",
          "text": [
            "472/472 [==============================] - 3s 7ms/step - loss: 1.0079 - accuracy: 0.4760 - val_loss: 1.0128 - val_accuracy: 0.4620\n",
            "Epoch 150/400\n",
            "464/472 [============================>.] - ETA: 0s - loss: 1.0094 - accuracy: 0.4752"
          ]
        },
        {
          "name": "stderr",
          "output_type": "stream",
          "text": [
            " 38%|███▊      | 150/400 [09:26<14:16,  3.43s/epoch, loss=1.01, accuracy=0.475, val_loss=1.01, val_accuracy=0.46] "
          ]
        },
        {
          "name": "stdout",
          "output_type": "stream",
          "text": [
            "472/472 [==============================] - 3s 7ms/step - loss: 1.0095 - accuracy: 0.4748 - val_loss: 1.0128 - val_accuracy: 0.4600\n",
            "Epoch 151/400\n",
            "465/472 [============================>.] - ETA: 0s - loss: 1.0082 - accuracy: 0.4786"
          ]
        },
        {
          "name": "stderr",
          "output_type": "stream",
          "text": [
            " 38%|███▊      | 151/400 [09:30<14:11,  3.42s/epoch, loss=1.01, accuracy=0.478, val_loss=1.01, val_accuracy=0.461]"
          ]
        },
        {
          "name": "stdout",
          "output_type": "stream",
          "text": [
            "472/472 [==============================] - 3s 7ms/step - loss: 1.0083 - accuracy: 0.4784 - val_loss: 1.0130 - val_accuracy: 0.4609\n",
            "Epoch 152/400\n",
            "470/472 [============================>.] - ETA: 0s - loss: 1.0082 - accuracy: 0.4766"
          ]
        },
        {
          "name": "stderr",
          "output_type": "stream",
          "text": [
            " 38%|███▊      | 152/400 [09:33<14:06,  3.42s/epoch, loss=1.01, accuracy=0.477, val_loss=1.01, val_accuracy=0.46] "
          ]
        },
        {
          "name": "stdout",
          "output_type": "stream",
          "text": [
            "472/472 [==============================] - 3s 7ms/step - loss: 1.0082 - accuracy: 0.4765 - val_loss: 1.0129 - val_accuracy: 0.4601\n",
            "Epoch 153/400\n",
            "472/472 [==============================] - ETA: 0s - loss: 1.0070 - accuracy: 0.4766"
          ]
        },
        {
          "name": "stderr",
          "output_type": "stream",
          "text": [
            " 38%|███▊      | 153/400 [09:36<14:02,  3.41s/epoch, loss=1.01, accuracy=0.477, val_loss=1.01, val_accuracy=0.462]"
          ]
        },
        {
          "name": "stdout",
          "output_type": "stream",
          "text": [
            "472/472 [==============================] - 3s 7ms/step - loss: 1.0070 - accuracy: 0.4766 - val_loss: 1.0127 - val_accuracy: 0.4624\n",
            "Epoch 154/400\n",
            "470/472 [============================>.] - ETA: 0s - loss: 1.0085 - accuracy: 0.4742"
          ]
        },
        {
          "name": "stderr",
          "output_type": "stream",
          "text": [
            " 38%|███▊      | 154/400 [09:40<13:59,  3.41s/epoch, loss=1.01, accuracy=0.474, val_loss=1.01, val_accuracy=0.461]"
          ]
        },
        {
          "name": "stdout",
          "output_type": "stream",
          "text": [
            "472/472 [==============================] - 3s 7ms/step - loss: 1.0087 - accuracy: 0.4740 - val_loss: 1.0128 - val_accuracy: 0.4610\n",
            "Epoch 155/400\n",
            "469/472 [============================>.] - ETA: 0s - loss: 1.0073 - accuracy: 0.4789"
          ]
        },
        {
          "name": "stderr",
          "output_type": "stream",
          "text": [
            " 39%|███▉      | 155/400 [09:43<13:57,  3.42s/epoch, loss=1.01, accuracy=0.478, val_loss=1.01, val_accuracy=0.458]"
          ]
        },
        {
          "name": "stdout",
          "output_type": "stream",
          "text": [
            "472/472 [==============================] - 3s 7ms/step - loss: 1.0077 - accuracy: 0.4784 - val_loss: 1.0132 - val_accuracy: 0.4579\n",
            "Epoch 156/400\n",
            "465/472 [============================>.] - ETA: 0s - loss: 1.0067 - accuracy: 0.4769"
          ]
        },
        {
          "name": "stderr",
          "output_type": "stream",
          "text": [
            " 39%|███▉      | 156/400 [09:47<13:52,  3.41s/epoch, loss=1.01, accuracy=0.477, val_loss=1.01, val_accuracy=0.46] "
          ]
        },
        {
          "name": "stdout",
          "output_type": "stream",
          "text": [
            "472/472 [==============================] - 3s 7ms/step - loss: 1.0066 - accuracy: 0.4770 - val_loss: 1.0131 - val_accuracy: 0.4604\n",
            "Epoch 157/400\n",
            "470/472 [============================>.] - ETA: 0s - loss: 1.0081 - accuracy: 0.4798"
          ]
        },
        {
          "name": "stderr",
          "output_type": "stream",
          "text": [
            " 39%|███▉      | 157/400 [09:50<13:49,  3.41s/epoch, loss=1.01, accuracy=0.48, val_loss=1.01, val_accuracy=0.465]"
          ]
        },
        {
          "name": "stdout",
          "output_type": "stream",
          "text": [
            "472/472 [==============================] - 3s 7ms/step - loss: 1.0080 - accuracy: 0.4800 - val_loss: 1.0133 - val_accuracy: 0.4650\n",
            "Epoch 158/400\n",
            "465/472 [============================>.] - ETA: 0s - loss: 1.0079 - accuracy: 0.4782"
          ]
        },
        {
          "name": "stderr",
          "output_type": "stream",
          "text": [
            " 40%|███▉      | 158/400 [09:54<13:50,  3.43s/epoch, loss=1.01, accuracy=0.478, val_loss=1.01, val_accuracy=0.463]"
          ]
        },
        {
          "name": "stdout",
          "output_type": "stream",
          "text": [
            "472/472 [==============================] - 3s 7ms/step - loss: 1.0077 - accuracy: 0.4783 - val_loss: 1.0128 - val_accuracy: 0.4625\n",
            "Epoch 159/400\n",
            "466/472 [============================>.] - ETA: 0s - loss: 1.0077 - accuracy: 0.4728"
          ]
        },
        {
          "name": "stderr",
          "output_type": "stream",
          "text": [
            " 40%|███▉      | 159/400 [09:57<13:53,  3.46s/epoch, loss=1.01, accuracy=0.474, val_loss=1.01, val_accuracy=0.462]"
          ]
        },
        {
          "name": "stdout",
          "output_type": "stream",
          "text": [
            "472/472 [==============================] - 4s 7ms/step - loss: 1.0076 - accuracy: 0.4736 - val_loss: 1.0128 - val_accuracy: 0.4617\n",
            "Epoch 160/400\n",
            "471/472 [============================>.] - ETA: 0s - loss: 1.0067 - accuracy: 0.4785"
          ]
        },
        {
          "name": "stderr",
          "output_type": "stream",
          "text": [
            " 40%|████      | 160/400 [10:01<14:34,  3.65s/epoch, loss=1.01, accuracy=0.478, val_loss=1.01, val_accuracy=0.46] "
          ]
        },
        {
          "name": "stdout",
          "output_type": "stream",
          "text": [
            "472/472 [==============================] - 4s 9ms/step - loss: 1.0067 - accuracy: 0.4785 - val_loss: 1.0134 - val_accuracy: 0.4604\n",
            "Epoch 161/400\n",
            "469/472 [============================>.] - ETA: 0s - loss: 1.0085 - accuracy: 0.4755"
          ]
        },
        {
          "name": "stderr",
          "output_type": "stream",
          "text": [
            " 40%|████      | 161/400 [10:09<19:01,  4.78s/epoch, loss=1.01, accuracy=0.475, val_loss=1.01, val_accuracy=0.459]"
          ]
        },
        {
          "name": "stdout",
          "output_type": "stream",
          "text": [
            "472/472 [==============================] - 7s 16ms/step - loss: 1.0085 - accuracy: 0.4754 - val_loss: 1.0130 - val_accuracy: 0.4591\n",
            "Epoch 162/400\n",
            "470/472 [============================>.] - ETA: 0s - loss: 1.0067 - accuracy: 0.4779"
          ]
        },
        {
          "name": "stderr",
          "output_type": "stream",
          "text": [
            " 40%|████      | 162/400 [10:14<20:07,  5.07s/epoch, loss=1.01, accuracy=0.478, val_loss=1.01, val_accuracy=0.462]"
          ]
        },
        {
          "name": "stdout",
          "output_type": "stream",
          "text": [
            "472/472 [==============================] - 6s 12ms/step - loss: 1.0067 - accuracy: 0.4779 - val_loss: 1.0126 - val_accuracy: 0.4623\n",
            "Epoch 163/400\n",
            "466/472 [============================>.] - ETA: 0s - loss: 1.0066 - accuracy: 0.4766"
          ]
        },
        {
          "name": "stderr",
          "output_type": "stream",
          "text": [
            " 41%|████      | 163/400 [10:18<18:04,  4.57s/epoch, loss=1.01, accuracy=0.477, val_loss=1.01, val_accuracy=0.459]"
          ]
        },
        {
          "name": "stdout",
          "output_type": "stream",
          "text": [
            "472/472 [==============================] - 3s 7ms/step - loss: 1.0066 - accuracy: 0.4766 - val_loss: 1.0131 - val_accuracy: 0.4591\n",
            "Epoch 164/400\n",
            "469/472 [============================>.] - ETA: 0s - loss: 1.0061 - accuracy: 0.4766"
          ]
        },
        {
          "name": "stderr",
          "output_type": "stream",
          "text": [
            " 41%|████      | 164/400 [10:21<16:54,  4.30s/epoch, loss=1.01, accuracy=0.477, val_loss=1.01, val_accuracy=0.461]"
          ]
        },
        {
          "name": "stdout",
          "output_type": "stream",
          "text": [
            "472/472 [==============================] - 4s 8ms/step - loss: 1.0062 - accuracy: 0.4767 - val_loss: 1.0128 - val_accuracy: 0.4606\n",
            "Epoch 165/400\n",
            "467/472 [============================>.] - ETA: 0s - loss: 1.0050 - accuracy: 0.4795"
          ]
        },
        {
          "name": "stderr",
          "output_type": "stream",
          "text": [
            " 41%|████▏     | 165/400 [10:25<15:53,  4.06s/epoch, loss=1, accuracy=0.479, val_loss=1.01, val_accuracy=0.462]   "
          ]
        },
        {
          "name": "stdout",
          "output_type": "stream",
          "text": [
            "472/472 [==============================] - 3s 7ms/step - loss: 1.0050 - accuracy: 0.4794 - val_loss: 1.0133 - val_accuracy: 0.4617\n",
            "Epoch 166/400\n",
            "466/472 [============================>.] - ETA: 0s - loss: 1.0075 - accuracy: 0.4754"
          ]
        },
        {
          "name": "stderr",
          "output_type": "stream",
          "text": [
            " 42%|████▏     | 166/400 [10:28<15:05,  3.87s/epoch, loss=1.01, accuracy=0.475, val_loss=1.01, val_accuracy=0.46]"
          ]
        },
        {
          "name": "stdout",
          "output_type": "stream",
          "text": [
            "472/472 [==============================] - 3s 7ms/step - loss: 1.0074 - accuracy: 0.4753 - val_loss: 1.0128 - val_accuracy: 0.4597\n",
            "Epoch 167/400\n",
            "470/472 [============================>.] - ETA: 0s - loss: 1.0074 - accuracy: 0.4798"
          ]
        },
        {
          "name": "stderr",
          "output_type": "stream",
          "text": [
            " 42%|████▏     | 167/400 [10:32<14:29,  3.73s/epoch, loss=1.01, accuracy=0.48, val_loss=1.01, val_accuracy=0.46] "
          ]
        },
        {
          "name": "stdout",
          "output_type": "stream",
          "text": [
            "472/472 [==============================] - 3s 7ms/step - loss: 1.0072 - accuracy: 0.4800 - val_loss: 1.0127 - val_accuracy: 0.4603\n",
            "Epoch 168/400\n",
            "465/472 [============================>.] - ETA: 0s - loss: 1.0069 - accuracy: 0.4744"
          ]
        },
        {
          "name": "stderr",
          "output_type": "stream",
          "text": [
            " 42%|████▏     | 168/400 [10:35<14:22,  3.72s/epoch, loss=1.01, accuracy=0.474, val_loss=1.01, val_accuracy=0.461]"
          ]
        },
        {
          "name": "stdout",
          "output_type": "stream",
          "text": [
            "472/472 [==============================] - 4s 8ms/step - loss: 1.0070 - accuracy: 0.4743 - val_loss: 1.0131 - val_accuracy: 0.4609\n",
            "Epoch 169/400\n",
            "470/472 [============================>.] - ETA: 0s - loss: 1.0074 - accuracy: 0.4793"
          ]
        },
        {
          "name": "stderr",
          "output_type": "stream",
          "text": [
            " 42%|████▏     | 169/400 [10:39<14:02,  3.65s/epoch, loss=1.01, accuracy=0.479, val_loss=1.01, val_accuracy=0.462]"
          ]
        },
        {
          "name": "stdout",
          "output_type": "stream",
          "text": [
            "472/472 [==============================] - 3s 7ms/step - loss: 1.0074 - accuracy: 0.4793 - val_loss: 1.0131 - val_accuracy: 0.4621\n",
            "Epoch 170/400\n",
            "469/472 [============================>.] - ETA: 0s - loss: 1.0073 - accuracy: 0.4786"
          ]
        },
        {
          "name": "stderr",
          "output_type": "stream",
          "text": [
            " 42%|████▎     | 170/400 [10:42<13:43,  3.58s/epoch, loss=1.01, accuracy=0.478, val_loss=1.01, val_accuracy=0.46] "
          ]
        },
        {
          "name": "stdout",
          "output_type": "stream",
          "text": [
            "472/472 [==============================] - 3s 7ms/step - loss: 1.0073 - accuracy: 0.4782 - val_loss: 1.0128 - val_accuracy: 0.4602\n",
            "Epoch 171/400\n",
            "472/472 [==============================] - ETA: 0s - loss: 1.0064 - accuracy: 0.4769"
          ]
        },
        {
          "name": "stderr",
          "output_type": "stream",
          "text": [
            " 43%|████▎     | 171/400 [10:46<13:28,  3.53s/epoch, loss=1.01, accuracy=0.477, val_loss=1.01, val_accuracy=0.463]"
          ]
        },
        {
          "name": "stdout",
          "output_type": "stream",
          "text": [
            "472/472 [==============================] - 3s 7ms/step - loss: 1.0064 - accuracy: 0.4769 - val_loss: 1.0126 - val_accuracy: 0.4628\n",
            "Epoch 172/400\n",
            "470/472 [============================>.] - ETA: 0s - loss: 1.0062 - accuracy: 0.4763"
          ]
        },
        {
          "name": "stderr",
          "output_type": "stream",
          "text": [
            " 43%|████▎     | 172/400 [10:49<13:16,  3.50s/epoch, loss=1.01, accuracy=0.476, val_loss=1.01, val_accuracy=0.46] "
          ]
        },
        {
          "name": "stdout",
          "output_type": "stream",
          "text": [
            "472/472 [==============================] - 3s 7ms/step - loss: 1.0064 - accuracy: 0.4761 - val_loss: 1.0135 - val_accuracy: 0.4601\n",
            "Epoch 173/400\n",
            "470/472 [============================>.] - ETA: 0s - loss: 1.0060 - accuracy: 0.4781"
          ]
        },
        {
          "name": "stderr",
          "output_type": "stream",
          "text": [
            " 43%|████▎     | 173/400 [10:53<13:08,  3.47s/epoch, loss=1.01, accuracy=0.478, val_loss=1.01, val_accuracy=0.461]"
          ]
        },
        {
          "name": "stdout",
          "output_type": "stream",
          "text": [
            "472/472 [==============================] - 3s 7ms/step - loss: 1.0060 - accuracy: 0.4783 - val_loss: 1.0130 - val_accuracy: 0.4608\n",
            "Epoch 174/400\n",
            "468/472 [============================>.] - ETA: 0s - loss: 1.0066 - accuracy: 0.4796"
          ]
        },
        {
          "name": "stderr",
          "output_type": "stream",
          "text": [
            " 44%|████▎     | 174/400 [10:56<13:07,  3.49s/epoch, loss=1.01, accuracy=0.48, val_loss=1.01, val_accuracy=0.461] "
          ]
        },
        {
          "name": "stdout",
          "output_type": "stream",
          "text": [
            "472/472 [==============================] - 4s 7ms/step - loss: 1.0066 - accuracy: 0.4797 - val_loss: 1.0127 - val_accuracy: 0.4610\n",
            "Epoch 175/400\n",
            "466/472 [============================>.] - ETA: 0s - loss: 1.0063 - accuracy: 0.4797"
          ]
        },
        {
          "name": "stderr",
          "output_type": "stream",
          "text": [
            " 44%|████▍     | 175/400 [11:00<13:08,  3.50s/epoch, loss=1.01, accuracy=0.48, val_loss=1.01, val_accuracy=0.459]"
          ]
        },
        {
          "name": "stdout",
          "output_type": "stream",
          "text": [
            "472/472 [==============================] - 4s 7ms/step - loss: 1.0067 - accuracy: 0.4796 - val_loss: 1.0131 - val_accuracy: 0.4590\n",
            "Epoch 176/400\n",
            "466/472 [============================>.] - ETA: 0s - loss: 1.0063 - accuracy: 0.4785"
          ]
        },
        {
          "name": "stderr",
          "output_type": "stream",
          "text": [
            " 44%|████▍     | 176/400 [11:03<12:58,  3.48s/epoch, loss=1.01, accuracy=0.479, val_loss=1.01, val_accuracy=0.46]"
          ]
        },
        {
          "name": "stdout",
          "output_type": "stream",
          "text": [
            "472/472 [==============================] - 3s 7ms/step - loss: 1.0060 - accuracy: 0.4785 - val_loss: 1.0134 - val_accuracy: 0.4603\n",
            "Epoch 177/400\n",
            "467/472 [============================>.] - ETA: 0s - loss: 1.0055 - accuracy: 0.4776"
          ]
        },
        {
          "name": "stderr",
          "output_type": "stream",
          "text": [
            " 44%|████▍     | 177/400 [11:07<12:56,  3.48s/epoch, loss=1.01, accuracy=0.478, val_loss=1.01, val_accuracy=0.463]"
          ]
        },
        {
          "name": "stdout",
          "output_type": "stream",
          "text": [
            "472/472 [==============================] - 3s 7ms/step - loss: 1.0053 - accuracy: 0.4776 - val_loss: 1.0126 - val_accuracy: 0.4626\n",
            "Epoch 178/400\n",
            "471/472 [============================>.] - ETA: 0s - loss: 1.0056 - accuracy: 0.4778"
          ]
        },
        {
          "name": "stderr",
          "output_type": "stream",
          "text": [
            " 44%|████▍     | 178/400 [11:11<13:33,  3.66s/epoch, loss=1.01, accuracy=0.478, val_loss=1.01, val_accuracy=0.462]"
          ]
        },
        {
          "name": "stdout",
          "output_type": "stream",
          "text": [
            "472/472 [==============================] - 4s 9ms/step - loss: 1.0056 - accuracy: 0.4778 - val_loss: 1.0128 - val_accuracy: 0.4620\n",
            "Epoch 179/400\n",
            "467/472 [============================>.] - ETA: 0s - loss: 1.0057 - accuracy: 0.4799"
          ]
        },
        {
          "name": "stderr",
          "output_type": "stream",
          "text": [
            " 45%|████▍     | 179/400 [11:15<13:42,  3.72s/epoch, loss=1.01, accuracy=0.48, val_loss=1.01, val_accuracy=0.461] "
          ]
        },
        {
          "name": "stdout",
          "output_type": "stream",
          "text": [
            "472/472 [==============================] - 4s 8ms/step - loss: 1.0055 - accuracy: 0.4799 - val_loss: 1.0128 - val_accuracy: 0.4612\n",
            "Epoch 180/400\n",
            "472/472 [==============================] - ETA: 0s - loss: 1.0061 - accuracy: 0.4794"
          ]
        },
        {
          "name": "stderr",
          "output_type": "stream",
          "text": [
            " 45%|████▌     | 180/400 [11:18<13:45,  3.75s/epoch, loss=1.01, accuracy=0.479, val_loss=1.01, val_accuracy=0.463]"
          ]
        },
        {
          "name": "stdout",
          "output_type": "stream",
          "text": [
            "472/472 [==============================] - 4s 8ms/step - loss: 1.0061 - accuracy: 0.4794 - val_loss: 1.0123 - val_accuracy: 0.4634\n",
            "Epoch 181/400\n",
            "468/472 [============================>.] - ETA: 0s - loss: 1.0055 - accuracy: 0.4797"
          ]
        },
        {
          "name": "stderr",
          "output_type": "stream",
          "text": [
            " 45%|████▌     | 181/400 [11:22<13:46,  3.77s/epoch, loss=1.01, accuracy=0.479, val_loss=1.01, val_accuracy=0.462]"
          ]
        },
        {
          "name": "stdout",
          "output_type": "stream",
          "text": [
            "472/472 [==============================] - 4s 8ms/step - loss: 1.0057 - accuracy: 0.4793 - val_loss: 1.0126 - val_accuracy: 0.4621\n",
            "Epoch 182/400\n",
            "469/472 [============================>.] - ETA: 0s - loss: 1.0064 - accuracy: 0.4811"
          ]
        },
        {
          "name": "stderr",
          "output_type": "stream",
          "text": [
            " 46%|████▌     | 182/400 [11:26<13:45,  3.79s/epoch, loss=1.01, accuracy=0.481, val_loss=1.01, val_accuracy=0.462]"
          ]
        },
        {
          "name": "stdout",
          "output_type": "stream",
          "text": [
            "472/472 [==============================] - 4s 8ms/step - loss: 1.0065 - accuracy: 0.4810 - val_loss: 1.0127 - val_accuracy: 0.4622\n",
            "Epoch 183/400\n",
            "466/472 [============================>.] - ETA: 0s - loss: 1.0059 - accuracy: 0.4776"
          ]
        },
        {
          "name": "stderr",
          "output_type": "stream",
          "text": [
            " 46%|████▌     | 183/400 [11:30<13:44,  3.80s/epoch, loss=1.01, accuracy=0.478, val_loss=1.01, val_accuracy=0.46] "
          ]
        },
        {
          "name": "stdout",
          "output_type": "stream",
          "text": [
            "472/472 [==============================] - 4s 8ms/step - loss: 1.0055 - accuracy: 0.4780 - val_loss: 1.0136 - val_accuracy: 0.4600\n",
            "Epoch 184/400\n",
            "466/472 [============================>.] - ETA: 0s - loss: 1.0058 - accuracy: 0.4771"
          ]
        },
        {
          "name": "stderr",
          "output_type": "stream",
          "text": [
            " 46%|████▌     | 184/400 [11:34<13:42,  3.81s/epoch, loss=1.01, accuracy=0.477, val_loss=1.01, val_accuracy=0.462]"
          ]
        },
        {
          "name": "stdout",
          "output_type": "stream",
          "text": [
            "472/472 [==============================] - 4s 8ms/step - loss: 1.0061 - accuracy: 0.4769 - val_loss: 1.0127 - val_accuracy: 0.4620\n",
            "Epoch 185/400\n",
            "469/472 [============================>.] - ETA: 0s - loss: 1.0052 - accuracy: 0.4791"
          ]
        },
        {
          "name": "stderr",
          "output_type": "stream",
          "text": [
            " 46%|████▋     | 185/400 [11:37<13:39,  3.81s/epoch, loss=1.01, accuracy=0.479, val_loss=1.01, val_accuracy=0.461]"
          ]
        },
        {
          "name": "stdout",
          "output_type": "stream",
          "text": [
            "472/472 [==============================] - 4s 8ms/step - loss: 1.0052 - accuracy: 0.4789 - val_loss: 1.0129 - val_accuracy: 0.4610\n",
            "Epoch 186/400\n",
            "469/472 [============================>.] - ETA: 0s - loss: 1.0049 - accuracy: 0.4800"
          ]
        },
        {
          "name": "stderr",
          "output_type": "stream",
          "text": [
            " 46%|████▋     | 186/400 [11:41<13:40,  3.83s/epoch, loss=1, accuracy=0.48, val_loss=1.01, val_accuracy=0.462]    "
          ]
        },
        {
          "name": "stdout",
          "output_type": "stream",
          "text": [
            "472/472 [==============================] - 4s 8ms/step - loss: 1.0048 - accuracy: 0.4802 - val_loss: 1.0128 - val_accuracy: 0.4616\n",
            "Epoch 187/400\n",
            "469/472 [============================>.] - ETA: 0s - loss: 1.0050 - accuracy: 0.4803"
          ]
        },
        {
          "name": "stderr",
          "output_type": "stream",
          "text": [
            " 47%|████▋     | 187/400 [11:45<13:36,  3.83s/epoch, loss=1, accuracy=0.481, val_loss=1.01, val_accuracy=0.461]"
          ]
        },
        {
          "name": "stdout",
          "output_type": "stream",
          "text": [
            "472/472 [==============================] - 4s 8ms/step - loss: 1.0049 - accuracy: 0.4805 - val_loss: 1.0129 - val_accuracy: 0.4609\n",
            "Epoch 188/400\n",
            "469/472 [============================>.] - ETA: 0s - loss: 1.0046 - accuracy: 0.4776"
          ]
        },
        {
          "name": "stderr",
          "output_type": "stream",
          "text": [
            " 47%|████▋     | 188/400 [11:49<13:34,  3.84s/epoch, loss=1, accuracy=0.477, val_loss=1.01, val_accuracy=0.463]"
          ]
        },
        {
          "name": "stdout",
          "output_type": "stream",
          "text": [
            "472/472 [==============================] - 4s 8ms/step - loss: 1.0046 - accuracy: 0.4775 - val_loss: 1.0133 - val_accuracy: 0.4625\n",
            "Epoch 189/400\n",
            "470/472 [============================>.] - ETA: 0s - loss: 1.0046 - accuracy: 0.4803"
          ]
        },
        {
          "name": "stderr",
          "output_type": "stream",
          "text": [
            " 47%|████▋     | 189/400 [11:53<13:28,  3.83s/epoch, loss=1, accuracy=0.48, val_loss=1.01, val_accuracy=0.461] "
          ]
        },
        {
          "name": "stdout",
          "output_type": "stream",
          "text": [
            "472/472 [==============================] - 4s 8ms/step - loss: 1.0045 - accuracy: 0.4804 - val_loss: 1.0131 - val_accuracy: 0.4605\n",
            "Epoch 190/400\n",
            "471/472 [============================>.] - ETA: 0s - loss: 1.0061 - accuracy: 0.4808"
          ]
        },
        {
          "name": "stderr",
          "output_type": "stream",
          "text": [
            " 48%|████▊     | 190/400 [11:57<13:25,  3.84s/epoch, loss=1.01, accuracy=0.481, val_loss=1.01, val_accuracy=0.465]"
          ]
        },
        {
          "name": "stdout",
          "output_type": "stream",
          "text": [
            "472/472 [==============================] - 4s 8ms/step - loss: 1.0061 - accuracy: 0.4808 - val_loss: 1.0135 - val_accuracy: 0.4650\n",
            "Epoch 191/400\n",
            "471/472 [============================>.] - ETA: 0s - loss: 1.0053 - accuracy: 0.4799"
          ]
        },
        {
          "name": "stderr",
          "output_type": "stream",
          "text": [
            " 48%|████▊     | 191/400 [12:01<13:22,  3.84s/epoch, loss=1.01, accuracy=0.48, val_loss=1.01, val_accuracy=0.462] "
          ]
        },
        {
          "name": "stdout",
          "output_type": "stream",
          "text": [
            "472/472 [==============================] - 4s 8ms/step - loss: 1.0053 - accuracy: 0.4800 - val_loss: 1.0129 - val_accuracy: 0.4616\n",
            "Epoch 192/400\n",
            "472/472 [==============================] - ETA: 0s - loss: 1.0068 - accuracy: 0.4804"
          ]
        },
        {
          "name": "stderr",
          "output_type": "stream",
          "text": [
            " 48%|████▊     | 192/400 [12:04<13:18,  3.84s/epoch, loss=1.01, accuracy=0.48, val_loss=1.01, val_accuracy=0.464]"
          ]
        },
        {
          "name": "stdout",
          "output_type": "stream",
          "text": [
            "472/472 [==============================] - 4s 8ms/step - loss: 1.0068 - accuracy: 0.4804 - val_loss: 1.0132 - val_accuracy: 0.4637\n",
            "Epoch 193/400\n",
            "469/472 [============================>.] - ETA: 0s - loss: 1.0058 - accuracy: 0.4806"
          ]
        },
        {
          "name": "stderr",
          "output_type": "stream",
          "text": [
            " 48%|████▊     | 193/400 [12:08<13:07,  3.81s/epoch, loss=1.01, accuracy=0.481, val_loss=1.01, val_accuracy=0.465]"
          ]
        },
        {
          "name": "stdout",
          "output_type": "stream",
          "text": [
            "472/472 [==============================] - 4s 8ms/step - loss: 1.0059 - accuracy: 0.4807 - val_loss: 1.0121 - val_accuracy: 0.4645\n",
            "Epoch 194/400\n",
            "465/472 [============================>.] - ETA: 0s - loss: 1.0045 - accuracy: 0.4808"
          ]
        },
        {
          "name": "stderr",
          "output_type": "stream",
          "text": [
            " 48%|████▊     | 194/400 [12:12<12:56,  3.77s/epoch, loss=1, accuracy=0.481, val_loss=1.01, val_accuracy=0.461]   "
          ]
        },
        {
          "name": "stdout",
          "output_type": "stream",
          "text": [
            "472/472 [==============================] - 4s 8ms/step - loss: 1.0047 - accuracy: 0.4806 - val_loss: 1.0131 - val_accuracy: 0.4605\n",
            "Epoch 195/400\n",
            "467/472 [============================>.] - ETA: 0s - loss: 1.0049 - accuracy: 0.4783"
          ]
        },
        {
          "name": "stderr",
          "output_type": "stream",
          "text": [
            " 49%|████▉     | 195/400 [12:15<12:48,  3.75s/epoch, loss=1, accuracy=0.478, val_loss=1.01, val_accuracy=0.463]"
          ]
        },
        {
          "name": "stdout",
          "output_type": "stream",
          "text": [
            "472/472 [==============================] - 4s 8ms/step - loss: 1.0048 - accuracy: 0.4784 - val_loss: 1.0124 - val_accuracy: 0.4630\n",
            "Epoch 196/400\n",
            "470/472 [============================>.] - ETA: 0s - loss: 1.0044 - accuracy: 0.4809"
          ]
        },
        {
          "name": "stderr",
          "output_type": "stream",
          "text": [
            " 49%|████▉     | 196/400 [12:19<12:39,  3.72s/epoch, loss=1, accuracy=0.481, val_loss=1.01, val_accuracy=0.462]"
          ]
        },
        {
          "name": "stdout",
          "output_type": "stream",
          "text": [
            "472/472 [==============================] - 4s 8ms/step - loss: 1.0045 - accuracy: 0.4807 - val_loss: 1.0124 - val_accuracy: 0.4624\n",
            "Epoch 197/400\n",
            "470/472 [============================>.] - ETA: 0s - loss: 1.0054 - accuracy: 0.4797"
          ]
        },
        {
          "name": "stderr",
          "output_type": "stream",
          "text": [
            " 49%|████▉     | 197/400 [12:23<12:34,  3.72s/epoch, loss=1.01, accuracy=0.48, val_loss=1.01, val_accuracy=0.462]"
          ]
        },
        {
          "name": "stdout",
          "output_type": "stream",
          "text": [
            "472/472 [==============================] - 4s 8ms/step - loss: 1.0054 - accuracy: 0.4796 - val_loss: 1.0127 - val_accuracy: 0.4618\n",
            "Epoch 198/400\n",
            "469/472 [============================>.] - ETA: 0s - loss: 1.0038 - accuracy: 0.4804"
          ]
        },
        {
          "name": "stderr",
          "output_type": "stream",
          "text": [
            " 50%|████▉     | 198/400 [12:27<12:42,  3.77s/epoch, loss=1, accuracy=0.48, val_loss=1.01, val_accuracy=0.464]   "
          ]
        },
        {
          "name": "stdout",
          "output_type": "stream",
          "text": [
            "472/472 [==============================] - 4s 8ms/step - loss: 1.0039 - accuracy: 0.4803 - val_loss: 1.0123 - val_accuracy: 0.4643\n",
            "Epoch 199/400\n",
            "466/472 [============================>.] - ETA: 0s - loss: 1.0045 - accuracy: 0.4798"
          ]
        },
        {
          "name": "stderr",
          "output_type": "stream",
          "text": [
            " 50%|████▉     | 199/400 [12:31<12:46,  3.81s/epoch, loss=1, accuracy=0.48, val_loss=1.01, val_accuracy=0.462]"
          ]
        },
        {
          "name": "stdout",
          "output_type": "stream",
          "text": [
            "472/472 [==============================] - 4s 8ms/step - loss: 1.0046 - accuracy: 0.4797 - val_loss: 1.0125 - val_accuracy: 0.4624\n",
            "Epoch 200/400\n",
            "471/472 [============================>.] - ETA: 0s - loss: 1.0048 - accuracy: 0.4779"
          ]
        },
        {
          "name": "stderr",
          "output_type": "stream",
          "text": [
            " 50%|█████     | 200/400 [12:35<12:46,  3.83s/epoch, loss=1, accuracy=0.478, val_loss=1.01, val_accuracy=0.463]"
          ]
        },
        {
          "name": "stdout",
          "output_type": "stream",
          "text": [
            "472/472 [==============================] - 4s 8ms/step - loss: 1.0048 - accuracy: 0.4780 - val_loss: 1.0128 - val_accuracy: 0.4627\n",
            "Epoch 201/400\n",
            "472/472 [==============================] - ETA: 0s - loss: 1.0027 - accuracy: 0.4813"
          ]
        },
        {
          "name": "stderr",
          "output_type": "stream",
          "text": [
            " 50%|█████     | 201/400 [12:38<12:42,  3.83s/epoch, loss=1, accuracy=0.481, val_loss=1.01, val_accuracy=0.462]"
          ]
        },
        {
          "name": "stdout",
          "output_type": "stream",
          "text": [
            "472/472 [==============================] - 4s 8ms/step - loss: 1.0027 - accuracy: 0.4813 - val_loss: 1.0129 - val_accuracy: 0.4619\n",
            "Epoch 202/400\n",
            "470/472 [============================>.] - ETA: 0s - loss: 1.0043 - accuracy: 0.4809"
          ]
        },
        {
          "name": "stderr",
          "output_type": "stream",
          "text": [
            " 50%|█████     | 202/400 [12:42<12:38,  3.83s/epoch, loss=1, accuracy=0.481, val_loss=1.01, val_accuracy=0.462]"
          ]
        },
        {
          "name": "stdout",
          "output_type": "stream",
          "text": [
            "472/472 [==============================] - 4s 8ms/step - loss: 1.0042 - accuracy: 0.4810 - val_loss: 1.0125 - val_accuracy: 0.4623\n",
            "Epoch 203/400\n",
            "465/472 [============================>.] - ETA: 0s - loss: 1.0045 - accuracy: 0.4781"
          ]
        },
        {
          "name": "stderr",
          "output_type": "stream",
          "text": [
            " 51%|█████     | 203/400 [12:46<12:37,  3.85s/epoch, loss=1, accuracy=0.478, val_loss=1.01, val_accuracy=0.463]"
          ]
        },
        {
          "name": "stdout",
          "output_type": "stream",
          "text": [
            "472/472 [==============================] - 4s 8ms/step - loss: 1.0044 - accuracy: 0.4784 - val_loss: 1.0128 - val_accuracy: 0.4629\n",
            "Epoch 204/400\n",
            "469/472 [============================>.] - ETA: 0s - loss: 1.0046 - accuracy: 0.4796"
          ]
        },
        {
          "name": "stderr",
          "output_type": "stream",
          "text": [
            " 51%|█████     | 204/400 [12:52<14:14,  4.36s/epoch, loss=1, accuracy=0.48, val_loss=1.01, val_accuracy=0.461] "
          ]
        },
        {
          "name": "stdout",
          "output_type": "stream",
          "text": [
            "472/472 [==============================] - 6s 12ms/step - loss: 1.0046 - accuracy: 0.4796 - val_loss: 1.0131 - val_accuracy: 0.4611\n",
            "Epoch 205/400\n",
            "469/472 [============================>.] - ETA: 0s - loss: 1.0058 - accuracy: 0.4802"
          ]
        },
        {
          "name": "stderr",
          "output_type": "stream",
          "text": [
            " 51%|█████▏    | 205/400 [12:59<16:56,  5.22s/epoch, loss=1.01, accuracy=0.48, val_loss=1.01, val_accuracy=0.463]"
          ]
        },
        {
          "name": "stdout",
          "output_type": "stream",
          "text": [
            "472/472 [==============================] - 7s 15ms/step - loss: 1.0056 - accuracy: 0.4801 - val_loss: 1.0125 - val_accuracy: 0.4633\n",
            "Epoch 206/400\n",
            "469/472 [============================>.] - ETA: 0s - loss: 1.0054 - accuracy: 0.4787"
          ]
        },
        {
          "name": "stderr",
          "output_type": "stream",
          "text": [
            " 52%|█████▏    | 206/400 [13:04<16:29,  5.10s/epoch, loss=1.01, accuracy=0.479, val_loss=1.01, val_accuracy=0.463]"
          ]
        },
        {
          "name": "stdout",
          "output_type": "stream",
          "text": [
            "472/472 [==============================] - 5s 10ms/step - loss: 1.0054 - accuracy: 0.4787 - val_loss: 1.0127 - val_accuracy: 0.4629\n",
            "Epoch 207/400\n",
            "470/472 [============================>.] - ETA: 0s - loss: 1.0037 - accuracy: 0.4821"
          ]
        },
        {
          "name": "stderr",
          "output_type": "stream",
          "text": [
            " 52%|█████▏    | 207/400 [13:07<15:00,  4.67s/epoch, loss=1, accuracy=0.482, val_loss=1.01, val_accuracy=0.463]   "
          ]
        },
        {
          "name": "stdout",
          "output_type": "stream",
          "text": [
            "472/472 [==============================] - 4s 8ms/step - loss: 1.0036 - accuracy: 0.4822 - val_loss: 1.0130 - val_accuracy: 0.4628\n",
            "Epoch 208/400\n",
            "472/472 [==============================] - ETA: 0s - loss: 1.0038 - accuracy: 0.4797"
          ]
        },
        {
          "name": "stderr",
          "output_type": "stream",
          "text": [
            " 52%|█████▏    | 208/400 [13:12<14:30,  4.54s/epoch, loss=1, accuracy=0.48, val_loss=1.01, val_accuracy=0.461] "
          ]
        },
        {
          "name": "stdout",
          "output_type": "stream",
          "text": [
            "472/472 [==============================] - 4s 9ms/step - loss: 1.0038 - accuracy: 0.4797 - val_loss: 1.0133 - val_accuracy: 0.4614\n",
            "Epoch 209/400\n",
            "472/472 [==============================] - ETA: 0s - loss: 1.0036 - accuracy: 0.4821"
          ]
        },
        {
          "name": "stderr",
          "output_type": "stream",
          "text": [
            " 52%|█████▏    | 209/400 [13:15<13:40,  4.29s/epoch, loss=1, accuracy=0.482, val_loss=1.01, val_accuracy=0.462]"
          ]
        },
        {
          "name": "stdout",
          "output_type": "stream",
          "text": [
            "472/472 [==============================] - 4s 8ms/step - loss: 1.0036 - accuracy: 0.4821 - val_loss: 1.0134 - val_accuracy: 0.4622\n",
            "Epoch 210/400\n",
            "467/472 [============================>.] - ETA: 0s - loss: 1.0035 - accuracy: 0.4802"
          ]
        },
        {
          "name": "stderr",
          "output_type": "stream",
          "text": [
            " 52%|█████▎    | 210/400 [13:19<13:03,  4.13s/epoch, loss=1, accuracy=0.48, val_loss=1.01, val_accuracy=0.465] "
          ]
        },
        {
          "name": "stdout",
          "output_type": "stream",
          "text": [
            "472/472 [==============================] - 4s 8ms/step - loss: 1.0037 - accuracy: 0.4799 - val_loss: 1.0126 - val_accuracy: 0.4646\n",
            "Epoch 211/400\n",
            "467/472 [============================>.] - ETA: 0s - loss: 1.0029 - accuracy: 0.4809"
          ]
        },
        {
          "name": "stderr",
          "output_type": "stream",
          "text": [
            " 53%|█████▎    | 211/400 [13:23<12:38,  4.01s/epoch, loss=1, accuracy=0.481, val_loss=1.01, val_accuracy=0.463]"
          ]
        },
        {
          "name": "stdout",
          "output_type": "stream",
          "text": [
            "472/472 [==============================] - 4s 8ms/step - loss: 1.0032 - accuracy: 0.4806 - val_loss: 1.0129 - val_accuracy: 0.4630\n",
            "Epoch 212/400\n",
            "466/472 [============================>.] - ETA: 0s - loss: 1.0042 - accuracy: 0.4818"
          ]
        },
        {
          "name": "stderr",
          "output_type": "stream",
          "text": [
            " 53%|█████▎    | 212/400 [13:27<12:22,  3.95s/epoch, loss=1, accuracy=0.482, val_loss=1.01, val_accuracy=0.464]"
          ]
        },
        {
          "name": "stdout",
          "output_type": "stream",
          "text": [
            "472/472 [==============================] - 4s 8ms/step - loss: 1.0043 - accuracy: 0.4817 - val_loss: 1.0127 - val_accuracy: 0.4636\n",
            "Epoch 213/400\n",
            "472/472 [==============================] - ETA: 0s - loss: 1.0034 - accuracy: 0.4832"
          ]
        },
        {
          "name": "stderr",
          "output_type": "stream",
          "text": [
            " 53%|█████▎    | 213/400 [13:30<12:05,  3.88s/epoch, loss=1, accuracy=0.483, val_loss=1.01, val_accuracy=0.461]"
          ]
        },
        {
          "name": "stdout",
          "output_type": "stream",
          "text": [
            "472/472 [==============================] - 4s 8ms/step - loss: 1.0034 - accuracy: 0.4832 - val_loss: 1.0133 - val_accuracy: 0.4614\n",
            "Epoch 214/400\n",
            "468/472 [============================>.] - ETA: 0s - loss: 1.0039 - accuracy: 0.4820"
          ]
        },
        {
          "name": "stderr",
          "output_type": "stream",
          "text": [
            " 54%|█████▎    | 214/400 [13:34<11:49,  3.82s/epoch, loss=1, accuracy=0.482, val_loss=1.01, val_accuracy=0.463]"
          ]
        },
        {
          "name": "stdout",
          "output_type": "stream",
          "text": [
            "472/472 [==============================] - 4s 8ms/step - loss: 1.0042 - accuracy: 0.4819 - val_loss: 1.0129 - val_accuracy: 0.4631\n",
            "Epoch 215/400\n",
            "466/472 [============================>.] - ETA: 0s - loss: 1.0028 - accuracy: 0.4802"
          ]
        },
        {
          "name": "stderr",
          "output_type": "stream",
          "text": [
            " 54%|█████▍    | 215/400 [13:38<11:47,  3.83s/epoch, loss=1, accuracy=0.48, val_loss=1.01, val_accuracy=0.464] "
          ]
        },
        {
          "name": "stdout",
          "output_type": "stream",
          "text": [
            "472/472 [==============================] - 4s 8ms/step - loss: 1.0028 - accuracy: 0.4801 - val_loss: 1.0126 - val_accuracy: 0.4636\n",
            "Epoch 216/400\n",
            "470/472 [============================>.] - ETA: 0s - loss: 1.0034 - accuracy: 0.4814"
          ]
        },
        {
          "name": "stderr",
          "output_type": "stream",
          "text": [
            " 54%|█████▍    | 216/400 [13:42<11:39,  3.80s/epoch, loss=1, accuracy=0.482, val_loss=1.01, val_accuracy=0.462]"
          ]
        },
        {
          "name": "stdout",
          "output_type": "stream",
          "text": [
            "472/472 [==============================] - 4s 8ms/step - loss: 1.0032 - accuracy: 0.4815 - val_loss: 1.0129 - val_accuracy: 0.4616\n",
            "Epoch 217/400\n",
            "471/472 [============================>.] - ETA: 0s - loss: 1.0030 - accuracy: 0.4790"
          ]
        },
        {
          "name": "stderr",
          "output_type": "stream",
          "text": [
            " 54%|█████▍    | 217/400 [13:45<11:35,  3.80s/epoch, loss=1, accuracy=0.479, val_loss=1.01, val_accuracy=0.462]"
          ]
        },
        {
          "name": "stdout",
          "output_type": "stream",
          "text": [
            "472/472 [==============================] - 4s 8ms/step - loss: 1.0030 - accuracy: 0.4790 - val_loss: 1.0138 - val_accuracy: 0.4620\n",
            "Epoch 218/400\n",
            "467/472 [============================>.] - ETA: 0s - loss: 1.0029 - accuracy: 0.4834"
          ]
        },
        {
          "name": "stderr",
          "output_type": "stream",
          "text": [
            " 55%|█████▍    | 218/400 [13:49<11:25,  3.77s/epoch, loss=1, accuracy=0.483, val_loss=1.01, val_accuracy=0.463]"
          ]
        },
        {
          "name": "stdout",
          "output_type": "stream",
          "text": [
            "472/472 [==============================] - 4s 8ms/step - loss: 1.0029 - accuracy: 0.4832 - val_loss: 1.0127 - val_accuracy: 0.4628\n",
            "Epoch 219/400\n",
            "466/472 [============================>.] - ETA: 0s - loss: 1.0030 - accuracy: 0.4806"
          ]
        },
        {
          "name": "stderr",
          "output_type": "stream",
          "text": [
            " 55%|█████▍    | 219/400 [13:53<11:17,  3.74s/epoch, loss=1, accuracy=0.48, val_loss=1.01, val_accuracy=0.462] "
          ]
        },
        {
          "name": "stdout",
          "output_type": "stream",
          "text": [
            "472/472 [==============================] - 4s 8ms/step - loss: 1.0031 - accuracy: 0.4804 - val_loss: 1.0130 - val_accuracy: 0.4619\n",
            "Epoch 220/400\n",
            "467/472 [============================>.] - ETA: 0s - loss: 1.0017 - accuracy: 0.4836"
          ]
        },
        {
          "name": "stderr",
          "output_type": "stream",
          "text": [
            " 55%|█████▌    | 220/400 [13:56<11:12,  3.74s/epoch, loss=1, accuracy=0.484, val_loss=1.01, val_accuracy=0.461]"
          ]
        },
        {
          "name": "stdout",
          "output_type": "stream",
          "text": [
            "472/472 [==============================] - 4s 8ms/step - loss: 1.0018 - accuracy: 0.4836 - val_loss: 1.0135 - val_accuracy: 0.4611\n",
            "Epoch 221/400\n",
            "468/472 [============================>.] - ETA: 0s - loss: 1.0038 - accuracy: 0.4804"
          ]
        },
        {
          "name": "stderr",
          "output_type": "stream",
          "text": [
            " 55%|█████▌    | 221/400 [14:00<11:06,  3.73s/epoch, loss=1, accuracy=0.481, val_loss=1.01, val_accuracy=0.463]"
          ]
        },
        {
          "name": "stdout",
          "output_type": "stream",
          "text": [
            "472/472 [==============================] - 4s 8ms/step - loss: 1.0036 - accuracy: 0.4807 - val_loss: 1.0127 - val_accuracy: 0.4630\n",
            "Epoch 222/400\n",
            "468/472 [============================>.] - ETA: 0s - loss: 1.0023 - accuracy: 0.4813"
          ]
        },
        {
          "name": "stderr",
          "output_type": "stream",
          "text": [
            " 56%|█████▌    | 222/400 [14:04<11:01,  3.72s/epoch, loss=1, accuracy=0.481, val_loss=1.01, val_accuracy=0.464]"
          ]
        },
        {
          "name": "stdout",
          "output_type": "stream",
          "text": [
            "472/472 [==============================] - 4s 8ms/step - loss: 1.0021 - accuracy: 0.4814 - val_loss: 1.0124 - val_accuracy: 0.4637\n",
            "Epoch 223/400\n",
            "470/472 [============================>.] - ETA: 0s - loss: 1.0022 - accuracy: 0.4818"
          ]
        },
        {
          "name": "stderr",
          "output_type": "stream",
          "text": [
            " 56%|█████▌    | 223/400 [14:08<10:54,  3.70s/epoch, loss=1, accuracy=0.482, val_loss=1.01, val_accuracy=0.463]"
          ]
        },
        {
          "name": "stdout",
          "output_type": "stream",
          "text": [
            "472/472 [==============================] - 4s 8ms/step - loss: 1.0023 - accuracy: 0.4818 - val_loss: 1.0130 - val_accuracy: 0.4630\n",
            "Epoch 224/400\n",
            "469/472 [============================>.] - ETA: 0s - loss: 1.0026 - accuracy: 0.4797"
          ]
        },
        {
          "name": "stderr",
          "output_type": "stream",
          "text": [
            " 56%|█████▌    | 224/400 [14:11<10:51,  3.70s/epoch, loss=1, accuracy=0.48, val_loss=1.01, val_accuracy=0.463] "
          ]
        },
        {
          "name": "stdout",
          "output_type": "stream",
          "text": [
            "472/472 [==============================] - 4s 8ms/step - loss: 1.0025 - accuracy: 0.4797 - val_loss: 1.0127 - val_accuracy: 0.4626\n",
            "Epoch 225/400\n",
            "471/472 [============================>.] - ETA: 0s - loss: 1.0018 - accuracy: 0.4809"
          ]
        },
        {
          "name": "stderr",
          "output_type": "stream",
          "text": [
            " 56%|█████▋    | 225/400 [14:15<10:49,  3.71s/epoch, loss=1, accuracy=0.481, val_loss=1.01, val_accuracy=0.462]"
          ]
        },
        {
          "name": "stdout",
          "output_type": "stream",
          "text": [
            "472/472 [==============================] - 4s 8ms/step - loss: 1.0018 - accuracy: 0.4810 - val_loss: 1.0130 - val_accuracy: 0.4620\n",
            "Epoch 226/400\n",
            "468/472 [============================>.] - ETA: 0s - loss: 1.0015 - accuracy: 0.4849"
          ]
        },
        {
          "name": "stderr",
          "output_type": "stream",
          "text": [
            " 56%|█████▋    | 226/400 [14:19<10:46,  3.72s/epoch, loss=1, accuracy=0.485, val_loss=1.01, val_accuracy=0.461]"
          ]
        },
        {
          "name": "stdout",
          "output_type": "stream",
          "text": [
            "472/472 [==============================] - 4s 8ms/step - loss: 1.0016 - accuracy: 0.4848 - val_loss: 1.0131 - val_accuracy: 0.4610\n",
            "Epoch 227/400\n",
            "466/472 [============================>.] - ETA: 0s - loss: 1.0031 - accuracy: 0.4821"
          ]
        },
        {
          "name": "stderr",
          "output_type": "stream",
          "text": [
            " 57%|█████▋    | 227/400 [14:22<10:43,  3.72s/epoch, loss=1, accuracy=0.483, val_loss=1.01, val_accuracy=0.464]"
          ]
        },
        {
          "name": "stdout",
          "output_type": "stream",
          "text": [
            "472/472 [==============================] - 4s 8ms/step - loss: 1.0027 - accuracy: 0.4825 - val_loss: 1.0126 - val_accuracy: 0.4637\n",
            "Epoch 228/400\n",
            "470/472 [============================>.] - ETA: 0s - loss: 1.0025 - accuracy: 0.4829"
          ]
        },
        {
          "name": "stderr",
          "output_type": "stream",
          "text": [
            " 57%|█████▋    | 228/400 [14:26<10:39,  3.72s/epoch, loss=1, accuracy=0.483, val_loss=1.01, val_accuracy=0.462]"
          ]
        },
        {
          "name": "stdout",
          "output_type": "stream",
          "text": [
            "472/472 [==============================] - 4s 8ms/step - loss: 1.0025 - accuracy: 0.4830 - val_loss: 1.0135 - val_accuracy: 0.4618\n",
            "Epoch 229/400\n",
            "470/472 [============================>.] - ETA: 0s - loss: 1.0032 - accuracy: 0.4821"
          ]
        },
        {
          "name": "stderr",
          "output_type": "stream",
          "text": [
            " 57%|█████▋    | 229/400 [14:30<10:34,  3.71s/epoch, loss=1, accuracy=0.482, val_loss=1.01, val_accuracy=0.462]"
          ]
        },
        {
          "name": "stdout",
          "output_type": "stream",
          "text": [
            "472/472 [==============================] - 4s 8ms/step - loss: 1.0032 - accuracy: 0.4822 - val_loss: 1.0132 - val_accuracy: 0.4622\n",
            "Epoch 230/400\n",
            "469/472 [============================>.] - ETA: 0s - loss: 1.0024 - accuracy: 0.4807"
          ]
        },
        {
          "name": "stderr",
          "output_type": "stream",
          "text": [
            " 57%|█████▊    | 230/400 [14:34<10:30,  3.71s/epoch, loss=1, accuracy=0.481, val_loss=1.01, val_accuracy=0.461]"
          ]
        },
        {
          "name": "stdout",
          "output_type": "stream",
          "text": [
            "472/472 [==============================] - 4s 8ms/step - loss: 1.0022 - accuracy: 0.4809 - val_loss: 1.0130 - val_accuracy: 0.4614\n",
            "Epoch 231/400\n",
            "466/472 [============================>.] - ETA: 0s - loss: 1.0027 - accuracy: 0.4822"
          ]
        },
        {
          "name": "stderr",
          "output_type": "stream",
          "text": [
            " 58%|█████▊    | 231/400 [14:37<10:29,  3.72s/epoch, loss=1, accuracy=0.482, val_loss=1.01, val_accuracy=0.46] "
          ]
        },
        {
          "name": "stdout",
          "output_type": "stream",
          "text": [
            "472/472 [==============================] - 4s 8ms/step - loss: 1.0024 - accuracy: 0.4823 - val_loss: 1.0142 - val_accuracy: 0.4600\n",
            "Epoch 232/400\n",
            "472/472 [==============================] - ETA: 0s - loss: 1.0026 - accuracy: 0.4831"
          ]
        },
        {
          "name": "stderr",
          "output_type": "stream",
          "text": [
            " 58%|█████▊    | 232/400 [14:43<11:52,  4.24s/epoch, loss=1, accuracy=0.483, val_loss=1.01, val_accuracy=0.461]"
          ]
        },
        {
          "name": "stdout",
          "output_type": "stream",
          "text": [
            "472/472 [==============================] - 5s 12ms/step - loss: 1.0026 - accuracy: 0.4831 - val_loss: 1.0134 - val_accuracy: 0.4611\n",
            "Epoch 233/400\n",
            "472/472 [==============================] - ETA: 0s - loss: 1.0012 - accuracy: 0.4831"
          ]
        },
        {
          "name": "stderr",
          "output_type": "stream",
          "text": [
            " 58%|█████▊    | 233/400 [14:50<14:44,  5.30s/epoch, loss=1, accuracy=0.483, val_loss=1.01, val_accuracy=0.463]"
          ]
        },
        {
          "name": "stdout",
          "output_type": "stream",
          "text": [
            "472/472 [==============================] - 8s 16ms/step - loss: 1.0012 - accuracy: 0.4831 - val_loss: 1.0131 - val_accuracy: 0.4632\n",
            "Epoch 234/400\n",
            "466/472 [============================>.] - ETA: 0s - loss: 1.0014 - accuracy: 0.4829"
          ]
        },
        {
          "name": "stderr",
          "output_type": "stream",
          "text": [
            " 58%|█████▊    | 234/400 [14:55<14:13,  5.14s/epoch, loss=1, accuracy=0.483, val_loss=1.01, val_accuracy=0.463]"
          ]
        },
        {
          "name": "stdout",
          "output_type": "stream",
          "text": [
            "472/472 [==============================] - 5s 10ms/step - loss: 1.0016 - accuracy: 0.4826 - val_loss: 1.0129 - val_accuracy: 0.4628\n",
            "Epoch 235/400\n",
            "469/472 [============================>.] - ETA: 0s - loss: 1.0031 - accuracy: 0.4802"
          ]
        },
        {
          "name": "stderr",
          "output_type": "stream",
          "text": [
            " 59%|█████▉    | 235/400 [14:59<13:06,  4.77s/epoch, loss=1, accuracy=0.48, val_loss=1.01, val_accuracy=0.463] "
          ]
        },
        {
          "name": "stdout",
          "output_type": "stream",
          "text": [
            "472/472 [==============================] - 4s 8ms/step - loss: 1.0031 - accuracy: 0.4801 - val_loss: 1.0129 - val_accuracy: 0.4631\n",
            "Epoch 236/400\n",
            "470/472 [============================>.] - ETA: 0s - loss: 1.0027 - accuracy: 0.4821"
          ]
        },
        {
          "name": "stderr",
          "output_type": "stream",
          "text": [
            " 59%|█████▉    | 236/400 [15:03<12:32,  4.59s/epoch, loss=1, accuracy=0.482, val_loss=1.01, val_accuracy=0.464]"
          ]
        },
        {
          "name": "stdout",
          "output_type": "stream",
          "text": [
            "472/472 [==============================] - 4s 9ms/step - loss: 1.0026 - accuracy: 0.4820 - val_loss: 1.0133 - val_accuracy: 0.4636\n",
            "Epoch 237/400\n",
            "469/472 [============================>.] - ETA: 0s - loss: 1.0026 - accuracy: 0.4779"
          ]
        },
        {
          "name": "stderr",
          "output_type": "stream",
          "text": [
            " 59%|█████▉    | 237/400 [15:07<11:46,  4.33s/epoch, loss=1, accuracy=0.478, val_loss=1.01, val_accuracy=0.463]"
          ]
        },
        {
          "name": "stdout",
          "output_type": "stream",
          "text": [
            "472/472 [==============================] - 4s 8ms/step - loss: 1.0023 - accuracy: 0.4781 - val_loss: 1.0132 - val_accuracy: 0.4625\n",
            "Epoch 238/400\n",
            "471/472 [============================>.] - ETA: 0s - loss: 1.0017 - accuracy: 0.4813"
          ]
        },
        {
          "name": "stderr",
          "output_type": "stream",
          "text": [
            " 60%|█████▉    | 238/400 [15:11<11:11,  4.15s/epoch, loss=1, accuracy=0.481, val_loss=1.01, val_accuracy=0.465]"
          ]
        },
        {
          "name": "stdout",
          "output_type": "stream",
          "text": [
            "472/472 [==============================] - 4s 8ms/step - loss: 1.0016 - accuracy: 0.4814 - val_loss: 1.0127 - val_accuracy: 0.4648\n",
            "Epoch 239/400\n",
            "471/472 [============================>.] - ETA: 0s - loss: 1.0015 - accuracy: 0.4846"
          ]
        },
        {
          "name": "stderr",
          "output_type": "stream",
          "text": [
            " 60%|█████▉    | 239/400 [15:15<10:47,  4.02s/epoch, loss=1, accuracy=0.485, val_loss=1.01, val_accuracy=0.462]"
          ]
        },
        {
          "name": "stdout",
          "output_type": "stream",
          "text": [
            "472/472 [==============================] - 4s 8ms/step - loss: 1.0015 - accuracy: 0.4846 - val_loss: 1.0139 - val_accuracy: 0.4620\n",
            "Epoch 240/400\n",
            "466/472 [============================>.] - ETA: 0s - loss: 1.0014 - accuracy: 0.4830"
          ]
        },
        {
          "name": "stderr",
          "output_type": "stream",
          "text": [
            " 60%|██████    | 240/400 [15:18<10:29,  3.93s/epoch, loss=1, accuracy=0.483, val_loss=1.01, val_accuracy=0.463]"
          ]
        },
        {
          "name": "stdout",
          "output_type": "stream",
          "text": [
            "472/472 [==============================] - 4s 8ms/step - loss: 1.0016 - accuracy: 0.4827 - val_loss: 1.0143 - val_accuracy: 0.4626\n",
            "Epoch 241/400\n",
            "467/472 [============================>.] - ETA: 0s - loss: 1.0024 - accuracy: 0.4816"
          ]
        },
        {
          "name": "stderr",
          "output_type": "stream",
          "text": [
            " 60%|██████    | 241/400 [15:22<10:14,  3.87s/epoch, loss=1, accuracy=0.482, val_loss=1.01, val_accuracy=0.461]"
          ]
        },
        {
          "name": "stdout",
          "output_type": "stream",
          "text": [
            "472/472 [==============================] - 4s 8ms/step - loss: 1.0027 - accuracy: 0.4815 - val_loss: 1.0143 - val_accuracy: 0.4605\n",
            "Epoch 242/400\n",
            "472/472 [==============================] - ETA: 0s - loss: 1.0014 - accuracy: 0.4827"
          ]
        },
        {
          "name": "stderr",
          "output_type": "stream",
          "text": [
            " 60%|██████    | 242/400 [15:26<10:02,  3.81s/epoch, loss=1, accuracy=0.483, val_loss=1.01, val_accuracy=0.462]"
          ]
        },
        {
          "name": "stdout",
          "output_type": "stream",
          "text": [
            "472/472 [==============================] - 4s 8ms/step - loss: 1.0014 - accuracy: 0.4827 - val_loss: 1.0131 - val_accuracy: 0.4624\n",
            "Epoch 243/400\n",
            "467/472 [============================>.] - ETA: 0s - loss: 1.0016 - accuracy: 0.4830"
          ]
        },
        {
          "name": "stderr",
          "output_type": "stream",
          "text": [
            " 61%|██████    | 243/400 [15:29<09:54,  3.79s/epoch, loss=1, accuracy=0.483, val_loss=1.01, val_accuracy=0.462]"
          ]
        },
        {
          "name": "stdout",
          "output_type": "stream",
          "text": [
            "472/472 [==============================] - 4s 8ms/step - loss: 1.0016 - accuracy: 0.4833 - val_loss: 1.0131 - val_accuracy: 0.4623\n",
            "Epoch 244/400\n",
            "467/472 [============================>.] - ETA: 0s - loss: 1.0005 - accuracy: 0.4850"
          ]
        },
        {
          "name": "stderr",
          "output_type": "stream",
          "text": [
            " 61%|██████    | 244/400 [15:33<09:46,  3.76s/epoch, loss=1, accuracy=0.485, val_loss=1.01, val_accuracy=0.462]"
          ]
        },
        {
          "name": "stdout",
          "output_type": "stream",
          "text": [
            "472/472 [==============================] - 4s 8ms/step - loss: 1.0008 - accuracy: 0.4849 - val_loss: 1.0132 - val_accuracy: 0.4623\n",
            "Epoch 245/400\n",
            "471/472 [============================>.] - ETA: 0s - loss: 1.0016 - accuracy: 0.4810"
          ]
        },
        {
          "name": "stderr",
          "output_type": "stream",
          "text": [
            " 61%|██████▏   | 245/400 [15:37<09:40,  3.75s/epoch, loss=1, accuracy=0.481, val_loss=1.01, val_accuracy=0.465]"
          ]
        },
        {
          "name": "stdout",
          "output_type": "stream",
          "text": [
            "472/472 [==============================] - 4s 8ms/step - loss: 1.0016 - accuracy: 0.4810 - val_loss: 1.0127 - val_accuracy: 0.4647\n",
            "Epoch 246/400\n",
            "469/472 [============================>.] - ETA: 0s - loss: 1.0011 - accuracy: 0.4837"
          ]
        },
        {
          "name": "stderr",
          "output_type": "stream",
          "text": [
            " 62%|██████▏   | 246/400 [15:41<09:38,  3.76s/epoch, loss=1, accuracy=0.484, val_loss=1.01, val_accuracy=0.462]"
          ]
        },
        {
          "name": "stdout",
          "output_type": "stream",
          "text": [
            "472/472 [==============================] - 4s 8ms/step - loss: 1.0011 - accuracy: 0.4836 - val_loss: 1.0146 - val_accuracy: 0.4618\n",
            "Epoch 247/400\n",
            "471/472 [============================>.] - ETA: 0s - loss: 1.0011 - accuracy: 0.4841"
          ]
        },
        {
          "name": "stderr",
          "output_type": "stream",
          "text": [
            " 62%|██████▏   | 247/400 [15:44<09:36,  3.77s/epoch, loss=1, accuracy=0.484, val_loss=1.01, val_accuracy=0.461]"
          ]
        },
        {
          "name": "stdout",
          "output_type": "stream",
          "text": [
            "472/472 [==============================] - 4s 8ms/step - loss: 1.0011 - accuracy: 0.4841 - val_loss: 1.0134 - val_accuracy: 0.4605\n",
            "Epoch 248/400\n",
            "472/472 [==============================] - ETA: 0s - loss: 1.0012 - accuracy: 0.4832"
          ]
        },
        {
          "name": "stderr",
          "output_type": "stream",
          "text": [
            " 62%|██████▏   | 248/400 [15:48<09:37,  3.80s/epoch, loss=1, accuracy=0.483, val_loss=1.01, val_accuracy=0.462]"
          ]
        },
        {
          "name": "stdout",
          "output_type": "stream",
          "text": [
            "472/472 [==============================] - 4s 8ms/step - loss: 1.0012 - accuracy: 0.4832 - val_loss: 1.0133 - val_accuracy: 0.4618\n",
            "Epoch 249/400\n",
            "468/472 [============================>.] - ETA: 0s - loss: 1.0008 - accuracy: 0.4815"
          ]
        },
        {
          "name": "stderr",
          "output_type": "stream",
          "text": [
            " 62%|██████▏   | 249/400 [15:52<09:32,  3.79s/epoch, loss=1, accuracy=0.482, val_loss=1.01, val_accuracy=0.46] "
          ]
        },
        {
          "name": "stdout",
          "output_type": "stream",
          "text": [
            "472/472 [==============================] - 4s 8ms/step - loss: 1.0007 - accuracy: 0.4816 - val_loss: 1.0139 - val_accuracy: 0.4601\n",
            "Epoch 250/400\n",
            "472/472 [==============================] - ETA: 0s - loss: 1.0016 - accuracy: 0.4843"
          ]
        },
        {
          "name": "stderr",
          "output_type": "stream",
          "text": [
            " 62%|██████▎   | 250/400 [15:56<09:21,  3.74s/epoch, loss=1, accuracy=0.484, val_loss=1.01, val_accuracy=0.461]"
          ]
        },
        {
          "name": "stdout",
          "output_type": "stream",
          "text": [
            "472/472 [==============================] - 4s 8ms/step - loss: 1.0016 - accuracy: 0.4843 - val_loss: 1.0139 - val_accuracy: 0.4610\n",
            "Epoch 251/400\n",
            "470/472 [============================>.] - ETA: 0s - loss: 1.0008 - accuracy: 0.4835"
          ]
        },
        {
          "name": "stderr",
          "output_type": "stream",
          "text": [
            " 63%|██████▎   | 251/400 [15:59<09:13,  3.72s/epoch, loss=1, accuracy=0.483, val_loss=1.01, val_accuracy=0.461]"
          ]
        },
        {
          "name": "stdout",
          "output_type": "stream",
          "text": [
            "472/472 [==============================] - 4s 8ms/step - loss: 1.0009 - accuracy: 0.4832 - val_loss: 1.0143 - val_accuracy: 0.4605\n",
            "Epoch 252/400\n",
            "471/472 [============================>.] - ETA: 0s - loss: 1.0004 - accuracy: 0.4843"
          ]
        },
        {
          "name": "stderr",
          "output_type": "stream",
          "text": [
            " 63%|██████▎   | 252/400 [16:03<09:06,  3.69s/epoch, loss=1, accuracy=0.484, val_loss=1.01, val_accuracy=0.462]"
          ]
        },
        {
          "name": "stdout",
          "output_type": "stream",
          "text": [
            "472/472 [==============================] - 4s 8ms/step - loss: 1.0005 - accuracy: 0.4841 - val_loss: 1.0135 - val_accuracy: 0.4616\n",
            "Epoch 253/400\n",
            "471/472 [============================>.] - ETA: 0s - loss: 1.0007 - accuracy: 0.4839"
          ]
        },
        {
          "name": "stderr",
          "output_type": "stream",
          "text": [
            " 63%|██████▎   | 253/400 [16:07<09:04,  3.70s/epoch, loss=1, accuracy=0.484, val_loss=1.01, val_accuracy=0.462]"
          ]
        },
        {
          "name": "stdout",
          "output_type": "stream",
          "text": [
            "472/472 [==============================] - 4s 8ms/step - loss: 1.0007 - accuracy: 0.4839 - val_loss: 1.0149 - val_accuracy: 0.4617\n",
            "Epoch 254/400\n",
            "467/472 [============================>.] - ETA: 0s - loss: 1.0020 - accuracy: 0.4822"
          ]
        },
        {
          "name": "stderr",
          "output_type": "stream",
          "text": [
            " 64%|██████▎   | 254/400 [16:10<09:05,  3.74s/epoch, loss=1, accuracy=0.482, val_loss=1.01, val_accuracy=0.46] "
          ]
        },
        {
          "name": "stdout",
          "output_type": "stream",
          "text": [
            "472/472 [==============================] - 4s 8ms/step - loss: 1.0019 - accuracy: 0.4824 - val_loss: 1.0140 - val_accuracy: 0.4601\n",
            "Epoch 255/400\n",
            "471/472 [============================>.] - ETA: 0s - loss: 1.0007 - accuracy: 0.4828"
          ]
        },
        {
          "name": "stderr",
          "output_type": "stream",
          "text": [
            " 64%|██████▍   | 255/400 [16:14<08:48,  3.64s/epoch, loss=1, accuracy=0.483, val_loss=1.01, val_accuracy=0.464]"
          ]
        },
        {
          "name": "stdout",
          "output_type": "stream",
          "text": [
            "472/472 [==============================] - 3s 7ms/step - loss: 1.0008 - accuracy: 0.4828 - val_loss: 1.0130 - val_accuracy: 0.4635\n",
            "Epoch 256/400\n",
            "469/472 [============================>.] - ETA: 0s - loss: 1.0006 - accuracy: 0.4829"
          ]
        },
        {
          "name": "stderr",
          "output_type": "stream",
          "text": [
            " 64%|██████▍   | 256/400 [16:18<08:50,  3.68s/epoch, loss=1, accuracy=0.483, val_loss=1.01, val_accuracy=0.462]"
          ]
        },
        {
          "name": "stdout",
          "output_type": "stream",
          "text": [
            "472/472 [==============================] - 4s 8ms/step - loss: 1.0009 - accuracy: 0.4826 - val_loss: 1.0132 - val_accuracy: 0.4623\n",
            "Epoch 257/400\n",
            "466/472 [============================>.] - ETA: 0s - loss: 1.0004 - accuracy: 0.4843"
          ]
        },
        {
          "name": "stderr",
          "output_type": "stream",
          "text": [
            " 64%|██████▍   | 257/400 [16:21<08:51,  3.72s/epoch, loss=1, accuracy=0.484, val_loss=1.01, val_accuracy=0.462]"
          ]
        },
        {
          "name": "stdout",
          "output_type": "stream",
          "text": [
            "472/472 [==============================] - 4s 8ms/step - loss: 1.0001 - accuracy: 0.4844 - val_loss: 1.0140 - val_accuracy: 0.4620\n",
            "Epoch 258/400\n",
            "470/472 [============================>.] - ETA: 0s - loss: 1.0000 - accuracy: 0.4843"
          ]
        },
        {
          "name": "stderr",
          "output_type": "stream",
          "text": [
            " 64%|██████▍   | 258/400 [16:25<08:45,  3.70s/epoch, loss=1, accuracy=0.484, val_loss=1.01, val_accuracy=0.462]"
          ]
        },
        {
          "name": "stdout",
          "output_type": "stream",
          "text": [
            "472/472 [==============================] - 4s 8ms/step - loss: 1.0001 - accuracy: 0.4842 - val_loss: 1.0141 - val_accuracy: 0.4618\n",
            "Epoch 259/400\n",
            "470/472 [============================>.] - ETA: 0s - loss: 0.9992 - accuracy: 0.4851"
          ]
        },
        {
          "name": "stderr",
          "output_type": "stream",
          "text": [
            " 65%|██████▍   | 259/400 [16:29<08:39,  3.69s/epoch, loss=0.999, accuracy=0.485, val_loss=1.01, val_accuracy=0.464]"
          ]
        },
        {
          "name": "stdout",
          "output_type": "stream",
          "text": [
            "472/472 [==============================] - 4s 8ms/step - loss: 0.9991 - accuracy: 0.4851 - val_loss: 1.0134 - val_accuracy: 0.4640\n",
            "Epoch 260/400\n",
            "467/472 [============================>.] - ETA: 0s - loss: 0.9998 - accuracy: 0.4841"
          ]
        },
        {
          "name": "stderr",
          "output_type": "stream",
          "text": [
            " 65%|██████▌   | 260/400 [16:32<08:34,  3.68s/epoch, loss=1, accuracy=0.484, val_loss=1.01, val_accuracy=0.462]    "
          ]
        },
        {
          "name": "stdout",
          "output_type": "stream",
          "text": [
            "472/472 [==============================] - 4s 8ms/step - loss: 0.9996 - accuracy: 0.4845 - val_loss: 1.0139 - val_accuracy: 0.4620\n",
            "Epoch 261/400\n",
            "465/472 [============================>.] - ETA: 0s - loss: 0.9993 - accuracy: 0.4839"
          ]
        },
        {
          "name": "stderr",
          "output_type": "stream",
          "text": [
            " 65%|██████▌   | 261/400 [16:36<08:28,  3.66s/epoch, loss=0.999, accuracy=0.484, val_loss=1.01, val_accuracy=0.462]"
          ]
        },
        {
          "name": "stdout",
          "output_type": "stream",
          "text": [
            "472/472 [==============================] - 4s 8ms/step - loss: 0.9992 - accuracy: 0.4839 - val_loss: 1.0138 - val_accuracy: 0.4623\n",
            "Epoch 262/400\n",
            "470/472 [============================>.] - ETA: 0s - loss: 0.9992 - accuracy: 0.4854"
          ]
        },
        {
          "name": "stderr",
          "output_type": "stream",
          "text": [
            " 66%|██████▌   | 262/400 [16:40<08:24,  3.66s/epoch, loss=0.999, accuracy=0.486, val_loss=1.01, val_accuracy=0.463]"
          ]
        },
        {
          "name": "stdout",
          "output_type": "stream",
          "text": [
            "472/472 [==============================] - 4s 8ms/step - loss: 0.9993 - accuracy: 0.4855 - val_loss: 1.0137 - val_accuracy: 0.4626\n",
            "Epoch 263/400\n",
            "465/472 [============================>.] - ETA: 0s - loss: 1.0007 - accuracy: 0.4819"
          ]
        },
        {
          "name": "stderr",
          "output_type": "stream",
          "text": [
            " 66%|██████▌   | 263/400 [16:43<08:23,  3.67s/epoch, loss=1, accuracy=0.482, val_loss=1.01, val_accuracy=0.461]    "
          ]
        },
        {
          "name": "stdout",
          "output_type": "stream",
          "text": [
            "472/472 [==============================] - 4s 8ms/step - loss: 1.0006 - accuracy: 0.4821 - val_loss: 1.0148 - val_accuracy: 0.4612\n",
            "Epoch 264/400\n",
            "472/472 [==============================] - ETA: 0s - loss: 1.0004 - accuracy: 0.4860"
          ]
        },
        {
          "name": "stderr",
          "output_type": "stream",
          "text": [
            " 66%|██████▌   | 264/400 [16:47<08:18,  3.67s/epoch, loss=1, accuracy=0.486, val_loss=1.01, val_accuracy=0.462]"
          ]
        },
        {
          "name": "stdout",
          "output_type": "stream",
          "text": [
            "472/472 [==============================] - 4s 8ms/step - loss: 1.0004 - accuracy: 0.4860 - val_loss: 1.0142 - val_accuracy: 0.4615\n",
            "Epoch 265/400\n",
            "471/472 [============================>.] - ETA: 0s - loss: 0.9994 - accuracy: 0.4829"
          ]
        },
        {
          "name": "stderr",
          "output_type": "stream",
          "text": [
            " 66%|██████▋   | 265/400 [16:51<08:13,  3.66s/epoch, loss=0.999, accuracy=0.483, val_loss=1.01, val_accuracy=0.461]"
          ]
        },
        {
          "name": "stdout",
          "output_type": "stream",
          "text": [
            "472/472 [==============================] - 4s 8ms/step - loss: 0.9994 - accuracy: 0.4828 - val_loss: 1.0146 - val_accuracy: 0.4609\n",
            "Epoch 266/400\n",
            "465/472 [============================>.] - ETA: 0s - loss: 0.9999 - accuracy: 0.4828"
          ]
        },
        {
          "name": "stderr",
          "output_type": "stream",
          "text": [
            " 66%|██████▋   | 266/400 [16:54<08:14,  3.69s/epoch, loss=1, accuracy=0.483, val_loss=1.01, val_accuracy=0.463]    "
          ]
        },
        {
          "name": "stdout",
          "output_type": "stream",
          "text": [
            "472/472 [==============================] - 4s 8ms/step - loss: 1.0000 - accuracy: 0.4829 - val_loss: 1.0143 - val_accuracy: 0.4634\n",
            "Epoch 267/400\n",
            "467/472 [============================>.] - ETA: 0s - loss: 0.9999 - accuracy: 0.4810"
          ]
        },
        {
          "name": "stderr",
          "output_type": "stream",
          "text": [
            " 67%|██████▋   | 267/400 [16:58<08:11,  3.70s/epoch, loss=1, accuracy=0.481, val_loss=1.01, val_accuracy=0.463]"
          ]
        },
        {
          "name": "stdout",
          "output_type": "stream",
          "text": [
            "472/472 [==============================] - 4s 8ms/step - loss: 0.9997 - accuracy: 0.4812 - val_loss: 1.0137 - val_accuracy: 0.4630\n",
            "Epoch 268/400\n",
            "465/472 [============================>.] - ETA: 0s - loss: 1.0001 - accuracy: 0.4838"
          ]
        },
        {
          "name": "stderr",
          "output_type": "stream",
          "text": [
            " 67%|██████▋   | 268/400 [17:02<08:09,  3.71s/epoch, loss=1, accuracy=0.484, val_loss=1.01, val_accuracy=0.462]"
          ]
        },
        {
          "name": "stdout",
          "output_type": "stream",
          "text": [
            "472/472 [==============================] - 4s 8ms/step - loss: 1.0002 - accuracy: 0.4837 - val_loss: 1.0137 - val_accuracy: 0.4623\n",
            "Epoch 269/400\n",
            "470/472 [============================>.] - ETA: 0s - loss: 0.9994 - accuracy: 0.4839"
          ]
        },
        {
          "name": "stderr",
          "output_type": "stream",
          "text": [
            " 67%|██████▋   | 269/400 [17:06<08:04,  3.70s/epoch, loss=0.999, accuracy=0.484, val_loss=1.01, val_accuracy=0.461]"
          ]
        },
        {
          "name": "stdout",
          "output_type": "stream",
          "text": [
            "472/472 [==============================] - 4s 8ms/step - loss: 0.9993 - accuracy: 0.4841 - val_loss: 1.0147 - val_accuracy: 0.4610\n",
            "Epoch 270/400\n",
            "471/472 [============================>.] - ETA: 0s - loss: 0.9993 - accuracy: 0.4833"
          ]
        },
        {
          "name": "stderr",
          "output_type": "stream",
          "text": [
            " 68%|██████▊   | 270/400 [17:09<07:59,  3.69s/epoch, loss=0.999, accuracy=0.483, val_loss=1.02, val_accuracy=0.462]"
          ]
        },
        {
          "name": "stdout",
          "output_type": "stream",
          "text": [
            "472/472 [==============================] - 4s 8ms/step - loss: 0.9992 - accuracy: 0.4834 - val_loss: 1.0158 - val_accuracy: 0.4620\n",
            "Epoch 271/400\n",
            "467/472 [============================>.] - ETA: 0s - loss: 0.9998 - accuracy: 0.4865"
          ]
        },
        {
          "name": "stderr",
          "output_type": "stream",
          "text": [
            " 68%|██████▊   | 271/400 [17:13<07:55,  3.69s/epoch, loss=1, accuracy=0.487, val_loss=1.01, val_accuracy=0.462]    "
          ]
        },
        {
          "name": "stdout",
          "output_type": "stream",
          "text": [
            "472/472 [==============================] - 4s 8ms/step - loss: 0.9996 - accuracy: 0.4867 - val_loss: 1.0139 - val_accuracy: 0.4622\n",
            "Epoch 272/400\n",
            "469/472 [============================>.] - ETA: 0s - loss: 0.9994 - accuracy: 0.4824"
          ]
        },
        {
          "name": "stderr",
          "output_type": "stream",
          "text": [
            " 68%|██████▊   | 272/400 [17:17<07:51,  3.69s/epoch, loss=1, accuracy=0.482, val_loss=1.01, val_accuracy=0.462]"
          ]
        },
        {
          "name": "stdout",
          "output_type": "stream",
          "text": [
            "472/472 [==============================] - 4s 8ms/step - loss: 0.9996 - accuracy: 0.4824 - val_loss: 1.0142 - val_accuracy: 0.4616\n",
            "Epoch 273/400\n",
            "467/472 [============================>.] - ETA: 0s - loss: 0.9999 - accuracy: 0.4818"
          ]
        },
        {
          "name": "stderr",
          "output_type": "stream",
          "text": [
            " 68%|██████▊   | 273/400 [17:20<07:47,  3.68s/epoch, loss=1, accuracy=0.482, val_loss=1.01, val_accuracy=0.461]"
          ]
        },
        {
          "name": "stdout",
          "output_type": "stream",
          "text": [
            "472/472 [==============================] - 4s 8ms/step - loss: 0.9998 - accuracy: 0.4821 - val_loss: 1.0148 - val_accuracy: 0.4609\n",
            "Epoch 274/400\n",
            "466/472 [============================>.] - ETA: 0s - loss: 0.9990 - accuracy: 0.4844"
          ]
        },
        {
          "name": "stderr",
          "output_type": "stream",
          "text": [
            " 68%|██████▊   | 274/400 [17:24<07:44,  3.69s/epoch, loss=0.999, accuracy=0.484, val_loss=1.01, val_accuracy=0.461]"
          ]
        },
        {
          "name": "stdout",
          "output_type": "stream",
          "text": [
            "472/472 [==============================] - 4s 8ms/step - loss: 0.9989 - accuracy: 0.4843 - val_loss: 1.0139 - val_accuracy: 0.4612\n",
            "Epoch 275/400\n",
            "468/472 [============================>.] - ETA: 0s - loss: 0.9987 - accuracy: 0.4854"
          ]
        },
        {
          "name": "stderr",
          "output_type": "stream",
          "text": [
            " 69%|██████▉   | 275/400 [17:28<07:41,  3.69s/epoch, loss=0.999, accuracy=0.485, val_loss=1.01, val_accuracy=0.46] "
          ]
        },
        {
          "name": "stdout",
          "output_type": "stream",
          "text": [
            "472/472 [==============================] - 4s 8ms/step - loss: 0.9987 - accuracy: 0.4854 - val_loss: 1.0149 - val_accuracy: 0.4603\n",
            "Epoch 276/400\n",
            "469/472 [============================>.] - ETA: 0s - loss: 0.9973 - accuracy: 0.4861"
          ]
        },
        {
          "name": "stderr",
          "output_type": "stream",
          "text": [
            " 69%|██████▉   | 276/400 [17:32<08:06,  3.93s/epoch, loss=0.998, accuracy=0.486, val_loss=1.01, val_accuracy=0.461]"
          ]
        },
        {
          "name": "stdout",
          "output_type": "stream",
          "text": [
            "472/472 [==============================] - 4s 10ms/step - loss: 0.9975 - accuracy: 0.4860 - val_loss: 1.0142 - val_accuracy: 0.4608\n",
            "Epoch 277/400\n",
            "469/472 [============================>.] - ETA: 0s - loss: 0.9990 - accuracy: 0.4868"
          ]
        },
        {
          "name": "stderr",
          "output_type": "stream",
          "text": [
            " 69%|██████▉   | 277/400 [17:40<10:25,  5.08s/epoch, loss=0.999, accuracy=0.487, val_loss=1.01, val_accuracy=0.462]"
          ]
        },
        {
          "name": "stdout",
          "output_type": "stream",
          "text": [
            "472/472 [==============================] - 8s 16ms/step - loss: 0.9990 - accuracy: 0.4870 - val_loss: 1.0142 - val_accuracy: 0.4619\n",
            "Epoch 278/400\n",
            "467/472 [============================>.] - ETA: 0s - loss: 1.0000 - accuracy: 0.4860"
          ]
        },
        {
          "name": "stderr",
          "output_type": "stream",
          "text": [
            " 70%|██████▉   | 278/400 [17:45<10:33,  5.19s/epoch, loss=1, accuracy=0.486, val_loss=1.01, val_accuracy=0.462]    "
          ]
        },
        {
          "name": "stdout",
          "output_type": "stream",
          "text": [
            "472/472 [==============================] - 5s 11ms/step - loss: 1.0000 - accuracy: 0.4862 - val_loss: 1.0139 - val_accuracy: 0.4618\n",
            "Epoch 279/400\n",
            "466/472 [============================>.] - ETA: 0s - loss: 0.9999 - accuracy: 0.4848"
          ]
        },
        {
          "name": "stderr",
          "output_type": "stream",
          "text": [
            " 70%|██████▉   | 279/400 [17:49<09:23,  4.66s/epoch, loss=1, accuracy=0.485, val_loss=1.01, val_accuracy=0.461]"
          ]
        },
        {
          "name": "stdout",
          "output_type": "stream",
          "text": [
            "472/472 [==============================] - 3s 7ms/step - loss: 0.9999 - accuracy: 0.4850 - val_loss: 1.0149 - val_accuracy: 0.4610\n",
            "Epoch 280/400\n",
            "465/472 [============================>.] - ETA: 0s - loss: 0.9999 - accuracy: 0.4860"
          ]
        },
        {
          "name": "stderr",
          "output_type": "stream",
          "text": [
            " 70%|███████   | 280/400 [17:52<08:41,  4.35s/epoch, loss=1, accuracy=0.486, val_loss=1.02, val_accuracy=0.459]"
          ]
        },
        {
          "name": "stdout",
          "output_type": "stream",
          "text": [
            "472/472 [==============================] - 4s 8ms/step - loss: 1.0000 - accuracy: 0.4860 - val_loss: 1.0158 - val_accuracy: 0.4593\n",
            "Epoch 281/400\n",
            "469/472 [============================>.] - ETA: 0s - loss: 0.9994 - accuracy: 0.4837"
          ]
        },
        {
          "name": "stderr",
          "output_type": "stream",
          "text": [
            " 70%|███████   | 281/400 [17:56<08:06,  4.09s/epoch, loss=0.999, accuracy=0.484, val_loss=1.01, val_accuracy=0.461]"
          ]
        },
        {
          "name": "stdout",
          "output_type": "stream",
          "text": [
            "472/472 [==============================] - 3s 7ms/step - loss: 0.9994 - accuracy: 0.4838 - val_loss: 1.0142 - val_accuracy: 0.4614\n",
            "Epoch 282/400\n",
            "467/472 [============================>.] - ETA: 0s - loss: 0.9986 - accuracy: 0.4836"
          ]
        },
        {
          "name": "stderr",
          "output_type": "stream",
          "text": [
            " 70%|███████   | 282/400 [18:00<07:44,  3.94s/epoch, loss=0.999, accuracy=0.483, val_loss=1.01, val_accuracy=0.458]"
          ]
        },
        {
          "name": "stdout",
          "output_type": "stream",
          "text": [
            "472/472 [==============================] - 4s 8ms/step - loss: 0.9988 - accuracy: 0.4833 - val_loss: 1.0150 - val_accuracy: 0.4584\n",
            "Epoch 283/400\n",
            "371/472 [======================>.......] - ETA: 0s - loss: 0.9993 - accuracy: 0.4876"
          ]
        },
        {
          "ename": "KeyboardInterrupt",
          "evalue": "",
          "output_type": "error",
          "traceback": [
            "\u001b[1;31m---------------------------------------------------------------------------\u001b[0m",
            "\u001b[1;31mKeyboardInterrupt\u001b[0m                         Traceback (most recent call last)",
            "\u001b[1;32mc:\\Users\\Johannes\\Desktop\\PythonProjects\\QuantShit\\python-crypto-ai\\model4\\modelTrainPreClassified_4.ipynb Cell 33\u001b[0m line \u001b[0;36m8\n\u001b[0;32m     <a href='vscode-notebook-cell:/c%3A/Users/Johannes/Desktop/PythonProjects/QuantShit/python-crypto-ai/model4/modelTrainPreClassified_4.ipynb#X44sZmlsZQ%3D%3D?line=82'>83</a>\u001b[0m     json\u001b[39m.\u001b[39mdump(data, json_file, indent\u001b[39m=\u001b[39m\u001b[39m4\u001b[39m)\n\u001b[0;32m     <a href='vscode-notebook-cell:/c%3A/Users/Johannes/Desktop/PythonProjects/QuantShit/python-crypto-ai/model4/modelTrainPreClassified_4.ipynb#X44sZmlsZQ%3D%3D?line=87'>88</a>\u001b[0m \u001b[39m# train\u001b[39;00m\n\u001b[1;32m---> <a href='vscode-notebook-cell:/c%3A/Users/Johannes/Desktop/PythonProjects/QuantShit/python-crypto-ai/model4/modelTrainPreClassified_4.ipynb#X44sZmlsZQ%3D%3D?line=88'>89</a>\u001b[0m history \u001b[39m=\u001b[39m model\u001b[39m.\u001b[39;49mfit(\n\u001b[0;32m     <a href='vscode-notebook-cell:/c%3A/Users/Johannes/Desktop/PythonProjects/QuantShit/python-crypto-ai/model4/modelTrainPreClassified_4.ipynb#X44sZmlsZQ%3D%3D?line=89'>90</a>\u001b[0m   train_x, train_y,\n\u001b[0;32m     <a href='vscode-notebook-cell:/c%3A/Users/Johannes/Desktop/PythonProjects/QuantShit/python-crypto-ai/model4/modelTrainPreClassified_4.ipynb#X44sZmlsZQ%3D%3D?line=90'>91</a>\u001b[0m   batch_size \u001b[39m=\u001b[39;49m batchSize,\n\u001b[0;32m     <a href='vscode-notebook-cell:/c%3A/Users/Johannes/Desktop/PythonProjects/QuantShit/python-crypto-ai/model4/modelTrainPreClassified_4.ipynb#X44sZmlsZQ%3D%3D?line=91'>92</a>\u001b[0m   epochs \u001b[39m=\u001b[39;49m EPOCHS,\n\u001b[0;32m     <a href='vscode-notebook-cell:/c%3A/Users/Johannes/Desktop/PythonProjects/QuantShit/python-crypto-ai/model4/modelTrainPreClassified_4.ipynb#X44sZmlsZQ%3D%3D?line=92'>93</a>\u001b[0m   validation_data\u001b[39m=\u001b[39;49m(validation_x, validation_y),\n\u001b[0;32m     <a href='vscode-notebook-cell:/c%3A/Users/Johannes/Desktop/PythonProjects/QuantShit/python-crypto-ai/model4/modelTrainPreClassified_4.ipynb#X44sZmlsZQ%3D%3D?line=93'>94</a>\u001b[0m   callbacks\u001b[39m=\u001b[39;49m[checkpoint, TqdmCallback(verbose\u001b[39m=\u001b[39;49m\u001b[39m0\u001b[39;49m), tensorboard_callback])\n\u001b[0;32m     <a href='vscode-notebook-cell:/c%3A/Users/Johannes/Desktop/PythonProjects/QuantShit/python-crypto-ai/model4/modelTrainPreClassified_4.ipynb#X44sZmlsZQ%3D%3D?line=94'>95</a>\u001b[0m   \u001b[39m#callbacks=[checkpoint])\u001b[39;00m\n",
            "File \u001b[1;32mc:\\Users\\Johannes\\miniconda3\\envs\\Quant\\lib\\site-packages\\keras\\utils\\traceback_utils.py:65\u001b[0m, in \u001b[0;36mfilter_traceback.<locals>.error_handler\u001b[1;34m(*args, **kwargs)\u001b[0m\n\u001b[0;32m     63\u001b[0m filtered_tb \u001b[39m=\u001b[39m \u001b[39mNone\u001b[39;00m\n\u001b[0;32m     64\u001b[0m \u001b[39mtry\u001b[39;00m:\n\u001b[1;32m---> 65\u001b[0m     \u001b[39mreturn\u001b[39;00m fn(\u001b[39m*\u001b[39margs, \u001b[39m*\u001b[39m\u001b[39m*\u001b[39mkwargs)\n\u001b[0;32m     66\u001b[0m \u001b[39mexcept\u001b[39;00m \u001b[39mException\u001b[39;00m \u001b[39mas\u001b[39;00m e:\n\u001b[0;32m     67\u001b[0m     filtered_tb \u001b[39m=\u001b[39m _process_traceback_frames(e\u001b[39m.\u001b[39m__traceback__)\n",
            "File \u001b[1;32mc:\\Users\\Johannes\\miniconda3\\envs\\Quant\\lib\\site-packages\\keras\\engine\\training.py:1564\u001b[0m, in \u001b[0;36mModel.fit\u001b[1;34m(self, x, y, batch_size, epochs, verbose, callbacks, validation_split, validation_data, shuffle, class_weight, sample_weight, initial_epoch, steps_per_epoch, validation_steps, validation_batch_size, validation_freq, max_queue_size, workers, use_multiprocessing)\u001b[0m\n\u001b[0;32m   1556\u001b[0m \u001b[39mwith\u001b[39;00m tf\u001b[39m.\u001b[39mprofiler\u001b[39m.\u001b[39mexperimental\u001b[39m.\u001b[39mTrace(\n\u001b[0;32m   1557\u001b[0m     \u001b[39m\"\u001b[39m\u001b[39mtrain\u001b[39m\u001b[39m\"\u001b[39m,\n\u001b[0;32m   1558\u001b[0m     epoch_num\u001b[39m=\u001b[39mepoch,\n\u001b[1;32m   (...)\u001b[0m\n\u001b[0;32m   1561\u001b[0m     _r\u001b[39m=\u001b[39m\u001b[39m1\u001b[39m,\n\u001b[0;32m   1562\u001b[0m ):\n\u001b[0;32m   1563\u001b[0m     callbacks\u001b[39m.\u001b[39mon_train_batch_begin(step)\n\u001b[1;32m-> 1564\u001b[0m     tmp_logs \u001b[39m=\u001b[39m \u001b[39mself\u001b[39;49m\u001b[39m.\u001b[39;49mtrain_function(iterator)\n\u001b[0;32m   1565\u001b[0m     \u001b[39mif\u001b[39;00m data_handler\u001b[39m.\u001b[39mshould_sync:\n\u001b[0;32m   1566\u001b[0m         context\u001b[39m.\u001b[39masync_wait()\n",
            "File \u001b[1;32mc:\\Users\\Johannes\\miniconda3\\envs\\Quant\\lib\\site-packages\\tensorflow\\python\\util\\traceback_utils.py:150\u001b[0m, in \u001b[0;36mfilter_traceback.<locals>.error_handler\u001b[1;34m(*args, **kwargs)\u001b[0m\n\u001b[0;32m    148\u001b[0m filtered_tb \u001b[39m=\u001b[39m \u001b[39mNone\u001b[39;00m\n\u001b[0;32m    149\u001b[0m \u001b[39mtry\u001b[39;00m:\n\u001b[1;32m--> 150\u001b[0m   \u001b[39mreturn\u001b[39;00m fn(\u001b[39m*\u001b[39margs, \u001b[39m*\u001b[39m\u001b[39m*\u001b[39mkwargs)\n\u001b[0;32m    151\u001b[0m \u001b[39mexcept\u001b[39;00m \u001b[39mException\u001b[39;00m \u001b[39mas\u001b[39;00m e:\n\u001b[0;32m    152\u001b[0m   filtered_tb \u001b[39m=\u001b[39m _process_traceback_frames(e\u001b[39m.\u001b[39m__traceback__)\n",
            "File \u001b[1;32mc:\\Users\\Johannes\\miniconda3\\envs\\Quant\\lib\\site-packages\\tensorflow\\python\\eager\\def_function.py:915\u001b[0m, in \u001b[0;36mFunction.__call__\u001b[1;34m(self, *args, **kwds)\u001b[0m\n\u001b[0;32m    912\u001b[0m compiler \u001b[39m=\u001b[39m \u001b[39m\"\u001b[39m\u001b[39mxla\u001b[39m\u001b[39m\"\u001b[39m \u001b[39mif\u001b[39;00m \u001b[39mself\u001b[39m\u001b[39m.\u001b[39m_jit_compile \u001b[39melse\u001b[39;00m \u001b[39m\"\u001b[39m\u001b[39mnonXla\u001b[39m\u001b[39m\"\u001b[39m\n\u001b[0;32m    914\u001b[0m \u001b[39mwith\u001b[39;00m OptionalXlaContext(\u001b[39mself\u001b[39m\u001b[39m.\u001b[39m_jit_compile):\n\u001b[1;32m--> 915\u001b[0m   result \u001b[39m=\u001b[39m \u001b[39mself\u001b[39m\u001b[39m.\u001b[39m_call(\u001b[39m*\u001b[39margs, \u001b[39m*\u001b[39m\u001b[39m*\u001b[39mkwds)\n\u001b[0;32m    917\u001b[0m new_tracing_count \u001b[39m=\u001b[39m \u001b[39mself\u001b[39m\u001b[39m.\u001b[39mexperimental_get_tracing_count()\n\u001b[0;32m    918\u001b[0m without_tracing \u001b[39m=\u001b[39m (tracing_count \u001b[39m==\u001b[39m new_tracing_count)\n",
            "File \u001b[1;32mc:\\Users\\Johannes\\miniconda3\\envs\\Quant\\lib\\site-packages\\tensorflow\\python\\eager\\def_function.py:947\u001b[0m, in \u001b[0;36mFunction._call\u001b[1;34m(self, *args, **kwds)\u001b[0m\n\u001b[0;32m    944\u001b[0m   \u001b[39mself\u001b[39m\u001b[39m.\u001b[39m_lock\u001b[39m.\u001b[39mrelease()\n\u001b[0;32m    945\u001b[0m   \u001b[39m# In this case we have created variables on the first call, so we run the\u001b[39;00m\n\u001b[0;32m    946\u001b[0m   \u001b[39m# defunned version which is guaranteed to never create variables.\u001b[39;00m\n\u001b[1;32m--> 947\u001b[0m   \u001b[39mreturn\u001b[39;00m \u001b[39mself\u001b[39m\u001b[39m.\u001b[39m_stateless_fn(\u001b[39m*\u001b[39margs, \u001b[39m*\u001b[39m\u001b[39m*\u001b[39mkwds)  \u001b[39m# pylint: disable=not-callable\u001b[39;00m\n\u001b[0;32m    948\u001b[0m \u001b[39melif\u001b[39;00m \u001b[39mself\u001b[39m\u001b[39m.\u001b[39m_stateful_fn \u001b[39mis\u001b[39;00m \u001b[39mnot\u001b[39;00m \u001b[39mNone\u001b[39;00m:\n\u001b[0;32m    949\u001b[0m   \u001b[39m# Release the lock early so that multiple threads can perform the call\u001b[39;00m\n\u001b[0;32m    950\u001b[0m   \u001b[39m# in parallel.\u001b[39;00m\n\u001b[0;32m    951\u001b[0m   \u001b[39mself\u001b[39m\u001b[39m.\u001b[39m_lock\u001b[39m.\u001b[39mrelease()\n",
            "File \u001b[1;32mc:\\Users\\Johannes\\miniconda3\\envs\\Quant\\lib\\site-packages\\tensorflow\\python\\eager\\function.py:2496\u001b[0m, in \u001b[0;36mFunction.__call__\u001b[1;34m(self, *args, **kwargs)\u001b[0m\n\u001b[0;32m   2493\u001b[0m \u001b[39mwith\u001b[39;00m \u001b[39mself\u001b[39m\u001b[39m.\u001b[39m_lock:\n\u001b[0;32m   2494\u001b[0m   (graph_function,\n\u001b[0;32m   2495\u001b[0m    filtered_flat_args) \u001b[39m=\u001b[39m \u001b[39mself\u001b[39m\u001b[39m.\u001b[39m_maybe_define_function(args, kwargs)\n\u001b[1;32m-> 2496\u001b[0m \u001b[39mreturn\u001b[39;00m graph_function\u001b[39m.\u001b[39;49m_call_flat(\n\u001b[0;32m   2497\u001b[0m     filtered_flat_args, captured_inputs\u001b[39m=\u001b[39;49mgraph_function\u001b[39m.\u001b[39;49mcaptured_inputs)\n",
            "File \u001b[1;32mc:\\Users\\Johannes\\miniconda3\\envs\\Quant\\lib\\site-packages\\tensorflow\\python\\eager\\function.py:1862\u001b[0m, in \u001b[0;36mConcreteFunction._call_flat\u001b[1;34m(self, args, captured_inputs, cancellation_manager)\u001b[0m\n\u001b[0;32m   1858\u001b[0m possible_gradient_type \u001b[39m=\u001b[39m gradients_util\u001b[39m.\u001b[39mPossibleTapeGradientTypes(args)\n\u001b[0;32m   1859\u001b[0m \u001b[39mif\u001b[39;00m (possible_gradient_type \u001b[39m==\u001b[39m gradients_util\u001b[39m.\u001b[39mPOSSIBLE_GRADIENT_TYPES_NONE\n\u001b[0;32m   1860\u001b[0m     \u001b[39mand\u001b[39;00m executing_eagerly):\n\u001b[0;32m   1861\u001b[0m   \u001b[39m# No tape is watching; skip to running the function.\u001b[39;00m\n\u001b[1;32m-> 1862\u001b[0m   \u001b[39mreturn\u001b[39;00m \u001b[39mself\u001b[39m\u001b[39m.\u001b[39m_build_call_outputs(\u001b[39mself\u001b[39;49m\u001b[39m.\u001b[39;49m_inference_function\u001b[39m.\u001b[39;49mcall(\n\u001b[0;32m   1863\u001b[0m       ctx, args, cancellation_manager\u001b[39m=\u001b[39;49mcancellation_manager))\n\u001b[0;32m   1864\u001b[0m forward_backward \u001b[39m=\u001b[39m \u001b[39mself\u001b[39m\u001b[39m.\u001b[39m_select_forward_and_backward_functions(\n\u001b[0;32m   1865\u001b[0m     args,\n\u001b[0;32m   1866\u001b[0m     possible_gradient_type,\n\u001b[0;32m   1867\u001b[0m     executing_eagerly)\n\u001b[0;32m   1868\u001b[0m forward_function, args_with_tangents \u001b[39m=\u001b[39m forward_backward\u001b[39m.\u001b[39mforward()\n",
            "File \u001b[1;32mc:\\Users\\Johannes\\miniconda3\\envs\\Quant\\lib\\site-packages\\tensorflow\\python\\eager\\function.py:499\u001b[0m, in \u001b[0;36m_EagerDefinedFunction.call\u001b[1;34m(self, ctx, args, cancellation_manager)\u001b[0m\n\u001b[0;32m    497\u001b[0m \u001b[39mwith\u001b[39;00m _InterpolateFunctionError(\u001b[39mself\u001b[39m):\n\u001b[0;32m    498\u001b[0m   \u001b[39mif\u001b[39;00m cancellation_manager \u001b[39mis\u001b[39;00m \u001b[39mNone\u001b[39;00m:\n\u001b[1;32m--> 499\u001b[0m     outputs \u001b[39m=\u001b[39m execute\u001b[39m.\u001b[39;49mexecute(\n\u001b[0;32m    500\u001b[0m         \u001b[39mstr\u001b[39;49m(\u001b[39mself\u001b[39;49m\u001b[39m.\u001b[39;49msignature\u001b[39m.\u001b[39;49mname),\n\u001b[0;32m    501\u001b[0m         num_outputs\u001b[39m=\u001b[39;49m\u001b[39mself\u001b[39;49m\u001b[39m.\u001b[39;49m_num_outputs,\n\u001b[0;32m    502\u001b[0m         inputs\u001b[39m=\u001b[39;49margs,\n\u001b[0;32m    503\u001b[0m         attrs\u001b[39m=\u001b[39;49mattrs,\n\u001b[0;32m    504\u001b[0m         ctx\u001b[39m=\u001b[39;49mctx)\n\u001b[0;32m    505\u001b[0m   \u001b[39melse\u001b[39;00m:\n\u001b[0;32m    506\u001b[0m     outputs \u001b[39m=\u001b[39m execute\u001b[39m.\u001b[39mexecute_with_cancellation(\n\u001b[0;32m    507\u001b[0m         \u001b[39mstr\u001b[39m(\u001b[39mself\u001b[39m\u001b[39m.\u001b[39msignature\u001b[39m.\u001b[39mname),\n\u001b[0;32m    508\u001b[0m         num_outputs\u001b[39m=\u001b[39m\u001b[39mself\u001b[39m\u001b[39m.\u001b[39m_num_outputs,\n\u001b[1;32m   (...)\u001b[0m\n\u001b[0;32m    511\u001b[0m         ctx\u001b[39m=\u001b[39mctx,\n\u001b[0;32m    512\u001b[0m         cancellation_manager\u001b[39m=\u001b[39mcancellation_manager)\n",
            "File \u001b[1;32mc:\\Users\\Johannes\\miniconda3\\envs\\Quant\\lib\\site-packages\\tensorflow\\python\\eager\\execute.py:54\u001b[0m, in \u001b[0;36mquick_execute\u001b[1;34m(op_name, num_outputs, inputs, attrs, ctx, name)\u001b[0m\n\u001b[0;32m     52\u001b[0m \u001b[39mtry\u001b[39;00m:\n\u001b[0;32m     53\u001b[0m   ctx\u001b[39m.\u001b[39mensure_initialized()\n\u001b[1;32m---> 54\u001b[0m   tensors \u001b[39m=\u001b[39m pywrap_tfe\u001b[39m.\u001b[39;49mTFE_Py_Execute(ctx\u001b[39m.\u001b[39;49m_handle, device_name, op_name,\n\u001b[0;32m     55\u001b[0m                                       inputs, attrs, num_outputs)\n\u001b[0;32m     56\u001b[0m \u001b[39mexcept\u001b[39;00m core\u001b[39m.\u001b[39m_NotOkStatusException \u001b[39mas\u001b[39;00m e:\n\u001b[0;32m     57\u001b[0m   \u001b[39mif\u001b[39;00m name \u001b[39mis\u001b[39;00m \u001b[39mnot\u001b[39;00m \u001b[39mNone\u001b[39;00m:\n",
            "\u001b[1;31mKeyboardInterrupt\u001b[0m: "
          ]
        }
      ],
      "source": [
        "import tensorflow as tf\n",
        "from tensorflow.keras.models import Sequential\n",
        "from tensorflow.keras.layers import Dense, Dropout, LSTM, BatchNormalization\n",
        "from tensorflow.keras.callbacks import ModelCheckpoint, TensorBoard\n",
        "import os\n",
        "from tqdm.keras import TqdmCallback\n",
        "import datetime\n",
        "from tensorflow.keras.layers import Bidirectional\n",
        "from tensorflow.keras import regularizers\n",
        "import json\n",
        "# model\n",
        "model = Sequential()\n",
        "\n",
        "for _ in range(layers-1):\n",
        "  model.add(Bidirectional(LSTM(nodes, \n",
        "               activation=\"tanh\", \n",
        "               recurrent_activation = 'sigmoid', \n",
        "               recurrent_dropout = rec_dropout, \n",
        "               unroll = False, \n",
        "               use_bias = True, \n",
        "               input_shape=(train_x.shape[1:]), \n",
        "               return_sequences=True,\n",
        "               kernel_regularizer=regularizers.l1_l2(l1=l1l2_reg/10, l2=l1l2_reg),\n",
        "               #bias_regularizer=regularizers.l2(l1l2_reg),\n",
        "               activity_regularizer=regularizers.l2(l1l2_reg)\n",
        "               )))\n",
        "  model.add(Dropout(dropOut))\n",
        "  #model.add(BatchNormalization())\n",
        "\n",
        "model.add(Bidirectional(LSTM(nodes, \n",
        "             activation=\"tanh\", \n",
        "             recurrent_activation = 'sigmoid', \n",
        "             recurrent_dropout = rec_dropout, \n",
        "             unroll = False, \n",
        "             use_bias = True, \n",
        "             input_shape=(train_x.shape[1:]),\n",
        "             kernel_regularizer=regularizers.l1_l2(l1=l1l2_reg/10, l2=l1l2_reg),\n",
        "             #bias_regularizer=regularizers.l2(l1l2_reg),\n",
        "             activity_regularizer=regularizers.l2(l1l2_reg)\n",
        "             )))\n",
        "model.add(Dropout(dropOut))\n",
        "#model.add(BatchNormalization())\n",
        "\n",
        "model.add(Dense(denseNodes, \n",
        "                activation=\"relu\",\n",
        "                kernel_regularizer=regularizers.l1_l2(l1=l1l2_reg/10, l2=l1l2_reg),\n",
        "                #bias_regularizer=regularizers.l2(l1l2_reg), \n",
        "                activity_regularizer=regularizers.l2(l1l2_reg)))\n",
        "model.add(Dropout(dropOut))\n",
        "\n",
        "model.add(Dense(3, activation=\"softmax\"))\n",
        "\n",
        "\n",
        "\n",
        "# opt  \n",
        "opt = tf.keras.optimizers.Adam(lr=learningRate) # decay?\n",
        "\n",
        "\n",
        "model.compile(loss=\"sparse_categorical_crossentropy\",\n",
        "              optimizer = opt,\n",
        "              metrics=[\"accuracy\"])\n",
        "\n",
        "\n",
        "filename = \"\" + NAME + \"-{epoch:02d}\"\n",
        "filepath = f\"models/{filename}.h5\"\n",
        "checkpoint = ModelCheckpoint(filepath, monitor='val_loss', verbose=0, save_best_only=False, save_weights_only=False, mode='auto', period=1) # saves every epoch\n",
        "\n",
        "# Prepare TensorBoard callback\n",
        "log_dir = \"../logs/fit/\" + f\"{NAME}\" + datetime.datetime.now().strftime(\"%Y%m%d-%H%M%S\")\n",
        "tensorboard_callback = TensorBoard(log_dir=log_dir, histogram_freq=1)\n",
        "\n",
        "\n",
        "# store hyper-parameters\n",
        "# Path to the JSON file\n",
        "file_path = \"models/hps/hps.json\"\n",
        "# Load the JSON file into a dictionary\n",
        "with open(file_path, \"r\") as json_file:\n",
        "    data = json.load(json_file)\n",
        "# Add a new key-value pair to the dictionary\n",
        "data[f\"{NAME}\" + datetime.datetime.now().strftime(\"%Y%m%d-%H%M%S\")] = hp_suffix\n",
        "# Write the updated dictionary back to the file\n",
        "with open(file_path, \"w\") as json_file:\n",
        "    json.dump(data, json_file, indent=4)\n",
        "\n",
        "\n",
        "\n",
        "\n",
        "# train\n",
        "history = model.fit(\n",
        "  train_x, train_y,\n",
        "  batch_size = batchSize,\n",
        "  epochs = EPOCHS,\n",
        "  validation_data=(validation_x, validation_y),\n",
        "  callbacks=[checkpoint, TqdmCallback(verbose=0), tensorboard_callback])\n",
        "  #callbacks=[checkpoint])"
      ]
    }
  ],
  "metadata": {
    "accelerator": "GPU",
    "colab": {
      "collapsed_sections": [],
      "machine_shape": "hm",
      "name": "modelTrainPreClassified.ipynb",
      "provenance": []
    },
    "kernelspec": {
      "display_name": "Python 3",
      "name": "python3"
    },
    "language_info": {
      "codemirror_mode": {
        "name": "ipython",
        "version": 3
      },
      "file_extension": ".py",
      "mimetype": "text/x-python",
      "name": "python",
      "nbconvert_exporter": "python",
      "pygments_lexer": "ipython3",
      "version": "3.10.12"
    }
  },
  "nbformat": 4,
  "nbformat_minor": 0
}
