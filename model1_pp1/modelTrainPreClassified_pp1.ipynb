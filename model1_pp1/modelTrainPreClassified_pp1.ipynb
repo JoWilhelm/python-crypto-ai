{
  "cells": [
    {
      "attachments": {},
      "cell_type": "markdown",
      "metadata": {
        "id": "M7KYj8EtoPxZ"
      },
      "source": [
        "# Constants:"
      ]
    },
    {
      "cell_type": "code",
      "execution_count": 1,
      "metadata": {
        "id": "ZsusFSopoVfn"
      },
      "outputs": [],
      "source": [
        "SEQ_LEN = 180 #240   # how many past candles to use to predict\n",
        "CANDLES_SHIFT = 2 #5 # how many candles to shift between sequences\n",
        "NAME = \"pp1_m5_ov40th004p_shift2_seq180\"\n",
        "VALIDATION_PCT = 0.2"
      ]
    },
    {
      "attachments": {},
      "cell_type": "markdown",
      "metadata": {
        "id": "oSqPTNz-m5fo"
      },
      "source": [
        "# Functions:"
      ]
    },
    {
      "attachments": {},
      "cell_type": "markdown",
      "metadata": {
        "id": "1V8NN17CqWGA"
      },
      "source": [
        "sequence split"
      ]
    },
    {
      "cell_type": "code",
      "execution_count": 2,
      "metadata": {},
      "outputs": [],
      "source": [
        "import numpy as np\n",
        "\n",
        "def splitDf_new(df):\n",
        "    \n",
        "    res = []\n",
        "    print(\"\")\n",
        "    print(\"splitDf\")\n",
        "    while len(df) >= SEQ_LEN:\n",
        "        first = df.head(SEQ_LEN).copy()\n",
        "        first.index = np.arange(0, len(first))\n",
        "        res.append(first)\n",
        "        df = df.tail(len(df) - CANDLES_SHIFT)\n",
        "        df.index = np.arange(0, len(df))\n",
        "\n",
        "    print(\"-done\")\n",
        "    print(\"\")\n",
        "    return res"
      ]
    },
    {
      "attachments": {},
      "cell_type": "markdown",
      "metadata": {
        "id": "v84s4MzlrJex"
      },
      "source": [
        "balance"
      ]
    },
    {
      "cell_type": "code",
      "execution_count": 3,
      "metadata": {
        "id": "Hddt3uD8rLYE"
      },
      "outputs": [],
      "source": [
        "def balance(dfs):\n",
        "    \n",
        "    buys = []\n",
        "    sells = []\n",
        "    holds = []\n",
        "    for df in dfs:\n",
        "        if df.at[len(df)-1, 'target'] == 0:\n",
        "            sells.append(df)\n",
        "        elif df.at[len(df)-1, 'target'] == 1:\n",
        "            buys.append(df)\n",
        "        else:\n",
        "          holds.append(df)\n",
        "\n",
        "    print(\"before balancing:\")\n",
        "    print(\"buys:\", len(buys), \", sells:\", len(sells), \", holds:\", len(holds))\n",
        "\n",
        "    smallest = min(len(buys), len(sells), len(holds))\n",
        "    buys = buys[:smallest]\n",
        "    sells = sells[:smallest]\n",
        "    holds = holds[:smallest]\n",
        "\n",
        "    dfsBalanced = buys+sells+holds\n",
        "    return dfsBalanced"
      ]
    },
    {
      "attachments": {},
      "cell_type": "markdown",
      "metadata": {
        "id": "puLrLHQCr2IF"
      },
      "source": [
        "preprocessing"
      ]
    },
    {
      "cell_type": "code",
      "execution_count": 4,
      "metadata": {},
      "outputs": [],
      "source": [
        "from sklearn.preprocessing import StandardScaler\n",
        "\n",
        "# Function to preprocess data\n",
        "def preprocess1_train(df):\n",
        "    # before sequencing\n",
        "    #\n",
        "    # pct.change transform price columns ('low', 'high', 'open', 'close')\n",
        "    # scale every colum (center mean and unit variance)\n",
        "\n",
        "    scaler_dict = {}\n",
        "    for col in df.columns:\n",
        "        if col != 'target':\n",
        "            if col != 'quantity_baseUnits' and col != 'hl_percent':\n",
        "                df[col] = df[col].pct_change()\n",
        "                df.dropna(inplace=True)\n",
        "            scaler = StandardScaler()\n",
        "            df[col] = scaler.fit_transform(df[col].values.reshape(-1, 1))\n",
        "            scaler_dict[col] = scaler\n",
        "    df.index = np.arange(0, len(df))\n",
        "    return df, scaler_dict\n",
        "\n",
        "# Function to apply saved preprocessing to new data\n",
        "def apply_preprocess1_val(df, scaler_dict):\n",
        "    # before sequencing\n",
        "    #\n",
        "    # pct.change transform price columns ('low', 'high', 'open', 'close')\n",
        "    # scale every colum (center mean and unit variance)\n",
        "    \n",
        "    for col in df.columns:\n",
        "        if col != 'target':\n",
        "            if col != 'quantity_baseUnits' and col != 'hl_percent':\n",
        "                df[col] = df[col].pct_change()\n",
        "                df.dropna(inplace=True)\n",
        "            scaler = scaler_dict[col]\n",
        "            df[col] = scaler.transform(df[col].values.reshape(-1, 1))\n",
        "    df.index = np.arange(0, len(df))\n",
        "    return df"
      ]
    },
    {
      "attachments": {},
      "cell_type": "markdown",
      "metadata": {
        "id": "Mtk_1EDotEdd"
      },
      "source": [
        "sequences"
      ]
    },
    {
      "cell_type": "code",
      "execution_count": 5,
      "metadata": {
        "id": "U4r2br77tGf-"
      },
      "outputs": [],
      "source": [
        "def buildSequences(dfs):\n",
        "    \n",
        "    sequences = []\n",
        "    for df in dfs:\n",
        "        if(len(df) == SEQ_LEN):\n",
        "            label = df.at[SEQ_LEN-1, 'target']\n",
        "            df = df.iloc[:, :-1]\n",
        "            dfArray = df.values.tolist()\n",
        "            sequences.append([np.array(dfArray), label])\n",
        "    \n",
        "    return sequences"
      ]
    },
    {
      "attachments": {},
      "cell_type": "markdown",
      "metadata": {
        "id": "Dd640LH1tix2"
      },
      "source": [
        "X y split"
      ]
    },
    {
      "cell_type": "code",
      "execution_count": 6,
      "metadata": {
        "id": "4-HIbtKAtj-0"
      },
      "outputs": [],
      "source": [
        "def xySplit(seqWithTarget):\n",
        "\n",
        "    X = []\n",
        "    y = []\n",
        "    for seq, target in seqWithTarget:\n",
        "        X.append(seq)\n",
        "        y.append(target)\n",
        "\n",
        "    return np.array(X),np.array(y)"
      ]
    },
    {
      "attachments": {},
      "cell_type": "markdown",
      "metadata": {
        "id": "bBfc_4lKnYpv"
      },
      "source": [
        "# DF manipulation, build training sets:"
      ]
    },
    {
      "cell_type": "code",
      "execution_count": 7,
      "metadata": {},
      "outputs": [
        {
          "data": {
            "text/html": [
              "<div>\n",
              "<style scoped>\n",
              "    .dataframe tbody tr th:only-of-type {\n",
              "        vertical-align: middle;\n",
              "    }\n",
              "\n",
              "    .dataframe tbody tr th {\n",
              "        vertical-align: top;\n",
              "    }\n",
              "\n",
              "    .dataframe thead th {\n",
              "        text-align: right;\n",
              "    }\n",
              "</style>\n",
              "<table border=\"1\" class=\"dataframe\">\n",
              "  <thead>\n",
              "    <tr style=\"text-align: right;\">\n",
              "      <th></th>\n",
              "      <th>close</th>\n",
              "      <th>hl_percent</th>\n",
              "      <th>quantity_baseUnits</th>\n",
              "      <th>target</th>\n",
              "    </tr>\n",
              "  </thead>\n",
              "  <tbody>\n",
              "    <tr>\n",
              "      <th>0</th>\n",
              "      <td>681.84</td>\n",
              "      <td>0.005617</td>\n",
              "      <td>0.488352</td>\n",
              "      <td>0</td>\n",
              "    </tr>\n",
              "    <tr>\n",
              "      <th>1</th>\n",
              "      <td>683.40</td>\n",
              "      <td>0.007915</td>\n",
              "      <td>0.239165</td>\n",
              "      <td>0</td>\n",
              "    </tr>\n",
              "    <tr>\n",
              "      <th>2</th>\n",
              "      <td>681.95</td>\n",
              "      <td>0.002078</td>\n",
              "      <td>0.103008</td>\n",
              "      <td>0</td>\n",
              "    </tr>\n",
              "    <tr>\n",
              "      <th>3</th>\n",
              "      <td>678.86</td>\n",
              "      <td>0.008804</td>\n",
              "      <td>9.084392</td>\n",
              "      <td>0</td>\n",
              "    </tr>\n",
              "    <tr>\n",
              "      <th>4</th>\n",
              "      <td>684.39</td>\n",
              "      <td>0.000497</td>\n",
              "      <td>0.236453</td>\n",
              "      <td>0</td>\n",
              "    </tr>\n",
              "    <tr>\n",
              "      <th>...</th>\n",
              "      <td>...</td>\n",
              "      <td>...</td>\n",
              "      <td>...</td>\n",
              "      <td>...</td>\n",
              "    </tr>\n",
              "    <tr>\n",
              "      <th>736051</th>\n",
              "      <td>30408.88</td>\n",
              "      <td>0.000332</td>\n",
              "      <td>0.091832</td>\n",
              "      <td>0</td>\n",
              "    </tr>\n",
              "    <tr>\n",
              "      <th>736052</th>\n",
              "      <td>30413.16</td>\n",
              "      <td>0.000211</td>\n",
              "      <td>0.128622</td>\n",
              "      <td>0</td>\n",
              "    </tr>\n",
              "    <tr>\n",
              "      <th>736053</th>\n",
              "      <td>30414.06</td>\n",
              "      <td>0.000341</td>\n",
              "      <td>0.090499</td>\n",
              "      <td>0</td>\n",
              "    </tr>\n",
              "    <tr>\n",
              "      <th>736054</th>\n",
              "      <td>30426.45</td>\n",
              "      <td>0.000526</td>\n",
              "      <td>0.205135</td>\n",
              "      <td>0</td>\n",
              "    </tr>\n",
              "    <tr>\n",
              "      <th>736055</th>\n",
              "      <td>30439.96</td>\n",
              "      <td>0.000705</td>\n",
              "      <td>0.094435</td>\n",
              "      <td>0</td>\n",
              "    </tr>\n",
              "  </tbody>\n",
              "</table>\n",
              "<p>736056 rows × 4 columns</p>\n",
              "</div>"
            ],
            "text/plain": [
              "           close  hl_percent  quantity_baseUnits  target\n",
              "0         681.84    0.005617            0.488352       0\n",
              "1         683.40    0.007915            0.239165       0\n",
              "2         681.95    0.002078            0.103008       0\n",
              "3         678.86    0.008804            9.084392       0\n",
              "4         684.39    0.000497            0.236453       0\n",
              "...          ...         ...                 ...     ...\n",
              "736051  30408.88    0.000332            0.091832       0\n",
              "736052  30413.16    0.000211            0.128622       0\n",
              "736053  30414.06    0.000341            0.090499       0\n",
              "736054  30426.45    0.000526            0.205135       0\n",
              "736055  30439.96    0.000705            0.094435       0\n",
              "\n",
              "[736056 rows x 4 columns]"
            ]
          },
          "execution_count": 7,
          "metadata": {},
          "output_type": "execute_result"
        }
      ],
      "source": [
        "import pandas as pd\n",
        "df = pd.read_csv(\"../historicalData/labeled/HistoricalDataLabeled_BTC_USDT_01072016_01072023_MINUTE_5_ov40_th004p.csv\")\n",
        "df = df[['close', 'hl_percent', 'quantity_baseUnits', 'target']]\n",
        "df"
      ]
    },
    {
      "cell_type": "code",
      "execution_count": 8,
      "metadata": {},
      "outputs": [],
      "source": [
        "# Split data into train and validation sets\n",
        "train_size = int((1-VALIDATION_PCT) * len(df))\n",
        "train_df = df.iloc[:train_size].copy()\n",
        "val_df = df.iloc[train_size:].copy()"
      ]
    },
    {
      "cell_type": "code",
      "execution_count": 9,
      "metadata": {},
      "outputs": [],
      "source": [
        "# Preprocess the training data and save the scaling parameters\n",
        "train_df, scaler_dict = preprocess1_train(train_df)\n",
        "# Apply saved preprocessing to validation data\n",
        "val_df = apply_preprocess1_val(val_df, scaler_dict)"
      ]
    },
    {
      "attachments": {},
      "cell_type": "markdown",
      "metadata": {
        "id": "9h5xSZxbqNsz"
      },
      "source": [
        "split into dfs with SEQ_LEN rows"
      ]
    },
    {
      "cell_type": "code",
      "execution_count": 10,
      "metadata": {
        "colab": {
          "base_uri": "https://localhost:8080/"
        },
        "id": "31jTXjddn04r",
        "outputId": "125ce716-fa5f-4839-fabe-15765768da3e"
      },
      "outputs": [
        {
          "name": "stdout",
          "output_type": "stream",
          "text": [
            "\n",
            "splitDf\n",
            "-done\n",
            "\n",
            "\n",
            "splitDf\n",
            "-done\n",
            "\n"
          ]
        }
      ],
      "source": [
        "train_dfs = splitDf_new(train_df)\n",
        "val_dfs = splitDf_new(val_df)"
      ]
    },
    {
      "attachments": {},
      "cell_type": "markdown",
      "metadata": {
        "id": "Lo4KSJOxrAN0"
      },
      "source": [
        "balance buys/sells/holds"
      ]
    },
    {
      "cell_type": "code",
      "execution_count": 11,
      "metadata": {},
      "outputs": [
        {
          "name": "stdout",
          "output_type": "stream",
          "text": [
            "before balancing:\n",
            "buys: 104438 , sells: 101495 , holds: 88399\n",
            "before balancing:\n",
            "buys: 24698 , sells: 24908 , holds: 23910\n"
          ]
        }
      ],
      "source": [
        "# balance buys, sells, and holds\n",
        "import random\n",
        "\n",
        "random.shuffle(train_dfs)\n",
        "random.shuffle(val_dfs)\n",
        "train_dfs = balance(train_dfs)\n",
        "val_dfs = balance(val_dfs)\n",
        "random.shuffle(train_dfs)\n",
        "random.shuffle(val_dfs)"
      ]
    },
    {
      "attachments": {},
      "cell_type": "markdown",
      "metadata": {
        "id": "JleCIrlUs98K"
      },
      "source": [
        "build sequences"
      ]
    },
    {
      "cell_type": "code",
      "execution_count": 12,
      "metadata": {
        "colab": {
          "background_save": true
        },
        "id": "GToeQJ4Us_ll"
      },
      "outputs": [],
      "source": [
        "sequencesTraining = buildSequences(train_dfs)\n",
        "sequencesValidation = buildSequences(val_dfs)\n",
        "random.shuffle(sequencesTraining)\n",
        "random.shuffle(sequencesValidation)"
      ]
    },
    {
      "attachments": {},
      "cell_type": "markdown",
      "metadata": {
        "id": "G-ygYD9gtbMx"
      },
      "source": [
        "split sequence from label"
      ]
    },
    {
      "cell_type": "code",
      "execution_count": 13,
      "metadata": {
        "colab": {
          "background_save": true
        },
        "id": "3Cnkgt0utXt1"
      },
      "outputs": [],
      "source": [
        "train_x, train_y = xySplit(sequencesTraining)\n",
        "validation_x, validation_y = xySplit(sequencesValidation)"
      ]
    },
    {
      "cell_type": "code",
      "execution_count": 14,
      "metadata": {},
      "outputs": [
        {
          "name": "stdout",
          "output_type": "stream",
          "text": [
            "<class 'numpy.ndarray'>\n",
            "(265197, 180, 3)\n",
            "<class 'numpy.ndarray'>\n",
            "(71730, 180, 3)\n"
          ]
        }
      ],
      "source": [
        "print(type(train_x))\n",
        "print(train_x.shape)\n",
        "print(type(validation_x))\n",
        "print(validation_x.shape)"
      ]
    },
    {
      "cell_type": "code",
      "execution_count": 15,
      "metadata": {},
      "outputs": [],
      "source": [
        "import pickle\n",
        "\n",
        "with open(f'../trainData/{NAME}_train_x.pkl', 'wb') as file:\n",
        "    pickle.dump(train_x, file)\n",
        "with open(f'../trainData/{NAME}_train_y.pkl', 'wb') as file:\n",
        "    pickle.dump(train_y, file)\n",
        "with open(f'../trainData/{NAME}_validation_x.pkl', 'wb') as file:\n",
        "    pickle.dump(validation_x, file)\n",
        "with open(f'../trainData/{NAME}_validation_y.pkl', 'wb') as file:\n",
        "    pickle.dump(validation_y, file)"
      ]
    },
    {
      "cell_type": "code",
      "execution_count": 3,
      "metadata": {},
      "outputs": [],
      "source": [
        "import pickle\n",
        "\n",
        "with open(f\"../trainData/{NAME}_train_x.pkl\", \"rb\") as file:\n",
        "    train_x = pickle.load(file)\n",
        "with open(f\"../trainData/{NAME}_train_y.pkl\", \"rb\") as file:\n",
        "    train_y = pickle.load(file)\n",
        "with open(f\"../trainData/{NAME}_validation_x.pkl\", \"rb\") as file:\n",
        "    validation_x = pickle.load(file)\n",
        "with open(f\"../trainData/{NAME}_validation_y.pkl\", \"rb\") as file:\n",
        "    validation_y = pickle.load(file)"
      ]
    },
    {
      "attachments": {},
      "cell_type": "markdown",
      "metadata": {
        "id": "LXt32q1Tt39k"
      },
      "source": [
        "# Model:"
      ]
    },
    {
      "cell_type": "code",
      "execution_count": 16,
      "metadata": {},
      "outputs": [
        {
          "name": "stdout",
          "output_type": "stream",
          "text": [
            "Num GPUs Available:  1\n"
          ]
        }
      ],
      "source": [
        "import tensorflow as tf\n",
        "print(\"Num GPUs Available: \", len(tf.config.experimental.list_physical_devices('GPU')))\n"
      ]
    },
    {
      "attachments": {},
      "cell_type": "markdown",
      "metadata": {
        "id": "QNzTVj7Ue8Vg"
      },
      "source": [
        "hyper parameters bounds"
      ]
    },
    {
      "cell_type": "code",
      "execution_count": 4,
      "metadata": {
        "colab": {
          "background_save": true
        },
        "id": "mXBNmip7e7or"
      },
      "outputs": [],
      "source": [
        "EPOCHS = 60\n",
        "\n",
        "batchSize = 96\n",
        "layers = 2\n",
        "nodes = 256\n",
        "denseNodes = 128\n",
        "\n",
        "dropOut = 0.8 #0.92 #0.88\n",
        "rec_dropout = 0\n",
        "l1l2_reg = 0 #1e-5#1e-3\n",
        "\n",
        "learningRate = 0.00001\n",
        "decay = 0\n",
        "\n",
        "hp_suffix = f\"bs({batchSize})_layers({layers})_noded({nodes})_dNodes({denseNodes})_do({int(dropOut*100)}%)_recdo({rec_dropout})_l1l2({l1l2_reg})_lr({learningRate})_decay({decay})\""
      ]
    },
    {
      "cell_type": "code",
      "execution_count": 5,
      "metadata": {
        "id": "XYo0LRjEg2m4"
      },
      "outputs": [
        {
          "name": "stderr",
          "output_type": "stream",
          "text": [
            "c:\\Users\\Johannes\\miniconda3\\envs\\Quant\\lib\\site-packages\\tqdm\\auto.py:21: TqdmWarning: IProgress not found. Please update jupyter and ipywidgets. See https://ipywidgets.readthedocs.io/en/stable/user_install.html\n",
            "  from .autonotebook import tqdm as notebook_tqdm\n"
          ]
        },
        {
          "name": "stdout",
          "output_type": "stream",
          "text": [
            "WARNING:tensorflow:`period` argument is deprecated. Please use `save_freq` to specify the frequency in number of batches seen.\n"
          ]
        },
        {
          "name": "stderr",
          "output_type": "stream",
          "text": [
            "c:\\Users\\Johannes\\miniconda3\\envs\\Quant\\lib\\site-packages\\keras\\optimizers\\optimizer_v2\\adam.py:114: UserWarning: The `lr` argument is deprecated, use `learning_rate` instead.\n",
            "  super().__init__(name, **kwargs)\n",
            "  0%|          | 0/60 [00:00<?, ?epoch/s]"
          ]
        },
        {
          "name": "stdout",
          "output_type": "stream",
          "text": [
            "Epoch 1/60\n",
            "2761/2763 [============================>.] - ETA: 0s - loss: 1.0956 - accuracy: 0.3648"
          ]
        },
        {
          "name": "stderr",
          "output_type": "stream",
          "text": [
            "  2%|▏         | 1/60 [01:05<1:04:26, 65.53s/epoch, loss=1.1, accuracy=0.365, val_loss=1.07, val_accuracy=0.462]"
          ]
        },
        {
          "name": "stdout",
          "output_type": "stream",
          "text": [
            "2763/2763 [==============================] - 66s 23ms/step - loss: 1.0956 - accuracy: 0.3648 - val_loss: 1.0666 - val_accuracy: 0.4623\n",
            "Epoch 2/60\n",
            "2761/2763 [============================>.] - ETA: 0s - loss: 1.0642 - accuracy: 0.4156"
          ]
        },
        {
          "name": "stderr",
          "output_type": "stream",
          "text": [
            "  3%|▎         | 2/60 [02:06<1:00:56, 63.05s/epoch, loss=1.06, accuracy=0.416, val_loss=1.04, val_accuracy=0.465]"
          ]
        },
        {
          "name": "stdout",
          "output_type": "stream",
          "text": [
            "2763/2763 [==============================] - 61s 22ms/step - loss: 1.0642 - accuracy: 0.4155 - val_loss: 1.0449 - val_accuracy: 0.4646\n",
            "Epoch 3/60\n",
            "2761/2763 [============================>.] - ETA: 0s - loss: 1.0528 - accuracy: 0.4265"
          ]
        },
        {
          "name": "stderr",
          "output_type": "stream",
          "text": [
            "  5%|▌         | 3/60 [03:08<59:10, 62.29s/epoch, loss=1.05, accuracy=0.427, val_loss=1.04, val_accuracy=0.461]  "
          ]
        },
        {
          "name": "stdout",
          "output_type": "stream",
          "text": [
            "2763/2763 [==============================] - 61s 22ms/step - loss: 1.0528 - accuracy: 0.4265 - val_loss: 1.0366 - val_accuracy: 0.4613\n",
            "Epoch 4/60\n",
            "2762/2763 [============================>.] - ETA: 0s - loss: 1.0467 - accuracy: 0.4370"
          ]
        },
        {
          "name": "stderr",
          "output_type": "stream",
          "text": [
            "  7%|▋         | 4/60 [04:09<57:47, 61.92s/epoch, loss=1.05, accuracy=0.437, val_loss=1.03, val_accuracy=0.474]"
          ]
        },
        {
          "name": "stdout",
          "output_type": "stream",
          "text": [
            "2763/2763 [==============================] - 61s 22ms/step - loss: 1.0467 - accuracy: 0.4370 - val_loss: 1.0313 - val_accuracy: 0.4737\n",
            "Epoch 5/60\n",
            "2761/2763 [============================>.] - ETA: 0s - loss: 1.0413 - accuracy: 0.4429"
          ]
        },
        {
          "name": "stderr",
          "output_type": "stream",
          "text": [
            "  8%|▊         | 5/60 [05:10<56:34, 61.72s/epoch, loss=1.04, accuracy=0.443, val_loss=1.03, val_accuracy=0.468]"
          ]
        },
        {
          "name": "stdout",
          "output_type": "stream",
          "text": [
            "2763/2763 [==============================] - 61s 22ms/step - loss: 1.0413 - accuracy: 0.4429 - val_loss: 1.0270 - val_accuracy: 0.4680\n",
            "Epoch 6/60\n",
            "2763/2763 [==============================] - ETA: 0s - loss: 1.0369 - accuracy: 0.4489"
          ]
        },
        {
          "name": "stderr",
          "output_type": "stream",
          "text": [
            " 10%|█         | 6/60 [06:12<55:25, 61.58s/epoch, loss=1.04, accuracy=0.449, val_loss=1.02, val_accuracy=0.478]"
          ]
        },
        {
          "name": "stdout",
          "output_type": "stream",
          "text": [
            "2763/2763 [==============================] - 61s 22ms/step - loss: 1.0369 - accuracy: 0.4489 - val_loss: 1.0227 - val_accuracy: 0.4781\n",
            "Epoch 7/60\n",
            "2763/2763 [==============================] - ETA: 0s - loss: 1.0329 - accuracy: 0.4533"
          ]
        },
        {
          "name": "stderr",
          "output_type": "stream",
          "text": [
            " 12%|█▏        | 7/60 [07:13<54:18, 61.48s/epoch, loss=1.03, accuracy=0.453, val_loss=1.02, val_accuracy=0.478]"
          ]
        },
        {
          "name": "stdout",
          "output_type": "stream",
          "text": [
            "2763/2763 [==============================] - 61s 22ms/step - loss: 1.0329 - accuracy: 0.4533 - val_loss: 1.0190 - val_accuracy: 0.4785\n",
            "Epoch 8/60\n",
            "2762/2763 [============================>.] - ETA: 0s - loss: 1.0296 - accuracy: 0.4556"
          ]
        },
        {
          "name": "stderr",
          "output_type": "stream",
          "text": [
            " 13%|█▎        | 8/60 [08:14<53:13, 61.41s/epoch, loss=1.03, accuracy=0.456, val_loss=1.02, val_accuracy=0.479]"
          ]
        },
        {
          "name": "stdout",
          "output_type": "stream",
          "text": [
            "2763/2763 [==============================] - 61s 22ms/step - loss: 1.0297 - accuracy: 0.4556 - val_loss: 1.0171 - val_accuracy: 0.4795\n",
            "Epoch 9/60\n",
            "2762/2763 [============================>.] - ETA: 0s - loss: 1.0275 - accuracy: 0.4591"
          ]
        },
        {
          "name": "stderr",
          "output_type": "stream",
          "text": [
            " 15%|█▌        | 9/60 [09:16<52:10, 61.39s/epoch, loss=1.03, accuracy=0.459, val_loss=1.01, val_accuracy=0.48] "
          ]
        },
        {
          "name": "stdout",
          "output_type": "stream",
          "text": [
            "2763/2763 [==============================] - 61s 22ms/step - loss: 1.0275 - accuracy: 0.4591 - val_loss: 1.0147 - val_accuracy: 0.4796\n",
            "Epoch 10/60\n",
            "2763/2763 [==============================] - ETA: 0s - loss: 1.0242 - accuracy: 0.4614"
          ]
        },
        {
          "name": "stderr",
          "output_type": "stream",
          "text": [
            " 17%|█▋        | 10/60 [10:17<51:09, 61.39s/epoch, loss=1.02, accuracy=0.461, val_loss=1.01, val_accuracy=0.48]"
          ]
        },
        {
          "name": "stdout",
          "output_type": "stream",
          "text": [
            "2763/2763 [==============================] - 61s 22ms/step - loss: 1.0242 - accuracy: 0.4614 - val_loss: 1.0129 - val_accuracy: 0.4799\n",
            "Epoch 11/60\n",
            "2762/2763 [============================>.] - ETA: 0s - loss: 1.0227 - accuracy: 0.4628"
          ]
        },
        {
          "name": "stderr",
          "output_type": "stream",
          "text": [
            " 18%|█▊        | 11/60 [11:19<50:12, 61.48s/epoch, loss=1.02, accuracy=0.463, val_loss=1.01, val_accuracy=0.481]"
          ]
        },
        {
          "name": "stdout",
          "output_type": "stream",
          "text": [
            "2763/2763 [==============================] - 62s 22ms/step - loss: 1.0227 - accuracy: 0.4628 - val_loss: 1.0118 - val_accuracy: 0.4805\n",
            "Epoch 12/60\n",
            "2762/2763 [============================>.] - ETA: 0s - loss: 1.0210 - accuracy: 0.4649"
          ]
        },
        {
          "name": "stderr",
          "output_type": "stream",
          "text": [
            " 20%|██        | 12/60 [12:24<50:11, 62.74s/epoch, loss=1.02, accuracy=0.465, val_loss=1.01, val_accuracy=0.482]"
          ]
        },
        {
          "name": "stdout",
          "output_type": "stream",
          "text": [
            "2763/2763 [==============================] - 66s 24ms/step - loss: 1.0210 - accuracy: 0.4649 - val_loss: 1.0105 - val_accuracy: 0.4822\n",
            "Epoch 13/60\n",
            "2763/2763 [==============================] - ETA: 0s - loss: 1.0192 - accuracy: 0.4660"
          ]
        },
        {
          "name": "stderr",
          "output_type": "stream",
          "text": [
            " 22%|██▏       | 13/60 [13:26<48:49, 62.34s/epoch, loss=1.02, accuracy=0.466, val_loss=1.01, val_accuracy=0.482]"
          ]
        },
        {
          "name": "stdout",
          "output_type": "stream",
          "text": [
            "2763/2763 [==============================] - 61s 22ms/step - loss: 1.0192 - accuracy: 0.4660 - val_loss: 1.0094 - val_accuracy: 0.4818\n",
            "Epoch 14/60\n",
            "2763/2763 [==============================] - ETA: 0s - loss: 1.0181 - accuracy: 0.4666"
          ]
        },
        {
          "name": "stderr",
          "output_type": "stream",
          "text": [
            " 23%|██▎       | 14/60 [14:27<47:35, 62.08s/epoch, loss=1.02, accuracy=0.467, val_loss=1.01, val_accuracy=0.483]"
          ]
        },
        {
          "name": "stdout",
          "output_type": "stream",
          "text": [
            "2763/2763 [==============================] - 61s 22ms/step - loss: 1.0181 - accuracy: 0.4666 - val_loss: 1.0096 - val_accuracy: 0.4829\n",
            "Epoch 15/60\n",
            "2761/2763 [============================>.] - ETA: 0s - loss: 1.0176 - accuracy: 0.4672"
          ]
        },
        {
          "name": "stderr",
          "output_type": "stream",
          "text": [
            " 25%|██▌       | 15/60 [15:28<46:22, 61.83s/epoch, loss=1.02, accuracy=0.467, val_loss=1.01, val_accuracy=0.483]"
          ]
        },
        {
          "name": "stdout",
          "output_type": "stream",
          "text": [
            "2763/2763 [==============================] - 61s 22ms/step - loss: 1.0176 - accuracy: 0.4672 - val_loss: 1.0089 - val_accuracy: 0.4832\n",
            "Epoch 16/60\n",
            "2763/2763 [==============================] - ETA: 0s - loss: 1.0163 - accuracy: 0.4689"
          ]
        },
        {
          "name": "stderr",
          "output_type": "stream",
          "text": [
            " 27%|██▋       | 16/60 [16:29<45:02, 61.43s/epoch, loss=1.02, accuracy=0.469, val_loss=1.01, val_accuracy=0.481]"
          ]
        },
        {
          "name": "stdout",
          "output_type": "stream",
          "text": [
            "2763/2763 [==============================] - 60s 22ms/step - loss: 1.0163 - accuracy: 0.4689 - val_loss: 1.0074 - val_accuracy: 0.4815\n",
            "Epoch 17/60\n",
            "2761/2763 [============================>.] - ETA: 0s - loss: 1.0149 - accuracy: 0.4697"
          ]
        },
        {
          "name": "stderr",
          "output_type": "stream",
          "text": [
            " 28%|██▊       | 17/60 [17:28<43:33, 60.77s/epoch, loss=1.01, accuracy=0.47, val_loss=1.01, val_accuracy=0.482] "
          ]
        },
        {
          "name": "stdout",
          "output_type": "stream",
          "text": [
            "2763/2763 [==============================] - 59s 21ms/step - loss: 1.0149 - accuracy: 0.4698 - val_loss: 1.0075 - val_accuracy: 0.4821\n",
            "Epoch 18/60\n",
            "2763/2763 [==============================] - ETA: 0s - loss: 1.0145 - accuracy: 0.4696"
          ]
        },
        {
          "name": "stderr",
          "output_type": "stream",
          "text": [
            " 30%|███       | 18/60 [18:27<42:12, 60.29s/epoch, loss=1.01, accuracy=0.47, val_loss=1.01, val_accuracy=0.484]"
          ]
        },
        {
          "name": "stdout",
          "output_type": "stream",
          "text": [
            "2763/2763 [==============================] - 59s 21ms/step - loss: 1.0145 - accuracy: 0.4696 - val_loss: 1.0069 - val_accuracy: 0.4842\n",
            "Epoch 19/60\n",
            "2762/2763 [============================>.] - ETA: 0s - loss: 1.0132 - accuracy: 0.4706"
          ]
        },
        {
          "name": "stderr",
          "output_type": "stream",
          "text": [
            " 32%|███▏      | 19/60 [19:27<41:00, 60.02s/epoch, loss=1.01, accuracy=0.471, val_loss=1.01, val_accuracy=0.485]"
          ]
        },
        {
          "name": "stdout",
          "output_type": "stream",
          "text": [
            "2763/2763 [==============================] - 59s 21ms/step - loss: 1.0132 - accuracy: 0.4706 - val_loss: 1.0060 - val_accuracy: 0.4851\n",
            "Epoch 20/60\n",
            "2762/2763 [============================>.] - ETA: 0s - loss: 1.0125 - accuracy: 0.4712"
          ]
        },
        {
          "name": "stderr",
          "output_type": "stream",
          "text": [
            " 33%|███▎      | 20/60 [20:26<39:51, 59.78s/epoch, loss=1.01, accuracy=0.471, val_loss=1.01, val_accuracy=0.485]"
          ]
        },
        {
          "name": "stdout",
          "output_type": "stream",
          "text": [
            "2763/2763 [==============================] - 59s 21ms/step - loss: 1.0125 - accuracy: 0.4712 - val_loss: 1.0061 - val_accuracy: 0.4850\n",
            "Epoch 21/60\n",
            "2761/2763 [============================>.] - ETA: 0s - loss: 1.0119 - accuracy: 0.4726"
          ]
        },
        {
          "name": "stderr",
          "output_type": "stream",
          "text": [
            " 35%|███▌      | 21/60 [21:25<38:45, 59.64s/epoch, loss=1.01, accuracy=0.473, val_loss=1.01, val_accuracy=0.485]"
          ]
        },
        {
          "name": "stdout",
          "output_type": "stream",
          "text": [
            "2763/2763 [==============================] - 59s 21ms/step - loss: 1.0119 - accuracy: 0.4726 - val_loss: 1.0057 - val_accuracy: 0.4853\n",
            "Epoch 22/60\n",
            "2762/2763 [============================>.] - ETA: 0s - loss: 1.0109 - accuracy: 0.4729"
          ]
        },
        {
          "name": "stderr",
          "output_type": "stream",
          "text": [
            " 37%|███▋      | 22/60 [22:25<37:42, 59.53s/epoch, loss=1.01, accuracy=0.473, val_loss=1.01, val_accuracy=0.486]"
          ]
        },
        {
          "name": "stdout",
          "output_type": "stream",
          "text": [
            "2763/2763 [==============================] - 59s 21ms/step - loss: 1.0109 - accuracy: 0.4728 - val_loss: 1.0058 - val_accuracy: 0.4856\n",
            "Epoch 23/60\n",
            "2761/2763 [============================>.] - ETA: 0s - loss: 1.0102 - accuracy: 0.4729"
          ]
        },
        {
          "name": "stderr",
          "output_type": "stream",
          "text": [
            " 38%|███▊      | 23/60 [23:24<36:40, 59.47s/epoch, loss=1.01, accuracy=0.473, val_loss=1.01, val_accuracy=0.484]"
          ]
        },
        {
          "name": "stdout",
          "output_type": "stream",
          "text": [
            "2763/2763 [==============================] - 59s 21ms/step - loss: 1.0102 - accuracy: 0.4729 - val_loss: 1.0052 - val_accuracy: 0.4837\n",
            "Epoch 24/60\n",
            "2761/2763 [============================>.] - ETA: 0s - loss: 1.0102 - accuracy: 0.4735"
          ]
        },
        {
          "name": "stderr",
          "output_type": "stream",
          "text": [
            " 40%|████      | 24/60 [24:23<35:37, 59.38s/epoch, loss=1.01, accuracy=0.474, val_loss=1, val_accuracy=0.484]   "
          ]
        },
        {
          "name": "stdout",
          "output_type": "stream",
          "text": [
            "2763/2763 [==============================] - 59s 21ms/step - loss: 1.0102 - accuracy: 0.4735 - val_loss: 1.0043 - val_accuracy: 0.4844\n",
            "Epoch 25/60\n",
            "2762/2763 [============================>.] - ETA: 0s - loss: 1.0097 - accuracy: 0.4740"
          ]
        },
        {
          "name": "stderr",
          "output_type": "stream",
          "text": [
            " 42%|████▏     | 25/60 [25:23<34:39, 59.41s/epoch, loss=1.01, accuracy=0.474, val_loss=1.01, val_accuracy=0.484]"
          ]
        },
        {
          "name": "stdout",
          "output_type": "stream",
          "text": [
            "2763/2763 [==============================] - 59s 22ms/step - loss: 1.0097 - accuracy: 0.4740 - val_loss: 1.0060 - val_accuracy: 0.4836\n",
            "Epoch 26/60\n",
            "2762/2763 [============================>.] - ETA: 0s - loss: 1.0095 - accuracy: 0.4738"
          ]
        },
        {
          "name": "stderr",
          "output_type": "stream",
          "text": [
            " 43%|████▎     | 26/60 [26:22<33:39, 59.41s/epoch, loss=1.01, accuracy=0.474, val_loss=1.01, val_accuracy=0.486]"
          ]
        },
        {
          "name": "stdout",
          "output_type": "stream",
          "text": [
            "2763/2763 [==============================] - 59s 21ms/step - loss: 1.0094 - accuracy: 0.4738 - val_loss: 1.0051 - val_accuracy: 0.4864\n",
            "Epoch 27/60\n",
            "2763/2763 [==============================] - ETA: 0s - loss: 1.0087 - accuracy: 0.4749"
          ]
        },
        {
          "name": "stderr",
          "output_type": "stream",
          "text": [
            " 45%|████▌     | 27/60 [27:21<32:40, 59.40s/epoch, loss=1.01, accuracy=0.475, val_loss=1, val_accuracy=0.484]   "
          ]
        },
        {
          "name": "stdout",
          "output_type": "stream",
          "text": [
            "2763/2763 [==============================] - 59s 21ms/step - loss: 1.0087 - accuracy: 0.4749 - val_loss: 1.0042 - val_accuracy: 0.4838\n",
            "Epoch 28/60\n",
            "2761/2763 [============================>.] - ETA: 0s - loss: 1.0075 - accuracy: 0.4747"
          ]
        },
        {
          "name": "stderr",
          "output_type": "stream",
          "text": [
            " 47%|████▋     | 28/60 [28:21<31:38, 59.33s/epoch, loss=1.01, accuracy=0.475, val_loss=1, val_accuracy=0.486]"
          ]
        },
        {
          "name": "stdout",
          "output_type": "stream",
          "text": [
            "2763/2763 [==============================] - 59s 21ms/step - loss: 1.0075 - accuracy: 0.4747 - val_loss: 1.0035 - val_accuracy: 0.4859\n",
            "Epoch 29/60\n",
            "2761/2763 [============================>.] - ETA: 0s - loss: 1.0069 - accuracy: 0.4761"
          ]
        },
        {
          "name": "stderr",
          "output_type": "stream",
          "text": [
            " 48%|████▊     | 29/60 [29:20<30:36, 59.25s/epoch, loss=1.01, accuracy=0.476, val_loss=1, val_accuracy=0.485]"
          ]
        },
        {
          "name": "stdout",
          "output_type": "stream",
          "text": [
            "2763/2763 [==============================] - 59s 21ms/step - loss: 1.0069 - accuracy: 0.4761 - val_loss: 1.0047 - val_accuracy: 0.4849\n",
            "Epoch 30/60\n",
            "2761/2763 [============================>.] - ETA: 0s - loss: 1.0062 - accuracy: 0.4767"
          ]
        },
        {
          "name": "stderr",
          "output_type": "stream",
          "text": [
            " 50%|█████     | 30/60 [30:19<29:36, 59.20s/epoch, loss=1.01, accuracy=0.477, val_loss=1, val_accuracy=0.482]"
          ]
        },
        {
          "name": "stdout",
          "output_type": "stream",
          "text": [
            "2763/2763 [==============================] - 59s 21ms/step - loss: 1.0062 - accuracy: 0.4766 - val_loss: 1.0041 - val_accuracy: 0.4816\n",
            "Epoch 31/60\n",
            "2763/2763 [==============================] - ETA: 0s - loss: 1.0064 - accuracy: 0.4773"
          ]
        },
        {
          "name": "stderr",
          "output_type": "stream",
          "text": [
            " 52%|█████▏    | 31/60 [31:18<28:36, 59.18s/epoch, loss=1.01, accuracy=0.477, val_loss=1, val_accuracy=0.486]"
          ]
        },
        {
          "name": "stdout",
          "output_type": "stream",
          "text": [
            "2763/2763 [==============================] - 59s 21ms/step - loss: 1.0064 - accuracy: 0.4773 - val_loss: 1.0029 - val_accuracy: 0.4862\n",
            "Epoch 32/60\n",
            "2763/2763 [==============================] - ETA: 0s - loss: 1.0059 - accuracy: 0.4771"
          ]
        },
        {
          "name": "stderr",
          "output_type": "stream",
          "text": [
            " 53%|█████▎    | 32/60 [32:17<27:36, 59.16s/epoch, loss=1.01, accuracy=0.477, val_loss=1.01, val_accuracy=0.484]"
          ]
        },
        {
          "name": "stdout",
          "output_type": "stream",
          "text": [
            "2763/2763 [==============================] - 59s 21ms/step - loss: 1.0059 - accuracy: 0.4771 - val_loss: 1.0058 - val_accuracy: 0.4836\n",
            "Epoch 33/60\n",
            "2761/2763 [============================>.] - ETA: 0s - loss: 1.0052 - accuracy: 0.4790"
          ]
        },
        {
          "name": "stderr",
          "output_type": "stream",
          "text": [
            " 55%|█████▌    | 33/60 [33:16<26:37, 59.17s/epoch, loss=1.01, accuracy=0.479, val_loss=1, val_accuracy=0.485]   "
          ]
        },
        {
          "name": "stdout",
          "output_type": "stream",
          "text": [
            "2763/2763 [==============================] - 59s 21ms/step - loss: 1.0052 - accuracy: 0.4791 - val_loss: 1.0042 - val_accuracy: 0.4846\n",
            "Epoch 34/60\n",
            "2761/2763 [============================>.] - ETA: 0s - loss: 1.0042 - accuracy: 0.4779"
          ]
        },
        {
          "name": "stderr",
          "output_type": "stream",
          "text": [
            " 57%|█████▋    | 34/60 [34:15<25:38, 59.16s/epoch, loss=1, accuracy=0.478, val_loss=1, val_accuracy=0.485]   "
          ]
        },
        {
          "name": "stdout",
          "output_type": "stream",
          "text": [
            "2763/2763 [==============================] - 59s 21ms/step - loss: 1.0042 - accuracy: 0.4779 - val_loss: 1.0030 - val_accuracy: 0.4851\n",
            "Epoch 35/60\n",
            "2761/2763 [============================>.] - ETA: 0s - loss: 1.0046 - accuracy: 0.4780"
          ]
        },
        {
          "name": "stderr",
          "output_type": "stream",
          "text": [
            " 58%|█████▊    | 35/60 [35:14<24:38, 59.13s/epoch, loss=1, accuracy=0.478, val_loss=1, val_accuracy=0.484]"
          ]
        },
        {
          "name": "stdout",
          "output_type": "stream",
          "text": [
            "2763/2763 [==============================] - 59s 21ms/step - loss: 1.0046 - accuracy: 0.4780 - val_loss: 1.0034 - val_accuracy: 0.4836\n",
            "Epoch 36/60\n",
            "2763/2763 [==============================] - ETA: 0s - loss: 1.0037 - accuracy: 0.4790"
          ]
        },
        {
          "name": "stderr",
          "output_type": "stream",
          "text": [
            " 60%|██████    | 36/60 [36:14<23:40, 59.17s/epoch, loss=1, accuracy=0.479, val_loss=1.01, val_accuracy=0.484]"
          ]
        },
        {
          "name": "stdout",
          "output_type": "stream",
          "text": [
            "2763/2763 [==============================] - 59s 21ms/step - loss: 1.0037 - accuracy: 0.4790 - val_loss: 1.0053 - val_accuracy: 0.4844\n",
            "Epoch 37/60\n",
            "2762/2763 [============================>.] - ETA: 0s - loss: 1.0026 - accuracy: 0.4782"
          ]
        },
        {
          "name": "stderr",
          "output_type": "stream",
          "text": [
            " 62%|██████▏   | 37/60 [37:13<22:41, 59.18s/epoch, loss=1, accuracy=0.478, val_loss=1, val_accuracy=0.485]   "
          ]
        },
        {
          "name": "stdout",
          "output_type": "stream",
          "text": [
            "2763/2763 [==============================] - 59s 21ms/step - loss: 1.0026 - accuracy: 0.4782 - val_loss: 1.0041 - val_accuracy: 0.4849\n",
            "Epoch 38/60\n",
            "2762/2763 [============================>.] - ETA: 0s - loss: 1.0032 - accuracy: 0.4789"
          ]
        },
        {
          "name": "stderr",
          "output_type": "stream",
          "text": [
            " 63%|██████▎   | 38/60 [38:12<21:41, 59.15s/epoch, loss=1, accuracy=0.479, val_loss=1, val_accuracy=0.486]"
          ]
        },
        {
          "name": "stdout",
          "output_type": "stream",
          "text": [
            "2763/2763 [==============================] - 59s 21ms/step - loss: 1.0031 - accuracy: 0.4789 - val_loss: 1.0030 - val_accuracy: 0.4862\n",
            "Epoch 39/60\n",
            "2763/2763 [==============================] - ETA: 0s - loss: 1.0023 - accuracy: 0.4791"
          ]
        },
        {
          "name": "stderr",
          "output_type": "stream",
          "text": [
            " 65%|██████▌   | 39/60 [39:11<20:41, 59.14s/epoch, loss=1, accuracy=0.479, val_loss=1, val_accuracy=0.486]"
          ]
        },
        {
          "name": "stdout",
          "output_type": "stream",
          "text": [
            "2763/2763 [==============================] - 59s 21ms/step - loss: 1.0023 - accuracy: 0.4791 - val_loss: 1.0032 - val_accuracy: 0.4863\n",
            "Epoch 40/60\n",
            "2762/2763 [============================>.] - ETA: 0s - loss: 1.0030 - accuracy: 0.4790"
          ]
        },
        {
          "name": "stderr",
          "output_type": "stream",
          "text": [
            " 67%|██████▋   | 40/60 [40:10<19:43, 59.16s/epoch, loss=1, accuracy=0.479, val_loss=1.01, val_accuracy=0.485]"
          ]
        },
        {
          "name": "stdout",
          "output_type": "stream",
          "text": [
            "2763/2763 [==============================] - 59s 21ms/step - loss: 1.0030 - accuracy: 0.4790 - val_loss: 1.0065 - val_accuracy: 0.4854\n",
            "Epoch 41/60\n",
            "2762/2763 [============================>.] - ETA: 0s - loss: 1.0026 - accuracy: 0.4787"
          ]
        },
        {
          "name": "stderr",
          "output_type": "stream",
          "text": [
            " 68%|██████▊   | 41/60 [41:09<18:44, 59.17s/epoch, loss=1, accuracy=0.479, val_loss=1, val_accuracy=0.486]   "
          ]
        },
        {
          "name": "stdout",
          "output_type": "stream",
          "text": [
            "2763/2763 [==============================] - 59s 21ms/step - loss: 1.0026 - accuracy: 0.4787 - val_loss: 1.0029 - val_accuracy: 0.4860\n",
            "Epoch 42/60\n",
            "2762/2763 [============================>.] - ETA: 0s - loss: 1.0017 - accuracy: 0.4800"
          ]
        },
        {
          "name": "stderr",
          "output_type": "stream",
          "text": [
            " 70%|███████   | 42/60 [42:09<17:45, 59.20s/epoch, loss=1, accuracy=0.48, val_loss=1, val_accuracy=0.487] "
          ]
        },
        {
          "name": "stdout",
          "output_type": "stream",
          "text": [
            "2763/2763 [==============================] - 59s 21ms/step - loss: 1.0018 - accuracy: 0.4799 - val_loss: 1.0039 - val_accuracy: 0.4865\n",
            "Epoch 43/60\n",
            "2762/2763 [============================>.] - ETA: 0s - loss: 1.0019 - accuracy: 0.4794"
          ]
        },
        {
          "name": "stderr",
          "output_type": "stream",
          "text": [
            " 72%|███████▏  | 43/60 [43:08<16:46, 59.20s/epoch, loss=1, accuracy=0.479, val_loss=1, val_accuracy=0.485]"
          ]
        },
        {
          "name": "stdout",
          "output_type": "stream",
          "text": [
            "2763/2763 [==============================] - 59s 21ms/step - loss: 1.0019 - accuracy: 0.4794 - val_loss: 1.0033 - val_accuracy: 0.4854\n",
            "Epoch 44/60\n",
            "2763/2763 [==============================] - ETA: 0s - loss: 1.0016 - accuracy: 0.4794"
          ]
        },
        {
          "name": "stderr",
          "output_type": "stream",
          "text": [
            " 73%|███████▎  | 44/60 [44:07<15:47, 59.22s/epoch, loss=1, accuracy=0.479, val_loss=1, val_accuracy=0.486]"
          ]
        },
        {
          "name": "stdout",
          "output_type": "stream",
          "text": [
            "2763/2763 [==============================] - 59s 21ms/step - loss: 1.0016 - accuracy: 0.4794 - val_loss: 1.0044 - val_accuracy: 0.4864\n",
            "Epoch 45/60\n",
            "2763/2763 [==============================] - ETA: 0s - loss: 1.0006 - accuracy: 0.4792"
          ]
        },
        {
          "name": "stderr",
          "output_type": "stream",
          "text": [
            " 75%|███████▌  | 45/60 [45:06<14:48, 59.23s/epoch, loss=1, accuracy=0.479, val_loss=1.01, val_accuracy=0.485]"
          ]
        },
        {
          "name": "stdout",
          "output_type": "stream",
          "text": [
            "2763/2763 [==============================] - 59s 21ms/step - loss: 1.0006 - accuracy: 0.4792 - val_loss: 1.0057 - val_accuracy: 0.4846\n",
            "Epoch 46/60\n",
            "2761/2763 [============================>.] - ETA: 0s - loss: 1.0008 - accuracy: 0.4809"
          ]
        },
        {
          "name": "stderr",
          "output_type": "stream",
          "text": [
            " 77%|███████▋  | 46/60 [46:06<13:48, 59.21s/epoch, loss=1, accuracy=0.481, val_loss=1.01, val_accuracy=0.486]"
          ]
        },
        {
          "name": "stdout",
          "output_type": "stream",
          "text": [
            "2763/2763 [==============================] - 59s 21ms/step - loss: 1.0008 - accuracy: 0.4810 - val_loss: 1.0054 - val_accuracy: 0.4857\n",
            "Epoch 47/60\n",
            "2761/2763 [============================>.] - ETA: 0s - loss: 1.0004 - accuracy: 0.4799"
          ]
        },
        {
          "name": "stderr",
          "output_type": "stream",
          "text": [
            " 78%|███████▊  | 47/60 [47:05<12:49, 59.21s/epoch, loss=1, accuracy=0.48, val_loss=1, val_accuracy=0.485]    "
          ]
        },
        {
          "name": "stdout",
          "output_type": "stream",
          "text": [
            "2763/2763 [==============================] - 59s 21ms/step - loss: 1.0004 - accuracy: 0.4799 - val_loss: 1.0033 - val_accuracy: 0.4851\n",
            "Epoch 48/60\n",
            "2762/2763 [============================>.] - ETA: 0s - loss: 1.0000 - accuracy: 0.4806"
          ]
        },
        {
          "name": "stderr",
          "output_type": "stream",
          "text": [
            " 80%|████████  | 48/60 [48:04<11:50, 59.21s/epoch, loss=1, accuracy=0.481, val_loss=1, val_accuracy=0.485]"
          ]
        },
        {
          "name": "stdout",
          "output_type": "stream",
          "text": [
            "2763/2763 [==============================] - 59s 21ms/step - loss: 1.0000 - accuracy: 0.4806 - val_loss: 1.0032 - val_accuracy: 0.4845\n",
            "Epoch 49/60\n",
            "2763/2763 [==============================] - ETA: 0s - loss: 1.0003 - accuracy: 0.4806"
          ]
        },
        {
          "name": "stderr",
          "output_type": "stream",
          "text": [
            " 82%|████████▏ | 49/60 [49:03<10:51, 59.23s/epoch, loss=1, accuracy=0.481, val_loss=1, val_accuracy=0.486]"
          ]
        },
        {
          "name": "stdout",
          "output_type": "stream",
          "text": [
            "2763/2763 [==============================] - 59s 21ms/step - loss: 1.0003 - accuracy: 0.4806 - val_loss: 1.0030 - val_accuracy: 0.4862\n",
            "Epoch 50/60\n",
            "2762/2763 [============================>.] - ETA: 0s - loss: 0.9990 - accuracy: 0.4815"
          ]
        },
        {
          "name": "stderr",
          "output_type": "stream",
          "text": [
            " 83%|████████▎ | 50/60 [50:02<09:52, 59.24s/epoch, loss=0.999, accuracy=0.482, val_loss=1, val_accuracy=0.487]"
          ]
        },
        {
          "name": "stdout",
          "output_type": "stream",
          "text": [
            "2763/2763 [==============================] - 59s 21ms/step - loss: 0.9990 - accuracy: 0.4815 - val_loss: 1.0040 - val_accuracy: 0.4867\n",
            "Epoch 51/60\n",
            "2763/2763 [==============================] - ETA: 0s - loss: 0.9989 - accuracy: 0.4811"
          ]
        },
        {
          "name": "stderr",
          "output_type": "stream",
          "text": [
            " 85%|████████▌ | 51/60 [51:02<08:53, 59.26s/epoch, loss=0.999, accuracy=0.481, val_loss=1, val_accuracy=0.487]"
          ]
        },
        {
          "name": "stdout",
          "output_type": "stream",
          "text": [
            "2763/2763 [==============================] - 59s 21ms/step - loss: 0.9989 - accuracy: 0.4811 - val_loss: 1.0037 - val_accuracy: 0.4872\n",
            "Epoch 52/60\n",
            "2763/2763 [==============================] - ETA: 0s - loss: 0.9987 - accuracy: 0.4812"
          ]
        },
        {
          "name": "stderr",
          "output_type": "stream",
          "text": [
            " 87%|████████▋ | 52/60 [52:01<07:53, 59.24s/epoch, loss=0.999, accuracy=0.481, val_loss=1.01, val_accuracy=0.484]"
          ]
        },
        {
          "name": "stdout",
          "output_type": "stream",
          "text": [
            "2763/2763 [==============================] - 59s 21ms/step - loss: 0.9987 - accuracy: 0.4812 - val_loss: 1.0051 - val_accuracy: 0.4845\n",
            "Epoch 53/60\n",
            "2761/2763 [============================>.] - ETA: 0s - loss: 0.9993 - accuracy: 0.4814"
          ]
        },
        {
          "name": "stderr",
          "output_type": "stream",
          "text": [
            " 88%|████████▊ | 53/60 [53:00<06:54, 59.25s/epoch, loss=0.999, accuracy=0.481, val_loss=1, val_accuracy=0.486]   "
          ]
        },
        {
          "name": "stdout",
          "output_type": "stream",
          "text": [
            "2763/2763 [==============================] - 59s 21ms/step - loss: 0.9993 - accuracy: 0.4813 - val_loss: 1.0033 - val_accuracy: 0.4856\n",
            "Epoch 54/60\n",
            "2763/2763 [==============================] - ETA: 0s - loss: 0.9985 - accuracy: 0.4814"
          ]
        },
        {
          "name": "stderr",
          "output_type": "stream",
          "text": [
            " 90%|█████████ | 54/60 [54:00<05:55, 59.25s/epoch, loss=0.998, accuracy=0.481, val_loss=1, val_accuracy=0.486]"
          ]
        },
        {
          "name": "stdout",
          "output_type": "stream",
          "text": [
            "2763/2763 [==============================] - 59s 21ms/step - loss: 0.9985 - accuracy: 0.4814 - val_loss: 1.0036 - val_accuracy: 0.4864\n",
            "Epoch 55/60\n",
            "2762/2763 [============================>.] - ETA: 0s - loss: 0.9978 - accuracy: 0.4835"
          ]
        },
        {
          "name": "stderr",
          "output_type": "stream",
          "text": [
            " 92%|█████████▏| 55/60 [54:59<04:56, 59.26s/epoch, loss=0.998, accuracy=0.483, val_loss=1, val_accuracy=0.488]"
          ]
        },
        {
          "name": "stdout",
          "output_type": "stream",
          "text": [
            "2763/2763 [==============================] - 59s 21ms/step - loss: 0.9978 - accuracy: 0.4835 - val_loss: 1.0037 - val_accuracy: 0.4884\n",
            "Epoch 56/60\n",
            "2763/2763 [==============================] - ETA: 0s - loss: 0.9984 - accuracy: 0.4820"
          ]
        },
        {
          "name": "stderr",
          "output_type": "stream",
          "text": [
            " 93%|█████████▎| 56/60 [55:58<03:57, 59.26s/epoch, loss=0.998, accuracy=0.482, val_loss=1.01, val_accuracy=0.487]"
          ]
        },
        {
          "name": "stdout",
          "output_type": "stream",
          "text": [
            "2763/2763 [==============================] - 59s 21ms/step - loss: 0.9984 - accuracy: 0.4820 - val_loss: 1.0067 - val_accuracy: 0.4871\n",
            "Epoch 57/60\n",
            "2761/2763 [============================>.] - ETA: 0s - loss: 0.9978 - accuracy: 0.4824"
          ]
        },
        {
          "name": "stderr",
          "output_type": "stream",
          "text": [
            " 95%|█████████▌| 57/60 [56:57<02:57, 59.28s/epoch, loss=0.998, accuracy=0.482, val_loss=1, val_accuracy=0.483]   "
          ]
        },
        {
          "name": "stdout",
          "output_type": "stream",
          "text": [
            "2763/2763 [==============================] - 59s 21ms/step - loss: 0.9978 - accuracy: 0.4824 - val_loss: 1.0037 - val_accuracy: 0.4832\n",
            "Epoch 58/60\n",
            "2761/2763 [============================>.] - ETA: 0s - loss: 0.9978 - accuracy: 0.4820"
          ]
        },
        {
          "name": "stderr",
          "output_type": "stream",
          "text": [
            " 97%|█████████▋| 58/60 [57:57<01:58, 59.31s/epoch, loss=0.998, accuracy=0.482, val_loss=1, val_accuracy=0.487]"
          ]
        },
        {
          "name": "stdout",
          "output_type": "stream",
          "text": [
            "2763/2763 [==============================] - 59s 21ms/step - loss: 0.9978 - accuracy: 0.4820 - val_loss: 1.0025 - val_accuracy: 0.4873\n",
            "Epoch 59/60\n",
            "2762/2763 [============================>.] - ETA: 0s - loss: 0.9977 - accuracy: 0.4819"
          ]
        },
        {
          "name": "stderr",
          "output_type": "stream",
          "text": [
            " 98%|█████████▊| 59/60 [58:56<00:59, 59.27s/epoch, loss=0.998, accuracy=0.482, val_loss=1, val_accuracy=0.485]"
          ]
        },
        {
          "name": "stdout",
          "output_type": "stream",
          "text": [
            "2763/2763 [==============================] - 59s 21ms/step - loss: 0.9977 - accuracy: 0.4819 - val_loss: 1.0046 - val_accuracy: 0.4846\n",
            "Epoch 60/60\n",
            "2761/2763 [============================>.] - ETA: 0s - loss: 0.9974 - accuracy: 0.4823"
          ]
        },
        {
          "name": "stderr",
          "output_type": "stream",
          "text": [
            "100%|██████████| 60/60 [59:55<00:00, 59.22s/epoch, loss=0.997, accuracy=0.482, val_loss=1, val_accuracy=0.486]"
          ]
        },
        {
          "name": "stdout",
          "output_type": "stream",
          "text": [
            "2763/2763 [==============================] - 59s 21ms/step - loss: 0.9975 - accuracy: 0.4823 - val_loss: 1.0025 - val_accuracy: 0.4864\n"
          ]
        },
        {
          "name": "stderr",
          "output_type": "stream",
          "text": [
            "100%|██████████| 60/60 [59:55<00:00, 59.93s/epoch, loss=0.997, accuracy=0.482, val_loss=1, val_accuracy=0.486]\n"
          ]
        }
      ],
      "source": [
        "import tensorflow as tf\n",
        "from tensorflow.keras.models import Sequential\n",
        "from tensorflow.keras.layers import Dense, Dropout, LSTM, BatchNormalization\n",
        "from tensorflow.keras.callbacks import ModelCheckpoint, TensorBoard\n",
        "import os\n",
        "from tqdm.keras import TqdmCallback\n",
        "import datetime\n",
        "from tensorflow.keras.layers import Bidirectional\n",
        "from tensorflow.keras import regularizers\n",
        "import json\n",
        "# model\n",
        "model = Sequential()\n",
        "\n",
        "for _ in range(layers-1):\n",
        "  model.add(LSTM(nodes, \n",
        "               activation=\"tanh\", \n",
        "               recurrent_activation = 'sigmoid', \n",
        "               recurrent_dropout = rec_dropout, \n",
        "               unroll = False, \n",
        "               use_bias = True, \n",
        "               input_shape=(train_x.shape[1:]), \n",
        "               return_sequences=True,\n",
        "               kernel_regularizer=regularizers.l1_l2(l1=l1l2_reg/10, l2=l1l2_reg),\n",
        "               #bias_regularizer=regularizers.l2(l1l2_reg),\n",
        "               activity_regularizer=regularizers.l2(l1l2_reg)\n",
        "               ))\n",
        "  model.add(Dropout(dropOut))\n",
        "  #model.add(BatchNormalization())\n",
        "\n",
        "model.add(LSTM(nodes, \n",
        "             activation=\"tanh\", \n",
        "             recurrent_activation = 'sigmoid', \n",
        "             recurrent_dropout = rec_dropout, \n",
        "             unroll = False, \n",
        "             use_bias = True, \n",
        "             input_shape=(train_x.shape[1:]),\n",
        "             kernel_regularizer=regularizers.l1_l2(l1=l1l2_reg/10, l2=l1l2_reg),\n",
        "             #bias_regularizer=regularizers.l2(l1l2_reg),\n",
        "             activity_regularizer=regularizers.l2(l1l2_reg)\n",
        "             ))\n",
        "model.add(Dropout(dropOut))\n",
        "#model.add(BatchNormalization())\n",
        "\n",
        "model.add(Dense(denseNodes, \n",
        "                activation=\"relu\",\n",
        "                kernel_regularizer=regularizers.l1_l2(l1=l1l2_reg/10, l2=l1l2_reg),\n",
        "                #bias_regularizer=regularizers.l2(l1l2_reg), \n",
        "                activity_regularizer=regularizers.l2(l1l2_reg)))\n",
        "model.add(Dropout(dropOut))\n",
        "\n",
        "model.add(Dense(3, activation=\"softmax\"))\n",
        "\n",
        "\n",
        "\n",
        "# opt  \n",
        "opt = tf.keras.optimizers.Adam(lr=learningRate) # decay?\n",
        "\n",
        "\n",
        "model.compile(loss=\"sparse_categorical_crossentropy\",\n",
        "              optimizer = opt,\n",
        "              metrics=[\"accuracy\"])\n",
        "\n",
        "\n",
        "filename = \"\" + NAME + \"-{epoch:02d}\"\n",
        "filepath = f\"models/{filename}.h5\"\n",
        "checkpoint = ModelCheckpoint(filepath, monitor='val_loss', verbose=0, save_best_only=False, save_weights_only=False, mode='auto', period=1) # saves every epoch\n",
        "\n",
        "# Prepare TensorBoard callback\n",
        "log_dir = \"../logs/fit/\" + f\"{NAME}\" + datetime.datetime.now().strftime(\"%Y%m%d-%H%M%S\")\n",
        "tensorboard_callback = TensorBoard(log_dir=log_dir, histogram_freq=1)\n",
        "\n",
        "\n",
        "# store hyper-parameters\n",
        "# Path to the JSON file\n",
        "file_path = \"models/hps/hps.json\"\n",
        "# Load the JSON file into a dictionary\n",
        "with open(file_path, \"r\") as json_file:\n",
        "    data = json.load(json_file)\n",
        "# Add a new key-value pair to the dictionary\n",
        "data[f\"{NAME}\" + datetime.datetime.now().strftime(\"%Y%m%d-%H%M%S\")] = hp_suffix\n",
        "# Write the updated dictionary back to the file\n",
        "with open(file_path, \"w\") as json_file:\n",
        "    json.dump(data, json_file, indent=4)\n",
        "\n",
        "\n",
        "\n",
        "\n",
        "# train\n",
        "history = model.fit(\n",
        "  train_x, train_y,\n",
        "  batch_size = batchSize,\n",
        "  epochs = EPOCHS,\n",
        "  validation_data=(validation_x, validation_y),\n",
        "  callbacks=[checkpoint, TqdmCallback(verbose=0), tensorboard_callback])\n",
        "  #callbacks=[checkpoint])"
      ]
    }
  ],
  "metadata": {
    "accelerator": "GPU",
    "colab": {
      "collapsed_sections": [],
      "machine_shape": "hm",
      "name": "modelTrainPreClassified.ipynb",
      "provenance": []
    },
    "kernelspec": {
      "display_name": "Python 3",
      "name": "python3"
    },
    "language_info": {
      "codemirror_mode": {
        "name": "ipython",
        "version": 3
      },
      "file_extension": ".py",
      "mimetype": "text/x-python",
      "name": "python",
      "nbconvert_exporter": "python",
      "pygments_lexer": "ipython3",
      "version": "3.10.12"
    }
  },
  "nbformat": 4,
  "nbformat_minor": 0
}
